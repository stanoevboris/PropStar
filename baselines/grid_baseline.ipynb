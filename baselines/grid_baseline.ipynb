{
 "cells": [
  {
   "cell_type": "code",
   "execution_count": 8,
   "id": "12aa2eff-4b2e-48eb-ae00-6d54c200ef86",
   "metadata": {},
   "outputs": [],
   "source": [
    "import numpy as np\n",
    "from sklearn.datasets import make_classification\n",
    "from sklearn.model_selection import GridSearchCV, cross_val_score, StratifiedKFold\n",
    "from sklearn.pipeline import Pipeline\n",
    "from sklearn.preprocessing import StandardScaler\n",
    "from sklearn.ensemble import RandomForestClassifier, ExtraTreesClassifier, AdaBoostClassifier, GradientBoostingClassifier\n",
    "from sklearn.svm import SVC\n",
    "from sklearn.metrics import make_scorer, accuracy_score, precision_score, recall_score, roc_auc_score\n"
   ]
  },
  {
   "cell_type": "code",
   "execution_count": 9,
   "id": "81b00e5f-6f28-4156-86f8-3c80cc7e6854",
   "metadata": {},
   "outputs": [],
   "source": [
    "search_space = [\n",
    "    {\n",
    "        'classifier': [RandomForestClassifier()],\n",
    "        'classifier__n_estimators': [16, 32],\n",
    "        'classifier__max_depth': [None],  # 'null' is equivalent to None in Python\n",
    "        'classifier__min_samples_split': [2],\n",
    "        'classifier__min_samples_leaf': [1],\n",
    "    },\n",
    "    {\n",
    "        'classifier': [ExtraTreesClassifier()],\n",
    "        'classifier__n_estimators': [16, 32],\n",
    "        'classifier__max_depth': [None],\n",
    "        'classifier__min_samples_split': [2],\n",
    "        'classifier__min_samples_leaf': [1],\n",
    "    },\n",
    "    {\n",
    "        'classifier': [AdaBoostClassifier()],\n",
    "        'classifier__n_estimators': [16, 32],\n",
    "        'classifier__learning_rate': [0.01],\n",
    "    },\n",
    "    {\n",
    "        'classifier': [GradientBoostingClassifier()],\n",
    "        'classifier__n_estimators': [16, 32],\n",
    "        'classifier__learning_rate': [0.01, 0.1],\n",
    "        'classifier__max_depth': [5],\n",
    "    }\n",
    "]"
   ]
  },
  {
   "cell_type": "code",
   "execution_count": 10,
   "id": "be3440cf-946e-453c-995e-ec61cc46ae7c",
   "metadata": {},
   "outputs": [],
   "source": [
    "\n",
    "\n",
    "# Example synthetic dataset\n",
    "X, y = make_classification(n_samples=1000, n_features=20, n_informative=2, n_redundant=10, random_state=42)\n",
    "\n",
    "# Define a 10-fold cross-validation split\n",
    "cv = StratifiedKFold(n_splits=10, random_state=42, shuffle=True)\n",
    "\n",
    "# Creating a pipeline with a standard scaler and a placeholder for the classifier\n",
    "pipeline = Pipeline([\n",
    "    ('scaler', StandardScaler()),\n",
    "    ('classifier', SVC())\n",
    "])\n",
    "\n",
    "# Define multiple scoring metrics\n",
    "scoring = {\n",
    "    'accuracy': make_scorer(accuracy_score),\n",
    "    'precision': make_scorer(precision_score),\n",
    "    'recall': make_scorer(recall_score),\n",
    "    'roc_auc_score': make_scorer(roc_auc_score)\n",
    "}\n",
    "\n"
   ]
  },
  {
   "cell_type": "code",
   "execution_count": 11,
   "id": "02acf6ea-a90b-4a17-bb7b-095efc15a8c7",
   "metadata": {},
   "outputs": [
    {
     "name": "stdout",
     "output_type": "stream",
     "text": [
      "Fitting 10 folds for each of 10 candidates, totalling 100 fits\n"
     ]
    },
    {
     "data": {
      "text/html": [
       "<style>#sk-container-id-1 {color: black;background-color: white;}#sk-container-id-1 pre{padding: 0;}#sk-container-id-1 div.sk-toggleable {background-color: white;}#sk-container-id-1 label.sk-toggleable__label {cursor: pointer;display: block;width: 100%;margin-bottom: 0;padding: 0.3em;box-sizing: border-box;text-align: center;}#sk-container-id-1 label.sk-toggleable__label-arrow:before {content: \"▸\";float: left;margin-right: 0.25em;color: #696969;}#sk-container-id-1 label.sk-toggleable__label-arrow:hover:before {color: black;}#sk-container-id-1 div.sk-estimator:hover label.sk-toggleable__label-arrow:before {color: black;}#sk-container-id-1 div.sk-toggleable__content {max-height: 0;max-width: 0;overflow: hidden;text-align: left;background-color: #f0f8ff;}#sk-container-id-1 div.sk-toggleable__content pre {margin: 0.2em;color: black;border-radius: 0.25em;background-color: #f0f8ff;}#sk-container-id-1 input.sk-toggleable__control:checked~div.sk-toggleable__content {max-height: 200px;max-width: 100%;overflow: auto;}#sk-container-id-1 input.sk-toggleable__control:checked~label.sk-toggleable__label-arrow:before {content: \"▾\";}#sk-container-id-1 div.sk-estimator input.sk-toggleable__control:checked~label.sk-toggleable__label {background-color: #d4ebff;}#sk-container-id-1 div.sk-label input.sk-toggleable__control:checked~label.sk-toggleable__label {background-color: #d4ebff;}#sk-container-id-1 input.sk-hidden--visually {border: 0;clip: rect(1px 1px 1px 1px);clip: rect(1px, 1px, 1px, 1px);height: 1px;margin: -1px;overflow: hidden;padding: 0;position: absolute;width: 1px;}#sk-container-id-1 div.sk-estimator {font-family: monospace;background-color: #f0f8ff;border: 1px dotted black;border-radius: 0.25em;box-sizing: border-box;margin-bottom: 0.5em;}#sk-container-id-1 div.sk-estimator:hover {background-color: #d4ebff;}#sk-container-id-1 div.sk-parallel-item::after {content: \"\";width: 100%;border-bottom: 1px solid gray;flex-grow: 1;}#sk-container-id-1 div.sk-label:hover label.sk-toggleable__label {background-color: #d4ebff;}#sk-container-id-1 div.sk-serial::before {content: \"\";position: absolute;border-left: 1px solid gray;box-sizing: border-box;top: 0;bottom: 0;left: 50%;z-index: 0;}#sk-container-id-1 div.sk-serial {display: flex;flex-direction: column;align-items: center;background-color: white;padding-right: 0.2em;padding-left: 0.2em;position: relative;}#sk-container-id-1 div.sk-item {position: relative;z-index: 1;}#sk-container-id-1 div.sk-parallel {display: flex;align-items: stretch;justify-content: center;background-color: white;position: relative;}#sk-container-id-1 div.sk-item::before, #sk-container-id-1 div.sk-parallel-item::before {content: \"\";position: absolute;border-left: 1px solid gray;box-sizing: border-box;top: 0;bottom: 0;left: 50%;z-index: -1;}#sk-container-id-1 div.sk-parallel-item {display: flex;flex-direction: column;z-index: 1;position: relative;background-color: white;}#sk-container-id-1 div.sk-parallel-item:first-child::after {align-self: flex-end;width: 50%;}#sk-container-id-1 div.sk-parallel-item:last-child::after {align-self: flex-start;width: 50%;}#sk-container-id-1 div.sk-parallel-item:only-child::after {width: 0;}#sk-container-id-1 div.sk-dashed-wrapped {border: 1px dashed gray;margin: 0 0.4em 0.5em 0.4em;box-sizing: border-box;padding-bottom: 0.4em;background-color: white;}#sk-container-id-1 div.sk-label label {font-family: monospace;font-weight: bold;display: inline-block;line-height: 1.2em;}#sk-container-id-1 div.sk-label-container {text-align: center;}#sk-container-id-1 div.sk-container {/* jupyter's `normalize.less` sets `[hidden] { display: none; }` but bootstrap.min.css set `[hidden] { display: none !important; }` so we also need the `!important` here to be able to override the default hidden behavior on the sphinx rendered scikit-learn.org. See: https://github.com/scikit-learn/scikit-learn/issues/21755 */display: inline-block !important;position: relative;}#sk-container-id-1 div.sk-text-repr-fallback {display: none;}</style><div id=\"sk-container-id-1\" class=\"sk-top-container\"><div class=\"sk-text-repr-fallback\"><pre>GridSearchCV(cv=KFold(n_splits=10, random_state=42, shuffle=True),\n",
       "             estimator=Pipeline(steps=[(&#x27;scaler&#x27;, StandardScaler()),\n",
       "                                       (&#x27;classifier&#x27;, SVC())]),\n",
       "             n_jobs=-1,\n",
       "             param_grid=[{&#x27;classifier&#x27;: [RandomForestClassifier(n_estimators=16)],\n",
       "                          &#x27;classifier__max_depth&#x27;: [None],\n",
       "                          &#x27;classifier__min_samples_leaf&#x27;: [1],\n",
       "                          &#x27;classifier__min_samples_split&#x27;: [2],\n",
       "                          &#x27;classifier__n_estimators&#x27;: [1...\n",
       "                          &#x27;classifier__n_estimators&#x27;: [16, 32]},\n",
       "                         {&#x27;classifier&#x27;: [GradientBoostingClassifier()],\n",
       "                          &#x27;classifier__learning_rate&#x27;: [0.01, 0.1],\n",
       "                          &#x27;classifier__max_depth&#x27;: [5],\n",
       "                          &#x27;classifier__n_estimators&#x27;: [16, 32]}],\n",
       "             refit=&#x27;roc_auc_score&#x27;,\n",
       "             scoring={&#x27;accuracy&#x27;: make_scorer(accuracy_score),\n",
       "                      &#x27;precision&#x27;: make_scorer(precision_score),\n",
       "                      &#x27;recall&#x27;: make_scorer(recall_score),\n",
       "                      &#x27;roc_auc_score&#x27;: make_scorer(roc_auc_score)},\n",
       "             verbose=1)</pre><b>In a Jupyter environment, please rerun this cell to show the HTML representation or trust the notebook. <br />On GitHub, the HTML representation is unable to render, please try loading this page with nbviewer.org.</b></div><div class=\"sk-container\" hidden><div class=\"sk-item sk-dashed-wrapped\"><div class=\"sk-label-container\"><div class=\"sk-label sk-toggleable\"><input class=\"sk-toggleable__control sk-hidden--visually\" id=\"sk-estimator-id-1\" type=\"checkbox\" ><label for=\"sk-estimator-id-1\" class=\"sk-toggleable__label sk-toggleable__label-arrow\">GridSearchCV</label><div class=\"sk-toggleable__content\"><pre>GridSearchCV(cv=KFold(n_splits=10, random_state=42, shuffle=True),\n",
       "             estimator=Pipeline(steps=[(&#x27;scaler&#x27;, StandardScaler()),\n",
       "                                       (&#x27;classifier&#x27;, SVC())]),\n",
       "             n_jobs=-1,\n",
       "             param_grid=[{&#x27;classifier&#x27;: [RandomForestClassifier(n_estimators=16)],\n",
       "                          &#x27;classifier__max_depth&#x27;: [None],\n",
       "                          &#x27;classifier__min_samples_leaf&#x27;: [1],\n",
       "                          &#x27;classifier__min_samples_split&#x27;: [2],\n",
       "                          &#x27;classifier__n_estimators&#x27;: [1...\n",
       "                          &#x27;classifier__n_estimators&#x27;: [16, 32]},\n",
       "                         {&#x27;classifier&#x27;: [GradientBoostingClassifier()],\n",
       "                          &#x27;classifier__learning_rate&#x27;: [0.01, 0.1],\n",
       "                          &#x27;classifier__max_depth&#x27;: [5],\n",
       "                          &#x27;classifier__n_estimators&#x27;: [16, 32]}],\n",
       "             refit=&#x27;roc_auc_score&#x27;,\n",
       "             scoring={&#x27;accuracy&#x27;: make_scorer(accuracy_score),\n",
       "                      &#x27;precision&#x27;: make_scorer(precision_score),\n",
       "                      &#x27;recall&#x27;: make_scorer(recall_score),\n",
       "                      &#x27;roc_auc_score&#x27;: make_scorer(roc_auc_score)},\n",
       "             verbose=1)</pre></div></div></div><div class=\"sk-parallel\"><div class=\"sk-parallel-item\"><div class=\"sk-item\"><div class=\"sk-label-container\"><div class=\"sk-label sk-toggleable\"><input class=\"sk-toggleable__control sk-hidden--visually\" id=\"sk-estimator-id-2\" type=\"checkbox\" ><label for=\"sk-estimator-id-2\" class=\"sk-toggleable__label sk-toggleable__label-arrow\">estimator: Pipeline</label><div class=\"sk-toggleable__content\"><pre>Pipeline(steps=[(&#x27;scaler&#x27;, StandardScaler()), (&#x27;classifier&#x27;, SVC())])</pre></div></div></div><div class=\"sk-serial\"><div class=\"sk-item\"><div class=\"sk-serial\"><div class=\"sk-item\"><div class=\"sk-estimator sk-toggleable\"><input class=\"sk-toggleable__control sk-hidden--visually\" id=\"sk-estimator-id-3\" type=\"checkbox\" ><label for=\"sk-estimator-id-3\" class=\"sk-toggleable__label sk-toggleable__label-arrow\">StandardScaler</label><div class=\"sk-toggleable__content\"><pre>StandardScaler()</pre></div></div></div><div class=\"sk-item\"><div class=\"sk-estimator sk-toggleable\"><input class=\"sk-toggleable__control sk-hidden--visually\" id=\"sk-estimator-id-4\" type=\"checkbox\" ><label for=\"sk-estimator-id-4\" class=\"sk-toggleable__label sk-toggleable__label-arrow\">SVC</label><div class=\"sk-toggleable__content\"><pre>SVC()</pre></div></div></div></div></div></div></div></div></div></div></div></div>"
      ],
      "text/plain": [
       "GridSearchCV(cv=KFold(n_splits=10, random_state=42, shuffle=True),\n",
       "             estimator=Pipeline(steps=[('scaler', StandardScaler()),\n",
       "                                       ('classifier', SVC())]),\n",
       "             n_jobs=-1,\n",
       "             param_grid=[{'classifier': [RandomForestClassifier(n_estimators=16)],\n",
       "                          'classifier__max_depth': [None],\n",
       "                          'classifier__min_samples_leaf': [1],\n",
       "                          'classifier__min_samples_split': [2],\n",
       "                          'classifier__n_estimators': [1...\n",
       "                          'classifier__n_estimators': [16, 32]},\n",
       "                         {'classifier': [GradientBoostingClassifier()],\n",
       "                          'classifier__learning_rate': [0.01, 0.1],\n",
       "                          'classifier__max_depth': [5],\n",
       "                          'classifier__n_estimators': [16, 32]}],\n",
       "             refit='roc_auc_score',\n",
       "             scoring={'accuracy': make_scorer(accuracy_score),\n",
       "                      'precision': make_scorer(precision_score),\n",
       "                      'recall': make_scorer(recall_score),\n",
       "                      'roc_auc_score': make_scorer(roc_auc_score)},\n",
       "             verbose=1)"
      ]
     },
     "execution_count": 11,
     "metadata": {},
     "output_type": "execute_result"
    }
   ],
   "source": [
    "grid_search = GridSearchCV(pipeline, search_space, cv=cv, verbose=1, n_jobs=-1, scoring=scoring, refit='roc_auc_score')\n",
    "\n",
    "# Execute the grid search\n",
    "grid_search.fit(X, y)"
   ]
  },
  {
   "cell_type": "code",
   "execution_count": 17,
   "id": "65057528-ea47-4ddd-a50c-41624e9a923f",
   "metadata": {},
   "outputs": [
    {
     "name": "stdout",
     "output_type": "stream",
     "text": [
      "Mean accuracy score across the folds: 0.900 (+/- 0.019)\n",
      "Mean precision score across the folds: 0.905 (+/- 0.043)\n",
      "Mean recall score across the folds: 0.896 (+/- 0.042)\n",
      "Mean roc_auc_score score across the folds: 0.901 (+/- 0.019)\n"
     ]
    }
   ],
   "source": [
    "cv_results = grid_search.cv_results_\n",
    "\n",
    "for scorer in scoring:\n",
    "    sample_score_mean = cv_results['mean_test_%s' % (scorer)]\n",
    "    sample_score_std = cv_results['std_test_%s' % (scorer)]\n",
    "    print(f\"Mean {scorer} score across the folds: {sample_score_mean.mean():.3f} (+/- {sample_score_std.mean():.3f})\")"
   ]
  },
  {
   "cell_type": "code",
   "execution_count": 18,
   "id": "9718bc72-0de9-441e-8b33-74c086819a3a",
   "metadata": {},
   "outputs": [
    {
     "data": {
      "text/html": [
       "<style>#sk-container-id-2 {color: black;background-color: white;}#sk-container-id-2 pre{padding: 0;}#sk-container-id-2 div.sk-toggleable {background-color: white;}#sk-container-id-2 label.sk-toggleable__label {cursor: pointer;display: block;width: 100%;margin-bottom: 0;padding: 0.3em;box-sizing: border-box;text-align: center;}#sk-container-id-2 label.sk-toggleable__label-arrow:before {content: \"▸\";float: left;margin-right: 0.25em;color: #696969;}#sk-container-id-2 label.sk-toggleable__label-arrow:hover:before {color: black;}#sk-container-id-2 div.sk-estimator:hover label.sk-toggleable__label-arrow:before {color: black;}#sk-container-id-2 div.sk-toggleable__content {max-height: 0;max-width: 0;overflow: hidden;text-align: left;background-color: #f0f8ff;}#sk-container-id-2 div.sk-toggleable__content pre {margin: 0.2em;color: black;border-radius: 0.25em;background-color: #f0f8ff;}#sk-container-id-2 input.sk-toggleable__control:checked~div.sk-toggleable__content {max-height: 200px;max-width: 100%;overflow: auto;}#sk-container-id-2 input.sk-toggleable__control:checked~label.sk-toggleable__label-arrow:before {content: \"▾\";}#sk-container-id-2 div.sk-estimator input.sk-toggleable__control:checked~label.sk-toggleable__label {background-color: #d4ebff;}#sk-container-id-2 div.sk-label input.sk-toggleable__control:checked~label.sk-toggleable__label {background-color: #d4ebff;}#sk-container-id-2 input.sk-hidden--visually {border: 0;clip: rect(1px 1px 1px 1px);clip: rect(1px, 1px, 1px, 1px);height: 1px;margin: -1px;overflow: hidden;padding: 0;position: absolute;width: 1px;}#sk-container-id-2 div.sk-estimator {font-family: monospace;background-color: #f0f8ff;border: 1px dotted black;border-radius: 0.25em;box-sizing: border-box;margin-bottom: 0.5em;}#sk-container-id-2 div.sk-estimator:hover {background-color: #d4ebff;}#sk-container-id-2 div.sk-parallel-item::after {content: \"\";width: 100%;border-bottom: 1px solid gray;flex-grow: 1;}#sk-container-id-2 div.sk-label:hover label.sk-toggleable__label {background-color: #d4ebff;}#sk-container-id-2 div.sk-serial::before {content: \"\";position: absolute;border-left: 1px solid gray;box-sizing: border-box;top: 0;bottom: 0;left: 50%;z-index: 0;}#sk-container-id-2 div.sk-serial {display: flex;flex-direction: column;align-items: center;background-color: white;padding-right: 0.2em;padding-left: 0.2em;position: relative;}#sk-container-id-2 div.sk-item {position: relative;z-index: 1;}#sk-container-id-2 div.sk-parallel {display: flex;align-items: stretch;justify-content: center;background-color: white;position: relative;}#sk-container-id-2 div.sk-item::before, #sk-container-id-2 div.sk-parallel-item::before {content: \"\";position: absolute;border-left: 1px solid gray;box-sizing: border-box;top: 0;bottom: 0;left: 50%;z-index: -1;}#sk-container-id-2 div.sk-parallel-item {display: flex;flex-direction: column;z-index: 1;position: relative;background-color: white;}#sk-container-id-2 div.sk-parallel-item:first-child::after {align-self: flex-end;width: 50%;}#sk-container-id-2 div.sk-parallel-item:last-child::after {align-self: flex-start;width: 50%;}#sk-container-id-2 div.sk-parallel-item:only-child::after {width: 0;}#sk-container-id-2 div.sk-dashed-wrapped {border: 1px dashed gray;margin: 0 0.4em 0.5em 0.4em;box-sizing: border-box;padding-bottom: 0.4em;background-color: white;}#sk-container-id-2 div.sk-label label {font-family: monospace;font-weight: bold;display: inline-block;line-height: 1.2em;}#sk-container-id-2 div.sk-label-container {text-align: center;}#sk-container-id-2 div.sk-container {/* jupyter's `normalize.less` sets `[hidden] { display: none; }` but bootstrap.min.css set `[hidden] { display: none !important; }` so we also need the `!important` here to be able to override the default hidden behavior on the sphinx rendered scikit-learn.org. See: https://github.com/scikit-learn/scikit-learn/issues/21755 */display: inline-block !important;position: relative;}#sk-container-id-2 div.sk-text-repr-fallback {display: none;}</style><div id=\"sk-container-id-2\" class=\"sk-top-container\"><div class=\"sk-text-repr-fallback\"><pre>Pipeline(steps=[(&#x27;scaler&#x27;, StandardScaler()),\n",
       "                (&#x27;classifier&#x27;, RandomForestClassifier(n_estimators=16))])</pre><b>In a Jupyter environment, please rerun this cell to show the HTML representation or trust the notebook. <br />On GitHub, the HTML representation is unable to render, please try loading this page with nbviewer.org.</b></div><div class=\"sk-container\" hidden><div class=\"sk-item sk-dashed-wrapped\"><div class=\"sk-label-container\"><div class=\"sk-label sk-toggleable\"><input class=\"sk-toggleable__control sk-hidden--visually\" id=\"sk-estimator-id-5\" type=\"checkbox\" ><label for=\"sk-estimator-id-5\" class=\"sk-toggleable__label sk-toggleable__label-arrow\">Pipeline</label><div class=\"sk-toggleable__content\"><pre>Pipeline(steps=[(&#x27;scaler&#x27;, StandardScaler()),\n",
       "                (&#x27;classifier&#x27;, RandomForestClassifier(n_estimators=16))])</pre></div></div></div><div class=\"sk-serial\"><div class=\"sk-item\"><div class=\"sk-estimator sk-toggleable\"><input class=\"sk-toggleable__control sk-hidden--visually\" id=\"sk-estimator-id-6\" type=\"checkbox\" ><label for=\"sk-estimator-id-6\" class=\"sk-toggleable__label sk-toggleable__label-arrow\">StandardScaler</label><div class=\"sk-toggleable__content\"><pre>StandardScaler()</pre></div></div></div><div class=\"sk-item\"><div class=\"sk-estimator sk-toggleable\"><input class=\"sk-toggleable__control sk-hidden--visually\" id=\"sk-estimator-id-7\" type=\"checkbox\" ><label for=\"sk-estimator-id-7\" class=\"sk-toggleable__label sk-toggleable__label-arrow\">RandomForestClassifier</label><div class=\"sk-toggleable__content\"><pre>RandomForestClassifier(n_estimators=16)</pre></div></div></div></div></div></div></div>"
      ],
      "text/plain": [
       "Pipeline(steps=[('scaler', StandardScaler()),\n",
       "                ('classifier', RandomForestClassifier(n_estimators=16))])"
      ]
     },
     "execution_count": 18,
     "metadata": {},
     "output_type": "execute_result"
    }
   ],
   "source": [
    "grid_search.best_estimator_"
   ]
  },
  {
   "cell_type": "code",
   "execution_count": 19,
   "id": "6296e6be-82bf-4a5b-87c0-4d67cb9534cb",
   "metadata": {},
   "outputs": [
    {
     "data": {
      "text/plain": [
       "{'classifier': RandomForestClassifier(n_estimators=16),\n",
       " 'classifier__max_depth': None,\n",
       " 'classifier__min_samples_leaf': 1,\n",
       " 'classifier__min_samples_split': 2,\n",
       " 'classifier__n_estimators': 16}"
      ]
     },
     "execution_count": 19,
     "metadata": {},
     "output_type": "execute_result"
    }
   ],
   "source": [
    "grid_search.best_params_"
   ]
  },
  {
   "cell_type": "code",
   "execution_count": 20,
   "id": "686db751-9fff-4724-aa21-e251b1cbdf21",
   "metadata": {},
   "outputs": [
    {
     "data": {
      "text/plain": [
       "0.918793595205717"
      ]
     },
     "execution_count": 20,
     "metadata": {},
     "output_type": "execute_result"
    }
   ],
   "source": [
    "grid_search.best_score_"
   ]
  },
  {
   "cell_type": "code",
   "execution_count": 21,
   "id": "6f3bdf6d-c65a-41fa-8a2b-522081f0aefe",
   "metadata": {},
   "outputs": [
    {
     "data": {
      "text/html": [
       "<style>#sk-container-id-3 {color: black;background-color: white;}#sk-container-id-3 pre{padding: 0;}#sk-container-id-3 div.sk-toggleable {background-color: white;}#sk-container-id-3 label.sk-toggleable__label {cursor: pointer;display: block;width: 100%;margin-bottom: 0;padding: 0.3em;box-sizing: border-box;text-align: center;}#sk-container-id-3 label.sk-toggleable__label-arrow:before {content: \"▸\";float: left;margin-right: 0.25em;color: #696969;}#sk-container-id-3 label.sk-toggleable__label-arrow:hover:before {color: black;}#sk-container-id-3 div.sk-estimator:hover label.sk-toggleable__label-arrow:before {color: black;}#sk-container-id-3 div.sk-toggleable__content {max-height: 0;max-width: 0;overflow: hidden;text-align: left;background-color: #f0f8ff;}#sk-container-id-3 div.sk-toggleable__content pre {margin: 0.2em;color: black;border-radius: 0.25em;background-color: #f0f8ff;}#sk-container-id-3 input.sk-toggleable__control:checked~div.sk-toggleable__content {max-height: 200px;max-width: 100%;overflow: auto;}#sk-container-id-3 input.sk-toggleable__control:checked~label.sk-toggleable__label-arrow:before {content: \"▾\";}#sk-container-id-3 div.sk-estimator input.sk-toggleable__control:checked~label.sk-toggleable__label {background-color: #d4ebff;}#sk-container-id-3 div.sk-label input.sk-toggleable__control:checked~label.sk-toggleable__label {background-color: #d4ebff;}#sk-container-id-3 input.sk-hidden--visually {border: 0;clip: rect(1px 1px 1px 1px);clip: rect(1px, 1px, 1px, 1px);height: 1px;margin: -1px;overflow: hidden;padding: 0;position: absolute;width: 1px;}#sk-container-id-3 div.sk-estimator {font-family: monospace;background-color: #f0f8ff;border: 1px dotted black;border-radius: 0.25em;box-sizing: border-box;margin-bottom: 0.5em;}#sk-container-id-3 div.sk-estimator:hover {background-color: #d4ebff;}#sk-container-id-3 div.sk-parallel-item::after {content: \"\";width: 100%;border-bottom: 1px solid gray;flex-grow: 1;}#sk-container-id-3 div.sk-label:hover label.sk-toggleable__label {background-color: #d4ebff;}#sk-container-id-3 div.sk-serial::before {content: \"\";position: absolute;border-left: 1px solid gray;box-sizing: border-box;top: 0;bottom: 0;left: 50%;z-index: 0;}#sk-container-id-3 div.sk-serial {display: flex;flex-direction: column;align-items: center;background-color: white;padding-right: 0.2em;padding-left: 0.2em;position: relative;}#sk-container-id-3 div.sk-item {position: relative;z-index: 1;}#sk-container-id-3 div.sk-parallel {display: flex;align-items: stretch;justify-content: center;background-color: white;position: relative;}#sk-container-id-3 div.sk-item::before, #sk-container-id-3 div.sk-parallel-item::before {content: \"\";position: absolute;border-left: 1px solid gray;box-sizing: border-box;top: 0;bottom: 0;left: 50%;z-index: -1;}#sk-container-id-3 div.sk-parallel-item {display: flex;flex-direction: column;z-index: 1;position: relative;background-color: white;}#sk-container-id-3 div.sk-parallel-item:first-child::after {align-self: flex-end;width: 50%;}#sk-container-id-3 div.sk-parallel-item:last-child::after {align-self: flex-start;width: 50%;}#sk-container-id-3 div.sk-parallel-item:only-child::after {width: 0;}#sk-container-id-3 div.sk-dashed-wrapped {border: 1px dashed gray;margin: 0 0.4em 0.5em 0.4em;box-sizing: border-box;padding-bottom: 0.4em;background-color: white;}#sk-container-id-3 div.sk-label label {font-family: monospace;font-weight: bold;display: inline-block;line-height: 1.2em;}#sk-container-id-3 div.sk-label-container {text-align: center;}#sk-container-id-3 div.sk-container {/* jupyter's `normalize.less` sets `[hidden] { display: none; }` but bootstrap.min.css set `[hidden] { display: none !important; }` so we also need the `!important` here to be able to override the default hidden behavior on the sphinx rendered scikit-learn.org. See: https://github.com/scikit-learn/scikit-learn/issues/21755 */display: inline-block !important;position: relative;}#sk-container-id-3 div.sk-text-repr-fallback {display: none;}</style><div id=\"sk-container-id-3\" class=\"sk-top-container\"><div class=\"sk-text-repr-fallback\"><pre>GridSearchCV(cv=KFold(n_splits=10, random_state=42, shuffle=True),\n",
       "             estimator=Pipeline(steps=[(&#x27;scaler&#x27;, StandardScaler()),\n",
       "                                       (&#x27;classifier&#x27;, SVC())]),\n",
       "             n_jobs=-1,\n",
       "             param_grid=[{&#x27;classifier&#x27;: [RandomForestClassifier(n_estimators=16)],\n",
       "                          &#x27;classifier__max_depth&#x27;: [None],\n",
       "                          &#x27;classifier__min_samples_leaf&#x27;: [1],\n",
       "                          &#x27;classifier__min_samples_split&#x27;: [2],\n",
       "                          &#x27;classifier__n_estimators&#x27;: [1...\n",
       "                          &#x27;classifier__n_estimators&#x27;: [16, 32]},\n",
       "                         {&#x27;classifier&#x27;: [GradientBoostingClassifier()],\n",
       "                          &#x27;classifier__learning_rate&#x27;: [0.01, 0.1],\n",
       "                          &#x27;classifier__max_depth&#x27;: [5],\n",
       "                          &#x27;classifier__n_estimators&#x27;: [16, 32]}],\n",
       "             refit=&#x27;roc_auc_score&#x27;,\n",
       "             scoring={&#x27;accuracy&#x27;: make_scorer(accuracy_score),\n",
       "                      &#x27;precision&#x27;: make_scorer(precision_score),\n",
       "                      &#x27;recall&#x27;: make_scorer(recall_score),\n",
       "                      &#x27;roc_auc_score&#x27;: make_scorer(roc_auc_score)},\n",
       "             verbose=1)</pre><b>In a Jupyter environment, please rerun this cell to show the HTML representation or trust the notebook. <br />On GitHub, the HTML representation is unable to render, please try loading this page with nbviewer.org.</b></div><div class=\"sk-container\" hidden><div class=\"sk-item sk-dashed-wrapped\"><div class=\"sk-label-container\"><div class=\"sk-label sk-toggleable\"><input class=\"sk-toggleable__control sk-hidden--visually\" id=\"sk-estimator-id-8\" type=\"checkbox\" ><label for=\"sk-estimator-id-8\" class=\"sk-toggleable__label sk-toggleable__label-arrow\">GridSearchCV</label><div class=\"sk-toggleable__content\"><pre>GridSearchCV(cv=KFold(n_splits=10, random_state=42, shuffle=True),\n",
       "             estimator=Pipeline(steps=[(&#x27;scaler&#x27;, StandardScaler()),\n",
       "                                       (&#x27;classifier&#x27;, SVC())]),\n",
       "             n_jobs=-1,\n",
       "             param_grid=[{&#x27;classifier&#x27;: [RandomForestClassifier(n_estimators=16)],\n",
       "                          &#x27;classifier__max_depth&#x27;: [None],\n",
       "                          &#x27;classifier__min_samples_leaf&#x27;: [1],\n",
       "                          &#x27;classifier__min_samples_split&#x27;: [2],\n",
       "                          &#x27;classifier__n_estimators&#x27;: [1...\n",
       "                          &#x27;classifier__n_estimators&#x27;: [16, 32]},\n",
       "                         {&#x27;classifier&#x27;: [GradientBoostingClassifier()],\n",
       "                          &#x27;classifier__learning_rate&#x27;: [0.01, 0.1],\n",
       "                          &#x27;classifier__max_depth&#x27;: [5],\n",
       "                          &#x27;classifier__n_estimators&#x27;: [16, 32]}],\n",
       "             refit=&#x27;roc_auc_score&#x27;,\n",
       "             scoring={&#x27;accuracy&#x27;: make_scorer(accuracy_score),\n",
       "                      &#x27;precision&#x27;: make_scorer(precision_score),\n",
       "                      &#x27;recall&#x27;: make_scorer(recall_score),\n",
       "                      &#x27;roc_auc_score&#x27;: make_scorer(roc_auc_score)},\n",
       "             verbose=1)</pre></div></div></div><div class=\"sk-parallel\"><div class=\"sk-parallel-item\"><div class=\"sk-item\"><div class=\"sk-label-container\"><div class=\"sk-label sk-toggleable\"><input class=\"sk-toggleable__control sk-hidden--visually\" id=\"sk-estimator-id-9\" type=\"checkbox\" ><label for=\"sk-estimator-id-9\" class=\"sk-toggleable__label sk-toggleable__label-arrow\">estimator: Pipeline</label><div class=\"sk-toggleable__content\"><pre>Pipeline(steps=[(&#x27;scaler&#x27;, StandardScaler()), (&#x27;classifier&#x27;, SVC())])</pre></div></div></div><div class=\"sk-serial\"><div class=\"sk-item\"><div class=\"sk-serial\"><div class=\"sk-item\"><div class=\"sk-estimator sk-toggleable\"><input class=\"sk-toggleable__control sk-hidden--visually\" id=\"sk-estimator-id-10\" type=\"checkbox\" ><label for=\"sk-estimator-id-10\" class=\"sk-toggleable__label sk-toggleable__label-arrow\">StandardScaler</label><div class=\"sk-toggleable__content\"><pre>StandardScaler()</pre></div></div></div><div class=\"sk-item\"><div class=\"sk-estimator sk-toggleable\"><input class=\"sk-toggleable__control sk-hidden--visually\" id=\"sk-estimator-id-11\" type=\"checkbox\" ><label for=\"sk-estimator-id-11\" class=\"sk-toggleable__label sk-toggleable__label-arrow\">SVC</label><div class=\"sk-toggleable__content\"><pre>SVC()</pre></div></div></div></div></div></div></div></div></div></div></div></div>"
      ],
      "text/plain": [
       "GridSearchCV(cv=KFold(n_splits=10, random_state=42, shuffle=True),\n",
       "             estimator=Pipeline(steps=[('scaler', StandardScaler()),\n",
       "                                       ('classifier', SVC())]),\n",
       "             n_jobs=-1,\n",
       "             param_grid=[{'classifier': [RandomForestClassifier(n_estimators=16)],\n",
       "                          'classifier__max_depth': [None],\n",
       "                          'classifier__min_samples_leaf': [1],\n",
       "                          'classifier__min_samples_split': [2],\n",
       "                          'classifier__n_estimators': [1...\n",
       "                          'classifier__n_estimators': [16, 32]},\n",
       "                         {'classifier': [GradientBoostingClassifier()],\n",
       "                          'classifier__learning_rate': [0.01, 0.1],\n",
       "                          'classifier__max_depth': [5],\n",
       "                          'classifier__n_estimators': [16, 32]}],\n",
       "             refit='roc_auc_score',\n",
       "             scoring={'accuracy': make_scorer(accuracy_score),\n",
       "                      'precision': make_scorer(precision_score),\n",
       "                      'recall': make_scorer(recall_score),\n",
       "                      'roc_auc_score': make_scorer(roc_auc_score)},\n",
       "             verbose=1)"
      ]
     },
     "execution_count": 21,
     "metadata": {},
     "output_type": "execute_result"
    }
   ],
   "source": [
    "grid_search"
   ]
  },
  {
   "cell_type": "code",
   "execution_count": 22,
   "id": "52a1842e-4138-441a-8476-a0f6ae7a7273",
   "metadata": {},
   "outputs": [
    {
     "data": {
      "text/plain": [
       "{'mean_fit_time': array([0.11341937, 0.19121616, 0.03996608, 0.08383377, 0.12894871,\n",
       "        0.23411698, 0.35794437, 0.71813216, 0.36578803, 0.61224074]),\n",
       " 'std_fit_time': array([0.0192808 , 0.01286633, 0.00366282, 0.00562174, 0.01123505,\n",
       "        0.00670233, 0.01440088, 0.02394098, 0.01432255, 0.03255893]),\n",
       " 'mean_score_time': array([0.00940688, 0.00820084, 0.00795372, 0.01230147, 0.00780113,\n",
       "        0.01100574, 0.00724185, 0.00572016, 0.00540183, 0.00354924]),\n",
       " 'std_score_time': array([0.00365921, 0.00147003, 0.00214735, 0.00363282, 0.00166101,\n",
       "        0.00471274, 0.00446894, 0.00265121, 0.00119878, 0.00123749]),\n",
       " 'param_classifier': masked_array(data=[RandomForestClassifier(n_estimators=16),\n",
       "                    RandomForestClassifier(n_estimators=16),\n",
       "                    ExtraTreesClassifier(), ExtraTreesClassifier(),\n",
       "                    AdaBoostClassifier(), AdaBoostClassifier(),\n",
       "                    GradientBoostingClassifier(),\n",
       "                    GradientBoostingClassifier(),\n",
       "                    GradientBoostingClassifier(),\n",
       "                    GradientBoostingClassifier()],\n",
       "              mask=[False, False, False, False, False, False, False, False,\n",
       "                    False, False],\n",
       "        fill_value='?',\n",
       "             dtype=object),\n",
       " 'param_classifier__max_depth': masked_array(data=[None, None, None, None, --, --, 5, 5, 5, 5],\n",
       "              mask=[False, False, False, False,  True,  True, False, False,\n",
       "                    False, False],\n",
       "        fill_value='?',\n",
       "             dtype=object),\n",
       " 'param_classifier__min_samples_leaf': masked_array(data=[1, 1, 1, 1, --, --, --, --, --, --],\n",
       "              mask=[False, False, False, False,  True,  True,  True,  True,\n",
       "                     True,  True],\n",
       "        fill_value='?',\n",
       "             dtype=object),\n",
       " 'param_classifier__min_samples_split': masked_array(data=[2, 2, 2, 2, --, --, --, --, --, --],\n",
       "              mask=[False, False, False, False,  True,  True,  True,  True,\n",
       "                     True,  True],\n",
       "        fill_value='?',\n",
       "             dtype=object),\n",
       " 'param_classifier__n_estimators': masked_array(data=[16, 32, 16, 32, 16, 32, 16, 32, 16, 32],\n",
       "              mask=[False, False, False, False, False, False, False, False,\n",
       "                    False, False],\n",
       "        fill_value='?',\n",
       "             dtype=object),\n",
       " 'param_classifier__learning_rate': masked_array(data=[--, --, --, --, 0.01, 0.01, 0.01, 0.01, 0.1, 0.1],\n",
       "              mask=[ True,  True,  True,  True, False, False, False, False,\n",
       "                    False, False],\n",
       "        fill_value='?',\n",
       "             dtype=object),\n",
       " 'params': [{'classifier': RandomForestClassifier(n_estimators=16),\n",
       "   'classifier__max_depth': None,\n",
       "   'classifier__min_samples_leaf': 1,\n",
       "   'classifier__min_samples_split': 2,\n",
       "   'classifier__n_estimators': 16},\n",
       "  {'classifier': RandomForestClassifier(n_estimators=16),\n",
       "   'classifier__max_depth': None,\n",
       "   'classifier__min_samples_leaf': 1,\n",
       "   'classifier__min_samples_split': 2,\n",
       "   'classifier__n_estimators': 32},\n",
       "  {'classifier': ExtraTreesClassifier(),\n",
       "   'classifier__max_depth': None,\n",
       "   'classifier__min_samples_leaf': 1,\n",
       "   'classifier__min_samples_split': 2,\n",
       "   'classifier__n_estimators': 16},\n",
       "  {'classifier': ExtraTreesClassifier(),\n",
       "   'classifier__max_depth': None,\n",
       "   'classifier__min_samples_leaf': 1,\n",
       "   'classifier__min_samples_split': 2,\n",
       "   'classifier__n_estimators': 32},\n",
       "  {'classifier': AdaBoostClassifier(),\n",
       "   'classifier__learning_rate': 0.01,\n",
       "   'classifier__n_estimators': 16},\n",
       "  {'classifier': AdaBoostClassifier(),\n",
       "   'classifier__learning_rate': 0.01,\n",
       "   'classifier__n_estimators': 32},\n",
       "  {'classifier': GradientBoostingClassifier(),\n",
       "   'classifier__learning_rate': 0.01,\n",
       "   'classifier__max_depth': 5,\n",
       "   'classifier__n_estimators': 16},\n",
       "  {'classifier': GradientBoostingClassifier(),\n",
       "   'classifier__learning_rate': 0.01,\n",
       "   'classifier__max_depth': 5,\n",
       "   'classifier__n_estimators': 32},\n",
       "  {'classifier': GradientBoostingClassifier(),\n",
       "   'classifier__learning_rate': 0.1,\n",
       "   'classifier__max_depth': 5,\n",
       "   'classifier__n_estimators': 16},\n",
       "  {'classifier': GradientBoostingClassifier(),\n",
       "   'classifier__learning_rate': 0.1,\n",
       "   'classifier__max_depth': 5,\n",
       "   'classifier__n_estimators': 32}],\n",
       " 'split0_test_accuracy': array([0.88, 0.9 , 0.89, 0.89, 0.82, 0.82, 0.88, 0.89, 0.89, 0.89]),\n",
       " 'split1_test_accuracy': array([0.94, 0.95, 0.94, 0.93, 0.92, 0.92, 0.89, 0.89, 0.9 , 0.9 ]),\n",
       " 'split2_test_accuracy': array([0.92, 0.94, 0.9 , 0.92, 0.8 , 0.8 , 0.93, 0.93, 0.92, 0.91]),\n",
       " 'split3_test_accuracy': array([0.92, 0.91, 0.91, 0.92, 0.86, 0.86, 0.9 , 0.91, 0.91, 0.91]),\n",
       " 'split4_test_accuracy': array([0.92, 0.9 , 0.92, 0.91, 0.82, 0.82, 0.91, 0.91, 0.89, 0.89]),\n",
       " 'split5_test_accuracy': array([0.92, 0.92, 0.91, 0.92, 0.87, 0.87, 0.89, 0.9 , 0.9 , 0.9 ]),\n",
       " 'split6_test_accuracy': array([0.92, 0.92, 0.9 , 0.91, 0.86, 0.86, 0.92, 0.93, 0.93, 0.94]),\n",
       " 'split7_test_accuracy': array([0.92, 0.9 , 0.91, 0.92, 0.9 , 0.9 , 0.91, 0.91, 0.91, 0.92]),\n",
       " 'split8_test_accuracy': array([0.93, 0.92, 0.92, 0.92, 0.89, 0.89, 0.92, 0.92, 0.92, 0.92]),\n",
       " 'split9_test_accuracy': array([0.91, 0.92, 0.89, 0.88, 0.85, 0.85, 0.88, 0.88, 0.9 , 0.91]),\n",
       " 'mean_test_accuracy': array([0.918, 0.918, 0.909, 0.912, 0.859, 0.859, 0.903, 0.907, 0.907,\n",
       "        0.909]),\n",
       " 'std_test_accuracy': array([0.01469694, 0.016     , 0.01445683, 0.01469694, 0.03618011,\n",
       "        0.03618011, 0.01676305, 0.01615549, 0.01268858, 0.01445683]),\n",
       " 'rank_test_accuracy': array([1, 1, 4, 3, 9, 9, 8, 6, 7, 5]),\n",
       " 'split0_test_precision': array([0.875     , 0.88      , 0.87755102, 0.8627451 , 0.78846154,\n",
       "        0.78846154, 0.86      , 0.87755102, 0.87755102, 0.8627451 ]),\n",
       " 'split1_test_precision': array([0.92682927, 0.95      , 0.92682927, 0.9047619 , 0.86666667,\n",
       "        0.86666667, 0.84090909, 0.84090909, 0.86046512, 0.86046512]),\n",
       " 'split2_test_precision': array([0.88679245, 0.90566038, 0.86792453, 0.90196078, 0.75438596,\n",
       "        0.75438596, 0.88888889, 0.88888889, 0.88679245, 0.87037037]),\n",
       " 'split3_test_precision': array([0.91489362, 0.91304348, 0.91304348, 0.93333333, 0.86666667,\n",
       "        0.86666667, 0.93023256, 0.95238095, 0.95238095, 0.93181818]),\n",
       " 'split4_test_precision': array([0.93023256, 0.90697674, 0.93023256, 0.90909091, 0.75471698,\n",
       "        0.75471698, 0.95      , 0.95      , 0.9047619 , 0.9047619 ]),\n",
       " 'split5_test_precision': array([0.9245283 , 0.90909091, 0.90740741, 0.94117647, 0.82258065,\n",
       "        0.82258065, 0.875     , 0.87719298, 0.89090909, 0.89090909]),\n",
       " 'split6_test_precision': array([0.91836735, 0.91836735, 0.89795918, 0.9       , 0.77777778,\n",
       "        0.77777778, 0.91836735, 0.92      , 0.92      , 0.92156863]),\n",
       " 'split7_test_precision': array([0.96      , 0.95833333, 0.94117647, 0.94230769, 0.90740741,\n",
       "        0.90740741, 0.9787234 , 0.9787234 , 0.9787234 , 0.97916667]),\n",
       " 'split8_test_precision': array([0.97826087, 0.95744681, 0.95744681, 0.95744681, 0.9       ,\n",
       "        0.9       , 0.97777778, 0.97777778, 0.95744681, 0.95744681]),\n",
       " 'split9_test_precision': array([0.98039216, 0.98076923, 0.97959184, 0.97916667, 0.92156863,\n",
       "        0.92156863, 0.97916667, 0.97916667, 0.98      , 0.98039216]),\n",
       " 'mean_test_precision': array([0.92952966, 0.92796882, 0.91991626, 0.92319897, 0.83602323,\n",
       "        0.83602323, 0.91990657, 0.92425908, 0.92090308, 0.9159644 ]),\n",
       " 'std_test_precision': array([0.03325918, 0.02995811, 0.03280198, 0.03206123, 0.06123356,\n",
       "        0.06123356, 0.04913549, 0.04786665, 0.04125362, 0.04346671]),\n",
       " 'rank_test_precision': array([1, 2, 6, 4, 9, 9, 7, 3, 5, 8]),\n",
       " 'split0_test_recall': array([0.875     , 0.91666667, 0.89583333, 0.91666667, 0.85416667,\n",
       "        0.85416667, 0.89583333, 0.89583333, 0.89583333, 0.91666667]),\n",
       " 'split1_test_recall': array([0.92682927, 0.92682927, 0.92682927, 0.92682927, 0.95121951,\n",
       "        0.95121951, 0.90243902, 0.90243902, 0.90243902, 0.90243902]),\n",
       " 'split2_test_recall': array([0.95918367, 0.97959184, 0.93877551, 0.93877551, 0.87755102,\n",
       "        0.87755102, 0.97959184, 0.97959184, 0.95918367, 0.95918367]),\n",
       " 'split3_test_recall': array([0.91489362, 0.89361702, 0.89361702, 0.89361702, 0.82978723,\n",
       "        0.82978723, 0.85106383, 0.85106383, 0.85106383, 0.87234043]),\n",
       " 'split4_test_recall': array([0.88888889, 0.86666667, 0.88888889, 0.88888889, 0.88888889,\n",
       "        0.88888889, 0.84444444, 0.84444444, 0.84444444, 0.84444444]),\n",
       " 'split5_test_recall': array([0.9245283 , 0.94339623, 0.9245283 , 0.90566038, 0.96226415,\n",
       "        0.96226415, 0.9245283 , 0.94339623, 0.9245283 , 0.9245283 ]),\n",
       " 'split6_test_recall': array([0.91836735, 0.91836735, 0.89795918, 0.91836735, 1.        ,\n",
       "        1.        , 0.91836735, 0.93877551, 0.93877551, 0.95918367]),\n",
       " 'split7_test_recall': array([0.88888889, 0.85185185, 0.88888889, 0.90740741, 0.90740741,\n",
       "        0.90740741, 0.85185185, 0.85185185, 0.85185185, 0.87037037]),\n",
       " 'split8_test_recall': array([0.88235294, 0.88235294, 0.88235294, 0.88235294, 0.88235294,\n",
       "        0.88235294, 0.8627451 , 0.8627451 , 0.88235294, 0.88235294]),\n",
       " 'split9_test_recall': array([0.86206897, 0.87931034, 0.82758621, 0.81034483, 0.81034483,\n",
       "        0.81034483, 0.81034483, 0.81034483, 0.84482759, 0.86206897]),\n",
       " 'mean_test_recall': array([0.90410019, 0.90586502, 0.89652595, 0.89889103, 0.89639826,\n",
       "        0.89639826, 0.88412099, 0.8880486 , 0.88953005, 0.89935785]),\n",
       " 'std_test_recall': array([0.0279952 , 0.03663145, 0.02927227, 0.0338035 , 0.05694982,\n",
       "        0.05694982, 0.04690536, 0.05053907, 0.03961038, 0.0379028 ]),\n",
       " 'rank_test_recall': array([ 2,  1,  5,  4,  6,  6, 10,  9,  8,  3]),\n",
       " 'split0_test_roc_auc_score': array([0.87980769, 0.90064103, 0.89022436, 0.89102564, 0.8213141 ,\n",
       "        0.8213141 , 0.88060897, 0.89022436, 0.89022436, 0.89102564]),\n",
       " 'split1_test_roc_auc_score': array([0.93799091, 0.94646548, 0.93799091, 0.92951633, 0.9247623 ,\n",
       "        0.9247623 , 0.89189748, 0.89189748, 0.90037205, 0.90037205]),\n",
       " 'split2_test_roc_auc_score': array([0.92076831, 0.94077631, 0.9007603 , 0.92036815, 0.80152061,\n",
       "        0.80152061, 0.93097239, 0.93097239, 0.92076831, 0.91096439]),\n",
       " 'split3_test_roc_auc_score': array([0.91971096, 0.90907266, 0.90907266, 0.91850662, 0.85828984,\n",
       "        0.85828984, 0.89723003, 0.90666399, 0.90666399, 0.90786833]),\n",
       " 'split4_test_roc_auc_score': array([0.91717172, 0.8969697 , 0.91717172, 0.90808081, 0.82626263,\n",
       "        0.82626263, 0.9040404 , 0.9040404 , 0.88585859, 0.88585859]),\n",
       " 'split5_test_roc_auc_score': array([0.91971096, 0.91850662, 0.90907266, 0.9209153 , 0.8641108 ,\n",
       "        0.8641108 , 0.88779607, 0.89723003, 0.89843436, 0.89843436]),\n",
       " 'split6_test_roc_auc_score': array([0.91996799, 0.91996799, 0.89995998, 0.91016407, 0.8627451 ,\n",
       "        0.8627451 , 0.91996799, 0.93017207, 0.93017207, 0.94037615]),\n",
       " 'split7_test_roc_auc_score': array([0.92270531, 0.9041868 , 0.91183575, 0.92109501, 0.89935588,\n",
       "        0.89935588, 0.91505636, 0.91505636, 0.91505636, 0.92431562]),\n",
       " 'split8_test_roc_auc_score': array([0.93097239, 0.92076831, 0.92076831, 0.92076831, 0.89015606,\n",
       "        0.89015606, 0.92116847, 0.92116847, 0.92076831, 0.92076831]),\n",
       " 'split9_test_roc_auc_score': array([0.91912972, 0.92775041, 0.90188834, 0.89326765, 0.85755337,\n",
       "        0.85755337, 0.89326765, 0.89326765, 0.91050903, 0.91912972]),\n",
       " 'mean_test_roc_auc_score': array([0.9187936 , 0.91851053, 0.9098745 , 0.91337079, 0.86060707,\n",
       "        0.86060707, 0.90420058, 0.90806932, 0.90788274, 0.90991132]),\n",
       " 'std_test_roc_auc_score': array([0.01435886, 0.0156442 , 0.01264461, 0.01203758, 0.03568856,\n",
       "        0.03568856, 0.01586279, 0.01472497, 0.01353254, 0.01581659]),\n",
       " 'rank_test_roc_auc_score': array([1, 2, 5, 3, 9, 9, 8, 6, 7, 4])}"
      ]
     },
     "execution_count": 22,
     "metadata": {},
     "output_type": "execute_result"
    }
   ],
   "source": [
    "cv_results"
   ]
  },
  {
   "cell_type": "code",
   "execution_count": null,
   "id": "214b462a-8e5c-4535-9197-aa177e55bb1e",
   "metadata": {},
   "outputs": [],
   "source": []
  }
 ],
 "metadata": {
  "kernelspec": {
   "display_name": "Python 3 (ipykernel)",
   "language": "python",
   "name": "python3"
  },
  "language_info": {
   "codemirror_mode": {
    "name": "ipython",
    "version": 3
   },
   "file_extension": ".py",
   "mimetype": "text/x-python",
   "name": "python",
   "nbconvert_exporter": "python",
   "pygments_lexer": "ipython3",
   "version": "3.9.13"
  }
 },
 "nbformat": 4,
 "nbformat_minor": 5
}
