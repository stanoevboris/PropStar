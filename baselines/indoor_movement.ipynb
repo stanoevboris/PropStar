{
 "cells": [
  {
   "cell_type": "code",
   "execution_count": 1,
   "id": "eccab5a8-db25-420b-9414-b382eeb30fa1",
   "metadata": {},
   "outputs": [],
   "source": [
    "import sys\n",
    "# sys.path is a list of absolute path strings\n",
    "sys.path.append('C:\\Projects\\Private\\PropStar')\n",
    "sys.path.append('C:\\Projects\\Private\\PropStar\\datasets')\n",
    "from gridsearch.EstimatorSelectionHelper import EstimatorSelectionHelper"
   ]
  },
  {
   "cell_type": "code",
   "execution_count": 2,
   "id": "f092feb9-dcf2-4797-82c8-99cbd9003a55",
   "metadata": {},
   "outputs": [],
   "source": [
    "import numpy as np\n",
    "import pandas as pd\n",
    "from sklearn.model_selection import GridSearchCV, StratifiedKFold\n",
    "from sklearn.pipeline import Pipeline\n",
    "from sklearn.preprocessing import StandardScaler, MinMaxScaler\n",
    "\n",
    "from sklearn.metrics import make_scorer, accuracy_score, precision_score, recall_score, roc_auc_score, f1_score\n",
    "\n",
    "from sklearn.compose import ColumnTransformer\n",
    "from sklearn.preprocessing import StandardScaler, OneHotEncoder\n",
    "from sklearn.impute import SimpleImputer"
   ]
  },
  {
   "cell_type": "code",
   "execution_count": 3,
   "id": "3b455a8e-4c73-49b4-9d69-a1e073185e77",
   "metadata": {},
   "outputs": [],
   "source": [
    "search_space = {\n",
    "    'RandomForestClassifier': {\n",
    "        'classifier__n_estimators': [16, 32],\n",
    "        'classifier__max_depth': [None],  # 'null' is equivalent to None in Python\n",
    "        'classifier__min_samples_split': [2],\n",
    "        'classifier__min_samples_leaf': [1],\n",
    "        },\n",
    "    'ExtraTreesClassifier': {\n",
    "        'classifier__n_estimators': [16, 32],\n",
    "        'classifier__max_depth': [None],\n",
    "        'classifier__min_samples_split': [2],\n",
    "        'classifier__min_samples_leaf': [1],\n",
    "        },\n",
    "    'AdaBoostClassifier': {\n",
    "        'classifier__n_estimators': [16, 32],\n",
    "        'classifier__learning_rate': [0.01],\n",
    "        },\n",
    "    'GradientBoostingClassifier': {\n",
    "        'classifier__n_estimators': [16, 32],\n",
    "        'classifier__learning_rate': [0.01, 0.1],\n",
    "        'classifier__max_depth': [5],\n",
    "    }\n",
    "}\n"
   ]
  },
  {
   "cell_type": "markdown",
   "id": "3b4190ec-8240-4b39-bc84-ac3f31383df2",
   "metadata": {},
   "source": [
    "# Indoor user movement RSS data"
   ]
  },
  {
   "cell_type": "code",
   "execution_count": 4,
   "id": "7c600a4a-7587-4a4c-bb3c-e190c9515a35",
   "metadata": {
    "ExecuteTime": {
     "end_time": "2024-04-08T18:32:41.633322Z",
     "start_time": "2024-04-08T18:32:41.619699Z"
    }
   },
   "outputs": [],
   "source": [
    "dataset_group = pd.read_csv('../datasets/indoor_user_movement_rss_data/groups/MovementAAL_DatasetGroup.csv')\n",
    "dataset_group['sequence_ID'] = dataset_group['#sequence_ID']\n",
    "dataset_group['dataset_ID'] = dataset_group[' dataset_ID']\n",
    "dataset_group.drop(['#sequence_ID', ' dataset_ID'], axis=1, inplace=True)"
   ]
  },
  {
   "cell_type": "code",
   "execution_count": 5,
   "id": "f5dd7e51-c96b-4f5e-9c52-806f24d5b3eb",
   "metadata": {
    "ExecuteTime": {
     "end_time": "2024-04-08T18:32:41.649369Z",
     "start_time": "2024-04-08T18:32:41.635324Z"
    }
   },
   "outputs": [
    {
     "data": {
      "text/html": [
       "<div>\n",
       "<style scoped>\n",
       "    .dataframe tbody tr th:only-of-type {\n",
       "        vertical-align: middle;\n",
       "    }\n",
       "\n",
       "    .dataframe tbody tr th {\n",
       "        vertical-align: top;\n",
       "    }\n",
       "\n",
       "    .dataframe thead th {\n",
       "        text-align: right;\n",
       "    }\n",
       "</style>\n",
       "<table border=\"1\" class=\"dataframe\">\n",
       "  <thead>\n",
       "    <tr style=\"text-align: right;\">\n",
       "      <th></th>\n",
       "      <th>sequence_ID</th>\n",
       "      <th>dataset_ID</th>\n",
       "    </tr>\n",
       "  </thead>\n",
       "  <tbody>\n",
       "    <tr>\n",
       "      <th>0</th>\n",
       "      <td>1</td>\n",
       "      <td>1</td>\n",
       "    </tr>\n",
       "    <tr>\n",
       "      <th>1</th>\n",
       "      <td>2</td>\n",
       "      <td>1</td>\n",
       "    </tr>\n",
       "    <tr>\n",
       "      <th>2</th>\n",
       "      <td>3</td>\n",
       "      <td>1</td>\n",
       "    </tr>\n",
       "    <tr>\n",
       "      <th>3</th>\n",
       "      <td>4</td>\n",
       "      <td>1</td>\n",
       "    </tr>\n",
       "    <tr>\n",
       "      <th>4</th>\n",
       "      <td>5</td>\n",
       "      <td>1</td>\n",
       "    </tr>\n",
       "    <tr>\n",
       "      <th>...</th>\n",
       "      <td>...</td>\n",
       "      <td>...</td>\n",
       "    </tr>\n",
       "    <tr>\n",
       "      <th>309</th>\n",
       "      <td>310</td>\n",
       "      <td>3</td>\n",
       "    </tr>\n",
       "    <tr>\n",
       "      <th>310</th>\n",
       "      <td>311</td>\n",
       "      <td>3</td>\n",
       "    </tr>\n",
       "    <tr>\n",
       "      <th>311</th>\n",
       "      <td>312</td>\n",
       "      <td>3</td>\n",
       "    </tr>\n",
       "    <tr>\n",
       "      <th>312</th>\n",
       "      <td>313</td>\n",
       "      <td>3</td>\n",
       "    </tr>\n",
       "    <tr>\n",
       "      <th>313</th>\n",
       "      <td>314</td>\n",
       "      <td>3</td>\n",
       "    </tr>\n",
       "  </tbody>\n",
       "</table>\n",
       "<p>314 rows × 2 columns</p>\n",
       "</div>"
      ],
      "text/plain": [
       "     sequence_ID  dataset_ID\n",
       "0              1           1\n",
       "1              2           1\n",
       "2              3           1\n",
       "3              4           1\n",
       "4              5           1\n",
       "..           ...         ...\n",
       "309          310           3\n",
       "310          311           3\n",
       "311          312           3\n",
       "312          313           3\n",
       "313          314           3\n",
       "\n",
       "[314 rows x 2 columns]"
      ]
     },
     "execution_count": 5,
     "metadata": {},
     "output_type": "execute_result"
    }
   ],
   "source": [
    "dataset_group"
   ]
  },
  {
   "cell_type": "code",
   "execution_count": 6,
   "id": "19ed1793-de5e-4cb9-b3c3-e4723d140f3f",
   "metadata": {
    "ExecuteTime": {
     "end_time": "2024-04-08T18:32:41.665370Z",
     "start_time": "2024-04-08T18:32:41.652312Z"
    }
   },
   "outputs": [],
   "source": [
    "paths = pd.read_csv('../datasets/indoor_user_movement_rss_data/groups/MovementAAL_Paths.csv')\n",
    "paths['sequence_ID'] = paths['#sequence_ID']\n",
    "paths['path_ID'] = paths[' path_ID']\n",
    "paths.drop(['#sequence_ID', ' path_ID'], axis=1, inplace=True)"
   ]
  },
  {
   "cell_type": "code",
   "execution_count": 7,
   "id": "df378fdb-de02-4e3a-a262-5b933660ce45",
   "metadata": {
    "ExecuteTime": {
     "end_time": "2024-04-08T18:32:41.681315Z",
     "start_time": "2024-04-08T18:32:41.667330Z"
    }
   },
   "outputs": [
    {
     "data": {
      "text/html": [
       "<div>\n",
       "<style scoped>\n",
       "    .dataframe tbody tr th:only-of-type {\n",
       "        vertical-align: middle;\n",
       "    }\n",
       "\n",
       "    .dataframe tbody tr th {\n",
       "        vertical-align: top;\n",
       "    }\n",
       "\n",
       "    .dataframe thead th {\n",
       "        text-align: right;\n",
       "    }\n",
       "</style>\n",
       "<table border=\"1\" class=\"dataframe\">\n",
       "  <thead>\n",
       "    <tr style=\"text-align: right;\">\n",
       "      <th></th>\n",
       "      <th>sequence_ID</th>\n",
       "      <th>path_ID</th>\n",
       "    </tr>\n",
       "  </thead>\n",
       "  <tbody>\n",
       "    <tr>\n",
       "      <th>0</th>\n",
       "      <td>1</td>\n",
       "      <td>1</td>\n",
       "    </tr>\n",
       "    <tr>\n",
       "      <th>1</th>\n",
       "      <td>2</td>\n",
       "      <td>1</td>\n",
       "    </tr>\n",
       "    <tr>\n",
       "      <th>2</th>\n",
       "      <td>3</td>\n",
       "      <td>1</td>\n",
       "    </tr>\n",
       "    <tr>\n",
       "      <th>3</th>\n",
       "      <td>4</td>\n",
       "      <td>1</td>\n",
       "    </tr>\n",
       "    <tr>\n",
       "      <th>4</th>\n",
       "      <td>5</td>\n",
       "      <td>1</td>\n",
       "    </tr>\n",
       "    <tr>\n",
       "      <th>...</th>\n",
       "      <td>...</td>\n",
       "      <td>...</td>\n",
       "    </tr>\n",
       "    <tr>\n",
       "      <th>309</th>\n",
       "      <td>310</td>\n",
       "      <td>6</td>\n",
       "    </tr>\n",
       "    <tr>\n",
       "      <th>310</th>\n",
       "      <td>311</td>\n",
       "      <td>6</td>\n",
       "    </tr>\n",
       "    <tr>\n",
       "      <th>311</th>\n",
       "      <td>312</td>\n",
       "      <td>6</td>\n",
       "    </tr>\n",
       "    <tr>\n",
       "      <th>312</th>\n",
       "      <td>313</td>\n",
       "      <td>6</td>\n",
       "    </tr>\n",
       "    <tr>\n",
       "      <th>313</th>\n",
       "      <td>314</td>\n",
       "      <td>6</td>\n",
       "    </tr>\n",
       "  </tbody>\n",
       "</table>\n",
       "<p>314 rows × 2 columns</p>\n",
       "</div>"
      ],
      "text/plain": [
       "     sequence_ID  path_ID\n",
       "0              1        1\n",
       "1              2        1\n",
       "2              3        1\n",
       "3              4        1\n",
       "4              5        1\n",
       "..           ...      ...\n",
       "309          310        6\n",
       "310          311        6\n",
       "311          312        6\n",
       "312          313        6\n",
       "313          314        6\n",
       "\n",
       "[314 rows x 2 columns]"
      ]
     },
     "execution_count": 7,
     "metadata": {},
     "output_type": "execute_result"
    }
   ],
   "source": [
    "paths"
   ]
  },
  {
   "cell_type": "code",
   "execution_count": 8,
   "id": "cb4828ad-b619-4f10-a066-329b89b841e2",
   "metadata": {
    "ExecuteTime": {
     "end_time": "2024-04-08T18:32:41.697271Z",
     "start_time": "2024-04-08T18:32:41.683270Z"
    }
   },
   "outputs": [],
   "source": [
    "target = pd.read_csv('../datasets/indoor_user_movement_rss_data/MovementAAL_target.csv')\n",
    "target['class_label'] = target[' class_label']\n",
    "target['sequence_ID'] = target['#sequence_ID']\n",
    "target.drop(['#sequence_ID', ' class_label'], axis=1, inplace=True)"
   ]
  },
  {
   "cell_type": "code",
   "execution_count": 9,
   "id": "1b451c8f-d756-4b30-9464-c087921f30a8",
   "metadata": {},
   "outputs": [
    {
     "data": {
      "text/plain": [
       "Index(['class_label', 'sequence_ID'], dtype='object')"
      ]
     },
     "execution_count": 9,
     "metadata": {},
     "output_type": "execute_result"
    }
   ],
   "source": [
    "target.columns"
   ]
  },
  {
   "cell_type": "code",
   "execution_count": 10,
   "id": "ab3d0607-0599-4aa3-af2d-d722f110dbcd",
   "metadata": {
    "ExecuteTime": {
     "end_time": "2024-04-08T18:32:41.713284Z",
     "start_time": "2024-04-08T18:32:41.699270Z"
    }
   },
   "outputs": [
    {
     "data": {
      "text/html": [
       "<div>\n",
       "<style scoped>\n",
       "    .dataframe tbody tr th:only-of-type {\n",
       "        vertical-align: middle;\n",
       "    }\n",
       "\n",
       "    .dataframe tbody tr th {\n",
       "        vertical-align: top;\n",
       "    }\n",
       "\n",
       "    .dataframe thead th {\n",
       "        text-align: right;\n",
       "    }\n",
       "</style>\n",
       "<table border=\"1\" class=\"dataframe\">\n",
       "  <thead>\n",
       "    <tr style=\"text-align: right;\">\n",
       "      <th></th>\n",
       "      <th>class_label</th>\n",
       "      <th>sequence_ID</th>\n",
       "    </tr>\n",
       "  </thead>\n",
       "  <tbody>\n",
       "    <tr>\n",
       "      <th>0</th>\n",
       "      <td>1</td>\n",
       "      <td>1</td>\n",
       "    </tr>\n",
       "    <tr>\n",
       "      <th>1</th>\n",
       "      <td>1</td>\n",
       "      <td>2</td>\n",
       "    </tr>\n",
       "    <tr>\n",
       "      <th>2</th>\n",
       "      <td>1</td>\n",
       "      <td>3</td>\n",
       "    </tr>\n",
       "    <tr>\n",
       "      <th>3</th>\n",
       "      <td>1</td>\n",
       "      <td>4</td>\n",
       "    </tr>\n",
       "    <tr>\n",
       "      <th>4</th>\n",
       "      <td>1</td>\n",
       "      <td>5</td>\n",
       "    </tr>\n",
       "    <tr>\n",
       "      <th>...</th>\n",
       "      <td>...</td>\n",
       "      <td>...</td>\n",
       "    </tr>\n",
       "    <tr>\n",
       "      <th>309</th>\n",
       "      <td>-1</td>\n",
       "      <td>310</td>\n",
       "    </tr>\n",
       "    <tr>\n",
       "      <th>310</th>\n",
       "      <td>-1</td>\n",
       "      <td>311</td>\n",
       "    </tr>\n",
       "    <tr>\n",
       "      <th>311</th>\n",
       "      <td>-1</td>\n",
       "      <td>312</td>\n",
       "    </tr>\n",
       "    <tr>\n",
       "      <th>312</th>\n",
       "      <td>-1</td>\n",
       "      <td>313</td>\n",
       "    </tr>\n",
       "    <tr>\n",
       "      <th>313</th>\n",
       "      <td>-1</td>\n",
       "      <td>314</td>\n",
       "    </tr>\n",
       "  </tbody>\n",
       "</table>\n",
       "<p>314 rows × 2 columns</p>\n",
       "</div>"
      ],
      "text/plain": [
       "     class_label  sequence_ID\n",
       "0              1            1\n",
       "1              1            2\n",
       "2              1            3\n",
       "3              1            4\n",
       "4              1            5\n",
       "..           ...          ...\n",
       "309           -1          310\n",
       "310           -1          311\n",
       "311           -1          312\n",
       "312           -1          313\n",
       "313           -1          314\n",
       "\n",
       "[314 rows x 2 columns]"
      ]
     },
     "execution_count": 10,
     "metadata": {},
     "output_type": "execute_result"
    }
   ],
   "source": [
    "target"
   ]
  },
  {
   "cell_type": "code",
   "execution_count": 11,
   "id": "7290c72a-4995-486d-a9cb-5f5f1f868052",
   "metadata": {
    "ExecuteTime": {
     "end_time": "2024-04-08T18:32:41.728981Z",
     "start_time": "2024-04-08T18:32:41.716354Z"
    }
   },
   "outputs": [],
   "source": [
    "import os \n",
    "\n",
    "files = os.listdir('../datasets/indoor_user_movement_rss_data/dataset')\n",
    "movements_df = pd.DataFrame()"
   ]
  },
  {
   "cell_type": "code",
   "execution_count": 12,
   "id": "a66363e4-90f6-4754-8966-e2ebb682ad83",
   "metadata": {
    "ExecuteTime": {
     "end_time": "2024-04-08T18:32:42.296957Z",
     "start_time": "2024-04-08T18:32:41.730966Z"
    }
   },
   "outputs": [],
   "source": [
    "for file in files:\n",
    "    if file.startswith('.'):\n",
    "        continue\n",
    "    seq_id = file.split(\"_\")[2].replace(\".csv\", \"\")\n",
    "    file_df = pd.read_csv(f\"../datasets/indoor_user_movement_rss_data/dataset/{file}\")\n",
    "    file_df['seq_id'] = seq_id\n",
    "    movements_df = pd.concat([movements_df, file_df])"
   ]
  },
  {
   "cell_type": "code",
   "execution_count": 13,
   "id": "69dd7e89-0713-467f-a3cd-fa57232600b8",
   "metadata": {
    "ExecuteTime": {
     "end_time": "2024-04-08T18:32:42.312971Z",
     "start_time": "2024-04-08T18:32:42.300931Z"
    }
   },
   "outputs": [],
   "source": [
    "movements_df.reset_index(inplace=True)\n",
    "movements_df.drop(\"index\", axis=1, inplace=True)"
   ]
  },
  {
   "cell_type": "code",
   "execution_count": 14,
   "id": "1c648f91-6f9c-4757-8491-e54303611afd",
   "metadata": {
    "ExecuteTime": {
     "end_time": "2024-04-08T18:32:42.328639Z",
     "start_time": "2024-04-08T18:32:42.314964Z"
    }
   },
   "outputs": [],
   "source": [
    "movements_df.reset_index(inplace=True, names='id')"
   ]
  },
  {
   "cell_type": "code",
   "execution_count": 15,
   "id": "26b9c90a-d697-47bb-878b-4828cbba7d73",
   "metadata": {
    "ExecuteTime": {
     "end_time": "2024-04-08T18:32:42.343581Z",
     "start_time": "2024-04-08T18:32:42.330677Z"
    }
   },
   "outputs": [],
   "source": [
    "movements_df['RSS_anchor1'] = movements_df['#RSS_anchor1']\n",
    "movements_df.drop('#RSS_anchor1', axis=1, inplace=True)"
   ]
  },
  {
   "cell_type": "code",
   "execution_count": 16,
   "id": "d681fc75-3aff-4c0e-934a-97144285d125",
   "metadata": {
    "ExecuteTime": {
     "end_time": "2024-04-08T18:32:42.374677Z",
     "start_time": "2024-04-08T18:32:42.345651Z"
    }
   },
   "outputs": [],
   "source": [
    "movements_df['seq_id'] = pd.to_numeric(movements_df['seq_id'])"
   ]
  },
  {
   "cell_type": "code",
   "execution_count": 17,
   "id": "1a483b14-e1bf-4472-a3db-5abb1ba22ac2",
   "metadata": {
    "ExecuteTime": {
     "end_time": "2024-04-08T18:32:42.390580Z",
     "start_time": "2024-04-08T18:32:42.376581Z"
    }
   },
   "outputs": [
    {
     "data": {
      "text/plain": [
       "314"
      ]
     },
     "execution_count": 17,
     "metadata": {},
     "output_type": "execute_result"
    }
   ],
   "source": [
    "len(movements_df['seq_id'].unique())"
   ]
  },
  {
   "cell_type": "code",
   "execution_count": 18,
   "id": "a6b9fdd5-2aca-44e5-8f53-b3fd6eb6bb21",
   "metadata": {
    "ExecuteTime": {
     "end_time": "2024-04-08T18:32:42.406697Z",
     "start_time": "2024-04-08T18:32:42.392624Z"
    }
   },
   "outputs": [
    {
     "data": {
      "text/html": [
       "<div>\n",
       "<style scoped>\n",
       "    .dataframe tbody tr th:only-of-type {\n",
       "        vertical-align: middle;\n",
       "    }\n",
       "\n",
       "    .dataframe tbody tr th {\n",
       "        vertical-align: top;\n",
       "    }\n",
       "\n",
       "    .dataframe thead th {\n",
       "        text-align: right;\n",
       "    }\n",
       "</style>\n",
       "<table border=\"1\" class=\"dataframe\">\n",
       "  <thead>\n",
       "    <tr style=\"text-align: right;\">\n",
       "      <th></th>\n",
       "      <th>id</th>\n",
       "      <th>RSS_anchor2</th>\n",
       "      <th>RSS_anchor3</th>\n",
       "      <th>RSS_anchor4</th>\n",
       "      <th>seq_id</th>\n",
       "      <th>RSS_anchor1</th>\n",
       "    </tr>\n",
       "  </thead>\n",
       "  <tbody>\n",
       "    <tr>\n",
       "      <th>0</th>\n",
       "      <td>0</td>\n",
       "      <td>-0.48</td>\n",
       "      <td>0.28571</td>\n",
       "      <td>0.30</td>\n",
       "      <td>1</td>\n",
       "      <td>-0.90476</td>\n",
       "    </tr>\n",
       "    <tr>\n",
       "      <th>1</th>\n",
       "      <td>1</td>\n",
       "      <td>-0.32</td>\n",
       "      <td>0.14286</td>\n",
       "      <td>0.30</td>\n",
       "      <td>1</td>\n",
       "      <td>-0.57143</td>\n",
       "    </tr>\n",
       "    <tr>\n",
       "      <th>2</th>\n",
       "      <td>2</td>\n",
       "      <td>-0.28</td>\n",
       "      <td>-0.14286</td>\n",
       "      <td>0.35</td>\n",
       "      <td>1</td>\n",
       "      <td>-0.38095</td>\n",
       "    </tr>\n",
       "    <tr>\n",
       "      <th>3</th>\n",
       "      <td>3</td>\n",
       "      <td>-0.20</td>\n",
       "      <td>-0.47619</td>\n",
       "      <td>0.35</td>\n",
       "      <td>1</td>\n",
       "      <td>-0.28571</td>\n",
       "    </tr>\n",
       "    <tr>\n",
       "      <th>4</th>\n",
       "      <td>4</td>\n",
       "      <td>-0.20</td>\n",
       "      <td>0.14286</td>\n",
       "      <td>-0.20</td>\n",
       "      <td>1</td>\n",
       "      <td>-0.14286</td>\n",
       "    </tr>\n",
       "    <tr>\n",
       "      <th>...</th>\n",
       "      <td>...</td>\n",
       "      <td>...</td>\n",
       "      <td>...</td>\n",
       "      <td>...</td>\n",
       "      <td>...</td>\n",
       "      <td>...</td>\n",
       "    </tr>\n",
       "    <tr>\n",
       "      <th>13192</th>\n",
       "      <td>13192</td>\n",
       "      <td>0.28</td>\n",
       "      <td>-0.76190</td>\n",
       "      <td>-0.55</td>\n",
       "      <td>99</td>\n",
       "      <td>0.19048</td>\n",
       "    </tr>\n",
       "    <tr>\n",
       "      <th>13193</th>\n",
       "      <td>13193</td>\n",
       "      <td>0.40</td>\n",
       "      <td>-1.00000</td>\n",
       "      <td>-0.75</td>\n",
       "      <td>99</td>\n",
       "      <td>0.19048</td>\n",
       "    </tr>\n",
       "    <tr>\n",
       "      <th>13194</th>\n",
       "      <td>13194</td>\n",
       "      <td>0.24</td>\n",
       "      <td>-1.00000</td>\n",
       "      <td>-0.65</td>\n",
       "      <td>99</td>\n",
       "      <td>0.28571</td>\n",
       "    </tr>\n",
       "    <tr>\n",
       "      <th>13195</th>\n",
       "      <td>13195</td>\n",
       "      <td>0.20</td>\n",
       "      <td>-0.85714</td>\n",
       "      <td>-0.55</td>\n",
       "      <td>99</td>\n",
       "      <td>0.33333</td>\n",
       "    </tr>\n",
       "    <tr>\n",
       "      <th>13196</th>\n",
       "      <td>13196</td>\n",
       "      <td>0.60</td>\n",
       "      <td>-1.00000</td>\n",
       "      <td>-0.60</td>\n",
       "      <td>99</td>\n",
       "      <td>0.42857</td>\n",
       "    </tr>\n",
       "  </tbody>\n",
       "</table>\n",
       "<p>13197 rows × 6 columns</p>\n",
       "</div>"
      ],
      "text/plain": [
       "          id   RSS_anchor2   RSS_anchor3   RSS_anchor4  seq_id  RSS_anchor1\n",
       "0          0         -0.48       0.28571          0.30       1     -0.90476\n",
       "1          1         -0.32       0.14286          0.30       1     -0.57143\n",
       "2          2         -0.28      -0.14286          0.35       1     -0.38095\n",
       "3          3         -0.20      -0.47619          0.35       1     -0.28571\n",
       "4          4         -0.20       0.14286         -0.20       1     -0.14286\n",
       "...      ...           ...           ...           ...     ...          ...\n",
       "13192  13192          0.28      -0.76190         -0.55      99      0.19048\n",
       "13193  13193          0.40      -1.00000         -0.75      99      0.19048\n",
       "13194  13194          0.24      -1.00000         -0.65      99      0.28571\n",
       "13195  13195          0.20      -0.85714         -0.55      99      0.33333\n",
       "13196  13196          0.60      -1.00000         -0.60      99      0.42857\n",
       "\n",
       "[13197 rows x 6 columns]"
      ]
     },
     "execution_count": 18,
     "metadata": {},
     "output_type": "execute_result"
    }
   ],
   "source": [
    "movements_df"
   ]
  },
  {
   "cell_type": "code",
   "execution_count": 19,
   "id": "70ab1956-9283-4816-b3c2-caf4b24742bc",
   "metadata": {},
   "outputs": [],
   "source": [
    "denormalized_table = target\\\n",
    ".merge(movements_df, how='left', left_on=['sequence_ID'], right_on=['seq_id'])\\\n",
    ".merge(dataset_group, how='left', on=['sequence_ID'])\\\n",
    ".merge(paths, how='left', on=['sequence_ID'])\\\n",
    ".rename(columns=lambda x: x.strip())\\\n",
    ".drop(['seq_id', 'sequence_ID', 'id'], axis=1)"
   ]
  },
  {
   "cell_type": "code",
   "execution_count": 20,
   "id": "70fb55b5-0eb4-4a09-8908-95bde2ebb870",
   "metadata": {},
   "outputs": [
    {
     "data": {
      "text/html": [
       "<div>\n",
       "<style scoped>\n",
       "    .dataframe tbody tr th:only-of-type {\n",
       "        vertical-align: middle;\n",
       "    }\n",
       "\n",
       "    .dataframe tbody tr th {\n",
       "        vertical-align: top;\n",
       "    }\n",
       "\n",
       "    .dataframe thead th {\n",
       "        text-align: right;\n",
       "    }\n",
       "</style>\n",
       "<table border=\"1\" class=\"dataframe\">\n",
       "  <thead>\n",
       "    <tr style=\"text-align: right;\">\n",
       "      <th></th>\n",
       "      <th>class_label</th>\n",
       "      <th>RSS_anchor2</th>\n",
       "      <th>RSS_anchor3</th>\n",
       "      <th>RSS_anchor4</th>\n",
       "      <th>RSS_anchor1</th>\n",
       "      <th>dataset_ID</th>\n",
       "      <th>path_ID</th>\n",
       "    </tr>\n",
       "  </thead>\n",
       "  <tbody>\n",
       "    <tr>\n",
       "      <th>0</th>\n",
       "      <td>1</td>\n",
       "      <td>-0.48000</td>\n",
       "      <td>0.28571</td>\n",
       "      <td>0.30000</td>\n",
       "      <td>-0.90476</td>\n",
       "      <td>1</td>\n",
       "      <td>1</td>\n",
       "    </tr>\n",
       "    <tr>\n",
       "      <th>1</th>\n",
       "      <td>1</td>\n",
       "      <td>-0.32000</td>\n",
       "      <td>0.14286</td>\n",
       "      <td>0.30000</td>\n",
       "      <td>-0.57143</td>\n",
       "      <td>1</td>\n",
       "      <td>1</td>\n",
       "    </tr>\n",
       "    <tr>\n",
       "      <th>2</th>\n",
       "      <td>1</td>\n",
       "      <td>-0.28000</td>\n",
       "      <td>-0.14286</td>\n",
       "      <td>0.35000</td>\n",
       "      <td>-0.38095</td>\n",
       "      <td>1</td>\n",
       "      <td>1</td>\n",
       "    </tr>\n",
       "    <tr>\n",
       "      <th>3</th>\n",
       "      <td>1</td>\n",
       "      <td>-0.20000</td>\n",
       "      <td>-0.47619</td>\n",
       "      <td>0.35000</td>\n",
       "      <td>-0.28571</td>\n",
       "      <td>1</td>\n",
       "      <td>1</td>\n",
       "    </tr>\n",
       "    <tr>\n",
       "      <th>4</th>\n",
       "      <td>1</td>\n",
       "      <td>-0.20000</td>\n",
       "      <td>0.14286</td>\n",
       "      <td>-0.20000</td>\n",
       "      <td>-0.14286</td>\n",
       "      <td>1</td>\n",
       "      <td>1</td>\n",
       "    </tr>\n",
       "    <tr>\n",
       "      <th>...</th>\n",
       "      <td>...</td>\n",
       "      <td>...</td>\n",
       "      <td>...</td>\n",
       "      <td>...</td>\n",
       "      <td>...</td>\n",
       "      <td>...</td>\n",
       "      <td>...</td>\n",
       "    </tr>\n",
       "    <tr>\n",
       "      <th>13192</th>\n",
       "      <td>-1</td>\n",
       "      <td>-0.60000</td>\n",
       "      <td>0.73333</td>\n",
       "      <td>1.00000</td>\n",
       "      <td>-0.50000</td>\n",
       "      <td>3</td>\n",
       "      <td>6</td>\n",
       "    </tr>\n",
       "    <tr>\n",
       "      <th>13193</th>\n",
       "      <td>-1</td>\n",
       "      <td>-0.46667</td>\n",
       "      <td>0.73333</td>\n",
       "      <td>1.00000</td>\n",
       "      <td>-0.50000</td>\n",
       "      <td>3</td>\n",
       "      <td>6</td>\n",
       "    </tr>\n",
       "    <tr>\n",
       "      <th>13194</th>\n",
       "      <td>-1</td>\n",
       "      <td>-0.42222</td>\n",
       "      <td>0.73333</td>\n",
       "      <td>0.36170</td>\n",
       "      <td>-0.50000</td>\n",
       "      <td>3</td>\n",
       "      <td>6</td>\n",
       "    </tr>\n",
       "    <tr>\n",
       "      <th>13195</th>\n",
       "      <td>-1</td>\n",
       "      <td>-0.33333</td>\n",
       "      <td>0.55556</td>\n",
       "      <td>-0.31915</td>\n",
       "      <td>-0.40909</td>\n",
       "      <td>3</td>\n",
       "      <td>6</td>\n",
       "    </tr>\n",
       "    <tr>\n",
       "      <th>13196</th>\n",
       "      <td>-1</td>\n",
       "      <td>-0.46667</td>\n",
       "      <td>0.46667</td>\n",
       "      <td>-0.31915</td>\n",
       "      <td>-0.45455</td>\n",
       "      <td>3</td>\n",
       "      <td>6</td>\n",
       "    </tr>\n",
       "  </tbody>\n",
       "</table>\n",
       "<p>13197 rows × 7 columns</p>\n",
       "</div>"
      ],
      "text/plain": [
       "       class_label  RSS_anchor2  RSS_anchor3  RSS_anchor4  RSS_anchor1  \\\n",
       "0                1     -0.48000      0.28571      0.30000     -0.90476   \n",
       "1                1     -0.32000      0.14286      0.30000     -0.57143   \n",
       "2                1     -0.28000     -0.14286      0.35000     -0.38095   \n",
       "3                1     -0.20000     -0.47619      0.35000     -0.28571   \n",
       "4                1     -0.20000      0.14286     -0.20000     -0.14286   \n",
       "...            ...          ...          ...          ...          ...   \n",
       "13192           -1     -0.60000      0.73333      1.00000     -0.50000   \n",
       "13193           -1     -0.46667      0.73333      1.00000     -0.50000   \n",
       "13194           -1     -0.42222      0.73333      0.36170     -0.50000   \n",
       "13195           -1     -0.33333      0.55556     -0.31915     -0.40909   \n",
       "13196           -1     -0.46667      0.46667     -0.31915     -0.45455   \n",
       "\n",
       "       dataset_ID  path_ID  \n",
       "0               1        1  \n",
       "1               1        1  \n",
       "2               1        1  \n",
       "3               1        1  \n",
       "4               1        1  \n",
       "...           ...      ...  \n",
       "13192           3        6  \n",
       "13193           3        6  \n",
       "13194           3        6  \n",
       "13195           3        6  \n",
       "13196           3        6  \n",
       "\n",
       "[13197 rows x 7 columns]"
      ]
     },
     "execution_count": 20,
     "metadata": {},
     "output_type": "execute_result"
    }
   ],
   "source": [
    "denormalized_table"
   ]
  },
  {
   "cell_type": "code",
   "execution_count": 21,
   "id": "dde9ba71-0a5e-4d26-81d5-d7ca842b53ad",
   "metadata": {},
   "outputs": [],
   "source": [
    "numerical_cols = ['RSS_anchor1', 'RSS_anchor2', 'RSS_anchor3', 'RSS_anchor4']\n",
    "# categorical_cols = ['dataset_ID', 'path_ID']\n",
    "# Numerical pipeline\n",
    "numerical_pipeline = Pipeline([\n",
    "    # ('imputer', SimpleImputer(strategy='mean')),  # Example: handle missing values\n",
    "    ('scaler', StandardScaler())  # Scale features\n",
    "])\n",
    "\n",
    "# Categorical pipeline\n",
    "categorical_pipeline = Pipeline([\n",
    "    ('encoder', OneHotEncoder())  # Convert categorical data\n",
    "])\n",
    "\n",
    "# Combine into a single ColumnTransformer\n",
    "preprocessor = ColumnTransformer([\n",
    "    ('num', numerical_pipeline, numerical_cols),\n",
    "])\n",
    "\n",
    "scoring = {\n",
    "    'accuracy': make_scorer(accuracy_score),\n",
    "    'f1': make_scorer(f1_score),\n",
    "    'roc_auc_score': make_scorer(roc_auc_score)\n",
    "}"
   ]
  },
  {
   "cell_type": "code",
   "execution_count": 22,
   "id": "55e6d1e7-b2e2-4afa-bfe4-365c8d94ecc4",
   "metadata": {},
   "outputs": [],
   "source": [
    "X = denormalized_table.drop('class_label', axis=1)\n",
    "y = denormalized_table['class_label']"
   ]
  },
  {
   "cell_type": "code",
   "execution_count": 23,
   "id": "014d7745-8104-4d04-8a5b-b7af087a17d3",
   "metadata": {},
   "outputs": [
    {
     "name": "stdout",
     "output_type": "stream",
     "text": [
      "Running GridSearchCV for RandomForestClassifier.\n",
      "Fitting 10 folds for each of 2 candidates, totalling 20 fits\n",
      "Running GridSearchCV for ExtraTreesClassifier.\n",
      "Fitting 10 folds for each of 2 candidates, totalling 20 fits\n",
      "Running GridSearchCV for AdaBoostClassifier.\n",
      "Fitting 10 folds for each of 2 candidates, totalling 20 fits\n",
      "Running GridSearchCV for GradientBoostingClassifier.\n",
      "Fitting 10 folds for each of 4 candidates, totalling 40 fits\n"
     ]
    }
   ],
   "source": [
    "es = EstimatorSelectionHelper(search_space=search_space)\n",
    "es.fit(X, y, fe_pipeline=preprocessor, scoring=scoring)"
   ]
  },
  {
   "cell_type": "code",
   "execution_count": 24,
   "id": "b306d0e5-6121-46b5-b9a9-45248bd9a713",
   "metadata": {
    "scrolled": true
   },
   "outputs": [
    {
     "ename": "IndexError",
     "evalue": "list index out of range",
     "output_type": "error",
     "traceback": [
      "\u001b[1;31m---------------------------------------------------------------------------\u001b[0m",
      "\u001b[1;31mIndexError\u001b[0m                                Traceback (most recent call last)",
      "Cell \u001b[1;32mIn[24], line 1\u001b[0m\n\u001b[1;32m----> 1\u001b[0m \u001b[43mes\u001b[49m\u001b[38;5;241;43m.\u001b[39;49m\u001b[43msummary\u001b[49m\u001b[43m(\u001b[49m\u001b[43m)\u001b[49m\n",
      "File \u001b[1;32mC:\\Projects\\Private\\PropStar\\gridsearch\\EstimatorSelectionHelper.py:49\u001b[0m, in \u001b[0;36mEstimatorSelectionHelper.summary\u001b[1;34m(self)\u001b[0m\n\u001b[0;32m     40\u001b[0m \u001b[38;5;28;01mfor\u001b[39;00m model_name, grid_search \u001b[38;5;129;01min\u001b[39;00m \u001b[38;5;28mself\u001b[39m\u001b[38;5;241m.\u001b[39mgrid_searches\u001b[38;5;241m.\u001b[39mitems():\n\u001b[0;32m     41\u001b[0m     \u001b[38;5;28;01mfor\u001b[39;00m i \u001b[38;5;129;01min\u001b[39;00m \u001b[38;5;28mrange\u001b[39m(\u001b[38;5;28mlen\u001b[39m(grid_search\u001b[38;5;241m.\u001b[39mcv_results_[\u001b[38;5;124m'\u001b[39m\u001b[38;5;124mparams\u001b[39m\u001b[38;5;124m'\u001b[39m])):\n\u001b[0;32m     42\u001b[0m         result \u001b[38;5;241m=\u001b[39m {\n\u001b[0;32m     43\u001b[0m             \u001b[38;5;124m'\u001b[39m\u001b[38;5;124mmodel\u001b[39m\u001b[38;5;124m'\u001b[39m: model_name,\n\u001b[0;32m     44\u001b[0m             \u001b[38;5;124m'\u001b[39m\u001b[38;5;124mparams\u001b[39m\u001b[38;5;124m'\u001b[39m: grid_search\u001b[38;5;241m.\u001b[39mcv_results_[\u001b[38;5;124m'\u001b[39m\u001b[38;5;124mparams\u001b[39m\u001b[38;5;124m'\u001b[39m][i],\n\u001b[0;32m     45\u001b[0m             \u001b[38;5;124m'\u001b[39m\u001b[38;5;124mmean_test_accuracy\u001b[39m\u001b[38;5;124m'\u001b[39m: grid_search\u001b[38;5;241m.\u001b[39mcv_results_\u001b[38;5;241m.\u001b[39mget(\u001b[38;5;124m'\u001b[39m\u001b[38;5;124mmean_test_accuracy\u001b[39m\u001b[38;5;124m'\u001b[39m, [\u001b[38;5;28;01mNone\u001b[39;00m])[i],\n\u001b[0;32m     46\u001b[0m             \u001b[38;5;124m'\u001b[39m\u001b[38;5;124mstd_test_accuracy\u001b[39m\u001b[38;5;124m'\u001b[39m: grid_search\u001b[38;5;241m.\u001b[39mcv_results_\u001b[38;5;241m.\u001b[39mget(\u001b[38;5;124m'\u001b[39m\u001b[38;5;124mstd_test_accuracy\u001b[39m\u001b[38;5;124m'\u001b[39m, [\u001b[38;5;28;01mNone\u001b[39;00m])[i],\n\u001b[0;32m     47\u001b[0m             \u001b[38;5;124m'\u001b[39m\u001b[38;5;124mmean_test_f1\u001b[39m\u001b[38;5;124m'\u001b[39m: grid_search\u001b[38;5;241m.\u001b[39mcv_results_\u001b[38;5;241m.\u001b[39mget(\u001b[38;5;124m'\u001b[39m\u001b[38;5;124mmean_test_f1\u001b[39m\u001b[38;5;124m'\u001b[39m, [\u001b[38;5;28;01mNone\u001b[39;00m])[i],\n\u001b[0;32m     48\u001b[0m             \u001b[38;5;124m'\u001b[39m\u001b[38;5;124mstd_test_f1\u001b[39m\u001b[38;5;124m'\u001b[39m: grid_search\u001b[38;5;241m.\u001b[39mcv_results_\u001b[38;5;241m.\u001b[39mget(\u001b[38;5;124m'\u001b[39m\u001b[38;5;124mstd_test_f1\u001b[39m\u001b[38;5;124m'\u001b[39m, [\u001b[38;5;28;01mNone\u001b[39;00m])[i],\n\u001b[1;32m---> 49\u001b[0m             \u001b[38;5;124m'\u001b[39m\u001b[38;5;124mmean_test_roc_auc\u001b[39m\u001b[38;5;124m'\u001b[39m: \u001b[43mgrid_search\u001b[49m\u001b[38;5;241;43m.\u001b[39;49m\u001b[43mcv_results_\u001b[49m\u001b[38;5;241;43m.\u001b[39;49m\u001b[43mget\u001b[49m\u001b[43m(\u001b[49m\u001b[38;5;124;43m'\u001b[39;49m\u001b[38;5;124;43mmean_test_roc_auc\u001b[39;49m\u001b[38;5;124;43m'\u001b[39;49m\u001b[43m,\u001b[49m\u001b[43m \u001b[49m\u001b[43m[\u001b[49m\u001b[38;5;28;43;01mNone\u001b[39;49;00m\u001b[43m]\u001b[49m\u001b[43m)\u001b[49m\u001b[43m[\u001b[49m\u001b[43mi\u001b[49m\u001b[43m]\u001b[49m,\n\u001b[0;32m     50\u001b[0m             \u001b[38;5;124m'\u001b[39m\u001b[38;5;124mstd_test_roc_auc\u001b[39m\u001b[38;5;124m'\u001b[39m: grid_search\u001b[38;5;241m.\u001b[39mcv_results_\u001b[38;5;241m.\u001b[39mget(\u001b[38;5;124m'\u001b[39m\u001b[38;5;124mstd_test_roc_auc\u001b[39m\u001b[38;5;124m'\u001b[39m, [\u001b[38;5;28;01mNone\u001b[39;00m])[i],\n\u001b[0;32m     51\u001b[0m         }\n\u001b[0;32m     52\u001b[0m         results\u001b[38;5;241m.\u001b[39mappend(result)\n\u001b[0;32m     53\u001b[0m summary_df \u001b[38;5;241m=\u001b[39m pd\u001b[38;5;241m.\u001b[39mDataFrame(results)\n",
      "\u001b[1;31mIndexError\u001b[0m: list index out of range"
     ]
    }
   ],
   "source": [
    "es.summary()"
   ]
  }
 ],
 "metadata": {
  "kernelspec": {
   "display_name": "Python 3 (ipykernel)",
   "language": "python",
   "name": "python3"
  },
  "language_info": {
   "codemirror_mode": {
    "name": "ipython",
    "version": 3
   },
   "file_extension": ".py",
   "mimetype": "text/x-python",
   "name": "python",
   "nbconvert_exporter": "python",
   "pygments_lexer": "ipython3",
   "version": "3.9.13"
  }
 },
 "nbformat": 4,
 "nbformat_minor": 5
}
