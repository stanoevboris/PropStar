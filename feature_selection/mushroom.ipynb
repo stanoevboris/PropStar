{
 "cells": [
  {
   "cell_type": "code",
   "execution_count": 1,
   "id": "4ee36116-b66c-4f6a-a78c-7afb9d1f08b3",
   "metadata": {},
   "outputs": [],
   "source": [
    "from sklearn.model_selection import StratifiedKFold, train_test_split\n",
    "import numpy as np\n",
    "import pandas as pd\n",
    "from category_encoders import woe\n",
    "from sklearn import preprocessing\n",
    "from sklearn.ensemble import ExtraTreesClassifier, RandomForestClassifier\n",
    "from sklearn.metrics import accuracy_score, f1_score, roc_auc_score\n",
    "from sklearn.datasets import fetch_openml"
   ]
  },
  {
   "cell_type": "code",
   "execution_count": 2,
   "id": "5379a7dd-d1b3-49f6-96a3-64f606ca917d",
   "metadata": {},
   "outputs": [],
   "source": [
    "def preprocess_and_split(X, Y, num_fold=10):\n",
    "    skf = StratifiedKFold(n_splits=num_fold)\n",
    "\n",
    "    for train_index, test_index in skf.split(X, Y):\n",
    "        yield train_index, test_index"
   ]
  },
  {
   "cell_type": "code",
   "execution_count": 3,
   "id": "ef9c50cb-dfd2-468f-af0d-a65972ee118f",
   "metadata": {},
   "outputs": [
    {
     "name": "stderr",
     "output_type": "stream",
     "text": [
      "/mnt/sda/boris_stanoev/PropStar/venv/lib/python3.10/site-packages/sklearn/datasets/_openml.py:303: UserWarning: Multiple active versions of the dataset matching the name mushroom exist. Versions may be fundamentally different, returning version 1.\n",
      "  warn(\n",
      "/mnt/sda/boris_stanoev/PropStar/venv/lib/python3.10/site-packages/sklearn/datasets/_openml.py:1002: FutureWarning: The default value of `parser` will change from `'liac-arff'` to `'auto'` in 1.4. You can set `parser='auto'` to silence this warning. Therefore, an `ImportError` will be raised from 1.4 if the dataset is dense and pandas is not installed. Note that the pandas parser may return different data types. See the Notes Section in fetch_openml's API doc for details.\n",
      "  warn(\n"
     ]
    }
   ],
   "source": [
    "data = fetch_openml(name='mushroom')"
   ]
  },
  {
   "cell_type": "code",
   "execution_count": 4,
   "id": "137e2e5c",
   "metadata": {
    "collapsed": false
   },
   "outputs": [
    {
     "data": {
      "text/plain": [
       "cap-shape                   8124\n",
       "cap-surface                 8124\n",
       "cap-color                   8124\n",
       "bruises%3F                  8124\n",
       "odor                        8124\n",
       "gill-attachment             8124\n",
       "gill-spacing                8124\n",
       "gill-size                   8124\n",
       "gill-color                  8124\n",
       "stalk-shape                 8124\n",
       "stalk-root                  5644\n",
       "stalk-surface-above-ring    8124\n",
       "stalk-surface-below-ring    8124\n",
       "stalk-color-above-ring      8124\n",
       "stalk-color-below-ring      8124\n",
       "veil-type                   8124\n",
       "veil-color                  8124\n",
       "ring-number                 8124\n",
       "ring-type                   8124\n",
       "spore-print-color           8124\n",
       "population                  8124\n",
       "habitat                     8124\n",
       "dtype: int64"
      ]
     },
     "execution_count": 4,
     "metadata": {},
     "output_type": "execute_result"
    }
   ],
   "source": [
    "data.data.count()"
   ]
  },
  {
   "cell_type": "code",
   "execution_count": 5,
   "id": "6c6f681a",
   "metadata": {
    "collapsed": false
   },
   "outputs": [
    {
     "name": "stderr",
     "output_type": "stream",
     "text": [
      "/tmp/ipykernel_1517165/1557993524.py:1: SettingWithCopyWarning: \n",
      "A value is trying to be set on a copy of a slice from a DataFrame\n",
      "\n",
      "See the caveats in the documentation: https://pandas.pydata.org/pandas-docs/stable/user_guide/indexing.html#returning-a-view-versus-a-copy\n",
      "  data.data.rename(columns={'bruises%3F':'bruises'}, inplace=True)\n"
     ]
    }
   ],
   "source": [
    "data.data.rename(columns={'bruises%3F':'bruises'}, inplace=True)"
   ]
  },
  {
   "cell_type": "code",
   "execution_count": 6,
   "id": "023a2aac",
   "metadata": {
    "collapsed": false
   },
   "outputs": [
    {
     "data": {
      "text/plain": [
       "Index(['cap-shape', 'cap-surface', 'cap-color', 'bruises', 'odor',\n",
       "       'gill-attachment', 'gill-spacing', 'gill-size', 'gill-color',\n",
       "       'stalk-shape', 'stalk-root', 'stalk-surface-above-ring',\n",
       "       'stalk-surface-below-ring', 'stalk-color-above-ring',\n",
       "       'stalk-color-below-ring', 'veil-type', 'veil-color', 'ring-number',\n",
       "       'ring-type', 'spore-print-color', 'population', 'habitat'],\n",
       "      dtype='object')"
      ]
     },
     "execution_count": 6,
     "metadata": {},
     "output_type": "execute_result"
    }
   ],
   "source": [
    "data.data.columns"
   ]
  },
  {
   "cell_type": "code",
   "execution_count": 7,
   "id": "d5d0f3e5-dbdd-48be-b80b-0cb2bd2dbeb0",
   "metadata": {},
   "outputs": [
    {
     "data": {
      "text/plain": [
       "cap-shape                   category\n",
       "cap-surface                 category\n",
       "cap-color                   category\n",
       "bruises                     category\n",
       "odor                        category\n",
       "gill-attachment             category\n",
       "gill-spacing                category\n",
       "gill-size                   category\n",
       "gill-color                  category\n",
       "stalk-shape                 category\n",
       "stalk-root                  category\n",
       "stalk-surface-above-ring    category\n",
       "stalk-surface-below-ring    category\n",
       "stalk-color-above-ring      category\n",
       "stalk-color-below-ring      category\n",
       "veil-type                   category\n",
       "veil-color                  category\n",
       "ring-number                 category\n",
       "ring-type                   category\n",
       "spore-print-color           category\n",
       "population                  category\n",
       "habitat                     category\n",
       "dtype: object"
      ]
     },
     "execution_count": 7,
     "metadata": {},
     "output_type": "execute_result"
    }
   ],
   "source": [
    "data.data.dtypes"
   ]
  },
  {
   "cell_type": "code",
   "execution_count": 8,
   "id": "58e00440-321d-46a5-8441-98a5884bb23f",
   "metadata": {},
   "outputs": [],
   "source": [
    "woe_cols = list(data.data.columns)"
   ]
  },
  {
   "cell_type": "markdown",
   "id": "156dacda-d516-4c49-b1f6-f31017fd4367",
   "metadata": {},
   "source": [
    "# ML test"
   ]
  },
  {
   "cell_type": "code",
   "execution_count": 11,
   "id": "ec4b9015-ca13-40fc-9f8c-cf40c74464f7",
   "metadata": {},
   "outputs": [],
   "source": [
    "X = data.data.copy()\n",
    "y = data.target.copy()"
   ]
  },
  {
   "cell_type": "code",
   "execution_count": 12,
   "id": "5a1d4b81-487c-473a-b46a-83d8df7b9680",
   "metadata": {},
   "outputs": [
    {
     "name": "stdout",
     "output_type": "stream",
     "text": [
      "Unique classes:{'p', 'e'}\n",
      "model init\n",
      "ACC: 0.8941538461538462\n",
      "F1: 0.8767908309455587\n",
      "ROC AUC: 1.0\n",
      "Unique classes:{'p', 'e'}\n",
      "model init\n",
      "ACC: 1.0\n",
      "F1: 1.0\n",
      "ROC AUC: 1.0\n",
      "Unique classes:{'p', 'e'}\n",
      "model init\n",
      "ACC: 0.9963076923076923\n",
      "F1: 0.9961538461538463\n",
      "ROC AUC: 1.0\n",
      "Unique classes:{'p', 'e'}\n",
      "model init\n",
      "ACC: 1.0\n",
      "F1: 1.0\n",
      "ROC AUC: 1.0\n",
      "Unique classes:{'p', 'e'}\n",
      "model init\n",
      "ACC: 0.8694581280788177\n",
      "F1: 0.879682179341657\n",
      "ROC AUC: 0.99679272531788\n"
     ]
    }
   ],
   "source": [
    "vectorizer = woe.WOEEncoder(cols=woe_cols)\n",
    "# vectorizer = preprocessing.OneHotEncoder(handle_unknown='ignore')\n",
    "label_encoder = preprocessing.LabelEncoder()\n",
    "\n",
    "split_gen = preprocess_and_split(X, y, num_fold=5)\n",
    "\n",
    "for train_index, test_index in split_gen:\n",
    "    X_train = X.iloc[train_index, :].copy()\n",
    "    y_train = y.iloc[train_index].copy()\n",
    "    X_test = X.iloc[test_index, :].copy()\n",
    "    y_test = y.iloc[test_index].copy()\n",
    "    train_y = label_encoder.fit_transform(y_train)\n",
    "    test_y = label_encoder.transform(y_test)\n",
    "    \n",
    "    unique_classes = set(y_test)\n",
    "    print(f\"Unique classes:{unique_classes}\")\n",
    "    # woe_data = [woe_cols].copy()\n",
    "    \n",
    "    woe_train_features = vectorizer.fit_transform(X=X_train[woe_cols], y=train_y)\n",
    "    woe_test_features = vectorizer.transform(X=X_test[woe_cols])\n",
    "    original_train_df = X_train.copy()\n",
    "    original_train_df.update(woe_train_features)\n",
    "    \n",
    "    original_test_df = X_test.copy()\n",
    "    original_test_df.update(woe_test_features)\n",
    "    \n",
    "    train_x = original_train_df.copy()\n",
    "    test_x = original_test_df.copy()\n",
    "    print(\"model init\")\n",
    "    model = ExtraTreesClassifier(n_estimators=16,\n",
    "                               random_state=0)\n",
    "    model.fit(train_x, train_y)\n",
    "    predictions = model.predict(test_x)\n",
    "    predictions_scores = model.predict_proba(test_x)\n",
    "    \n",
    "    acc = accuracy_score(test_y, predictions)\n",
    "    f1 = f1_score(test_y, predictions)\n",
    "    print(f'ACC: {acc}')\n",
    "    print(f'F1: {f1}')\n",
    "    roc = roc_auc_score(test_y, predictions_scores[:,1])\n",
    "    print(f'ROC AUC: {roc}')"
   ]
  },
  {
   "cell_type": "markdown",
   "id": "2fcdc465-455c-4db5-bb5d-02e4146c6367",
   "metadata": {},
   "source": [
    "# ML test"
   ]
  },
  {
   "cell_type": "code",
   "execution_count": 11,
   "id": "9fb024e2-b38e-48d7-be48-6edfaf00a559",
   "metadata": {},
   "outputs": [],
   "source": [
    "X = data.data.copy()\n",
    "y = data.target.copy()"
   ]
  },
  {
   "cell_type": "code",
   "execution_count": 12,
   "id": "b3444b51-49f0-4f73-a49d-355a8a545827",
   "metadata": {},
   "outputs": [
    {
     "name": "stdout",
     "output_type": "stream",
     "text": [
      "Unique classes:{'p', 'e'}\n",
      "model init\n",
      "ACC: 0.8941538461538462\n",
      "F1: 0.8767908309455587\n",
      "ROC AUC: 1.0\n",
      "Unique classes:{'p', 'e'}\n",
      "model init\n",
      "ACC: 1.0\n",
      "F1: 1.0\n",
      "ROC AUC: 1.0\n",
      "Unique classes:{'p', 'e'}\n",
      "model init\n",
      "ACC: 0.9963076923076923\n",
      "F1: 0.9961538461538463\n",
      "ROC AUC: 1.0\n",
      "Unique classes:{'p', 'e'}\n",
      "model init\n",
      "ACC: 1.0\n",
      "F1: 1.0\n",
      "ROC AUC: 1.0\n",
      "Unique classes:{'p', 'e'}\n",
      "model init\n",
      "ACC: 0.8694581280788177\n",
      "F1: 0.879682179341657\n",
      "ROC AUC: 0.99679272531788\n"
     ]
    }
   ],
   "source": [
    "vectorizer = woe.WOEEncoder(cols=woe_cols)\n",
    "# vectorizer = preprocessing.OneHotEncoder(handle_unknown='ignore')\n",
    "label_encoder = preprocessing.LabelEncoder()\n",
    "\n",
    "split_gen = preprocess_and_split(X, y, num_fold=5)\n",
    "\n",
    "for train_index, test_index in split_gen:\n",
    "    X_train = X.iloc[train_index, :].copy()\n",
    "    y_train = y.iloc[train_index].copy()\n",
    "    X_test = X.iloc[test_index, :].copy()\n",
    "    y_test = y.iloc[test_index].copy()\n",
    "    train_y = label_encoder.fit_transform(y_train)\n",
    "    test_y = label_encoder.transform(y_test)\n",
    "    \n",
    "    unique_classes = set(y_test)\n",
    "    print(f\"Unique classes:{unique_classes}\")\n",
    "    # woe_data = [woe_cols].copy()\n",
    "    \n",
    "    woe_train_features = vectorizer.fit_transform(X=X_train[woe_cols], y=train_y)\n",
    "    woe_test_features = vectorizer.transform(X=X_test[woe_cols])\n",
    "    original_train_df = X_train.copy()\n",
    "    original_train_df.update(woe_train_features)\n",
    "    \n",
    "    original_test_df = X_test.copy()\n",
    "    original_test_df.update(woe_test_features)\n",
    "    \n",
    "    train_x = original_train_df.copy()\n",
    "    test_x = original_test_df.copy()\n",
    "    print(\"model init\")\n",
    "    model = ExtraTreesClassifier(n_estimators=16,\n",
    "                               random_state=0)\n",
    "    model.fit(train_x, train_y)\n",
    "    predictions = model.predict(test_x)\n",
    "    predictions_scores = model.predict_proba(test_x)\n",
    "    \n",
    "    acc = accuracy_score(test_y, predictions)\n",
    "    f1 = f1_score(test_y, predictions)\n",
    "    print(f'ACC: {acc}')\n",
    "    print(f'F1: {f1}')\n",
    "    roc = roc_auc_score(test_y, predictions_scores[:,1])\n",
    "    print(f'ROC AUC: {roc}')"
   ]
  },
  {
   "cell_type": "markdown",
   "id": "9324532e-722d-4233-95ab-561754d5e2f4",
   "metadata": {},
   "source": [
    "# Fit/test original columns"
   ]
  },
  {
   "cell_type": "code",
   "execution_count": 9,
   "id": "d08900a7-2e0f-47bf-ba5d-90ebc4781193",
   "metadata": {},
   "outputs": [],
   "source": [
    "X = data.data.copy()\n",
    "y = data.target.copy()"
   ]
  },
  {
   "cell_type": "code",
   "execution_count": 10,
   "id": "88842595-5c0f-4ebc-80e3-931de7b39c17",
   "metadata": {},
   "outputs": [
    {
     "name": "stdout",
     "output_type": "stream",
     "text": [
      "Unique classes:{'e', 'p'}\n",
      "model init\n",
      "cap-shape                   object\n",
      "cap-surface                 object\n",
      "cap-color                   object\n",
      "bruises                     object\n",
      "odor                        object\n",
      "gill-attachment             object\n",
      "gill-spacing                object\n",
      "gill-size                   object\n",
      "gill-color                  object\n",
      "stalk-shape                 object\n",
      "stalk-root                  object\n",
      "stalk-surface-above-ring    object\n",
      "stalk-surface-below-ring    object\n",
      "stalk-color-above-ring      object\n",
      "stalk-color-below-ring      object\n",
      "veil-type                   object\n",
      "veil-color                  object\n",
      "ring-number                 object\n",
      "ring-type                   object\n",
      "spore-print-color           object\n",
      "population                  object\n",
      "habitat                     object\n",
      "dtype: object\n",
      "ACC: 1.0\n",
      "F1: 1.0\n",
      "ROC AUC: 1.0\n"
     ]
    }
   ],
   "source": [
    "vectorizer = woe.WOEEncoder(cols=woe_cols)\n",
    "# vectorizer = preprocessing.OneHotEncoder(handle_unknown='ignore')\n",
    "label_encoder = preprocessing.LabelEncoder()\n",
    "\n",
    "X_train, X_test, y_train, y_test = train_test_split(X, y, test_size=0.33, random_state=42)\n",
    "train_y = label_encoder.fit_transform(y_train)\n",
    "test_y = label_encoder.transform(y_test)\n",
    "\n",
    "unique_classes = set(y_test)\n",
    "print(f\"Unique classes:{unique_classes}\")\n",
    "# woe_data = [woe_cols].copy()\n",
    "\n",
    "woe_train_features = vectorizer.fit_transform(X=X_train[woe_cols], y=train_y)\n",
    "woe_test_features = vectorizer.transform(X=X_test[woe_cols])\n",
    "original_train_df = X_train.copy()\n",
    "original_train_df.update(woe_train_features)\n",
    "\n",
    "original_test_df = X_test.copy()\n",
    "original_test_df.update(woe_test_features)\n",
    "\n",
    "train_x = original_train_df.copy()\n",
    "test_x = original_test_df.copy()\n",
    "print(\"model init\")\n",
    "model = ExtraTreesClassifier(n_estimators=16,\n",
    "                           random_state=0)\n",
    "print(train_x.dtypes)\n",
    "model.fit(train_x, train_y)\n",
    "predictions = model.predict(test_x)\n",
    "predictions_scores = model.predict_proba(test_x)\n",
    "\n",
    "acc = accuracy_score(test_y, predictions)\n",
    "f1 = f1_score(test_y, predictions)\n",
    "print(f'ACC: {acc}')\n",
    "print(f'F1: {f1}')\n",
    "roc = roc_auc_score(test_y, predictions_scores[:,1])\n",
    "print(f'ROC AUC: {roc}')"
   ]
  },
  {
   "cell_type": "markdown",
   "id": "43c79c76-07fc-48f4-b50e-2c231f177b3e",
   "metadata": {},
   "source": [
    "**Columns unique values**"
   ]
  },
  {
   "cell_type": "code",
   "execution_count": 11,
   "id": "504137ea-f604-4597-ac12-32b5b5220d11",
   "metadata": {},
   "outputs": [
    {
     "name": "stdout",
     "output_type": "stream",
     "text": [
      "cap-shape-6\n",
      "cap-surface-4\n",
      "cap-color-10\n",
      "bruises-2\n",
      "odor-9\n",
      "gill-attachment-2\n",
      "gill-spacing-2\n",
      "gill-size-2\n",
      "gill-color-12\n",
      "stalk-shape-2\n",
      "stalk-root-5\n",
      "stalk-surface-above-ring-4\n",
      "stalk-surface-below-ring-4\n",
      "stalk-color-above-ring-9\n",
      "stalk-color-below-ring-9\n",
      "veil-type-1\n",
      "veil-color-4\n",
      "ring-number-3\n",
      "ring-type-5\n",
      "spore-print-color-9\n",
      "population-6\n",
      "habitat-7\n"
     ]
    }
   ],
   "source": [
    "for col in train_x.columns.values:\n",
    "    cnt = len(train_x[col].unique())\n",
    "    print(f'{col}-{cnt}')"
   ]
  },
  {
   "cell_type": "markdown",
   "id": "69e09cf6-02df-41cb-8af2-b76248530e38",
   "metadata": {},
   "source": [
    "### Feature importance based on mean decrease in impurity"
   ]
  },
  {
   "cell_type": "code",
   "execution_count": 12,
   "id": "a0c7e7e9-02b4-4fc1-9268-e5cccf07a316",
   "metadata": {},
   "outputs": [
    {
     "name": "stdout",
     "output_type": "stream",
     "text": [
      "Elapsed time to compute the importances: 0.001 seconds\n"
     ]
    }
   ],
   "source": [
    "import time\n",
    "start_time = time.time()\n",
    "importances = model.feature_importances_\n",
    "std = np.std([tree.feature_importances_ for tree in model.estimators_], axis=0)\n",
    "elapsed_time = time.time() - start_time\n",
    "\n",
    "print(f\"Elapsed time to compute the importances: {elapsed_time:.3f} seconds\")"
   ]
  },
  {
   "cell_type": "code",
   "execution_count": 13,
   "id": "e9167caa-dceb-4f9c-9297-90510db0b7d1",
   "metadata": {},
   "outputs": [
    {
     "data": {
      "image/png": "[encoded data removed]",
      "text/plain": [
       "<Figure size 640x480 with 1 Axes>"
      ]
     },
     "metadata": {},
     "output_type": "display_data"
    }
   ],
   "source": [
    "import matplotlib.pyplot as plt\n",
    "\n",
    "forest_importances = pd.Series(importances, index=list(train_x.columns.values))\n",
    "\n",
    "fig, ax = plt.subplots()\n",
    "forest_importances.plot.bar(yerr=std, ax=ax)\n",
    "ax.set_title(\"Feature importances using MDI\")\n",
    "ax.set_ylabel(\"Mean decrease in impurity\")\n",
    "fig.tight_layout()"
   ]
  },
  {
   "cell_type": "code",
   "execution_count": 14,
   "id": "cfedf390-d85b-4c64-9a6a-6d724ebe1f0d",
   "metadata": {},
   "outputs": [
    {
     "data": {
      "text/plain": [
       "cap-shape                   0.001351\n",
       "cap-surface                 0.013970\n",
       "cap-color                   0.006699\n",
       "bruises                     0.061855\n",
       "odor                        0.433365\n",
       "gill-attachment             0.000021\n",
       "gill-spacing                0.036637\n",
       "gill-size                   0.093957\n",
       "gill-color                  0.053641\n",
       "stalk-shape                 0.009643\n",
       "stalk-root                  0.010192\n",
       "stalk-surface-above-ring    0.058920\n",
       "stalk-surface-below-ring    0.073390\n",
       "stalk-color-above-ring      0.019148\n",
       "stalk-color-below-ring      0.005132\n",
       "veil-type                   0.000000\n",
       "veil-color                  0.001256\n",
       "ring-number                 0.010171\n",
       "ring-type                   0.013548\n",
       "spore-print-color           0.076732\n",
       "population                  0.012465\n",
       "habitat                     0.007906\n",
       "dtype: float64"
      ]
     },
     "execution_count": 14,
     "metadata": {},
     "output_type": "execute_result"
    }
   ],
   "source": [
    "forest_importances"
   ]
  },
  {
   "cell_type": "code",
   "execution_count": 15,
   "id": "730ebe6a",
   "metadata": {
    "collapsed": false
   },
   "outputs": [
    {
     "data": {
      "text/plain": [
       "cap-shape                 0.001351\n",
       "cap-surface               0.013970\n",
       "cap-color                 0.006699\n",
       "gill-attachment           0.000021\n",
       "stalk-shape               0.009643\n",
       "stalk-root                0.010192\n",
       "stalk-color-above-ring    0.019148\n",
       "stalk-color-below-ring    0.005132\n",
       "veil-type                 0.000000\n",
       "veil-color                0.001256\n",
       "ring-number               0.010171\n",
       "ring-type                 0.013548\n",
       "population                0.012465\n",
       "habitat                   0.007906\n",
       "dtype: float64"
      ]
     },
     "execution_count": 15,
     "metadata": {},
     "output_type": "execute_result"
    }
   ],
   "source": [
    "forest_importances[forest_importances <0.03]"
   ]
  },
  {
   "cell_type": "markdown",
   "id": "94cf21c8-0603-4b67-a84e-8cf2647afcef",
   "metadata": {},
   "source": [
    "# Fit/test added random columns"
   ]
  },
  {
   "cell_type": "code",
   "execution_count": 16,
   "id": "fccdc5bb-d342-4086-b941-b9d63c536368",
   "metadata": {},
   "outputs": [],
   "source": [
    "X = data.data.copy()\n",
    "y = data.target.copy()"
   ]
  },
  {
   "cell_type": "code",
   "execution_count": 17,
   "id": "93300d44-1de7-45bd-a592-a8a381c19237",
   "metadata": {},
   "outputs": [],
   "source": [
    "for i in range(10):\n",
    "    X[f'fake_{i}'] = np.random.rand(len(X))"
   ]
  },
  {
   "cell_type": "code",
   "execution_count": 18,
   "id": "dc9702f5-8622-487a-8a87-2970b6612a17",
   "metadata": {},
   "outputs": [
    {
     "name": "stdout",
     "output_type": "stream",
     "text": [
      "Unique classes:{'e', 'p'}\n",
      "ACC: 1.0\n",
      "F1: 1.0\n",
      "ROC AUC: 1.0\n"
     ]
    }
   ],
   "source": [
    "vectorizer = woe.WOEEncoder(cols=woe_cols)\n",
    "# vectorizer = preprocessing.OneHotEncoder(handle_unknown='ignore')\n",
    "label_encoder = preprocessing.LabelEncoder()\n",
    "\n",
    "X_train, X_test, y_train, y_test = train_test_split(X, y, test_size=0.33, random_state=42)\n",
    "\n",
    "train_y = label_encoder.fit_transform(y_train)\n",
    "test_y = label_encoder.transform(y_test)\n",
    "\n",
    "unique_classes = set(y_test)\n",
    "print(f\"Unique classes:{unique_classes}\")\n",
    "\n",
    "woe_train_features = vectorizer.fit_transform(X=X_train[woe_cols], y=train_y)\n",
    "woe_test_features = vectorizer.transform(X=X_test[woe_cols])\n",
    "\n",
    "original_train_df = X_train.copy()\n",
    "original_train_df.update(woe_train_features)\n",
    "\n",
    "original_test_df = X_test.copy()\n",
    "original_test_df.update(woe_test_features)\n",
    "\n",
    "train_x = original_train_df.copy()\n",
    "test_x = original_test_df.copy()\n",
    "model = ExtraTreesClassifier(n_estimators=16,\n",
    "                           random_state=42)\n",
    "model.fit(train_x, train_y)\n",
    "\n",
    "predictions = model.predict(test_x)\n",
    "predictions_scores = model.predict_proba(test_x)\n",
    "\n",
    "\n",
    "acc = accuracy_score(test_y, predictions)\n",
    "f1 = f1_score(test_y, predictions)\n",
    "print(f'ACC: {acc}')\n",
    "print(f'F1: {f1}')\n",
    "roc = roc_auc_score(test_y, predictions_scores[:,1])\n",
    "print(f'ROC AUC: {roc}')"
   ]
  },
  {
   "cell_type": "code",
   "execution_count": 19,
   "id": "38636c46-b65e-4598-ba14-e75aae0f3c9d",
   "metadata": {},
   "outputs": [
    {
     "data": {
      "text/html": [
       "<div>\n",
       "<style scoped>\n",
       "    .dataframe tbody tr th:only-of-type {\n",
       "        vertical-align: middle;\n",
       "    }\n",
       "\n",
       "    .dataframe tbody tr th {\n",
       "        vertical-align: top;\n",
       "    }\n",
       "\n",
       "    .dataframe thead th {\n",
       "        text-align: right;\n",
       "    }\n",
       "</style>\n",
       "<table border=\"1\" class=\"dataframe\">\n",
       "  <thead>\n",
       "    <tr style=\"text-align: right;\">\n",
       "      <th></th>\n",
       "      <th>cap-shape</th>\n",
       "      <th>cap-surface</th>\n",
       "      <th>cap-color</th>\n",
       "      <th>bruises</th>\n",
       "      <th>odor</th>\n",
       "      <th>gill-attachment</th>\n",
       "      <th>gill-spacing</th>\n",
       "      <th>gill-size</th>\n",
       "      <th>gill-color</th>\n",
       "      <th>stalk-shape</th>\n",
       "      <th>...</th>\n",
       "      <th>fake_0</th>\n",
       "      <th>fake_1</th>\n",
       "      <th>fake_2</th>\n",
       "      <th>fake_3</th>\n",
       "      <th>fake_4</th>\n",
       "      <th>fake_5</th>\n",
       "      <th>fake_6</th>\n",
       "      <th>fake_7</th>\n",
       "      <th>fake_8</th>\n",
       "      <th>fake_9</th>\n",
       "    </tr>\n",
       "  </thead>\n",
       "  <tbody>\n",
       "    <tr>\n",
       "      <th>3244</th>\n",
       "      <td>0.028377</td>\n",
       "      <td>-0.648114</td>\n",
       "      <td>0.424059</td>\n",
       "      <td>-1.443871</td>\n",
       "      <td>-3.310305</td>\n",
       "      <td>0.042734</td>\n",
       "      <td>0.299127</td>\n",
       "      <td>-0.774149</td>\n",
       "      <td>-2.072655</td>\n",
       "      <td>-0.179981</td>\n",
       "      <td>...</td>\n",
       "      <td>0.569601</td>\n",
       "      <td>0.331544</td>\n",
       "      <td>0.405793</td>\n",
       "      <td>0.119410</td>\n",
       "      <td>0.973163</td>\n",
       "      <td>0.516532</td>\n",
       "      <td>0.238499</td>\n",
       "      <td>0.393454</td>\n",
       "      <td>0.950834</td>\n",
       "      <td>0.874223</td>\n",
       "    </tr>\n",
       "    <tr>\n",
       "      <th>3739</th>\n",
       "      <td>-0.06861</td>\n",
       "      <td>-0.648114</td>\n",
       "      <td>-0.182645</td>\n",
       "      <td>0.90375</td>\n",
       "      <td>4.939531</td>\n",
       "      <td>0.042734</td>\n",
       "      <td>-2.253559</td>\n",
       "      <td>2.164551</td>\n",
       "      <td>-0.14063</td>\n",
       "      <td>0.239992</td>\n",
       "      <td>...</td>\n",
       "      <td>0.205398</td>\n",
       "      <td>0.196173</td>\n",
       "      <td>0.857806</td>\n",
       "      <td>0.847908</td>\n",
       "      <td>0.910900</td>\n",
       "      <td>0.031915</td>\n",
       "      <td>0.579007</td>\n",
       "      <td>0.116692</td>\n",
       "      <td>0.896813</td>\n",
       "      <td>0.857196</td>\n",
       "    </tr>\n",
       "    <tr>\n",
       "      <th>2154</th>\n",
       "      <td>-0.06861</td>\n",
       "      <td>-0.648114</td>\n",
       "      <td>0.424059</td>\n",
       "      <td>-1.443871</td>\n",
       "      <td>-3.310305</td>\n",
       "      <td>0.042734</td>\n",
       "      <td>0.299127</td>\n",
       "      <td>-0.774149</td>\n",
       "      <td>-2.072655</td>\n",
       "      <td>-0.179981</td>\n",
       "      <td>...</td>\n",
       "      <td>0.497166</td>\n",
       "      <td>0.035182</td>\n",
       "      <td>0.344867</td>\n",
       "      <td>0.785963</td>\n",
       "      <td>0.281993</td>\n",
       "      <td>0.178704</td>\n",
       "      <td>0.482680</td>\n",
       "      <td>0.623722</td>\n",
       "      <td>0.610173</td>\n",
       "      <td>0.773685</td>\n",
       "    </tr>\n",
       "    <tr>\n",
       "      <th>1344</th>\n",
       "      <td>0.028377</td>\n",
       "      <td>0.279566</td>\n",
       "      <td>-0.740344</td>\n",
       "      <td>0.90375</td>\n",
       "      <td>-3.310305</td>\n",
       "      <td>0.042734</td>\n",
       "      <td>-2.253559</td>\n",
       "      <td>-0.774149</td>\n",
       "      <td>-2.072655</td>\n",
       "      <td>-0.179981</td>\n",
       "      <td>...</td>\n",
       "      <td>0.640216</td>\n",
       "      <td>0.239686</td>\n",
       "      <td>0.569341</td>\n",
       "      <td>0.074415</td>\n",
       "      <td>0.412877</td>\n",
       "      <td>0.373902</td>\n",
       "      <td>0.724365</td>\n",
       "      <td>0.716645</td>\n",
       "      <td>0.442995</td>\n",
       "      <td>0.382960</td>\n",
       "    </tr>\n",
       "    <tr>\n",
       "      <th>7852</th>\n",
       "      <td>1.022485</td>\n",
       "      <td>0.224147</td>\n",
       "      <td>-0.143424</td>\n",
       "      <td>0.90375</td>\n",
       "      <td>6.050981</td>\n",
       "      <td>0.042734</td>\n",
       "      <td>0.299127</td>\n",
       "      <td>2.164551</td>\n",
       "      <td>7.142767</td>\n",
       "      <td>-0.179981</td>\n",
       "      <td>...</td>\n",
       "      <td>0.917813</td>\n",
       "      <td>0.231981</td>\n",
       "      <td>0.969598</td>\n",
       "      <td>0.671052</td>\n",
       "      <td>0.858364</td>\n",
       "      <td>0.118235</td>\n",
       "      <td>0.760783</td>\n",
       "      <td>0.840572</td>\n",
       "      <td>0.194017</td>\n",
       "      <td>0.702480</td>\n",
       "    </tr>\n",
       "    <tr>\n",
       "      <th>...</th>\n",
       "      <td>...</td>\n",
       "      <td>...</td>\n",
       "      <td>...</td>\n",
       "      <td>...</td>\n",
       "      <td>...</td>\n",
       "      <td>...</td>\n",
       "      <td>...</td>\n",
       "      <td>...</td>\n",
       "      <td>...</td>\n",
       "      <td>...</td>\n",
       "      <td>...</td>\n",
       "      <td>...</td>\n",
       "      <td>...</td>\n",
       "      <td>...</td>\n",
       "      <td>...</td>\n",
       "      <td>...</td>\n",
       "      <td>...</td>\n",
       "      <td>...</td>\n",
       "      <td>...</td>\n",
       "      <td>...</td>\n",
       "      <td>...</td>\n",
       "    </tr>\n",
       "    <tr>\n",
       "      <th>5226</th>\n",
       "      <td>-0.06861</td>\n",
       "      <td>0.224147</td>\n",
       "      <td>-0.143424</td>\n",
       "      <td>0.90375</td>\n",
       "      <td>7.356967</td>\n",
       "      <td>0.042734</td>\n",
       "      <td>0.299127</td>\n",
       "      <td>2.164551</td>\n",
       "      <td>7.142767</td>\n",
       "      <td>-0.179981</td>\n",
       "      <td>...</td>\n",
       "      <td>0.082568</td>\n",
       "      <td>0.556409</td>\n",
       "      <td>0.430002</td>\n",
       "      <td>0.758564</td>\n",
       "      <td>0.839955</td>\n",
       "      <td>0.921154</td>\n",
       "      <td>0.024029</td>\n",
       "      <td>0.515375</td>\n",
       "      <td>0.372525</td>\n",
       "      <td>0.226398</td>\n",
       "    </tr>\n",
       "    <tr>\n",
       "      <th>5390</th>\n",
       "      <td>1.022485</td>\n",
       "      <td>0.224147</td>\n",
       "      <td>0.424059</td>\n",
       "      <td>-1.443871</td>\n",
       "      <td>-3.310305</td>\n",
       "      <td>0.042734</td>\n",
       "      <td>0.299127</td>\n",
       "      <td>-0.774149</td>\n",
       "      <td>-1.369819</td>\n",
       "      <td>0.239992</td>\n",
       "      <td>...</td>\n",
       "      <td>0.870000</td>\n",
       "      <td>0.820724</td>\n",
       "      <td>0.516262</td>\n",
       "      <td>0.223370</td>\n",
       "      <td>0.699964</td>\n",
       "      <td>0.219303</td>\n",
       "      <td>0.826416</td>\n",
       "      <td>0.560123</td>\n",
       "      <td>0.849890</td>\n",
       "      <td>0.828132</td>\n",
       "    </tr>\n",
       "    <tr>\n",
       "      <th>860</th>\n",
       "      <td>0.028377</td>\n",
       "      <td>0.224147</td>\n",
       "      <td>-0.143424</td>\n",
       "      <td>-1.443871</td>\n",
       "      <td>-5.457615</td>\n",
       "      <td>0.042734</td>\n",
       "      <td>0.299127</td>\n",
       "      <td>-0.774149</td>\n",
       "      <td>-1.369819</td>\n",
       "      <td>0.239992</td>\n",
       "      <td>...</td>\n",
       "      <td>0.816241</td>\n",
       "      <td>0.824935</td>\n",
       "      <td>0.045731</td>\n",
       "      <td>0.550726</td>\n",
       "      <td>0.263574</td>\n",
       "      <td>0.044769</td>\n",
       "      <td>0.702384</td>\n",
       "      <td>0.325588</td>\n",
       "      <td>0.923452</td>\n",
       "      <td>0.255649</td>\n",
       "    </tr>\n",
       "    <tr>\n",
       "      <th>7603</th>\n",
       "      <td>1.022485</td>\n",
       "      <td>0.279566</td>\n",
       "      <td>0.424059</td>\n",
       "      <td>0.90375</td>\n",
       "      <td>7.356967</td>\n",
       "      <td>0.042734</td>\n",
       "      <td>0.299127</td>\n",
       "      <td>2.164551</td>\n",
       "      <td>7.142767</td>\n",
       "      <td>-0.179981</td>\n",
       "      <td>...</td>\n",
       "      <td>0.570780</td>\n",
       "      <td>0.580201</td>\n",
       "      <td>0.736403</td>\n",
       "      <td>0.495747</td>\n",
       "      <td>0.474818</td>\n",
       "      <td>0.414905</td>\n",
       "      <td>0.153830</td>\n",
       "      <td>0.733626</td>\n",
       "      <td>0.410587</td>\n",
       "      <td>0.434252</td>\n",
       "    </tr>\n",
       "    <tr>\n",
       "      <th>7270</th>\n",
       "      <td>1.022485</td>\n",
       "      <td>-0.648114</td>\n",
       "      <td>-0.182645</td>\n",
       "      <td>0.90375</td>\n",
       "      <td>-3.310305</td>\n",
       "      <td>0.042734</td>\n",
       "      <td>-2.253559</td>\n",
       "      <td>-0.774149</td>\n",
       "      <td>0.851457</td>\n",
       "      <td>0.239992</td>\n",
       "      <td>...</td>\n",
       "      <td>0.989489</td>\n",
       "      <td>0.561600</td>\n",
       "      <td>0.336412</td>\n",
       "      <td>0.544894</td>\n",
       "      <td>0.036229</td>\n",
       "      <td>0.923079</td>\n",
       "      <td>0.833473</td>\n",
       "      <td>0.172578</td>\n",
       "      <td>0.560031</td>\n",
       "      <td>0.739815</td>\n",
       "    </tr>\n",
       "  </tbody>\n",
       "</table>\n",
       "<p>5443 rows × 32 columns</p>\n",
       "</div>"
      ],
      "text/plain": [
       "     cap-shape cap-surface cap-color   bruises      odor gill-attachment  \\\n",
       "3244  0.028377   -0.648114  0.424059 -1.443871 -3.310305        0.042734   \n",
       "3739  -0.06861   -0.648114 -0.182645   0.90375  4.939531        0.042734   \n",
       "2154  -0.06861   -0.648114  0.424059 -1.443871 -3.310305        0.042734   \n",
       "1344  0.028377    0.279566 -0.740344   0.90375 -3.310305        0.042734   \n",
       "7852  1.022485    0.224147 -0.143424   0.90375  6.050981        0.042734   \n",
       "...        ...         ...       ...       ...       ...             ...   \n",
       "5226  -0.06861    0.224147 -0.143424   0.90375  7.356967        0.042734   \n",
       "5390  1.022485    0.224147  0.424059 -1.443871 -3.310305        0.042734   \n",
       "860   0.028377    0.224147 -0.143424 -1.443871 -5.457615        0.042734   \n",
       "7603  1.022485    0.279566  0.424059   0.90375  7.356967        0.042734   \n",
       "7270  1.022485   -0.648114 -0.182645   0.90375 -3.310305        0.042734   \n",
       "\n",
       "     gill-spacing gill-size gill-color stalk-shape  ...    fake_0    fake_1  \\\n",
       "3244     0.299127 -0.774149  -2.072655   -0.179981  ...  0.569601  0.331544   \n",
       "3739    -2.253559  2.164551   -0.14063    0.239992  ...  0.205398  0.196173   \n",
       "2154     0.299127 -0.774149  -2.072655   -0.179981  ...  0.497166  0.035182   \n",
       "1344    -2.253559 -0.774149  -2.072655   -0.179981  ...  0.640216  0.239686   \n",
       "7852     0.299127  2.164551   7.142767   -0.179981  ...  0.917813  0.231981   \n",
       "...           ...       ...        ...         ...  ...       ...       ...   \n",
       "5226     0.299127  2.164551   7.142767   -0.179981  ...  0.082568  0.556409   \n",
       "5390     0.299127 -0.774149  -1.369819    0.239992  ...  0.870000  0.820724   \n",
       "860      0.299127 -0.774149  -1.369819    0.239992  ...  0.816241  0.824935   \n",
       "7603     0.299127  2.164551   7.142767   -0.179981  ...  0.570780  0.580201   \n",
       "7270    -2.253559 -0.774149   0.851457    0.239992  ...  0.989489  0.561600   \n",
       "\n",
       "        fake_2    fake_3    fake_4    fake_5    fake_6    fake_7    fake_8  \\\n",
       "3244  0.405793  0.119410  0.973163  0.516532  0.238499  0.393454  0.950834   \n",
       "3739  0.857806  0.847908  0.910900  0.031915  0.579007  0.116692  0.896813   \n",
       "2154  0.344867  0.785963  0.281993  0.178704  0.482680  0.623722  0.610173   \n",
       "1344  0.569341  0.074415  0.412877  0.373902  0.724365  0.716645  0.442995   \n",
       "7852  0.969598  0.671052  0.858364  0.118235  0.760783  0.840572  0.194017   \n",
       "...        ...       ...       ...       ...       ...       ...       ...   \n",
       "5226  0.430002  0.758564  0.839955  0.921154  0.024029  0.515375  0.372525   \n",
       "5390  0.516262  0.223370  0.699964  0.219303  0.826416  0.560123  0.849890   \n",
       "860   0.045731  0.550726  0.263574  0.044769  0.702384  0.325588  0.923452   \n",
       "7603  0.736403  0.495747  0.474818  0.414905  0.153830  0.733626  0.410587   \n",
       "7270  0.336412  0.544894  0.036229  0.923079  0.833473  0.172578  0.560031   \n",
       "\n",
       "        fake_9  \n",
       "3244  0.874223  \n",
       "3739  0.857196  \n",
       "2154  0.773685  \n",
       "1344  0.382960  \n",
       "7852  0.702480  \n",
       "...        ...  \n",
       "5226  0.226398  \n",
       "5390  0.828132  \n",
       "860   0.255649  \n",
       "7603  0.434252  \n",
       "7270  0.739815  \n",
       "\n",
       "[5443 rows x 32 columns]"
      ]
     },
     "execution_count": 19,
     "metadata": {},
     "output_type": "execute_result"
    }
   ],
   "source": [
    "train_x"
   ]
  },
  {
   "cell_type": "markdown",
   "id": "4ff442b2-15dc-4176-8bb2-0850761ed121",
   "metadata": {},
   "source": [
    "### Feature importance based on mean decrease in impurity"
   ]
  },
  {
   "cell_type": "code",
   "execution_count": 20,
   "id": "849ed329-67e6-4b5e-a57b-f0319232299e",
   "metadata": {},
   "outputs": [
    {
     "name": "stdout",
     "output_type": "stream",
     "text": [
      "Elapsed time to compute the importances: 0.002 seconds\n"
     ]
    }
   ],
   "source": [
    "import time\n",
    "start_time = time.time()\n",
    "importances = model.feature_importances_\n",
    "std = np.std([tree.feature_importances_ for tree in model.estimators_], axis=0)\n",
    "elapsed_time = time.time() - start_time\n",
    "\n",
    "print(f\"Elapsed time to compute the importances: {elapsed_time:.3f} seconds\")"
   ]
  },
  {
   "cell_type": "code",
   "execution_count": 21,
   "id": "da93ec95-ce89-41ea-a1dc-16c8a5caedb2",
   "metadata": {},
   "outputs": [
    {
     "data": {
      "image/png": "[encoded data removed]",
      "text/plain": [
       "<Figure size 640x480 with 1 Axes>"
      ]
     },
     "metadata": {},
     "output_type": "display_data"
    }
   ],
   "source": [
    "import matplotlib.pyplot as plt\n",
    "\n",
    "forest_importances = pd.Series(importances, index=list(train_x.columns.values))\n",
    "\n",
    "fig, ax = plt.subplots()\n",
    "forest_importances.plot.bar(yerr=std, ax=ax)\n",
    "ax.set_title(\"Feature importances using MDI\")\n",
    "ax.set_ylabel(\"Mean decrease in impurity\")\n",
    "fig.tight_layout()"
   ]
  },
  {
   "cell_type": "markdown",
   "id": "56ff953f-63fe-4ff4-afa1-53f43ae2827a",
   "metadata": {},
   "source": [
    "# Boruta experiment"
   ]
  },
  {
   "cell_type": "code",
   "execution_count": 22,
   "id": "ff78e19a-cf05-434e-b2a8-8907d55fbc5f",
   "metadata": {},
   "outputs": [],
   "source": [
    "from boruta import BorutaPy"
   ]
  },
  {
   "cell_type": "code",
   "execution_count": 23,
   "id": "7c840b89-24b8-4d7b-8763-c37191587309",
   "metadata": {},
   "outputs": [],
   "source": [
    "X = data.data.copy()\n",
    "y = data.target.copy()"
   ]
  },
  {
   "cell_type": "code",
   "execution_count": 24,
   "id": "e4f5847e-b44c-4438-8177-d5d7e7d0d8ea",
   "metadata": {
    "scrolled": true
   },
   "outputs": [
    {
     "name": "stdout",
     "output_type": "stream",
     "text": [
      "Unique classes:{'e', 'p'}\n",
      "Iteration: \t1 / 100\n",
      "Confirmed: \t0\n",
      "Tentative: \t22\n",
      "Rejected: \t0\n",
      "Iteration: \t2 / 100\n",
      "Confirmed: \t0\n",
      "Tentative: \t22\n",
      "Rejected: \t0\n",
      "Iteration: \t3 / 100\n",
      "Confirmed: \t0\n",
      "Tentative: \t22\n",
      "Rejected: \t0\n",
      "Iteration: \t4 / 100\n",
      "Confirmed: \t0\n",
      "Tentative: \t22\n",
      "Rejected: \t0\n",
      "Iteration: \t5 / 100\n",
      "Confirmed: \t0\n",
      "Tentative: \t22\n",
      "Rejected: \t0\n",
      "Iteration: \t6 / 100\n",
      "Confirmed: \t0\n",
      "Tentative: \t22\n",
      "Rejected: \t0\n",
      "Iteration: \t7 / 100\n",
      "Confirmed: \t0\n",
      "Tentative: \t22\n",
      "Rejected: \t0\n",
      "Iteration: \t8 / 100\n",
      "Confirmed: \t21\n",
      "Tentative: \t1\n",
      "Rejected: \t0\n",
      "Iteration: \t9 / 100\n",
      "Confirmed: \t21\n",
      "Tentative: \t0\n",
      "Rejected: \t1\n",
      "\n",
      "\n",
      "BorutaPy finished running.\n",
      "\n",
      "Iteration: \t10 / 100\n",
      "Confirmed: \t21\n",
      "Tentative: \t0\n",
      "Rejected: \t1\n"
     ]
    },
    {
     "data": {
      "text/html": [
       "<style>#sk-container-id-1 {color: black;}#sk-container-id-1 pre{padding: 0;}#sk-container-id-1 div.sk-toggleable {background-color: white;}#sk-container-id-1 label.sk-toggleable__label {cursor: pointer;display: block;width: 100%;margin-bottom: 0;padding: 0.3em;box-sizing: border-box;text-align: center;}#sk-container-id-1 label.sk-toggleable__label-arrow:before {content: \"▸\";float: left;margin-right: 0.25em;color: #696969;}#sk-container-id-1 label.sk-toggleable__label-arrow:hover:before {color: black;}#sk-container-id-1 div.sk-estimator:hover label.sk-toggleable__label-arrow:before {color: black;}#sk-container-id-1 div.sk-toggleable__content {max-height: 0;max-width: 0;overflow: hidden;text-align: left;background-color: #f0f8ff;}#sk-container-id-1 div.sk-toggleable__content pre {margin: 0.2em;color: black;border-radius: 0.25em;background-color: #f0f8ff;}#sk-container-id-1 input.sk-toggleable__control:checked~div.sk-toggleable__content {max-height: 200px;max-width: 100%;overflow: auto;}#sk-container-id-1 input.sk-toggleable__control:checked~label.sk-toggleable__label-arrow:before {content: \"▾\";}#sk-container-id-1 div.sk-estimator input.sk-toggleable__control:checked~label.sk-toggleable__label {background-color: #d4ebff;}#sk-container-id-1 div.sk-label input.sk-toggleable__control:checked~label.sk-toggleable__label {background-color: #d4ebff;}#sk-container-id-1 input.sk-hidden--visually {border: 0;clip: rect(1px 1px 1px 1px);clip: rect(1px, 1px, 1px, 1px);height: 1px;margin: -1px;overflow: hidden;padding: 0;position: absolute;width: 1px;}#sk-container-id-1 div.sk-estimator {font-family: monospace;background-color: #f0f8ff;border: 1px dotted black;border-radius: 0.25em;box-sizing: border-box;margin-bottom: 0.5em;}#sk-container-id-1 div.sk-estimator:hover {background-color: #d4ebff;}#sk-container-id-1 div.sk-parallel-item::after {content: \"\";width: 100%;border-bottom: 1px solid gray;flex-grow: 1;}#sk-container-id-1 div.sk-label:hover label.sk-toggleable__label {background-color: #d4ebff;}#sk-container-id-1 div.sk-serial::before {content: \"\";position: absolute;border-left: 1px solid gray;box-sizing: border-box;top: 0;bottom: 0;left: 50%;z-index: 0;}#sk-container-id-1 div.sk-serial {display: flex;flex-direction: column;align-items: center;background-color: white;padding-right: 0.2em;padding-left: 0.2em;position: relative;}#sk-container-id-1 div.sk-item {position: relative;z-index: 1;}#sk-container-id-1 div.sk-parallel {display: flex;align-items: stretch;justify-content: center;background-color: white;position: relative;}#sk-container-id-1 div.sk-item::before, #sk-container-id-1 div.sk-parallel-item::before {content: \"\";position: absolute;border-left: 1px solid gray;box-sizing: border-box;top: 0;bottom: 0;left: 50%;z-index: -1;}#sk-container-id-1 div.sk-parallel-item {display: flex;flex-direction: column;z-index: 1;position: relative;background-color: white;}#sk-container-id-1 div.sk-parallel-item:first-child::after {align-self: flex-end;width: 50%;}#sk-container-id-1 div.sk-parallel-item:last-child::after {align-self: flex-start;width: 50%;}#sk-container-id-1 div.sk-parallel-item:only-child::after {width: 0;}#sk-container-id-1 div.sk-dashed-wrapped {border: 1px dashed gray;margin: 0 0.4em 0.5em 0.4em;box-sizing: border-box;padding-bottom: 0.4em;background-color: white;}#sk-container-id-1 div.sk-label label {font-family: monospace;font-weight: bold;display: inline-block;line-height: 1.2em;}#sk-container-id-1 div.sk-label-container {text-align: center;}#sk-container-id-1 div.sk-container {/* jupyter's `normalize.less` sets `[hidden] { display: none; }` but bootstrap.min.css set `[hidden] { display: none !important; }` so we also need the `!important` here to be able to override the default hidden behavior on the sphinx rendered scikit-learn.org. See: https://github.com/scikit-learn/scikit-learn/issues/21755 */display: inline-block !important;position: relative;}#sk-container-id-1 div.sk-text-repr-fallback {display: none;}</style><div id=\"sk-container-id-1\" class=\"sk-top-container\"><div class=\"sk-text-repr-fallback\"><pre>BorutaPy(estimator=ExtraTreesClassifier(class_weight=&#x27;balanced&#x27;, max_depth=5,\n",
       "                                        n_estimators=132,\n",
       "                                        random_state=RandomState(MT19937) at 0x7F25A6695C40),\n",
       "         n_estimators=&#x27;auto&#x27;,\n",
       "         random_state=RandomState(MT19937) at 0x7F25A6695C40, verbose=2)</pre><b>In a Jupyter environment, please rerun this cell to show the HTML representation or trust the notebook. <br />On GitHub, the HTML representation is unable to render, please try loading this page with nbviewer.org.</b></div><div class=\"sk-container\" hidden><div class=\"sk-item sk-dashed-wrapped\"><div class=\"sk-label-container\"><div class=\"sk-label sk-toggleable\"><input class=\"sk-toggleable__control sk-hidden--visually\" id=\"sk-estimator-id-1\" type=\"checkbox\" ><label for=\"sk-estimator-id-1\" class=\"sk-toggleable__label sk-toggleable__label-arrow\">BorutaPy</label><div class=\"sk-toggleable__content\"><pre>BorutaPy(estimator=ExtraTreesClassifier(class_weight=&#x27;balanced&#x27;, max_depth=5,\n",
       "                                        n_estimators=132,\n",
       "                                        random_state=RandomState(MT19937) at 0x7F25A6695C40),\n",
       "         n_estimators=&#x27;auto&#x27;,\n",
       "         random_state=RandomState(MT19937) at 0x7F25A6695C40, verbose=2)</pre></div></div></div><div class=\"sk-parallel\"><div class=\"sk-parallel-item\"><div class=\"sk-item\"><div class=\"sk-label-container\"><div class=\"sk-label sk-toggleable\"><input class=\"sk-toggleable__control sk-hidden--visually\" id=\"sk-estimator-id-2\" type=\"checkbox\" ><label for=\"sk-estimator-id-2\" class=\"sk-toggleable__label sk-toggleable__label-arrow\">estimator: ExtraTreesClassifier</label><div class=\"sk-toggleable__content\"><pre>ExtraTreesClassifier(class_weight=&#x27;balanced&#x27;, max_depth=5, n_estimators=132,\n",
       "                     random_state=RandomState(MT19937) at 0x7F25A6695C40)</pre></div></div></div><div class=\"sk-serial\"><div class=\"sk-item\"><div class=\"sk-estimator sk-toggleable\"><input class=\"sk-toggleable__control sk-hidden--visually\" id=\"sk-estimator-id-3\" type=\"checkbox\" ><label for=\"sk-estimator-id-3\" class=\"sk-toggleable__label sk-toggleable__label-arrow\">ExtraTreesClassifier</label><div class=\"sk-toggleable__content\"><pre>ExtraTreesClassifier(class_weight=&#x27;balanced&#x27;, max_depth=5, n_estimators=132,\n",
       "                     random_state=RandomState(MT19937) at 0x7F25A6695C40)</pre></div></div></div></div></div></div></div></div></div></div>"
      ],
      "text/plain": [
       "BorutaPy(estimator=ExtraTreesClassifier(class_weight='balanced', max_depth=5,\n",
       "                                        n_estimators=132,\n",
       "                                        random_state=RandomState(MT19937) at 0x7F25A6695C40),\n",
       "         n_estimators='auto',\n",
       "         random_state=RandomState(MT19937) at 0x7F25A6695C40, verbose=2)"
      ]
     },
     "execution_count": 24,
     "metadata": {},
     "output_type": "execute_result"
    }
   ],
   "source": [
    "vectorizer = woe.WOEEncoder(cols=woe_cols)\n",
    "# vectorizer = preprocessing.OneHotEncoder(handle_unknown='ignore')\n",
    "label_encoder = preprocessing.LabelEncoder()\n",
    "\n",
    "X_train, X_test, y_train, y_test = train_test_split(X, y, test_size=0.33, random_state=42)\n",
    "\n",
    "train_y = label_encoder.fit_transform(y_train)\n",
    "test_y = label_encoder.transform(y_test)\n",
    "\n",
    "unique_classes = set(y_test)\n",
    "print(f\"Unique classes:{unique_classes}\")\n",
    "\n",
    "woe_train_features = vectorizer.fit_transform(X=X_train[woe_cols], y=train_y)\n",
    "woe_test_features = vectorizer.transform(X=X_test[woe_cols])\n",
    "\n",
    "original_train_df = X_train.copy()\n",
    "original_train_df.update(woe_train_features)\n",
    "\n",
    "original_test_df = X_test.copy()\n",
    "original_test_df.update(woe_test_features)\n",
    "\n",
    "train_x = original_train_df.copy()\n",
    "test_x = original_test_df.copy()\n",
    "model = ExtraTreesClassifier(class_weight='balanced', max_depth=5,n_estimators=16,\n",
    "                           random_state=42)\n",
    "# model.fit(train_x, train_y)\n",
    "feat_selector = BorutaPy(model, n_estimators='auto', verbose=2, random_state=0)\n",
    "feat_selector.fit(train_x.values, train_y)"
   ]
  },
  {
   "cell_type": "code",
   "execution_count": null,
   "id": "7750e0ee-b3da-46a4-a034-70bc821569ef",
   "metadata": {},
   "outputs": [],
   "source": []
  },
  {
   "cell_type": "code",
   "execution_count": 25,
   "id": "7c75656a-80ff-4cbd-be20-c8e6bcdebfdb",
   "metadata": {},
   "outputs": [],
   "source": [
    "# # Check selected features\n",
    "# print(feat_selector.support_)\n",
    "# # Select the chosen features from our dataframe.\n",
    "# selected = train_x[:, feat_selector.support_]\n",
    "# print (\"\")\n",
    "# print (\"Selected Feature Matrix Shape\")\n",
    "# print (selected.shape)"
   ]
  },
  {
   "cell_type": "code",
   "execution_count": 26,
   "id": "8278991f-2194-4d98-9469-22cc587cd1df",
   "metadata": {},
   "outputs": [],
   "source": [
    "X_selected = feat_selector.transform(train_x.values)"
   ]
  },
  {
   "cell_type": "code",
   "execution_count": 27,
   "id": "d04a89b7-5a7f-47b7-98fe-d507f4963b64",
   "metadata": {},
   "outputs": [
    {
     "name": "stdout",
     "output_type": "stream",
     "text": [
      "['cap-shape', 'cap-surface', 'cap-color', 'bruises', 'odor', 'gill-attachment', 'gill-spacing', 'gill-size', 'gill-color', 'stalk-shape', 'stalk-root', 'stalk-surface-above-ring', 'stalk-surface-below-ring', 'stalk-color-above-ring', 'stalk-color-below-ring', 'veil-color', 'ring-number', 'ring-type', 'spore-print-color', 'population', 'habitat']\n"
     ]
    }
   ],
   "source": [
    "final_features = list()\n",
    "indexes = np.where(feat_selector.support_ == True)\n",
    "for x in np.nditer(indexes):\n",
    "    final_features.append(train_x.columns.values[x])\n",
    "print(final_features)"
   ]
  },
  {
   "cell_type": "code",
   "execution_count": 28,
   "id": "98d4f0f6",
   "metadata": {
    "collapsed": false
   },
   "outputs": [
    {
     "data": {
      "text/plain": [
       "{'veil-type'}"
      ]
     },
     "execution_count": 28,
     "metadata": {},
     "output_type": "execute_result"
    }
   ],
   "source": [
    "set(data.data.columns) - set(final_features)"
   ]
  },
  {
   "cell_type": "code",
   "execution_count": 29,
   "id": "24216a62-350a-4ded-a70a-dae2cb998e74",
   "metadata": {},
   "outputs": [
    {
     "data": {
      "text/html": [
       "<div>\n",
       "<style scoped>\n",
       "    .dataframe tbody tr th:only-of-type {\n",
       "        vertical-align: middle;\n",
       "    }\n",
       "\n",
       "    .dataframe tbody tr th {\n",
       "        vertical-align: top;\n",
       "    }\n",
       "\n",
       "    .dataframe thead th {\n",
       "        text-align: right;\n",
       "    }\n",
       "</style>\n",
       "<table border=\"1\" class=\"dataframe\">\n",
       "  <thead>\n",
       "    <tr style=\"text-align: right;\">\n",
       "      <th></th>\n",
       "      <th>cap-shape</th>\n",
       "      <th>cap-surface</th>\n",
       "      <th>cap-color</th>\n",
       "      <th>bruises</th>\n",
       "      <th>odor</th>\n",
       "      <th>gill-attachment</th>\n",
       "      <th>gill-spacing</th>\n",
       "      <th>gill-size</th>\n",
       "      <th>gill-color</th>\n",
       "      <th>stalk-shape</th>\n",
       "      <th>...</th>\n",
       "      <th>stalk-surface-above-ring</th>\n",
       "      <th>stalk-surface-below-ring</th>\n",
       "      <th>stalk-color-above-ring</th>\n",
       "      <th>stalk-color-below-ring</th>\n",
       "      <th>veil-color</th>\n",
       "      <th>ring-number</th>\n",
       "      <th>ring-type</th>\n",
       "      <th>spore-print-color</th>\n",
       "      <th>population</th>\n",
       "      <th>habitat</th>\n",
       "    </tr>\n",
       "  </thead>\n",
       "  <tbody>\n",
       "    <tr>\n",
       "      <th>3244</th>\n",
       "      <td>0.028377</td>\n",
       "      <td>-0.648114</td>\n",
       "      <td>0.424059</td>\n",
       "      <td>-1.443871</td>\n",
       "      <td>-3.310305</td>\n",
       "      <td>0.042734</td>\n",
       "      <td>0.299127</td>\n",
       "      <td>-0.774149</td>\n",
       "      <td>-2.072655</td>\n",
       "      <td>-0.179981</td>\n",
       "      <td>...</td>\n",
       "      <td>-0.804676</td>\n",
       "      <td>-0.739922</td>\n",
       "      <td>0.864718</td>\n",
       "      <td>-5.888988</td>\n",
       "      <td>0.045038</td>\n",
       "      <td>0.106036</td>\n",
       "      <td>-1.295276</td>\n",
       "      <td>-1.918262</td>\n",
       "      <td>-0.413762</td>\n",
       "      <td>-0.353761</td>\n",
       "    </tr>\n",
       "    <tr>\n",
       "      <th>3739</th>\n",
       "      <td>-0.06861</td>\n",
       "      <td>-0.648114</td>\n",
       "      <td>-0.182645</td>\n",
       "      <td>0.90375</td>\n",
       "      <td>4.939531</td>\n",
       "      <td>0.042734</td>\n",
       "      <td>-2.253559</td>\n",
       "      <td>2.164551</td>\n",
       "      <td>-0.14063</td>\n",
       "      <td>0.239992</td>\n",
       "      <td>...</td>\n",
       "      <td>-0.804676</td>\n",
       "      <td>-0.739922</td>\n",
       "      <td>-0.389739</td>\n",
       "      <td>-0.408756</td>\n",
       "      <td>0.045038</td>\n",
       "      <td>0.106036</td>\n",
       "      <td>-1.295276</td>\n",
       "      <td>-1.918262</td>\n",
       "      <td>0.936869</td>\n",
       "      <td>-0.353761</td>\n",
       "    </tr>\n",
       "    <tr>\n",
       "      <th>2154</th>\n",
       "      <td>-0.06861</td>\n",
       "      <td>-0.648114</td>\n",
       "      <td>0.424059</td>\n",
       "      <td>-1.443871</td>\n",
       "      <td>-3.310305</td>\n",
       "      <td>0.042734</td>\n",
       "      <td>0.299127</td>\n",
       "      <td>-0.774149</td>\n",
       "      <td>-2.072655</td>\n",
       "      <td>-0.179981</td>\n",
       "      <td>...</td>\n",
       "      <td>-0.804676</td>\n",
       "      <td>-0.739922</td>\n",
       "      <td>-0.389739</td>\n",
       "      <td>-5.888988</td>\n",
       "      <td>0.045038</td>\n",
       "      <td>0.106036</td>\n",
       "      <td>-1.295276</td>\n",
       "      <td>-2.033624</td>\n",
       "      <td>-0.413762</td>\n",
       "      <td>-0.353761</td>\n",
       "    </tr>\n",
       "    <tr>\n",
       "      <th>1344</th>\n",
       "      <td>0.028377</td>\n",
       "      <td>0.279566</td>\n",
       "      <td>-0.740344</td>\n",
       "      <td>0.90375</td>\n",
       "      <td>-3.310305</td>\n",
       "      <td>0.042734</td>\n",
       "      <td>-2.253559</td>\n",
       "      <td>-0.774149</td>\n",
       "      <td>-2.072655</td>\n",
       "      <td>-0.179981</td>\n",
       "      <td>...</td>\n",
       "      <td>-0.804676</td>\n",
       "      <td>-0.739922</td>\n",
       "      <td>-0.389739</td>\n",
       "      <td>-0.408756</td>\n",
       "      <td>0.045038</td>\n",
       "      <td>0.106036</td>\n",
       "      <td>0.630157</td>\n",
       "      <td>-2.033624</td>\n",
       "      <td>-0.824429</td>\n",
       "      <td>-0.538705</td>\n",
       "    </tr>\n",
       "    <tr>\n",
       "      <th>7852</th>\n",
       "      <td>1.022485</td>\n",
       "      <td>0.224147</td>\n",
       "      <td>-0.143424</td>\n",
       "      <td>0.90375</td>\n",
       "      <td>6.050981</td>\n",
       "      <td>0.042734</td>\n",
       "      <td>0.299127</td>\n",
       "      <td>2.164551</td>\n",
       "      <td>7.142767</td>\n",
       "      <td>-0.179981</td>\n",
       "      <td>...</td>\n",
       "      <td>-0.804676</td>\n",
       "      <td>2.825749</td>\n",
       "      <td>-0.389739</td>\n",
       "      <td>-0.408756</td>\n",
       "      <td>0.045038</td>\n",
       "      <td>0.106036</td>\n",
       "      <td>0.630157</td>\n",
       "      <td>1.226019</td>\n",
       "      <td>0.936869</td>\n",
       "      <td>1.009255</td>\n",
       "    </tr>\n",
       "    <tr>\n",
       "      <th>...</th>\n",
       "      <td>...</td>\n",
       "      <td>...</td>\n",
       "      <td>...</td>\n",
       "      <td>...</td>\n",
       "      <td>...</td>\n",
       "      <td>...</td>\n",
       "      <td>...</td>\n",
       "      <td>...</td>\n",
       "      <td>...</td>\n",
       "      <td>...</td>\n",
       "      <td>...</td>\n",
       "      <td>...</td>\n",
       "      <td>...</td>\n",
       "      <td>...</td>\n",
       "      <td>...</td>\n",
       "      <td>...</td>\n",
       "      <td>...</td>\n",
       "      <td>...</td>\n",
       "      <td>...</td>\n",
       "      <td>...</td>\n",
       "      <td>...</td>\n",
       "    </tr>\n",
       "    <tr>\n",
       "      <th>5226</th>\n",
       "      <td>-0.06861</td>\n",
       "      <td>0.224147</td>\n",
       "      <td>-0.143424</td>\n",
       "      <td>0.90375</td>\n",
       "      <td>7.356967</td>\n",
       "      <td>0.042734</td>\n",
       "      <td>0.299127</td>\n",
       "      <td>2.164551</td>\n",
       "      <td>7.142767</td>\n",
       "      <td>-0.179981</td>\n",
       "      <td>...</td>\n",
       "      <td>2.919595</td>\n",
       "      <td>-0.739922</td>\n",
       "      <td>0.864718</td>\n",
       "      <td>-0.408756</td>\n",
       "      <td>0.045038</td>\n",
       "      <td>0.106036</td>\n",
       "      <td>0.630157</td>\n",
       "      <td>1.226019</td>\n",
       "      <td>0.936869</td>\n",
       "      <td>2.121089</td>\n",
       "    </tr>\n",
       "    <tr>\n",
       "      <th>5390</th>\n",
       "      <td>1.022485</td>\n",
       "      <td>0.224147</td>\n",
       "      <td>0.424059</td>\n",
       "      <td>-1.443871</td>\n",
       "      <td>-3.310305</td>\n",
       "      <td>0.042734</td>\n",
       "      <td>0.299127</td>\n",
       "      <td>-0.774149</td>\n",
       "      <td>-1.369819</td>\n",
       "      <td>0.239992</td>\n",
       "      <td>...</td>\n",
       "      <td>-0.804676</td>\n",
       "      <td>-0.739922</td>\n",
       "      <td>-0.389739</td>\n",
       "      <td>-4.182961</td>\n",
       "      <td>0.045038</td>\n",
       "      <td>-1.926816</td>\n",
       "      <td>0.630157</td>\n",
       "      <td>1.226019</td>\n",
       "      <td>-1.574839</td>\n",
       "      <td>-4.861923</td>\n",
       "    </tr>\n",
       "    <tr>\n",
       "      <th>860</th>\n",
       "      <td>0.028377</td>\n",
       "      <td>0.224147</td>\n",
       "      <td>-0.143424</td>\n",
       "      <td>-1.443871</td>\n",
       "      <td>-5.457615</td>\n",
       "      <td>0.042734</td>\n",
       "      <td>0.299127</td>\n",
       "      <td>-0.774149</td>\n",
       "      <td>-1.369819</td>\n",
       "      <td>0.239992</td>\n",
       "      <td>...</td>\n",
       "      <td>-0.804676</td>\n",
       "      <td>-0.859386</td>\n",
       "      <td>-0.389739</td>\n",
       "      <td>-0.408756</td>\n",
       "      <td>0.045038</td>\n",
       "      <td>0.106036</td>\n",
       "      <td>-1.295276</td>\n",
       "      <td>-2.033624</td>\n",
       "      <td>-0.413762</td>\n",
       "      <td>2.121089</td>\n",
       "    </tr>\n",
       "    <tr>\n",
       "      <th>7603</th>\n",
       "      <td>1.022485</td>\n",
       "      <td>0.279566</td>\n",
       "      <td>0.424059</td>\n",
       "      <td>0.90375</td>\n",
       "      <td>7.356967</td>\n",
       "      <td>0.042734</td>\n",
       "      <td>0.299127</td>\n",
       "      <td>2.164551</td>\n",
       "      <td>7.142767</td>\n",
       "      <td>-0.179981</td>\n",
       "      <td>...</td>\n",
       "      <td>-0.804676</td>\n",
       "      <td>-0.739922</td>\n",
       "      <td>0.864718</td>\n",
       "      <td>0.917272</td>\n",
       "      <td>0.045038</td>\n",
       "      <td>0.106036</td>\n",
       "      <td>0.630157</td>\n",
       "      <td>1.226019</td>\n",
       "      <td>0.936869</td>\n",
       "      <td>2.121089</td>\n",
       "    </tr>\n",
       "    <tr>\n",
       "      <th>7270</th>\n",
       "      <td>1.022485</td>\n",
       "      <td>-0.648114</td>\n",
       "      <td>-0.182645</td>\n",
       "      <td>0.90375</td>\n",
       "      <td>-3.310305</td>\n",
       "      <td>0.042734</td>\n",
       "      <td>-2.253559</td>\n",
       "      <td>-0.774149</td>\n",
       "      <td>0.851457</td>\n",
       "      <td>0.239992</td>\n",
       "      <td>...</td>\n",
       "      <td>-0.804676</td>\n",
       "      <td>2.825749</td>\n",
       "      <td>-0.389739</td>\n",
       "      <td>-0.408756</td>\n",
       "      <td>0.045038</td>\n",
       "      <td>-1.926816</td>\n",
       "      <td>-1.295276</td>\n",
       "      <td>1.226019</td>\n",
       "      <td>-5.503777</td>\n",
       "      <td>-0.538705</td>\n",
       "    </tr>\n",
       "  </tbody>\n",
       "</table>\n",
       "<p>5443 rows × 21 columns</p>\n",
       "</div>"
      ],
      "text/plain": [
       "     cap-shape cap-surface cap-color   bruises      odor gill-attachment  \\\n",
       "3244  0.028377   -0.648114  0.424059 -1.443871 -3.310305        0.042734   \n",
       "3739  -0.06861   -0.648114 -0.182645   0.90375  4.939531        0.042734   \n",
       "2154  -0.06861   -0.648114  0.424059 -1.443871 -3.310305        0.042734   \n",
       "1344  0.028377    0.279566 -0.740344   0.90375 -3.310305        0.042734   \n",
       "7852  1.022485    0.224147 -0.143424   0.90375  6.050981        0.042734   \n",
       "...        ...         ...       ...       ...       ...             ...   \n",
       "5226  -0.06861    0.224147 -0.143424   0.90375  7.356967        0.042734   \n",
       "5390  1.022485    0.224147  0.424059 -1.443871 -3.310305        0.042734   \n",
       "860   0.028377    0.224147 -0.143424 -1.443871 -5.457615        0.042734   \n",
       "7603  1.022485    0.279566  0.424059   0.90375  7.356967        0.042734   \n",
       "7270  1.022485   -0.648114 -0.182645   0.90375 -3.310305        0.042734   \n",
       "\n",
       "     gill-spacing gill-size gill-color stalk-shape  ...  \\\n",
       "3244     0.299127 -0.774149  -2.072655   -0.179981  ...   \n",
       "3739    -2.253559  2.164551   -0.14063    0.239992  ...   \n",
       "2154     0.299127 -0.774149  -2.072655   -0.179981  ...   \n",
       "1344    -2.253559 -0.774149  -2.072655   -0.179981  ...   \n",
       "7852     0.299127  2.164551   7.142767   -0.179981  ...   \n",
       "...           ...       ...        ...         ...  ...   \n",
       "5226     0.299127  2.164551   7.142767   -0.179981  ...   \n",
       "5390     0.299127 -0.774149  -1.369819    0.239992  ...   \n",
       "860      0.299127 -0.774149  -1.369819    0.239992  ...   \n",
       "7603     0.299127  2.164551   7.142767   -0.179981  ...   \n",
       "7270    -2.253559 -0.774149   0.851457    0.239992  ...   \n",
       "\n",
       "     stalk-surface-above-ring stalk-surface-below-ring stalk-color-above-ring  \\\n",
       "3244                -0.804676                -0.739922               0.864718   \n",
       "3739                -0.804676                -0.739922              -0.389739   \n",
       "2154                -0.804676                -0.739922              -0.389739   \n",
       "1344                -0.804676                -0.739922              -0.389739   \n",
       "7852                -0.804676                 2.825749              -0.389739   \n",
       "...                       ...                      ...                    ...   \n",
       "5226                 2.919595                -0.739922               0.864718   \n",
       "5390                -0.804676                -0.739922              -0.389739   \n",
       "860                 -0.804676                -0.859386              -0.389739   \n",
       "7603                -0.804676                -0.739922               0.864718   \n",
       "7270                -0.804676                 2.825749              -0.389739   \n",
       "\n",
       "     stalk-color-below-ring veil-color ring-number ring-type  \\\n",
       "3244              -5.888988   0.045038    0.106036 -1.295276   \n",
       "3739              -0.408756   0.045038    0.106036 -1.295276   \n",
       "2154              -5.888988   0.045038    0.106036 -1.295276   \n",
       "1344              -0.408756   0.045038    0.106036  0.630157   \n",
       "7852              -0.408756   0.045038    0.106036  0.630157   \n",
       "...                     ...        ...         ...       ...   \n",
       "5226              -0.408756   0.045038    0.106036  0.630157   \n",
       "5390              -4.182961   0.045038   -1.926816  0.630157   \n",
       "860               -0.408756   0.045038    0.106036 -1.295276   \n",
       "7603               0.917272   0.045038    0.106036  0.630157   \n",
       "7270              -0.408756   0.045038   -1.926816 -1.295276   \n",
       "\n",
       "     spore-print-color population   habitat  \n",
       "3244         -1.918262  -0.413762 -0.353761  \n",
       "3739         -1.918262   0.936869 -0.353761  \n",
       "2154         -2.033624  -0.413762 -0.353761  \n",
       "1344         -2.033624  -0.824429 -0.538705  \n",
       "7852          1.226019   0.936869  1.009255  \n",
       "...                ...        ...       ...  \n",
       "5226          1.226019   0.936869  2.121089  \n",
       "5390          1.226019  -1.574839 -4.861923  \n",
       "860          -2.033624  -0.413762  2.121089  \n",
       "7603          1.226019   0.936869  2.121089  \n",
       "7270          1.226019  -5.503777 -0.538705  \n",
       "\n",
       "[5443 rows x 21 columns]"
      ]
     },
     "execution_count": 29,
     "metadata": {},
     "output_type": "execute_result"
    }
   ],
   "source": [
    "train_x[final_features]"
   ]
  },
  {
   "cell_type": "code",
   "execution_count": 30,
   "id": "917a856f-4fb3-4704-9138-fcae35b76d7d",
   "metadata": {},
   "outputs": [
    {
     "data": {
      "text/html": [
       "<style>#sk-container-id-2 {color: black;}#sk-container-id-2 pre{padding: 0;}#sk-container-id-2 div.sk-toggleable {background-color: white;}#sk-container-id-2 label.sk-toggleable__label {cursor: pointer;display: block;width: 100%;margin-bottom: 0;padding: 0.3em;box-sizing: border-box;text-align: center;}#sk-container-id-2 label.sk-toggleable__label-arrow:before {content: \"▸\";float: left;margin-right: 0.25em;color: #696969;}#sk-container-id-2 label.sk-toggleable__label-arrow:hover:before {color: black;}#sk-container-id-2 div.sk-estimator:hover label.sk-toggleable__label-arrow:before {color: black;}#sk-container-id-2 div.sk-toggleable__content {max-height: 0;max-width: 0;overflow: hidden;text-align: left;background-color: #f0f8ff;}#sk-container-id-2 div.sk-toggleable__content pre {margin: 0.2em;color: black;border-radius: 0.25em;background-color: #f0f8ff;}#sk-container-id-2 input.sk-toggleable__control:checked~div.sk-toggleable__content {max-height: 200px;max-width: 100%;overflow: auto;}#sk-container-id-2 input.sk-toggleable__control:checked~label.sk-toggleable__label-arrow:before {content: \"▾\";}#sk-container-id-2 div.sk-estimator input.sk-toggleable__control:checked~label.sk-toggleable__label {background-color: #d4ebff;}#sk-container-id-2 div.sk-label input.sk-toggleable__control:checked~label.sk-toggleable__label {background-color: #d4ebff;}#sk-container-id-2 input.sk-hidden--visually {border: 0;clip: rect(1px 1px 1px 1px);clip: rect(1px, 1px, 1px, 1px);height: 1px;margin: -1px;overflow: hidden;padding: 0;position: absolute;width: 1px;}#sk-container-id-2 div.sk-estimator {font-family: monospace;background-color: #f0f8ff;border: 1px dotted black;border-radius: 0.25em;box-sizing: border-box;margin-bottom: 0.5em;}#sk-container-id-2 div.sk-estimator:hover {background-color: #d4ebff;}#sk-container-id-2 div.sk-parallel-item::after {content: \"\";width: 100%;border-bottom: 1px solid gray;flex-grow: 1;}#sk-container-id-2 div.sk-label:hover label.sk-toggleable__label {background-color: #d4ebff;}#sk-container-id-2 div.sk-serial::before {content: \"\";position: absolute;border-left: 1px solid gray;box-sizing: border-box;top: 0;bottom: 0;left: 50%;z-index: 0;}#sk-container-id-2 div.sk-serial {display: flex;flex-direction: column;align-items: center;background-color: white;padding-right: 0.2em;padding-left: 0.2em;position: relative;}#sk-container-id-2 div.sk-item {position: relative;z-index: 1;}#sk-container-id-2 div.sk-parallel {display: flex;align-items: stretch;justify-content: center;background-color: white;position: relative;}#sk-container-id-2 div.sk-item::before, #sk-container-id-2 div.sk-parallel-item::before {content: \"\";position: absolute;border-left: 1px solid gray;box-sizing: border-box;top: 0;bottom: 0;left: 50%;z-index: -1;}#sk-container-id-2 div.sk-parallel-item {display: flex;flex-direction: column;z-index: 1;position: relative;background-color: white;}#sk-container-id-2 div.sk-parallel-item:first-child::after {align-self: flex-end;width: 50%;}#sk-container-id-2 div.sk-parallel-item:last-child::after {align-self: flex-start;width: 50%;}#sk-container-id-2 div.sk-parallel-item:only-child::after {width: 0;}#sk-container-id-2 div.sk-dashed-wrapped {border: 1px dashed gray;margin: 0 0.4em 0.5em 0.4em;box-sizing: border-box;padding-bottom: 0.4em;background-color: white;}#sk-container-id-2 div.sk-label label {font-family: monospace;font-weight: bold;display: inline-block;line-height: 1.2em;}#sk-container-id-2 div.sk-label-container {text-align: center;}#sk-container-id-2 div.sk-container {/* jupyter's `normalize.less` sets `[hidden] { display: none; }` but bootstrap.min.css set `[hidden] { display: none !important; }` so we also need the `!important` here to be able to override the default hidden behavior on the sphinx rendered scikit-learn.org. See: https://github.com/scikit-learn/scikit-learn/issues/21755 */display: inline-block !important;position: relative;}#sk-container-id-2 div.sk-text-repr-fallback {display: none;}</style><div id=\"sk-container-id-2\" class=\"sk-top-container\"><div class=\"sk-text-repr-fallback\"><pre>ExtraTreesClassifier(class_weight=&#x27;balanced&#x27;, max_depth=5, n_estimators=16,\n",
       "                     random_state=42)</pre><b>In a Jupyter environment, please rerun this cell to show the HTML representation or trust the notebook. <br />On GitHub, the HTML representation is unable to render, please try loading this page with nbviewer.org.</b></div><div class=\"sk-container\" hidden><div class=\"sk-item\"><div class=\"sk-estimator sk-toggleable\"><input class=\"sk-toggleable__control sk-hidden--visually\" id=\"sk-estimator-id-4\" type=\"checkbox\" checked><label for=\"sk-estimator-id-4\" class=\"sk-toggleable__label sk-toggleable__label-arrow\">ExtraTreesClassifier</label><div class=\"sk-toggleable__content\"><pre>ExtraTreesClassifier(class_weight=&#x27;balanced&#x27;, max_depth=5, n_estimators=16,\n",
       "                     random_state=42)</pre></div></div></div></div></div>"
      ],
      "text/plain": [
       "ExtraTreesClassifier(class_weight='balanced', max_depth=5, n_estimators=16,\n",
       "                     random_state=42)"
      ]
     },
     "execution_count": 30,
     "metadata": {},
     "output_type": "execute_result"
    }
   ],
   "source": [
    "model = ExtraTreesClassifier(class_weight='balanced', max_depth=5,n_estimators=16,\n",
    "                           random_state=42)\n",
    "model.fit(train_x[final_features], train_y)"
   ]
  },
  {
   "cell_type": "code",
   "execution_count": 31,
   "id": "ec5a1587-9934-4902-8591-41268e62a387",
   "metadata": {},
   "outputs": [
    {
     "name": "stdout",
     "output_type": "stream",
     "text": [
      "ACC: 0.999627004848937\n",
      "F1: 0.999616122840691\n",
      "ROC AUC: 1.0\n"
     ]
    }
   ],
   "source": [
    "predictions = model.predict(test_x[final_features])\n",
    "predictions_scores = model.predict_proba(test_x[final_features])\n",
    "\n",
    "\n",
    "acc = accuracy_score(test_y, predictions)\n",
    "f1 = f1_score(test_y, predictions)\n",
    "print(f'ACC: {acc}')\n",
    "print(f'F1: {f1}')\n",
    "roc = roc_auc_score(test_y, predictions_scores[:,1])\n",
    "print(f'ROC AUC: {roc}')"
   ]
  },
  {
   "cell_type": "code",
   "execution_count": 32,
   "id": "37ac974e-5572-48c1-bf03-f9eb46ec682b",
   "metadata": {},
   "outputs": [
    {
     "name": "stdout",
     "output_type": "stream",
     "text": [
      "Elapsed time to compute the importances: 0.002 seconds\n"
     ]
    }
   ],
   "source": [
    "import time\n",
    "start_time = time.time()\n",
    "importances = model.feature_importances_\n",
    "std = np.std([tree.feature_importances_ for tree in model.estimators_], axis=0)\n",
    "elapsed_time = time.time() - start_time\n",
    "\n",
    "print(f\"Elapsed time to compute the importances: {elapsed_time:.3f} seconds\")"
   ]
  },
  {
   "cell_type": "code",
   "execution_count": 33,
   "id": "85ae181f-27f4-4a67-8e96-6d052e7f4f1a",
   "metadata": {},
   "outputs": [
    {
     "data": {
      "image/png": "[encoded data removed]",
      "text/plain": [
       "<Figure size 640x480 with 1 Axes>"
      ]
     },
     "metadata": {},
     "output_type": "display_data"
    }
   ],
   "source": [
    "import matplotlib.pyplot as plt\n",
    "\n",
    "forest_importances = pd.Series(importances, index=final_features)\n",
    "\n",
    "fig, ax = plt.subplots()\n",
    "forest_importances.plot.bar(yerr=std, ax=ax)\n",
    "ax.set_title(\"Feature importances using MDI\")\n",
    "ax.set_ylabel(\"Mean decrease in impurity\")\n",
    "fig.tight_layout()"
   ]
  },
  {
   "cell_type": "code",
   "execution_count": 34,
   "id": "088100ea-cd54-4067-84a6-1c5e6efde3ba",
   "metadata": {},
   "outputs": [
    {
     "data": {
      "text/plain": [
       "0"
      ]
     },
     "execution_count": 34,
     "metadata": {},
     "output_type": "execute_result"
    }
   ],
   "source": [
    "len(np.where(data.target == 'good')[0])"
   ]
  },
  {
   "cell_type": "code",
   "execution_count": null,
   "id": "ef0a03b0-3fb3-4711-87ec-7f0984ac80bc",
   "metadata": {},
   "outputs": [],
   "source": []
  }
 ],
 "metadata": {
  "kernelspec": {
   "display_name": "Python 3 (ipykernel)",
   "language": "python",
   "name": "python3"
  },
  "language_info": {
   "codemirror_mode": {
    "name": "ipython",
    "version": 3
   },
   "file_extension": ".py",
   "mimetype": "text/x-python",
   "name": "python",
   "nbconvert_exporter": "python",
   "pygments_lexer": "ipython3",
   "version": "3.10.12"
  }
 },
 "nbformat": 4,
 "nbformat_minor": 5
}
