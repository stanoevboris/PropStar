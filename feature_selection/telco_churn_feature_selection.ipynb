{
 "cells": [
  {
   "cell_type": "code",
   "execution_count": 1,
   "id": "4ee36116-b66c-4f6a-a78c-7afb9d1f08b3",
   "metadata": {},
   "outputs": [],
   "source": [
    "from sklearn.model_selection import StratifiedKFold, train_test_split\n",
    "import numpy as np\n",
    "import pandas as pd\n",
    "from category_encoders import woe\n",
    "from sklearn import preprocessing\n",
    "from sklearn.ensemble import ExtraTreesClassifier,RandomForestClassifier\n",
    "from scipy import sparse\n",
    "from sklearn.metrics import accuracy_score, f1_score, roc_auc_score\n",
    "from sklearn.datasets import fetch_openml"
   ]
  },
  {
   "cell_type": "code",
   "execution_count": 2,
   "id": "5379a7dd-d1b3-49f6-96a3-64f606ca917d",
   "metadata": {},
   "outputs": [],
   "source": [
    "def preprocess_and_split(X, Y, num_fold=10):\n",
    "    skf = StratifiedKFold(n_splits=num_fold)\n",
    "\n",
    "    for train_index, test_index in skf.split(X, Y):\n",
    "        yield train_index, test_index"
   ]
  },
  {
   "cell_type": "code",
   "execution_count": 58,
   "id": "ef9c50cb-dfd2-468f-af0d-a65972ee118f",
   "metadata": {},
   "outputs": [
    {
     "name": "stderr",
     "output_type": "stream",
     "text": [
      "C:\\Projects\\Private\\woe_playground\\venv\\lib\\site-packages\\sklearn\\datasets\\_openml.py:303: UserWarning: Multiple active versions of the dataset matching the name telco-customer-churn exist. Versions may be fundamentally different, returning version 1.\n",
      "  warn(\n",
      "C:\\Projects\\Private\\woe_playground\\venv\\lib\\site-packages\\sklearn\\datasets\\_openml.py:1002: FutureWarning: The default value of `parser` will change from `'liac-arff'` to `'auto'` in 1.4. You can set `parser='auto'` to silence this warning. Therefore, an `ImportError` will be raised from 1.4 if the dataset is dense and pandas is not installed. Note that the pandas parser may return different data types. See the Notes Section in fetch_openml's API doc for details.\n",
      "  warn(\n"
     ]
    }
   ],
   "source": [
    "data = fetch_openml(name='telco-customer-churn')"
   ]
  },
  {
   "cell_type": "code",
   "execution_count": 59,
   "id": "137e2e5c",
   "metadata": {
    "collapsed": false
   },
   "outputs": [
    {
     "data": {
      "text/plain": [
       "gender              7043\n",
       "SeniorCitizen       7043\n",
       "Partner             7043\n",
       "Dependents          7043\n",
       "tenure              7043\n",
       "PhoneService        7043\n",
       "MultipleLines       7043\n",
       "InternetService     7043\n",
       "OnlineSecurity      7043\n",
       "OnlineBackup        7043\n",
       "DeviceProtection    7043\n",
       "TechSupport         7043\n",
       "StreamingTV         7043\n",
       "StreamingMovies     7043\n",
       "Contract            7043\n",
       "PaperlessBilling    7043\n",
       "PaymentMethod       7043\n",
       "MonthlyCharges      7043\n",
       "TotalCharges        7043\n",
       "dtype: int64"
      ]
     },
     "execution_count": 59,
     "metadata": {},
     "output_type": "execute_result"
    }
   ],
   "source": [
    "data.data.count()"
   ]
  },
  {
   "cell_type": "code",
   "execution_count": 62,
   "id": "6c6f681a",
   "metadata": {
    "collapsed": false
   },
   "outputs": [
    {
     "name": "stderr",
     "output_type": "stream",
     "text": [
      "C:\\Users\\stano\\AppData\\Local\\Temp\\ipykernel_19648\\2073246585.py:4: SettingWithCopyWarning: \n",
      "A value is trying to be set on a copy of a slice from a DataFrame\n",
      "\n",
      "See the caveats in the documentation: https://pandas.pydata.org/pandas-docs/stable/user_guide/indexing.html#returning-a-view-versus-a-copy\n",
      "  data.data.drop(labels=[*drop_indices], inplace=True)\n"
     ]
    }
   ],
   "source": [
    "drop_indices = data.data[data.data['TotalCharges']== ' '].index\n",
    "data.data.drop(labels=[*drop_indices], inplace=True)\n",
    "data.target.drop(labels=[*drop_indices], inplace=True)"
   ]
  },
  {
   "cell_type": "code",
   "execution_count": 63,
   "id": "023a2aac",
   "metadata": {
    "collapsed": false
   },
   "outputs": [
    {
     "data": {
      "text/plain": [
       "Index(['gender', 'SeniorCitizen', 'Partner', 'Dependents', 'tenure',\n",
       "       'PhoneService', 'MultipleLines', 'InternetService', 'OnlineSecurity',\n",
       "       'OnlineBackup', 'DeviceProtection', 'TechSupport', 'StreamingTV',\n",
       "       'StreamingMovies', 'Contract', 'PaperlessBilling', 'PaymentMethod',\n",
       "       'MonthlyCharges', 'TotalCharges'],\n",
       "      dtype='object')"
      ]
     },
     "execution_count": 63,
     "metadata": {},
     "output_type": "execute_result"
    }
   ],
   "source": [
    "data.data.columns"
   ]
  },
  {
   "cell_type": "code",
   "execution_count": 64,
   "id": "58e00440-321d-46a5-8441-98a5884bb23f",
   "metadata": {},
   "outputs": [],
   "source": [
    "woe_cols = ['gender', 'Partner', 'Dependents', 'PhoneService', 'MultipleLines', 'InternetService', 'OnlineSecurity',\n",
    "       'OnlineBackup', 'DeviceProtection', 'TechSupport', 'StreamingTV',\n",
    "       'StreamingMovies', 'Contract', 'PaperlessBilling', 'PaymentMethod']"
   ]
  },
  {
   "cell_type": "markdown",
   "id": "9324532e-722d-4233-95ab-561754d5e2f4",
   "metadata": {},
   "source": [
    "# Fit/test original columns"
   ]
  },
  {
   "cell_type": "code",
   "execution_count": 65,
   "id": "d08900a7-2e0f-47bf-ba5d-90ebc4781193",
   "metadata": {},
   "outputs": [],
   "source": [
    "X = data.data.copy()\n",
    "y = data.target.copy()"
   ]
  },
  {
   "cell_type": "code",
   "execution_count": 85,
   "id": "88842595-5c0f-4ebc-80e3-931de7b39c17",
   "metadata": {},
   "outputs": [
    {
     "name": "stdout",
     "output_type": "stream",
     "text": [
      "Unique classes:{'No', 'Yes'}\n",
      "model init\n",
      "gender               object\n",
      "SeniorCitizen         int64\n",
      "Partner              object\n",
      "Dependents           object\n",
      "tenure                int64\n",
      "PhoneService         object\n",
      "MultipleLines        object\n",
      "InternetService      object\n",
      "OnlineSecurity       object\n",
      "OnlineBackup         object\n",
      "DeviceProtection     object\n",
      "TechSupport          object\n",
      "StreamingTV          object\n",
      "StreamingMovies      object\n",
      "Contract             object\n",
      "PaperlessBilling     object\n",
      "PaymentMethod        object\n",
      "MonthlyCharges      float64\n",
      "TotalCharges         object\n",
      "dtype: object\n",
      "ACC: 0.7789745799224472\n",
      "F1: 0.5289256198347108\n",
      "ROC AUC: 0.7902161519962441\n"
     ]
    }
   ],
   "source": [
    "vectorizer = woe.WOEEncoder(cols=woe_cols)\n",
    "# vectorizer = preprocessing.OneHotEncoder(handle_unknown='ignore')\n",
    "label_encoder = preprocessing.LabelEncoder()\n",
    "\n",
    "X_train, X_test, y_train, y_test = train_test_split(X, y, test_size=0.33, random_state=42)\n",
    "train_y = label_encoder.fit_transform(y_train)\n",
    "test_y = label_encoder.transform(y_test)\n",
    "\n",
    "unique_classes = set(y_test)\n",
    "print(f\"Unique classes:{unique_classes}\")\n",
    "# woe_data = [woe_cols].copy()\n",
    "\n",
    "woe_train_features = vectorizer.fit_transform(X=X_train[woe_cols], y=train_y)\n",
    "woe_test_features = vectorizer.transform(X=X_test[woe_cols])\n",
    "original_train_df = X_train.copy()\n",
    "original_train_df.update(woe_train_features)\n",
    "\n",
    "original_test_df = X_test.copy()\n",
    "original_test_df.update(woe_test_features)\n",
    "\n",
    "train_x = original_train_df.copy()\n",
    "test_x = original_test_df.copy()\n",
    "print(\"model init\")\n",
    "model = ExtraTreesClassifier(n_estimators=16,\n",
    "                           random_state=42)\n",
    "print(train_x.dtypes)\n",
    "model.fit(train_x, train_y)\n",
    "predictions = model.predict(test_x)\n",
    "predictions_scores = model.predict_proba(test_x)\n",
    "\n",
    "acc = accuracy_score(test_y, predictions)\n",
    "f1 = f1_score(test_y, predictions)\n",
    "print(f'ACC: {acc}')\n",
    "print(f'F1: {f1}')\n",
    "roc = roc_auc_score(test_y, predictions_scores[:,1])\n",
    "print(f'ROC AUC: {roc}')"
   ]
  },
  {
   "cell_type": "markdown",
   "id": "43c79c76-07fc-48f4-b50e-2c231f177b3e",
   "metadata": {},
   "source": [
    "**Columns unique values**"
   ]
  },
  {
   "cell_type": "code",
   "execution_count": 86,
   "id": "504137ea-f604-4597-ac12-32b5b5220d11",
   "metadata": {},
   "outputs": [
    {
     "name": "stdout",
     "output_type": "stream",
     "text": [
      "gender-2\n",
      "SeniorCitizen-2\n",
      "Partner-2\n",
      "Dependents-2\n",
      "tenure-72\n",
      "PhoneService-2\n",
      "MultipleLines-3\n",
      "InternetService-3\n",
      "OnlineSecurity-3\n",
      "OnlineBackup-3\n",
      "DeviceProtection-3\n",
      "TechSupport-3\n",
      "StreamingTV-3\n",
      "StreamingMovies-3\n",
      "Contract-3\n",
      "PaperlessBilling-2\n",
      "PaymentMethod-4\n",
      "MonthlyCharges-1436\n",
      "TotalCharges-4479\n"
     ]
    }
   ],
   "source": [
    "for col in train_x.columns.values:\n",
    "    cnt = len(train_x[col].unique())\n",
    "    print(f'{col}-{cnt}')"
   ]
  },
  {
   "cell_type": "markdown",
   "id": "69e09cf6-02df-41cb-8af2-b76248530e38",
   "metadata": {},
   "source": [
    "### Feature importance based on mean decrease in impurity"
   ]
  },
  {
   "cell_type": "code",
   "execution_count": 87,
   "id": "a0c7e7e9-02b4-4fc1-9268-e5cccf07a316",
   "metadata": {},
   "outputs": [
    {
     "name": "stdout",
     "output_type": "stream",
     "text": [
      "Elapsed time to compute the importances: 0.004 seconds\n"
     ]
    }
   ],
   "source": [
    "import time\n",
    "start_time = time.time()\n",
    "importances = model.feature_importances_\n",
    "std = np.std([tree.feature_importances_ for tree in model.estimators_], axis=0)\n",
    "elapsed_time = time.time() - start_time\n",
    "\n",
    "print(f\"Elapsed time to compute the importances: {elapsed_time:.3f} seconds\")"
   ]
  },
  {
   "cell_type": "code",
   "execution_count": 88,
   "id": "e9167caa-dceb-4f9c-9297-90510db0b7d1",
   "metadata": {},
   "outputs": [
    {
     "data": {
      "image/png": "[encoded data removed]",
      "text/plain": [
       "<Figure size 640x480 with 1 Axes>"
      ]
     },
     "metadata": {},
     "output_type": "display_data"
    }
   ],
   "source": [
    "import matplotlib.pyplot as plt\n",
    "\n",
    "forest_importances = pd.Series(importances, index=list(train_x.columns.values))\n",
    "\n",
    "fig, ax = plt.subplots()\n",
    "forest_importances.plot.bar(yerr=std, ax=ax)\n",
    "ax.set_title(\"Feature importances using MDI\")\n",
    "ax.set_ylabel(\"Mean decrease in impurity\")\n",
    "fig.tight_layout()"
   ]
  },
  {
   "cell_type": "code",
   "execution_count": 94,
   "id": "730ebe6a",
   "metadata": {
    "collapsed": false
   },
   "outputs": [
    {
     "data": {
      "text/plain": [
       "SeniorCitizen      0.026664\n",
       "Dependents         0.024609\n",
       "PhoneService       0.006897\n",
       "MultipleLines      0.028517\n",
       "StreamingMovies    0.028351\n",
       "dtype: float64"
      ]
     },
     "execution_count": 94,
     "metadata": {},
     "output_type": "execute_result"
    }
   ],
   "source": [
    "forest_importances[forest_importances <0.03]"
   ]
  },
  {
   "cell_type": "markdown",
   "id": "94cf21c8-0603-4b67-a84e-8cf2647afcef",
   "metadata": {},
   "source": [
    "# Fit/test added random columns"
   ]
  },
  {
   "cell_type": "code",
   "execution_count": 70,
   "id": "fccdc5bb-d342-4086-b941-b9d63c536368",
   "metadata": {},
   "outputs": [],
   "source": [
    "X = data.data.copy()\n",
    "y = data.target.copy()"
   ]
  },
  {
   "cell_type": "code",
   "execution_count": 71,
   "id": "93300d44-1de7-45bd-a592-a8a381c19237",
   "metadata": {},
   "outputs": [],
   "source": [
    "for i in range(10):\n",
    "    X[f'fake_{i}'] = np.random.rand(len(X))"
   ]
  },
  {
   "cell_type": "code",
   "execution_count": 72,
   "id": "dc9702f5-8622-487a-8a87-2970b6612a17",
   "metadata": {},
   "outputs": [
    {
     "name": "stdout",
     "output_type": "stream",
     "text": [
      "Unique classes:{'No', 'Yes'}\n",
      "ACC: 0.7880224041361482\n",
      "F1: 0.525096525096525\n",
      "ROC AUC: 0.8041860286861293\n"
     ]
    }
   ],
   "source": [
    "vectorizer = woe.WOEEncoder(cols=woe_cols)\n",
    "# vectorizer = preprocessing.OneHotEncoder(handle_unknown='ignore')\n",
    "label_encoder = preprocessing.LabelEncoder()\n",
    "\n",
    "X_train, X_test, y_train, y_test = train_test_split(X, y, test_size=0.33, random_state=42)\n",
    "\n",
    "train_y = label_encoder.fit_transform(y_train)\n",
    "test_y = label_encoder.transform(y_test)\n",
    "\n",
    "unique_classes = set(y_test)\n",
    "print(f\"Unique classes:{unique_classes}\")\n",
    "\n",
    "woe_train_features = vectorizer.fit_transform(X=X_train[woe_cols], y=train_y)\n",
    "woe_test_features = vectorizer.transform(X=X_test[woe_cols])\n",
    "\n",
    "original_train_df = X_train.copy()\n",
    "original_train_df.update(woe_train_features)\n",
    "\n",
    "original_test_df = X_test.copy()\n",
    "original_test_df.update(woe_test_features)\n",
    "\n",
    "train_x = original_train_df.copy()\n",
    "test_x = original_test_df.copy()\n",
    "model = ExtraTreesClassifier(n_estimators=16,\n",
    "                           random_state=42)\n",
    "model.fit(train_x, train_y)\n",
    "\n",
    "predictions = model.predict(test_x)\n",
    "predictions_scores = model.predict_proba(test_x)\n",
    "\n",
    "\n",
    "acc = accuracy_score(test_y, predictions)\n",
    "f1 = f1_score(test_y, predictions)\n",
    "print(f'ACC: {acc}')\n",
    "print(f'F1: {f1}')\n",
    "roc = roc_auc_score(test_y, predictions_scores[:,1])\n",
    "print(f'ROC AUC: {roc}')"
   ]
  },
  {
   "cell_type": "code",
   "execution_count": 73,
   "id": "38636c46-b65e-4598-ba14-e75aae0f3c9d",
   "metadata": {},
   "outputs": [
    {
     "data": {
      "text/html": [
       "<div>\n",
       "<style scoped>\n",
       "    .dataframe tbody tr th:only-of-type {\n",
       "        vertical-align: middle;\n",
       "    }\n",
       "\n",
       "    .dataframe tbody tr th {\n",
       "        vertical-align: top;\n",
       "    }\n",
       "\n",
       "    .dataframe thead th {\n",
       "        text-align: right;\n",
       "    }\n",
       "</style>\n",
       "<table border=\"1\" class=\"dataframe\">\n",
       "  <thead>\n",
       "    <tr style=\"text-align: right;\">\n",
       "      <th></th>\n",
       "      <th>gender</th>\n",
       "      <th>SeniorCitizen</th>\n",
       "      <th>Partner</th>\n",
       "      <th>Dependents</th>\n",
       "      <th>tenure</th>\n",
       "      <th>PhoneService</th>\n",
       "      <th>MultipleLines</th>\n",
       "      <th>InternetService</th>\n",
       "      <th>OnlineSecurity</th>\n",
       "      <th>OnlineBackup</th>\n",
       "      <th>...</th>\n",
       "      <th>fake_0</th>\n",
       "      <th>fake_1</th>\n",
       "      <th>fake_2</th>\n",
       "      <th>fake_3</th>\n",
       "      <th>fake_4</th>\n",
       "      <th>fake_5</th>\n",
       "      <th>fake_6</th>\n",
       "      <th>fake_7</th>\n",
       "      <th>fake_8</th>\n",
       "      <th>fake_9</th>\n",
       "    </tr>\n",
       "  </thead>\n",
       "  <tbody>\n",
       "    <tr>\n",
       "      <th>5767</th>\n",
       "      <td>0.031779</td>\n",
       "      <td>0</td>\n",
       "      <td>-0.368793</td>\n",
       "      <td>0.2401</td>\n",
       "      <td>65</td>\n",
       "      <td>0.013376</td>\n",
       "      <td>-0.082251</td>\n",
       "      <td>-0.460731</td>\n",
       "      <td>0.693814</td>\n",
       "      <td>0.597674</td>\n",
       "      <td>...</td>\n",
       "      <td>0.588306</td>\n",
       "      <td>0.042815</td>\n",
       "      <td>0.734048</td>\n",
       "      <td>0.198369</td>\n",
       "      <td>0.994371</td>\n",
       "      <td>0.215906</td>\n",
       "      <td>0.211557</td>\n",
       "      <td>0.480915</td>\n",
       "      <td>0.648632</td>\n",
       "      <td>0.343826</td>\n",
       "    </tr>\n",
       "    <tr>\n",
       "      <th>5361</th>\n",
       "      <td>0.031779</td>\n",
       "      <td>0</td>\n",
       "      <td>0.293531</td>\n",
       "      <td>-0.72085</td>\n",
       "      <td>4</td>\n",
       "      <td>0.013376</td>\n",
       "      <td>-0.082251</td>\n",
       "      <td>-1.481489</td>\n",
       "      <td>-1.481489</td>\n",
       "      <td>-1.481489</td>\n",
       "      <td>...</td>\n",
       "      <td>0.242932</td>\n",
       "      <td>0.905804</td>\n",
       "      <td>0.678866</td>\n",
       "      <td>0.551422</td>\n",
       "      <td>0.485934</td>\n",
       "      <td>0.554404</td>\n",
       "      <td>0.382878</td>\n",
       "      <td>0.480622</td>\n",
       "      <td>0.457024</td>\n",
       "      <td>0.803850</td>\n",
       "    </tr>\n",
       "    <tr>\n",
       "      <th>5745</th>\n",
       "      <td>0.031779</td>\n",
       "      <td>0</td>\n",
       "      <td>-0.368793</td>\n",
       "      <td>-0.72085</td>\n",
       "      <td>61</td>\n",
       "      <td>0.013376</td>\n",
       "      <td>0.120735</td>\n",
       "      <td>-1.481489</td>\n",
       "      <td>-1.481489</td>\n",
       "      <td>-1.481489</td>\n",
       "      <td>...</td>\n",
       "      <td>0.387039</td>\n",
       "      <td>0.335910</td>\n",
       "      <td>0.172727</td>\n",
       "      <td>0.116332</td>\n",
       "      <td>0.611521</td>\n",
       "      <td>0.996719</td>\n",
       "      <td>0.100972</td>\n",
       "      <td>0.761667</td>\n",
       "      <td>0.653616</td>\n",
       "      <td>0.990142</td>\n",
       "    </tr>\n",
       "    <tr>\n",
       "      <th>6065</th>\n",
       "      <td>-0.030656</td>\n",
       "      <td>0</td>\n",
       "      <td>0.293531</td>\n",
       "      <td>0.2401</td>\n",
       "      <td>59</td>\n",
       "      <td>0.013376</td>\n",
       "      <td>0.120735</td>\n",
       "      <td>-1.481489</td>\n",
       "      <td>-1.481489</td>\n",
       "      <td>-1.481489</td>\n",
       "      <td>...</td>\n",
       "      <td>0.531210</td>\n",
       "      <td>0.915343</td>\n",
       "      <td>0.441345</td>\n",
       "      <td>0.227434</td>\n",
       "      <td>0.659262</td>\n",
       "      <td>0.052836</td>\n",
       "      <td>0.556566</td>\n",
       "      <td>0.021326</td>\n",
       "      <td>0.574470</td>\n",
       "      <td>0.681614</td>\n",
       "    </tr>\n",
       "    <tr>\n",
       "      <th>229</th>\n",
       "      <td>0.031779</td>\n",
       "      <td>0</td>\n",
       "      <td>-0.368793</td>\n",
       "      <td>-0.72085</td>\n",
       "      <td>47</td>\n",
       "      <td>0.013376</td>\n",
       "      <td>0.120735</td>\n",
       "      <td>-0.460731</td>\n",
       "      <td>-0.74438</td>\n",
       "      <td>-0.234991</td>\n",
       "      <td>...</td>\n",
       "      <td>0.669002</td>\n",
       "      <td>0.276704</td>\n",
       "      <td>0.021308</td>\n",
       "      <td>0.488690</td>\n",
       "      <td>0.639296</td>\n",
       "      <td>0.245178</td>\n",
       "      <td>0.540556</td>\n",
       "      <td>0.810609</td>\n",
       "      <td>0.310008</td>\n",
       "      <td>0.089615</td>\n",
       "    </tr>\n",
       "    <tr>\n",
       "      <th>...</th>\n",
       "      <td>...</td>\n",
       "      <td>...</td>\n",
       "      <td>...</td>\n",
       "      <td>...</td>\n",
       "      <td>...</td>\n",
       "      <td>...</td>\n",
       "      <td>...</td>\n",
       "      <td>...</td>\n",
       "      <td>...</td>\n",
       "      <td>...</td>\n",
       "      <td>...</td>\n",
       "      <td>...</td>\n",
       "      <td>...</td>\n",
       "      <td>...</td>\n",
       "      <td>...</td>\n",
       "      <td>...</td>\n",
       "      <td>...</td>\n",
       "      <td>...</td>\n",
       "      <td>...</td>\n",
       "      <td>...</td>\n",
       "      <td>...</td>\n",
       "    </tr>\n",
       "    <tr>\n",
       "      <th>3778</th>\n",
       "      <td>-0.030656</td>\n",
       "      <td>0</td>\n",
       "      <td>0.293531</td>\n",
       "      <td>0.2401</td>\n",
       "      <td>3</td>\n",
       "      <td>0.013376</td>\n",
       "      <td>0.120735</td>\n",
       "      <td>-0.460731</td>\n",
       "      <td>0.693814</td>\n",
       "      <td>0.597674</td>\n",
       "      <td>...</td>\n",
       "      <td>0.030367</td>\n",
       "      <td>0.841205</td>\n",
       "      <td>0.528763</td>\n",
       "      <td>0.039101</td>\n",
       "      <td>0.763113</td>\n",
       "      <td>0.380720</td>\n",
       "      <td>0.709967</td>\n",
       "      <td>0.891400</td>\n",
       "      <td>0.714795</td>\n",
       "      <td>0.805605</td>\n",
       "    </tr>\n",
       "    <tr>\n",
       "      <th>5199</th>\n",
       "      <td>0.031779</td>\n",
       "      <td>0</td>\n",
       "      <td>0.293531</td>\n",
       "      <td>0.2401</td>\n",
       "      <td>51</td>\n",
       "      <td>0.013376</td>\n",
       "      <td>0.120735</td>\n",
       "      <td>0.710604</td>\n",
       "      <td>0.693814</td>\n",
       "      <td>-0.234991</td>\n",
       "      <td>...</td>\n",
       "      <td>0.593991</td>\n",
       "      <td>0.511199</td>\n",
       "      <td>0.044306</td>\n",
       "      <td>0.009238</td>\n",
       "      <td>0.377003</td>\n",
       "      <td>0.403797</td>\n",
       "      <td>0.583563</td>\n",
       "      <td>0.839649</td>\n",
       "      <td>0.824820</td>\n",
       "      <td>0.862086</td>\n",
       "    </tr>\n",
       "    <tr>\n",
       "      <th>5235</th>\n",
       "      <td>-0.030656</td>\n",
       "      <td>0</td>\n",
       "      <td>0.293531</td>\n",
       "      <td>0.2401</td>\n",
       "      <td>9</td>\n",
       "      <td>0.013376</td>\n",
       "      <td>0.120735</td>\n",
       "      <td>0.710604</td>\n",
       "      <td>-0.74438</td>\n",
       "      <td>0.597674</td>\n",
       "      <td>...</td>\n",
       "      <td>0.281436</td>\n",
       "      <td>0.817145</td>\n",
       "      <td>0.754072</td>\n",
       "      <td>0.997352</td>\n",
       "      <td>0.675164</td>\n",
       "      <td>0.123439</td>\n",
       "      <td>0.242438</td>\n",
       "      <td>0.314186</td>\n",
       "      <td>0.971584</td>\n",
       "      <td>0.994846</td>\n",
       "    </tr>\n",
       "    <tr>\n",
       "      <th>5399</th>\n",
       "      <td>0.031779</td>\n",
       "      <td>0</td>\n",
       "      <td>0.293531</td>\n",
       "      <td>0.2401</td>\n",
       "      <td>50</td>\n",
       "      <td>0.013376</td>\n",
       "      <td>-0.082251</td>\n",
       "      <td>-1.481489</td>\n",
       "      <td>-1.481489</td>\n",
       "      <td>-1.481489</td>\n",
       "      <td>...</td>\n",
       "      <td>0.501670</td>\n",
       "      <td>0.016425</td>\n",
       "      <td>0.589216</td>\n",
       "      <td>0.106016</td>\n",
       "      <td>0.420934</td>\n",
       "      <td>0.971552</td>\n",
       "      <td>0.925002</td>\n",
       "      <td>0.224435</td>\n",
       "      <td>0.129606</td>\n",
       "      <td>0.770232</td>\n",
       "    </tr>\n",
       "    <tr>\n",
       "      <th>862</th>\n",
       "      <td>-0.030656</td>\n",
       "      <td>1</td>\n",
       "      <td>-0.368793</td>\n",
       "      <td>0.2401</td>\n",
       "      <td>20</td>\n",
       "      <td>0.013376</td>\n",
       "      <td>-0.082251</td>\n",
       "      <td>0.710604</td>\n",
       "      <td>0.693814</td>\n",
       "      <td>-0.234991</td>\n",
       "      <td>...</td>\n",
       "      <td>0.820993</td>\n",
       "      <td>0.647939</td>\n",
       "      <td>0.010421</td>\n",
       "      <td>0.934623</td>\n",
       "      <td>0.914533</td>\n",
       "      <td>0.233618</td>\n",
       "      <td>0.953439</td>\n",
       "      <td>0.326299</td>\n",
       "      <td>0.091580</td>\n",
       "      <td>0.779438</td>\n",
       "    </tr>\n",
       "  </tbody>\n",
       "</table>\n",
       "<p>4711 rows × 29 columns</p>\n",
       "</div>"
      ],
      "text/plain": [
       "        gender  SeniorCitizen   Partner Dependents  tenure PhoneService  \\\n",
       "5767  0.031779              0 -0.368793     0.2401      65     0.013376   \n",
       "5361  0.031779              0  0.293531   -0.72085       4     0.013376   \n",
       "5745  0.031779              0 -0.368793   -0.72085      61     0.013376   \n",
       "6065 -0.030656              0  0.293531     0.2401      59     0.013376   \n",
       "229   0.031779              0 -0.368793   -0.72085      47     0.013376   \n",
       "...        ...            ...       ...        ...     ...          ...   \n",
       "3778 -0.030656              0  0.293531     0.2401       3     0.013376   \n",
       "5199  0.031779              0  0.293531     0.2401      51     0.013376   \n",
       "5235 -0.030656              0  0.293531     0.2401       9     0.013376   \n",
       "5399  0.031779              0  0.293531     0.2401      50     0.013376   \n",
       "862  -0.030656              1 -0.368793     0.2401      20     0.013376   \n",
       "\n",
       "     MultipleLines InternetService OnlineSecurity OnlineBackup  ...    fake_0  \\\n",
       "5767     -0.082251       -0.460731       0.693814     0.597674  ...  0.588306   \n",
       "5361     -0.082251       -1.481489      -1.481489    -1.481489  ...  0.242932   \n",
       "5745      0.120735       -1.481489      -1.481489    -1.481489  ...  0.387039   \n",
       "6065      0.120735       -1.481489      -1.481489    -1.481489  ...  0.531210   \n",
       "229       0.120735       -0.460731       -0.74438    -0.234991  ...  0.669002   \n",
       "...            ...             ...            ...          ...  ...       ...   \n",
       "3778      0.120735       -0.460731       0.693814     0.597674  ...  0.030367   \n",
       "5199      0.120735        0.710604       0.693814    -0.234991  ...  0.593991   \n",
       "5235      0.120735        0.710604       -0.74438     0.597674  ...  0.281436   \n",
       "5399     -0.082251       -1.481489      -1.481489    -1.481489  ...  0.501670   \n",
       "862      -0.082251        0.710604       0.693814    -0.234991  ...  0.820993   \n",
       "\n",
       "        fake_1    fake_2    fake_3    fake_4    fake_5    fake_6    fake_7  \\\n",
       "5767  0.042815  0.734048  0.198369  0.994371  0.215906  0.211557  0.480915   \n",
       "5361  0.905804  0.678866  0.551422  0.485934  0.554404  0.382878  0.480622   \n",
       "5745  0.335910  0.172727  0.116332  0.611521  0.996719  0.100972  0.761667   \n",
       "6065  0.915343  0.441345  0.227434  0.659262  0.052836  0.556566  0.021326   \n",
       "229   0.276704  0.021308  0.488690  0.639296  0.245178  0.540556  0.810609   \n",
       "...        ...       ...       ...       ...       ...       ...       ...   \n",
       "3778  0.841205  0.528763  0.039101  0.763113  0.380720  0.709967  0.891400   \n",
       "5199  0.511199  0.044306  0.009238  0.377003  0.403797  0.583563  0.839649   \n",
       "5235  0.817145  0.754072  0.997352  0.675164  0.123439  0.242438  0.314186   \n",
       "5399  0.016425  0.589216  0.106016  0.420934  0.971552  0.925002  0.224435   \n",
       "862   0.647939  0.010421  0.934623  0.914533  0.233618  0.953439  0.326299   \n",
       "\n",
       "        fake_8    fake_9  \n",
       "5767  0.648632  0.343826  \n",
       "5361  0.457024  0.803850  \n",
       "5745  0.653616  0.990142  \n",
       "6065  0.574470  0.681614  \n",
       "229   0.310008  0.089615  \n",
       "...        ...       ...  \n",
       "3778  0.714795  0.805605  \n",
       "5199  0.824820  0.862086  \n",
       "5235  0.971584  0.994846  \n",
       "5399  0.129606  0.770232  \n",
       "862   0.091580  0.779438  \n",
       "\n",
       "[4711 rows x 29 columns]"
      ]
     },
     "execution_count": 73,
     "metadata": {},
     "output_type": "execute_result"
    }
   ],
   "source": [
    "train_x"
   ]
  },
  {
   "cell_type": "markdown",
   "id": "4ff442b2-15dc-4176-8bb2-0850761ed121",
   "metadata": {},
   "source": [
    "### Feature importance based on mean decrease in impurity"
   ]
  },
  {
   "cell_type": "code",
   "execution_count": 74,
   "id": "849ed329-67e6-4b5e-a57b-f0319232299e",
   "metadata": {},
   "outputs": [
    {
     "name": "stdout",
     "output_type": "stream",
     "text": [
      "Elapsed time to compute the importances: 0.004 seconds\n"
     ]
    }
   ],
   "source": [
    "import time\n",
    "start_time = time.time()\n",
    "importances = model.feature_importances_\n",
    "std = np.std([tree.feature_importances_ for tree in model.estimators_], axis=0)\n",
    "elapsed_time = time.time() - start_time\n",
    "\n",
    "print(f\"Elapsed time to compute the importances: {elapsed_time:.3f} seconds\")"
   ]
  },
  {
   "cell_type": "code",
   "execution_count": 75,
   "id": "da93ec95-ce89-41ea-a1dc-16c8a5caedb2",
   "metadata": {},
   "outputs": [
    {
     "data": {
      "image/png": "[encoded data removed]",
      "text/plain": [
       "<Figure size 640x480 with 1 Axes>"
      ]
     },
     "metadata": {},
     "output_type": "display_data"
    }
   ],
   "source": [
    "import matplotlib.pyplot as plt\n",
    "\n",
    "forest_importances = pd.Series(importances, index=list(train_x.columns.values))\n",
    "\n",
    "fig, ax = plt.subplots()\n",
    "forest_importances.plot.bar(yerr=std, ax=ax)\n",
    "ax.set_title(\"Feature importances using MDI\")\n",
    "ax.set_ylabel(\"Mean decrease in impurity\")\n",
    "fig.tight_layout()"
   ]
  },
  {
   "cell_type": "markdown",
   "id": "56ff953f-63fe-4ff4-afa1-53f43ae2827a",
   "metadata": {},
   "source": [
    "# Boruta experiment"
   ]
  },
  {
   "cell_type": "code",
   "execution_count": 76,
   "id": "ff78e19a-cf05-434e-b2a8-8907d55fbc5f",
   "metadata": {},
   "outputs": [],
   "source": [
    "from boruta import BorutaPy"
   ]
  },
  {
   "cell_type": "code",
   "execution_count": 77,
   "id": "7c840b89-24b8-4d7b-8763-c37191587309",
   "metadata": {},
   "outputs": [],
   "source": [
    "X = data.data.copy()\n",
    "y = data.target.copy()"
   ]
  },
  {
   "cell_type": "code",
   "execution_count": 78,
   "id": "e4f5847e-b44c-4438-8177-d5d7e7d0d8ea",
   "metadata": {},
   "outputs": [
    {
     "name": "stdout",
     "output_type": "stream",
     "text": [
      "Unique classes:{'No', 'Yes'}\n",
      "Iteration: \t1 / 100\n",
      "Confirmed: \t0\n",
      "Tentative: \t19\n",
      "Rejected: \t0\n",
      "Iteration: \t2 / 100\n",
      "Confirmed: \t0\n",
      "Tentative: \t19\n",
      "Rejected: \t0\n",
      "Iteration: \t3 / 100\n",
      "Confirmed: \t0\n",
      "Tentative: \t19\n",
      "Rejected: \t0\n",
      "Iteration: \t4 / 100\n",
      "Confirmed: \t0\n",
      "Tentative: \t19\n",
      "Rejected: \t0\n",
      "Iteration: \t5 / 100\n",
      "Confirmed: \t0\n",
      "Tentative: \t19\n",
      "Rejected: \t0\n",
      "Iteration: \t6 / 100\n",
      "Confirmed: \t0\n",
      "Tentative: \t19\n",
      "Rejected: \t0\n",
      "Iteration: \t7 / 100\n",
      "Confirmed: \t0\n",
      "Tentative: \t19\n",
      "Rejected: \t0\n",
      "Iteration: \t8 / 100\n",
      "Confirmed: \t17\n",
      "Tentative: \t2\n",
      "Rejected: \t0\n",
      "Iteration: \t9 / 100\n",
      "Confirmed: \t17\n",
      "Tentative: \t1\n",
      "Rejected: \t1\n",
      "Iteration: \t10 / 100\n",
      "Confirmed: \t17\n",
      "Tentative: \t1\n",
      "Rejected: \t1\n",
      "Iteration: \t11 / 100\n",
      "Confirmed: \t17\n",
      "Tentative: \t1\n",
      "Rejected: \t1\n",
      "Iteration: \t12 / 100\n",
      "Confirmed: \t17\n",
      "Tentative: \t1\n",
      "Rejected: \t1\n",
      "Iteration: \t13 / 100\n",
      "Confirmed: \t17\n",
      "Tentative: \t1\n",
      "Rejected: \t1\n",
      "Iteration: \t14 / 100\n",
      "Confirmed: \t17\n",
      "Tentative: \t1\n",
      "Rejected: \t1\n",
      "Iteration: \t15 / 100\n",
      "Confirmed: \t17\n",
      "Tentative: \t1\n",
      "Rejected: \t1\n",
      "Iteration: \t16 / 100\n",
      "Confirmed: \t17\n",
      "Tentative: \t1\n",
      "Rejected: \t1\n",
      "Iteration: \t17 / 100\n",
      "Confirmed: \t17\n",
      "Tentative: \t1\n",
      "Rejected: \t1\n",
      "Iteration: \t18 / 100\n",
      "Confirmed: \t17\n",
      "Tentative: \t1\n",
      "Rejected: \t1\n",
      "Iteration: \t19 / 100\n",
      "Confirmed: \t17\n",
      "Tentative: \t1\n",
      "Rejected: \t1\n",
      "Iteration: \t20 / 100\n",
      "Confirmed: \t17\n",
      "Tentative: \t1\n",
      "Rejected: \t1\n",
      "Iteration: \t21 / 100\n",
      "Confirmed: \t17\n",
      "Tentative: \t1\n",
      "Rejected: \t1\n",
      "Iteration: \t22 / 100\n",
      "Confirmed: \t18\n",
      "Tentative: \t0\n",
      "Rejected: \t1\n",
      "\n",
      "\n",
      "BorutaPy finished running.\n",
      "\n",
      "Iteration: \t23 / 100\n",
      "Confirmed: \t18\n",
      "Tentative: \t0\n",
      "Rejected: \t1\n"
     ]
    },
    {
     "data": {
      "text/html": [
       "<style>#sk-container-id-1 {color: black;}#sk-container-id-1 pre{padding: 0;}#sk-container-id-1 div.sk-toggleable {background-color: white;}#sk-container-id-1 label.sk-toggleable__label {cursor: pointer;display: block;width: 100%;margin-bottom: 0;padding: 0.3em;box-sizing: border-box;text-align: center;}#sk-container-id-1 label.sk-toggleable__label-arrow:before {content: \"▸\";float: left;margin-right: 0.25em;color: #696969;}#sk-container-id-1 label.sk-toggleable__label-arrow:hover:before {color: black;}#sk-container-id-1 div.sk-estimator:hover label.sk-toggleable__label-arrow:before {color: black;}#sk-container-id-1 div.sk-toggleable__content {max-height: 0;max-width: 0;overflow: hidden;text-align: left;background-color: #f0f8ff;}#sk-container-id-1 div.sk-toggleable__content pre {margin: 0.2em;color: black;border-radius: 0.25em;background-color: #f0f8ff;}#sk-container-id-1 input.sk-toggleable__control:checked~div.sk-toggleable__content {max-height: 200px;max-width: 100%;overflow: auto;}#sk-container-id-1 input.sk-toggleable__control:checked~label.sk-toggleable__label-arrow:before {content: \"▾\";}#sk-container-id-1 div.sk-estimator input.sk-toggleable__control:checked~label.sk-toggleable__label {background-color: #d4ebff;}#sk-container-id-1 div.sk-label input.sk-toggleable__control:checked~label.sk-toggleable__label {background-color: #d4ebff;}#sk-container-id-1 input.sk-hidden--visually {border: 0;clip: rect(1px 1px 1px 1px);clip: rect(1px, 1px, 1px, 1px);height: 1px;margin: -1px;overflow: hidden;padding: 0;position: absolute;width: 1px;}#sk-container-id-1 div.sk-estimator {font-family: monospace;background-color: #f0f8ff;border: 1px dotted black;border-radius: 0.25em;box-sizing: border-box;margin-bottom: 0.5em;}#sk-container-id-1 div.sk-estimator:hover {background-color: #d4ebff;}#sk-container-id-1 div.sk-parallel-item::after {content: \"\";width: 100%;border-bottom: 1px solid gray;flex-grow: 1;}#sk-container-id-1 div.sk-label:hover label.sk-toggleable__label {background-color: #d4ebff;}#sk-container-id-1 div.sk-serial::before {content: \"\";position: absolute;border-left: 1px solid gray;box-sizing: border-box;top: 0;bottom: 0;left: 50%;z-index: 0;}#sk-container-id-1 div.sk-serial {display: flex;flex-direction: column;align-items: center;background-color: white;padding-right: 0.2em;padding-left: 0.2em;position: relative;}#sk-container-id-1 div.sk-item {position: relative;z-index: 1;}#sk-container-id-1 div.sk-parallel {display: flex;align-items: stretch;justify-content: center;background-color: white;position: relative;}#sk-container-id-1 div.sk-item::before, #sk-container-id-1 div.sk-parallel-item::before {content: \"\";position: absolute;border-left: 1px solid gray;box-sizing: border-box;top: 0;bottom: 0;left: 50%;z-index: -1;}#sk-container-id-1 div.sk-parallel-item {display: flex;flex-direction: column;z-index: 1;position: relative;background-color: white;}#sk-container-id-1 div.sk-parallel-item:first-child::after {align-self: flex-end;width: 50%;}#sk-container-id-1 div.sk-parallel-item:last-child::after {align-self: flex-start;width: 50%;}#sk-container-id-1 div.sk-parallel-item:only-child::after {width: 0;}#sk-container-id-1 div.sk-dashed-wrapped {border: 1px dashed gray;margin: 0 0.4em 0.5em 0.4em;box-sizing: border-box;padding-bottom: 0.4em;background-color: white;}#sk-container-id-1 div.sk-label label {font-family: monospace;font-weight: bold;display: inline-block;line-height: 1.2em;}#sk-container-id-1 div.sk-label-container {text-align: center;}#sk-container-id-1 div.sk-container {/* jupyter's `normalize.less` sets `[hidden] { display: none; }` but bootstrap.min.css set `[hidden] { display: none !important; }` so we also need the `!important` here to be able to override the default hidden behavior on the sphinx rendered scikit-learn.org. See: https://github.com/scikit-learn/scikit-learn/issues/21755 */display: inline-block !important;position: relative;}#sk-container-id-1 div.sk-text-repr-fallback {display: none;}</style><div id=\"sk-container-id-1\" class=\"sk-top-container\"><div class=\"sk-text-repr-fallback\"><pre>BorutaPy(estimator=ExtraTreesClassifier(class_weight=&#x27;balanced&#x27;, max_depth=5,\n",
       "                                        n_estimators=120,\n",
       "                                        random_state=RandomState(MT19937) at 0x277C5A06B40),\n",
       "         n_estimators=&#x27;auto&#x27;,\n",
       "         random_state=RandomState(MT19937) at 0x277C5A06B40, verbose=2)</pre><b>In a Jupyter environment, please rerun this cell to show the HTML representation or trust the notebook. <br />On GitHub, the HTML representation is unable to render, please try loading this page with nbviewer.org.</b></div><div class=\"sk-container\" hidden><div class=\"sk-item sk-dashed-wrapped\"><div class=\"sk-label-container\"><div class=\"sk-label sk-toggleable\"><input class=\"sk-toggleable__control sk-hidden--visually\" id=\"sk-estimator-id-1\" type=\"checkbox\" ><label for=\"sk-estimator-id-1\" class=\"sk-toggleable__label sk-toggleable__label-arrow\">BorutaPy</label><div class=\"sk-toggleable__content\"><pre>BorutaPy(estimator=ExtraTreesClassifier(class_weight=&#x27;balanced&#x27;, max_depth=5,\n",
       "                                        n_estimators=120,\n",
       "                                        random_state=RandomState(MT19937) at 0x277C5A06B40),\n",
       "         n_estimators=&#x27;auto&#x27;,\n",
       "         random_state=RandomState(MT19937) at 0x277C5A06B40, verbose=2)</pre></div></div></div><div class=\"sk-parallel\"><div class=\"sk-parallel-item\"><div class=\"sk-item\"><div class=\"sk-label-container\"><div class=\"sk-label sk-toggleable\"><input class=\"sk-toggleable__control sk-hidden--visually\" id=\"sk-estimator-id-2\" type=\"checkbox\" ><label for=\"sk-estimator-id-2\" class=\"sk-toggleable__label sk-toggleable__label-arrow\">estimator: ExtraTreesClassifier</label><div class=\"sk-toggleable__content\"><pre>ExtraTreesClassifier(class_weight=&#x27;balanced&#x27;, max_depth=5, n_estimators=120,\n",
       "                     random_state=RandomState(MT19937) at 0x277C5A06B40)</pre></div></div></div><div class=\"sk-serial\"><div class=\"sk-item\"><div class=\"sk-estimator sk-toggleable\"><input class=\"sk-toggleable__control sk-hidden--visually\" id=\"sk-estimator-id-3\" type=\"checkbox\" ><label for=\"sk-estimator-id-3\" class=\"sk-toggleable__label sk-toggleable__label-arrow\">ExtraTreesClassifier</label><div class=\"sk-toggleable__content\"><pre>ExtraTreesClassifier(class_weight=&#x27;balanced&#x27;, max_depth=5, n_estimators=120,\n",
       "                     random_state=RandomState(MT19937) at 0x277C5A06B40)</pre></div></div></div></div></div></div></div></div></div></div>"
      ],
      "text/plain": [
       "BorutaPy(estimator=ExtraTreesClassifier(class_weight='balanced', max_depth=5,\n",
       "                                        n_estimators=120,\n",
       "                                        random_state=RandomState(MT19937) at 0x277C5A06B40),\n",
       "         n_estimators='auto',\n",
       "         random_state=RandomState(MT19937) at 0x277C5A06B40, verbose=2)"
      ]
     },
     "execution_count": 78,
     "metadata": {},
     "output_type": "execute_result"
    }
   ],
   "source": [
    "vectorizer = woe.WOEEncoder(cols=woe_cols)\n",
    "# vectorizer = preprocessing.OneHotEncoder(handle_unknown='ignore')\n",
    "label_encoder = preprocessing.LabelEncoder()\n",
    "\n",
    "X_train, X_test, y_train, y_test = train_test_split(X, y, test_size=0.33, random_state=42)\n",
    "\n",
    "train_y = label_encoder.fit_transform(y_train)\n",
    "test_y = label_encoder.transform(y_test)\n",
    "\n",
    "unique_classes = set(y_test)\n",
    "print(f\"Unique classes:{unique_classes}\")\n",
    "\n",
    "woe_train_features = vectorizer.fit_transform(X=X_train[woe_cols], y=train_y)\n",
    "woe_test_features = vectorizer.transform(X=X_test[woe_cols])\n",
    "\n",
    "original_train_df = X_train.copy()\n",
    "original_train_df.update(woe_train_features)\n",
    "\n",
    "original_test_df = X_test.copy()\n",
    "original_test_df.update(woe_test_features)\n",
    "\n",
    "train_x = original_train_df.copy()\n",
    "test_x = original_test_df.copy()\n",
    "model = ExtraTreesClassifier(class_weight='balanced', max_depth=5,n_estimators=16,\n",
    "                           random_state=42)\n",
    "# model.fit(train_x, train_y)\n",
    "feat_selector = BorutaPy(model, n_estimators='auto', verbose=2, random_state=0)\n",
    "feat_selector.fit(train_x.values, train_y)"
   ]
  },
  {
   "cell_type": "code",
   "execution_count": 8,
   "id": "7c75656a-80ff-4cbd-be20-c8e6bcdebfdb",
   "metadata": {},
   "outputs": [],
   "source": [
    "# # Check selected features\n",
    "# print(feat_selector.support_)\n",
    "# # Select the chosen features from our dataframe.\n",
    "# selected = train_x[:, feat_selector.support_]\n",
    "# print (\"\")\n",
    "# print (\"Selected Feature Matrix Shape\")\n",
    "# print (selected.shape)"
   ]
  },
  {
   "cell_type": "code",
   "execution_count": 79,
   "id": "8278991f-2194-4d98-9469-22cc587cd1df",
   "metadata": {},
   "outputs": [],
   "source": [
    "X_selected = feat_selector.transform(train_x.values)"
   ]
  },
  {
   "cell_type": "code",
   "execution_count": 80,
   "id": "d04a89b7-5a7f-47b7-98fe-d507f4963b64",
   "metadata": {},
   "outputs": [
    {
     "name": "stdout",
     "output_type": "stream",
     "text": [
      "['SeniorCitizen', 'Partner', 'Dependents', 'tenure', 'PhoneService', 'MultipleLines', 'InternetService', 'OnlineSecurity', 'OnlineBackup', 'DeviceProtection', 'TechSupport', 'StreamingTV', 'StreamingMovies', 'Contract', 'PaperlessBilling', 'PaymentMethod', 'MonthlyCharges', 'TotalCharges']\n"
     ]
    }
   ],
   "source": [
    "final_features = list()\n",
    "indexes = np.where(feat_selector.support_ == True)\n",
    "for x in np.nditer(indexes):\n",
    "    final_features.append(train_x.columns.values[x])\n",
    "print(final_features)"
   ]
  },
  {
   "cell_type": "code",
   "execution_count": 83,
   "id": "98d4f0f6",
   "metadata": {
    "collapsed": false
   },
   "outputs": [
    {
     "data": {
      "text/plain": [
       "{'gender'}"
      ]
     },
     "execution_count": 83,
     "metadata": {},
     "output_type": "execute_result"
    }
   ],
   "source": [
    "set(data.data.columns) - set(final_features)"
   ]
  },
  {
   "cell_type": "code",
   "execution_count": 12,
   "id": "24216a62-350a-4ded-a70a-dae2cb998e74",
   "metadata": {},
   "outputs": [
    {
     "data": {
      "text/html": [
       "<div>\n",
       "<style scoped>\n",
       "    .dataframe tbody tr th:only-of-type {\n",
       "        vertical-align: middle;\n",
       "    }\n",
       "\n",
       "    .dataframe tbody tr th {\n",
       "        vertical-align: top;\n",
       "    }\n",
       "\n",
       "    .dataframe thead th {\n",
       "        text-align: right;\n",
       "    }\n",
       "</style>\n",
       "<table border=\"1\" class=\"dataframe\">\n",
       "  <thead>\n",
       "    <tr style=\"text-align: right;\">\n",
       "      <th></th>\n",
       "      <th>checking_status</th>\n",
       "      <th>duration</th>\n",
       "      <th>credit_history</th>\n",
       "      <th>purpose</th>\n",
       "      <th>credit_amount</th>\n",
       "      <th>savings_status</th>\n",
       "      <th>employment</th>\n",
       "      <th>personal_status</th>\n",
       "      <th>property_magnitude</th>\n",
       "      <th>age</th>\n",
       "      <th>other_payment_plans</th>\n",
       "      <th>housing</th>\n",
       "    </tr>\n",
       "  </thead>\n",
       "  <tbody>\n",
       "    <tr>\n",
       "      <th>703</th>\n",
       "      <td>-0.406265</td>\n",
       "      <td>30.0</td>\n",
       "      <td>0.103985</td>\n",
       "      <td>-0.320272</td>\n",
       "      <td>2503.0</td>\n",
       "      <td>-0.162643</td>\n",
       "      <td>0.420503</td>\n",
       "      <td>0.196135</td>\n",
       "      <td>-0.026511</td>\n",
       "      <td>41.0</td>\n",
       "      <td>-0.162643</td>\n",
       "      <td>0.215348</td>\n",
       "    </tr>\n",
       "    <tr>\n",
       "      <th>311</th>\n",
       "      <td>1.068887</td>\n",
       "      <td>24.0</td>\n",
       "      <td>-0.197129</td>\n",
       "      <td>0.047921</td>\n",
       "      <td>5511.0</td>\n",
       "      <td>-0.162643</td>\n",
       "      <td>-0.069862</td>\n",
       "      <td>0.196135</td>\n",
       "      <td>-0.05443</td>\n",
       "      <td>25.0</td>\n",
       "      <td>-0.162643</td>\n",
       "      <td>0.215348</td>\n",
       "    </tr>\n",
       "    <tr>\n",
       "      <th>722</th>\n",
       "      <td>-0.788349</td>\n",
       "      <td>12.0</td>\n",
       "      <td>-0.197129</td>\n",
       "      <td>-0.450325</td>\n",
       "      <td>1228.0</td>\n",
       "      <td>-0.232912</td>\n",
       "      <td>-0.069862</td>\n",
       "      <td>-0.285246</td>\n",
       "      <td>0.504528</td>\n",
       "      <td>24.0</td>\n",
       "      <td>0.080806</td>\n",
       "      <td>0.215348</td>\n",
       "    </tr>\n",
       "    <tr>\n",
       "      <th>629</th>\n",
       "      <td>1.068887</td>\n",
       "      <td>9.0</td>\n",
       "      <td>-0.197129</td>\n",
       "      <td>-0.85579</td>\n",
       "      <td>3832.0</td>\n",
       "      <td>0.453543</td>\n",
       "      <td>0.420503</td>\n",
       "      <td>0.196135</td>\n",
       "      <td>0.504528</td>\n",
       "      <td>64.0</td>\n",
       "      <td>0.080806</td>\n",
       "      <td>0.215348</td>\n",
       "    </tr>\n",
       "    <tr>\n",
       "      <th>0</th>\n",
       "      <td>-0.788349</td>\n",
       "      <td>6.0</td>\n",
       "      <td>0.825968</td>\n",
       "      <td>0.511576</td>\n",
       "      <td>1169.0</td>\n",
       "      <td>0.453543</td>\n",
       "      <td>0.420503</td>\n",
       "      <td>0.196135</td>\n",
       "      <td>0.504528</td>\n",
       "      <td>67.0</td>\n",
       "      <td>0.080806</td>\n",
       "      <td>0.215348</td>\n",
       "    </tr>\n",
       "    <tr>\n",
       "      <th>...</th>\n",
       "      <td>...</td>\n",
       "      <td>...</td>\n",
       "      <td>...</td>\n",
       "      <td>...</td>\n",
       "      <td>...</td>\n",
       "      <td>...</td>\n",
       "      <td>...</td>\n",
       "      <td>...</td>\n",
       "      <td>...</td>\n",
       "      <td>...</td>\n",
       "      <td>...</td>\n",
       "      <td>...</td>\n",
       "    </tr>\n",
       "    <tr>\n",
       "      <th>106</th>\n",
       "      <td>1.068887</td>\n",
       "      <td>18.0</td>\n",
       "      <td>-0.916415</td>\n",
       "      <td>-0.450325</td>\n",
       "      <td>6458.0</td>\n",
       "      <td>-0.232912</td>\n",
       "      <td>0.420503</td>\n",
       "      <td>0.196135</td>\n",
       "      <td>-0.641381</td>\n",
       "      <td>39.0</td>\n",
       "      <td>-0.406265</td>\n",
       "      <td>0.215348</td>\n",
       "    </tr>\n",
       "    <tr>\n",
       "      <th>270</th>\n",
       "      <td>1.068887</td>\n",
       "      <td>18.0</td>\n",
       "      <td>-0.197129</td>\n",
       "      <td>-0.450325</td>\n",
       "      <td>2662.0</td>\n",
       "      <td>0.453543</td>\n",
       "      <td>0.095186</td>\n",
       "      <td>0.196135</td>\n",
       "      <td>-0.026511</td>\n",
       "      <td>32.0</td>\n",
       "      <td>0.080806</td>\n",
       "      <td>0.215348</td>\n",
       "    </tr>\n",
       "    <tr>\n",
       "      <th>860</th>\n",
       "      <td>1.068887</td>\n",
       "      <td>24.0</td>\n",
       "      <td>0.825968</td>\n",
       "      <td>0.548203</td>\n",
       "      <td>5804.0</td>\n",
       "      <td>0.902067</td>\n",
       "      <td>-0.069862</td>\n",
       "      <td>0.196135</td>\n",
       "      <td>0.504528</td>\n",
       "      <td>27.0</td>\n",
       "      <td>0.080806</td>\n",
       "      <td>0.215348</td>\n",
       "    </tr>\n",
       "    <tr>\n",
       "      <th>435</th>\n",
       "      <td>-0.406265</td>\n",
       "      <td>12.0</td>\n",
       "      <td>-0.197129</td>\n",
       "      <td>0.511576</td>\n",
       "      <td>1484.0</td>\n",
       "      <td>0.453543</td>\n",
       "      <td>-0.069862</td>\n",
       "      <td>0.006433</td>\n",
       "      <td>0.504528</td>\n",
       "      <td>25.0</td>\n",
       "      <td>0.080806</td>\n",
       "      <td>0.215348</td>\n",
       "    </tr>\n",
       "    <tr>\n",
       "      <th>102</th>\n",
       "      <td>1.068887</td>\n",
       "      <td>6.0</td>\n",
       "      <td>0.103985</td>\n",
       "      <td>0.511576</td>\n",
       "      <td>932.0</td>\n",
       "      <td>-0.232912</td>\n",
       "      <td>-0.069862</td>\n",
       "      <td>-0.285246</td>\n",
       "      <td>0.504528</td>\n",
       "      <td>24.0</td>\n",
       "      <td>0.080806</td>\n",
       "      <td>0.215348</td>\n",
       "    </tr>\n",
       "  </tbody>\n",
       "</table>\n",
       "<p>670 rows × 12 columns</p>\n",
       "</div>"
      ],
      "text/plain": [
       "    checking_status  duration credit_history   purpose  credit_amount  \\\n",
       "703       -0.406265      30.0       0.103985 -0.320272         2503.0   \n",
       "311        1.068887      24.0      -0.197129  0.047921         5511.0   \n",
       "722       -0.788349      12.0      -0.197129 -0.450325         1228.0   \n",
       "629        1.068887       9.0      -0.197129  -0.85579         3832.0   \n",
       "0         -0.788349       6.0       0.825968  0.511576         1169.0   \n",
       "..              ...       ...            ...       ...            ...   \n",
       "106        1.068887      18.0      -0.916415 -0.450325         6458.0   \n",
       "270        1.068887      18.0      -0.197129 -0.450325         2662.0   \n",
       "860        1.068887      24.0       0.825968  0.548203         5804.0   \n",
       "435       -0.406265      12.0      -0.197129  0.511576         1484.0   \n",
       "102        1.068887       6.0       0.103985  0.511576          932.0   \n",
       "\n",
       "    savings_status employment personal_status property_magnitude   age  \\\n",
       "703      -0.162643   0.420503        0.196135          -0.026511  41.0   \n",
       "311      -0.162643  -0.069862        0.196135           -0.05443  25.0   \n",
       "722      -0.232912  -0.069862       -0.285246           0.504528  24.0   \n",
       "629       0.453543   0.420503        0.196135           0.504528  64.0   \n",
       "0         0.453543   0.420503        0.196135           0.504528  67.0   \n",
       "..             ...        ...             ...                ...   ...   \n",
       "106      -0.232912   0.420503        0.196135          -0.641381  39.0   \n",
       "270       0.453543   0.095186        0.196135          -0.026511  32.0   \n",
       "860       0.902067  -0.069862        0.196135           0.504528  27.0   \n",
       "435       0.453543  -0.069862        0.006433           0.504528  25.0   \n",
       "102      -0.232912  -0.069862       -0.285246           0.504528  24.0   \n",
       "\n",
       "    other_payment_plans   housing  \n",
       "703           -0.162643  0.215348  \n",
       "311           -0.162643  0.215348  \n",
       "722            0.080806  0.215348  \n",
       "629            0.080806  0.215348  \n",
       "0              0.080806  0.215348  \n",
       "..                  ...       ...  \n",
       "106           -0.406265  0.215348  \n",
       "270            0.080806  0.215348  \n",
       "860            0.080806  0.215348  \n",
       "435            0.080806  0.215348  \n",
       "102            0.080806  0.215348  \n",
       "\n",
       "[670 rows x 12 columns]"
      ]
     },
     "execution_count": 12,
     "metadata": {},
     "output_type": "execute_result"
    }
   ],
   "source": [
    "train_x[final_features]"
   ]
  },
  {
   "cell_type": "code",
   "execution_count": 13,
   "id": "917a856f-4fb3-4704-9138-fcae35b76d7d",
   "metadata": {},
   "outputs": [
    {
     "data": {
      "text/html": [
       "<style>#sk-container-id-2 {color: black;}#sk-container-id-2 pre{padding: 0;}#sk-container-id-2 div.sk-toggleable {background-color: white;}#sk-container-id-2 label.sk-toggleable__label {cursor: pointer;display: block;width: 100%;margin-bottom: 0;padding: 0.3em;box-sizing: border-box;text-align: center;}#sk-container-id-2 label.sk-toggleable__label-arrow:before {content: \"▸\";float: left;margin-right: 0.25em;color: #696969;}#sk-container-id-2 label.sk-toggleable__label-arrow:hover:before {color: black;}#sk-container-id-2 div.sk-estimator:hover label.sk-toggleable__label-arrow:before {color: black;}#sk-container-id-2 div.sk-toggleable__content {max-height: 0;max-width: 0;overflow: hidden;text-align: left;background-color: #f0f8ff;}#sk-container-id-2 div.sk-toggleable__content pre {margin: 0.2em;color: black;border-radius: 0.25em;background-color: #f0f8ff;}#sk-container-id-2 input.sk-toggleable__control:checked~div.sk-toggleable__content {max-height: 200px;max-width: 100%;overflow: auto;}#sk-container-id-2 input.sk-toggleable__control:checked~label.sk-toggleable__label-arrow:before {content: \"▾\";}#sk-container-id-2 div.sk-estimator input.sk-toggleable__control:checked~label.sk-toggleable__label {background-color: #d4ebff;}#sk-container-id-2 div.sk-label input.sk-toggleable__control:checked~label.sk-toggleable__label {background-color: #d4ebff;}#sk-container-id-2 input.sk-hidden--visually {border: 0;clip: rect(1px 1px 1px 1px);clip: rect(1px, 1px, 1px, 1px);height: 1px;margin: -1px;overflow: hidden;padding: 0;position: absolute;width: 1px;}#sk-container-id-2 div.sk-estimator {font-family: monospace;background-color: #f0f8ff;border: 1px dotted black;border-radius: 0.25em;box-sizing: border-box;margin-bottom: 0.5em;}#sk-container-id-2 div.sk-estimator:hover {background-color: #d4ebff;}#sk-container-id-2 div.sk-parallel-item::after {content: \"\";width: 100%;border-bottom: 1px solid gray;flex-grow: 1;}#sk-container-id-2 div.sk-label:hover label.sk-toggleable__label {background-color: #d4ebff;}#sk-container-id-2 div.sk-serial::before {content: \"\";position: absolute;border-left: 1px solid gray;box-sizing: border-box;top: 0;bottom: 0;left: 50%;z-index: 0;}#sk-container-id-2 div.sk-serial {display: flex;flex-direction: column;align-items: center;background-color: white;padding-right: 0.2em;padding-left: 0.2em;position: relative;}#sk-container-id-2 div.sk-item {position: relative;z-index: 1;}#sk-container-id-2 div.sk-parallel {display: flex;align-items: stretch;justify-content: center;background-color: white;position: relative;}#sk-container-id-2 div.sk-item::before, #sk-container-id-2 div.sk-parallel-item::before {content: \"\";position: absolute;border-left: 1px solid gray;box-sizing: border-box;top: 0;bottom: 0;left: 50%;z-index: -1;}#sk-container-id-2 div.sk-parallel-item {display: flex;flex-direction: column;z-index: 1;position: relative;background-color: white;}#sk-container-id-2 div.sk-parallel-item:first-child::after {align-self: flex-end;width: 50%;}#sk-container-id-2 div.sk-parallel-item:last-child::after {align-self: flex-start;width: 50%;}#sk-container-id-2 div.sk-parallel-item:only-child::after {width: 0;}#sk-container-id-2 div.sk-dashed-wrapped {border: 1px dashed gray;margin: 0 0.4em 0.5em 0.4em;box-sizing: border-box;padding-bottom: 0.4em;background-color: white;}#sk-container-id-2 div.sk-label label {font-family: monospace;font-weight: bold;display: inline-block;line-height: 1.2em;}#sk-container-id-2 div.sk-label-container {text-align: center;}#sk-container-id-2 div.sk-container {/* jupyter's `normalize.less` sets `[hidden] { display: none; }` but bootstrap.min.css set `[hidden] { display: none !important; }` so we also need the `!important` here to be able to override the default hidden behavior on the sphinx rendered scikit-learn.org. See: https://github.com/scikit-learn/scikit-learn/issues/21755 */display: inline-block !important;position: relative;}#sk-container-id-2 div.sk-text-repr-fallback {display: none;}</style><div id=\"sk-container-id-2\" class=\"sk-top-container\"><div class=\"sk-text-repr-fallback\"><pre>ExtraTreesClassifier(class_weight=&#x27;balanced&#x27;, max_depth=5, n_estimators=16,\n",
       "                     random_state=42)</pre><b>In a Jupyter environment, please rerun this cell to show the HTML representation or trust the notebook. <br />On GitHub, the HTML representation is unable to render, please try loading this page with nbviewer.org.</b></div><div class=\"sk-container\" hidden><div class=\"sk-item\"><div class=\"sk-estimator sk-toggleable\"><input class=\"sk-toggleable__control sk-hidden--visually\" id=\"sk-estimator-id-4\" type=\"checkbox\" checked><label for=\"sk-estimator-id-4\" class=\"sk-toggleable__label sk-toggleable__label-arrow\">ExtraTreesClassifier</label><div class=\"sk-toggleable__content\"><pre>ExtraTreesClassifier(class_weight=&#x27;balanced&#x27;, max_depth=5, n_estimators=16,\n",
       "                     random_state=42)</pre></div></div></div></div></div>"
      ],
      "text/plain": [
       "ExtraTreesClassifier(class_weight='balanced', max_depth=5, n_estimators=16,\n",
       "                     random_state=42)"
      ]
     },
     "execution_count": 13,
     "metadata": {},
     "output_type": "execute_result"
    }
   ],
   "source": [
    "model = ExtraTreesClassifier(class_weight='balanced', max_depth=5,n_estimators=16,\n",
    "                           random_state=42)\n",
    "model.fit(train_x[final_features], train_y)"
   ]
  },
  {
   "cell_type": "code",
   "execution_count": 14,
   "id": "ec5a1587-9934-4902-8591-41268e62a387",
   "metadata": {},
   "outputs": [
    {
     "name": "stdout",
     "output_type": "stream",
     "text": [
      "ACC: 0.7363636363636363\n",
      "F1: 0.7972027972027971\n",
      "ROC AUC: 0.769207488434433\n"
     ]
    }
   ],
   "source": [
    "predictions = model.predict(test_x[final_features])\n",
    "predictions_scores = model.predict_proba(test_x[final_features])\n",
    "\n",
    "\n",
    "acc = accuracy_score(test_y, predictions)\n",
    "f1 = f1_score(test_y, predictions)\n",
    "print(f'ACC: {acc}')\n",
    "print(f'F1: {f1}')\n",
    "roc = roc_auc_score(test_y, predictions_scores[:,1])\n",
    "print(f'ROC AUC: {roc}')"
   ]
  },
  {
   "cell_type": "code",
   "execution_count": 15,
   "id": "37ac974e-5572-48c1-bf03-f9eb46ec682b",
   "metadata": {},
   "outputs": [
    {
     "name": "stdout",
     "output_type": "stream",
     "text": [
      "Elapsed time to compute the importances: 0.004 seconds\n"
     ]
    }
   ],
   "source": [
    "import time\n",
    "start_time = time.time()\n",
    "importances = model.feature_importances_\n",
    "std = np.std([tree.feature_importances_ for tree in model.estimators_], axis=0)\n",
    "elapsed_time = time.time() - start_time\n",
    "\n",
    "print(f\"Elapsed time to compute the importances: {elapsed_time:.3f} seconds\")"
   ]
  },
  {
   "cell_type": "code",
   "execution_count": 16,
   "id": "85ae181f-27f4-4a67-8e96-6d052e7f4f1a",
   "metadata": {},
   "outputs": [
    {
     "data": {
      "image/png": "[encoded data removed]",
      "text/plain": [
       "<Figure size 640x480 with 1 Axes>"
      ]
     },
     "metadata": {},
     "output_type": "display_data"
    }
   ],
   "source": [
    "import matplotlib.pyplot as plt\n",
    "\n",
    "forest_importances = pd.Series(importances, index=final_features)\n",
    "\n",
    "fig, ax = plt.subplots()\n",
    "forest_importances.plot.bar(yerr=std, ax=ax)\n",
    "ax.set_title(\"Feature importances using MDI\")\n",
    "ax.set_ylabel(\"Mean decrease in impurity\")\n",
    "fig.tight_layout()"
   ]
  },
  {
   "cell_type": "code",
   "execution_count": 36,
   "id": "088100ea-cd54-4067-84a6-1c5e6efde3ba",
   "metadata": {},
   "outputs": [
    {
     "data": {
      "text/plain": [
       "700"
      ]
     },
     "execution_count": 36,
     "metadata": {},
     "output_type": "execute_result"
    }
   ],
   "source": [
    "len(np.where(data.target == 'good')[0])"
   ]
  },
  {
   "cell_type": "code",
   "execution_count": null,
   "id": "ef0a03b0-3fb3-4711-87ec-7f0984ac80bc",
   "metadata": {},
   "outputs": [],
   "source": []
  }
 ],
 "metadata": {
  "kernelspec": {
   "display_name": "Python 3 (ipykernel)",
   "language": "python",
   "name": "python3"
  },
  "language_info": {
   "codemirror_mode": {
    "name": "ipython",
    "version": 3
   },
   "file_extension": ".py",
   "mimetype": "text/x-python",
   "name": "python",
   "nbconvert_exporter": "python",
   "pygments_lexer": "ipython3",
   "version": "3.10.12"
  }
 },
 "nbformat": 4,
 "nbformat_minor": 5
}
