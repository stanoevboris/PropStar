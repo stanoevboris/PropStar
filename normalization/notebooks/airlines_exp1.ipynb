{
 "cells": [
  {
   "cell_type": "code",
   "execution_count": 1,
   "id": "4a07dc7d-adca-4b65-bd9b-d7e74d5e8bbc",
   "metadata": {},
   "outputs": [],
   "source": [
    "import sys\n",
    "# sys.path is a list of absolute path strings\n",
    "sys.path.append('/mnt/sda/boris_stanoev/PropStar/')"
   ]
  },
  {
   "cell_type": "code",
   "execution_count": 2,
   "id": "2800d61f-962c-4ff7-97ed-3798370516a8",
   "metadata": {},
   "outputs": [],
   "source": [
    "from normalization.normalize import Normalize\n",
    "from sklearn.datasets import fetch_openml"
   ]
  },
  {
   "cell_type": "code",
   "execution_count": 3,
   "id": "64979b3b-1643-4065-949c-911a4d453bd5",
   "metadata": {},
   "outputs": [
    {
     "name": "stderr",
     "output_type": "stream",
     "text": [
      "/mnt/sda/boris_stanoev/PropStar/venv/lib/python3.10/site-packages/sklearn/datasets/_openml.py:1002: FutureWarning: The default value of `parser` will change from `'liac-arff'` to `'auto'` in 1.4. You can set `parser='auto'` to silence this warning. Therefore, an `ImportError` will be raised from 1.4 if the dataset is dense and pandas is not installed. Note that the pandas parser may return different data types. See the Notes Section in fetch_openml's API doc for details.\n",
      "  warn(\n"
     ]
    }
   ],
   "source": [
    "data = fetch_openml(data_id='44529')\n",
    "denormalized_table = data.data.join(data.target)"
   ]
  },
  {
   "cell_type": "code",
   "execution_count": 16,
   "id": "433ee948-281a-43a1-b072-b58f5870878c",
   "metadata": {},
   "outputs": [
    {
     "data": {
      "text/html": [
       "<div>\n",
       "<style scoped>\n",
       "    .dataframe tbody tr th:only-of-type {\n",
       "        vertical-align: middle;\n",
       "    }\n",
       "\n",
       "    .dataframe tbody tr th {\n",
       "        vertical-align: top;\n",
       "    }\n",
       "\n",
       "    .dataframe thead th {\n",
       "        text-align: right;\n",
       "    }\n",
       "</style>\n",
       "<table border=\"1\" class=\"dataframe\">\n",
       "  <thead>\n",
       "    <tr style=\"text-align: right;\">\n",
       "      <th></th>\n",
       "      <th>Airline</th>\n",
       "      <th>Flight</th>\n",
       "      <th>AirportFrom</th>\n",
       "      <th>AirportTo</th>\n",
       "      <th>DayOfWeek</th>\n",
       "      <th>Time</th>\n",
       "      <th>Length</th>\n",
       "      <th>Delay</th>\n",
       "    </tr>\n",
       "  </thead>\n",
       "  <tbody>\n",
       "    <tr>\n",
       "      <th>0</th>\n",
       "      <td>AA</td>\n",
       "      <td>1344.0</td>\n",
       "      <td>SAT</td>\n",
       "      <td>DFW</td>\n",
       "      <td>7</td>\n",
       "      <td>705.0</td>\n",
       "      <td>70.0</td>\n",
       "      <td>0</td>\n",
       "    </tr>\n",
       "    <tr>\n",
       "      <th>1</th>\n",
       "      <td>OO</td>\n",
       "      <td>4634.0</td>\n",
       "      <td>LGB</td>\n",
       "      <td>SLC</td>\n",
       "      <td>1</td>\n",
       "      <td>605.0</td>\n",
       "      <td>117.0</td>\n",
       "      <td>0</td>\n",
       "    </tr>\n",
       "    <tr>\n",
       "      <th>2</th>\n",
       "      <td>CO</td>\n",
       "      <td>1704.0</td>\n",
       "      <td>IAH</td>\n",
       "      <td>OKC</td>\n",
       "      <td>7</td>\n",
       "      <td>1265.0</td>\n",
       "      <td>83.0</td>\n",
       "      <td>0</td>\n",
       "    </tr>\n",
       "    <tr>\n",
       "      <th>3</th>\n",
       "      <td>OO</td>\n",
       "      <td>7755.0</td>\n",
       "      <td>SLC</td>\n",
       "      <td>CDC</td>\n",
       "      <td>3</td>\n",
       "      <td>459.0</td>\n",
       "      <td>72.0</td>\n",
       "      <td>0</td>\n",
       "    </tr>\n",
       "    <tr>\n",
       "      <th>4</th>\n",
       "      <td>XE</td>\n",
       "      <td>2300.0</td>\n",
       "      <td>TUL</td>\n",
       "      <td>IAH</td>\n",
       "      <td>5</td>\n",
       "      <td>1002.0</td>\n",
       "      <td>97.0</td>\n",
       "      <td>0</td>\n",
       "    </tr>\n",
       "    <tr>\n",
       "      <th>...</th>\n",
       "      <td>...</td>\n",
       "      <td>...</td>\n",
       "      <td>...</td>\n",
       "      <td>...</td>\n",
       "      <td>...</td>\n",
       "      <td>...</td>\n",
       "      <td>...</td>\n",
       "      <td>...</td>\n",
       "    </tr>\n",
       "    <tr>\n",
       "      <th>1995</th>\n",
       "      <td>WN</td>\n",
       "      <td>1265.0</td>\n",
       "      <td>MDW</td>\n",
       "      <td>BOS</td>\n",
       "      <td>4</td>\n",
       "      <td>515.0</td>\n",
       "      <td>135.0</td>\n",
       "      <td>1</td>\n",
       "    </tr>\n",
       "    <tr>\n",
       "      <th>1996</th>\n",
       "      <td>WN</td>\n",
       "      <td>418.0</td>\n",
       "      <td>RNO</td>\n",
       "      <td>PDX</td>\n",
       "      <td>2</td>\n",
       "      <td>585.0</td>\n",
       "      <td>95.0</td>\n",
       "      <td>1</td>\n",
       "    </tr>\n",
       "    <tr>\n",
       "      <th>1997</th>\n",
       "      <td>WN</td>\n",
       "      <td>717.0</td>\n",
       "      <td>HOU</td>\n",
       "      <td>MDW</td>\n",
       "      <td>2</td>\n",
       "      <td>1245.0</td>\n",
       "      <td>145.0</td>\n",
       "      <td>1</td>\n",
       "    </tr>\n",
       "    <tr>\n",
       "      <th>1998</th>\n",
       "      <td>US</td>\n",
       "      <td>1021.0</td>\n",
       "      <td>LGA</td>\n",
       "      <td>CLT</td>\n",
       "      <td>1</td>\n",
       "      <td>495.0</td>\n",
       "      <td>127.0</td>\n",
       "      <td>0</td>\n",
       "    </tr>\n",
       "    <tr>\n",
       "      <th>1999</th>\n",
       "      <td>DL</td>\n",
       "      <td>2535.0</td>\n",
       "      <td>LGA</td>\n",
       "      <td>MSY</td>\n",
       "      <td>7</td>\n",
       "      <td>775.0</td>\n",
       "      <td>211.0</td>\n",
       "      <td>0</td>\n",
       "    </tr>\n",
       "  </tbody>\n",
       "</table>\n",
       "<p>2000 rows × 8 columns</p>\n",
       "</div>"
      ],
      "text/plain": [
       "     Airline  Flight AirportFrom AirportTo DayOfWeek    Time  Length Delay\n",
       "0         AA  1344.0         SAT       DFW         7   705.0    70.0     0\n",
       "1         OO  4634.0         LGB       SLC         1   605.0   117.0     0\n",
       "2         CO  1704.0         IAH       OKC         7  1265.0    83.0     0\n",
       "3         OO  7755.0         SLC       CDC         3   459.0    72.0     0\n",
       "4         XE  2300.0         TUL       IAH         5  1002.0    97.0     0\n",
       "...      ...     ...         ...       ...       ...     ...     ...   ...\n",
       "1995      WN  1265.0         MDW       BOS         4   515.0   135.0     1\n",
       "1996      WN   418.0         RNO       PDX         2   585.0    95.0     1\n",
       "1997      WN   717.0         HOU       MDW         2  1245.0   145.0     1\n",
       "1998      US  1021.0         LGA       CLT         1   495.0   127.0     0\n",
       "1999      DL  2535.0         LGA       MSY         7   775.0   211.0     0\n",
       "\n",
       "[2000 rows x 8 columns]"
      ]
     },
     "execution_count": 16,
     "metadata": {},
     "output_type": "execute_result"
    }
   ],
   "source": [
    "denormalized_table"
   ]
  },
  {
   "cell_type": "code",
   "execution_count": 17,
   "id": "193d5a75-dbe6-49b2-9a69-baf084f62ffc",
   "metadata": {},
   "outputs": [
    {
     "data": {
      "text/plain": [
       "Delay\n",
       "0    1109\n",
       "1     891\n",
       "Name: Delay, dtype: int64"
      ]
     },
     "execution_count": 17,
     "metadata": {},
     "output_type": "execute_result"
    }
   ],
   "source": [
    "denormalized_table.groupby(['Delay'])['Delay'].count()"
   ]
  },
  {
   "cell_type": "code",
   "execution_count": null,
   "id": "21970ad2-a769-473f-af7e-57aa00c07136",
   "metadata": {},
   "outputs": [],
   "source": []
  }
 ],
 "metadata": {
  "kernelspec": {
   "display_name": "Python 3 (ipykernel)",
   "language": "python",
   "name": "python3"
  },
  "language_info": {
   "codemirror_mode": {
    "name": "ipython",
    "version": 3
   },
   "file_extension": ".py",
   "mimetype": "text/x-python",
   "name": "python",
   "nbconvert_exporter": "python",
   "pygments_lexer": "ipython3",
   "version": "3.10.12"
  }
 },
 "nbformat": 4,
 "nbformat_minor": 5
}
