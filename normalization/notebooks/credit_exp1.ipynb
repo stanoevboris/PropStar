{
 "cells": [
  {
   "cell_type": "code",
   "execution_count": 1,
   "id": "initial_id",
   "metadata": {},
   "outputs": [],
   "source": [
    "from normalization.normalize import Normalize\n",
    "from sklearn.datasets import fetch_openml\n",
    "\n"
   ]
  },
  {
   "cell_type": "code",
   "execution_count": 2,
   "id": "33f5443a781110eb",
   "metadata": {
    "collapsed": false,
    "jupyter": {
     "outputs_hidden": false
    }
   },
   "outputs": [
    {
     "name": "stderr",
     "output_type": "stream",
     "text": [
      "/mnt/sda/boris_stanoev/PropStar/venv/lib/python3.10/site-packages/sklearn/datasets/_openml.py:303: UserWarning: Multiple active versions of the dataset matching the name credit-g exist. Versions may be fundamentally different, returning version 1.\n",
      "  warn(\n",
      "/mnt/sda/boris_stanoev/PropStar/venv/lib/python3.10/site-packages/sklearn/datasets/_openml.py:1002: FutureWarning: The default value of `parser` will change from `'liac-arff'` to `'auto'` in 1.4. You can set `parser='auto'` to silence this warning. Therefore, an `ImportError` will be raised from 1.4 if the dataset is dense and pandas is not installed. Note that the pandas parser may return different data types. See the Notes Section in fetch_openml's API doc for details.\n",
      "  warn(\n"
     ]
    }
   ],
   "source": [
    "\n",
    "data = fetch_openml(name='credit-g')\n",
    "denormalized_table = data.data.join(data.target)  # join on indexes\n",
    "list(denormalized_table.columns.values)\n",
    "norm = Normalize(denormalized_table=denormalized_table, denormalized_table_name=\"original_table\")\n",
    "\n",
    "\n",
    "\n",
    "\n"
   ]
  },
  {
   "cell_type": "code",
   "execution_count": 3,
   "id": "d6335bec-a75c-4f68-8d72-fed96c52285d",
   "metadata": {},
   "outputs": [],
   "source": [
    "target_cols = ['class', 'checking_status', 'savings_status']\n",
    "norm.create_entity(source_entity_name=\"original_table\", target_entity_name=\"target\", columns=target_cols,\n",
    "                   distinct_values=True, retain_columns=[\"target_id\"])\n",
    "norm.entity_set['original_table']\n",
    "norm.create_entity(source_entity_name=\"target\", target_entity_name=\"checking_status_type\", columns=['checking_status'],\n",
    "                   distinct_values=True)\n",
    "norm.create_entity(source_entity_name=\"target\", target_entity_name=\"savings_status_type\", columns=['savings_status'],\n",
    "                   distinct_values=True)"
   ]
  },
  {
   "cell_type": "code",
   "execution_count": 4,
   "id": "d6af11ad7d4ab46",
   "metadata": {
    "collapsed": false,
    "jupyter": {
     "outputs_hidden": false
    }
   },
   "outputs": [],
   "source": [
    "credit_cols = ['duration', 'purpose', 'installment_commitment', 'credit_amount', \"target_id\"]\n",
    "norm.create_entity(source_entity_name='original_table', target_entity_name='credit', columns=credit_cols,\n",
    "                   distinct_values=False, retain_columns=[\"target_id\"])\n",
    "norm.add_custom_relation(parent_table_name=\"target\", parent_table_column=\"target_id\", child_table_name=\"credit\",\n",
    "                         child_table_column=\"target_id\")\n",
    "norm.entity_set.keys()\n",
    "norm.create_entity(source_entity_name='credit', target_entity_name='credit_purpose_type', columns=['purpose'],\n",
    "                   distinct_values=True)"
   ]
  },
  {
   "cell_type": "code",
   "execution_count": 5,
   "id": "867eddcf2d069f21",
   "metadata": {
    "collapsed": false,
    "jupyter": {
     "outputs_hidden": false
    }
   },
   "outputs": [],
   "source": [
    "person_cols = ['credit_history', 'employment', 'personal_status', 'other_parties', 'residence_since',\n",
    "               'property_magnitude', 'age', 'other_payment_plans', 'housing', 'existing_credits', 'job',\n",
    "               'num_dependents', 'own_telephone', 'foreign_worker', \"target_id\"]\n",
    "norm.create_entity(source_entity_name='original_table', target_entity_name='person', columns=person_cols,\n",
    "                   distinct_values=False, retain_columns=[\"target_id\"])\n",
    "norm.add_custom_relation(parent_table_name=\"target\", parent_table_column=\"target_id\", child_table_name=\"person\",\n",
    "                         child_table_column=\"target_id\")\n",
    "norm.create_entity(source_entity_name='person', target_entity_name='personal_status_type', columns=['personal_status'],\n",
    "                   distinct_values=True)\n",
    "norm.create_entity(source_entity_name='person', target_entity_name='employment_type', columns=['employment'],\n",
    "                   distinct_values=True)\n",
    "norm.create_entity(source_entity_name='person', target_entity_name='job_type', columns=['job'], distinct_values=True)\n",
    "norm.create_entity(source_entity_name='person', target_entity_name='credit_history', columns=['credit_history'],\n",
    "                   distinct_values=True)"
   ]
  },
  {
   "cell_type": "code",
   "execution_count": 6,
   "id": "9311eeba18cc34ac",
   "metadata": {
    "collapsed": false,
    "jupyter": {
     "outputs_hidden": false
    }
   },
   "outputs": [],
   "source": [
    "property_cols = ['residence_since', 'property_magnitude', 'housing']\n",
    "norm.create_entity(source_entity_name='person', target_entity_name='property', columns=property_cols,\n",
    "                   distinct_values=True)\n"
   ]
  },
  {
   "cell_type": "code",
   "execution_count": 7,
   "id": "6ac474a1d9f87a42",
   "metadata": {
    "collapsed": false,
    "jupyter": {
     "outputs_hidden": false
    }
   },
   "outputs": [],
   "source": [
    "norm.remove_entity(\"original_table\")\n"
   ]
  },
  {
   "cell_type": "code",
   "execution_count": 8,
   "id": "c6e4e6e5-315f-47ff-8ecb-9a0547811ae5",
   "metadata": {},
   "outputs": [
    {
     "data": {
      "text/plain": [
       "dict_keys(['target', 'checking_status_type', 'savings_status_type', 'credit', 'credit_purpose_type', 'person', 'personal_status_type', 'employment_type', 'job_type', 'credit_history', 'property'])"
      ]
     },
     "execution_count": 8,
     "metadata": {},
     "output_type": "execute_result"
    }
   ],
   "source": [
    "\n",
    "norm.primary_keys\n",
    "norm.relations\n",
    "norm.entity_set.keys()"
   ]
  },
  {
   "cell_type": "code",
   "execution_count": 9,
   "id": "c3715c1f-87cc-4f90-b19e-7c811e738323",
   "metadata": {},
   "outputs": [
    {
     "name": "stdout",
     "output_type": "stream",
     "text": [
      "ALTER TABLE target ADD CONSTRAINT PK_target PRIMARY KEY (target_id);\n",
      "ALTER TABLE checking_status_type ADD CONSTRAINT PK_checking_status_type PRIMARY KEY (checking_status_type_id);\n",
      "ALTER TABLE savings_status_type ADD CONSTRAINT PK_savings_status_type PRIMARY KEY (savings_status_type_id);\n",
      "ALTER TABLE credit ADD CONSTRAINT PK_credit PRIMARY KEY (credit_id);\n",
      "ALTER TABLE credit_purpose_type ADD CONSTRAINT PK_credit_purpose_type PRIMARY KEY (credit_purpose_type_id);\n",
      "ALTER TABLE person ADD CONSTRAINT PK_person PRIMARY KEY (person_id);\n",
      "ALTER TABLE personal_status_type ADD CONSTRAINT PK_personal_status_type PRIMARY KEY (personal_status_type_id);\n",
      "ALTER TABLE employment_type ADD CONSTRAINT PK_employment_type PRIMARY KEY (employment_type_id);\n",
      "ALTER TABLE job_type ADD CONSTRAINT PK_job_type PRIMARY KEY (job_type_id);\n",
      "ALTER TABLE credit_history ADD CONSTRAINT PK_credit_history PRIMARY KEY (credit_history_id);\n",
      "ALTER TABLE property ADD CONSTRAINT PK_property PRIMARY KEY (property_id);\n",
      "ALTER TABLE credit ADD CONSTRAINT FK_credit_target FOREIGN KEY (target_id) REFERENCES target(target_id));\n",
      "ALTER TABLE person ADD CONSTRAINT FK_person_target FOREIGN KEY (target_id) REFERENCES target(target_id));\n",
      "ALTER TABLE target ADD CONSTRAINT FK_target_checking_status_type FOREIGN KEY (checking_status_type_id) REFERENCES checking_status_type(checking_status_type_id));\n",
      "ALTER TABLE target ADD CONSTRAINT FK_target_savings_status_type FOREIGN KEY (savings_status_type_id) REFERENCES savings_status_type(savings_status_type_id));\n",
      "ALTER TABLE credit ADD CONSTRAINT FK_credit_credit_purpose_type FOREIGN KEY (credit_purpose_type_id) REFERENCES credit_purpose_type(credit_purpose_type_id));\n",
      "ALTER TABLE person ADD CONSTRAINT FK_person_personal_status_type FOREIGN KEY (personal_status_type_id) REFERENCES personal_status_type(personal_status_type_id));\n",
      "ALTER TABLE person ADD CONSTRAINT FK_person_employment_type FOREIGN KEY (employment_type_id) REFERENCES employment_type(employment_type_id));\n",
      "ALTER TABLE person ADD CONSTRAINT FK_person_job_type FOREIGN KEY (job_type_id) REFERENCES job_type(job_type_id));\n",
      "ALTER TABLE person ADD CONSTRAINT FK_person_credit_history FOREIGN KEY (credit_history_id) REFERENCES credit_history(credit_history_id));\n",
      "ALTER TABLE person ADD CONSTRAINT FK_person_property FOREIGN KEY (property_id) REFERENCES property(property_id));\n"
     ]
    }
   ],
   "source": [
    "for entity in norm.entity_set.keys():\n",
    "    print(\n",
    "        f\"ALTER TABLE {entity} ADD CONSTRAINT PK_{entity} PRIMARY KEY ({norm.primary_keys[entity]});\")\n",
    "\n",
    "for parent_table in norm.relations:\n",
    "    for child_table in norm.relations[parent_table]:\n",
    "        print(f\"ALTER TABLE {child_table} ADD CONSTRAINT FK_{child_table}_{parent_table} \"\n",
    "              f\"FOREIGN KEY ({norm.relations[parent_table][child_table][1]}) \"\n",
    "              f\"REFERENCES {parent_table}({norm.relations[parent_table][child_table][0]}));\")\n",
    "\n"
   ]
  },
  {
   "cell_type": "code",
   "execution_count": null,
   "id": "913ed88a-876f-4586-9555-845c0a5f85e7",
   "metadata": {},
   "outputs": [],
   "source": [
    "norm.persist_entity_set(database_name=\"credit_exp1\")\n"
   ]
  }
 ],
 "metadata": {
  "kernelspec": {
   "display_name": "Python 3 (ipykernel)",
   "language": "python",
   "name": "python3"
  },
  "language_info": {
   "codemirror_mode": {
    "name": "ipython",
    "version": 3
   },
   "file_extension": ".py",
   "mimetype": "text/x-python",
   "name": "python",
   "nbconvert_exporter": "python",
   "pygments_lexer": "ipython3",
   "version": "3.10.12"
  }
 },
 "nbformat": 4,
 "nbformat_minor": 5
}
