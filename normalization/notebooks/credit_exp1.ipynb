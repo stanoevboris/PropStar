{
 "cells": [
  {
   "cell_type": "code",
   "execution_count": null,
   "id": "initial_id",
   "metadata": {
    "collapsed": true,
    "jupyter": {
     "outputs_hidden": true
    }
   },
   "outputs": [],
   "source": [
    "import sys\n",
    "# sys.path is a list of absolute path strings\n",
    "sys.path.append('/mnt/sda/boris_stanoev/PropStar/')\n",
    "\n",
    "from normalization.normalize import Normalize\n",
    "from sklearn.datasets import fetch_openml\n",
    "\n",
    "data = fetch_openml(name='credit-g')\n",
    "denormalized_table = data.data.join(data.target)  # join on indexes\n",
    "list(denormalized_table.columns.values)\n",
    "norm = Normalize(denormalized_table=denormalized_table, denormalized_table_name=\"original_table\")\n",
    "target_cols = ['class', 'checking_status', 'savings_status']\n",
    "norm.create_entity(source_entity_name=\"original_table\", target_entity_name=\"target\", columns=target_cols,\n",
    "                   distinct_values=True, retain_columns=[\"target_id\"])\n",
    "norm.entity_set['original_table']\n",
    "norm.create_entity(source_entity_name=\"target\", target_entity_name=\"checking_status_type\", columns=['checking_status'],\n",
    "                   distinct_values=True)\n",
    "norm.create_entity(source_entity_name=\"target\", target_entity_name=\"savings_status_type\", columns=['savings_status'],\n",
    "                   distinct_values=True)\n",
    "credit_cols = ['duration', 'purpose', 'installment_commitment', 'credit_amount', \"target_id\"]\n",
    "norm.create_entity(source_entity_name='original_table', target_entity_name='credit', columns=credit_cols,\n",
    "                   distinct_values=False, retain_columns=[\"target_id\"])\n",
    "norm.add_custom_relation(parent_table_name=\"target\", parent_table_column=\"target_id\", child_table_name=\"credit\",\n",
    "                         child_table_column=\"target_id\")\n",
    "norm.entity_set.keys()\n",
    "norm.create_entity(source_entity_name='credit', target_entity_name='credit_purpose_type', columns=['purpose'],\n",
    "                   distinct_values=True)\n",
    "person_cols = ['credit_history', 'employment', 'personal_status', 'other_parties', 'residence_since',\n",
    "               'property_magnitude', 'age', 'other_payment_plans', 'housing', 'existing_credits', 'job',\n",
    "               'num_dependents', 'own_telephone', 'foreign_worker', \"target_id\"]\n",
    "norm.create_entity(source_entity_name='original_table', target_entity_name='person', columns=person_cols,\n",
    "                   distinct_values=False, retain_columns=[\"target_id\"])\n",
    "norm.add_custom_relation(parent_table_name=\"target\", parent_table_column=\"target_id\", child_table_name=\"person\",\n",
    "                         child_table_column=\"target_id\")\n",
    "norm.create_entity(source_entity_name='person', target_entity_name='personal_status_type', columns=['personal_status'],\n",
    "                   distinct_values=True)\n",
    "norm.create_entity(source_entity_name='person', target_entity_name='employment_type', columns=['employment'],\n",
    "                   distinct_values=True)\n",
    "norm.create_entity(source_entity_name='person', target_entity_name='job_type', columns=['job'], distinct_values=True)\n",
    "norm.create_entity(source_entity_name='person', target_entity_name='credit_history', columns=['credit_history'],\n",
    "                   distinct_values=True)\n",
    "property_cols = ['residence_since', 'property_magnitude', 'housing']\n",
    "norm.create_entity(source_entity_name='person', target_entity_name='property', columns=property_cols,\n",
    "                   distinct_values=True)\n",
    "\n",
    "norm.remove_entity(\"original_table\")\n",
    "norm.primary_keys\n",
    "norm.relations\n",
    "norm.entity_set.keys()\n",
    "for entity in norm.entity_set.keys():\n",
    "    print(\n",
    "        f\"ALTER TABLE {entity} ADD CONSTRAINT PK_{entity} PRIMARY KEY ({norm.primary_keys[entity]});\")\n",
    "\n",
    "for parent_table in norm.relations:\n",
    "    for child_table in norm.relations[parent_table]:\n",
    "        print(f\"ALTER TABLE {child_table} ADD CONSTRAINT FK_{child_table}_{parent_table} \"\n",
    "              f\"FOREIGN KEY ({norm.relations[parent_table][child_table][1]}) \"\n",
    "              f\"REFERENCES {parent_table}({norm.relations[parent_table][child_table][0]}));\")\n",
    "norm.persist_entity_set(database_name=\"credit_exp1\")\n",
    "\n"
   ]
  },
  {
   "cell_type": "code",
   "execution_count": null,
   "id": "33f5443a781110eb",
   "metadata": {
    "collapsed": false,
    "jupyter": {
     "outputs_hidden": false
    }
   },
   "outputs": [],
   "source": [
    "\n"
   ]
  },
  {
   "cell_type": "code",
   "execution_count": null,
   "id": "d6af11ad7d4ab46",
   "metadata": {
    "collapsed": false,
    "jupyter": {
     "outputs_hidden": false
    }
   },
   "outputs": [],
   "source": []
  },
  {
   "cell_type": "code",
   "execution_count": null,
   "id": "867eddcf2d069f21",
   "metadata": {
    "collapsed": false,
    "jupyter": {
     "outputs_hidden": false
    }
   },
   "outputs": [],
   "source": []
  },
  {
   "cell_type": "code",
   "execution_count": null,
   "id": "9311eeba18cc34ac",
   "metadata": {
    "collapsed": false,
    "jupyter": {
     "outputs_hidden": false
    }
   },
   "outputs": [],
   "source": []
  },
  {
   "cell_type": "code",
   "execution_count": null,
   "id": "6ac474a1d9f87a42",
   "metadata": {
    "collapsed": false,
    "jupyter": {
     "outputs_hidden": false
    }
   },
   "outputs": [],
   "source": []
  }
 ],
 "metadata": {
  "kernelspec": {
   "display_name": "Python 3 (ipykernel)",
   "language": "python",
   "name": "python3"
  },
  "language_info": {
   "codemirror_mode": {
    "name": "ipython",
    "version": 3
   },
   "file_extension": ".py",
   "mimetype": "text/x-python",
   "name": "python",
   "nbconvert_exporter": "python",
   "pygments_lexer": "ipython3",
   "version": "3.10.12"
  }
 },
 "nbformat": 4,
 "nbformat_minor": 5
}
