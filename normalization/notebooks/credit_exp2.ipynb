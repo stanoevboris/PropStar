{
 "cells": [
  {
   "cell_type": "code",
   "execution_count": 1,
   "id": "bfacd40b-568d-4647-83d6-877f5a07e17d",
   "metadata": {},
   "outputs": [],
   "source": [
    "import sys\n",
    "# sys.path is a list of absolute path strings\n",
    "sys.path.append('/mnt/sda/boris_stanoev/PropStar/')\n"
   ]
  },
  {
   "cell_type": "code",
   "execution_count": 2,
   "id": "initial_id",
   "metadata": {},
   "outputs": [],
   "source": [
    "from normalization.normalize import Normalize\n",
    "from sklearn.datasets import fetch_openml"
   ]
  },
  {
   "cell_type": "code",
   "execution_count": 3,
   "id": "33f5443a781110eb",
   "metadata": {
    "collapsed": false,
    "jupyter": {
     "outputs_hidden": false
    }
   },
   "outputs": [
    {
     "name": "stderr",
     "output_type": "stream",
     "text": [
      "/mnt/sda/boris_stanoev/PropStar/venv/lib/python3.10/site-packages/sklearn/datasets/_openml.py:303: UserWarning: Multiple active versions of the dataset matching the name credit-g exist. Versions may be fundamentally different, returning version 1.\n",
      "  warn(\n",
      "/mnt/sda/boris_stanoev/PropStar/venv/lib/python3.10/site-packages/sklearn/datasets/_openml.py:1002: FutureWarning: The default value of `parser` will change from `'liac-arff'` to `'auto'` in 1.4. You can set `parser='auto'` to silence this warning. Therefore, an `ImportError` will be raised from 1.4 if the dataset is dense and pandas is not installed. Note that the pandas parser may return different data types. See the Notes Section in fetch_openml's API doc for details.\n",
      "  warn(\n"
     ]
    }
   ],
   "source": [
    "\n",
    "data = fetch_openml(name='credit-g')\n",
    "denormalized_table = data.data.join(data.target)  # join on indexes\n",
    "list(denormalized_table.columns.values)\n",
    "norm = Normalize(denormalized_table=denormalized_table, denormalized_table_name=\"original_table\")\n"
   ]
  },
  {
   "cell_type": "code",
   "execution_count": 4,
   "id": "d6af11ad7d4ab46",
   "metadata": {
    "collapsed": false,
    "jupyter": {
     "outputs_hidden": false
    }
   },
   "outputs": [],
   "source": [
    "target_cols = ['class', 'checking_status', 'savings_status']\n",
    "norm.create_entity(source_entity_name=\"original_table\", target_entity_name=\"target\", columns=target_cols,\n",
    "                   distinct_values=True, retain_columns=[\"target_id\"])\n",
    "norm.entity_set['original_table']\n",
    "norm.create_entity(source_entity_name=\"target\", target_entity_name=\"checking_status_type\", columns=['checking_status'],\n",
    "                   distinct_values=True)\n",
    "norm.create_entity(source_entity_name=\"target\", target_entity_name=\"savings_status_type\", columns=['savings_status'],\n",
    "                   distinct_values=True)\n"
   ]
  },
  {
   "cell_type": "code",
   "execution_count": 5,
   "id": "867eddcf2d069f21",
   "metadata": {
    "collapsed": false,
    "jupyter": {
     "outputs_hidden": false
    }
   },
   "outputs": [
    {
     "data": {
      "text/plain": [
       "dict_keys(['original_table', 'target', 'checking_status_type', 'savings_status_type', 'credit'])"
      ]
     },
     "execution_count": 5,
     "metadata": {},
     "output_type": "execute_result"
    }
   ],
   "source": [
    "credit_cols = ['duration', 'purpose', 'installment_commitment', 'credit_amount', \"target_id\"]\n",
    "norm.create_entity(source_entity_name='original_table', target_entity_name='credit', columns=credit_cols,\n",
    "                   distinct_values=False, retain_columns=[\"target_id\"])\n",
    "norm.add_custom_relation(parent_table_name=\"target\", parent_table_column=\"target_id\", child_table_name=\"credit\",\n",
    "                         child_table_column=\"target_id\")\n",
    "norm.entity_set.keys()\n",
    "# norm.create_entity(source_entity_name='credit', target_entity_name='credit_purpose_type', columns=['purpose'],\n",
    "#                    distinct_values=True)\n",
    "\n"
   ]
  },
  {
   "cell_type": "code",
   "execution_count": 6,
   "id": "9311eeba18cc34ac",
   "metadata": {
    "collapsed": false,
    "jupyter": {
     "outputs_hidden": false
    }
   },
   "outputs": [],
   "source": [
    "person_cols = ['credit_history', 'employment', 'personal_status', 'other_parties', 'residence_since',\n",
    "               'property_magnitude', 'age', 'other_payment_plans', 'housing', 'existing_credits', 'job',\n",
    "               'num_dependents', 'own_telephone', 'foreign_worker', \"target_id\"]\n",
    "norm.create_entity(source_entity_name='original_table', target_entity_name='person', columns=person_cols,\n",
    "                   distinct_values=False, retain_columns=[\"target_id\"])\n",
    "norm.add_custom_relation(parent_table_name=\"target\", parent_table_column=\"target_id\", child_table_name=\"person\",\n",
    "                         child_table_column=\"target_id\")\n",
    "# norm.create_entity(source_entity_name='person', target_entity_name='personal_status_type', columns=['personal_status'],\n",
    "#                    distinct_values=True)\n",
    "# norm.create_entity(source_entity_name='person', target_entity_name='employment_type', columns=['employment'],\n",
    "#                    distinct_values=True)\n",
    "# norm.create_entity(source_entity_name='person', target_entity_name='job_type', columns=['job'], distinct_values=True)\n",
    "# norm.create_entity(source_entity_name='person', target_entity_name='credit_history', columns=['credit_history'],\n",
    "#                    distinct_values=True)\n"
   ]
  },
  {
   "cell_type": "code",
   "execution_count": 7,
   "id": "6ac474a1d9f87a42",
   "metadata": {
    "collapsed": false,
    "jupyter": {
     "outputs_hidden": false
    }
   },
   "outputs": [],
   "source": [
    "# property_cols = ['residence_since', 'property_magnitude', 'housing']\n",
    "# norm.create_entity(source_entity_name='person', target_entity_name='property', columns=property_cols,\n",
    "#                    distinct_values=True)\n",
    "\n",
    "norm.remove_entity(\"original_table\")\n"
   ]
  },
  {
   "cell_type": "code",
   "execution_count": 8,
   "id": "8c3d0dc9-527e-4c58-bbc2-8658cd4d28d6",
   "metadata": {},
   "outputs": [
    {
     "data": {
      "text/plain": [
       "dict_keys(['target', 'checking_status_type', 'savings_status_type', 'credit', 'person'])"
      ]
     },
     "execution_count": 8,
     "metadata": {},
     "output_type": "execute_result"
    }
   ],
   "source": [
    "norm.primary_keys\n",
    "norm.relations\n",
    "norm.entity_set.keys()\n"
   ]
  },
  {
   "cell_type": "code",
   "execution_count": 9,
   "id": "a859920c-4d61-46c8-baa4-3b91c18cbbe7",
   "metadata": {},
   "outputs": [
    {
     "name": "stdout",
     "output_type": "stream",
     "text": [
      "ALTER TABLE target ADD CONSTRAINT PK_target PRIMARY KEY (target_id);\n",
      "ALTER TABLE checking_status_type ADD CONSTRAINT PK_checking_status_type PRIMARY KEY (checking_status_type_id);\n",
      "ALTER TABLE savings_status_type ADD CONSTRAINT PK_savings_status_type PRIMARY KEY (savings_status_type_id);\n",
      "ALTER TABLE credit ADD CONSTRAINT PK_credit PRIMARY KEY (credit_id);\n",
      "ALTER TABLE person ADD CONSTRAINT PK_person PRIMARY KEY (person_id);\n",
      "ALTER TABLE credit ADD CONSTRAINT FK_credit_target FOREIGN KEY (target_id) REFERENCES target(target_id));\n",
      "ALTER TABLE person ADD CONSTRAINT FK_person_target FOREIGN KEY (target_id) REFERENCES target(target_id));\n",
      "ALTER TABLE target ADD CONSTRAINT FK_target_checking_status_type FOREIGN KEY (checking_status_type_id) REFERENCES checking_status_type(checking_status_type_id));\n",
      "ALTER TABLE target ADD CONSTRAINT FK_target_savings_status_type FOREIGN KEY (savings_status_type_id) REFERENCES savings_status_type(savings_status_type_id));\n"
     ]
    }
   ],
   "source": [
    "for entity in norm.entity_set.keys():\n",
    "    print(\n",
    "        f\"ALTER TABLE {entity} ADD CONSTRAINT PK_{entity} PRIMARY KEY ({norm.primary_keys[entity]});\")\n",
    "\n",
    "for parent_table in norm.relations:\n",
    "    for child_table in norm.relations[parent_table]:\n",
    "        print(f\"ALTER TABLE {child_table} ADD CONSTRAINT FK_{child_table}_{parent_table} \"\n",
    "              f\"FOREIGN KEY ({norm.relations[parent_table][child_table][1]}) \"\n",
    "              f\"REFERENCES {parent_table}({norm.relations[parent_table][child_table][0]}));\")\n"
   ]
  },
  {
   "cell_type": "code",
   "execution_count": 10,
   "id": "330fd09a-dd5f-4ef8-bc25-1ec2d4a4b5ff",
   "metadata": {},
   "outputs": [
    {
     "name": "stdout",
     "output_type": "stream",
     "text": [
      "2023-09-13 20:13:17,498 INFO sqlalchemy.engine.Engine SELECT CAST(SERVERPROPERTY('ProductVersion') AS VARCHAR)\n",
      "2023-09-13 20:13:17,500 INFO sqlalchemy.engine.Engine [raw sql] ()\n",
      "2023-09-13 20:13:17,503 INFO sqlalchemy.engine.Engine SELECT schema_name()\n",
      "2023-09-13 20:13:17,505 INFO sqlalchemy.engine.Engine [generated in 0.00137s] ()\n",
      "2023-09-13 20:13:17,509 INFO sqlalchemy.engine.Engine SELECT CAST('test max support' AS NVARCHAR(max))\n",
      "2023-09-13 20:13:17,510 INFO sqlalchemy.engine.Engine [generated in 0.00138s] ()\n",
      "2023-09-13 20:13:17,512 INFO sqlalchemy.engine.Engine SELECT 1 FROM fn_listextendedproperty(default, default, default, default, default, default, default)\n",
      "2023-09-13 20:13:17,513 INFO sqlalchemy.engine.Engine [generated in 0.00108s] ()\n",
      "2023-09-13 20:13:17,514 INFO sqlalchemy.engine.Engine BEGIN (implicit)\n",
      "2023-09-13 20:13:17,515 INFO sqlalchemy.engine.Engine IF (SCHEMA_ID('credit_exp2') IS NOT NULL) BEGIN DROP SCHEMA [credit_exp2]; END \n",
      "2023-09-13 20:13:17,516 INFO sqlalchemy.engine.Engine [generated in 0.00156s] ()\n",
      "2023-09-13 20:13:17,518 INFO sqlalchemy.engine.Engine CREATE SCHEMA [credit_exp2] AUTHORIZATION [dbo]\n",
      "2023-09-13 20:13:17,519 INFO sqlalchemy.engine.Engine [generated in 0.00076s] ()\n",
      "2023-09-13 20:13:17,529 INFO sqlalchemy.engine.Engine SELECT [INFORMATION_SCHEMA].[TABLES].[TABLE_NAME] \n",
      "FROM [INFORMATION_SCHEMA].[TABLES] \n",
      "WHERE ([INFORMATION_SCHEMA].[TABLES].[TABLE_TYPE] = CAST(? AS NVARCHAR(max)) OR [INFORMATION_SCHEMA].[TABLES].[TABLE_TYPE] = CAST(? AS NVARCHAR(max))) AND [INFORMATION_SCHEMA].[TABLES].[TABLE_NAME] = CAST(? AS NVARCHAR(max)) AND [INFORMATION_SCHEMA].[TABLES].[TABLE_SCHEMA] = CAST(? AS NVARCHAR(max))\n",
      "2023-09-13 20:13:17,529 INFO sqlalchemy.engine.Engine [generated in 0.00098s] ('BASE TABLE', 'VIEW', 'target', 'credit_exp2')\n",
      "2023-09-13 20:13:17,531 INFO sqlalchemy.engine.Engine \n",
      "CREATE TABLE credit_exp2.target (\n",
      "\tclass VARCHAR(max) NULL, \n",
      "\ttarget_id BIGINT NULL, \n",
      "\tchecking_status_type_id BIGINT NULL, \n",
      "\tsavings_status_type_id BIGINT NULL\n",
      ")\n",
      "\n",
      "\n",
      "2023-09-13 20:13:17,532 INFO sqlalchemy.engine.Engine [no key 0.00037s] ()\n",
      "2023-09-13 20:13:17,577 INFO sqlalchemy.engine.Engine INSERT INTO credit_exp2.target (class, target_id, checking_status_type_id, savings_status_type_id) VALUES (?, ?, ?, ?), (?, ?, ?, ?), (?, ?, ?, ?), (?, ?, ?, ?), (?, ?, ?, ?), (?, ?, ?, ?), (?, ?, ?, ?), (?, ?, ?, ?), (?, ?, ?, ?), (?, ?, ?, ?), (?,  ... 286 characters truncated ... ?), (?, ?, ?, ?), (?, ?, ?, ?), (?, ?, ?, ?), (?, ?, ?, ?), (?, ?, ?, ?), (?, ?, ?, ?), (?, ?, ?, ?)\n",
      "2023-09-13 20:13:17,578 INFO sqlalchemy.engine.Engine [generated in 0.00017s (insertmanyvalues) 1/1 (unordered)] ('good', 0, 0, 0, 'bad', 1, 1, 1, 'good', 2, 2, 1, 'good', 3, 0, 1, 'bad', 4, 0, 1, 'good', 5, 2, 0, 'good', 6, 2, 2, 'good', 7, 1, 1, 'good', 8, 2, 3, 'bad', 9, 0, 4, 'good', 10, 0, 2, 'good', 11, 1, 4, 'good', 12 ... 52 parameters truncated ... 3, 0, 'bad', 26, 0, 2, 'bad', 27, 1, 2, 'bad', 28, 2, 3, 'bad', 29, 1, 3, 'good', 30, 0, 3, 'bad', 31, 3, 0, 'bad', 32, 2, 2, 'bad', 33, 2, 4, 'bad', 34, 3, 2, 'good', 35, 3, 4, 'good', 36, 3, 2, 'bad', 37, 3, 4)\n",
      "2023-09-13 20:13:17,585 INFO sqlalchemy.engine.Engine ALTER TABLE credit_exp2.target ALTER COLUMN target_id BIGINT NOT NULL\n",
      "2023-09-13 20:13:17,586 INFO sqlalchemy.engine.Engine [generated in 0.00050s] ()\n",
      "2023-09-13 20:13:17,591 INFO sqlalchemy.engine.Engine ALTER TABLE credit_exp2.target ADD CONSTRAINT PK_target PRIMARY KEY (target_id);\n",
      "2023-09-13 20:13:17,592 INFO sqlalchemy.engine.Engine [generated in 0.00050s] ()\n",
      "2023-09-13 20:13:17,599 INFO sqlalchemy.engine.Engine SELECT [INFORMATION_SCHEMA].[TABLES].[TABLE_NAME] \n",
      "FROM [INFORMATION_SCHEMA].[TABLES] \n",
      "WHERE ([INFORMATION_SCHEMA].[TABLES].[TABLE_TYPE] = CAST(? AS NVARCHAR(max)) OR [INFORMATION_SCHEMA].[TABLES].[TABLE_TYPE] = CAST(? AS NVARCHAR(max))) AND [INFORMATION_SCHEMA].[TABLES].[TABLE_NAME] = CAST(? AS NVARCHAR(max)) AND [INFORMATION_SCHEMA].[TABLES].[TABLE_SCHEMA] = CAST(? AS NVARCHAR(max))\n",
      "2023-09-13 20:13:17,599 INFO sqlalchemy.engine.Engine [cached since 0.07044s ago] ('BASE TABLE', 'VIEW', 'checking_status_type', 'credit_exp2')\n",
      "2023-09-13 20:13:17,600 INFO sqlalchemy.engine.Engine \n",
      "CREATE TABLE credit_exp2.checking_status_type (\n",
      "\tchecking_status VARCHAR(max) NULL, \n",
      "\tchecking_status_type_id BIGINT NULL\n",
      ")\n",
      "\n",
      "\n",
      "2023-09-13 20:13:17,601 INFO sqlalchemy.engine.Engine [no key 0.00033s] ()\n",
      "2023-09-13 20:13:17,608 INFO sqlalchemy.engine.Engine INSERT INTO credit_exp2.checking_status_type (checking_status, checking_status_type_id) VALUES (?, ?), (?, ?), (?, ?), (?, ?)\n",
      "2023-09-13 20:13:17,609 INFO sqlalchemy.engine.Engine [generated in 0.00055s (insertmanyvalues) 1/1 (unordered)] ('<0', 0, '0<=X<200', 1, 'no checking', 2, '>=200', 3)\n",
      "2023-09-13 20:13:17,621 INFO sqlalchemy.engine.Engine ALTER TABLE credit_exp2.checking_status_type ALTER COLUMN checking_status_type_id BIGINT NOT NULL\n",
      "2023-09-13 20:13:17,623 INFO sqlalchemy.engine.Engine [generated in 0.00185s] ()\n",
      "2023-09-13 20:13:17,636 INFO sqlalchemy.engine.Engine ALTER TABLE credit_exp2.checking_status_type ADD CONSTRAINT PK_checking_status_type PRIMARY KEY (checking_status_type_id);\n",
      "2023-09-13 20:13:17,638 INFO sqlalchemy.engine.Engine [generated in 0.00198s] ()\n",
      "2023-09-13 20:13:17,666 INFO sqlalchemy.engine.Engine SELECT [INFORMATION_SCHEMA].[TABLES].[TABLE_NAME] \n",
      "FROM [INFORMATION_SCHEMA].[TABLES] \n",
      "WHERE ([INFORMATION_SCHEMA].[TABLES].[TABLE_TYPE] = CAST(? AS NVARCHAR(max)) OR [INFORMATION_SCHEMA].[TABLES].[TABLE_TYPE] = CAST(? AS NVARCHAR(max))) AND [INFORMATION_SCHEMA].[TABLES].[TABLE_NAME] = CAST(? AS NVARCHAR(max)) AND [INFORMATION_SCHEMA].[TABLES].[TABLE_SCHEMA] = CAST(? AS NVARCHAR(max))\n",
      "2023-09-13 20:13:17,668 INFO sqlalchemy.engine.Engine [cached since 0.1396s ago] ('BASE TABLE', 'VIEW', 'savings_status_type', 'credit_exp2')\n",
      "2023-09-13 20:13:17,675 INFO sqlalchemy.engine.Engine \n",
      "CREATE TABLE credit_exp2.savings_status_type (\n",
      "\tsavings_status VARCHAR(max) NULL, \n",
      "\tsavings_status_type_id BIGINT NULL\n",
      ")\n",
      "\n",
      "\n",
      "2023-09-13 20:13:17,676 INFO sqlalchemy.engine.Engine [no key 0.00173s] ()\n",
      "2023-09-13 20:13:17,688 INFO sqlalchemy.engine.Engine INSERT INTO credit_exp2.savings_status_type (savings_status, savings_status_type_id) VALUES (?, ?), (?, ?), (?, ?), (?, ?), (?, ?)\n",
      "2023-09-13 20:13:17,690 INFO sqlalchemy.engine.Engine [generated in 0.00060s (insertmanyvalues) 1/1 (unordered)] ('no known savings', 0, '<100', 1, '500<=X<1000', 2, '>=1000', 3, '100<=X<500', 4)\n",
      "2023-09-13 20:13:17,703 INFO sqlalchemy.engine.Engine ALTER TABLE credit_exp2.savings_status_type ALTER COLUMN savings_status_type_id BIGINT NOT NULL\n",
      "2023-09-13 20:13:17,706 INFO sqlalchemy.engine.Engine [generated in 0.00284s] ()\n",
      "2023-09-13 20:13:17,719 INFO sqlalchemy.engine.Engine ALTER TABLE credit_exp2.savings_status_type ADD CONSTRAINT PK_savings_status_type PRIMARY KEY (savings_status_type_id);\n",
      "2023-09-13 20:13:17,720 INFO sqlalchemy.engine.Engine [generated in 0.00197s] ()\n",
      "2023-09-13 20:13:17,743 INFO sqlalchemy.engine.Engine SELECT [INFORMATION_SCHEMA].[TABLES].[TABLE_NAME] \n",
      "FROM [INFORMATION_SCHEMA].[TABLES] \n",
      "WHERE ([INFORMATION_SCHEMA].[TABLES].[TABLE_TYPE] = CAST(? AS NVARCHAR(max)) OR [INFORMATION_SCHEMA].[TABLES].[TABLE_TYPE] = CAST(? AS NVARCHAR(max))) AND [INFORMATION_SCHEMA].[TABLES].[TABLE_NAME] = CAST(? AS NVARCHAR(max)) AND [INFORMATION_SCHEMA].[TABLES].[TABLE_SCHEMA] = CAST(? AS NVARCHAR(max))\n",
      "2023-09-13 20:13:17,745 INFO sqlalchemy.engine.Engine [cached since 0.2162s ago] ('BASE TABLE', 'VIEW', 'credit', 'credit_exp2')\n",
      "2023-09-13 20:13:17,753 INFO sqlalchemy.engine.Engine \n",
      "CREATE TABLE credit_exp2.credit (\n",
      "\tduration FLOAT(53) NULL, \n",
      "\tpurpose VARCHAR(max) NULL, \n",
      "\tinstallment_commitment FLOAT(53) NULL, \n",
      "\tcredit_amount FLOAT(53) NULL, \n",
      "\ttarget_id BIGINT NULL, \n",
      "\tcredit_id BIGINT NULL\n",
      ")\n",
      "\n",
      "\n",
      "2023-09-13 20:13:17,754 INFO sqlalchemy.engine.Engine [no key 0.00176s] ()\n",
      "2023-09-13 20:13:17,786 INFO sqlalchemy.engine.Engine INSERT INTO credit_exp2.credit (duration, purpose, installment_commitment, credit_amount, target_id, credit_id) VALUES (?, ?, ?, ?, ?, ?), (?, ?, ?, ?, ?, ?), (?, ?, ?, ?, ?, ?), (?, ?, ?, ?, ?, ?), (?, ?, ?, ?, ?, ?), (?, ?, ?, ?, ?, ?), (?, ?, ?, ? ... 6747 characters truncated ... , (?, ?, ?, ?, ?, ?), (?, ?, ?, ?, ?, ?), (?, ?, ?, ?, ?, ?), (?, ?, ?, ?, ?, ?), (?, ?, ?, ?, ?, ?)\n",
      "2023-09-13 20:13:17,788 INFO sqlalchemy.engine.Engine [generated in 0.01157s (insertmanyvalues) 1/3 (unordered)] (6.0, 'radio/tv', 4.0, 1169.0, 0, 0, 48.0, 'radio/tv', 2.0, 5951.0, 1, 1, 12.0, 'education', 2.0, 2096.0, 2, 2, 42.0, 'furniture/equipment', 2.0, 7882.0, 3, 3, 24.0, 'new car', 3.0, 4870.0, 4, 4, 36.0, 'education', 2.0, 9055.0, 5, 5, 24.0, 'furniture/equipment', 3.0, 2835.0, 6, 6, 36.0, 'used car', 2.0, 6948.0, 7, 7, 12.0, 'radio/tv' ... 1994 parameters truncated ... 7, 340, 21.0, 'furniture/equipment', 1.0, 3599.0, 3, 341, 18.0, 'radio/tv', 1.0, 3213.0, 16, 342, 18.0, 'business', 1.0, 4439.0, 7, 343, 10.0, 'new car', 1.0, 3949.0, 14, 344, 15.0, 'radio/tv', 4.0, 1459.0, 2, 345, 13.0, 'radio/tv', 4.0, 882.0, 7, 346, 24.0, 'radio/tv', 1.0, 3758.0, 16, 347, 6.0, 'business', 1.0, 1743.0, 18, 348)\n",
      "2023-09-13 20:13:17,883 INFO sqlalchemy.engine.Engine INSERT INTO credit_exp2.credit (duration, purpose, installment_commitment, credit_amount, target_id, credit_id) VALUES (?, ?, ?, ?, ?, ?), (?, ?, ?, ?, ?, ?), (?, ?, ?, ?, ?, ?), (?, ?, ?, ?, ?, ?), (?, ?, ?, ?, ?, ?), (?, ?, ?, ?, ?, ?), (?, ?, ?, ? ... 6747 characters truncated ... , (?, ?, ?, ?, ?, ?), (?, ?, ?, ?, ?, ?), (?, ?, ?, ?, ?, ?), (?, ?, ?, ?, ?, ?), (?, ?, ?, ?, ?, ?)\n",
      "2023-09-13 20:13:17,884 INFO sqlalchemy.engine.Engine [insertmanyvalues 2/3 (unordered)] (9.0, 'education', 4.0, 1136.0, 29, 349, 9.0, 'domestic appliance', 1.0, 1236.0, 2, 350, 9.0, 'furniture/equipment', 1.0, 959.0, 1, 351, 18.0, 'used car', 2.0, 3229.0, 5, 352, 12.0, 'radio/tv', 4.0, 6199.0, 4, 353, 10.0, 'education', 4.0, 727.0, 6, 354, 24.0, 'new car', 4.0, 1246.0, 1, 355, 12.0, 'radio/tv', 1.0, 2331.0, 5, 356, 36.0, 'radio/tv' ... 1994 parameters truncated ... 30, 689, 15.0, 'furniture/equipment', 2.0, 975.0, 3, 690, 15.0, 'repairs', 3.0, 2631.0, 11, 691, 24.0, 'radio/tv', 2.0, 2896.0, 11, 692, 6.0, 'new car', 1.0, 4716.0, 0, 693, 24.0, 'radio/tv', 4.0, 2284.0, 2, 694, 6.0, 'used car', 2.0, 1236.0, 6, 695, 12.0, 'radio/tv', 4.0, 1103.0, 7, 696, 12.0, 'new car', 1.0, 926.0, 2, 697)\n",
      "2023-09-13 20:13:17,891 INFO sqlalchemy.engine.Engine INSERT INTO credit_exp2.credit (duration, purpose, installment_commitment, credit_amount, target_id, credit_id) VALUES (?, ?, ?, ?, ?, ?), (?, ?, ?, ?, ?, ?), (?, ?, ?, ?, ?, ?), (?, ?, ?, ?, ?, ?), (?, ?, ?, ?, ?, ?), (?, ?, ?, ?, ?, ?), (?, ?, ?, ? ... 5807 characters truncated ... , (?, ?, ?, ?, ?, ?), (?, ?, ?, ?, ?, ?), (?, ?, ?, ?, ?, ?), (?, ?, ?, ?, ?, ?), (?, ?, ?, ?, ?, ?)\n",
      "2023-09-13 20:13:17,892 INFO sqlalchemy.engine.Engine [insertmanyvalues 3/3 (unordered)] (18.0, 'radio/tv', 4.0, 1800.0, 2, 698, 15.0, 'education', 4.0, 1905.0, 14, 699, 12.0, 'furniture/equipment', 4.0, 1123.0, 32, 700, 48.0, 'used car', 4.0, 6331.0, 4, 701, 24.0, 'radio/tv', 4.0, 1377.0, 35, 702, 30.0, 'business', 4.0, 2503.0, 11, 703, 27.0, 'business', 4.0, 2528.0, 7, 704, 15.0, 'new car', 1.0, 5324.0, 6, 705, 48.0, 'new car' ... 1712 parameters truncated ... 18, 991, 18.0, 'radio/tv', 2.0, 1936.0, 0, 992, 36.0, 'furniture/equipment', 4.0, 3959.0, 3, 993, 12.0, 'new car', 4.0, 2390.0, 5, 994, 12.0, 'furniture/equipment', 3.0, 1736.0, 2, 995, 30.0, 'used car', 4.0, 3857.0, 3, 996, 12.0, 'radio/tv', 4.0, 804.0, 2, 997, 45.0, 'radio/tv', 4.0, 1845.0, 4, 998, 45.0, 'used car', 3.0, 4576.0, 11, 999)\n",
      "2023-09-13 20:13:17,949 INFO sqlalchemy.engine.Engine ALTER TABLE credit_exp2.credit ALTER COLUMN credit_id BIGINT NOT NULL\n",
      "2023-09-13 20:13:17,950 INFO sqlalchemy.engine.Engine [generated in 0.00050s] ()\n",
      "2023-09-13 20:13:17,956 INFO sqlalchemy.engine.Engine ALTER TABLE credit_exp2.credit ADD CONSTRAINT PK_credit PRIMARY KEY (credit_id);\n",
      "2023-09-13 20:13:17,956 INFO sqlalchemy.engine.Engine [generated in 0.00044s] ()\n",
      "2023-09-13 20:13:17,973 INFO sqlalchemy.engine.Engine SELECT [INFORMATION_SCHEMA].[TABLES].[TABLE_NAME] \n",
      "FROM [INFORMATION_SCHEMA].[TABLES] \n",
      "WHERE ([INFORMATION_SCHEMA].[TABLES].[TABLE_TYPE] = CAST(? AS NVARCHAR(max)) OR [INFORMATION_SCHEMA].[TABLES].[TABLE_TYPE] = CAST(? AS NVARCHAR(max))) AND [INFORMATION_SCHEMA].[TABLES].[TABLE_NAME] = CAST(? AS NVARCHAR(max)) AND [INFORMATION_SCHEMA].[TABLES].[TABLE_SCHEMA] = CAST(? AS NVARCHAR(max))\n",
      "2023-09-13 20:13:17,973 INFO sqlalchemy.engine.Engine [cached since 0.4446s ago] ('BASE TABLE', 'VIEW', 'person', 'credit_exp2')\n",
      "2023-09-13 20:13:17,975 INFO sqlalchemy.engine.Engine \n",
      "CREATE TABLE credit_exp2.person (\n",
      "\tcredit_history VARCHAR(max) NULL, \n",
      "\temployment VARCHAR(max) NULL, \n",
      "\tpersonal_status VARCHAR(max) NULL, \n",
      "\tother_parties VARCHAR(max) NULL, \n",
      "\tresidence_since FLOAT(53) NULL, \n",
      "\tproperty_magnitude VARCHAR(max) NULL, \n",
      "\tage FLOAT(53) NULL, \n",
      "\tother_payment_plans VARCHAR(max) NULL, \n",
      "\thousing VARCHAR(max) NULL, \n",
      "\texisting_credits FLOAT(53) NULL, \n",
      "\tjob VARCHAR(max) NULL, \n",
      "\tnum_dependents FLOAT(53) NULL, \n",
      "\town_telephone VARCHAR(max) NULL, \n",
      "\tforeign_worker VARCHAR(max) NULL, \n",
      "\ttarget_id BIGINT NULL, \n",
      "\tperson_id BIGINT NULL\n",
      ")\n",
      "\n",
      "\n",
      "2023-09-13 20:13:17,975 INFO sqlalchemy.engine.Engine [no key 0.00040s] ()\n",
      "2023-09-13 20:13:17,988 INFO sqlalchemy.engine.Engine INSERT INTO credit_exp2.person (credit_history, employment, personal_status, other_parties, residence_since, property_magnitude, age, other_payment_plans, housing, existing_credits, job, num_dependents, own_telephone, foreign_worker, target_id, perso ... 6461 characters truncated ... , (?, ?, ?, ?, ?, ?, ?, ?, ?, ?, ?, ?, ?, ?, ?, ?), (?, ?, ?, ?, ?, ?, ?, ?, ?, ?, ?, ?, ?, ?, ?, ?)\n",
      "2023-09-13 20:13:17,988 INFO sqlalchemy.engine.Engine [generated in 0.00429s (insertmanyvalues) 1/8 (unordered)] ('critical/other existing credit', '>=7', 'male single', 'none', 4.0, 'real estate', 67.0, 'none', 'own', 2.0, 'skilled', 1.0, 'yes', 'yes', 0, 0, 'existing paid', '1<=X<4', 'female div/dep/mar', 'none', 2.0, 'real estate', 22.0, 'none', 'own', 1.0, 'skilled', 1.0, 'none', 'yes', 1, 1, 'critical/other existing credit', '4<=X<7', 'male single', 'none', 3.0, 'real estate', 49.0, 'none', 'own', 1.0, 'unskilled resident', 2.0, 'none', 'yes', 2, 2, 'existing paid', '4<=X<7' ... 1996 parameters truncated ... 1, 127, 'critical/other existing credit', 'unemployed', 'male single', 'none', 2.0, 'car', 34.0, 'none', 'own', 2.0, 'high qualif/self emp/mgmt', 1.0, 'yes', 'yes', 7, 128, 'critical/other existing credit', '1<=X<4', 'female div/dep/mar', 'co applicant', 2.0, 'real estate', 29.0, 'none', 'own', 2.0, 'skilled', 1.0, 'none', 'yes', 4, 129, 'existing paid', '4<=X<7', 'female div/dep/mar', 'none', 2.0, 'car', 24.0, 'none', 'own', 1.0, 'skilled', 1.0, 'none', 'yes', 19, 130)\n",
      "2023-09-13 20:13:18,077 INFO sqlalchemy.engine.Engine INSERT INTO credit_exp2.person (credit_history, employment, personal_status, other_parties, residence_since, property_magnitude, age, other_payment_plans, housing, existing_credits, job, num_dependents, own_telephone, foreign_worker, target_id, perso ... 6461 characters truncated ... , (?, ?, ?, ?, ?, ?, ?, ?, ?, ?, ?, ?, ?, ?, ?, ?), (?, ?, ?, ?, ?, ?, ?, ?, ?, ?, ?, ?, ?, ?, ?, ?)\n",
      "2023-09-13 20:13:18,078 INFO sqlalchemy.engine.Engine [insertmanyvalues 2/8 (unordered)] ('delayed previously', '1<=X<4', 'male single', 'none', 3.0, 'life insurance', 29.0, 'stores', 'own', 1.0, 'skilled', 1.0, 'yes', 'yes', 4, 131, 'existing paid', '<1', 'male single', 'none', 3.0, 'life insurance', 27.0, 'bank', 'own', 2.0, 'unskilled resident', 1.0, 'none', 'yes', 2, 132, 'existing paid', '1<=X<4', 'male single', 'none', 4.0, 'no known property', 47.0, 'bank', 'for free', 2.0, 'skilled', 1.0, 'none', 'yes', 2, 133, 'existing paid', '4<=X<7' ... 1996 parameters truncated ... 18, 258, 'critical/other existing credit', 'unemployed', 'female div/dep/mar', 'none', 4.0, 'real estate', 57.0, 'none', 'own', 3.0, 'unskilled resident', 1.0, 'none', 'yes', 18, 259, 'existing paid', '1<=X<4', 'male single', 'none', 2.0, 'real estate', 27.0, 'none', 'own', 1.0, 'skilled', 1.0, 'none', 'yes', 3, 260, 'existing paid', '>=7', 'female div/dep/mar', 'none', 4.0, 'car', 55.0, 'none', 'own', 1.0, 'skilled', 1.0, 'none', 'yes', 3, 261)\n",
      "2023-09-13 20:13:18,085 INFO sqlalchemy.engine.Engine INSERT INTO credit_exp2.person (credit_history, employment, personal_status, other_parties, residence_since, property_magnitude, age, other_payment_plans, housing, existing_credits, job, num_dependents, own_telephone, foreign_worker, target_id, perso ... 6461 characters truncated ... , (?, ?, ?, ?, ?, ?, ?, ?, ?, ?, ?, ?, ?, ?, ?, ?), (?, ?, ?, ?, ?, ?, ?, ?, ?, ?, ?, ?, ?, ?, ?, ?)\n",
      "2023-09-13 20:13:18,085 INFO sqlalchemy.engine.Engine [insertmanyvalues 3/8 (unordered)] ('critical/other existing credit', '>=7', 'male single', 'none', 4.0, 'no known property', 36.0, 'none', 'for free', 3.0, 'high qualif/self emp/mgmt', 1.0, 'yes', 'yes', 3, 262, 'critical/other existing credit', '>=7', 'female div/dep/mar', 'none', 4.0, 'no known property', 57.0, 'bank', 'for free', 3.0, 'unskilled resident', 1.0, 'none', 'yes', 2, 263, 'critical/other existing credit', '>=7', 'male single', 'none', 4.0, 'real estate', 32.0, 'none', 'own', 2.0, 'unskilled resident', 2.0, 'none', 'no', 2, 264, 'existing paid', '>=7' ... 1996 parameters truncated ... 2, 389, 'existing paid', '1<=X<4', 'male mar/wid', 'none', 2.0, 'life insurance', 30.0, 'none', 'own', 1.0, 'high qualif/self emp/mgmt', 1.0, 'yes', 'yes', 2, 390, 'existing paid', '<1', 'female div/dep/mar', 'none', 4.0, 'real estate', 19.0, 'none', 'rent', 1.0, 'unskilled resident', 1.0, 'none', 'yes', 13, 391, 'existing paid', '4<=X<7', 'male single', 'none', 4.0, 'no known property', 39.0, 'bank', 'for free', 1.0, 'high qualif/self emp/mgmt', 2.0, 'yes', 'yes', 3, 392)\n",
      "2023-09-13 20:13:18,092 INFO sqlalchemy.engine.Engine INSERT INTO credit_exp2.person (credit_history, employment, personal_status, other_parties, residence_since, property_magnitude, age, other_payment_plans, housing, existing_credits, job, num_dependents, own_telephone, foreign_worker, target_id, perso ... 6461 characters truncated ... , (?, ?, ?, ?, ?, ?, ?, ?, ?, ?, ?, ?, ?, ?, ?, ?), (?, ?, ?, ?, ?, ?, ?, ?, ?, ?, ?, ?, ?, ?, ?, ?)\n",
      "2023-09-13 20:13:18,093 INFO sqlalchemy.engine.Engine [insertmanyvalues 4/8 (unordered)] ('critical/other existing credit', '4<=X<7', 'female div/dep/mar', 'none', 4.0, 'car', 31.0, 'none', 'own', 1.0, 'skilled', 1.0, 'none', 'yes', 3, 393, 'critical/other existing credit', 'unemployed', 'male single', 'none', 3.0, 'car', 31.0, 'none', 'own', 1.0, 'high qualif/self emp/mgmt', 1.0, 'none', 'yes', 2, 394, 'delayed previously', '4<=X<7', 'male single', 'none', 3.0, 'no known property', 32.0, 'none', 'rent', 1.0, 'skilled', 1.0, 'yes', 'yes', 11, 395, 'existing paid', 'unemployed' ... 1996 parameters truncated ... 2, 520, 'existing paid', '1<=X<4', 'female div/dep/mar', 'none', 2.0, 'real estate', 24.0, 'none', 'own', 1.0, 'skilled', 1.0, 'none', 'yes', 4, 521, 'no credits/all paid', '1<=X<4', 'male single', 'none', 4.0, 'no known property', 53.0, 'none', 'for free', 2.0, 'skilled', 2.0, 'none', 'yes', 4, 522, 'existing paid', '4<=X<7', 'female div/dep/mar', 'none', 4.0, 'car', 23.0, 'none', 'own', 1.0, 'skilled', 1.0, 'none', 'yes', 18, 523)\n",
      "2023-09-13 20:13:18,101 INFO sqlalchemy.engine.Engine INSERT INTO credit_exp2.person (credit_history, employment, personal_status, other_parties, residence_since, property_magnitude, age, other_payment_plans, housing, existing_credits, job, num_dependents, own_telephone, foreign_worker, target_id, perso ... 6461 characters truncated ... , (?, ?, ?, ?, ?, ?, ?, ?, ?, ?, ?, ?, ?, ?, ?, ?), (?, ?, ?, ?, ?, ?, ?, ?, ?, ?, ?, ?, ?, ?, ?, ?)\n",
      "2023-09-13 20:13:18,101 INFO sqlalchemy.engine.Engine [insertmanyvalues 5/8 (unordered)] ('existing paid', '1<=X<4', 'female div/dep/mar', 'guarantor', 4.0, 'real estate', 26.0, 'none', 'own', 1.0, 'unskilled resident', 2.0, 'none', 'yes', 7, 524, 'existing paid', '<1', 'male single', 'none', 3.0, 'car', 30.0, 'none', 'own', 2.0, 'skilled', 1.0, 'none', 'yes', 7, 525, 'critical/other existing credit', '1<=X<4', 'female div/dep/mar', 'none', 3.0, 'car', 31.0, 'none', 'own', 1.0, 'skilled', 1.0, 'none', 'yes', 18, 526, 'critical/other existing credit', '4<=X<7' ... 1996 parameters truncated ... 1, 651, 'existing paid', '>=7', 'male single', 'co applicant', 1.0, 'real estate', 45.0, 'none', 'own', 1.0, 'skilled', 1.0, 'none', 'yes', 4, 652, 'delayed previously', '>=7', 'male single', 'none', 4.0, 'car', 42.0, 'none', 'own', 4.0, 'high qualif/self emp/mgmt', 1.0, 'yes', 'yes', 24, 653, 'critical/other existing credit', '4<=X<7', 'male single', 'none', 3.0, 'car', 35.0, 'none', 'own', 2.0, 'skilled', 1.0, 'yes', 'yes', 2, 654)\n",
      "2023-09-13 20:13:18,108 INFO sqlalchemy.engine.Engine INSERT INTO credit_exp2.person (credit_history, employment, personal_status, other_parties, residence_since, property_magnitude, age, other_payment_plans, housing, existing_credits, job, num_dependents, own_telephone, foreign_worker, target_id, perso ... 6461 characters truncated ... , (?, ?, ?, ?, ?, ?, ?, ?, ?, ?, ?, ?, ?, ?, ?, ?), (?, ?, ?, ?, ?, ?, ?, ?, ?, ?, ?, ?, ?, ?, ?, ?)\n",
      "2023-09-13 20:13:18,109 INFO sqlalchemy.engine.Engine [insertmanyvalues 6/8 (unordered)] ('existing paid', 'unemployed', 'male single', 'none', 4.0, 'no known property', 22.0, 'none', 'for free', 1.0, 'skilled', 1.0, 'none', 'yes', 3, 655, 'existing paid', '>=7', 'male single', 'none', 4.0, 'car', 41.0, 'bank', 'own', 1.0, 'unskilled resident', 2.0, 'none', 'yes', 1, 656, 'existing paid', '4<=X<7', 'male single', 'none', 3.0, 'car', 37.0, 'stores', 'own', 1.0, 'skilled', 1.0, 'yes', 'yes', 5, 657, 'no credits/all paid', '1<=X<4' ... 1996 parameters truncated ... 7, 782, 'existing paid', '<1', 'female div/dep/mar', 'none', 2.0, 'life insurance', 23.0, 'bank', 'own', 1.0, 'unskilled resident', 1.0, 'none', 'yes', 24, 783, 'existing paid', 'unemployed', 'male div/sep', 'none', 4.0, 'real estate', 60.0, 'none', 'own', 1.0, 'high qualif/self emp/mgmt', 1.0, 'yes', 'yes', 19, 784, 'existing paid', '1<=X<4', 'male single', 'none', 2.0, 'life insurance', 35.0, 'none', 'own', 1.0, 'unskilled resident', 1.0, 'yes', 'yes', 13, 785)\n",
      "2023-09-13 20:13:18,116 INFO sqlalchemy.engine.Engine INSERT INTO credit_exp2.person (credit_history, employment, personal_status, other_parties, residence_since, property_magnitude, age, other_payment_plans, housing, existing_credits, job, num_dependents, own_telephone, foreign_worker, target_id, perso ... 6461 characters truncated ... , (?, ?, ?, ?, ?, ?, ?, ?, ?, ?, ?, ?, ?, ?, ?, ?), (?, ?, ?, ?, ?, ?, ?, ?, ?, ?, ?, ?, ?, ?, ?, ?)\n",
      "2023-09-13 20:13:18,116 INFO sqlalchemy.engine.Engine [insertmanyvalues 7/8 (unordered)] ('existing paid', '>=7', 'male single', 'none', 4.0, 'car', 40.0, 'none', 'own', 1.0, 'skilled', 1.0, 'none', 'yes', 6, 786, 'critical/other existing credit', '>=7', 'male single', 'none', 3.0, 'car', 38.0, 'none', 'own', 2.0, 'skilled', 2.0, 'yes', 'yes', 5, 787, 'delayed previously', '>=7', 'male single', 'none', 4.0, 'no known property', 50.0, 'none', 'for free', 1.0, 'skilled', 1.0, 'none', 'yes', 1, 788, 'critical/other existing credit', '1<=X<4' ... 1996 parameters truncated ... 8, 913, 'all paid', '1<=X<4', 'male single', 'none', 2.0, 'life insurance', 31.0, 'none', 'rent', 1.0, 'skilled', 1.0, 'yes', 'yes', 4, 914, 'no credits/all paid', '1<=X<4', 'female div/dep/mar', 'none', 2.0, 'life insurance', 32.0, 'bank', 'own', 1.0, 'high qualif/self emp/mgmt', 1.0, 'yes', 'no', 1, 915, 'existing paid', '1<=X<4', 'male single', 'co applicant', 2.0, 'real estate', 32.0, 'none', 'own', 1.0, 'skilled', 2.0, 'none', 'yes', 18, 916)\n",
      "2023-09-13 20:13:18,122 INFO sqlalchemy.engine.Engine INSERT INTO credit_exp2.person (credit_history, employment, personal_status, other_parties, residence_since, property_magnitude, age, other_payment_plans, housing, existing_credits, job, num_dependents, own_telephone, foreign_worker, target_id, perso ... 4061 characters truncated ... , (?, ?, ?, ?, ?, ?, ?, ?, ?, ?, ?, ?, ?, ?, ?, ?), (?, ?, ?, ?, ?, ?, ?, ?, ?, ?, ?, ?, ?, ?, ?, ?)\n",
      "2023-09-13 20:13:18,123 INFO sqlalchemy.engine.Engine [insertmanyvalues 8/8 (unordered)] ('existing paid', '>=7', 'male single', 'none', 4.0, 'no known property', 68.0, 'bank', 'own', 1.0, 'high qualif/self emp/mgmt', 1.0, 'yes', 'yes', 4, 917, 'existing paid', 'unemployed', 'male div/sep', 'none', 1.0, 'life insurance', 33.0, 'none', 'own', 1.0, 'skilled', 1.0, 'none', 'yes', 9, 918, 'existing paid', '>=7', 'male single', 'none', 2.0, 'life insurance', 39.0, 'none', 'rent', 1.0, 'high qualif/self emp/mgmt', 1.0, 'yes', 'yes', 4, 919, 'critical/other existing credit', '1<=X<4' ... 1228 parameters truncated ... 3, 996, 'existing paid', '>=7', 'male single', 'none', 4.0, 'car', 38.0, 'none', 'own', 1.0, 'skilled', 1.0, 'none', 'yes', 2, 997, 'existing paid', '1<=X<4', 'male single', 'none', 4.0, 'no known property', 23.0, 'none', 'for free', 1.0, 'skilled', 1.0, 'yes', 'yes', 4, 998, 'critical/other existing credit', 'unemployed', 'male single', 'none', 4.0, 'car', 27.0, 'none', 'own', 1.0, 'skilled', 1.0, 'none', 'yes', 11, 999)\n",
      "2023-09-13 20:13:18,175 INFO sqlalchemy.engine.Engine ALTER TABLE credit_exp2.person ALTER COLUMN person_id BIGINT NOT NULL\n",
      "2023-09-13 20:13:18,176 INFO sqlalchemy.engine.Engine [generated in 0.00052s] ()\n",
      "2023-09-13 20:13:18,184 INFO sqlalchemy.engine.Engine ALTER TABLE credit_exp2.person ADD CONSTRAINT PK_person PRIMARY KEY (person_id);\n",
      "2023-09-13 20:13:18,184 INFO sqlalchemy.engine.Engine [generated in 0.00052s] ()\n",
      "2023-09-13 20:13:18,213 INFO sqlalchemy.engine.Engine ALTER TABLE credit_exp2.credit ADD CONSTRAINT FK_credit_target FOREIGN KEY (target_id) REFERENCES credit_exp2.target(target_id);\n",
      "2023-09-13 20:13:18,213 INFO sqlalchemy.engine.Engine [generated in 0.00057s] ()\n",
      "2023-09-13 20:13:18,222 INFO sqlalchemy.engine.Engine ALTER TABLE credit_exp2.person ADD CONSTRAINT FK_person_target FOREIGN KEY (target_id) REFERENCES credit_exp2.target(target_id);\n",
      "2023-09-13 20:13:18,223 INFO sqlalchemy.engine.Engine [generated in 0.00067s] ()\n",
      "2023-09-13 20:13:18,235 INFO sqlalchemy.engine.Engine ALTER TABLE credit_exp2.target ADD CONSTRAINT FK_target_checking_status_type FOREIGN KEY (checking_status_type_id) REFERENCES credit_exp2.checking_status_type(checking_status_type_id);\n",
      "2023-09-13 20:13:18,236 INFO sqlalchemy.engine.Engine [generated in 0.00085s] ()\n",
      "2023-09-13 20:13:18,245 INFO sqlalchemy.engine.Engine ALTER TABLE credit_exp2.target ADD CONSTRAINT FK_target_savings_status_type FOREIGN KEY (savings_status_type_id) REFERENCES credit_exp2.savings_status_type(savings_status_type_id);\n",
      "2023-09-13 20:13:18,246 INFO sqlalchemy.engine.Engine [generated in 0.00081s] ()\n",
      "2023-09-13 20:13:18,255 INFO sqlalchemy.engine.Engine ROLLBACK\n"
     ]
    }
   ],
   "source": [
    "norm.persist_entity_set(database_name=\"credit_exp2\")"
   ]
  },
  {
   "cell_type": "code",
   "execution_count": null,
   "id": "34152d4a-4aad-4025-b6b3-9a4ac5f76922",
   "metadata": {},
   "outputs": [],
   "source": []
  }
 ],
 "metadata": {
  "kernelspec": {
   "display_name": "Python 3 (ipykernel)",
   "language": "python",
   "name": "python3"
  },
  "language_info": {
   "codemirror_mode": {
    "name": "ipython",
    "version": 3
   },
   "file_extension": ".py",
   "mimetype": "text/x-python",
   "name": "python",
   "nbconvert_exporter": "python",
   "pygments_lexer": "ipython3",
   "version": "3.9.13"
  }
 },
 "nbformat": 4,
 "nbformat_minor": 5
}
