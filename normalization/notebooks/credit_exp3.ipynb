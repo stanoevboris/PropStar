{
 "cells": [
  {
   "cell_type": "code",
   "execution_count": null,
   "id": "initial_id",
   "metadata": {
    "collapsed": true
   },
   "outputs": [],
   "source": [
    "from normalization.normalize import Normalize\n",
    "from sklearn.datasets import fetch_openml\n",
    "\n",
    "data = fetch_openml(name='credit-g')\n",
    "denormalized_table = data.data.join(data.target)  # join on indexes\n",
    "list(denormalized_table.columns.values)\n",
    "norm = Normalize(denormalized_table=denormalized_table, denormalized_table_name=\"target\")\n",
    "norm.create_entity(source_entity_name=\"target\", target_entity_name=\"checking_status_type\", columns=['checking_status'],\n",
    "                   distinct_values=True)\n",
    "norm.create_entity(source_entity_name=\"target\", target_entity_name=\"savings_status_type\", columns=['savings_status'],\n",
    "                   distinct_values=True)\n",
    "credit_cols = ['duration', 'purpose', 'installment_commitment', 'credit_history']\n",
    "norm.create_entity(source_entity_name='target', target_entity_name='credit', columns=credit_cols, distinct_values=True)\n",
    "norm.entity_set.keys()\n",
    "\n",
    "person_cols = ['employment', 'personal_status', 'other_parties', 'age', 'other_payment_plans', 'existing_credits',\n",
    "               'job', 'num_dependents', 'own_telephone', 'foreign_worker']\n",
    "norm.create_entity(source_entity_name='target', target_entity_name='person', columns=person_cols, distinct_values=True)\n",
    "norm.create_entity(source_entity_name='person', target_entity_name='personal_status_type', columns=['personal_status'],\n",
    "                   distinct_values=True)\n",
    "norm.create_entity(source_entity_name='person', target_entity_name='employment_type', columns=['employment'],\n",
    "                   distinct_values=True)\n",
    "norm.create_entity(source_entity_name='person', target_entity_name='job_type', columns=['job'], distinct_values=True)\n",
    "property_cols = ['residence_since', 'property_magnitude', 'housing']\n",
    "norm.create_entity(source_entity_name='target', target_entity_name='property', columns=property_cols,\n",
    "                   distinct_values=True)\n",
    "\n",
    "norm.primary_keys\n",
    "norm.relations\n",
    "norm.entity_set.keys()\n",
    "for entity in norm.entity_set.keys():\n",
    "    print(\n",
    "        f\"ALTER TABLE {entity} ADD CONSTRAINT PK_{entity} PRIMARY KEY ({norm.primary_keys[entity]});\")\n",
    "\n",
    "for parent_table in norm.relations:\n",
    "    for child_table in norm.relations[parent_table]:\n",
    "        print(f\"ALTER TABLE {child_table} ADD CONSTRAINT FK_{child_table}_{parent_table} \"\n",
    "              f\"FOREIGN KEY ({norm.relations[parent_table][child_table][1]}) \"\n",
    "              f\"REFERENCES {parent_table}({norm.relations[parent_table][child_table][0]}));\")\n",
    "norm.persist_entity_set(database_name=\"credit_exp3\")\n",
    "\n"
   ]
  }
 ],
 "metadata": {
  "kernelspec": {
   "display_name": "Python 3",
   "language": "python",
   "name": "python3"
  },
  "language_info": {
   "codemirror_mode": {
    "name": "ipython",
    "version": 2
   },
   "file_extension": ".py",
   "mimetype": "text/x-python",
   "name": "python",
   "nbconvert_exporter": "python",
   "pygments_lexer": "ipython2",
   "version": "2.7.6"
  }
 },
 "nbformat": 4,
 "nbformat_minor": 5
}
