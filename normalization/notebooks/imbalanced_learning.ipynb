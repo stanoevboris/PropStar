{
 "cells": [
  {
   "cell_type": "code",
   "execution_count": 20,
   "id": "15ef03a7-caf0-47c2-a22c-af4c599ab114",
   "metadata": {},
   "outputs": [
    {
     "name": "stdout",
     "output_type": "stream",
     "text": [
      "Original dataset shape [ 74 676]\n",
      "Resampled dataset shape [676 676]\n"
     ]
    }
   ],
   "source": [
    "from imblearn.over_sampling import SMOTE\n",
    "from imblearn.combine import SMOTEENN, SMOTETomek\n",
    "from imblearn.under_sampling import EditedNearestNeighbours, TomekLinks\n",
    "\n",
    "from sklearn.model_selection import train_test_split\n",
    "from sklearn.datasets import make_classification\n",
    "import numpy as np\n",
    "\n",
    "# Generating a dummy imbalanced dataset\n",
    "X, y = make_classification(n_classes=2, class_sep=2,\n",
    "                           weights=[0.1, 0.9], n_informative=3, n_redundant=1, flip_y=0,\n",
    "                           n_features=20, n_clusters_per_class=1, n_samples=1000, random_state=10)\n",
    "\n",
    "# Splitting dataset into training and testing\n",
    "X_train, X_test, y_train, y_test = train_test_split(X, y, test_size=0.25, random_state=42)\n",
    "\n",
    "# Applying SMOTE to balance the dataset\n",
    "sm = SMOTE(random_state=42)\n",
    "X_res, y_res = sm.fit_resample(X_train, y_train)\n",
    "\n",
    "# Checking the class distribution after resampling\n",
    "print(f\"Original dataset shape {np.bincount(y_train)}\")\n",
    "print(f\"Resampled dataset shape {np.bincount(y_res)}\")\n"
   ]
  },
  {
   "cell_type": "code",
   "execution_count": 2,
   "id": "c15b8496-fe0c-4ce6-bcd3-142e1e3b0192",
   "metadata": {},
   "outputs": [],
   "source": [
    "import sys\n",
    "import pandas as pd\n",
    "# sys.path is a list of absolute path strings\n",
    "sys.path.append('C:\\Projects\\Private\\PropStar')\n",
    "from normalization.normalize import Normalize\n"
   ]
  },
  {
   "cell_type": "code",
   "execution_count": 3,
   "id": "b8cc9345-30a5-431f-a305-4194eee06073",
   "metadata": {},
   "outputs": [],
   "source": [
    "data = pd.read_csv('datasets/accelerometer_gyro_mobile_phone_dataset.csv')\n",
    "data = data[~data['timestamp'].str.contains(\"6/25/2022\")]"
   ]
  },
  {
   "cell_type": "code",
   "execution_count": 4,
   "id": "e22378f8-e732-456c-8c5e-37fb202bd001",
   "metadata": {},
   "outputs": [
    {
     "data": {
      "text/html": [
       "<div>\n",
       "<style scoped>\n",
       "    .dataframe tbody tr th:only-of-type {\n",
       "        vertical-align: middle;\n",
       "    }\n",
       "\n",
       "    .dataframe tbody tr th {\n",
       "        vertical-align: top;\n",
       "    }\n",
       "\n",
       "    .dataframe thead th {\n",
       "        text-align: right;\n",
       "    }\n",
       "</style>\n",
       "<table border=\"1\" class=\"dataframe\">\n",
       "  <thead>\n",
       "    <tr style=\"text-align: right;\">\n",
       "      <th></th>\n",
       "      <th>accX</th>\n",
       "      <th>accY</th>\n",
       "      <th>accZ</th>\n",
       "      <th>gyroX</th>\n",
       "      <th>gyroY</th>\n",
       "      <th>gyroZ</th>\n",
       "      <th>timestamp</th>\n",
       "      <th>Activity</th>\n",
       "    </tr>\n",
       "  </thead>\n",
       "  <tbody>\n",
       "    <tr>\n",
       "      <th>0</th>\n",
       "      <td>-0.496517</td>\n",
       "      <td>3.785628</td>\n",
       "      <td>8.954828</td>\n",
       "      <td>-0.142849</td>\n",
       "      <td>-0.126159</td>\n",
       "      <td>-0.022539</td>\n",
       "      <td>34:22.9</td>\n",
       "      <td>1</td>\n",
       "    </tr>\n",
       "    <tr>\n",
       "      <th>1</th>\n",
       "      <td>-0.462388</td>\n",
       "      <td>3.869603</td>\n",
       "      <td>9.281898</td>\n",
       "      <td>0.084349</td>\n",
       "      <td>0.096695</td>\n",
       "      <td>0.092130</td>\n",
       "      <td>34:23.0</td>\n",
       "      <td>1</td>\n",
       "    </tr>\n",
       "    <tr>\n",
       "      <th>2</th>\n",
       "      <td>-0.296084</td>\n",
       "      <td>3.820505</td>\n",
       "      <td>8.930728</td>\n",
       "      <td>0.061763</td>\n",
       "      <td>0.051543</td>\n",
       "      <td>0.071287</td>\n",
       "      <td>34:23.1</td>\n",
       "      <td>1</td>\n",
       "    </tr>\n",
       "    <tr>\n",
       "      <th>3</th>\n",
       "      <td>-0.469723</td>\n",
       "      <td>3.890110</td>\n",
       "      <td>8.744067</td>\n",
       "      <td>0.007641</td>\n",
       "      <td>0.028679</td>\n",
       "      <td>0.109433</td>\n",
       "      <td>34:23.2</td>\n",
       "      <td>1</td>\n",
       "    </tr>\n",
       "    <tr>\n",
       "      <th>4</th>\n",
       "      <td>-0.472418</td>\n",
       "      <td>4.109105</td>\n",
       "      <td>8.941207</td>\n",
       "      <td>-0.123640</td>\n",
       "      <td>0.099057</td>\n",
       "      <td>0.051943</td>\n",
       "      <td>34:23.3</td>\n",
       "      <td>1</td>\n",
       "    </tr>\n",
       "    <tr>\n",
       "      <th>...</th>\n",
       "      <td>...</td>\n",
       "      <td>...</td>\n",
       "      <td>...</td>\n",
       "      <td>...</td>\n",
       "      <td>...</td>\n",
       "      <td>...</td>\n",
       "      <td>...</td>\n",
       "      <td>...</td>\n",
       "    </tr>\n",
       "    <tr>\n",
       "      <th>31986</th>\n",
       "      <td>-0.488734</td>\n",
       "      <td>1.610800</td>\n",
       "      <td>10.610386</td>\n",
       "      <td>0.079187</td>\n",
       "      <td>-0.174218</td>\n",
       "      <td>-0.050365</td>\n",
       "      <td>03:15.1</td>\n",
       "      <td>1</td>\n",
       "    </tr>\n",
       "    <tr>\n",
       "      <th>31987</th>\n",
       "      <td>-0.049397</td>\n",
       "      <td>2.769092</td>\n",
       "      <td>7.008276</td>\n",
       "      <td>-0.083853</td>\n",
       "      <td>0.007656</td>\n",
       "      <td>-0.045658</td>\n",
       "      <td>03:15.2</td>\n",
       "      <td>1</td>\n",
       "    </tr>\n",
       "    <tr>\n",
       "      <th>31988</th>\n",
       "      <td>0.291294</td>\n",
       "      <td>3.002007</td>\n",
       "      <td>6.732400</td>\n",
       "      <td>0.005984</td>\n",
       "      <td>-0.058994</td>\n",
       "      <td>-0.087044</td>\n",
       "      <td>03:15.3</td>\n",
       "      <td>1</td>\n",
       "    </tr>\n",
       "    <tr>\n",
       "      <th>31989</th>\n",
       "      <td>0.256267</td>\n",
       "      <td>4.069138</td>\n",
       "      <td>8.687933</td>\n",
       "      <td>0.061487</td>\n",
       "      <td>-0.016278</td>\n",
       "      <td>-0.088728</td>\n",
       "      <td>03:15.4</td>\n",
       "      <td>1</td>\n",
       "    </tr>\n",
       "    <tr>\n",
       "      <th>31990</th>\n",
       "      <td>0.646356</td>\n",
       "      <td>5.273683</td>\n",
       "      <td>10.216704</td>\n",
       "      <td>-0.142294</td>\n",
       "      <td>-0.000884</td>\n",
       "      <td>0.048970</td>\n",
       "      <td>03:15.5</td>\n",
       "      <td>1</td>\n",
       "    </tr>\n",
       "  </tbody>\n",
       "</table>\n",
       "<p>31990 rows × 8 columns</p>\n",
       "</div>"
      ],
      "text/plain": [
       "           accX      accY       accZ     gyroX     gyroY     gyroZ timestamp  \\\n",
       "0     -0.496517  3.785628   8.954828 -0.142849 -0.126159 -0.022539   34:22.9   \n",
       "1     -0.462388  3.869603   9.281898  0.084349  0.096695  0.092130   34:23.0   \n",
       "2     -0.296084  3.820505   8.930728  0.061763  0.051543  0.071287   34:23.1   \n",
       "3     -0.469723  3.890110   8.744067  0.007641  0.028679  0.109433   34:23.2   \n",
       "4     -0.472418  4.109105   8.941207 -0.123640  0.099057  0.051943   34:23.3   \n",
       "...         ...       ...        ...       ...       ...       ...       ...   \n",
       "31986 -0.488734  1.610800  10.610386  0.079187 -0.174218 -0.050365   03:15.1   \n",
       "31987 -0.049397  2.769092   7.008276 -0.083853  0.007656 -0.045658   03:15.2   \n",
       "31988  0.291294  3.002007   6.732400  0.005984 -0.058994 -0.087044   03:15.3   \n",
       "31989  0.256267  4.069138   8.687933  0.061487 -0.016278 -0.088728   03:15.4   \n",
       "31990  0.646356  5.273683  10.216704 -0.142294 -0.000884  0.048970   03:15.5   \n",
       "\n",
       "       Activity  \n",
       "0             1  \n",
       "1             1  \n",
       "2             1  \n",
       "3             1  \n",
       "4             1  \n",
       "...         ...  \n",
       "31986         1  \n",
       "31987         1  \n",
       "31988         1  \n",
       "31989         1  \n",
       "31990         1  \n",
       "\n",
       "[31990 rows x 8 columns]"
      ]
     },
     "execution_count": 4,
     "metadata": {},
     "output_type": "execute_result"
    }
   ],
   "source": [
    "data"
   ]
  },
  {
   "cell_type": "code",
   "execution_count": 5,
   "id": "d97725da-f27c-4f3e-9449-3e5b56397a8f",
   "metadata": {},
   "outputs": [
    {
     "data": {
      "text/plain": [
       "Activity\n",
       "0      570\n",
       "1    31420\n",
       "Name: Activity, dtype: int64"
      ]
     },
     "execution_count": 5,
     "metadata": {},
     "output_type": "execute_result"
    }
   ],
   "source": [
    "data.groupby('Activity')['Activity'].count()"
   ]
  },
  {
   "cell_type": "code",
   "execution_count": 6,
   "id": "4ad3e8ad-ca80-44af-813c-474f968b26d2",
   "metadata": {},
   "outputs": [],
   "source": [
    "# data['Activity'] = data['Activity'].map({0:1, 1:0})"
   ]
  },
  {
   "cell_type": "code",
   "execution_count": 7,
   "id": "56d9b2f3-f18f-4aa2-81a0-f238a0d4b42c",
   "metadata": {},
   "outputs": [
    {
     "data": {
      "text/plain": [
       "gyroX    31669\n",
       "gyroY    31669\n",
       "gyroZ    31669\n",
       "dtype: int64"
      ]
     },
     "execution_count": 7,
     "metadata": {},
     "output_type": "execute_result"
    }
   ],
   "source": [
    "data[['accX', 'accY', 'accZ']].drop_duplicates().count()\n",
    "data[['gyroX', 'gyroY', 'gyroZ']].drop_duplicates().count()"
   ]
  },
  {
   "cell_type": "code",
   "execution_count": 8,
   "id": "ba7f4ca5-496f-4bbc-b7e9-da96ed3dd4d7",
   "metadata": {},
   "outputs": [],
   "source": [
    "data['timestamp'] = '2024-01-01 00:' + data['timestamp'].str.replace(',', '.')\n",
    "\n",
    "# Convert to datetime\n",
    "data['timestamp'] = pd.to_datetime(data['timestamp'], format='%Y-%m-%d %H:%M:%S.%f')"
   ]
  },
  {
   "cell_type": "code",
   "execution_count": 9,
   "id": "3b9f7d3f-46a7-4338-8aca-4447f4c41345",
   "metadata": {},
   "outputs": [
    {
     "data": {
      "text/html": [
       "<div>\n",
       "<style scoped>\n",
       "    .dataframe tbody tr th:only-of-type {\n",
       "        vertical-align: middle;\n",
       "    }\n",
       "\n",
       "    .dataframe tbody tr th {\n",
       "        vertical-align: top;\n",
       "    }\n",
       "\n",
       "    .dataframe thead th {\n",
       "        text-align: right;\n",
       "    }\n",
       "</style>\n",
       "<table border=\"1\" class=\"dataframe\">\n",
       "  <thead>\n",
       "    <tr style=\"text-align: right;\">\n",
       "      <th></th>\n",
       "      <th>accX</th>\n",
       "      <th>accY</th>\n",
       "      <th>accZ</th>\n",
       "      <th>gyroX</th>\n",
       "      <th>gyroY</th>\n",
       "      <th>gyroZ</th>\n",
       "      <th>timestamp</th>\n",
       "      <th>Activity</th>\n",
       "    </tr>\n",
       "  </thead>\n",
       "  <tbody>\n",
       "    <tr>\n",
       "      <th>0</th>\n",
       "      <td>-0.496517</td>\n",
       "      <td>3.785628</td>\n",
       "      <td>8.954828</td>\n",
       "      <td>-0.142849</td>\n",
       "      <td>-0.126159</td>\n",
       "      <td>-0.022539</td>\n",
       "      <td>2024-01-01 00:34:22.900</td>\n",
       "      <td>1</td>\n",
       "    </tr>\n",
       "    <tr>\n",
       "      <th>1</th>\n",
       "      <td>-0.462388</td>\n",
       "      <td>3.869603</td>\n",
       "      <td>9.281898</td>\n",
       "      <td>0.084349</td>\n",
       "      <td>0.096695</td>\n",
       "      <td>0.092130</td>\n",
       "      <td>2024-01-01 00:34:23.000</td>\n",
       "      <td>1</td>\n",
       "    </tr>\n",
       "    <tr>\n",
       "      <th>2</th>\n",
       "      <td>-0.296084</td>\n",
       "      <td>3.820505</td>\n",
       "      <td>8.930728</td>\n",
       "      <td>0.061763</td>\n",
       "      <td>0.051543</td>\n",
       "      <td>0.071287</td>\n",
       "      <td>2024-01-01 00:34:23.100</td>\n",
       "      <td>1</td>\n",
       "    </tr>\n",
       "    <tr>\n",
       "      <th>3</th>\n",
       "      <td>-0.469723</td>\n",
       "      <td>3.890110</td>\n",
       "      <td>8.744067</td>\n",
       "      <td>0.007641</td>\n",
       "      <td>0.028679</td>\n",
       "      <td>0.109433</td>\n",
       "      <td>2024-01-01 00:34:23.200</td>\n",
       "      <td>1</td>\n",
       "    </tr>\n",
       "    <tr>\n",
       "      <th>4</th>\n",
       "      <td>-0.472418</td>\n",
       "      <td>4.109105</td>\n",
       "      <td>8.941207</td>\n",
       "      <td>-0.123640</td>\n",
       "      <td>0.099057</td>\n",
       "      <td>0.051943</td>\n",
       "      <td>2024-01-01 00:34:23.300</td>\n",
       "      <td>1</td>\n",
       "    </tr>\n",
       "    <tr>\n",
       "      <th>...</th>\n",
       "      <td>...</td>\n",
       "      <td>...</td>\n",
       "      <td>...</td>\n",
       "      <td>...</td>\n",
       "      <td>...</td>\n",
       "      <td>...</td>\n",
       "      <td>...</td>\n",
       "      <td>...</td>\n",
       "    </tr>\n",
       "    <tr>\n",
       "      <th>31986</th>\n",
       "      <td>-0.488734</td>\n",
       "      <td>1.610800</td>\n",
       "      <td>10.610386</td>\n",
       "      <td>0.079187</td>\n",
       "      <td>-0.174218</td>\n",
       "      <td>-0.050365</td>\n",
       "      <td>2024-01-01 00:03:15.100</td>\n",
       "      <td>1</td>\n",
       "    </tr>\n",
       "    <tr>\n",
       "      <th>31987</th>\n",
       "      <td>-0.049397</td>\n",
       "      <td>2.769092</td>\n",
       "      <td>7.008276</td>\n",
       "      <td>-0.083853</td>\n",
       "      <td>0.007656</td>\n",
       "      <td>-0.045658</td>\n",
       "      <td>2024-01-01 00:03:15.200</td>\n",
       "      <td>1</td>\n",
       "    </tr>\n",
       "    <tr>\n",
       "      <th>31988</th>\n",
       "      <td>0.291294</td>\n",
       "      <td>3.002007</td>\n",
       "      <td>6.732400</td>\n",
       "      <td>0.005984</td>\n",
       "      <td>-0.058994</td>\n",
       "      <td>-0.087044</td>\n",
       "      <td>2024-01-01 00:03:15.300</td>\n",
       "      <td>1</td>\n",
       "    </tr>\n",
       "    <tr>\n",
       "      <th>31989</th>\n",
       "      <td>0.256267</td>\n",
       "      <td>4.069138</td>\n",
       "      <td>8.687933</td>\n",
       "      <td>0.061487</td>\n",
       "      <td>-0.016278</td>\n",
       "      <td>-0.088728</td>\n",
       "      <td>2024-01-01 00:03:15.400</td>\n",
       "      <td>1</td>\n",
       "    </tr>\n",
       "    <tr>\n",
       "      <th>31990</th>\n",
       "      <td>0.646356</td>\n",
       "      <td>5.273683</td>\n",
       "      <td>10.216704</td>\n",
       "      <td>-0.142294</td>\n",
       "      <td>-0.000884</td>\n",
       "      <td>0.048970</td>\n",
       "      <td>2024-01-01 00:03:15.500</td>\n",
       "      <td>1</td>\n",
       "    </tr>\n",
       "  </tbody>\n",
       "</table>\n",
       "<p>31990 rows × 8 columns</p>\n",
       "</div>"
      ],
      "text/plain": [
       "           accX      accY       accZ     gyroX     gyroY     gyroZ  \\\n",
       "0     -0.496517  3.785628   8.954828 -0.142849 -0.126159 -0.022539   \n",
       "1     -0.462388  3.869603   9.281898  0.084349  0.096695  0.092130   \n",
       "2     -0.296084  3.820505   8.930728  0.061763  0.051543  0.071287   \n",
       "3     -0.469723  3.890110   8.744067  0.007641  0.028679  0.109433   \n",
       "4     -0.472418  4.109105   8.941207 -0.123640  0.099057  0.051943   \n",
       "...         ...       ...        ...       ...       ...       ...   \n",
       "31986 -0.488734  1.610800  10.610386  0.079187 -0.174218 -0.050365   \n",
       "31987 -0.049397  2.769092   7.008276 -0.083853  0.007656 -0.045658   \n",
       "31988  0.291294  3.002007   6.732400  0.005984 -0.058994 -0.087044   \n",
       "31989  0.256267  4.069138   8.687933  0.061487 -0.016278 -0.088728   \n",
       "31990  0.646356  5.273683  10.216704 -0.142294 -0.000884  0.048970   \n",
       "\n",
       "                    timestamp  Activity  \n",
       "0     2024-01-01 00:34:22.900         1  \n",
       "1     2024-01-01 00:34:23.000         1  \n",
       "2     2024-01-01 00:34:23.100         1  \n",
       "3     2024-01-01 00:34:23.200         1  \n",
       "4     2024-01-01 00:34:23.300         1  \n",
       "...                       ...       ...  \n",
       "31986 2024-01-01 00:03:15.100         1  \n",
       "31987 2024-01-01 00:03:15.200         1  \n",
       "31988 2024-01-01 00:03:15.300         1  \n",
       "31989 2024-01-01 00:03:15.400         1  \n",
       "31990 2024-01-01 00:03:15.500         1  \n",
       "\n",
       "[31990 rows x 8 columns]"
      ]
     },
     "execution_count": 9,
     "metadata": {},
     "output_type": "execute_result"
    }
   ],
   "source": [
    "data"
   ]
  },
  {
   "cell_type": "code",
   "execution_count": 10,
   "id": "cde39fb9-e8a1-473f-a77b-42711f697106",
   "metadata": {},
   "outputs": [],
   "source": [
    "X = data.drop('Activity', axis=1).drop('timestamp', axis=1)\n",
    "y = data['Activity']"
   ]
  },
  {
   "cell_type": "code",
   "execution_count": 11,
   "id": "60f34d30-1881-460e-a81c-407e146f893b",
   "metadata": {},
   "outputs": [],
   "source": [
    "X_train, X_test, y_train, y_test = train_test_split(X, y, test_size=0.25, random_state=42)\n"
   ]
  },
  {
   "cell_type": "code",
   "execution_count": 22,
   "id": "f9eb2d14-237e-423f-a2de-fd146dd7332c",
   "metadata": {},
   "outputs": [],
   "source": [
    "# sm = SMOTE(random_state=42)\n",
    "sm = SMOTEENN(smote=SMOTE(random_state=42),\n",
    "                     enn=EditedNearestNeighbours(sampling_strategy='majority'))\n",
    "X_res, y_res = sm.fit_resample(X_train, y_train)"
   ]
  },
  {
   "cell_type": "code",
   "execution_count": 23,
   "id": "e832682c-333a-495f-922c-b019c18accf9",
   "metadata": {},
   "outputs": [
    {
     "name": "stdout",
     "output_type": "stream",
     "text": [
      "Original dataset shape [ 74 676]\n",
      "Resampled dataset shape [676 676]\n"
     ]
    }
   ],
   "source": [
    "# Checking the class distribution after resampling\n",
    "print(f\"Original dataset shape {np.bincount(y_train)}\")\n",
    "print(f\"Resampled dataset shape {np.bincount(y_res)}\")"
   ]
  },
  {
   "cell_type": "code",
   "execution_count": 24,
   "id": "2487114a-b505-4025-8858-8872054e5aa0",
   "metadata": {},
   "outputs": [
    {
     "data": {
      "text/plain": [
       "array([[ 1.18374959,  1.04654391,  0.98678465, ..., -0.12583345,\n",
       "         1.3844996 , -1.93669569],\n",
       "       [-0.20298619, -0.58504162,  0.39955507, ...,  0.34749467,\n",
       "         0.16888375, -2.42843063],\n",
       "       [ 1.68329024,  1.39140999,  1.52528774, ...,  0.267679  ,\n",
       "        -0.81818396,  0.08272461],\n",
       "       ...,\n",
       "       [ 0.27330794,  0.58063391, -0.24143381, ..., -0.84439832,\n",
       "         0.53742459, -2.2560769 ],\n",
       "       [-0.89831997,  0.68756799,  0.43798092, ...,  1.57974469,\n",
       "         1.19103353, -0.40891704],\n",
       "       [-2.24234157,  0.74331177,  0.77549641, ..., -1.40690827,\n",
       "         0.39199296, -1.20733211]])"
      ]
     },
     "execution_count": 24,
     "metadata": {},
     "output_type": "execute_result"
    }
   ],
   "source": [
    "X_res"
   ]
  },
  {
   "cell_type": "code",
   "execution_count": 25,
   "id": "a78e8f96-ba53-44c7-be38-c54746b439a7",
   "metadata": {},
   "outputs": [
    {
     "name": "stdout",
     "output_type": "stream",
     "text": [
      "Original dataset shape [ 74 676]\n",
      "Resampled dataset shape [676 676]\n"
     ]
    }
   ],
   "source": [
    "# sm = SMOTE(random_state=42)\n",
    "sm = SMOTETomek(random_state=42, tomek=TomekLinks(sampling_strategy='majority'))\n",
    "X_res2, y_res2 = sm.fit_resample(X_train, y_train)\n",
    "# Checking the class distribution after resampling\n",
    "print(f\"Original dataset shape {np.bincount(y_train)}\")\n",
    "print(f\"Resampled dataset shape {np.bincount(y_res2)}\")"
   ]
  },
  {
   "cell_type": "code",
   "execution_count": null,
   "id": "465a437a-e3a3-4891-8876-d7694637b1fa",
   "metadata": {},
   "outputs": [],
   "source": []
  }
 ],
 "metadata": {
  "kernelspec": {
   "display_name": "Python 3 (ipykernel)",
   "language": "python",
   "name": "python3"
  },
  "language_info": {
   "codemirror_mode": {
    "name": "ipython",
    "version": 3
   },
   "file_extension": ".py",
   "mimetype": "text/x-python",
   "name": "python",
   "nbconvert_exporter": "python",
   "pygments_lexer": "ipython3",
   "version": "3.9.13"
  }
 },
 "nbformat": 4,
 "nbformat_minor": 5
}
