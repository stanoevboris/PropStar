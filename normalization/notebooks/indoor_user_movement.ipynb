{
 "cells": [
  {
   "cell_type": "code",
   "id": "36d2caaa-a57c-458b-9246-da0b9aacea14",
   "metadata": {
    "ExecuteTime": {
     "end_time": "2024-07-03T17:23:23.009165Z",
     "start_time": "2024-07-03T17:23:22.283250Z"
    }
   },
   "source": [
    "import sys\n",
    "import pandas as pd\n",
    "# sys.path is a list of absolute path strings\n",
    "sys.path.append('C:\\Projects\\Private\\PropStar')\n",
    "from normalization.normalize import Normalize\n"
   ],
   "outputs": [],
   "execution_count": 1
  },
  {
   "cell_type": "code",
   "id": "0960669e-9a71-4b43-ae53-9b31a42e4116",
   "metadata": {
    "ExecuteTime": {
     "end_time": "2024-07-03T17:23:45.419905Z",
     "start_time": "2024-07-03T17:23:45.409183Z"
    }
   },
   "source": [
    "dataset_group = pd.read_csv('../../datasets/indoor_user_movement_rss_data/groups/MovementAAL_DatasetGroup.csv')\n",
    "dataset_group['sequence_ID'] = dataset_group['#sequence_ID']\n",
    "dataset_group.drop('#sequence_ID', axis=1, inplace=True)"
   ],
   "outputs": [],
   "execution_count": 5
  },
  {
   "cell_type": "code",
   "id": "2dc1508c-2f8d-49a0-95c7-7a71720ecfd1",
   "metadata": {
    "ExecuteTime": {
     "end_time": "2024-07-03T17:23:50.481422Z",
     "start_time": "2024-07-03T17:23:50.467905Z"
    }
   },
   "source": [
    "dataset_group"
   ],
   "outputs": [
    {
     "data": {
      "text/plain": [
       "      dataset_ID  sequence_ID\n",
       "0              1            1\n",
       "1              1            2\n",
       "2              1            3\n",
       "3              1            4\n",
       "4              1            5\n",
       "..           ...          ...\n",
       "309            3          310\n",
       "310            3          311\n",
       "311            3          312\n",
       "312            3          313\n",
       "313            3          314\n",
       "\n",
       "[314 rows x 2 columns]"
      ],
      "text/html": [
       "<div>\n",
       "<style scoped>\n",
       "    .dataframe tbody tr th:only-of-type {\n",
       "        vertical-align: middle;\n",
       "    }\n",
       "\n",
       "    .dataframe tbody tr th {\n",
       "        vertical-align: top;\n",
       "    }\n",
       "\n",
       "    .dataframe thead th {\n",
       "        text-align: right;\n",
       "    }\n",
       "</style>\n",
       "<table border=\"1\" class=\"dataframe\">\n",
       "  <thead>\n",
       "    <tr style=\"text-align: right;\">\n",
       "      <th></th>\n",
       "      <th>dataset_ID</th>\n",
       "      <th>sequence_ID</th>\n",
       "    </tr>\n",
       "  </thead>\n",
       "  <tbody>\n",
       "    <tr>\n",
       "      <th>0</th>\n",
       "      <td>1</td>\n",
       "      <td>1</td>\n",
       "    </tr>\n",
       "    <tr>\n",
       "      <th>1</th>\n",
       "      <td>1</td>\n",
       "      <td>2</td>\n",
       "    </tr>\n",
       "    <tr>\n",
       "      <th>2</th>\n",
       "      <td>1</td>\n",
       "      <td>3</td>\n",
       "    </tr>\n",
       "    <tr>\n",
       "      <th>3</th>\n",
       "      <td>1</td>\n",
       "      <td>4</td>\n",
       "    </tr>\n",
       "    <tr>\n",
       "      <th>4</th>\n",
       "      <td>1</td>\n",
       "      <td>5</td>\n",
       "    </tr>\n",
       "    <tr>\n",
       "      <th>...</th>\n",
       "      <td>...</td>\n",
       "      <td>...</td>\n",
       "    </tr>\n",
       "    <tr>\n",
       "      <th>309</th>\n",
       "      <td>3</td>\n",
       "      <td>310</td>\n",
       "    </tr>\n",
       "    <tr>\n",
       "      <th>310</th>\n",
       "      <td>3</td>\n",
       "      <td>311</td>\n",
       "    </tr>\n",
       "    <tr>\n",
       "      <th>311</th>\n",
       "      <td>3</td>\n",
       "      <td>312</td>\n",
       "    </tr>\n",
       "    <tr>\n",
       "      <th>312</th>\n",
       "      <td>3</td>\n",
       "      <td>313</td>\n",
       "    </tr>\n",
       "    <tr>\n",
       "      <th>313</th>\n",
       "      <td>3</td>\n",
       "      <td>314</td>\n",
       "    </tr>\n",
       "  </tbody>\n",
       "</table>\n",
       "<p>314 rows × 2 columns</p>\n",
       "</div>"
      ]
     },
     "execution_count": 8,
     "metadata": {},
     "output_type": "execute_result"
    }
   ],
   "execution_count": 8
  },
  {
   "cell_type": "code",
   "id": "c3463886-c0bf-4664-afcf-030c1e5ccc5d",
   "metadata": {
    "ExecuteTime": {
     "end_time": "2024-07-03T17:23:58.327386Z",
     "start_time": "2024-07-03T17:23:58.313861Z"
    }
   },
   "source": [
    "paths = pd.read_csv('../../datasets/indoor_user_movement_rss_data/groups/MovementAAL_Paths.csv')\n",
    "paths['sequence_ID'] = paths['#sequence_ID']\n",
    "paths.drop('#sequence_ID', axis=1, inplace=True)"
   ],
   "outputs": [],
   "execution_count": 12
  },
  {
   "cell_type": "code",
   "id": "950695b3-cfae-4a4c-9b54-160ef7feaa4e",
   "metadata": {
    "ExecuteTime": {
     "end_time": "2024-07-03T17:23:58.802980Z",
     "start_time": "2024-07-03T17:23:58.773406Z"
    }
   },
   "source": [
    "paths"
   ],
   "outputs": [
    {
     "data": {
      "text/plain": [
       "      path_ID  sequence_ID\n",
       "0           1            1\n",
       "1           1            2\n",
       "2           1            3\n",
       "3           1            4\n",
       "4           1            5\n",
       "..        ...          ...\n",
       "309         6          310\n",
       "310         6          311\n",
       "311         6          312\n",
       "312         6          313\n",
       "313         6          314\n",
       "\n",
       "[314 rows x 2 columns]"
      ],
      "text/html": [
       "<div>\n",
       "<style scoped>\n",
       "    .dataframe tbody tr th:only-of-type {\n",
       "        vertical-align: middle;\n",
       "    }\n",
       "\n",
       "    .dataframe tbody tr th {\n",
       "        vertical-align: top;\n",
       "    }\n",
       "\n",
       "    .dataframe thead th {\n",
       "        text-align: right;\n",
       "    }\n",
       "</style>\n",
       "<table border=\"1\" class=\"dataframe\">\n",
       "  <thead>\n",
       "    <tr style=\"text-align: right;\">\n",
       "      <th></th>\n",
       "      <th>path_ID</th>\n",
       "      <th>sequence_ID</th>\n",
       "    </tr>\n",
       "  </thead>\n",
       "  <tbody>\n",
       "    <tr>\n",
       "      <th>0</th>\n",
       "      <td>1</td>\n",
       "      <td>1</td>\n",
       "    </tr>\n",
       "    <tr>\n",
       "      <th>1</th>\n",
       "      <td>1</td>\n",
       "      <td>2</td>\n",
       "    </tr>\n",
       "    <tr>\n",
       "      <th>2</th>\n",
       "      <td>1</td>\n",
       "      <td>3</td>\n",
       "    </tr>\n",
       "    <tr>\n",
       "      <th>3</th>\n",
       "      <td>1</td>\n",
       "      <td>4</td>\n",
       "    </tr>\n",
       "    <tr>\n",
       "      <th>4</th>\n",
       "      <td>1</td>\n",
       "      <td>5</td>\n",
       "    </tr>\n",
       "    <tr>\n",
       "      <th>...</th>\n",
       "      <td>...</td>\n",
       "      <td>...</td>\n",
       "    </tr>\n",
       "    <tr>\n",
       "      <th>309</th>\n",
       "      <td>6</td>\n",
       "      <td>310</td>\n",
       "    </tr>\n",
       "    <tr>\n",
       "      <th>310</th>\n",
       "      <td>6</td>\n",
       "      <td>311</td>\n",
       "    </tr>\n",
       "    <tr>\n",
       "      <th>311</th>\n",
       "      <td>6</td>\n",
       "      <td>312</td>\n",
       "    </tr>\n",
       "    <tr>\n",
       "      <th>312</th>\n",
       "      <td>6</td>\n",
       "      <td>313</td>\n",
       "    </tr>\n",
       "    <tr>\n",
       "      <th>313</th>\n",
       "      <td>6</td>\n",
       "      <td>314</td>\n",
       "    </tr>\n",
       "  </tbody>\n",
       "</table>\n",
       "<p>314 rows × 2 columns</p>\n",
       "</div>"
      ]
     },
     "execution_count": 13,
     "metadata": {},
     "output_type": "execute_result"
    }
   ],
   "execution_count": 13
  },
  {
   "cell_type": "code",
   "id": "bded7400-17da-4c44-b1bf-e110bc06f2cf",
   "metadata": {
    "ExecuteTime": {
     "end_time": "2024-07-03T17:24:04.759245Z",
     "start_time": "2024-07-03T17:24:04.737928Z"
    }
   },
   "source": [
    "target = pd.read_csv('../../datasets/indoor_user_movement_rss_data/MovementAAL_target.csv')\n",
    "target['class_label'] = target[' class_label']\n",
    "target['sequence_ID'] = target['#sequence_ID']\n",
    "target.drop(['#sequence_ID', ' class_label'], axis=1, inplace=True)"
   ],
   "outputs": [],
   "execution_count": 15
  },
  {
   "cell_type": "code",
   "id": "25e3aee5-85e5-409b-8284-61cfb9b56be3",
   "metadata": {
    "ExecuteTime": {
     "end_time": "2024-07-03T17:24:05.406023Z",
     "start_time": "2024-07-03T17:24:05.392255Z"
    }
   },
   "source": [
    "target.columns"
   ],
   "outputs": [
    {
     "data": {
      "text/plain": [
       "Index(['class_label', 'sequence_ID'], dtype='object')"
      ]
     },
     "execution_count": 16,
     "metadata": {},
     "output_type": "execute_result"
    }
   ],
   "execution_count": 16
  },
  {
   "cell_type": "code",
   "id": "d65af465-dbd5-41ea-9078-b1ab612c73da",
   "metadata": {
    "ExecuteTime": {
     "end_time": "2024-07-03T17:24:06.298214Z",
     "start_time": "2024-07-03T17:24:06.279198Z"
    }
   },
   "source": [
    "target"
   ],
   "outputs": [
    {
     "data": {
      "text/plain": [
       "     class_label  sequence_ID\n",
       "0              1            1\n",
       "1              1            2\n",
       "2              1            3\n",
       "3              1            4\n",
       "4              1            5\n",
       "..           ...          ...\n",
       "309           -1          310\n",
       "310           -1          311\n",
       "311           -1          312\n",
       "312           -1          313\n",
       "313           -1          314\n",
       "\n",
       "[314 rows x 2 columns]"
      ],
      "text/html": [
       "<div>\n",
       "<style scoped>\n",
       "    .dataframe tbody tr th:only-of-type {\n",
       "        vertical-align: middle;\n",
       "    }\n",
       "\n",
       "    .dataframe tbody tr th {\n",
       "        vertical-align: top;\n",
       "    }\n",
       "\n",
       "    .dataframe thead th {\n",
       "        text-align: right;\n",
       "    }\n",
       "</style>\n",
       "<table border=\"1\" class=\"dataframe\">\n",
       "  <thead>\n",
       "    <tr style=\"text-align: right;\">\n",
       "      <th></th>\n",
       "      <th>class_label</th>\n",
       "      <th>sequence_ID</th>\n",
       "    </tr>\n",
       "  </thead>\n",
       "  <tbody>\n",
       "    <tr>\n",
       "      <th>0</th>\n",
       "      <td>1</td>\n",
       "      <td>1</td>\n",
       "    </tr>\n",
       "    <tr>\n",
       "      <th>1</th>\n",
       "      <td>1</td>\n",
       "      <td>2</td>\n",
       "    </tr>\n",
       "    <tr>\n",
       "      <th>2</th>\n",
       "      <td>1</td>\n",
       "      <td>3</td>\n",
       "    </tr>\n",
       "    <tr>\n",
       "      <th>3</th>\n",
       "      <td>1</td>\n",
       "      <td>4</td>\n",
       "    </tr>\n",
       "    <tr>\n",
       "      <th>4</th>\n",
       "      <td>1</td>\n",
       "      <td>5</td>\n",
       "    </tr>\n",
       "    <tr>\n",
       "      <th>...</th>\n",
       "      <td>...</td>\n",
       "      <td>...</td>\n",
       "    </tr>\n",
       "    <tr>\n",
       "      <th>309</th>\n",
       "      <td>-1</td>\n",
       "      <td>310</td>\n",
       "    </tr>\n",
       "    <tr>\n",
       "      <th>310</th>\n",
       "      <td>-1</td>\n",
       "      <td>311</td>\n",
       "    </tr>\n",
       "    <tr>\n",
       "      <th>311</th>\n",
       "      <td>-1</td>\n",
       "      <td>312</td>\n",
       "    </tr>\n",
       "    <tr>\n",
       "      <th>312</th>\n",
       "      <td>-1</td>\n",
       "      <td>313</td>\n",
       "    </tr>\n",
       "    <tr>\n",
       "      <th>313</th>\n",
       "      <td>-1</td>\n",
       "      <td>314</td>\n",
       "    </tr>\n",
       "  </tbody>\n",
       "</table>\n",
       "<p>314 rows × 2 columns</p>\n",
       "</div>"
      ]
     },
     "execution_count": 17,
     "metadata": {},
     "output_type": "execute_result"
    }
   ],
   "execution_count": 17
  },
  {
   "cell_type": "code",
   "id": "97ed8c03-dd48-473d-9f10-9e8621823c3f",
   "metadata": {
    "ExecuteTime": {
     "end_time": "2024-07-03T17:24:11.943315Z",
     "start_time": "2024-07-03T17:24:11.895535Z"
    }
   },
   "source": [
    "import os \n",
    "\n",
    "files = os.listdir('../../datasets/indoor_user_movement_rss_data/dataset')\n",
    "movements_df = pd.DataFrame()"
   ],
   "outputs": [],
   "execution_count": 19
  },
  {
   "cell_type": "code",
   "id": "eee77de5-e0be-4d33-8c9e-2dcb256c5cc4",
   "metadata": {
    "ExecuteTime": {
     "end_time": "2024-07-03T17:24:18.057288Z",
     "start_time": "2024-07-03T17:24:17.080827Z"
    }
   },
   "source": [
    "for file in files:\n",
    "    if file.startswith('.'):\n",
    "        continue\n",
    "    seq_id = file.split(\"_\")[2].replace(\".csv\", \"\")\n",
    "    file_df = pd.read_csv(f\"../../datasets/indoor_user_movement_rss_data/dataset/{file}\")\n",
    "    file_df['seq_id'] = seq_id\n",
    "    movements_df = pd.concat([movements_df, file_df])"
   ],
   "outputs": [],
   "execution_count": 21
  },
  {
   "cell_type": "code",
   "id": "2445c30d-0f23-49aa-b1a8-cf628a9536a1",
   "metadata": {
    "ExecuteTime": {
     "end_time": "2024-07-03T17:24:18.866648Z",
     "start_time": "2024-07-03T17:24:18.859128Z"
    }
   },
   "source": [
    "movements_df.reset_index(inplace=True)\n",
    "movements_df.drop(\"index\", axis=1, inplace=True)"
   ],
   "outputs": [],
   "execution_count": 22
  },
  {
   "cell_type": "code",
   "id": "36befd48-9cd0-4b5d-aff1-678e26259b22",
   "metadata": {
    "ExecuteTime": {
     "end_time": "2024-07-03T17:24:19.725352Z",
     "start_time": "2024-07-03T17:24:19.718587Z"
    }
   },
   "source": [
    "movements_df.reset_index(inplace=True, names='id')"
   ],
   "outputs": [],
   "execution_count": 23
  },
  {
   "cell_type": "code",
   "id": "0aa78699-6ff1-4a64-a463-e077340f3237",
   "metadata": {
    "ExecuteTime": {
     "end_time": "2024-07-03T17:24:20.698227Z",
     "start_time": "2024-07-03T17:24:20.686541Z"
    }
   },
   "source": [
    "movements_df['RSS_anchor1'] = movements_df['#RSS_anchor1']\n",
    "movements_df.drop('#RSS_anchor1', axis=1, inplace=True)"
   ],
   "outputs": [],
   "execution_count": 24
  },
  {
   "cell_type": "code",
   "id": "cc84289d-7761-49c7-9697-327d7856032e",
   "metadata": {
    "ExecuteTime": {
     "end_time": "2024-07-03T17:24:21.038316Z",
     "start_time": "2024-07-03T17:24:21.023366Z"
    }
   },
   "source": [
    "movements_df['seq_id'] = pd.to_numeric(movements_df['seq_id'])"
   ],
   "outputs": [],
   "execution_count": 25
  },
  {
   "cell_type": "code",
   "id": "c2c9ccbd-721e-4df3-938b-7897a7701c4b",
   "metadata": {
    "ExecuteTime": {
     "end_time": "2024-07-03T17:24:21.632168Z",
     "start_time": "2024-07-03T17:24:21.616124Z"
    }
   },
   "source": [
    "len(movements_df['seq_id'].unique())"
   ],
   "outputs": [
    {
     "data": {
      "text/plain": [
       "314"
      ]
     },
     "execution_count": 26,
     "metadata": {},
     "output_type": "execute_result"
    }
   ],
   "execution_count": 26
  },
  {
   "cell_type": "code",
   "id": "2a454794-c7a6-43e9-9412-99cd89fe9f28",
   "metadata": {
    "ExecuteTime": {
     "end_time": "2024-07-03T17:24:22.024505Z",
     "start_time": "2024-07-03T17:24:22.011429Z"
    }
   },
   "source": [
    "movements_df"
   ],
   "outputs": [
    {
     "data": {
      "text/plain": [
       "          id   RSS_anchor2   RSS_anchor3   RSS_anchor4  seq_id  RSS_anchor1\n",
       "0          0         -0.48       0.28571          0.30       1     -0.90476\n",
       "1          1         -0.32       0.14286          0.30       1     -0.57143\n",
       "2          2         -0.28      -0.14286          0.35       1     -0.38095\n",
       "3          3         -0.20      -0.47619          0.35       1     -0.28571\n",
       "4          4         -0.20       0.14286         -0.20       1     -0.14286\n",
       "...      ...           ...           ...           ...     ...          ...\n",
       "13192  13192          0.28      -0.76190         -0.55      99      0.19048\n",
       "13193  13193          0.40      -1.00000         -0.75      99      0.19048\n",
       "13194  13194          0.24      -1.00000         -0.65      99      0.28571\n",
       "13195  13195          0.20      -0.85714         -0.55      99      0.33333\n",
       "13196  13196          0.60      -1.00000         -0.60      99      0.42857\n",
       "\n",
       "[13197 rows x 6 columns]"
      ],
      "text/html": [
       "<div>\n",
       "<style scoped>\n",
       "    .dataframe tbody tr th:only-of-type {\n",
       "        vertical-align: middle;\n",
       "    }\n",
       "\n",
       "    .dataframe tbody tr th {\n",
       "        vertical-align: top;\n",
       "    }\n",
       "\n",
       "    .dataframe thead th {\n",
       "        text-align: right;\n",
       "    }\n",
       "</style>\n",
       "<table border=\"1\" class=\"dataframe\">\n",
       "  <thead>\n",
       "    <tr style=\"text-align: right;\">\n",
       "      <th></th>\n",
       "      <th>id</th>\n",
       "      <th>RSS_anchor2</th>\n",
       "      <th>RSS_anchor3</th>\n",
       "      <th>RSS_anchor4</th>\n",
       "      <th>seq_id</th>\n",
       "      <th>RSS_anchor1</th>\n",
       "    </tr>\n",
       "  </thead>\n",
       "  <tbody>\n",
       "    <tr>\n",
       "      <th>0</th>\n",
       "      <td>0</td>\n",
       "      <td>-0.48</td>\n",
       "      <td>0.28571</td>\n",
       "      <td>0.30</td>\n",
       "      <td>1</td>\n",
       "      <td>-0.90476</td>\n",
       "    </tr>\n",
       "    <tr>\n",
       "      <th>1</th>\n",
       "      <td>1</td>\n",
       "      <td>-0.32</td>\n",
       "      <td>0.14286</td>\n",
       "      <td>0.30</td>\n",
       "      <td>1</td>\n",
       "      <td>-0.57143</td>\n",
       "    </tr>\n",
       "    <tr>\n",
       "      <th>2</th>\n",
       "      <td>2</td>\n",
       "      <td>-0.28</td>\n",
       "      <td>-0.14286</td>\n",
       "      <td>0.35</td>\n",
       "      <td>1</td>\n",
       "      <td>-0.38095</td>\n",
       "    </tr>\n",
       "    <tr>\n",
       "      <th>3</th>\n",
       "      <td>3</td>\n",
       "      <td>-0.20</td>\n",
       "      <td>-0.47619</td>\n",
       "      <td>0.35</td>\n",
       "      <td>1</td>\n",
       "      <td>-0.28571</td>\n",
       "    </tr>\n",
       "    <tr>\n",
       "      <th>4</th>\n",
       "      <td>4</td>\n",
       "      <td>-0.20</td>\n",
       "      <td>0.14286</td>\n",
       "      <td>-0.20</td>\n",
       "      <td>1</td>\n",
       "      <td>-0.14286</td>\n",
       "    </tr>\n",
       "    <tr>\n",
       "      <th>...</th>\n",
       "      <td>...</td>\n",
       "      <td>...</td>\n",
       "      <td>...</td>\n",
       "      <td>...</td>\n",
       "      <td>...</td>\n",
       "      <td>...</td>\n",
       "    </tr>\n",
       "    <tr>\n",
       "      <th>13192</th>\n",
       "      <td>13192</td>\n",
       "      <td>0.28</td>\n",
       "      <td>-0.76190</td>\n",
       "      <td>-0.55</td>\n",
       "      <td>99</td>\n",
       "      <td>0.19048</td>\n",
       "    </tr>\n",
       "    <tr>\n",
       "      <th>13193</th>\n",
       "      <td>13193</td>\n",
       "      <td>0.40</td>\n",
       "      <td>-1.00000</td>\n",
       "      <td>-0.75</td>\n",
       "      <td>99</td>\n",
       "      <td>0.19048</td>\n",
       "    </tr>\n",
       "    <tr>\n",
       "      <th>13194</th>\n",
       "      <td>13194</td>\n",
       "      <td>0.24</td>\n",
       "      <td>-1.00000</td>\n",
       "      <td>-0.65</td>\n",
       "      <td>99</td>\n",
       "      <td>0.28571</td>\n",
       "    </tr>\n",
       "    <tr>\n",
       "      <th>13195</th>\n",
       "      <td>13195</td>\n",
       "      <td>0.20</td>\n",
       "      <td>-0.85714</td>\n",
       "      <td>-0.55</td>\n",
       "      <td>99</td>\n",
       "      <td>0.33333</td>\n",
       "    </tr>\n",
       "    <tr>\n",
       "      <th>13196</th>\n",
       "      <td>13196</td>\n",
       "      <td>0.60</td>\n",
       "      <td>-1.00000</td>\n",
       "      <td>-0.60</td>\n",
       "      <td>99</td>\n",
       "      <td>0.42857</td>\n",
       "    </tr>\n",
       "  </tbody>\n",
       "</table>\n",
       "<p>13197 rows × 6 columns</p>\n",
       "</div>"
      ]
     },
     "execution_count": 27,
     "metadata": {},
     "output_type": "execute_result"
    }
   ],
   "execution_count": 27
  },
  {
   "cell_type": "code",
   "id": "fa9e15ff-a646-46e6-bc25-8c13bf35db5d",
   "metadata": {
    "ExecuteTime": {
     "end_time": "2024-07-03T17:24:22.871003Z",
     "start_time": "2024-07-03T17:24:22.862909Z"
    }
   },
   "source": [
    "norm = Normalize(denormalized_table=target, denormalized_table_name=\"target\")"
   ],
   "outputs": [],
   "execution_count": 28
  },
  {
   "cell_type": "code",
   "id": "95f584a3-c216-4155-b0cc-2841a346dcea",
   "metadata": {
    "ExecuteTime": {
     "end_time": "2024-07-03T17:24:23.643152Z",
     "start_time": "2024-07-03T17:24:23.638190Z"
    }
   },
   "source": [
    "norm.entity_set['target'].drop(\"id\", axis=1, inplace=True)"
   ],
   "outputs": [],
   "execution_count": 29
  },
  {
   "cell_type": "code",
   "id": "19d3f74b-ac8f-47c1-9193-9100628aec0f",
   "metadata": {
    "ExecuteTime": {
     "end_time": "2024-07-03T17:24:24.376434Z",
     "start_time": "2024-07-03T17:24:24.366013Z"
    }
   },
   "source": [
    "norm.entity_set['movements'] = movements_df"
   ],
   "outputs": [],
   "execution_count": 30
  },
  {
   "cell_type": "code",
   "id": "f8b87a14-bc6f-436b-80c2-618e6c5324bf",
   "metadata": {
    "ExecuteTime": {
     "end_time": "2024-07-03T17:24:24.742354Z",
     "start_time": "2024-07-03T17:24:24.725973Z"
    }
   },
   "source": [
    "norm.entity_set['dataset_groups'] = dataset_group\n",
    "norm.entity_set['paths'] = paths"
   ],
   "outputs": [],
   "execution_count": 31
  },
  {
   "cell_type": "code",
   "id": "64c796b8-5ecd-4b6d-a06d-845d57332a5d",
   "metadata": {
    "ExecuteTime": {
     "end_time": "2024-07-03T17:24:25.128805Z",
     "start_time": "2024-07-03T17:24:25.123206Z"
    }
   },
   "source": [
    "norm.primary_keys['target'] = \"sequence_ID\"\n",
    "norm.primary_keys['movements'] = \"id\"\n",
    "norm.primary_keys['dataset_groups'] = 'sequence_ID'\n",
    "norm.primary_keys['paths'] = 'sequence_ID'"
   ],
   "outputs": [],
   "execution_count": 32
  },
  {
   "cell_type": "code",
   "id": "c9faf7fd-5d87-4b57-957f-761f5595f469",
   "metadata": {
    "ExecuteTime": {
     "end_time": "2024-07-03T17:24:25.580436Z",
     "start_time": "2024-07-03T17:24:25.564018Z"
    }
   },
   "source": [
    "norm.primary_keys"
   ],
   "outputs": [
    {
     "data": {
      "text/plain": [
       "{'target': 'sequence_ID',\n",
       " 'movements': 'id',\n",
       " 'dataset_groups': 'sequence_ID',\n",
       " 'paths': 'sequence_ID'}"
      ]
     },
     "execution_count": 33,
     "metadata": {},
     "output_type": "execute_result"
    }
   ],
   "execution_count": 33
  },
  {
   "cell_type": "code",
   "id": "6535cbf5-6205-49f0-8431-78c5072c8a05",
   "metadata": {
    "ExecuteTime": {
     "end_time": "2024-07-03T17:24:26.909795Z",
     "start_time": "2024-07-03T17:24:26.893078Z"
    }
   },
   "source": [
    "norm.add_custom_relation(parent_table_name='target', parent_table_column='sequence_ID', child_table_name='movements', child_table_column='seq_id')\n",
    "norm.add_custom_relation(parent_table_name='target', parent_table_column='sequence_ID', child_table_name='dataset_groups', child_table_column='sequence_ID')\n",
    "norm.add_custom_relation(parent_table_name='target', parent_table_column='sequence_ID', child_table_name='paths', child_table_column='sequence_ID')"
   ],
   "outputs": [],
   "execution_count": 34
  },
  {
   "cell_type": "code",
   "id": "a2a31c51-2ce7-4c58-bc89-34bc3b3ba092",
   "metadata": {
    "ExecuteTime": {
     "end_time": "2024-07-03T17:24:28.040623Z",
     "start_time": "2024-07-03T17:24:28.013084Z"
    }
   },
   "source": [
    "norm.relations"
   ],
   "outputs": [
    {
     "data": {
      "text/plain": [
       "{'target': {'movements': ('sequence_ID', 'seq_id'),\n",
       "  'dataset_groups': ('sequence_ID', 'sequence_ID'),\n",
       "  'paths': ('sequence_ID', 'sequence_ID')}}"
      ]
     },
     "execution_count": 35,
     "metadata": {},
     "output_type": "execute_result"
    }
   ],
   "execution_count": 35
  },
  {
   "cell_type": "code",
   "id": "81fa5eee-5444-4c5c-b3cb-33158d44f118",
   "metadata": {
    "ExecuteTime": {
     "end_time": "2024-07-03T17:24:30.235957Z",
     "start_time": "2024-07-03T17:24:28.494315Z"
    }
   },
   "source": [
    "norm.persist_entity_set(database_name='indoor_user_movement')"
   ],
   "outputs": [
    {
     "name": "stdout",
     "output_type": "stream",
     "text": [
      "2024-07-03 19:24:28,809 INFO sqlalchemy.engine.Engine SELECT CAST(SERVERPROPERTY('ProductVersion') AS VARCHAR)\n"
     ]
    },
    {
     "name": "stderr",
     "output_type": "stream",
     "text": [
      "[07-03 19:24:28] p38176 {C:\\Projects\\Private\\PropStar\\venv\\lib\\site-packages\\sqlalchemy\\engine\\base.py:1897} INFO - SELECT CAST(SERVERPROPERTY('ProductVersion') AS VARCHAR)\n"
     ]
    },
    {
     "name": "stdout",
     "output_type": "stream",
     "text": [
      "2024-07-03 19:24:28,811 INFO sqlalchemy.engine.Engine [raw sql] ()\n"
     ]
    },
    {
     "name": "stderr",
     "output_type": "stream",
     "text": [
      "[07-03 19:24:28] p38176 {C:\\Projects\\Private\\PropStar\\venv\\lib\\site-packages\\sqlalchemy\\engine\\base.py:1902} INFO - [raw sql] ()\n"
     ]
    },
    {
     "name": "stdout",
     "output_type": "stream",
     "text": [
      "2024-07-03 19:24:28,814 INFO sqlalchemy.engine.Engine SELECT schema_name()\n"
     ]
    },
    {
     "name": "stderr",
     "output_type": "stream",
     "text": [
      "[07-03 19:24:28] p38176 {C:\\Projects\\Private\\PropStar\\venv\\lib\\site-packages\\sqlalchemy\\engine\\base.py:1897} INFO - SELECT schema_name()\n"
     ]
    },
    {
     "name": "stdout",
     "output_type": "stream",
     "text": [
      "2024-07-03 19:24:28,816 INFO sqlalchemy.engine.Engine [generated in 0.00180s] ()\n"
     ]
    },
    {
     "name": "stderr",
     "output_type": "stream",
     "text": [
      "[07-03 19:24:28] p38176 {C:\\Projects\\Private\\PropStar\\venv\\lib\\site-packages\\sqlalchemy\\engine\\base.py:1902} INFO - [generated in 0.00180s] ()\n"
     ]
    },
    {
     "name": "stdout",
     "output_type": "stream",
     "text": [
      "2024-07-03 19:24:28,821 INFO sqlalchemy.engine.Engine SELECT CAST('test max support' AS NVARCHAR(max))\n"
     ]
    },
    {
     "name": "stderr",
     "output_type": "stream",
     "text": [
      "[07-03 19:24:28] p38176 {C:\\Projects\\Private\\PropStar\\venv\\lib\\site-packages\\sqlalchemy\\engine\\base.py:1897} INFO - SELECT CAST('test max support' AS NVARCHAR(max))\n"
     ]
    },
    {
     "name": "stdout",
     "output_type": "stream",
     "text": [
      "2024-07-03 19:24:28,823 INFO sqlalchemy.engine.Engine [generated in 0.00140s] ()\n"
     ]
    },
    {
     "name": "stderr",
     "output_type": "stream",
     "text": [
      "[07-03 19:24:28] p38176 {C:\\Projects\\Private\\PropStar\\venv\\lib\\site-packages\\sqlalchemy\\engine\\base.py:1902} INFO - [generated in 0.00140s] ()\n"
     ]
    },
    {
     "name": "stdout",
     "output_type": "stream",
     "text": [
      "2024-07-03 19:24:28,826 INFO sqlalchemy.engine.Engine SELECT 1 FROM fn_listextendedproperty(default, default, default, default, default, default, default)\n"
     ]
    },
    {
     "name": "stderr",
     "output_type": "stream",
     "text": [
      "[07-03 19:24:28] p38176 {C:\\Projects\\Private\\PropStar\\venv\\lib\\site-packages\\sqlalchemy\\engine\\base.py:1897} INFO - SELECT 1 FROM fn_listextendedproperty(default, default, default, default, default, default, default)\n"
     ]
    },
    {
     "name": "stdout",
     "output_type": "stream",
     "text": [
      "2024-07-03 19:24:28,828 INFO sqlalchemy.engine.Engine [generated in 0.00127s] ()\n"
     ]
    },
    {
     "name": "stderr",
     "output_type": "stream",
     "text": [
      "[07-03 19:24:28] p38176 {C:\\Projects\\Private\\PropStar\\venv\\lib\\site-packages\\sqlalchemy\\engine\\base.py:1902} INFO - [generated in 0.00127s] ()\n"
     ]
    },
    {
     "name": "stdout",
     "output_type": "stream",
     "text": [
      "2024-07-03 19:24:28,830 INFO sqlalchemy.engine.Engine BEGIN (implicit)\n"
     ]
    },
    {
     "name": "stderr",
     "output_type": "stream",
     "text": [
      "[07-03 19:24:28] p38176 {C:\\Projects\\Private\\PropStar\\venv\\lib\\site-packages\\sqlalchemy\\engine\\base.py:1087} INFO - BEGIN (implicit)\n"
     ]
    },
    {
     "name": "stdout",
     "output_type": "stream",
     "text": [
      "2024-07-03 19:24:28,831 INFO sqlalchemy.engine.Engine IF (SCHEMA_ID('indoor_user_movement') IS NOT NULL) BEGIN DROP SCHEMA [indoor_user_movement]; END \n"
     ]
    },
    {
     "name": "stderr",
     "output_type": "stream",
     "text": [
      "[07-03 19:24:28] p38176 {C:\\Projects\\Private\\PropStar\\venv\\lib\\site-packages\\sqlalchemy\\engine\\base.py:1897} INFO - IF (SCHEMA_ID('indoor_user_movement') IS NOT NULL) BEGIN DROP SCHEMA [indoor_user_movement]; END \n"
     ]
    },
    {
     "name": "stdout",
     "output_type": "stream",
     "text": [
      "2024-07-03 19:24:28,833 INFO sqlalchemy.engine.Engine [generated in 0.00271s] ()\n"
     ]
    },
    {
     "name": "stderr",
     "output_type": "stream",
     "text": [
      "[07-03 19:24:28] p38176 {C:\\Projects\\Private\\PropStar\\venv\\lib\\site-packages\\sqlalchemy\\engine\\base.py:1902} INFO - [generated in 0.00271s] ()\n"
     ]
    },
    {
     "name": "stdout",
     "output_type": "stream",
     "text": [
      "2024-07-03 19:24:28,837 INFO sqlalchemy.engine.Engine CREATE SCHEMA [indoor_user_movement] AUTHORIZATION [dbo]\n"
     ]
    },
    {
     "name": "stderr",
     "output_type": "stream",
     "text": [
      "[07-03 19:24:28] p38176 {C:\\Projects\\Private\\PropStar\\venv\\lib\\site-packages\\sqlalchemy\\engine\\base.py:1897} INFO - CREATE SCHEMA [indoor_user_movement] AUTHORIZATION [dbo]\n"
     ]
    },
    {
     "name": "stdout",
     "output_type": "stream",
     "text": [
      "2024-07-03 19:24:28,839 INFO sqlalchemy.engine.Engine [generated in 0.00165s] ()\n"
     ]
    },
    {
     "name": "stderr",
     "output_type": "stream",
     "text": [
      "[07-03 19:24:28] p38176 {C:\\Projects\\Private\\PropStar\\venv\\lib\\site-packages\\sqlalchemy\\engine\\base.py:1902} INFO - [generated in 0.00165s] ()\n"
     ]
    },
    {
     "name": "stdout",
     "output_type": "stream",
     "text": [
      "2024-07-03 19:24:28,855 INFO sqlalchemy.engine.Engine SELECT [INFORMATION_SCHEMA].[TABLES].[TABLE_NAME] \n",
      "FROM [INFORMATION_SCHEMA].[TABLES] \n",
      "WHERE ([INFORMATION_SCHEMA].[TABLES].[TABLE_TYPE] = CAST(? AS NVARCHAR(max)) OR [INFORMATION_SCHEMA].[TABLES].[TABLE_TYPE] = CAST(? AS NVARCHAR(max))) AND [INFORMATION_SCHEMA].[TABLES].[TABLE_NAME] = CAST(? AS NVARCHAR(max)) AND [INFORMATION_SCHEMA].[TABLES].[TABLE_SCHEMA] = CAST(? AS NVARCHAR(max))\n"
     ]
    },
    {
     "name": "stderr",
     "output_type": "stream",
     "text": [
      "[07-03 19:24:28] p38176 {C:\\Projects\\Private\\PropStar\\venv\\lib\\site-packages\\sqlalchemy\\engine\\base.py:1897} INFO - SELECT [INFORMATION_SCHEMA].[TABLES].[TABLE_NAME] \n",
      "FROM [INFORMATION_SCHEMA].[TABLES] \n",
      "WHERE ([INFORMATION_SCHEMA].[TABLES].[TABLE_TYPE] = CAST(? AS NVARCHAR(max)) OR [INFORMATION_SCHEMA].[TABLES].[TABLE_TYPE] = CAST(? AS NVARCHAR(max))) AND [INFORMATION_SCHEMA].[TABLES].[TABLE_NAME] = CAST(? AS NVARCHAR(max)) AND [INFORMATION_SCHEMA].[TABLES].[TABLE_SCHEMA] = CAST(? AS NVARCHAR(max))\n"
     ]
    },
    {
     "name": "stdout",
     "output_type": "stream",
     "text": [
      "2024-07-03 19:24:28,857 INFO sqlalchemy.engine.Engine [generated in 0.00199s] ('BASE TABLE', 'VIEW', 'target', 'indoor_user_movement')\n"
     ]
    },
    {
     "name": "stderr",
     "output_type": "stream",
     "text": [
      "[07-03 19:24:28] p38176 {C:\\Projects\\Private\\PropStar\\venv\\lib\\site-packages\\sqlalchemy\\engine\\base.py:1902} INFO - [generated in 0.00199s] ('BASE TABLE', 'VIEW', 'target', 'indoor_user_movement')\n"
     ]
    },
    {
     "name": "stdout",
     "output_type": "stream",
     "text": [
      "2024-07-03 19:24:28,890 INFO sqlalchemy.engine.Engine \n",
      "CREATE TABLE indoor_user_movement.target (\n",
      "\tclass_label BIGINT NULL, \n",
      "\t[sequence_ID] BIGINT NULL\n",
      ")\n",
      "\n",
      "\n"
     ]
    },
    {
     "name": "stderr",
     "output_type": "stream",
     "text": [
      "[07-03 19:24:28] p38176 {C:\\Projects\\Private\\PropStar\\venv\\lib\\site-packages\\sqlalchemy\\engine\\base.py:1897} INFO - \n",
      "CREATE TABLE indoor_user_movement.target (\n",
      "\tclass_label BIGINT NULL, \n",
      "\t[sequence_ID] BIGINT NULL\n",
      ")\n",
      "\n",
      "\n"
     ]
    },
    {
     "name": "stdout",
     "output_type": "stream",
     "text": [
      "2024-07-03 19:24:28,892 INFO sqlalchemy.engine.Engine [no key 0.00198s] ()\n"
     ]
    },
    {
     "name": "stderr",
     "output_type": "stream",
     "text": [
      "[07-03 19:24:28] p38176 {C:\\Projects\\Private\\PropStar\\venv\\lib\\site-packages\\sqlalchemy\\engine\\base.py:1902} INFO - [no key 0.00198s] ()\n"
     ]
    },
    {
     "name": "stdout",
     "output_type": "stream",
     "text": [
      "2024-07-03 19:24:28,915 INFO sqlalchemy.engine.Engine INSERT INTO indoor_user_movement.target (class_label, [sequence_ID]) VALUES (?, ?), (?, ?), (?, ?), (?, ?), (?, ?), (?, ?), (?, ?), (?, ?), (?, ?), (?, ?), (?, ?), (?, ?), (?, ?), (?, ?), (?, ?), (?, ?), (?, ?), (?, ?), (?, ?), (?, ?), (?, ?), (?, ?) ... 2236 characters truncated ... , ?), (?, ?), (?, ?), (?, ?), (?, ?), (?, ?), (?, ?), (?, ?), (?, ?), (?, ?), (?, ?), (?, ?), (?, ?)\n"
     ]
    },
    {
     "name": "stderr",
     "output_type": "stream",
     "text": [
      "[07-03 19:24:28] p38176 {C:\\Projects\\Private\\PropStar\\venv\\lib\\site-packages\\sqlalchemy\\engine\\base.py:2064} INFO - INSERT INTO indoor_user_movement.target (class_label, [sequence_ID]) VALUES (?, ?), (?, ?), (?, ?), (?, ?), (?, ?), (?, ?), (?, ?), (?, ?), (?, ?), (?, ?), (?, ?), (?, ?), (?, ?), (?, ?), (?, ?), (?, ?), (?, ?), (?, ?), (?, ?), (?, ?), (?, ?), (?, ?) ... 2236 characters truncated ... , ?), (?, ?), (?, ?), (?, ?), (?, ?), (?, ?), (?, ?), (?, ?), (?, ?), (?, ?), (?, ?), (?, ?), (?, ?)\n"
     ]
    },
    {
     "name": "stdout",
     "output_type": "stream",
     "text": [
      "2024-07-03 19:24:28,917 INFO sqlalchemy.engine.Engine [generated in 0.00042s (insertmanyvalues) 1/1 (unordered)] (1, 1, 1, 2, 1, 3, 1, 4, 1, 5, 1, 6, 1, 7, 1, 8, 1, 9, 1, 10, 1, 11, 1, 12, 1, 13, 1, 14, 1, 15, 1, 16, 1, 17, 1, 18, 1, 19, 1, 20, 1, 21, 1, 22, 1, 23, 1, 24, 1, 25 ... 528 parameters truncated ... 1, 290, 1, 291, 1, 292, 1, 293, 1, 294, 1, 295, 1, 296, 1, 297, 1, 298, 1, 299, 1, 300, 1, 301, -1, 302, -1, 303, -1, 304, -1, 305, -1, 306, -1, 307, -1, 308, -1, 309, -1, 310, -1, 311, -1, 312, -1, 313, -1, 314)\n"
     ]
    },
    {
     "name": "stderr",
     "output_type": "stream",
     "text": [
      "[07-03 19:24:28] p38176 {C:\\Projects\\Private\\PropStar\\venv\\lib\\site-packages\\sqlalchemy\\engine\\base.py:2082} INFO - [generated in 0.00042s (insertmanyvalues) 1/1 (unordered)] (1, 1, 1, 2, 1, 3, 1, 4, 1, 5, 1, 6, 1, 7, 1, 8, 1, 9, 1, 10, 1, 11, 1, 12, 1, 13, 1, 14, 1, 15, 1, 16, 1, 17, 1, 18, 1, 19, 1, 20, 1, 21, 1, 22, 1, 23, 1, 24, 1, 25 ... 528 parameters truncated ... 1, 290, 1, 291, 1, 292, 1, 293, 1, 294, 1, 295, 1, 296, 1, 297, 1, 298, 1, 299, 1, 300, 1, 301, -1, 302, -1, 303, -1, 304, -1, 305, -1, 306, -1, 307, -1, 308, -1, 309, -1, 310, -1, 311, -1, 312, -1, 313, -1, 314)\n"
     ]
    },
    {
     "name": "stdout",
     "output_type": "stream",
     "text": [
      "2024-07-03 19:24:28,975 INFO sqlalchemy.engine.Engine ALTER TABLE indoor_user_movement.target ALTER COLUMN sequence_ID BIGINT NOT NULL\n"
     ]
    },
    {
     "name": "stderr",
     "output_type": "stream",
     "text": [
      "[07-03 19:24:28] p38176 {C:\\Projects\\Private\\PropStar\\venv\\lib\\site-packages\\sqlalchemy\\engine\\base.py:1897} INFO - ALTER TABLE indoor_user_movement.target ALTER COLUMN sequence_ID BIGINT NOT NULL\n"
     ]
    },
    {
     "name": "stdout",
     "output_type": "stream",
     "text": [
      "2024-07-03 19:24:28,976 INFO sqlalchemy.engine.Engine [generated in 0.00131s] ()\n"
     ]
    },
    {
     "name": "stderr",
     "output_type": "stream",
     "text": [
      "[07-03 19:24:28] p38176 {C:\\Projects\\Private\\PropStar\\venv\\lib\\site-packages\\sqlalchemy\\engine\\base.py:1902} INFO - [generated in 0.00131s] ()\n"
     ]
    },
    {
     "name": "stdout",
     "output_type": "stream",
     "text": [
      "2024-07-03 19:24:29,013 INFO sqlalchemy.engine.Engine ALTER TABLE indoor_user_movement.target ADD CONSTRAINT PK_target PRIMARY KEY (sequence_ID);\n"
     ]
    },
    {
     "name": "stderr",
     "output_type": "stream",
     "text": [
      "[07-03 19:24:29] p38176 {C:\\Projects\\Private\\PropStar\\venv\\lib\\site-packages\\sqlalchemy\\engine\\base.py:1897} INFO - ALTER TABLE indoor_user_movement.target ADD CONSTRAINT PK_target PRIMARY KEY (sequence_ID);\n"
     ]
    },
    {
     "name": "stdout",
     "output_type": "stream",
     "text": [
      "2024-07-03 19:24:29,015 INFO sqlalchemy.engine.Engine [generated in 0.00123s] ()\n"
     ]
    },
    {
     "name": "stderr",
     "output_type": "stream",
     "text": [
      "[07-03 19:24:29] p38176 {C:\\Projects\\Private\\PropStar\\venv\\lib\\site-packages\\sqlalchemy\\engine\\base.py:1902} INFO - [generated in 0.00123s] ()\n"
     ]
    },
    {
     "name": "stdout",
     "output_type": "stream",
     "text": [
      "2024-07-03 19:24:29,043 INFO sqlalchemy.engine.Engine SELECT [INFORMATION_SCHEMA].[TABLES].[TABLE_NAME] \n",
      "FROM [INFORMATION_SCHEMA].[TABLES] \n",
      "WHERE ([INFORMATION_SCHEMA].[TABLES].[TABLE_TYPE] = CAST(? AS NVARCHAR(max)) OR [INFORMATION_SCHEMA].[TABLES].[TABLE_TYPE] = CAST(? AS NVARCHAR(max))) AND [INFORMATION_SCHEMA].[TABLES].[TABLE_NAME] = CAST(? AS NVARCHAR(max)) AND [INFORMATION_SCHEMA].[TABLES].[TABLE_SCHEMA] = CAST(? AS NVARCHAR(max))\n"
     ]
    },
    {
     "name": "stderr",
     "output_type": "stream",
     "text": [
      "[07-03 19:24:29] p38176 {C:\\Projects\\Private\\PropStar\\venv\\lib\\site-packages\\sqlalchemy\\engine\\base.py:1897} INFO - SELECT [INFORMATION_SCHEMA].[TABLES].[TABLE_NAME] \n",
      "FROM [INFORMATION_SCHEMA].[TABLES] \n",
      "WHERE ([INFORMATION_SCHEMA].[TABLES].[TABLE_TYPE] = CAST(? AS NVARCHAR(max)) OR [INFORMATION_SCHEMA].[TABLES].[TABLE_TYPE] = CAST(? AS NVARCHAR(max))) AND [INFORMATION_SCHEMA].[TABLES].[TABLE_NAME] = CAST(? AS NVARCHAR(max)) AND [INFORMATION_SCHEMA].[TABLES].[TABLE_SCHEMA] = CAST(? AS NVARCHAR(max))\n"
     ]
    },
    {
     "name": "stdout",
     "output_type": "stream",
     "text": [
      "2024-07-03 19:24:29,043 INFO sqlalchemy.engine.Engine [cached since 0.1894s ago] ('BASE TABLE', 'VIEW', 'movements', 'indoor_user_movement')\n"
     ]
    },
    {
     "name": "stderr",
     "output_type": "stream",
     "text": [
      "[07-03 19:24:29] p38176 {C:\\Projects\\Private\\PropStar\\venv\\lib\\site-packages\\sqlalchemy\\engine\\base.py:1902} INFO - [cached since 0.1894s ago] ('BASE TABLE', 'VIEW', 'movements', 'indoor_user_movement')\n"
     ]
    },
    {
     "name": "stdout",
     "output_type": "stream",
     "text": [
      "2024-07-03 19:24:29,043 INFO sqlalchemy.engine.Engine \n",
      "CREATE TABLE indoor_user_movement.movements (\n",
      "\tid BIGINT NULL, \n",
      "\t[ RSS_anchor2] FLOAT(53) NULL, \n",
      "\t[ RSS_anchor3] FLOAT(53) NULL, \n",
      "\t[ RSS_anchor4] FLOAT(53) NULL, \n",
      "\tseq_id BIGINT NULL, \n",
      "\t[RSS_anchor1] FLOAT(53) NULL\n",
      ")\n",
      "\n",
      "\n"
     ]
    },
    {
     "name": "stderr",
     "output_type": "stream",
     "text": [
      "[07-03 19:24:29] p38176 {C:\\Projects\\Private\\PropStar\\venv\\lib\\site-packages\\sqlalchemy\\engine\\base.py:1897} INFO - \n",
      "CREATE TABLE indoor_user_movement.movements (\n",
      "\tid BIGINT NULL, \n",
      "\t[ RSS_anchor2] FLOAT(53) NULL, \n",
      "\t[ RSS_anchor3] FLOAT(53) NULL, \n",
      "\t[ RSS_anchor4] FLOAT(53) NULL, \n",
      "\tseq_id BIGINT NULL, \n",
      "\t[RSS_anchor1] FLOAT(53) NULL\n",
      ")\n",
      "\n",
      "\n"
     ]
    },
    {
     "name": "stdout",
     "output_type": "stream",
     "text": [
      "2024-07-03 19:24:29,048 INFO sqlalchemy.engine.Engine [no key 0.00088s] ()\n"
     ]
    },
    {
     "name": "stderr",
     "output_type": "stream",
     "text": [
      "[07-03 19:24:29] p38176 {C:\\Projects\\Private\\PropStar\\venv\\lib\\site-packages\\sqlalchemy\\engine\\base.py:1902} INFO - [no key 0.00088s] ()\n"
     ]
    },
    {
     "name": "stdout",
     "output_type": "stream",
     "text": [
      "2024-07-03 19:24:29,143 INFO sqlalchemy.engine.Engine INSERT INTO indoor_user_movement.movements (id, [ RSS_anchor2], [ RSS_anchor3], [ RSS_anchor4], seq_id, [RSS_anchor1]) VALUES (?, ?, ?, ?, ?, ?), (?, ?, ?, ?, ?, ?), (?, ?, ?, ?, ?, ?), (?, ?, ?, ?, ?, ?), (?, ?, ?, ?, ?, ?), (?, ?, ?, ?, ?, ?), (?,  ... 6754 characters truncated ... , (?, ?, ?, ?, ?, ?), (?, ?, ?, ?, ?, ?), (?, ?, ?, ?, ?, ?), (?, ?, ?, ?, ?, ?), (?, ?, ?, ?, ?, ?)\n"
     ]
    },
    {
     "name": "stderr",
     "output_type": "stream",
     "text": [
      "[07-03 19:24:29] p38176 {C:\\Projects\\Private\\PropStar\\venv\\lib\\site-packages\\sqlalchemy\\engine\\base.py:2064} INFO - INSERT INTO indoor_user_movement.movements (id, [ RSS_anchor2], [ RSS_anchor3], [ RSS_anchor4], seq_id, [RSS_anchor1]) VALUES (?, ?, ?, ?, ?, ?), (?, ?, ?, ?, ?, ?), (?, ?, ?, ?, ?, ?), (?, ?, ?, ?, ?, ?), (?, ?, ?, ?, ?, ?), (?, ?, ?, ?, ?, ?), (?,  ... 6754 characters truncated ... , (?, ?, ?, ?, ?, ?), (?, ?, ?, ?, ?, ?), (?, ?, ?, ?, ?, ?), (?, ?, ?, ?, ?, ?), (?, ?, ?, ?, ?, ?)\n"
     ]
    },
    {
     "name": "stdout",
     "output_type": "stream",
     "text": [
      "2024-07-03 19:24:29,147 INFO sqlalchemy.engine.Engine [generated in 0.08185s (insertmanyvalues) 1/38 (unordered)] (0, -0.48, 0.28571, 0.3, 1, -0.90476, 1, -0.32, 0.14286, 0.3, 1, -0.57143, 2, -0.28, -0.14286, 0.35, 1, -0.38095, 3, -0.2, -0.47619, 0.35, 1, -0.28571, 4, -0.2, 0.14286, -0.2, 1, -0.14286, 5, -0.2, 0.047619, 0.0, 1, -0.14286, 6, -0.16, -0.38095, 0.2, 1, -0.14286, 7, -0.04, -0.61905, -0.2, 1, -0.14286, 8, -0.08 ... 1994 parameters truncated ... 108, 0.2, 341, -1.0, -0.045455, 0.0, 108, 0.2, 342, -0.48718, -0.090909, 0.0, 108, 0.2, 343, -0.23077, 0.090909, 0.19048, 108, 0.2, 344, -0.53846, 0.090909, 0.19048, 108, 0.24444, 345, -0.17949, 0.090909, 0.19048, 108, 0.11111, 346, -0.076923, 0.090909, -0.14286, 108, 0.11111, 347, -0.69231, 0.090909, -0.14286, 108, 0.11111, 348, -0.076923, -0.13636, -0.14286, 108, -0.15556)\n"
     ]
    },
    {
     "name": "stderr",
     "output_type": "stream",
     "text": [
      "[07-03 19:24:29] p38176 {C:\\Projects\\Private\\PropStar\\venv\\lib\\site-packages\\sqlalchemy\\engine\\base.py:2082} INFO - [generated in 0.08185s (insertmanyvalues) 1/38 (unordered)] (0, -0.48, 0.28571, 0.3, 1, -0.90476, 1, -0.32, 0.14286, 0.3, 1, -0.57143, 2, -0.28, -0.14286, 0.35, 1, -0.38095, 3, -0.2, -0.47619, 0.35, 1, -0.28571, 4, -0.2, 0.14286, -0.2, 1, -0.14286, 5, -0.2, 0.047619, 0.0, 1, -0.14286, 6, -0.16, -0.38095, 0.2, 1, -0.14286, 7, -0.04, -0.61905, -0.2, 1, -0.14286, 8, -0.08 ... 1994 parameters truncated ... 108, 0.2, 341, -1.0, -0.045455, 0.0, 108, 0.2, 342, -0.48718, -0.090909, 0.0, 108, 0.2, 343, -0.23077, 0.090909, 0.19048, 108, 0.2, 344, -0.53846, 0.090909, 0.19048, 108, 0.24444, 345, -0.17949, 0.090909, 0.19048, 108, 0.11111, 346, -0.076923, 0.090909, -0.14286, 108, 0.11111, 347, -0.69231, 0.090909, -0.14286, 108, 0.11111, 348, -0.076923, -0.13636, -0.14286, 108, -0.15556)\n"
     ]
    },
    {
     "name": "stdout",
     "output_type": "stream",
     "text": [
      "2024-07-03 19:24:29,352 INFO sqlalchemy.engine.Engine INSERT INTO indoor_user_movement.movements (id, [ RSS_anchor2], [ RSS_anchor3], [ RSS_anchor4], seq_id, [RSS_anchor1]) VALUES (?, ?, ?, ?, ?, ?), (?, ?, ?, ?, ?, ?), (?, ?, ?, ?, ?, ?), (?, ?, ?, ?, ?, ?), (?, ?, ?, ?, ?, ?), (?, ?, ?, ?, ?, ?), (?,  ... 6754 characters truncated ... , (?, ?, ?, ?, ?, ?), (?, ?, ?, ?, ?, ?), (?, ?, ?, ?, ?, ?), (?, ?, ?, ?, ?, ?), (?, ?, ?, ?, ?, ?)\n"
     ]
    },
    {
     "name": "stderr",
     "output_type": "stream",
     "text": [
      "[07-03 19:24:29] p38176 {C:\\Projects\\Private\\PropStar\\venv\\lib\\site-packages\\sqlalchemy\\engine\\base.py:2064} INFO - INSERT INTO indoor_user_movement.movements (id, [ RSS_anchor2], [ RSS_anchor3], [ RSS_anchor4], seq_id, [RSS_anchor1]) VALUES (?, ?, ?, ?, ?, ?), (?, ?, ?, ?, ?, ?), (?, ?, ?, ?, ?, ?), (?, ?, ?, ?, ?, ?), (?, ?, ?, ?, ?, ?), (?, ?, ?, ?, ?, ?), (?,  ... 6754 characters truncated ... , (?, ?, ?, ?, ?, ?), (?, ?, ?, ?, ?, ?), (?, ?, ?, ?, ?, ?), (?, ?, ?, ?, ?, ?), (?, ?, ?, ?, ?, ?)\n"
     ]
    },
    {
     "name": "stdout",
     "output_type": "stream",
     "text": [
      "2024-07-03 19:24:29,358 INFO sqlalchemy.engine.Engine [insertmanyvalues 2/38 (unordered)] (349, 0.076923, -0.31818, 0.19048, 108, -0.15556, 350, 0.23077, -0.045455, 0.19048, 108, 0.24444, 351, 0.23077, -0.54545, -0.14286, 108, 0.24444, 352, 0.076923, -0.63636, -0.14286, 108, 0.15556, 353, 0.23077, -0.18182, -0.14286, 108, 0.11111, 354, 0.12821, -0.5, -0.047619, 108, 0.11111, 355, -0.12821, -0.81818, -0.047619, 108, 0.066667, 356, 0.23077, -0.31818, -0.28571, 108, 0.066667, 357, 0.025641 ... 1994 parameters truncated ... 114, 0.066667, 690, -0.38462, -0.31818, -0.095238, 114, 0.066667, 691, -0.38462, -0.31818, -0.095238, 114, 0.066667, 692, -0.38462, -0.31818, -0.095238, 114, 0.066667, 693, -0.38462, -0.31818, -0.047619, 114, 0.066667, 694, -0.38462, -0.31818, -0.047619, 114, 0.066667, 695, -0.33333, -0.31818, -0.047619, 114, 0.066667, 696, -0.38462, -0.31818, -0.047619, 114, 0.066667, 697, -0.38462, -0.31818, -0.047619, 114, 0.15556)\n"
     ]
    },
    {
     "name": "stderr",
     "output_type": "stream",
     "text": [
      "[07-03 19:24:29] p38176 {C:\\Projects\\Private\\PropStar\\venv\\lib\\site-packages\\sqlalchemy\\engine\\base.py:2082} INFO - [insertmanyvalues 2/38 (unordered)] (349, 0.076923, -0.31818, 0.19048, 108, -0.15556, 350, 0.23077, -0.045455, 0.19048, 108, 0.24444, 351, 0.23077, -0.54545, -0.14286, 108, 0.24444, 352, 0.076923, -0.63636, -0.14286, 108, 0.15556, 353, 0.23077, -0.18182, -0.14286, 108, 0.11111, 354, 0.12821, -0.5, -0.047619, 108, 0.11111, 355, -0.12821, -0.81818, -0.047619, 108, 0.066667, 356, 0.23077, -0.31818, -0.28571, 108, 0.066667, 357, 0.025641 ... 1994 parameters truncated ... 114, 0.066667, 690, -0.38462, -0.31818, -0.095238, 114, 0.066667, 691, -0.38462, -0.31818, -0.095238, 114, 0.066667, 692, -0.38462, -0.31818, -0.095238, 114, 0.066667, 693, -0.38462, -0.31818, -0.047619, 114, 0.066667, 694, -0.38462, -0.31818, -0.047619, 114, 0.066667, 695, -0.33333, -0.31818, -0.047619, 114, 0.066667, 696, -0.38462, -0.31818, -0.047619, 114, 0.066667, 697, -0.38462, -0.31818, -0.047619, 114, 0.15556)\n"
     ]
    },
    {
     "name": "stdout",
     "output_type": "stream",
     "text": [
      "2024-07-03 19:24:29,368 INFO sqlalchemy.engine.Engine INSERT INTO indoor_user_movement.movements (id, [ RSS_anchor2], [ RSS_anchor3], [ RSS_anchor4], seq_id, [RSS_anchor1]) VALUES (?, ?, ?, ?, ?, ?), (?, ?, ?, ?, ?, ?), (?, ?, ?, ?, ?, ?), (?, ?, ?, ?, ?, ?), (?, ?, ?, ?, ?, ?), (?, ?, ?, ?, ?, ?), (?,  ... 6754 characters truncated ... , (?, ?, ?, ?, ?, ?), (?, ?, ?, ?, ?, ?), (?, ?, ?, ?, ?, ?), (?, ?, ?, ?, ?, ?), (?, ?, ?, ?, ?, ?)\n"
     ]
    },
    {
     "name": "stderr",
     "output_type": "stream",
     "text": [
      "[07-03 19:24:29] p38176 {C:\\Projects\\Private\\PropStar\\venv\\lib\\site-packages\\sqlalchemy\\engine\\base.py:2064} INFO - INSERT INTO indoor_user_movement.movements (id, [ RSS_anchor2], [ RSS_anchor3], [ RSS_anchor4], seq_id, [RSS_anchor1]) VALUES (?, ?, ?, ?, ?, ?), (?, ?, ?, ?, ?, ?), (?, ?, ?, ?, ?, ?), (?, ?, ?, ?, ?, ?), (?, ?, ?, ?, ?, ?), (?, ?, ?, ?, ?, ?), (?,  ... 6754 characters truncated ... , (?, ?, ?, ?, ?, ?), (?, ?, ?, ?, ?, ?), (?, ?, ?, ?, ?, ?), (?, ?, ?, ?, ?, ?), (?, ?, ?, ?, ?, ?)\n"
     ]
    },
    {
     "name": "stdout",
     "output_type": "stream",
     "text": [
      "2024-07-03 19:24:29,368 INFO sqlalchemy.engine.Engine [insertmanyvalues 3/38 (unordered)] (698, -0.33333, -0.31818, 0.0, 114, 0.15556, 699, -0.33333, -0.31818, 0.0, 114, 0.11111, 700, -0.38462, -0.31818, -0.047619, 114, 0.11111, 701, -0.53846, -0.40909, -0.14286, 114, 0.11111, 702, -0.84615, -0.40909, -0.14286, 114, 0.11111, 703, -0.84615, -0.40909, -0.14286, 114, 0.11111, 704, -0.48718, -0.63636, -0.19048, 114, 0.11111, 705, -0.38462, -0.68182, -0.19048, 114, 0.11111, 706, -0.38462 ... 1994 parameters truncated ... 119, 0.64444, 1039, 0.64103, -1.0, -1.0, 119, 0.68889, 1040, -0.17949, -1.0, -1.0, 119, 0.86667, 1041, -0.17949, -1.0, -1.0, 119, 0.77778, 1042, 0.48718, -1.0, -1.0, 119, 0.77778, 1043, 0.38462, -0.81818, -0.66667, 119, 0.77778, 1044, 0.38462, -0.86364, -0.71429, 119, 0.77778, 1045, 0.38462, -0.86364, -0.38095, 119, 0.95556, 1046, -0.17949, -0.72727, -0.38095, 119, 0.95556)\n"
     ]
    },
    {
     "name": "stderr",
     "output_type": "stream",
     "text": [
      "[07-03 19:24:29] p38176 {C:\\Projects\\Private\\PropStar\\venv\\lib\\site-packages\\sqlalchemy\\engine\\base.py:2082} INFO - [insertmanyvalues 3/38 (unordered)] (698, -0.33333, -0.31818, 0.0, 114, 0.15556, 699, -0.33333, -0.31818, 0.0, 114, 0.11111, 700, -0.38462, -0.31818, -0.047619, 114, 0.11111, 701, -0.53846, -0.40909, -0.14286, 114, 0.11111, 702, -0.84615, -0.40909, -0.14286, 114, 0.11111, 703, -0.84615, -0.40909, -0.14286, 114, 0.11111, 704, -0.48718, -0.63636, -0.19048, 114, 0.11111, 705, -0.38462, -0.68182, -0.19048, 114, 0.11111, 706, -0.38462 ... 1994 parameters truncated ... 119, 0.64444, 1039, 0.64103, -1.0, -1.0, 119, 0.68889, 1040, -0.17949, -1.0, -1.0, 119, 0.86667, 1041, -0.17949, -1.0, -1.0, 119, 0.77778, 1042, 0.48718, -1.0, -1.0, 119, 0.77778, 1043, 0.38462, -0.81818, -0.66667, 119, 0.77778, 1044, 0.38462, -0.86364, -0.71429, 119, 0.77778, 1045, 0.38462, -0.86364, -0.38095, 119, 0.95556, 1046, -0.17949, -0.72727, -0.38095, 119, 0.95556)\n"
     ]
    },
    {
     "name": "stdout",
     "output_type": "stream",
     "text": [
      "2024-07-03 19:24:29,378 INFO sqlalchemy.engine.Engine INSERT INTO indoor_user_movement.movements (id, [ RSS_anchor2], [ RSS_anchor3], [ RSS_anchor4], seq_id, [RSS_anchor1]) VALUES (?, ?, ?, ?, ?, ?), (?, ?, ?, ?, ?, ?), (?, ?, ?, ?, ?, ?), (?, ?, ?, ?, ?, ?), (?, ?, ?, ?, ?, ?), (?, ?, ?, ?, ?, ?), (?,  ... 6754 characters truncated ... , (?, ?, ?, ?, ?, ?), (?, ?, ?, ?, ?, ?), (?, ?, ?, ?, ?, ?), (?, ?, ?, ?, ?, ?), (?, ?, ?, ?, ?, ?)\n"
     ]
    },
    {
     "name": "stderr",
     "output_type": "stream",
     "text": [
      "[07-03 19:24:29] p38176 {C:\\Projects\\Private\\PropStar\\venv\\lib\\site-packages\\sqlalchemy\\engine\\base.py:2064} INFO - INSERT INTO indoor_user_movement.movements (id, [ RSS_anchor2], [ RSS_anchor3], [ RSS_anchor4], seq_id, [RSS_anchor1]) VALUES (?, ?, ?, ?, ?, ?), (?, ?, ?, ?, ?, ?), (?, ?, ?, ?, ?, ?), (?, ?, ?, ?, ?, ?), (?, ?, ?, ?, ?, ?), (?, ?, ?, ?, ?, ?), (?,  ... 6754 characters truncated ... , (?, ?, ?, ?, ?, ?), (?, ?, ?, ?, ?, ?), (?, ?, ?, ?, ?, ?), (?, ?, ?, ?, ?, ?), (?, ?, ?, ?, ?, ?)\n"
     ]
    },
    {
     "name": "stdout",
     "output_type": "stream",
     "text": [
      "2024-07-03 19:24:29,383 INFO sqlalchemy.engine.Engine [insertmanyvalues 4/38 (unordered)] (1047, -0.04, 0.0, 0.25, 12, -0.28571, 1048, -0.12, 0.14286, 0.45, 12, -0.19048, 1049, -0.4, -0.095238, 0.35, 12, -0.28571, 1050, -0.52, -0.095238, 0.2, 12, -0.19048, 1051, -0.16, 0.14286, 0.1, 12, -0.14286, 1052, 0.04, 0.047619, 0.1, 12, -0.14286, 1053, -0.04, 0.2381, 0.3, 12, -0.28571, 1054, -0.08, 0.14286, -0.1, 12, 0.0, 1055, -0.52 ... 1994 parameters truncated ... 125, 0.2, 1388, 0.076923, -0.31818, 0.047619, 125, 0.2, 1389, 0.12821, -0.18182, 0.047619, 125, 0.2, 1390, 0.12821, -0.22727, 0.047619, 125, 0.2, 1391, -0.33333, -0.18182, 0.047619, 125, 0.2, 1392, 0.076923, -0.31818, -0.52381, 125, 0.15556, 1393, -0.025641, -0.27273, -0.52381, 125, -0.066667, 1394, -0.025641, -0.40909, -0.52381, 125, -0.066667, 1395, -0.28205, -0.18182, 0.0, 125, -0.066667)\n"
     ]
    },
    {
     "name": "stderr",
     "output_type": "stream",
     "text": [
      "[07-03 19:24:29] p38176 {C:\\Projects\\Private\\PropStar\\venv\\lib\\site-packages\\sqlalchemy\\engine\\base.py:2082} INFO - [insertmanyvalues 4/38 (unordered)] (1047, -0.04, 0.0, 0.25, 12, -0.28571, 1048, -0.12, 0.14286, 0.45, 12, -0.19048, 1049, -0.4, -0.095238, 0.35, 12, -0.28571, 1050, -0.52, -0.095238, 0.2, 12, -0.19048, 1051, -0.16, 0.14286, 0.1, 12, -0.14286, 1052, 0.04, 0.047619, 0.1, 12, -0.14286, 1053, -0.04, 0.2381, 0.3, 12, -0.28571, 1054, -0.08, 0.14286, -0.1, 12, 0.0, 1055, -0.52 ... 1994 parameters truncated ... 125, 0.2, 1388, 0.076923, -0.31818, 0.047619, 125, 0.2, 1389, 0.12821, -0.18182, 0.047619, 125, 0.2, 1390, 0.12821, -0.22727, 0.047619, 125, 0.2, 1391, -0.33333, -0.18182, 0.047619, 125, 0.2, 1392, 0.076923, -0.31818, -0.52381, 125, 0.15556, 1393, -0.025641, -0.27273, -0.52381, 125, -0.066667, 1394, -0.025641, -0.40909, -0.52381, 125, -0.066667, 1395, -0.28205, -0.18182, 0.0, 125, -0.066667)\n"
     ]
    },
    {
     "name": "stdout",
     "output_type": "stream",
     "text": [
      "2024-07-03 19:24:29,383 INFO sqlalchemy.engine.Engine INSERT INTO indoor_user_movement.movements (id, [ RSS_anchor2], [ RSS_anchor3], [ RSS_anchor4], seq_id, [RSS_anchor1]) VALUES (?, ?, ?, ?, ?, ?), (?, ?, ?, ?, ?, ?), (?, ?, ?, ?, ?, ?), (?, ?, ?, ?, ?, ?), (?, ?, ?, ?, ?, ?), (?, ?, ?, ?, ?, ?), (?,  ... 6754 characters truncated ... , (?, ?, ?, ?, ?, ?), (?, ?, ?, ?, ?, ?), (?, ?, ?, ?, ?, ?), (?, ?, ?, ?, ?, ?), (?, ?, ?, ?, ?, ?)\n"
     ]
    },
    {
     "name": "stderr",
     "output_type": "stream",
     "text": [
      "[07-03 19:24:29] p38176 {C:\\Projects\\Private\\PropStar\\venv\\lib\\site-packages\\sqlalchemy\\engine\\base.py:2064} INFO - INSERT INTO indoor_user_movement.movements (id, [ RSS_anchor2], [ RSS_anchor3], [ RSS_anchor4], seq_id, [RSS_anchor1]) VALUES (?, ?, ?, ?, ?, ?), (?, ?, ?, ?, ?, ?), (?, ?, ?, ?, ?, ?), (?, ?, ?, ?, ?, ?), (?, ?, ?, ?, ?, ?), (?, ?, ?, ?, ?, ?), (?,  ... 6754 characters truncated ... , (?, ?, ?, ?, ?, ?), (?, ?, ?, ?, ?, ?), (?, ?, ?, ?, ?, ?), (?, ?, ?, ?, ?, ?), (?, ?, ?, ?, ?, ?)\n"
     ]
    },
    {
     "name": "stdout",
     "output_type": "stream",
     "text": [
      "2024-07-03 19:24:29,393 INFO sqlalchemy.engine.Engine [insertmanyvalues 5/38 (unordered)] (1396, -0.076923, -0.54545, -0.85714, 125, -0.066667, 1397, 0.076923, -0.68182, -0.47619, 125, 0.6, 1398, 0.076923, -0.45455, -0.47619, 125, 0.64444, 1399, 0.33333, -0.18182, -0.47619, 125, 0.64444, 1400, 0.28205, -0.81818, 0.0, 125, 0.42222, 1401, 0.025641, -0.90909, 0.0, 125, 0.6, 1402, 0.48718, -0.68182, 0.0, 125, 0.6, 1403, -1.0, 0.77273, 0.14286, 126, -0.33333, 1404, -0.84615 ... 1994 parameters truncated ... 131, -0.066667, 1737, 0.33333, -0.63636, 0.0, 131, -0.066667, 1738, 0.33333, -0.63636, 0.0, 131, -0.022222, 1739, 0.38462, -0.59091, 0.0, 131, -0.022222, 1740, 0.38462, -0.59091, 0.047619, 131, -0.022222, 1741, 0.38462, -0.68182, 0.14286, 131, -0.022222, 1742, 0.38462, -0.95455, 0.14286, 131, 0.066667, 1743, 0.38462, -0.90909, 0.14286, 131, 0.066667, 1744, 0.33333, -0.77273, 0.14286, 131, 0.066667)\n"
     ]
    },
    {
     "name": "stderr",
     "output_type": "stream",
     "text": [
      "[07-03 19:24:29] p38176 {C:\\Projects\\Private\\PropStar\\venv\\lib\\site-packages\\sqlalchemy\\engine\\base.py:2082} INFO - [insertmanyvalues 5/38 (unordered)] (1396, -0.076923, -0.54545, -0.85714, 125, -0.066667, 1397, 0.076923, -0.68182, -0.47619, 125, 0.6, 1398, 0.076923, -0.45455, -0.47619, 125, 0.64444, 1399, 0.33333, -0.18182, -0.47619, 125, 0.64444, 1400, 0.28205, -0.81818, 0.0, 125, 0.42222, 1401, 0.025641, -0.90909, 0.0, 125, 0.6, 1402, 0.48718, -0.68182, 0.0, 125, 0.6, 1403, -1.0, 0.77273, 0.14286, 126, -0.33333, 1404, -0.84615 ... 1994 parameters truncated ... 131, -0.066667, 1737, 0.33333, -0.63636, 0.0, 131, -0.066667, 1738, 0.33333, -0.63636, 0.0, 131, -0.022222, 1739, 0.38462, -0.59091, 0.0, 131, -0.022222, 1740, 0.38462, -0.59091, 0.047619, 131, -0.022222, 1741, 0.38462, -0.68182, 0.14286, 131, -0.022222, 1742, 0.38462, -0.95455, 0.14286, 131, 0.066667, 1743, 0.38462, -0.90909, 0.14286, 131, 0.066667, 1744, 0.33333, -0.77273, 0.14286, 131, 0.066667)\n"
     ]
    },
    {
     "name": "stdout",
     "output_type": "stream",
     "text": [
      "2024-07-03 19:24:29,401 INFO sqlalchemy.engine.Engine INSERT INTO indoor_user_movement.movements (id, [ RSS_anchor2], [ RSS_anchor3], [ RSS_anchor4], seq_id, [RSS_anchor1]) VALUES (?, ?, ?, ?, ?, ?), (?, ?, ?, ?, ?, ?), (?, ?, ?, ?, ?, ?), (?, ?, ?, ?, ?, ?), (?, ?, ?, ?, ?, ?), (?, ?, ?, ?, ?, ?), (?,  ... 6754 characters truncated ... , (?, ?, ?, ?, ?, ?), (?, ?, ?, ?, ?, ?), (?, ?, ?, ?, ?, ?), (?, ?, ?, ?, ?, ?), (?, ?, ?, ?, ?, ?)\n"
     ]
    },
    {
     "name": "stderr",
     "output_type": "stream",
     "text": [
      "[07-03 19:24:29] p38176 {C:\\Projects\\Private\\PropStar\\venv\\lib\\site-packages\\sqlalchemy\\engine\\base.py:2064} INFO - INSERT INTO indoor_user_movement.movements (id, [ RSS_anchor2], [ RSS_anchor3], [ RSS_anchor4], seq_id, [RSS_anchor1]) VALUES (?, ?, ?, ?, ?, ?), (?, ?, ?, ?, ?, ?), (?, ?, ?, ?, ?, ?), (?, ?, ?, ?, ?, ?), (?, ?, ?, ?, ?, ?), (?, ?, ?, ?, ?, ?), (?,  ... 6754 characters truncated ... , (?, ?, ?, ?, ?, ?), (?, ?, ?, ?, ?, ?), (?, ?, ?, ?, ?, ?), (?, ?, ?, ?, ?, ?), (?, ?, ?, ?, ?, ?)\n"
     ]
    },
    {
     "name": "stdout",
     "output_type": "stream",
     "text": [
      "2024-07-03 19:24:29,403 INFO sqlalchemy.engine.Engine [insertmanyvalues 6/38 (unordered)] (1745, 0.23077, -0.63636, 0.14286, 131, 0.022222, 1746, 0.025641, -0.40909, 0.14286, 131, -0.24444, 1747, -0.12821, -0.31818, 0.14286, 131, -0.33333, 1748, -0.076923, -0.31818, 0.14286, 131, -0.33333, 1749, -0.12821, -0.31818, 0.095238, 131, -0.33333, 1750, -0.12821, -0.31818, 0.095238, 131, -0.55556, 1751, -0.076923, -0.31818, 0.095238, 131, -0.42222, 1752, -0.076923, -0.31818, 0.095238, 131, -0.2, 1753, -0.076923 ... 1994 parameters truncated ... 140, 0.066667, 2086, -0.4359, -0.31818, -0.095238, 140, 0.066667, 2087, -0.025641, -0.59091, -0.095238, 140, 0.066667, 2088, -0.23077, -0.45455, -0.095238, 140, 0.46667, 2089, 0.38462, -0.90909, -0.66667, 140, 0.46667, 2090, 0.38462, -0.63636, -0.14286, 140, 0.46667, 2091, 0.53846, -0.90909, -0.28571, 140, 0.46667, 2092, 0.23077, -0.86364, -0.66667, 140, 0.46667, 2093, 0.38462, -0.86364, -0.57143, 140, 0.46667)\n"
     ]
    },
    {
     "name": "stderr",
     "output_type": "stream",
     "text": [
      "[07-03 19:24:29] p38176 {C:\\Projects\\Private\\PropStar\\venv\\lib\\site-packages\\sqlalchemy\\engine\\base.py:2082} INFO - [insertmanyvalues 6/38 (unordered)] (1745, 0.23077, -0.63636, 0.14286, 131, 0.022222, 1746, 0.025641, -0.40909, 0.14286, 131, -0.24444, 1747, -0.12821, -0.31818, 0.14286, 131, -0.33333, 1748, -0.076923, -0.31818, 0.14286, 131, -0.33333, 1749, -0.12821, -0.31818, 0.095238, 131, -0.33333, 1750, -0.12821, -0.31818, 0.095238, 131, -0.55556, 1751, -0.076923, -0.31818, 0.095238, 131, -0.42222, 1752, -0.076923, -0.31818, 0.095238, 131, -0.2, 1753, -0.076923 ... 1994 parameters truncated ... 140, 0.066667, 2086, -0.4359, -0.31818, -0.095238, 140, 0.066667, 2087, -0.025641, -0.59091, -0.095238, 140, 0.066667, 2088, -0.23077, -0.45455, -0.095238, 140, 0.46667, 2089, 0.38462, -0.90909, -0.66667, 140, 0.46667, 2090, 0.38462, -0.63636, -0.14286, 140, 0.46667, 2091, 0.53846, -0.90909, -0.28571, 140, 0.46667, 2092, 0.23077, -0.86364, -0.66667, 140, 0.46667, 2093, 0.38462, -0.86364, -0.57143, 140, 0.46667)\n"
     ]
    },
    {
     "name": "stdout",
     "output_type": "stream",
     "text": [
      "2024-07-03 19:24:29,412 INFO sqlalchemy.engine.Engine INSERT INTO indoor_user_movement.movements (id, [ RSS_anchor2], [ RSS_anchor3], [ RSS_anchor4], seq_id, [RSS_anchor1]) VALUES (?, ?, ?, ?, ?, ?), (?, ?, ?, ?, ?, ?), (?, ?, ?, ?, ?, ?), (?, ?, ?, ?, ?, ?), (?, ?, ?, ?, ?, ?), (?, ?, ?, ?, ?, ?), (?,  ... 6754 characters truncated ... , (?, ?, ?, ?, ?, ?), (?, ?, ?, ?, ?, ?), (?, ?, ?, ?, ?, ?), (?, ?, ?, ?, ?, ?), (?, ?, ?, ?, ?, ?)\n"
     ]
    },
    {
     "name": "stderr",
     "output_type": "stream",
     "text": [
      "[07-03 19:24:29] p38176 {C:\\Projects\\Private\\PropStar\\venv\\lib\\site-packages\\sqlalchemy\\engine\\base.py:2064} INFO - INSERT INTO indoor_user_movement.movements (id, [ RSS_anchor2], [ RSS_anchor3], [ RSS_anchor4], seq_id, [RSS_anchor1]) VALUES (?, ?, ?, ?, ?, ?), (?, ?, ?, ?, ?, ?), (?, ?, ?, ?, ?, ?), (?, ?, ?, ?, ?, ?), (?, ?, ?, ?, ?, ?), (?, ?, ?, ?, ?, ?), (?,  ... 6754 characters truncated ... , (?, ?, ?, ?, ?, ?), (?, ?, ?, ?, ?, ?), (?, ?, ?, ?, ?, ?), (?, ?, ?, ?, ?, ?), (?, ?, ?, ?, ?, ?)\n"
     ]
    },
    {
     "name": "stdout",
     "output_type": "stream",
     "text": [
      "2024-07-03 19:24:29,414 INFO sqlalchemy.engine.Engine [insertmanyvalues 7/38 (unordered)] (2094, 0.23077, -0.63636, -1.0, 140, 0.46667, 2095, 0.17949, -0.72727, -0.28571, 140, 0.46667, 2096, 0.64103, -0.90909, -0.28571, 140, 0.46667, 2097, 0.53846, -1.0, -0.28571, 140, 0.46667, 2098, 0.48718, -0.86364, -0.28571, 140, 0.73333, 2099, 0.48718, -1.0, -0.57143, 140, 0.73333, 2100, 0.38462, -0.95455, -0.57143, 140, 0.68889, 2101, 0.38462, -0.59091, -0.80952, 140, 0.68889, 2102, 0.84615 ... 1994 parameters truncated ... 149, 0.24444, 2435, 0.69231, -1.0, -0.66667, 149, 0.2, 2436, 0.69231, -1.0, -0.61905, 149, 0.2, 2437, 0.89744, -0.59091, -0.61905, 149, 0.37778, 2438, 0.69231, -1.0, -0.66667, 149, 0.37778, 2439, 0.38462, -1.0, -0.61905, 149, 0.37778, 2440, 0.53846, -0.72727, -0.95238, 149, 0.37778, 2441, 0.58974, -0.86364, -0.42857, 149, 0.37778, 2442, 0.69231, -0.86364, -1.0, 149, 0.37778)\n"
     ]
    },
    {
     "name": "stderr",
     "output_type": "stream",
     "text": [
      "[07-03 19:24:29] p38176 {C:\\Projects\\Private\\PropStar\\venv\\lib\\site-packages\\sqlalchemy\\engine\\base.py:2082} INFO - [insertmanyvalues 7/38 (unordered)] (2094, 0.23077, -0.63636, -1.0, 140, 0.46667, 2095, 0.17949, -0.72727, -0.28571, 140, 0.46667, 2096, 0.64103, -0.90909, -0.28571, 140, 0.46667, 2097, 0.53846, -1.0, -0.28571, 140, 0.46667, 2098, 0.48718, -0.86364, -0.28571, 140, 0.73333, 2099, 0.48718, -1.0, -0.57143, 140, 0.73333, 2100, 0.38462, -0.95455, -0.57143, 140, 0.68889, 2101, 0.38462, -0.59091, -0.80952, 140, 0.68889, 2102, 0.84615 ... 1994 parameters truncated ... 149, 0.24444, 2435, 0.69231, -1.0, -0.66667, 149, 0.2, 2436, 0.69231, -1.0, -0.61905, 149, 0.2, 2437, 0.89744, -0.59091, -0.61905, 149, 0.37778, 2438, 0.69231, -1.0, -0.66667, 149, 0.37778, 2439, 0.38462, -1.0, -0.61905, 149, 0.37778, 2440, 0.53846, -0.72727, -0.95238, 149, 0.37778, 2441, 0.58974, -0.86364, -0.42857, 149, 0.37778, 2442, 0.69231, -0.86364, -1.0, 149, 0.37778)\n"
     ]
    },
    {
     "name": "stdout",
     "output_type": "stream",
     "text": [
      "2024-07-03 19:24:29,424 INFO sqlalchemy.engine.Engine INSERT INTO indoor_user_movement.movements (id, [ RSS_anchor2], [ RSS_anchor3], [ RSS_anchor4], seq_id, [RSS_anchor1]) VALUES (?, ?, ?, ?, ?, ?), (?, ?, ?, ?, ?, ?), (?, ?, ?, ?, ?, ?), (?, ?, ?, ?, ?, ?), (?, ?, ?, ?, ?, ?), (?, ?, ?, ?, ?, ?), (?,  ... 6754 characters truncated ... , (?, ?, ?, ?, ?, ?), (?, ?, ?, ?, ?, ?), (?, ?, ?, ?, ?, ?), (?, ?, ?, ?, ?, ?), (?, ?, ?, ?, ?, ?)\n"
     ]
    },
    {
     "name": "stderr",
     "output_type": "stream",
     "text": [
      "[07-03 19:24:29] p38176 {C:\\Projects\\Private\\PropStar\\venv\\lib\\site-packages\\sqlalchemy\\engine\\base.py:2064} INFO - INSERT INTO indoor_user_movement.movements (id, [ RSS_anchor2], [ RSS_anchor3], [ RSS_anchor4], seq_id, [RSS_anchor1]) VALUES (?, ?, ?, ?, ?, ?), (?, ?, ?, ?, ?, ?), (?, ?, ?, ?, ?, ?), (?, ?, ?, ?, ?, ?), (?, ?, ?, ?, ?, ?), (?, ?, ?, ?, ?, ?), (?,  ... 6754 characters truncated ... , (?, ?, ?, ?, ?, ?), (?, ?, ?, ?, ?, ?), (?, ?, ?, ?, ?, ?), (?, ?, ?, ?, ?, ?), (?, ?, ?, ?, ?, ?)\n"
     ]
    },
    {
     "name": "stdout",
     "output_type": "stream",
     "text": [
      "2024-07-03 19:24:29,426 INFO sqlalchemy.engine.Engine [insertmanyvalues 8/38 (unordered)] (2443, 0.58974, -0.95455, -0.7619, 149, 0.37778, 2444, 0.53846, -0.95455, -0.47619, 149, 0.37778, 2445, 0.84615, -0.86364, -0.57143, 149, 0.37778, 2446, 0.89744, -0.81818, -0.71429, 149, 0.37778, 2447, 0.84615, -1.0, -0.80952, 149, 0.37778, 2448, 0.33333, -1.0, -0.57143, 149, 0.37778, 2449, 0.53846, -0.95455, -0.71429, 149, 0.37778, 2450, 0.38462, -1.0, -0.33333, 149, 0.37778, 2451, 0.53846 ... 1994 parameters truncated ... 156, 0.2, 2784, 0.53846, -0.90909, -0.66667, 156, 0.066667, 2785, 0.84615, -0.72727, -0.42857, 156, 0.066667, 2786, 0.84615, -0.59091, -0.42857, 156, -0.2, 2787, 0.64103, -0.54545, -0.42857, 156, -0.2, 2788, 0.48718, -0.54545, -0.42857, 156, 0.33333, 2789, 0.38462, -0.59091, -0.42857, 156, 0.28889, 2790, -0.025641, -0.13636, 0.0, 157, -0.066667, 2791, -0.025641, 0.090909, 0.28571, 157, -0.066667)\n"
     ]
    },
    {
     "name": "stderr",
     "output_type": "stream",
     "text": [
      "[07-03 19:24:29] p38176 {C:\\Projects\\Private\\PropStar\\venv\\lib\\site-packages\\sqlalchemy\\engine\\base.py:2082} INFO - [insertmanyvalues 8/38 (unordered)] (2443, 0.58974, -0.95455, -0.7619, 149, 0.37778, 2444, 0.53846, -0.95455, -0.47619, 149, 0.37778, 2445, 0.84615, -0.86364, -0.57143, 149, 0.37778, 2446, 0.89744, -0.81818, -0.71429, 149, 0.37778, 2447, 0.84615, -1.0, -0.80952, 149, 0.37778, 2448, 0.33333, -1.0, -0.57143, 149, 0.37778, 2449, 0.53846, -0.95455, -0.71429, 149, 0.37778, 2450, 0.38462, -1.0, -0.33333, 149, 0.37778, 2451, 0.53846 ... 1994 parameters truncated ... 156, 0.2, 2784, 0.53846, -0.90909, -0.66667, 156, 0.066667, 2785, 0.84615, -0.72727, -0.42857, 156, 0.066667, 2786, 0.84615, -0.59091, -0.42857, 156, -0.2, 2787, 0.64103, -0.54545, -0.42857, 156, -0.2, 2788, 0.48718, -0.54545, -0.42857, 156, 0.33333, 2789, 0.38462, -0.59091, -0.42857, 156, 0.28889, 2790, -0.025641, -0.13636, 0.0, 157, -0.066667, 2791, -0.025641, 0.090909, 0.28571, 157, -0.066667)\n"
     ]
    },
    {
     "name": "stdout",
     "output_type": "stream",
     "text": [
      "2024-07-03 19:24:29,433 INFO sqlalchemy.engine.Engine INSERT INTO indoor_user_movement.movements (id, [ RSS_anchor2], [ RSS_anchor3], [ RSS_anchor4], seq_id, [RSS_anchor1]) VALUES (?, ?, ?, ?, ?, ?), (?, ?, ?, ?, ?, ?), (?, ?, ?, ?, ?, ?), (?, ?, ?, ?, ?, ?), (?, ?, ?, ?, ?, ?), (?, ?, ?, ?, ?, ?), (?,  ... 6754 characters truncated ... , (?, ?, ?, ?, ?, ?), (?, ?, ?, ?, ?, ?), (?, ?, ?, ?, ?, ?), (?, ?, ?, ?, ?, ?), (?, ?, ?, ?, ?, ?)\n"
     ]
    },
    {
     "name": "stderr",
     "output_type": "stream",
     "text": [
      "[07-03 19:24:29] p38176 {C:\\Projects\\Private\\PropStar\\venv\\lib\\site-packages\\sqlalchemy\\engine\\base.py:2064} INFO - INSERT INTO indoor_user_movement.movements (id, [ RSS_anchor2], [ RSS_anchor3], [ RSS_anchor4], seq_id, [RSS_anchor1]) VALUES (?, ?, ?, ?, ?, ?), (?, ?, ?, ?, ?, ?), (?, ?, ?, ?, ?, ?), (?, ?, ?, ?, ?, ?), (?, ?, ?, ?, ?, ?), (?, ?, ?, ?, ?, ?), (?,  ... 6754 characters truncated ... , (?, ?, ?, ?, ?, ?), (?, ?, ?, ?, ?, ?), (?, ?, ?, ?, ?, ?), (?, ?, ?, ?, ?, ?), (?, ?, ?, ?, ?, ?)\n"
     ]
    },
    {
     "name": "stdout",
     "output_type": "stream",
     "text": [
      "2024-07-03 19:24:29,437 INFO sqlalchemy.engine.Engine [insertmanyvalues 9/38 (unordered)] (2792, -0.12821, 0.22727, 0.28571, 157, -0.066667, 2793, 0.23077, 0.18182, 0.28571, 157, -0.28889, 2794, 0.23077, 0.090909, 0.28571, 157, -0.28889, 2795, 0.33333, 0.090909, 0.28571, 157, -0.24444, 2796, 0.23077, 0.31818, 0.28571, 157, -0.15556, 2797, 0.23077, 0.22727, 0.28571, 157, -0.11111, 2798, 0.28205, 0.18182, 0.14286, 157, -0.11111, 2799, 0.12821, 0.22727, -0.19048, 157, -0.11111, 2800, 0.23077 ... 1994 parameters truncated ... 163, -0.6, 3133, -0.076923, 0.22727, 0.2381, 164, -0.33333, 3134, -0.076923, 0.22727, 0.0, 164, -0.33333, 3135, -0.025641, 0.27273, 0.0, 164, 0.022222, 3136, -0.076923, 0.22727, 0.0, 164, 0.066667, 3137, -0.076923, 0.22727, -0.28571, 164, 0.066667, 3138, -0.12821, 0.13636, 0.0, 164, 0.066667, 3139, -0.23077, 0.090909, 0.0, 164, 0.066667, 3140, -0.38462, 0.090909, 0.0, 164, -0.11111)\n"
     ]
    },
    {
     "name": "stderr",
     "output_type": "stream",
     "text": [
      "[07-03 19:24:29] p38176 {C:\\Projects\\Private\\PropStar\\venv\\lib\\site-packages\\sqlalchemy\\engine\\base.py:2082} INFO - [insertmanyvalues 9/38 (unordered)] (2792, -0.12821, 0.22727, 0.28571, 157, -0.066667, 2793, 0.23077, 0.18182, 0.28571, 157, -0.28889, 2794, 0.23077, 0.090909, 0.28571, 157, -0.28889, 2795, 0.33333, 0.090909, 0.28571, 157, -0.24444, 2796, 0.23077, 0.31818, 0.28571, 157, -0.15556, 2797, 0.23077, 0.22727, 0.28571, 157, -0.11111, 2798, 0.28205, 0.18182, 0.14286, 157, -0.11111, 2799, 0.12821, 0.22727, -0.19048, 157, -0.11111, 2800, 0.23077 ... 1994 parameters truncated ... 163, -0.6, 3133, -0.076923, 0.22727, 0.2381, 164, -0.33333, 3134, -0.076923, 0.22727, 0.0, 164, -0.33333, 3135, -0.025641, 0.27273, 0.0, 164, 0.022222, 3136, -0.076923, 0.22727, 0.0, 164, 0.066667, 3137, -0.076923, 0.22727, -0.28571, 164, 0.066667, 3138, -0.12821, 0.13636, 0.0, 164, 0.066667, 3139, -0.23077, 0.090909, 0.0, 164, 0.066667, 3140, -0.38462, 0.090909, 0.0, 164, -0.11111)\n"
     ]
    },
    {
     "name": "stdout",
     "output_type": "stream",
     "text": [
      "2024-07-03 19:24:29,444 INFO sqlalchemy.engine.Engine INSERT INTO indoor_user_movement.movements (id, [ RSS_anchor2], [ RSS_anchor3], [ RSS_anchor4], seq_id, [RSS_anchor1]) VALUES (?, ?, ?, ?, ?, ?), (?, ?, ?, ?, ?, ?), (?, ?, ?, ?, ?, ?), (?, ?, ?, ?, ?, ?), (?, ?, ?, ?, ?, ?), (?, ?, ?, ?, ?, ?), (?,  ... 6754 characters truncated ... , (?, ?, ?, ?, ?, ?), (?, ?, ?, ?, ?, ?), (?, ?, ?, ?, ?, ?), (?, ?, ?, ?, ?, ?), (?, ?, ?, ?, ?, ?)\n"
     ]
    },
    {
     "name": "stderr",
     "output_type": "stream",
     "text": [
      "[07-03 19:24:29] p38176 {C:\\Projects\\Private\\PropStar\\venv\\lib\\site-packages\\sqlalchemy\\engine\\base.py:2064} INFO - INSERT INTO indoor_user_movement.movements (id, [ RSS_anchor2], [ RSS_anchor3], [ RSS_anchor4], seq_id, [RSS_anchor1]) VALUES (?, ?, ?, ?, ?, ?), (?, ?, ?, ?, ?, ?), (?, ?, ?, ?, ?, ?), (?, ?, ?, ?, ?, ?), (?, ?, ?, ?, ?, ?), (?, ?, ?, ?, ?, ?), (?,  ... 6754 characters truncated ... , (?, ?, ?, ?, ?, ?), (?, ?, ?, ?, ?, ?), (?, ?, ?, ?, ?, ?), (?, ?, ?, ?, ?, ?), (?, ?, ?, ?, ?, ?)\n"
     ]
    },
    {
     "name": "stdout",
     "output_type": "stream",
     "text": [
      "2024-07-03 19:24:29,446 INFO sqlalchemy.engine.Engine [insertmanyvalues 10/38 (unordered)] (3141, -0.53846, -0.045455, 0.0, 164, -0.15556, 3142, -0.94872, 0.090909, 0.0, 164, -0.11111, 3143, -0.4359, -0.045455, 0.19048, 164, -0.11111, 3144, -0.4359, 0.090909, 0.19048, 164, -0.066667, 3145, 0.025641, -0.18182, 0.42857, 164, -0.066667, 3146, 0.076923, 0.090909, -0.28571, 164, -0.066667, 3147, -0.025641, 0.090909, 0.095238, 164, -0.066667, 3148, -0.076923, 0.045455, 0.14286, 164, -0.066667, 3149, 0.025641 ... 1994 parameters truncated ... 171, -0.91111, 3482, -0.64103, 0.77273, 0.42857, 171, -0.37778, 3483, -0.74359, 0.77273, 0.28571, 171, -0.37778, 3484, -0.53846, 0.68182, 0.28571, 171, -0.37778, 3485, -0.4359, 0.36364, 0.28571, 171, -0.55556, 3486, -0.84615, 0.5, 0.85714, 171, -0.55556, 3487, -1.0, 0.72727, 0.71429, 171, -0.55556, 3488, -0.53846, 0.72727, 0.42857, 171, -0.55556, 3489, -0.48718, 0.63636, 0.57143, 171, -0.55556)\n"
     ]
    },
    {
     "name": "stderr",
     "output_type": "stream",
     "text": [
      "[07-03 19:24:29] p38176 {C:\\Projects\\Private\\PropStar\\venv\\lib\\site-packages\\sqlalchemy\\engine\\base.py:2082} INFO - [insertmanyvalues 10/38 (unordered)] (3141, -0.53846, -0.045455, 0.0, 164, -0.15556, 3142, -0.94872, 0.090909, 0.0, 164, -0.11111, 3143, -0.4359, -0.045455, 0.19048, 164, -0.11111, 3144, -0.4359, 0.090909, 0.19048, 164, -0.066667, 3145, 0.025641, -0.18182, 0.42857, 164, -0.066667, 3146, 0.076923, 0.090909, -0.28571, 164, -0.066667, 3147, -0.025641, 0.090909, 0.095238, 164, -0.066667, 3148, -0.076923, 0.045455, 0.14286, 164, -0.066667, 3149, 0.025641 ... 1994 parameters truncated ... 171, -0.91111, 3482, -0.64103, 0.77273, 0.42857, 171, -0.37778, 3483, -0.74359, 0.77273, 0.28571, 171, -0.37778, 3484, -0.53846, 0.68182, 0.28571, 171, -0.37778, 3485, -0.4359, 0.36364, 0.28571, 171, -0.55556, 3486, -0.84615, 0.5, 0.85714, 171, -0.55556, 3487, -1.0, 0.72727, 0.71429, 171, -0.55556, 3488, -0.53846, 0.72727, 0.42857, 171, -0.55556, 3489, -0.48718, 0.63636, 0.57143, 171, -0.55556)\n"
     ]
    },
    {
     "name": "stdout",
     "output_type": "stream",
     "text": [
      "2024-07-03 19:24:29,456 INFO sqlalchemy.engine.Engine INSERT INTO indoor_user_movement.movements (id, [ RSS_anchor2], [ RSS_anchor3], [ RSS_anchor4], seq_id, [RSS_anchor1]) VALUES (?, ?, ?, ?, ?, ?), (?, ?, ?, ?, ?, ?), (?, ?, ?, ?, ?, ?), (?, ?, ?, ?, ?, ?), (?, ?, ?, ?, ?, ?), (?, ?, ?, ?, ?, ?), (?,  ... 6754 characters truncated ... , (?, ?, ?, ?, ?, ?), (?, ?, ?, ?, ?, ?), (?, ?, ?, ?, ?, ?), (?, ?, ?, ?, ?, ?), (?, ?, ?, ?, ?, ?)\n"
     ]
    },
    {
     "name": "stderr",
     "output_type": "stream",
     "text": [
      "[07-03 19:24:29] p38176 {C:\\Projects\\Private\\PropStar\\venv\\lib\\site-packages\\sqlalchemy\\engine\\base.py:2064} INFO - INSERT INTO indoor_user_movement.movements (id, [ RSS_anchor2], [ RSS_anchor3], [ RSS_anchor4], seq_id, [RSS_anchor1]) VALUES (?, ?, ?, ?, ?, ?), (?, ?, ?, ?, ?, ?), (?, ?, ?, ?, ?, ?), (?, ?, ?, ?, ?, ?), (?, ?, ?, ?, ?, ?), (?, ?, ?, ?, ?, ?), (?,  ... 6754 characters truncated ... , (?, ?, ?, ?, ?, ?), (?, ?, ?, ?, ?, ?), (?, ?, ?, ?, ?, ?), (?, ?, ?, ?, ?, ?), (?, ?, ?, ?, ?, ?)\n"
     ]
    },
    {
     "name": "stdout",
     "output_type": "stream",
     "text": [
      "2024-07-03 19:24:29,457 INFO sqlalchemy.engine.Engine [insertmanyvalues 11/38 (unordered)] (3490, -0.64103, 0.77273, 0.57143, 171, -0.46667, 3491, -0.79487, 0.77273, 0.57143, 171, -0.066667, 3492, -0.53846, 0.77273, 0.57143, 171, -0.68889, 3493, -0.64103, 0.77273, 0.57143, 171, -0.46667, 3494, -0.64103, 0.81818, 0.80952, 171, -0.46667, 3495, -0.38462, 0.86364, 0.80952, 171, -0.46667, 3496, -0.53846, 0.95455, 0.33333, 171, -0.46667, 3497, -0.53846, 0.77273, 0.57143, 171, -0.46667, 3498, -1.0 ... 1994 parameters truncated ... 177, -0.28889, 3831, -0.58974, -0.54545, 0.33333, 177, -0.46667, 3832, -0.23077, 0.18182, 0.33333, 177, -0.15556, 3833, -0.89744, 0.090909, 0.33333, 177, -0.2, 3834, -0.28205, 0.090909, 0.14286, 177, -0.2, 3835, -0.38462, 0.090909, 0.14286, 177, 0.066667, 3836, -0.4359, 0.090909, 0.28571, 177, 0.066667, 3837, -0.076923, -0.27273, 0.33333, 177, 0.066667, 3838, -0.38462, 0.31818, 0.33333, 177, -0.24444)\n"
     ]
    },
    {
     "name": "stderr",
     "output_type": "stream",
     "text": [
      "[07-03 19:24:29] p38176 {C:\\Projects\\Private\\PropStar\\venv\\lib\\site-packages\\sqlalchemy\\engine\\base.py:2082} INFO - [insertmanyvalues 11/38 (unordered)] (3490, -0.64103, 0.77273, 0.57143, 171, -0.46667, 3491, -0.79487, 0.77273, 0.57143, 171, -0.066667, 3492, -0.53846, 0.77273, 0.57143, 171, -0.68889, 3493, -0.64103, 0.77273, 0.57143, 171, -0.46667, 3494, -0.64103, 0.81818, 0.80952, 171, -0.46667, 3495, -0.38462, 0.86364, 0.80952, 171, -0.46667, 3496, -0.53846, 0.95455, 0.33333, 171, -0.46667, 3497, -0.53846, 0.77273, 0.57143, 171, -0.46667, 3498, -1.0 ... 1994 parameters truncated ... 177, -0.28889, 3831, -0.58974, -0.54545, 0.33333, 177, -0.46667, 3832, -0.23077, 0.18182, 0.33333, 177, -0.15556, 3833, -0.89744, 0.090909, 0.33333, 177, -0.2, 3834, -0.28205, 0.090909, 0.14286, 177, -0.2, 3835, -0.38462, 0.090909, 0.14286, 177, 0.066667, 3836, -0.4359, 0.090909, 0.28571, 177, 0.066667, 3837, -0.076923, -0.27273, 0.33333, 177, 0.066667, 3838, -0.38462, 0.31818, 0.33333, 177, -0.24444)\n"
     ]
    },
    {
     "name": "stdout",
     "output_type": "stream",
     "text": [
      "2024-07-03 19:24:29,466 INFO sqlalchemy.engine.Engine INSERT INTO indoor_user_movement.movements (id, [ RSS_anchor2], [ RSS_anchor3], [ RSS_anchor4], seq_id, [RSS_anchor1]) VALUES (?, ?, ?, ?, ?, ?), (?, ?, ?, ?, ?, ?), (?, ?, ?, ?, ?, ?), (?, ?, ?, ?, ?, ?), (?, ?, ?, ?, ?, ?), (?, ?, ?, ?, ?, ?), (?,  ... 6754 characters truncated ... , (?, ?, ?, ?, ?, ?), (?, ?, ?, ?, ?, ?), (?, ?, ?, ?, ?, ?), (?, ?, ?, ?, ?, ?), (?, ?, ?, ?, ?, ?)\n"
     ]
    },
    {
     "name": "stderr",
     "output_type": "stream",
     "text": [
      "[07-03 19:24:29] p38176 {C:\\Projects\\Private\\PropStar\\venv\\lib\\site-packages\\sqlalchemy\\engine\\base.py:2064} INFO - INSERT INTO indoor_user_movement.movements (id, [ RSS_anchor2], [ RSS_anchor3], [ RSS_anchor4], seq_id, [RSS_anchor1]) VALUES (?, ?, ?, ?, ?, ?), (?, ?, ?, ?, ?, ?), (?, ?, ?, ?, ?, ?), (?, ?, ?, ?, ?, ?), (?, ?, ?, ?, ?, ?), (?, ?, ?, ?, ?, ?), (?,  ... 6754 characters truncated ... , (?, ?, ?, ?, ?, ?), (?, ?, ?, ?, ?, ?), (?, ?, ?, ?, ?, ?), (?, ?, ?, ?, ?, ?), (?, ?, ?, ?, ?, ?)\n"
     ]
    },
    {
     "name": "stdout",
     "output_type": "stream",
     "text": [
      "2024-07-03 19:24:29,468 INFO sqlalchemy.engine.Engine [insertmanyvalues 12/38 (unordered)] (3839, -0.53846, 0.77273, 0.57143, 177, -0.24444, 3840, -0.53846, 0.77273, 0.57143, 177, -0.2, 3841, -0.38462, 0.77273, 0.57143, 177, -0.2, 3842, -0.38462, 0.77273, 0.38095, 177, -0.2, 3843, -0.53846, 0.22727, 0.38095, 177, -0.42222, 3844, -0.38462, 0.22727, 0.28571, 177, -0.42222, 3845, -1.0, 0.45455, 0.28571, 177, -0.55556, 3846, -1.0, 0.77273, 0.57143, 177, -0.55556, 3847, -0.69231 ... 1994 parameters truncated ... 183, -0.2, 4180, -0.58974, 0.77273, 0.19048, 183, -0.2, 4181, -0.74359, 0.77273, 0.52381, 183, -0.2, 4182, -0.84615, 0.090909, 0.52381, 183, -0.2, 4183, -0.58974, -0.045455, 0.47619, 183, -0.2, 4184, -0.53846, 0.18182, 0.28571, 183, -0.95556, 4185, -0.58974, 0.45455, 0.28571, 183, -0.6, 4186, -1.0, 0.72727, 0.28571, 183, -0.37778, 4187, -0.94872, 0.68182, 0.28571, 183, -0.77778)\n"
     ]
    },
    {
     "name": "stderr",
     "output_type": "stream",
     "text": [
      "[07-03 19:24:29] p38176 {C:\\Projects\\Private\\PropStar\\venv\\lib\\site-packages\\sqlalchemy\\engine\\base.py:2082} INFO - [insertmanyvalues 12/38 (unordered)] (3839, -0.53846, 0.77273, 0.57143, 177, -0.24444, 3840, -0.53846, 0.77273, 0.57143, 177, -0.2, 3841, -0.38462, 0.77273, 0.57143, 177, -0.2, 3842, -0.38462, 0.77273, 0.38095, 177, -0.2, 3843, -0.53846, 0.22727, 0.38095, 177, -0.42222, 3844, -0.38462, 0.22727, 0.28571, 177, -0.42222, 3845, -1.0, 0.45455, 0.28571, 177, -0.55556, 3846, -1.0, 0.77273, 0.57143, 177, -0.55556, 3847, -0.69231 ... 1994 parameters truncated ... 183, -0.2, 4180, -0.58974, 0.77273, 0.19048, 183, -0.2, 4181, -0.74359, 0.77273, 0.52381, 183, -0.2, 4182, -0.84615, 0.090909, 0.52381, 183, -0.2, 4183, -0.58974, -0.045455, 0.47619, 183, -0.2, 4184, -0.53846, 0.18182, 0.28571, 183, -0.95556, 4185, -0.58974, 0.45455, 0.28571, 183, -0.6, 4186, -1.0, 0.72727, 0.28571, 183, -0.37778, 4187, -0.94872, 0.68182, 0.28571, 183, -0.77778)\n"
     ]
    },
    {
     "name": "stdout",
     "output_type": "stream",
     "text": [
      "2024-07-03 19:24:29,479 INFO sqlalchemy.engine.Engine INSERT INTO indoor_user_movement.movements (id, [ RSS_anchor2], [ RSS_anchor3], [ RSS_anchor4], seq_id, [RSS_anchor1]) VALUES (?, ?, ?, ?, ?, ?), (?, ?, ?, ?, ?, ?), (?, ?, ?, ?, ?, ?), (?, ?, ?, ?, ?, ?), (?, ?, ?, ?, ?, ?), (?, ?, ?, ?, ?, ?), (?,  ... 6754 characters truncated ... , (?, ?, ?, ?, ?, ?), (?, ?, ?, ?, ?, ?), (?, ?, ?, ?, ?, ?), (?, ?, ?, ?, ?, ?), (?, ?, ?, ?, ?, ?)\n"
     ]
    },
    {
     "name": "stderr",
     "output_type": "stream",
     "text": [
      "[07-03 19:24:29] p38176 {C:\\Projects\\Private\\PropStar\\venv\\lib\\site-packages\\sqlalchemy\\engine\\base.py:2064} INFO - INSERT INTO indoor_user_movement.movements (id, [ RSS_anchor2], [ RSS_anchor3], [ RSS_anchor4], seq_id, [RSS_anchor1]) VALUES (?, ?, ?, ?, ?, ?), (?, ?, ?, ?, ?, ?), (?, ?, ?, ?, ?, ?), (?, ?, ?, ?, ?, ?), (?, ?, ?, ?, ?, ?), (?, ?, ?, ?, ?, ?), (?,  ... 6754 characters truncated ... , (?, ?, ?, ?, ?, ?), (?, ?, ?, ?, ?, ?), (?, ?, ?, ?, ?, ?), (?, ?, ?, ?, ?, ?), (?, ?, ?, ?, ?, ?)\n"
     ]
    },
    {
     "name": "stdout",
     "output_type": "stream",
     "text": [
      "2024-07-03 19:24:29,481 INFO sqlalchemy.engine.Engine [insertmanyvalues 13/38 (unordered)] (4188, -0.53846, 0.5, 0.28571, 183, -0.6, 4189, -0.53846, 0.77273, 0.28571, 183, -0.51111, 4190, -0.74359, 0.77273, 0.28571, 183, -0.51111, 4191, -0.64103, 0.77273, 0.90476, 183, -0.51111, 4192, -0.58974, 0.5, 0.57143, 183, -0.46667, 4193, -0.53846, 0.77273, 0.57143, 183, -0.46667, 4194, -0.89744, 0.77273, 0.71429, 183, -0.73333, 4195, -0.48718, 0.77273, 0.71429, 183, -0.28889, 4196, -0.74359 ... 1994 parameters truncated ... 189, -0.24444, 4529, -0.38462, 0.0, 0.33333, 189, -0.2, 4530, -0.38462, -0.090909, 0.33333, 189, -0.2, 4531, -0.38462, 0.22727, 0.28571, 189, -0.2, 4532, -0.38462, 0.090909, 0.28571, 189, -0.15556, 4533, -0.17949, 0.090909, 0.28571, 189, -0.15556, 4534, -0.53846, 0.090909, 0.38095, 189, -0.15556, 4535, -0.53846, 0.36364, -0.14286, 189, -0.42222, 4536, -1.0, 0.86364, -0.14286, 189, -0.2)\n"
     ]
    },
    {
     "name": "stderr",
     "output_type": "stream",
     "text": [
      "[07-03 19:24:29] p38176 {C:\\Projects\\Private\\PropStar\\venv\\lib\\site-packages\\sqlalchemy\\engine\\base.py:2082} INFO - [insertmanyvalues 13/38 (unordered)] (4188, -0.53846, 0.5, 0.28571, 183, -0.6, 4189, -0.53846, 0.77273, 0.28571, 183, -0.51111, 4190, -0.74359, 0.77273, 0.28571, 183, -0.51111, 4191, -0.64103, 0.77273, 0.90476, 183, -0.51111, 4192, -0.58974, 0.5, 0.57143, 183, -0.46667, 4193, -0.53846, 0.77273, 0.57143, 183, -0.46667, 4194, -0.89744, 0.77273, 0.71429, 183, -0.73333, 4195, -0.48718, 0.77273, 0.71429, 183, -0.28889, 4196, -0.74359 ... 1994 parameters truncated ... 189, -0.24444, 4529, -0.38462, 0.0, 0.33333, 189, -0.2, 4530, -0.38462, -0.090909, 0.33333, 189, -0.2, 4531, -0.38462, 0.22727, 0.28571, 189, -0.2, 4532, -0.38462, 0.090909, 0.28571, 189, -0.15556, 4533, -0.17949, 0.090909, 0.28571, 189, -0.15556, 4534, -0.53846, 0.090909, 0.38095, 189, -0.15556, 4535, -0.53846, 0.36364, -0.14286, 189, -0.42222, 4536, -1.0, 0.86364, -0.14286, 189, -0.2)\n"
     ]
    },
    {
     "name": "stdout",
     "output_type": "stream",
     "text": [
      "2024-07-03 19:24:29,489 INFO sqlalchemy.engine.Engine INSERT INTO indoor_user_movement.movements (id, [ RSS_anchor2], [ RSS_anchor3], [ RSS_anchor4], seq_id, [RSS_anchor1]) VALUES (?, ?, ?, ?, ?, ?), (?, ?, ?, ?, ?, ?), (?, ?, ?, ?, ?, ?), (?, ?, ?, ?, ?, ?), (?, ?, ?, ?, ?, ?), (?, ?, ?, ?, ?, ?), (?,  ... 6754 characters truncated ... , (?, ?, ?, ?, ?, ?), (?, ?, ?, ?, ?, ?), (?, ?, ?, ?, ?, ?), (?, ?, ?, ?, ?, ?), (?, ?, ?, ?, ?, ?)\n"
     ]
    },
    {
     "name": "stderr",
     "output_type": "stream",
     "text": [
      "[07-03 19:24:29] p38176 {C:\\Projects\\Private\\PropStar\\venv\\lib\\site-packages\\sqlalchemy\\engine\\base.py:2064} INFO - INSERT INTO indoor_user_movement.movements (id, [ RSS_anchor2], [ RSS_anchor3], [ RSS_anchor4], seq_id, [RSS_anchor1]) VALUES (?, ?, ?, ?, ?, ?), (?, ?, ?, ?, ?, ?), (?, ?, ?, ?, ?, ?), (?, ?, ?, ?, ?, ?), (?, ?, ?, ?, ?, ?), (?, ?, ?, ?, ?, ?), (?,  ... 6754 characters truncated ... , (?, ?, ?, ?, ?, ?), (?, ?, ?, ?, ?, ?), (?, ?, ?, ?, ?, ?), (?, ?, ?, ?, ?, ?), (?, ?, ?, ?, ?, ?)\n"
     ]
    },
    {
     "name": "stdout",
     "output_type": "stream",
     "text": [
      "2024-07-03 19:24:29,491 INFO sqlalchemy.engine.Engine [insertmanyvalues 14/38 (unordered)] (4537, -0.84615, 0.5, -0.14286, 189, -0.2, 4538, -0.53846, 0.72727, 0.57143, 189, -0.28889, 4539, -0.79487, 0.090909, 0.57143, 189, -0.6, 4540, -0.38462, 0.31818, 0.57143, 189, -0.6, 4541, -0.38462, 0.72727, 0.19048, 189, -0.42222, 4542, -0.38462, 0.77273, 0.19048, 189, -0.42222, 4543, -1.0, 0.5, 0.7619, 189, -0.42222, 4544, -1.0, 0.31818, 0.80952, 189, -0.64444, 4545, -0.48718 ... 1994 parameters truncated ... 195, -0.066667, 4878, -0.38462, -0.18182, 0.42857, 195, -0.066667, 4879, -0.076923, 0.090909, 0.42857, 195, -0.066667, 4880, -0.025641, 0.27273, -0.47619, 195, -0.066667, 4881, -0.28205, 0.22727, 0.14286, 195, -0.066667, 4882, -0.12821, 0.0, 0.14286, 195, -0.2, 4883, -0.64103, 0.36364, 0.14286, 195, -0.2, 4884, -0.84615, 0.90909, 0.14286, 195, -0.46667, 4885, -1.0, 0.68182, 0.14286, 195, -0.68889)\n"
     ]
    },
    {
     "name": "stderr",
     "output_type": "stream",
     "text": [
      "[07-03 19:24:29] p38176 {C:\\Projects\\Private\\PropStar\\venv\\lib\\site-packages\\sqlalchemy\\engine\\base.py:2082} INFO - [insertmanyvalues 14/38 (unordered)] (4537, -0.84615, 0.5, -0.14286, 189, -0.2, 4538, -0.53846, 0.72727, 0.57143, 189, -0.28889, 4539, -0.79487, 0.090909, 0.57143, 189, -0.6, 4540, -0.38462, 0.31818, 0.57143, 189, -0.6, 4541, -0.38462, 0.72727, 0.19048, 189, -0.42222, 4542, -0.38462, 0.77273, 0.19048, 189, -0.42222, 4543, -1.0, 0.5, 0.7619, 189, -0.42222, 4544, -1.0, 0.31818, 0.80952, 189, -0.64444, 4545, -0.48718 ... 1994 parameters truncated ... 195, -0.066667, 4878, -0.38462, -0.18182, 0.42857, 195, -0.066667, 4879, -0.076923, 0.090909, 0.42857, 195, -0.066667, 4880, -0.025641, 0.27273, -0.47619, 195, -0.066667, 4881, -0.28205, 0.22727, 0.14286, 195, -0.066667, 4882, -0.12821, 0.0, 0.14286, 195, -0.2, 4883, -0.64103, 0.36364, 0.14286, 195, -0.2, 4884, -0.84615, 0.90909, 0.14286, 195, -0.46667, 4885, -1.0, 0.68182, 0.14286, 195, -0.68889)\n"
     ]
    },
    {
     "name": "stdout",
     "output_type": "stream",
     "text": [
      "2024-07-03 19:24:29,500 INFO sqlalchemy.engine.Engine INSERT INTO indoor_user_movement.movements (id, [ RSS_anchor2], [ RSS_anchor3], [ RSS_anchor4], seq_id, [RSS_anchor1]) VALUES (?, ?, ?, ?, ?, ?), (?, ?, ?, ?, ?, ?), (?, ?, ?, ?, ?, ?), (?, ?, ?, ?, ?, ?), (?, ?, ?, ?, ?, ?), (?, ?, ?, ?, ?, ?), (?,  ... 6754 characters truncated ... , (?, ?, ?, ?, ?, ?), (?, ?, ?, ?, ?, ?), (?, ?, ?, ?, ?, ?), (?, ?, ?, ?, ?, ?), (?, ?, ?, ?, ?, ?)\n"
     ]
    },
    {
     "name": "stderr",
     "output_type": "stream",
     "text": [
      "[07-03 19:24:29] p38176 {C:\\Projects\\Private\\PropStar\\venv\\lib\\site-packages\\sqlalchemy\\engine\\base.py:2064} INFO - INSERT INTO indoor_user_movement.movements (id, [ RSS_anchor2], [ RSS_anchor3], [ RSS_anchor4], seq_id, [RSS_anchor1]) VALUES (?, ?, ?, ?, ?, ?), (?, ?, ?, ?, ?, ?), (?, ?, ?, ?, ?, ?), (?, ?, ?, ?, ?, ?), (?, ?, ?, ?, ?, ?), (?, ?, ?, ?, ?, ?), (?,  ... 6754 characters truncated ... , (?, ?, ?, ?, ?, ?), (?, ?, ?, ?, ?, ?), (?, ?, ?, ?, ?, ?), (?, ?, ?, ?, ?, ?), (?, ?, ?, ?, ?, ?)\n"
     ]
    },
    {
     "name": "stdout",
     "output_type": "stream",
     "text": [
      "2024-07-03 19:24:29,502 INFO sqlalchemy.engine.Engine [insertmanyvalues 15/38 (unordered)] (4886, -0.53846, 0.81818, 0.33333, 195, -0.68889, 4887, -0.38462, 0.27273, 0.33333, 195, -0.28889, 4888, -0.94872, 0.5, 0.57143, 195, -0.28889, 4889, -0.94872, 0.72727, 0.85714, 195, -0.28889, 4890, -0.69231, 0.5, 0.7619, 195, -0.28889, 4891, -1.0, 0.72727, 0.7619, 195, -0.46667, 4892, -0.79487, 0.77273, 0.7619, 195, -0.46667, 4893, -0.69231, 0.81818, 0.7619, 195, -0.46667, 4894, -0.69231 ... 1994 parameters truncated ... 200, 0.066667, 5227, -0.23077, -0.045455, 0.90476, 200, -0.066667, 5228, -0.53846, -0.27273, 0.85714, 200, -0.066667, 5229, -0.38462, 0.090909, 0.85714, 200, -0.46667, 5230, -0.53846, 0.22727, 0.85714, 200, 0.066667, 5231, -0.48718, 0.22727, 0.85714, 200, -0.022222, 5232, -0.48718, 0.22727, 0.80952, 200, -0.022222, 5233, -0.79487, 0.0, 0.85714, 200, -0.022222, 5234, -0.69231, 0.090909, 0.85714, 200, -0.066667)\n"
     ]
    },
    {
     "name": "stderr",
     "output_type": "stream",
     "text": [
      "[07-03 19:24:29] p38176 {C:\\Projects\\Private\\PropStar\\venv\\lib\\site-packages\\sqlalchemy\\engine\\base.py:2082} INFO - [insertmanyvalues 15/38 (unordered)] (4886, -0.53846, 0.81818, 0.33333, 195, -0.68889, 4887, -0.38462, 0.27273, 0.33333, 195, -0.28889, 4888, -0.94872, 0.5, 0.57143, 195, -0.28889, 4889, -0.94872, 0.72727, 0.85714, 195, -0.28889, 4890, -0.69231, 0.5, 0.7619, 195, -0.28889, 4891, -1.0, 0.72727, 0.7619, 195, -0.46667, 4892, -0.79487, 0.77273, 0.7619, 195, -0.46667, 4893, -0.69231, 0.81818, 0.7619, 195, -0.46667, 4894, -0.69231 ... 1994 parameters truncated ... 200, 0.066667, 5227, -0.23077, -0.045455, 0.90476, 200, -0.066667, 5228, -0.53846, -0.27273, 0.85714, 200, -0.066667, 5229, -0.38462, 0.090909, 0.85714, 200, -0.46667, 5230, -0.53846, 0.22727, 0.85714, 200, 0.066667, 5231, -0.48718, 0.22727, 0.85714, 200, -0.022222, 5232, -0.48718, 0.22727, 0.80952, 200, -0.022222, 5233, -0.79487, 0.0, 0.85714, 200, -0.022222, 5234, -0.69231, 0.090909, 0.85714, 200, -0.066667)\n"
     ]
    },
    {
     "name": "stdout",
     "output_type": "stream",
     "text": [
      "2024-07-03 19:24:29,513 INFO sqlalchemy.engine.Engine INSERT INTO indoor_user_movement.movements (id, [ RSS_anchor2], [ RSS_anchor3], [ RSS_anchor4], seq_id, [RSS_anchor1]) VALUES (?, ?, ?, ?, ?, ?), (?, ?, ?, ?, ?, ?), (?, ?, ?, ?, ?, ?), (?, ?, ?, ?, ?, ?), (?, ?, ?, ?, ?, ?), (?, ?, ?, ?, ?, ?), (?,  ... 6754 characters truncated ... , (?, ?, ?, ?, ?, ?), (?, ?, ?, ?, ?, ?), (?, ?, ?, ?, ?, ?), (?, ?, ?, ?, ?, ?), (?, ?, ?, ?, ?, ?)\n"
     ]
    },
    {
     "name": "stderr",
     "output_type": "stream",
     "text": [
      "[07-03 19:24:29] p38176 {C:\\Projects\\Private\\PropStar\\venv\\lib\\site-packages\\sqlalchemy\\engine\\base.py:2064} INFO - INSERT INTO indoor_user_movement.movements (id, [ RSS_anchor2], [ RSS_anchor3], [ RSS_anchor4], seq_id, [RSS_anchor1]) VALUES (?, ?, ?, ?, ?, ?), (?, ?, ?, ?, ?, ?), (?, ?, ?, ?, ?, ?), (?, ?, ?, ?, ?, ?), (?, ?, ?, ?, ?, ?), (?, ?, ?, ?, ?, ?), (?,  ... 6754 characters truncated ... , (?, ?, ?, ?, ?, ?), (?, ?, ?, ?, ?, ?), (?, ?, ?, ?, ?, ?), (?, ?, ?, ?, ?, ?), (?, ?, ?, ?, ?, ?)\n"
     ]
    },
    {
     "name": "stdout",
     "output_type": "stream",
     "text": [
      "2024-07-03 19:24:29,515 INFO sqlalchemy.engine.Engine [insertmanyvalues 16/38 (unordered)] (5235, -0.38462, 0.36364, 0.7619, 200, -0.066667, 5236, -0.38462, 0.18182, 0.57143, 200, -0.066667, 5237, -0.38462, 0.40909, 0.57143, 200, -0.46667, 5238, -0.48718, 0.090909, 0.71429, 200, -0.46667, 5239, -0.4359, -0.090909, 0.71429, 200, -0.6, 5240, -0.48718, 0.090909, 0.71429, 200, -0.28889, 5241, -0.79487, -0.045455, 0.33333, 200, -0.28889, 5242, -0.69231, 0.090909, 0.33333, 200, -0.46667, 5243, -0.64103 ... 1994 parameters truncated ... 207, -0.066667, 5576, -0.23077, 0.090909, 0.85714, 208, -0.066667, 5577, -0.28205, -0.22727, 0.85714, 208, -0.066667, 5578, -0.33333, 0.22727, 0.95238, 208, -0.066667, 5579, -0.53846, 0.36364, 0.90476, 208, -0.066667, 5580, -0.38462, 0.27273, 0.90476, 208, -0.46667, 5581, -0.38462, 0.22727, 0.90476, 208, -0.42222, 5582, -0.38462, -0.27273, 0.71429, 208, -0.42222, 5583, -0.53846, -0.27273, 0.85714, 208, -0.42222)\n"
     ]
    },
    {
     "name": "stderr",
     "output_type": "stream",
     "text": [
      "[07-03 19:24:29] p38176 {C:\\Projects\\Private\\PropStar\\venv\\lib\\site-packages\\sqlalchemy\\engine\\base.py:2082} INFO - [insertmanyvalues 16/38 (unordered)] (5235, -0.38462, 0.36364, 0.7619, 200, -0.066667, 5236, -0.38462, 0.18182, 0.57143, 200, -0.066667, 5237, -0.38462, 0.40909, 0.57143, 200, -0.46667, 5238, -0.48718, 0.090909, 0.71429, 200, -0.46667, 5239, -0.4359, -0.090909, 0.71429, 200, -0.6, 5240, -0.48718, 0.090909, 0.71429, 200, -0.28889, 5241, -0.79487, -0.045455, 0.33333, 200, -0.28889, 5242, -0.69231, 0.090909, 0.33333, 200, -0.46667, 5243, -0.64103 ... 1994 parameters truncated ... 207, -0.066667, 5576, -0.23077, 0.090909, 0.85714, 208, -0.066667, 5577, -0.28205, -0.22727, 0.85714, 208, -0.066667, 5578, -0.33333, 0.22727, 0.95238, 208, -0.066667, 5579, -0.53846, 0.36364, 0.90476, 208, -0.066667, 5580, -0.38462, 0.27273, 0.90476, 208, -0.46667, 5581, -0.38462, 0.22727, 0.90476, 208, -0.42222, 5582, -0.38462, -0.27273, 0.71429, 208, -0.42222, 5583, -0.53846, -0.27273, 0.85714, 208, -0.42222)\n"
     ]
    },
    {
     "name": "stdout",
     "output_type": "stream",
     "text": [
      "2024-07-03 19:24:29,525 INFO sqlalchemy.engine.Engine INSERT INTO indoor_user_movement.movements (id, [ RSS_anchor2], [ RSS_anchor3], [ RSS_anchor4], seq_id, [RSS_anchor1]) VALUES (?, ?, ?, ?, ?, ?), (?, ?, ?, ?, ?, ?), (?, ?, ?, ?, ?, ?), (?, ?, ?, ?, ?, ?), (?, ?, ?, ?, ?, ?), (?, ?, ?, ?, ?, ?), (?,  ... 6754 characters truncated ... , (?, ?, ?, ?, ?, ?), (?, ?, ?, ?, ?, ?), (?, ?, ?, ?, ?, ?), (?, ?, ?, ?, ?, ?), (?, ?, ?, ?, ?, ?)\n"
     ]
    },
    {
     "name": "stderr",
     "output_type": "stream",
     "text": [
      "[07-03 19:24:29] p38176 {C:\\Projects\\Private\\PropStar\\venv\\lib\\site-packages\\sqlalchemy\\engine\\base.py:2064} INFO - INSERT INTO indoor_user_movement.movements (id, [ RSS_anchor2], [ RSS_anchor3], [ RSS_anchor4], seq_id, [RSS_anchor1]) VALUES (?, ?, ?, ?, ?, ?), (?, ?, ?, ?, ?, ?), (?, ?, ?, ?, ?, ?), (?, ?, ?, ?, ?, ?), (?, ?, ?, ?, ?, ?), (?, ?, ?, ?, ?, ?), (?,  ... 6754 characters truncated ... , (?, ?, ?, ?, ?, ?), (?, ?, ?, ?, ?, ?), (?, ?, ?, ?, ?, ?), (?, ?, ?, ?, ?, ?), (?, ?, ?, ?, ?, ?)\n"
     ]
    },
    {
     "name": "stdout",
     "output_type": "stream",
     "text": [
      "2024-07-03 19:24:29,527 INFO sqlalchemy.engine.Engine [insertmanyvalues 17/38 (unordered)] (5584, -0.84615, 0.22727, 0.85714, 208, -0.64444, 5585, -0.94872, 0.18182, 0.85714, 208, -0.37778, 5586, -0.38462, 0.090909, 0.57143, 208, -0.37778, 5587, -0.69231, 0.0, 0.57143, 208, -0.51111, 5588, -0.53846, 0.27273, 0.57143, 208, -0.24444, 5589, -0.69231, 0.22727, 0.57143, 208, -0.51111, 5590, -0.74359, 0.36364, 0.57143, 208, -0.6, 5591, -0.69231, 0.31818, 0.57143, 208, -0.6, 5592, -0.69231 ... 1994 parameters truncated ... 214, -0.090909, 5925, 0.15556, -0.022222, 0.021277, 214, 0.090909, 5926, 0.022222, -0.066667, 0.021277, 214, 0.090909, 5927, -0.46667, 0.066667, 0.021277, 214, 0.090909, 5928, -0.066667, -0.11111, -0.19149, 214, 0.22727, 5929, -0.2, 0.066667, 0.021277, 214, 0.22727, 5930, -0.15556, -0.33333, 0.021277, 214, 0.22727, 5931, -0.2, -0.2, 0.021277, 214, 0.27273, 5932, -0.2, -0.33333, -0.10638, 214, 0.045455)\n"
     ]
    },
    {
     "name": "stderr",
     "output_type": "stream",
     "text": [
      "[07-03 19:24:29] p38176 {C:\\Projects\\Private\\PropStar\\venv\\lib\\site-packages\\sqlalchemy\\engine\\base.py:2082} INFO - [insertmanyvalues 17/38 (unordered)] (5584, -0.84615, 0.22727, 0.85714, 208, -0.64444, 5585, -0.94872, 0.18182, 0.85714, 208, -0.37778, 5586, -0.38462, 0.090909, 0.57143, 208, -0.37778, 5587, -0.69231, 0.0, 0.57143, 208, -0.51111, 5588, -0.53846, 0.27273, 0.57143, 208, -0.24444, 5589, -0.69231, 0.22727, 0.57143, 208, -0.51111, 5590, -0.74359, 0.36364, 0.57143, 208, -0.6, 5591, -0.69231, 0.31818, 0.57143, 208, -0.6, 5592, -0.69231 ... 1994 parameters truncated ... 214, -0.090909, 5925, 0.15556, -0.022222, 0.021277, 214, 0.090909, 5926, 0.022222, -0.066667, 0.021277, 214, 0.090909, 5927, -0.46667, 0.066667, 0.021277, 214, 0.090909, 5928, -0.066667, -0.11111, -0.19149, 214, 0.22727, 5929, -0.2, 0.066667, 0.021277, 214, 0.22727, 5930, -0.15556, -0.33333, 0.021277, 214, 0.22727, 5931, -0.2, -0.2, 0.021277, 214, 0.27273, 5932, -0.2, -0.33333, -0.10638, 214, 0.045455)\n"
     ]
    },
    {
     "name": "stdout",
     "output_type": "stream",
     "text": [
      "2024-07-03 19:24:29,536 INFO sqlalchemy.engine.Engine INSERT INTO indoor_user_movement.movements (id, [ RSS_anchor2], [ RSS_anchor3], [ RSS_anchor4], seq_id, [RSS_anchor1]) VALUES (?, ?, ?, ?, ?, ?), (?, ?, ?, ?, ?, ?), (?, ?, ?, ?, ?, ?), (?, ?, ?, ?, ?, ?), (?, ?, ?, ?, ?, ?), (?, ?, ?, ?, ?, ?), (?,  ... 6754 characters truncated ... , (?, ?, ?, ?, ?, ?), (?, ?, ?, ?, ?, ?), (?, ?, ?, ?, ?, ?), (?, ?, ?, ?, ?, ?), (?, ?, ?, ?, ?, ?)\n"
     ]
    },
    {
     "name": "stderr",
     "output_type": "stream",
     "text": [
      "[07-03 19:24:29] p38176 {C:\\Projects\\Private\\PropStar\\venv\\lib\\site-packages\\sqlalchemy\\engine\\base.py:2064} INFO - INSERT INTO indoor_user_movement.movements (id, [ RSS_anchor2], [ RSS_anchor3], [ RSS_anchor4], seq_id, [RSS_anchor1]) VALUES (?, ?, ?, ?, ?, ?), (?, ?, ?, ?, ?, ?), (?, ?, ?, ?, ?, ?), (?, ?, ?, ?, ?, ?), (?, ?, ?, ?, ?, ?), (?, ?, ?, ?, ?, ?), (?,  ... 6754 characters truncated ... , (?, ?, ?, ?, ?, ?), (?, ?, ?, ?, ?, ?), (?, ?, ?, ?, ?, ?), (?, ?, ?, ?, ?, ?), (?, ?, ?, ?, ?, ?)\n"
     ]
    },
    {
     "name": "stdout",
     "output_type": "stream",
     "text": [
      "2024-07-03 19:24:29,538 INFO sqlalchemy.engine.Engine [insertmanyvalues 18/38 (unordered)] (5933, 0.066667, 0.066667, -0.10638, 214, 0.045455, 5934, -0.066667, -0.77778, -0.10638, 214, 0.0, 5935, -0.37778, -0.066667, -0.10638, 214, -0.54545, 5936, -0.066667, -0.11111, -0.3617, 214, 0.13636, 5937, -0.11111, -0.2, -0.65957, 214, 0.13636, 5938, 0.022222, -0.33333, -0.65957, 214, 0.13636, 5939, -0.15556, -0.24444, -0.65957, 214, -0.31818, 5940, -0.37778, -0.33333, -0.48936, 214, -0.090909, 5941, -0.28889 ... 1994 parameters truncated ... 22, -0.33333, 6274, -0.32, 0.33333, 0.65, 22, -0.66667, 6275, -0.4, 0.42857, 0.8, 22, -0.33333, 6276, -0.12, 0.28571, 0.95, 22, -0.42857, 6277, -0.52, 0.47619, 0.55, 22, -0.80952, 6278, -0.8, 0.42857, 0.65, 22, -1.0, 6279, -0.32, 0.57143, 0.05, 22, -1.0, 6280, -0.36, 0.19048, 0.35, 22, -1.0, 6281, -0.32, 0.42857, 0.3, 22, -0.42857)\n"
     ]
    },
    {
     "name": "stderr",
     "output_type": "stream",
     "text": [
      "[07-03 19:24:29] p38176 {C:\\Projects\\Private\\PropStar\\venv\\lib\\site-packages\\sqlalchemy\\engine\\base.py:2082} INFO - [insertmanyvalues 18/38 (unordered)] (5933, 0.066667, 0.066667, -0.10638, 214, 0.045455, 5934, -0.066667, -0.77778, -0.10638, 214, 0.0, 5935, -0.37778, -0.066667, -0.10638, 214, -0.54545, 5936, -0.066667, -0.11111, -0.3617, 214, 0.13636, 5937, -0.11111, -0.2, -0.65957, 214, 0.13636, 5938, 0.022222, -0.33333, -0.65957, 214, 0.13636, 5939, -0.15556, -0.24444, -0.65957, 214, -0.31818, 5940, -0.37778, -0.33333, -0.48936, 214, -0.090909, 5941, -0.28889 ... 1994 parameters truncated ... 22, -0.33333, 6274, -0.32, 0.33333, 0.65, 22, -0.66667, 6275, -0.4, 0.42857, 0.8, 22, -0.33333, 6276, -0.12, 0.28571, 0.95, 22, -0.42857, 6277, -0.52, 0.47619, 0.55, 22, -0.80952, 6278, -0.8, 0.42857, 0.65, 22, -1.0, 6279, -0.32, 0.57143, 0.05, 22, -1.0, 6280, -0.36, 0.19048, 0.35, 22, -1.0, 6281, -0.32, 0.42857, 0.3, 22, -0.42857)\n"
     ]
    },
    {
     "name": "stdout",
     "output_type": "stream",
     "text": [
      "2024-07-03 19:24:29,548 INFO sqlalchemy.engine.Engine INSERT INTO indoor_user_movement.movements (id, [ RSS_anchor2], [ RSS_anchor3], [ RSS_anchor4], seq_id, [RSS_anchor1]) VALUES (?, ?, ?, ?, ?, ?), (?, ?, ?, ?, ?, ?), (?, ?, ?, ?, ?, ?), (?, ?, ?, ?, ?, ?), (?, ?, ?, ?, ?, ?), (?, ?, ?, ?, ?, ?), (?,  ... 6754 characters truncated ... , (?, ?, ?, ?, ?, ?), (?, ?, ?, ?, ?, ?), (?, ?, ?, ?, ?, ?), (?, ?, ?, ?, ?, ?), (?, ?, ?, ?, ?, ?)\n"
     ]
    },
    {
     "name": "stderr",
     "output_type": "stream",
     "text": [
      "[07-03 19:24:29] p38176 {C:\\Projects\\Private\\PropStar\\venv\\lib\\site-packages\\sqlalchemy\\engine\\base.py:2064} INFO - INSERT INTO indoor_user_movement.movements (id, [ RSS_anchor2], [ RSS_anchor3], [ RSS_anchor4], seq_id, [RSS_anchor1]) VALUES (?, ?, ?, ?, ?, ?), (?, ?, ?, ?, ?, ?), (?, ?, ?, ?, ?, ?), (?, ?, ?, ?, ?, ?), (?, ?, ?, ?, ?, ?), (?, ?, ?, ?, ?, ?), (?,  ... 6754 characters truncated ... , (?, ?, ?, ?, ?, ?), (?, ?, ?, ?, ?, ?), (?, ?, ?, ?, ?, ?), (?, ?, ?, ?, ?, ?), (?, ?, ?, ?, ?, ?)\n"
     ]
    },
    {
     "name": "stdout",
     "output_type": "stream",
     "text": [
      "2024-07-03 19:24:29,549 INFO sqlalchemy.engine.Engine [insertmanyvalues 19/38 (unordered)] (6282, -0.32, 0.71429, 0.35, 22, -0.57143, 6283, -0.28, 0.71429, 0.35, 22, -0.57143, 6284, -0.68, 0.47619, 0.55, 22, -0.80952, 6285, -0.48, 0.7619, 1.0, 22, -0.95238, 6286, -0.64, 0.52381, 0.8, 22, -0.80952, 6287, -0.8, 0.57143, 0.6, 22, -0.90476, 6288, -0.68, 0.52381, 0.0, 22, -0.66667, 6289, -0.4, 0.52381, 0.2, 22, -0.95238, 6290, -0.28 ... 1994 parameters truncated ... 224, 0.090909, 6623, 0.2, -0.6, -0.48936, 224, 0.090909, 6624, 0.33333, -0.55556, -0.3617, 224, 0.090909, 6625, 0.28889, -0.6, -0.61702, 224, 0.090909, 6626, 0.022222, -0.6, -0.3617, 224, 0.090909, 6627, -0.022222, -0.6, -0.53191, 224, 0.090909, 6628, 0.33333, -0.86667, -0.40426, 224, 0.090909, 6629, -0.33333, -0.82222, -0.70213, 224, 0.81818, 6630, 0.24444, -0.68889, -0.70213, 224, 0.77273)\n"
     ]
    },
    {
     "name": "stderr",
     "output_type": "stream",
     "text": [
      "[07-03 19:24:29] p38176 {C:\\Projects\\Private\\PropStar\\venv\\lib\\site-packages\\sqlalchemy\\engine\\base.py:2082} INFO - [insertmanyvalues 19/38 (unordered)] (6282, -0.32, 0.71429, 0.35, 22, -0.57143, 6283, -0.28, 0.71429, 0.35, 22, -0.57143, 6284, -0.68, 0.47619, 0.55, 22, -0.80952, 6285, -0.48, 0.7619, 1.0, 22, -0.95238, 6286, -0.64, 0.52381, 0.8, 22, -0.80952, 6287, -0.8, 0.57143, 0.6, 22, -0.90476, 6288, -0.68, 0.52381, 0.0, 22, -0.66667, 6289, -0.4, 0.52381, 0.2, 22, -0.95238, 6290, -0.28 ... 1994 parameters truncated ... 224, 0.090909, 6623, 0.2, -0.6, -0.48936, 224, 0.090909, 6624, 0.33333, -0.55556, -0.3617, 224, 0.090909, 6625, 0.28889, -0.6, -0.61702, 224, 0.090909, 6626, 0.022222, -0.6, -0.3617, 224, 0.090909, 6627, -0.022222, -0.6, -0.53191, 224, 0.090909, 6628, 0.33333, -0.86667, -0.40426, 224, 0.090909, 6629, -0.33333, -0.82222, -0.70213, 224, 0.81818, 6630, 0.24444, -0.68889, -0.70213, 224, 0.77273)\n"
     ]
    },
    {
     "name": "stdout",
     "output_type": "stream",
     "text": [
      "2024-07-03 19:24:29,559 INFO sqlalchemy.engine.Engine INSERT INTO indoor_user_movement.movements (id, [ RSS_anchor2], [ RSS_anchor3], [ RSS_anchor4], seq_id, [RSS_anchor1]) VALUES (?, ?, ?, ?, ?, ?), (?, ?, ?, ?, ?, ?), (?, ?, ?, ?, ?, ?), (?, ?, ?, ?, ?, ?), (?, ?, ?, ?, ?, ?), (?, ?, ?, ?, ?, ?), (?,  ... 6754 characters truncated ... , (?, ?, ?, ?, ?, ?), (?, ?, ?, ?, ?, ?), (?, ?, ?, ?, ?, ?), (?, ?, ?, ?, ?, ?), (?, ?, ?, ?, ?, ?)\n"
     ]
    },
    {
     "name": "stderr",
     "output_type": "stream",
     "text": [
      "[07-03 19:24:29] p38176 {C:\\Projects\\Private\\PropStar\\venv\\lib\\site-packages\\sqlalchemy\\engine\\base.py:2064} INFO - INSERT INTO indoor_user_movement.movements (id, [ RSS_anchor2], [ RSS_anchor3], [ RSS_anchor4], seq_id, [RSS_anchor1]) VALUES (?, ?, ?, ?, ?, ?), (?, ?, ?, ?, ?, ?), (?, ?, ?, ?, ?, ?), (?, ?, ?, ?, ?, ?), (?, ?, ?, ?, ?, ?), (?, ?, ?, ?, ?, ?), (?,  ... 6754 characters truncated ... , (?, ?, ?, ?, ?, ?), (?, ?, ?, ?, ?, ?), (?, ?, ?, ?, ?, ?), (?, ?, ?, ?, ?, ?), (?, ?, ?, ?, ?, ?)\n"
     ]
    },
    {
     "name": "stdout",
     "output_type": "stream",
     "text": [
      "2024-07-03 19:24:29,560 INFO sqlalchemy.engine.Engine [insertmanyvalues 20/38 (unordered)] (6631, -0.066667, -1.0, -0.70213, 224, 0.77273, 6632, 0.2, -0.73333, -0.91489, 224, 0.77273, 6633, 0.2, -0.6, -0.82979, 224, 0.77273, 6634, 0.42222, -1.0, -0.82979, 224, 0.22727, 6635, -0.46667, -0.73333, -0.82979, 224, 0.22727, 6636, -0.37778, -0.86667, -0.48936, 224, 0.27273, 6637, 0.2, -0.82222, -0.48936, 224, 0.45455, 6638, -0.2, -0.82222, -0.48936, 224, 0.86364, 6639, 0.33333 ... 1994 parameters truncated ... 23, -0.28571, 6972, 0.08, -0.47619, -0.4, 23, -0.38095, 6973, -0.42222, 0.2, 0.021277, 230, -0.27273, 6974, -0.33333, 0.2, 0.021277, 230, -0.31818, 6975, -0.37778, 0.55556, 0.021277, 230, -0.18182, 6976, -0.42222, 0.73333, 0.021277, 230, -0.22727, 6977, -0.64444, 0.73333, 0.021277, 230, -0.22727, 6978, -1.0, 0.2, 0.2766, 230, -0.40909, 6979, -0.82222, 0.33333, 0.2766, 230, -0.40909)\n"
     ]
    },
    {
     "name": "stderr",
     "output_type": "stream",
     "text": [
      "[07-03 19:24:29] p38176 {C:\\Projects\\Private\\PropStar\\venv\\lib\\site-packages\\sqlalchemy\\engine\\base.py:2082} INFO - [insertmanyvalues 20/38 (unordered)] (6631, -0.066667, -1.0, -0.70213, 224, 0.77273, 6632, 0.2, -0.73333, -0.91489, 224, 0.77273, 6633, 0.2, -0.6, -0.82979, 224, 0.77273, 6634, 0.42222, -1.0, -0.82979, 224, 0.22727, 6635, -0.46667, -0.73333, -0.82979, 224, 0.22727, 6636, -0.37778, -0.86667, -0.48936, 224, 0.27273, 6637, 0.2, -0.82222, -0.48936, 224, 0.45455, 6638, -0.2, -0.82222, -0.48936, 224, 0.86364, 6639, 0.33333 ... 1994 parameters truncated ... 23, -0.28571, 6972, 0.08, -0.47619, -0.4, 23, -0.38095, 6973, -0.42222, 0.2, 0.021277, 230, -0.27273, 6974, -0.33333, 0.2, 0.021277, 230, -0.31818, 6975, -0.37778, 0.55556, 0.021277, 230, -0.18182, 6976, -0.42222, 0.73333, 0.021277, 230, -0.22727, 6977, -0.64444, 0.73333, 0.021277, 230, -0.22727, 6978, -1.0, 0.2, 0.2766, 230, -0.40909, 6979, -0.82222, 0.33333, 0.2766, 230, -0.40909)\n"
     ]
    },
    {
     "name": "stdout",
     "output_type": "stream",
     "text": [
      "2024-07-03 19:24:29,569 INFO sqlalchemy.engine.Engine INSERT INTO indoor_user_movement.movements (id, [ RSS_anchor2], [ RSS_anchor3], [ RSS_anchor4], seq_id, [RSS_anchor1]) VALUES (?, ?, ?, ?, ?, ?), (?, ?, ?, ?, ?, ?), (?, ?, ?, ?, ?, ?), (?, ?, ?, ?, ?, ?), (?, ?, ?, ?, ?, ?), (?, ?, ?, ?, ?, ?), (?,  ... 6754 characters truncated ... , (?, ?, ?, ?, ?, ?), (?, ?, ?, ?, ?, ?), (?, ?, ?, ?, ?, ?), (?, ?, ?, ?, ?, ?), (?, ?, ?, ?, ?, ?)\n"
     ]
    },
    {
     "name": "stderr",
     "output_type": "stream",
     "text": [
      "[07-03 19:24:29] p38176 {C:\\Projects\\Private\\PropStar\\venv\\lib\\site-packages\\sqlalchemy\\engine\\base.py:2064} INFO - INSERT INTO indoor_user_movement.movements (id, [ RSS_anchor2], [ RSS_anchor3], [ RSS_anchor4], seq_id, [RSS_anchor1]) VALUES (?, ?, ?, ?, ?, ?), (?, ?, ?, ?, ?, ?), (?, ?, ?, ?, ?, ?), (?, ?, ?, ?, ?, ?), (?, ?, ?, ?, ?, ?), (?, ?, ?, ?, ?, ?), (?,  ... 6754 characters truncated ... , (?, ?, ?, ?, ?, ?), (?, ?, ?, ?, ?, ?), (?, ?, ?, ?, ?, ?), (?, ?, ?, ?, ?, ?), (?, ?, ?, ?, ?, ?)\n"
     ]
    },
    {
     "name": "stdout",
     "output_type": "stream",
     "text": [
      "2024-07-03 19:24:29,571 INFO sqlalchemy.engine.Engine [insertmanyvalues 21/38 (unordered)] (6980, -0.6, 0.15556, 0.14894, 230, -0.13636, 6981, -0.68889, 0.28889, 0.14894, 230, -0.13636, 6982, -0.73333, 0.33333, -0.10638, 230, 0.090909, 6983, -0.46667, 0.42222, -0.10638, 230, 0.090909, 6984, -0.33333, 0.066667, 0.06383, 230, -0.045455, 6985, -0.33333, 0.066667, 0.06383, 230, -0.045455, 6986, -0.64444, 0.066667, 0.10638, 230, -0.36364, 6987, -0.46667, 0.24444, 0.10638, 230, -0.36364, 6988, -0.066667 ... 1994 parameters truncated ... 235, -1.0, 7321, 0.066667, 0.2, -0.021277, 235, -0.045455, 7322, 0.066667, 0.066667, -0.021277, 235, -0.045455, 7323, 0.066667, -0.066667, -0.021277, 235, 0.27273, 7324, -0.022222, 0.2, -0.021277, 235, 0.36364, 7325, -0.46667, 0.022222, -0.021277, 235, 0.36364, 7326, -0.2, -0.42222, 0.14894, 235, 0.36364, 7327, -0.42222, -0.2, -0.23404, 235, 0.090909, 7328, -0.066667, -0.68889, -0.23404, 235, 0.090909)\n"
     ]
    },
    {
     "name": "stderr",
     "output_type": "stream",
     "text": [
      "[07-03 19:24:29] p38176 {C:\\Projects\\Private\\PropStar\\venv\\lib\\site-packages\\sqlalchemy\\engine\\base.py:2082} INFO - [insertmanyvalues 21/38 (unordered)] (6980, -0.6, 0.15556, 0.14894, 230, -0.13636, 6981, -0.68889, 0.28889, 0.14894, 230, -0.13636, 6982, -0.73333, 0.33333, -0.10638, 230, 0.090909, 6983, -0.46667, 0.42222, -0.10638, 230, 0.090909, 6984, -0.33333, 0.066667, 0.06383, 230, -0.045455, 6985, -0.33333, 0.066667, 0.06383, 230, -0.045455, 6986, -0.64444, 0.066667, 0.10638, 230, -0.36364, 6987, -0.46667, 0.24444, 0.10638, 230, -0.36364, 6988, -0.066667 ... 1994 parameters truncated ... 235, -1.0, 7321, 0.066667, 0.2, -0.021277, 235, -0.045455, 7322, 0.066667, 0.066667, -0.021277, 235, -0.045455, 7323, 0.066667, -0.066667, -0.021277, 235, 0.27273, 7324, -0.022222, 0.2, -0.021277, 235, 0.36364, 7325, -0.46667, 0.022222, -0.021277, 235, 0.36364, 7326, -0.2, -0.42222, 0.14894, 235, 0.36364, 7327, -0.42222, -0.2, -0.23404, 235, 0.090909, 7328, -0.066667, -0.68889, -0.23404, 235, 0.090909)\n"
     ]
    },
    {
     "name": "stdout",
     "output_type": "stream",
     "text": [
      "2024-07-03 19:24:29,579 INFO sqlalchemy.engine.Engine INSERT INTO indoor_user_movement.movements (id, [ RSS_anchor2], [ RSS_anchor3], [ RSS_anchor4], seq_id, [RSS_anchor1]) VALUES (?, ?, ?, ?, ?, ?), (?, ?, ?, ?, ?, ?), (?, ?, ?, ?, ?, ?), (?, ?, ?, ?, ?, ?), (?, ?, ?, ?, ?, ?), (?, ?, ?, ?, ?, ?), (?,  ... 6754 characters truncated ... , (?, ?, ?, ?, ?, ?), (?, ?, ?, ?, ?, ?), (?, ?, ?, ?, ?, ?), (?, ?, ?, ?, ?, ?), (?, ?, ?, ?, ?, ?)\n"
     ]
    },
    {
     "name": "stderr",
     "output_type": "stream",
     "text": [
      "[07-03 19:24:29] p38176 {C:\\Projects\\Private\\PropStar\\venv\\lib\\site-packages\\sqlalchemy\\engine\\base.py:2064} INFO - INSERT INTO indoor_user_movement.movements (id, [ RSS_anchor2], [ RSS_anchor3], [ RSS_anchor4], seq_id, [RSS_anchor1]) VALUES (?, ?, ?, ?, ?, ?), (?, ?, ?, ?, ?, ?), (?, ?, ?, ?, ?, ?), (?, ?, ?, ?, ?, ?), (?, ?, ?, ?, ?, ?), (?, ?, ?, ?, ?, ?), (?,  ... 6754 characters truncated ... , (?, ?, ?, ?, ?, ?), (?, ?, ?, ?, ?, ?), (?, ?, ?, ?, ?, ?), (?, ?, ?, ?, ?, ?), (?, ?, ?, ?, ?, ?)\n"
     ]
    },
    {
     "name": "stdout",
     "output_type": "stream",
     "text": [
      "2024-07-03 19:24:29,581 INFO sqlalchemy.engine.Engine [insertmanyvalues 22/38 (unordered)] (7329, -0.42222, 0.022222, -0.23404, 235, 0.090909, 7330, -0.066667, -0.2, -0.23404, 235, 0.090909, 7331, 0.066667, -0.15556, 0.021277, 235, 0.090909, 7332, 0.022222, -0.42222, -0.021277, 235, -0.31818, 7333, -0.42222, -0.15556, -0.021277, 235, 0.090909, 7334, -0.2, -0.066667, -0.021277, 235, 0.090909, 7335, 0.2, -0.42222, -0.53191, 235, 0.22727, 7336, -0.6, -0.2, -0.53191, 235, -0.045455, 7337, -0.066667 ... 1994 parameters truncated ... 243, 0.090909, 7670, -0.066667, -0.95556, -0.23404, 243, -0.18182, 7671, -0.24444, -0.73333, -0.23404, 243, -0.045455, 7672, 0.11111, -0.86667, -0.95745, 243, 0.13636, 7673, 0.11111, -0.73333, -0.95745, 243, 0.13636, 7674, 0.33333, -0.68889, -0.3617, 243, -0.27273, 7675, -0.46667, -0.33333, -0.3617, 243, -0.27273, 7676, 0.2, -0.6, -0.3617, 243, 0.22727, 7677, 0.2, -0.24444, -1.0, 243, -0.27273)\n"
     ]
    },
    {
     "name": "stderr",
     "output_type": "stream",
     "text": [
      "[07-03 19:24:29] p38176 {C:\\Projects\\Private\\PropStar\\venv\\lib\\site-packages\\sqlalchemy\\engine\\base.py:2082} INFO - [insertmanyvalues 22/38 (unordered)] (7329, -0.42222, 0.022222, -0.23404, 235, 0.090909, 7330, -0.066667, -0.2, -0.23404, 235, 0.090909, 7331, 0.066667, -0.15556, 0.021277, 235, 0.090909, 7332, 0.022222, -0.42222, -0.021277, 235, -0.31818, 7333, -0.42222, -0.15556, -0.021277, 235, 0.090909, 7334, -0.2, -0.066667, -0.021277, 235, 0.090909, 7335, 0.2, -0.42222, -0.53191, 235, 0.22727, 7336, -0.6, -0.2, -0.53191, 235, -0.045455, 7337, -0.066667 ... 1994 parameters truncated ... 243, 0.090909, 7670, -0.066667, -0.95556, -0.23404, 243, -0.18182, 7671, -0.24444, -0.73333, -0.23404, 243, -0.045455, 7672, 0.11111, -0.86667, -0.95745, 243, 0.13636, 7673, 0.11111, -0.73333, -0.95745, 243, 0.13636, 7674, 0.33333, -0.68889, -0.3617, 243, -0.27273, 7675, -0.46667, -0.33333, -0.3617, 243, -0.27273, 7676, 0.2, -0.6, -0.3617, 243, 0.22727, 7677, 0.2, -0.24444, -1.0, 243, -0.27273)\n"
     ]
    },
    {
     "name": "stdout",
     "output_type": "stream",
     "text": [
      "2024-07-03 19:24:29,592 INFO sqlalchemy.engine.Engine INSERT INTO indoor_user_movement.movements (id, [ RSS_anchor2], [ RSS_anchor3], [ RSS_anchor4], seq_id, [RSS_anchor1]) VALUES (?, ?, ?, ?, ?, ?), (?, ?, ?, ?, ?, ?), (?, ?, ?, ?, ?, ?), (?, ?, ?, ?, ?, ?), (?, ?, ?, ?, ?, ?), (?, ?, ?, ?, ?, ?), (?,  ... 6754 characters truncated ... , (?, ?, ?, ?, ?, ?), (?, ?, ?, ?, ?, ?), (?, ?, ?, ?, ?, ?), (?, ?, ?, ?, ?, ?), (?, ?, ?, ?, ?, ?)\n"
     ]
    },
    {
     "name": "stderr",
     "output_type": "stream",
     "text": [
      "[07-03 19:24:29] p38176 {C:\\Projects\\Private\\PropStar\\venv\\lib\\site-packages\\sqlalchemy\\engine\\base.py:2064} INFO - INSERT INTO indoor_user_movement.movements (id, [ RSS_anchor2], [ RSS_anchor3], [ RSS_anchor4], seq_id, [RSS_anchor1]) VALUES (?, ?, ?, ?, ?, ?), (?, ?, ?, ?, ?, ?), (?, ?, ?, ?, ?, ?), (?, ?, ?, ?, ?, ?), (?, ?, ?, ?, ?, ?), (?, ?, ?, ?, ?, ?), (?,  ... 6754 characters truncated ... , (?, ?, ?, ?, ?, ?), (?, ?, ?, ?, ?, ?), (?, ?, ?, ?, ?, ?), (?, ?, ?, ?, ?, ?), (?, ?, ?, ?, ?, ?)\n"
     ]
    },
    {
     "name": "stdout",
     "output_type": "stream",
     "text": [
      "2024-07-03 19:24:29,593 INFO sqlalchemy.engine.Engine [insertmanyvalues 23/38 (unordered)] (7678, -0.066667, -0.33333, -0.70213, 243, -0.27273, 7679, -0.24444, -0.73333, -0.70213, 243, -0.27273, 7680, 0.066667, -0.37778, -0.70213, 243, 0.22727, 7681, -0.24444, -0.28889, -0.10638, 243, 0.18182, 7682, -0.2, 0.066667, -0.61702, 243, 0.18182, 7683, -0.066667, 0.066667, -0.2766, 243, 0.18182, 7684, -0.2, -0.42222, -0.10638, 243, 0.18182, 7685, -0.022222, -0.33333, -0.10638, 243, 0.18182, 7686, 0.066667 ... 1994 parameters truncated ... 252, 0.27273, 8019, 0.15556, -0.73333, -0.06383, 252, -0.13636, 8020, 0.15556, -0.64444, -0.06383, 252, 0.22727, 8021, 0.066667, -1.0, -0.06383, 252, 0.22727, 8022, 0.46667, -0.68889, -0.06383, 252, 0.22727, 8023, 0.55556, -0.95556, -0.48936, 252, 0.22727, 8024, 0.46667, -0.6, -0.78723, 252, 0.68182, 8025, 0.46667, -1.0, -0.78723, 252, 0.68182, 8026, 0.46667, -0.95556, -0.53191, 252, 0.5)\n"
     ]
    },
    {
     "name": "stderr",
     "output_type": "stream",
     "text": [
      "[07-03 19:24:29] p38176 {C:\\Projects\\Private\\PropStar\\venv\\lib\\site-packages\\sqlalchemy\\engine\\base.py:2082} INFO - [insertmanyvalues 23/38 (unordered)] (7678, -0.066667, -0.33333, -0.70213, 243, -0.27273, 7679, -0.24444, -0.73333, -0.70213, 243, -0.27273, 7680, 0.066667, -0.37778, -0.70213, 243, 0.22727, 7681, -0.24444, -0.28889, -0.10638, 243, 0.18182, 7682, -0.2, 0.066667, -0.61702, 243, 0.18182, 7683, -0.066667, 0.066667, -0.2766, 243, 0.18182, 7684, -0.2, -0.42222, -0.10638, 243, 0.18182, 7685, -0.022222, -0.33333, -0.10638, 243, 0.18182, 7686, 0.066667 ... 1994 parameters truncated ... 252, 0.27273, 8019, 0.15556, -0.73333, -0.06383, 252, -0.13636, 8020, 0.15556, -0.64444, -0.06383, 252, 0.22727, 8021, 0.066667, -1.0, -0.06383, 252, 0.22727, 8022, 0.46667, -0.68889, -0.06383, 252, 0.22727, 8023, 0.55556, -0.95556, -0.48936, 252, 0.22727, 8024, 0.46667, -0.6, -0.78723, 252, 0.68182, 8025, 0.46667, -1.0, -0.78723, 252, 0.68182, 8026, 0.46667, -0.95556, -0.53191, 252, 0.5)\n"
     ]
    },
    {
     "name": "stdout",
     "output_type": "stream",
     "text": [
      "2024-07-03 19:24:29,603 INFO sqlalchemy.engine.Engine INSERT INTO indoor_user_movement.movements (id, [ RSS_anchor2], [ RSS_anchor3], [ RSS_anchor4], seq_id, [RSS_anchor1]) VALUES (?, ?, ?, ?, ?, ?), (?, ?, ?, ?, ?, ?), (?, ?, ?, ?, ?, ?), (?, ?, ?, ?, ?, ?), (?, ?, ?, ?, ?, ?), (?, ?, ?, ?, ?, ?), (?,  ... 6754 characters truncated ... , (?, ?, ?, ?, ?, ?), (?, ?, ?, ?, ?, ?), (?, ?, ?, ?, ?, ?), (?, ?, ?, ?, ?, ?), (?, ?, ?, ?, ?, ?)\n"
     ]
    },
    {
     "name": "stderr",
     "output_type": "stream",
     "text": [
      "[07-03 19:24:29] p38176 {C:\\Projects\\Private\\PropStar\\venv\\lib\\site-packages\\sqlalchemy\\engine\\base.py:2064} INFO - INSERT INTO indoor_user_movement.movements (id, [ RSS_anchor2], [ RSS_anchor3], [ RSS_anchor4], seq_id, [RSS_anchor1]) VALUES (?, ?, ?, ?, ?, ?), (?, ?, ?, ?, ?, ?), (?, ?, ?, ?, ?, ?), (?, ?, ?, ?, ?, ?), (?, ?, ?, ?, ?, ?), (?, ?, ?, ?, ?, ?), (?,  ... 6754 characters truncated ... , (?, ?, ?, ?, ?, ?), (?, ?, ?, ?, ?, ?), (?, ?, ?, ?, ?, ?), (?, ?, ?, ?, ?, ?), (?, ?, ?, ?, ?, ?)\n"
     ]
    },
    {
     "name": "stdout",
     "output_type": "stream",
     "text": [
      "2024-07-03 19:24:29,603 INFO sqlalchemy.engine.Engine [insertmanyvalues 24/38 (unordered)] (8027, 0.33333, -1.0, -0.53191, 252, 0.5, 8028, 0.6, -0.77778, -0.48936, 252, 0.5, 8029, 0.6, -0.64444, -0.48936, 252, 0.5, 8030, 0.42222, -0.64444, -0.2766, 252, 0.5, 8031, 0.11111, -0.73333, -0.3617, 252, 0.5, 8032, 0.33333, -1.0, -0.3617, 252, 0.5, 8033, -0.022222, -0.64444, -0.70213, 252, -0.090909, 8034, 0.33333, -0.64444, -0.70213, 252, -0.090909, 8035, 0.15556 ... 1994 parameters truncated ... 260, -0.31818, 8368, 0.33333, -0.86667, -0.48936, 260, -0.22727, 8369, 0.46667, -0.55556, -0.48936, 260, -0.22727, 8370, 0.6, -0.95556, -0.3617, 260, 0.27273, 8371, 0.6, -0.68889, -0.3617, 260, 0.5, 8372, 0.64444, -0.64444, -0.3617, 260, 0.36364, 8373, 0.64444, -1.0, -0.3617, 260, 0.5, 8374, 0.6, -1.0, -0.3617, 260, 0.090909, 8375, 0.37778, -0.86667, -0.3617, 260, 0.090909)\n"
     ]
    },
    {
     "name": "stderr",
     "output_type": "stream",
     "text": [
      "[07-03 19:24:29] p38176 {C:\\Projects\\Private\\PropStar\\venv\\lib\\site-packages\\sqlalchemy\\engine\\base.py:2082} INFO - [insertmanyvalues 24/38 (unordered)] (8027, 0.33333, -1.0, -0.53191, 252, 0.5, 8028, 0.6, -0.77778, -0.48936, 252, 0.5, 8029, 0.6, -0.64444, -0.48936, 252, 0.5, 8030, 0.42222, -0.64444, -0.2766, 252, 0.5, 8031, 0.11111, -0.73333, -0.3617, 252, 0.5, 8032, 0.33333, -1.0, -0.3617, 252, 0.5, 8033, -0.022222, -0.64444, -0.70213, 252, -0.090909, 8034, 0.33333, -0.64444, -0.70213, 252, -0.090909, 8035, 0.15556 ... 1994 parameters truncated ... 260, -0.31818, 8368, 0.33333, -0.86667, -0.48936, 260, -0.22727, 8369, 0.46667, -0.55556, -0.48936, 260, -0.22727, 8370, 0.6, -0.95556, -0.3617, 260, 0.27273, 8371, 0.6, -0.68889, -0.3617, 260, 0.5, 8372, 0.64444, -0.64444, -0.3617, 260, 0.36364, 8373, 0.64444, -1.0, -0.3617, 260, 0.5, 8374, 0.6, -1.0, -0.3617, 260, 0.090909, 8375, 0.37778, -0.86667, -0.3617, 260, 0.090909)\n"
     ]
    },
    {
     "name": "stdout",
     "output_type": "stream",
     "text": [
      "2024-07-03 19:24:29,611 INFO sqlalchemy.engine.Engine INSERT INTO indoor_user_movement.movements (id, [ RSS_anchor2], [ RSS_anchor3], [ RSS_anchor4], seq_id, [RSS_anchor1]) VALUES (?, ?, ?, ?, ?, ?), (?, ?, ?, ?, ?, ?), (?, ?, ?, ?, ?, ?), (?, ?, ?, ?, ?, ?), (?, ?, ?, ?, ?, ?), (?, ?, ?, ?, ?, ?), (?,  ... 6754 characters truncated ... , (?, ?, ?, ?, ?, ?), (?, ?, ?, ?, ?, ?), (?, ?, ?, ?, ?, ?), (?, ?, ?, ?, ?, ?), (?, ?, ?, ?, ?, ?)\n"
     ]
    },
    {
     "name": "stderr",
     "output_type": "stream",
     "text": [
      "[07-03 19:24:29] p38176 {C:\\Projects\\Private\\PropStar\\venv\\lib\\site-packages\\sqlalchemy\\engine\\base.py:2064} INFO - INSERT INTO indoor_user_movement.movements (id, [ RSS_anchor2], [ RSS_anchor3], [ RSS_anchor4], seq_id, [RSS_anchor1]) VALUES (?, ?, ?, ?, ?, ?), (?, ?, ?, ?, ?, ?), (?, ?, ?, ?, ?, ?), (?, ?, ?, ?, ?, ?), (?, ?, ?, ?, ?, ?), (?, ?, ?, ?, ?, ?), (?,  ... 6754 characters truncated ... , (?, ?, ?, ?, ?, ?), (?, ?, ?, ?, ?, ?), (?, ?, ?, ?, ?, ?), (?, ?, ?, ?, ?, ?), (?, ?, ?, ?, ?, ?)\n"
     ]
    },
    {
     "name": "stdout",
     "output_type": "stream",
     "text": [
      "2024-07-03 19:24:29,613 INFO sqlalchemy.engine.Engine [insertmanyvalues 25/38 (unordered)] (8376, 0.46667, -0.6, -0.48936, 260, 0.090909, 8377, 0.55556, -0.6, -0.3617, 260, 0.36364, 8378, 0.022222, -0.86667, -0.3617, 260, 0.36364, 8379, -0.51111, -1.0, -0.3617, 260, 0.68182, 8380, 0.15556, -0.82222, -0.3617, 260, 0.68182, 8381, -0.11111, -0.82222, -0.31915, 260, 0.5, 8382, 0.24444, -1.0, -0.31915, 260, 0.5, 8383, 0.066667, -0.82222, -0.31915, 260, 0.5, 8384, 0.46667 ... 1994 parameters truncated ... 268, 0.090909, 8717, -0.37778, 0.42222, 0.19149, 268, 0.090909, 8718, -0.55556, 0.6, 0.19149, 268, 0.090909, 8719, -0.46667, 0.42222, -0.10638, 268, -0.045455, 8720, -0.68889, 0.37778, -0.10638, 268, -0.045455, 8721, -0.37778, 0.37778, 0.19149, 268, -0.40909, 8722, -0.33333, 0.73333, 0.19149, 268, -0.40909, 8723, -0.55556, 0.73333, 0.14894, 268, -0.13636, 8724, -0.95556, 0.24444, -0.31915, 268, -0.13636)\n"
     ]
    },
    {
     "name": "stderr",
     "output_type": "stream",
     "text": [
      "[07-03 19:24:29] p38176 {C:\\Projects\\Private\\PropStar\\venv\\lib\\site-packages\\sqlalchemy\\engine\\base.py:2082} INFO - [insertmanyvalues 25/38 (unordered)] (8376, 0.46667, -0.6, -0.48936, 260, 0.090909, 8377, 0.55556, -0.6, -0.3617, 260, 0.36364, 8378, 0.022222, -0.86667, -0.3617, 260, 0.36364, 8379, -0.51111, -1.0, -0.3617, 260, 0.68182, 8380, 0.15556, -0.82222, -0.3617, 260, 0.68182, 8381, -0.11111, -0.82222, -0.31915, 260, 0.5, 8382, 0.24444, -1.0, -0.31915, 260, 0.5, 8383, 0.066667, -0.82222, -0.31915, 260, 0.5, 8384, 0.46667 ... 1994 parameters truncated ... 268, 0.090909, 8717, -0.37778, 0.42222, 0.19149, 268, 0.090909, 8718, -0.55556, 0.6, 0.19149, 268, 0.090909, 8719, -0.46667, 0.42222, -0.10638, 268, -0.045455, 8720, -0.68889, 0.37778, -0.10638, 268, -0.045455, 8721, -0.37778, 0.37778, 0.19149, 268, -0.40909, 8722, -0.33333, 0.73333, 0.19149, 268, -0.40909, 8723, -0.55556, 0.73333, 0.14894, 268, -0.13636, 8724, -0.95556, 0.24444, -0.31915, 268, -0.13636)\n"
     ]
    },
    {
     "name": "stdout",
     "output_type": "stream",
     "text": [
      "2024-07-03 19:24:29,623 INFO sqlalchemy.engine.Engine INSERT INTO indoor_user_movement.movements (id, [ RSS_anchor2], [ RSS_anchor3], [ RSS_anchor4], seq_id, [RSS_anchor1]) VALUES (?, ?, ?, ?, ?, ?), (?, ?, ?, ?, ?, ?), (?, ?, ?, ?, ?, ?), (?, ?, ?, ?, ?, ?), (?, ?, ?, ?, ?, ?), (?, ?, ?, ?, ?, ?), (?,  ... 6754 characters truncated ... , (?, ?, ?, ?, ?, ?), (?, ?, ?, ?, ?, ?), (?, ?, ?, ?, ?, ?), (?, ?, ?, ?, ?, ?), (?, ?, ?, ?, ?, ?)\n"
     ]
    },
    {
     "name": "stderr",
     "output_type": "stream",
     "text": [
      "[07-03 19:24:29] p38176 {C:\\Projects\\Private\\PropStar\\venv\\lib\\site-packages\\sqlalchemy\\engine\\base.py:2064} INFO - INSERT INTO indoor_user_movement.movements (id, [ RSS_anchor2], [ RSS_anchor3], [ RSS_anchor4], seq_id, [RSS_anchor1]) VALUES (?, ?, ?, ?, ?, ?), (?, ?, ?, ?, ?, ?), (?, ?, ?, ?, ?, ?), (?, ?, ?, ?, ?, ?), (?, ?, ?, ?, ?, ?), (?, ?, ?, ?, ?, ?), (?,  ... 6754 characters truncated ... , (?, ?, ?, ?, ?, ?), (?, ?, ?, ?, ?, ?), (?, ?, ?, ?, ?, ?), (?, ?, ?, ?, ?, ?), (?, ?, ?, ?, ?, ?)\n"
     ]
    },
    {
     "name": "stdout",
     "output_type": "stream",
     "text": [
      "2024-07-03 19:24:29,624 INFO sqlalchemy.engine.Engine [insertmanyvalues 26/38 (unordered)] (8725, -0.51111, 0.33333, -0.31915, 268, -0.13636, 8726, -0.73333, 0.2, -0.31915, 268, -0.45455, 8727, -0.6, 0.066667, -0.06383, 268, -0.72727, 8728, -0.73333, 0.2, -0.06383, 268, -0.72727, 8729, -0.91111, 0.28889, -0.06383, 268, -0.5, 8730, -0.86667, 0.33333, -0.06383, 268, -0.90909, 8731, -0.6, 0.42222, 0.021277, 268, -1.0, 8732, -1.0, 0.73333, 0.2766, 268, -1.0, 8733, -1.0 ... 1994 parameters truncated ... 275, -0.45455, 9066, -0.6, 0.73333, 0.40426, 275, -0.45455, 9067, -0.46667, 0.73333, 0.40426, 275, -0.45455, 9068, -0.46667, 0.46667, 0.40426, 275, -0.18182, 9069, -0.46667, 0.55556, 0.40426, 275, -0.18182, 9070, -1.0, 0.46667, 0.40426, 275, -0.36364, 9071, -0.73333, 0.73333, 0.40426, 275, -0.86364, 9072, -0.77778, 0.46667, 0.2766, 275, -0.68182, 9073, -0.64444, 0.42222, 0.57447, 275, -0.68182)\n"
     ]
    },
    {
     "name": "stderr",
     "output_type": "stream",
     "text": [
      "[07-03 19:24:29] p38176 {C:\\Projects\\Private\\PropStar\\venv\\lib\\site-packages\\sqlalchemy\\engine\\base.py:2082} INFO - [insertmanyvalues 26/38 (unordered)] (8725, -0.51111, 0.33333, -0.31915, 268, -0.13636, 8726, -0.73333, 0.2, -0.31915, 268, -0.45455, 8727, -0.6, 0.066667, -0.06383, 268, -0.72727, 8728, -0.73333, 0.2, -0.06383, 268, -0.72727, 8729, -0.91111, 0.28889, -0.06383, 268, -0.5, 8730, -0.86667, 0.33333, -0.06383, 268, -0.90909, 8731, -0.6, 0.42222, 0.021277, 268, -1.0, 8732, -1.0, 0.73333, 0.2766, 268, -1.0, 8733, -1.0 ... 1994 parameters truncated ... 275, -0.45455, 9066, -0.6, 0.73333, 0.40426, 275, -0.45455, 9067, -0.46667, 0.73333, 0.40426, 275, -0.45455, 9068, -0.46667, 0.46667, 0.40426, 275, -0.18182, 9069, -0.46667, 0.55556, 0.40426, 275, -0.18182, 9070, -1.0, 0.46667, 0.40426, 275, -0.36364, 9071, -0.73333, 0.73333, 0.40426, 275, -0.86364, 9072, -0.77778, 0.46667, 0.2766, 275, -0.68182, 9073, -0.64444, 0.42222, 0.57447, 275, -0.68182)\n"
     ]
    },
    {
     "name": "stdout",
     "output_type": "stream",
     "text": [
      "2024-07-03 19:24:29,633 INFO sqlalchemy.engine.Engine INSERT INTO indoor_user_movement.movements (id, [ RSS_anchor2], [ RSS_anchor3], [ RSS_anchor4], seq_id, [RSS_anchor1]) VALUES (?, ?, ?, ?, ?, ?), (?, ?, ?, ?, ?, ?), (?, ?, ?, ?, ?, ?), (?, ?, ?, ?, ?, ?), (?, ?, ?, ?, ?, ?), (?, ?, ?, ?, ?, ?), (?,  ... 6754 characters truncated ... , (?, ?, ?, ?, ?, ?), (?, ?, ?, ?, ?, ?), (?, ?, ?, ?, ?, ?), (?, ?, ?, ?, ?, ?), (?, ?, ?, ?, ?, ?)\n"
     ]
    },
    {
     "name": "stderr",
     "output_type": "stream",
     "text": [
      "[07-03 19:24:29] p38176 {C:\\Projects\\Private\\PropStar\\venv\\lib\\site-packages\\sqlalchemy\\engine\\base.py:2064} INFO - INSERT INTO indoor_user_movement.movements (id, [ RSS_anchor2], [ RSS_anchor3], [ RSS_anchor4], seq_id, [RSS_anchor1]) VALUES (?, ?, ?, ?, ?, ?), (?, ?, ?, ?, ?, ?), (?, ?, ?, ?, ?, ?), (?, ?, ?, ?, ?, ?), (?, ?, ?, ?, ?, ?), (?, ?, ?, ?, ?, ?), (?,  ... 6754 characters truncated ... , (?, ?, ?, ?, ?, ?), (?, ?, ?, ?, ?, ?), (?, ?, ?, ?, ?, ?), (?, ?, ?, ?, ?, ?), (?, ?, ?, ?, ?, ?)\n"
     ]
    },
    {
     "name": "stdout",
     "output_type": "stream",
     "text": [
      "2024-07-03 19:24:29,635 INFO sqlalchemy.engine.Engine [insertmanyvalues 27/38 (unordered)] (9074, -0.6, 0.77778, 0.57447, 275, -0.68182, 9075, -0.86667, 0.86667, 0.57447, 275, -0.31818, 9076, -0.86667, 0.68889, 0.53191, 275, -0.59091, 9077, -0.46667, 0.82222, 0.53191, 275, -0.59091, 9078, -0.68889, 0.46667, 0.53191, 275, -0.45455, 9079, -0.86667, 0.42222, 0.53191, 275, -0.59091, 9080, -0.51111, 0.68889, 0.65957, 275, -0.59091, 9081, -1.0, 0.77778, 0.19149, 275, -0.59091, 9082, -0.6 ... 1994 parameters truncated ... 280, -0.72727, 9415, -0.82222, 0.022222, 0.40426, 280, -0.95455, 9416, -0.68889, 0.64444, 0.40426, 280, -0.90909, 9417, -0.68889, 0.77778, 0.40426, 280, -0.90909, 9418, -1.0, 0.73333, -0.14894, 280, -1.0, 9419, -0.55556, 0.73333, -0.14894, 280, -0.45455, 9420, -0.68889, 0.73333, -0.14894, 280, -0.40909, 9421, -0.64444, 0.73333, -0.14894, 280, -0.59091, 9422, -0.91111, 0.46667, -0.14894, 280, -0.59091)\n"
     ]
    },
    {
     "name": "stderr",
     "output_type": "stream",
     "text": [
      "[07-03 19:24:29] p38176 {C:\\Projects\\Private\\PropStar\\venv\\lib\\site-packages\\sqlalchemy\\engine\\base.py:2082} INFO - [insertmanyvalues 27/38 (unordered)] (9074, -0.6, 0.77778, 0.57447, 275, -0.68182, 9075, -0.86667, 0.86667, 0.57447, 275, -0.31818, 9076, -0.86667, 0.68889, 0.53191, 275, -0.59091, 9077, -0.46667, 0.82222, 0.53191, 275, -0.59091, 9078, -0.68889, 0.46667, 0.53191, 275, -0.45455, 9079, -0.86667, 0.42222, 0.53191, 275, -0.59091, 9080, -0.51111, 0.68889, 0.65957, 275, -0.59091, 9081, -1.0, 0.77778, 0.19149, 275, -0.59091, 9082, -0.6 ... 1994 parameters truncated ... 280, -0.72727, 9415, -0.82222, 0.022222, 0.40426, 280, -0.95455, 9416, -0.68889, 0.64444, 0.40426, 280, -0.90909, 9417, -0.68889, 0.77778, 0.40426, 280, -0.90909, 9418, -1.0, 0.73333, -0.14894, 280, -1.0, 9419, -0.55556, 0.73333, -0.14894, 280, -0.45455, 9420, -0.68889, 0.73333, -0.14894, 280, -0.40909, 9421, -0.64444, 0.73333, -0.14894, 280, -0.59091, 9422, -0.91111, 0.46667, -0.14894, 280, -0.59091)\n"
     ]
    },
    {
     "name": "stdout",
     "output_type": "stream",
     "text": [
      "2024-07-03 19:24:29,645 INFO sqlalchemy.engine.Engine INSERT INTO indoor_user_movement.movements (id, [ RSS_anchor2], [ RSS_anchor3], [ RSS_anchor4], seq_id, [RSS_anchor1]) VALUES (?, ?, ?, ?, ?, ?), (?, ?, ?, ?, ?, ?), (?, ?, ?, ?, ?, ?), (?, ?, ?, ?, ?, ?), (?, ?, ?, ?, ?, ?), (?, ?, ?, ?, ?, ?), (?,  ... 6754 characters truncated ... , (?, ?, ?, ?, ?, ?), (?, ?, ?, ?, ?, ?), (?, ?, ?, ?, ?, ?), (?, ?, ?, ?, ?, ?), (?, ?, ?, ?, ?, ?)\n"
     ]
    },
    {
     "name": "stderr",
     "output_type": "stream",
     "text": [
      "[07-03 19:24:29] p38176 {C:\\Projects\\Private\\PropStar\\venv\\lib\\site-packages\\sqlalchemy\\engine\\base.py:2064} INFO - INSERT INTO indoor_user_movement.movements (id, [ RSS_anchor2], [ RSS_anchor3], [ RSS_anchor4], seq_id, [RSS_anchor1]) VALUES (?, ?, ?, ?, ?, ?), (?, ?, ?, ?, ?, ?), (?, ?, ?, ?, ?, ?), (?, ?, ?, ?, ?, ?), (?, ?, ?, ?, ?, ?), (?, ?, ?, ?, ?, ?), (?,  ... 6754 characters truncated ... , (?, ?, ?, ?, ?, ?), (?, ?, ?, ?, ?, ?), (?, ?, ?, ?, ?, ?), (?, ?, ?, ?, ?, ?), (?, ?, ?, ?, ?, ?)\n"
     ]
    },
    {
     "name": "stdout",
     "output_type": "stream",
     "text": [
      "2024-07-03 19:24:29,647 INFO sqlalchemy.engine.Engine [insertmanyvalues 28/38 (unordered)] (9423, -0.42222, 0.73333, 0.021277, 280, -0.59091, 9424, -0.82222, 0.15556, 0.14894, 280, -0.59091, 9425, -0.68889, 0.73333, -0.3617, 280, -0.31818, 9426, -0.46667, 0.022222, -0.3617, 280, -0.40909, 9427, -0.28889, 0.066667, -0.3617, 280, -0.36364, 9428, -0.24444, 0.15556, -0.3617, 280, -0.31818, 9429, -0.28889, 0.37778, -0.3617, 280, -0.31818, 9430, 0.2, -0.73333, -0.78723, 281, 0.54545, 9431, 0.24444 ... 1994 parameters truncated ... 286, -0.045455, 9764, -0.51111, 0.28889, 0.3617, 286, -0.045455, 9765, -0.55556, 0.64444, 0.2766, 286, -0.045455, 9766, -0.46667, 0.86667, 0.2766, 286, -0.045455, 9767, -0.6, 0.73333, 0.2766, 286, -0.045455, 9768, -0.51111, 0.2, 0.2766, 286, -0.31818, 9769, -0.68889, 0.68889, 0.53191, 286, -0.45455, 9770, -0.6, 0.46667, 0.53191, 286, -0.45455, 9771, -0.46667, 0.6, 0.53191, 286, -0.95455)\n"
     ]
    },
    {
     "name": "stderr",
     "output_type": "stream",
     "text": [
      "[07-03 19:24:29] p38176 {C:\\Projects\\Private\\PropStar\\venv\\lib\\site-packages\\sqlalchemy\\engine\\base.py:2082} INFO - [insertmanyvalues 28/38 (unordered)] (9423, -0.42222, 0.73333, 0.021277, 280, -0.59091, 9424, -0.82222, 0.15556, 0.14894, 280, -0.59091, 9425, -0.68889, 0.73333, -0.3617, 280, -0.31818, 9426, -0.46667, 0.022222, -0.3617, 280, -0.40909, 9427, -0.28889, 0.066667, -0.3617, 280, -0.36364, 9428, -0.24444, 0.15556, -0.3617, 280, -0.31818, 9429, -0.28889, 0.37778, -0.3617, 280, -0.31818, 9430, 0.2, -0.73333, -0.78723, 281, 0.54545, 9431, 0.24444 ... 1994 parameters truncated ... 286, -0.045455, 9764, -0.51111, 0.28889, 0.3617, 286, -0.045455, 9765, -0.55556, 0.64444, 0.2766, 286, -0.045455, 9766, -0.46667, 0.86667, 0.2766, 286, -0.045455, 9767, -0.6, 0.73333, 0.2766, 286, -0.045455, 9768, -0.51111, 0.2, 0.2766, 286, -0.31818, 9769, -0.68889, 0.68889, 0.53191, 286, -0.45455, 9770, -0.6, 0.46667, 0.53191, 286, -0.45455, 9771, -0.46667, 0.6, 0.53191, 286, -0.95455)\n"
     ]
    },
    {
     "name": "stdout",
     "output_type": "stream",
     "text": [
      "2024-07-03 19:24:29,655 INFO sqlalchemy.engine.Engine INSERT INTO indoor_user_movement.movements (id, [ RSS_anchor2], [ RSS_anchor3], [ RSS_anchor4], seq_id, [RSS_anchor1]) VALUES (?, ?, ?, ?, ?, ?), (?, ?, ?, ?, ?, ?), (?, ?, ?, ?, ?, ?), (?, ?, ?, ?, ?, ?), (?, ?, ?, ?, ?, ?), (?, ?, ?, ?, ?, ?), (?,  ... 6754 characters truncated ... , (?, ?, ?, ?, ?, ?), (?, ?, ?, ?, ?, ?), (?, ?, ?, ?, ?, ?), (?, ?, ?, ?, ?, ?), (?, ?, ?, ?, ?, ?)\n"
     ]
    },
    {
     "name": "stderr",
     "output_type": "stream",
     "text": [
      "[07-03 19:24:29] p38176 {C:\\Projects\\Private\\PropStar\\venv\\lib\\site-packages\\sqlalchemy\\engine\\base.py:2064} INFO - INSERT INTO indoor_user_movement.movements (id, [ RSS_anchor2], [ RSS_anchor3], [ RSS_anchor4], seq_id, [RSS_anchor1]) VALUES (?, ?, ?, ?, ?, ?), (?, ?, ?, ?, ?, ?), (?, ?, ?, ?, ?, ?), (?, ?, ?, ?, ?, ?), (?, ?, ?, ?, ?, ?), (?, ?, ?, ?, ?, ?), (?,  ... 6754 characters truncated ... , (?, ?, ?, ?, ?, ?), (?, ?, ?, ?, ?, ?), (?, ?, ?, ?, ?, ?), (?, ?, ?, ?, ?, ?), (?, ?, ?, ?, ?, ?)\n"
     ]
    },
    {
     "name": "stdout",
     "output_type": "stream",
     "text": [
      "2024-07-03 19:24:29,657 INFO sqlalchemy.engine.Engine [insertmanyvalues 29/38 (unordered)] (9772, -0.51111, 0.73333, 0.40426, 286, -0.31818, 9773, -0.46667, 0.73333, 0.40426, 286, -0.31818, 9774, -0.46667, 0.73333, 0.53191, 286, -0.59091, 9775, -0.46667, 0.77778, 0.40426, 286, -0.59091, 9776, -0.86667, 0.68889, 0.40426, 286, -0.59091, 9777, -0.77778, 0.46667, 0.40426, 286, -0.40909, 9778, -0.82222, 0.73333, 0.40426, 286, -0.90909, 9779, -0.46667, 0.82222, 0.19149, 286, -0.77273, 9780, -0.64444 ... 1994 parameters truncated ... 291, -1.0, 10113, -0.42222, 0.86667, 0.2766, 291, -0.5, 10114, -0.37778, 0.73333, 0.2766, 291, -0.54545, 10115, -0.46667, 0.2, 0.2766, 291, -0.31818, 10116, -0.46667, 0.24444, 0.2766, 291, -0.31818, 10117, -0.51111, 0.2, 0.2766, 291, -0.45455, 10118, -0.86667, 0.37778, 0.2766, 291, -0.5, 10119, -0.51111, 0.15556, 0.2766, 291, -0.59091, 10120, -0.6, 0.73333, 0.2766, 291, -0.59091)\n"
     ]
    },
    {
     "name": "stderr",
     "output_type": "stream",
     "text": [
      "[07-03 19:24:29] p38176 {C:\\Projects\\Private\\PropStar\\venv\\lib\\site-packages\\sqlalchemy\\engine\\base.py:2082} INFO - [insertmanyvalues 29/38 (unordered)] (9772, -0.51111, 0.73333, 0.40426, 286, -0.31818, 9773, -0.46667, 0.73333, 0.40426, 286, -0.31818, 9774, -0.46667, 0.73333, 0.53191, 286, -0.59091, 9775, -0.46667, 0.77778, 0.40426, 286, -0.59091, 9776, -0.86667, 0.68889, 0.40426, 286, -0.59091, 9777, -0.77778, 0.46667, 0.40426, 286, -0.40909, 9778, -0.82222, 0.73333, 0.40426, 286, -0.90909, 9779, -0.46667, 0.82222, 0.19149, 286, -0.77273, 9780, -0.64444 ... 1994 parameters truncated ... 291, -1.0, 10113, -0.42222, 0.86667, 0.2766, 291, -0.5, 10114, -0.37778, 0.73333, 0.2766, 291, -0.54545, 10115, -0.46667, 0.2, 0.2766, 291, -0.31818, 10116, -0.46667, 0.24444, 0.2766, 291, -0.31818, 10117, -0.51111, 0.2, 0.2766, 291, -0.45455, 10118, -0.86667, 0.37778, 0.2766, 291, -0.5, 10119, -0.51111, 0.15556, 0.2766, 291, -0.59091, 10120, -0.6, 0.73333, 0.2766, 291, -0.59091)\n"
     ]
    },
    {
     "name": "stdout",
     "output_type": "stream",
     "text": [
      "2024-07-03 19:24:29,665 INFO sqlalchemy.engine.Engine INSERT INTO indoor_user_movement.movements (id, [ RSS_anchor2], [ RSS_anchor3], [ RSS_anchor4], seq_id, [RSS_anchor1]) VALUES (?, ?, ?, ?, ?, ?), (?, ?, ?, ?, ?, ?), (?, ?, ?, ?, ?, ?), (?, ?, ?, ?, ?, ?), (?, ?, ?, ?, ?, ?), (?, ?, ?, ?, ?, ?), (?,  ... 6754 characters truncated ... , (?, ?, ?, ?, ?, ?), (?, ?, ?, ?, ?, ?), (?, ?, ?, ?, ?, ?), (?, ?, ?, ?, ?, ?), (?, ?, ?, ?, ?, ?)\n"
     ]
    },
    {
     "name": "stderr",
     "output_type": "stream",
     "text": [
      "[07-03 19:24:29] p38176 {C:\\Projects\\Private\\PropStar\\venv\\lib\\site-packages\\sqlalchemy\\engine\\base.py:2064} INFO - INSERT INTO indoor_user_movement.movements (id, [ RSS_anchor2], [ RSS_anchor3], [ RSS_anchor4], seq_id, [RSS_anchor1]) VALUES (?, ?, ?, ?, ?, ?), (?, ?, ?, ?, ?, ?), (?, ?, ?, ?, ?, ?), (?, ?, ?, ?, ?, ?), (?, ?, ?, ?, ?, ?), (?, ?, ?, ?, ?, ?), (?,  ... 6754 characters truncated ... , (?, ?, ?, ?, ?, ?), (?, ?, ?, ?, ?, ?), (?, ?, ?, ?, ?, ?), (?, ?, ?, ?, ?, ?), (?, ?, ?, ?, ?, ?)\n"
     ]
    },
    {
     "name": "stdout",
     "output_type": "stream",
     "text": [
      "2024-07-03 19:24:29,666 INFO sqlalchemy.engine.Engine [insertmanyvalues 30/38 (unordered)] (10121, -0.86667, 0.73333, 0.2766, 291, -1.0, 10122, -0.68889, 0.46667, 0.2766, 291, -1.0, 10123, -0.68889, 0.86667, -0.06383, 291, -1.0, 10124, -0.55556, 0.86667, 0.14894, 291, -1.0, 10125, -0.73333, 0.86667, -0.021277, 291, -0.45455, 10126, -0.68889, 0.73333, -0.021277, 291, -0.45455, 10127, -0.46667, 0.55556, -0.021277, 291, -0.45455, 10128, 0.2, -0.066667, -0.23404, 292, -0.31818, 10129, 0.2 ... 1994 parameters truncated ... 297, 0.45455, 10462, 0.2, 0.066667, -0.19149, 297, 0.45455, 10463, -0.2, 0.022222, 0.06383, 297, 0.45455, 10464, 0.15556, -0.066667, -0.23404, 297, -0.045455, 10465, -0.11111, -0.2, -0.23404, 297, -0.090909, 10466, -0.066667, -0.33333, -0.23404, 297, -0.045455, 10467, 0.066667, -0.2, -0.23404, 297, -0.045455, 10468, -0.022222, -0.2, -0.10638, 297, -0.045455, 10469, 0.15556, -0.2, 0.021277, 297, -0.13636)\n"
     ]
    },
    {
     "name": "stderr",
     "output_type": "stream",
     "text": [
      "[07-03 19:24:29] p38176 {C:\\Projects\\Private\\PropStar\\venv\\lib\\site-packages\\sqlalchemy\\engine\\base.py:2082} INFO - [insertmanyvalues 30/38 (unordered)] (10121, -0.86667, 0.73333, 0.2766, 291, -1.0, 10122, -0.68889, 0.46667, 0.2766, 291, -1.0, 10123, -0.68889, 0.86667, -0.06383, 291, -1.0, 10124, -0.55556, 0.86667, 0.14894, 291, -1.0, 10125, -0.73333, 0.86667, -0.021277, 291, -0.45455, 10126, -0.68889, 0.73333, -0.021277, 291, -0.45455, 10127, -0.46667, 0.55556, -0.021277, 291, -0.45455, 10128, 0.2, -0.066667, -0.23404, 292, -0.31818, 10129, 0.2 ... 1994 parameters truncated ... 297, 0.45455, 10462, 0.2, 0.066667, -0.19149, 297, 0.45455, 10463, -0.2, 0.022222, 0.06383, 297, 0.45455, 10464, 0.15556, -0.066667, -0.23404, 297, -0.045455, 10465, -0.11111, -0.2, -0.23404, 297, -0.090909, 10466, -0.066667, -0.33333, -0.23404, 297, -0.045455, 10467, 0.066667, -0.2, -0.23404, 297, -0.045455, 10468, -0.022222, -0.2, -0.10638, 297, -0.045455, 10469, 0.15556, -0.2, 0.021277, 297, -0.13636)\n"
     ]
    },
    {
     "name": "stdout",
     "output_type": "stream",
     "text": [
      "2024-07-03 19:24:29,690 INFO sqlalchemy.engine.Engine INSERT INTO indoor_user_movement.movements (id, [ RSS_anchor2], [ RSS_anchor3], [ RSS_anchor4], seq_id, [RSS_anchor1]) VALUES (?, ?, ?, ?, ?, ?), (?, ?, ?, ?, ?, ?), (?, ?, ?, ?, ?, ?), (?, ?, ?, ?, ?, ?), (?, ?, ?, ?, ?, ?), (?, ?, ?, ?, ?, ?), (?,  ... 6754 characters truncated ... , (?, ?, ?, ?, ?, ?), (?, ?, ?, ?, ?, ?), (?, ?, ?, ?, ?, ?), (?, ?, ?, ?, ?, ?), (?, ?, ?, ?, ?, ?)\n"
     ]
    },
    {
     "name": "stderr",
     "output_type": "stream",
     "text": [
      "[07-03 19:24:29] p38176 {C:\\Projects\\Private\\PropStar\\venv\\lib\\site-packages\\sqlalchemy\\engine\\base.py:2064} INFO - INSERT INTO indoor_user_movement.movements (id, [ RSS_anchor2], [ RSS_anchor3], [ RSS_anchor4], seq_id, [RSS_anchor1]) VALUES (?, ?, ?, ?, ?, ?), (?, ?, ?, ?, ?, ?), (?, ?, ?, ?, ?, ?), (?, ?, ?, ?, ?, ?), (?, ?, ?, ?, ?, ?), (?, ?, ?, ?, ?, ?), (?,  ... 6754 characters truncated ... , (?, ?, ?, ?, ?, ?), (?, ?, ?, ?, ?, ?), (?, ?, ?, ?, ?, ?), (?, ?, ?, ?, ?, ?), (?, ?, ?, ?, ?, ?)\n"
     ]
    },
    {
     "name": "stdout",
     "output_type": "stream",
     "text": [
      "2024-07-03 19:24:29,691 INFO sqlalchemy.engine.Engine [insertmanyvalues 31/38 (unordered)] (10470, 0.066667, -0.2, 0.021277, 297, -0.045455, 10471, -0.2, -0.11111, 0.021277, 297, -0.045455, 10472, 0.15556, -0.33333, -0.021277, 297, -0.045455, 10473, -0.022222, -0.51111, -0.021277, 297, -0.045455, 10474, -0.022222, -0.2, 0.021277, 297, -0.045455, 10475, -0.066667, -0.2, -0.10638, 297, -0.045455, 10476, -0.46667, -0.15556, 0.021277, 297, -0.045455, 10477, -0.066667, 0.022222, 0.14894, 297, -0.31818, 10478, -0.28889 ... 1994 parameters truncated ... 302, -0.40909, 10811, -0.46667, 0.24444, -0.48936, 302, -0.40909, 10812, -0.46667, 0.24444, -0.48936, 302, -0.40909, 10813, -0.46667, 0.24444, -0.48936, 302, -0.40909, 10814, -0.46667, 0.24444, -0.48936, 302, -0.40909, 10815, -0.46667, 0.24444, -0.48936, 302, -0.36364, 10816, -0.46667, 0.2, -0.48936, 302, -0.36364, 10817, -0.46667, 0.2, -0.48936, 302, -0.36364, 10818, -0.46667, 0.24444, -0.48936, 302, -0.36364)\n"
     ]
    },
    {
     "name": "stderr",
     "output_type": "stream",
     "text": [
      "[07-03 19:24:29] p38176 {C:\\Projects\\Private\\PropStar\\venv\\lib\\site-packages\\sqlalchemy\\engine\\base.py:2082} INFO - [insertmanyvalues 31/38 (unordered)] (10470, 0.066667, -0.2, 0.021277, 297, -0.045455, 10471, -0.2, -0.11111, 0.021277, 297, -0.045455, 10472, 0.15556, -0.33333, -0.021277, 297, -0.045455, 10473, -0.022222, -0.51111, -0.021277, 297, -0.045455, 10474, -0.022222, -0.2, 0.021277, 297, -0.045455, 10475, -0.066667, -0.2, -0.10638, 297, -0.045455, 10476, -0.46667, -0.15556, 0.021277, 297, -0.045455, 10477, -0.066667, 0.022222, 0.14894, 297, -0.31818, 10478, -0.28889 ... 1994 parameters truncated ... 302, -0.40909, 10811, -0.46667, 0.24444, -0.48936, 302, -0.40909, 10812, -0.46667, 0.24444, -0.48936, 302, -0.40909, 10813, -0.46667, 0.24444, -0.48936, 302, -0.40909, 10814, -0.46667, 0.24444, -0.48936, 302, -0.40909, 10815, -0.46667, 0.24444, -0.48936, 302, -0.36364, 10816, -0.46667, 0.2, -0.48936, 302, -0.36364, 10817, -0.46667, 0.2, -0.48936, 302, -0.36364, 10818, -0.46667, 0.24444, -0.48936, 302, -0.36364)\n"
     ]
    },
    {
     "name": "stdout",
     "output_type": "stream",
     "text": [
      "2024-07-03 19:24:29,701 INFO sqlalchemy.engine.Engine INSERT INTO indoor_user_movement.movements (id, [ RSS_anchor2], [ RSS_anchor3], [ RSS_anchor4], seq_id, [RSS_anchor1]) VALUES (?, ?, ?, ?, ?, ?), (?, ?, ?, ?, ?, ?), (?, ?, ?, ?, ?, ?), (?, ?, ?, ?, ?, ?), (?, ?, ?, ?, ?, ?), (?, ?, ?, ?, ?, ?), (?,  ... 6754 characters truncated ... , (?, ?, ?, ?, ?, ?), (?, ?, ?, ?, ?, ?), (?, ?, ?, ?, ?, ?), (?, ?, ?, ?, ?, ?), (?, ?, ?, ?, ?, ?)\n"
     ]
    },
    {
     "name": "stderr",
     "output_type": "stream",
     "text": [
      "[07-03 19:24:29] p38176 {C:\\Projects\\Private\\PropStar\\venv\\lib\\site-packages\\sqlalchemy\\engine\\base.py:2064} INFO - INSERT INTO indoor_user_movement.movements (id, [ RSS_anchor2], [ RSS_anchor3], [ RSS_anchor4], seq_id, [RSS_anchor1]) VALUES (?, ?, ?, ?, ?, ?), (?, ?, ?, ?, ?, ?), (?, ?, ?, ?, ?, ?), (?, ?, ?, ?, ?, ?), (?, ?, ?, ?, ?, ?), (?, ?, ?, ?, ?, ?), (?,  ... 6754 characters truncated ... , (?, ?, ?, ?, ?, ?), (?, ?, ?, ?, ?, ?), (?, ?, ?, ?, ?, ?), (?, ?, ?, ?, ?, ?), (?, ?, ?, ?, ?, ?)\n"
     ]
    },
    {
     "name": "stdout",
     "output_type": "stream",
     "text": [
      "2024-07-03 19:24:29,704 INFO sqlalchemy.engine.Engine [insertmanyvalues 32/38 (unordered)] (10819, -0.46667, 0.2, -0.48936, 302, -0.40909, 10820, -0.46667, 0.24444, -0.44681, 302, -0.40909, 10821, -0.46667, 0.2, -0.44681, 302, -0.31818, 10822, -0.46667, 0.2, -0.44681, 302, -0.31818, 10823, -0.46667, 0.24444, -0.23404, 302, -0.31818, 10824, -0.46667, 0.24444, -0.23404, 302, -0.31818, 10825, -0.46667, 0.2, -0.23404, 302, -0.31818, 10826, -0.46667, 0.2, -0.23404, 302, -0.31818, 10827, -0.46667 ... 1994 parameters truncated ... 31, -0.85714, 11160, -0.32, 0.095238, -0.6, 31, -1.0, 11161, -0.56, -0.047619, -0.25, 31, -0.57143, 11162, -0.56, 0.0, -0.1, 31, -1.0, 11163, -0.24, -0.095238, -0.25, 31, -1.0, 11164, -0.32, -0.28571, 0.05, 31, -0.57143, 11165, -0.64, -0.28571, 0.2, 31, -0.71429, 11166, -0.36, -0.2381, 0.35, 31, -0.90476, 11167, -0.48, -0.28571, 0.35, 31, -0.90476)\n"
     ]
    },
    {
     "name": "stderr",
     "output_type": "stream",
     "text": [
      "[07-03 19:24:29] p38176 {C:\\Projects\\Private\\PropStar\\venv\\lib\\site-packages\\sqlalchemy\\engine\\base.py:2082} INFO - [insertmanyvalues 32/38 (unordered)] (10819, -0.46667, 0.2, -0.48936, 302, -0.40909, 10820, -0.46667, 0.24444, -0.44681, 302, -0.40909, 10821, -0.46667, 0.2, -0.44681, 302, -0.31818, 10822, -0.46667, 0.2, -0.44681, 302, -0.31818, 10823, -0.46667, 0.24444, -0.23404, 302, -0.31818, 10824, -0.46667, 0.24444, -0.23404, 302, -0.31818, 10825, -0.46667, 0.2, -0.23404, 302, -0.31818, 10826, -0.46667, 0.2, -0.23404, 302, -0.31818, 10827, -0.46667 ... 1994 parameters truncated ... 31, -0.85714, 11160, -0.32, 0.095238, -0.6, 31, -1.0, 11161, -0.56, -0.047619, -0.25, 31, -0.57143, 11162, -0.56, 0.0, -0.1, 31, -1.0, 11163, -0.24, -0.095238, -0.25, 31, -1.0, 11164, -0.32, -0.28571, 0.05, 31, -0.57143, 11165, -0.64, -0.28571, 0.2, 31, -0.71429, 11166, -0.36, -0.2381, 0.35, 31, -0.90476, 11167, -0.48, -0.28571, 0.35, 31, -0.90476)\n"
     ]
    },
    {
     "name": "stdout",
     "output_type": "stream",
     "text": [
      "2024-07-03 19:24:29,713 INFO sqlalchemy.engine.Engine INSERT INTO indoor_user_movement.movements (id, [ RSS_anchor2], [ RSS_anchor3], [ RSS_anchor4], seq_id, [RSS_anchor1]) VALUES (?, ?, ?, ?, ?, ?), (?, ?, ?, ?, ?, ?), (?, ?, ?, ?, ?, ?), (?, ?, ?, ?, ?, ?), (?, ?, ?, ?, ?, ?), (?, ?, ?, ?, ?, ?), (?,  ... 6754 characters truncated ... , (?, ?, ?, ?, ?, ?), (?, ?, ?, ?, ?, ?), (?, ?, ?, ?, ?, ?), (?, ?, ?, ?, ?, ?), (?, ?, ?, ?, ?, ?)\n"
     ]
    },
    {
     "name": "stderr",
     "output_type": "stream",
     "text": [
      "[07-03 19:24:29] p38176 {C:\\Projects\\Private\\PropStar\\venv\\lib\\site-packages\\sqlalchemy\\engine\\base.py:2064} INFO - INSERT INTO indoor_user_movement.movements (id, [ RSS_anchor2], [ RSS_anchor3], [ RSS_anchor4], seq_id, [RSS_anchor1]) VALUES (?, ?, ?, ?, ?, ?), (?, ?, ?, ?, ?, ?), (?, ?, ?, ?, ?, ?), (?, ?, ?, ?, ?, ?), (?, ?, ?, ?, ?, ?), (?, ?, ?, ?, ?, ?), (?,  ... 6754 characters truncated ... , (?, ?, ?, ?, ?, ?), (?, ?, ?, ?, ?, ?), (?, ?, ?, ?, ?, ?), (?, ?, ?, ?, ?, ?), (?, ?, ?, ?, ?, ?)\n"
     ]
    },
    {
     "name": "stdout",
     "output_type": "stream",
     "text": [
      "2024-07-03 19:24:29,714 INFO sqlalchemy.engine.Engine [insertmanyvalues 33/38 (unordered)] (11168, -0.6, -0.28571, 0.4, 31, -0.80952, 11169, -0.32, 0.047619, 0.45, 31, -0.7619, 11170, -0.2, 0.0, 0.25, 31, -0.7619, 11171, -0.2, -0.28571, 0.1, 31, -0.71429, 11172, -0.04, 0.0, -0.35, 31, -0.57143, 11173, -0.08, 0.0, 0.1, 31, -0.42857, 11174, -0.08, -0.33333, 0.05, 31, -0.7619, 11175, -0.36, 0.28571, 0.35, 31, -0.33333, 11176, -0.76 ... 1994 parameters truncated ... 37, -0.90476, 11509, -0.48, 0.28571, 0.45, 37, -0.7619, 11510, -0.52, 0.47619, 0.55, 37, -0.71429, 11511, -0.12, 0.42857, 0.35, 37, -0.66667, 11512, -0.08, -0.19048, 0.55, 37, -0.7619, 11513, -0.6, 0.095238, 0.55, 37, -0.57143, 11514, -0.52, 0.19048, 0.65, 37, -0.80952, 11515, -0.64, 0.095238, -0.05, 37, -0.80952, 11516, -0.28, 0.33333, 0.25, 37, -1.0)\n"
     ]
    },
    {
     "name": "stderr",
     "output_type": "stream",
     "text": [
      "[07-03 19:24:29] p38176 {C:\\Projects\\Private\\PropStar\\venv\\lib\\site-packages\\sqlalchemy\\engine\\base.py:2082} INFO - [insertmanyvalues 33/38 (unordered)] (11168, -0.6, -0.28571, 0.4, 31, -0.80952, 11169, -0.32, 0.047619, 0.45, 31, -0.7619, 11170, -0.2, 0.0, 0.25, 31, -0.7619, 11171, -0.2, -0.28571, 0.1, 31, -0.71429, 11172, -0.04, 0.0, -0.35, 31, -0.57143, 11173, -0.08, 0.0, 0.1, 31, -0.42857, 11174, -0.08, -0.33333, 0.05, 31, -0.7619, 11175, -0.36, 0.28571, 0.35, 31, -0.33333, 11176, -0.76 ... 1994 parameters truncated ... 37, -0.90476, 11509, -0.48, 0.28571, 0.45, 37, -0.7619, 11510, -0.52, 0.47619, 0.55, 37, -0.71429, 11511, -0.12, 0.42857, 0.35, 37, -0.66667, 11512, -0.08, -0.19048, 0.55, 37, -0.7619, 11513, -0.6, 0.095238, 0.55, 37, -0.57143, 11514, -0.52, 0.19048, 0.65, 37, -0.80952, 11515, -0.64, 0.095238, -0.05, 37, -0.80952, 11516, -0.28, 0.33333, 0.25, 37, -1.0)\n"
     ]
    },
    {
     "name": "stdout",
     "output_type": "stream",
     "text": [
      "2024-07-03 19:24:29,723 INFO sqlalchemy.engine.Engine INSERT INTO indoor_user_movement.movements (id, [ RSS_anchor2], [ RSS_anchor3], [ RSS_anchor4], seq_id, [RSS_anchor1]) VALUES (?, ?, ?, ?, ?, ?), (?, ?, ?, ?, ?, ?), (?, ?, ?, ?, ?, ?), (?, ?, ?, ?, ?, ?), (?, ?, ?, ?, ?, ?), (?, ?, ?, ?, ?, ?), (?,  ... 6754 characters truncated ... , (?, ?, ?, ?, ?, ?), (?, ?, ?, ?, ?, ?), (?, ?, ?, ?, ?, ?), (?, ?, ?, ?, ?, ?), (?, ?, ?, ?, ?, ?)\n"
     ]
    },
    {
     "name": "stderr",
     "output_type": "stream",
     "text": [
      "[07-03 19:24:29] p38176 {C:\\Projects\\Private\\PropStar\\venv\\lib\\site-packages\\sqlalchemy\\engine\\base.py:2064} INFO - INSERT INTO indoor_user_movement.movements (id, [ RSS_anchor2], [ RSS_anchor3], [ RSS_anchor4], seq_id, [RSS_anchor1]) VALUES (?, ?, ?, ?, ?, ?), (?, ?, ?, ?, ?, ?), (?, ?, ?, ?, ?, ?), (?, ?, ?, ?, ?, ?), (?, ?, ?, ?, ?, ?), (?, ?, ?, ?, ?, ?), (?,  ... 6754 characters truncated ... , (?, ?, ?, ?, ?, ?), (?, ?, ?, ?, ?, ?), (?, ?, ?, ?, ?, ?), (?, ?, ?, ?, ?, ?), (?, ?, ?, ?, ?, ?)\n"
     ]
    },
    {
     "name": "stdout",
     "output_type": "stream",
     "text": [
      "2024-07-03 19:24:29,725 INFO sqlalchemy.engine.Engine [insertmanyvalues 34/38 (unordered)] (11517, -0.52, 0.047619, 0.35, 37, -1.0, 11518, -0.84, -0.047619, 0.1, 37, -1.0, 11519, -0.84, 0.14286, 0.35, 37, -0.95238, 11520, -0.36, 0.0, 0.8, 37, -0.85714, 11521, -0.52, -0.47619, 0.55, 37, -1.0, 11522, -0.52, -0.14286, 0.55, 37, -0.71429, 11523, -0.68, 0.2381, 0.45, 37, -0.80952, 11524, -0.32, -0.33333, 0.35, 37, -0.80952, 11525, -0.64 ... 1994 parameters truncated ... 48, -0.85714, 11858, 0.12, 0.14286, 0.3, 48, -0.42857, 11859, 0.08, 0.28571, -0.4, 48, -0.42857, 11860, -0.32, 0.047619, 0.4, 49, -0.80952, 11861, -0.08, -0.19048, 0.05, 49, -0.57143, 11862, -0.4, -0.42857, 0.1, 49, -0.57143, 11863, -0.4, 0.0, 0.35, 49, -0.57143, 11864, -0.72, 0.0, 0.25, 49, -0.71429, 11865, -0.52, -0.047619, 0.2, 49, -0.90476)\n"
     ]
    },
    {
     "name": "stderr",
     "output_type": "stream",
     "text": [
      "[07-03 19:24:29] p38176 {C:\\Projects\\Private\\PropStar\\venv\\lib\\site-packages\\sqlalchemy\\engine\\base.py:2082} INFO - [insertmanyvalues 34/38 (unordered)] (11517, -0.52, 0.047619, 0.35, 37, -1.0, 11518, -0.84, -0.047619, 0.1, 37, -1.0, 11519, -0.84, 0.14286, 0.35, 37, -0.95238, 11520, -0.36, 0.0, 0.8, 37, -0.85714, 11521, -0.52, -0.47619, 0.55, 37, -1.0, 11522, -0.52, -0.14286, 0.55, 37, -0.71429, 11523, -0.68, 0.2381, 0.45, 37, -0.80952, 11524, -0.32, -0.33333, 0.35, 37, -0.80952, 11525, -0.64 ... 1994 parameters truncated ... 48, -0.85714, 11858, 0.12, 0.14286, 0.3, 48, -0.42857, 11859, 0.08, 0.28571, -0.4, 48, -0.42857, 11860, -0.32, 0.047619, 0.4, 49, -0.80952, 11861, -0.08, -0.19048, 0.05, 49, -0.57143, 11862, -0.4, -0.42857, 0.1, 49, -0.57143, 11863, -0.4, 0.0, 0.35, 49, -0.57143, 11864, -0.72, 0.0, 0.25, 49, -0.71429, 11865, -0.52, -0.047619, 0.2, 49, -0.90476)\n"
     ]
    },
    {
     "name": "stdout",
     "output_type": "stream",
     "text": [
      "2024-07-03 19:24:29,733 INFO sqlalchemy.engine.Engine INSERT INTO indoor_user_movement.movements (id, [ RSS_anchor2], [ RSS_anchor3], [ RSS_anchor4], seq_id, [RSS_anchor1]) VALUES (?, ?, ?, ?, ?, ?), (?, ?, ?, ?, ?, ?), (?, ?, ?, ?, ?, ?), (?, ?, ?, ?, ?, ?), (?, ?, ?, ?, ?, ?), (?, ?, ?, ?, ?, ?), (?,  ... 6754 characters truncated ... , (?, ?, ?, ?, ?, ?), (?, ?, ?, ?, ?, ?), (?, ?, ?, ?, ?, ?), (?, ?, ?, ?, ?, ?), (?, ?, ?, ?, ?, ?)\n"
     ]
    },
    {
     "name": "stderr",
     "output_type": "stream",
     "text": [
      "[07-03 19:24:29] p38176 {C:\\Projects\\Private\\PropStar\\venv\\lib\\site-packages\\sqlalchemy\\engine\\base.py:2064} INFO - INSERT INTO indoor_user_movement.movements (id, [ RSS_anchor2], [ RSS_anchor3], [ RSS_anchor4], seq_id, [RSS_anchor1]) VALUES (?, ?, ?, ?, ?, ?), (?, ?, ?, ?, ?, ?), (?, ?, ?, ?, ?, ?), (?, ?, ?, ?, ?, ?), (?, ?, ?, ?, ?, ?), (?, ?, ?, ?, ?, ?), (?,  ... 6754 characters truncated ... , (?, ?, ?, ?, ?, ?), (?, ?, ?, ?, ?, ?), (?, ?, ?, ?, ?, ?), (?, ?, ?, ?, ?, ?), (?, ?, ?, ?, ?, ?)\n"
     ]
    },
    {
     "name": "stdout",
     "output_type": "stream",
     "text": [
      "2024-07-03 19:24:29,734 INFO sqlalchemy.engine.Engine [insertmanyvalues 35/38 (unordered)] (11866, -0.2, -0.095238, 0.35, 49, -0.71429, 11867, -0.16, -0.14286, 0.05, 49, -0.7619, 11868, -0.08, -0.52381, 0.2, 49, -0.90476, 11869, -0.12, -0.14286, -0.15, 49, -0.61905, 11870, 0.04, 0.0, -0.05, 49, -0.57143, 11871, 0.0, -0.2381, -0.05, 49, -0.52381, 11872, 0.0, -0.14286, 0.25, 49, -0.95238, 11873, -0.36, -0.14286, -0.05, 49, -0.71429, 11874, -0.2 ... 1994 parameters truncated ... 61, 0.42857, 12207, 0.76, -1.0, -1.0, 61, 0.38095, 12208, 0.76, -0.85714, -0.65, 61, 0.38095, 12209, 0.88, -0.95238, -0.7, 61, 0.57143, 12210, 0.88, -0.57143, -1.0, 61, 0.47619, 12211, 0.88, -0.66667, -0.6, 61, 0.14286, 12212, 0.88, -1.0, -1.0, 61, 0.71429, 12213, 0.92, -0.57143, -1.0, 61, 0.71429, 12214, 0.84, -0.61905, -0.75, 61, 0.42857)\n"
     ]
    },
    {
     "name": "stderr",
     "output_type": "stream",
     "text": [
      "[07-03 19:24:29] p38176 {C:\\Projects\\Private\\PropStar\\venv\\lib\\site-packages\\sqlalchemy\\engine\\base.py:2082} INFO - [insertmanyvalues 35/38 (unordered)] (11866, -0.2, -0.095238, 0.35, 49, -0.71429, 11867, -0.16, -0.14286, 0.05, 49, -0.7619, 11868, -0.08, -0.52381, 0.2, 49, -0.90476, 11869, -0.12, -0.14286, -0.15, 49, -0.61905, 11870, 0.04, 0.0, -0.05, 49, -0.57143, 11871, 0.0, -0.2381, -0.05, 49, -0.52381, 11872, 0.0, -0.14286, 0.25, 49, -0.95238, 11873, -0.36, -0.14286, -0.05, 49, -0.71429, 11874, -0.2 ... 1994 parameters truncated ... 61, 0.42857, 12207, 0.76, -1.0, -1.0, 61, 0.38095, 12208, 0.76, -0.85714, -0.65, 61, 0.38095, 12209, 0.88, -0.95238, -0.7, 61, 0.57143, 12210, 0.88, -0.57143, -1.0, 61, 0.47619, 12211, 0.88, -0.66667, -0.6, 61, 0.14286, 12212, 0.88, -1.0, -1.0, 61, 0.71429, 12213, 0.92, -0.57143, -1.0, 61, 0.71429, 12214, 0.84, -0.61905, -0.75, 61, 0.42857)\n"
     ]
    },
    {
     "name": "stdout",
     "output_type": "stream",
     "text": [
      "2024-07-03 19:24:29,744 INFO sqlalchemy.engine.Engine INSERT INTO indoor_user_movement.movements (id, [ RSS_anchor2], [ RSS_anchor3], [ RSS_anchor4], seq_id, [RSS_anchor1]) VALUES (?, ?, ?, ?, ?, ?), (?, ?, ?, ?, ?, ?), (?, ?, ?, ?, ?, ?), (?, ?, ?, ?, ?, ?), (?, ?, ?, ?, ?, ?), (?, ?, ?, ?, ?, ?), (?,  ... 6754 characters truncated ... , (?, ?, ?, ?, ?, ?), (?, ?, ?, ?, ?, ?), (?, ?, ?, ?, ?, ?), (?, ?, ?, ?, ?, ?), (?, ?, ?, ?, ?, ?)\n"
     ]
    },
    {
     "name": "stderr",
     "output_type": "stream",
     "text": [
      "[07-03 19:24:29] p38176 {C:\\Projects\\Private\\PropStar\\venv\\lib\\site-packages\\sqlalchemy\\engine\\base.py:2064} INFO - INSERT INTO indoor_user_movement.movements (id, [ RSS_anchor2], [ RSS_anchor3], [ RSS_anchor4], seq_id, [RSS_anchor1]) VALUES (?, ?, ?, ?, ?, ?), (?, ?, ?, ?, ?, ?), (?, ?, ?, ?, ?, ?), (?, ?, ?, ?, ?, ?), (?, ?, ?, ?, ?, ?), (?, ?, ?, ?, ?, ?), (?,  ... 6754 characters truncated ... , (?, ?, ?, ?, ?, ?), (?, ?, ?, ?, ?, ?), (?, ?, ?, ?, ?, ?), (?, ?, ?, ?, ?, ?), (?, ?, ?, ?, ?, ?)\n"
     ]
    },
    {
     "name": "stdout",
     "output_type": "stream",
     "text": [
      "2024-07-03 19:24:29,746 INFO sqlalchemy.engine.Engine [insertmanyvalues 36/38 (unordered)] (12215, 0.88, -0.47619, -0.6, 61, 0.38095, 12216, 1.0, -0.71429, -0.55, 61, 0.7619, 12217, 0.92, -0.80952, -0.8, 61, 0.52381, 12218, 0.92, -0.66667, -0.9, 61, 0.52381, 12219, 0.92, -0.42857, -0.95, 61, 0.14286, 12220, 1.0, -0.80952, -0.8, 61, 0.71429, 12221, 0.4, -0.47619, -0.3, 62, 0.14286, 12222, 0.64, -0.38095, -0.6, 62, -0.38095, 12223, 0.36 ... 1994 parameters truncated ... 74, 0.47619, 12556, 0.8, -1.0, -1.0, 74, 0.42857, 12557, 0.76, -1.0, -0.6, 74, 0.42857, 12558, 0.72, -1.0, -0.6, 74, 0.52381, 12559, 0.68, -0.85714, -0.55, 74, 1.0, 12560, 0.2, -0.71429, -0.65, 74, 0.42857, 12561, 0.12, -0.19048, -0.65, 75, -0.28571, 12562, 0.4, -0.42857, 0.05, 75, -0.38095, 12563, 0.04, -0.28571, -0.4, 75, 0.095238)\n"
     ]
    },
    {
     "name": "stderr",
     "output_type": "stream",
     "text": [
      "[07-03 19:24:29] p38176 {C:\\Projects\\Private\\PropStar\\venv\\lib\\site-packages\\sqlalchemy\\engine\\base.py:2082} INFO - [insertmanyvalues 36/38 (unordered)] (12215, 0.88, -0.47619, -0.6, 61, 0.38095, 12216, 1.0, -0.71429, -0.55, 61, 0.7619, 12217, 0.92, -0.80952, -0.8, 61, 0.52381, 12218, 0.92, -0.66667, -0.9, 61, 0.52381, 12219, 0.92, -0.42857, -0.95, 61, 0.14286, 12220, 1.0, -0.80952, -0.8, 61, 0.71429, 12221, 0.4, -0.47619, -0.3, 62, 0.14286, 12222, 0.64, -0.38095, -0.6, 62, -0.38095, 12223, 0.36 ... 1994 parameters truncated ... 74, 0.47619, 12556, 0.8, -1.0, -1.0, 74, 0.42857, 12557, 0.76, -1.0, -0.6, 74, 0.42857, 12558, 0.72, -1.0, -0.6, 74, 0.52381, 12559, 0.68, -0.85714, -0.55, 74, 1.0, 12560, 0.2, -0.71429, -0.65, 74, 0.42857, 12561, 0.12, -0.19048, -0.65, 75, -0.28571, 12562, 0.4, -0.42857, 0.05, 75, -0.38095, 12563, 0.04, -0.28571, -0.4, 75, 0.095238)\n"
     ]
    },
    {
     "name": "stdout",
     "output_type": "stream",
     "text": [
      "2024-07-03 19:24:29,754 INFO sqlalchemy.engine.Engine INSERT INTO indoor_user_movement.movements (id, [ RSS_anchor2], [ RSS_anchor3], [ RSS_anchor4], seq_id, [RSS_anchor1]) VALUES (?, ?, ?, ?, ?, ?), (?, ?, ?, ?, ?, ?), (?, ?, ?, ?, ?, ?), (?, ?, ?, ?, ?, ?), (?, ?, ?, ?, ?, ?), (?, ?, ?, ?, ?, ?), (?,  ... 6754 characters truncated ... , (?, ?, ?, ?, ?, ?), (?, ?, ?, ?, ?, ?), (?, ?, ?, ?, ?, ?), (?, ?, ?, ?, ?, ?), (?, ?, ?, ?, ?, ?)\n"
     ]
    },
    {
     "name": "stderr",
     "output_type": "stream",
     "text": [
      "[07-03 19:24:29] p38176 {C:\\Projects\\Private\\PropStar\\venv\\lib\\site-packages\\sqlalchemy\\engine\\base.py:2064} INFO - INSERT INTO indoor_user_movement.movements (id, [ RSS_anchor2], [ RSS_anchor3], [ RSS_anchor4], seq_id, [RSS_anchor1]) VALUES (?, ?, ?, ?, ?, ?), (?, ?, ?, ?, ?, ?), (?, ?, ?, ?, ?, ?), (?, ?, ?, ?, ?, ?), (?, ?, ?, ?, ?, ?), (?, ?, ?, ?, ?, ?), (?,  ... 6754 characters truncated ... , (?, ?, ?, ?, ?, ?), (?, ?, ?, ?, ?, ?), (?, ?, ?, ?, ?, ?), (?, ?, ?, ?, ?, ?), (?, ?, ?, ?, ?, ?)\n"
     ]
    },
    {
     "name": "stdout",
     "output_type": "stream",
     "text": [
      "2024-07-03 19:24:29,756 INFO sqlalchemy.engine.Engine [insertmanyvalues 37/38 (unordered)] (12564, 0.04, -0.71429, -0.3, 75, 0.42857, 12565, 0.04, -0.28571, -0.5, 75, 0.52381, 12566, -0.08, -0.47619, -0.4, 75, 0.42857, 12567, -0.24, -0.47619, -0.75, 75, 0.28571, 12568, 0.0, -0.57143, -0.9, 75, 0.2381, 12569, 0.0, -1.0, -0.65, 75, -0.14286, 12570, 0.36, -0.47619, -0.95, 75, 0.47619, 12571, 0.12, -0.66667, -0.95, 75, 0.57143, 12572, 0.52 ... 1994 parameters truncated ... 88, 0.28571, 12905, 0.08, -0.61905, -0.7, 88, 0.14286, 12906, 0.28, -0.7619, -1.0, 88, -0.57143, 12907, 0.32, -0.61905, -1.0, 88, 0.47619, 12908, 0.4, -0.61905, -1.0, 88, 0.47619, 12909, 0.64, -0.7619, -1.0, 88, 0.57143, 12910, 0.64, -0.71429, -0.3, 88, 0.80952, 12911, 0.72, -0.71429, -0.8, 88, 0.57143, 12912, 0.76, -1.0, -0.55, 88, 0.47619)\n"
     ]
    },
    {
     "name": "stderr",
     "output_type": "stream",
     "text": [
      "[07-03 19:24:29] p38176 {C:\\Projects\\Private\\PropStar\\venv\\lib\\site-packages\\sqlalchemy\\engine\\base.py:2082} INFO - [insertmanyvalues 37/38 (unordered)] (12564, 0.04, -0.71429, -0.3, 75, 0.42857, 12565, 0.04, -0.28571, -0.5, 75, 0.52381, 12566, -0.08, -0.47619, -0.4, 75, 0.42857, 12567, -0.24, -0.47619, -0.75, 75, 0.28571, 12568, 0.0, -0.57143, -0.9, 75, 0.2381, 12569, 0.0, -1.0, -0.65, 75, -0.14286, 12570, 0.36, -0.47619, -0.95, 75, 0.47619, 12571, 0.12, -0.66667, -0.95, 75, 0.57143, 12572, 0.52 ... 1994 parameters truncated ... 88, 0.28571, 12905, 0.08, -0.61905, -0.7, 88, 0.14286, 12906, 0.28, -0.7619, -1.0, 88, -0.57143, 12907, 0.32, -0.61905, -1.0, 88, 0.47619, 12908, 0.4, -0.61905, -1.0, 88, 0.47619, 12909, 0.64, -0.7619, -1.0, 88, 0.57143, 12910, 0.64, -0.71429, -0.3, 88, 0.80952, 12911, 0.72, -0.71429, -0.8, 88, 0.57143, 12912, 0.76, -1.0, -0.55, 88, 0.47619)\n"
     ]
    },
    {
     "name": "stdout",
     "output_type": "stream",
     "text": [
      "2024-07-03 19:24:29,766 INFO sqlalchemy.engine.Engine INSERT INTO indoor_user_movement.movements (id, [ RSS_anchor2], [ RSS_anchor3], [ RSS_anchor4], seq_id, [RSS_anchor1]) VALUES (?, ?, ?, ?, ?, ?), (?, ?, ?, ?, ?, ?), (?, ?, ?, ?, ?, ?), (?, ?, ?, ?, ?, ?), (?, ?, ?, ?, ?, ?), (?, ?, ?, ?, ?, ?), (?,  ... 5454 characters truncated ... , (?, ?, ?, ?, ?, ?), (?, ?, ?, ?, ?, ?), (?, ?, ?, ?, ?, ?), (?, ?, ?, ?, ?, ?), (?, ?, ?, ?, ?, ?)\n"
     ]
    },
    {
     "name": "stderr",
     "output_type": "stream",
     "text": [
      "[07-03 19:24:29] p38176 {C:\\Projects\\Private\\PropStar\\venv\\lib\\site-packages\\sqlalchemy\\engine\\base.py:2064} INFO - INSERT INTO indoor_user_movement.movements (id, [ RSS_anchor2], [ RSS_anchor3], [ RSS_anchor4], seq_id, [RSS_anchor1]) VALUES (?, ?, ?, ?, ?, ?), (?, ?, ?, ?, ?, ?), (?, ?, ?, ?, ?, ?), (?, ?, ?, ?, ?, ?), (?, ?, ?, ?, ?, ?), (?, ?, ?, ?, ?, ?), (?,  ... 5454 characters truncated ... , (?, ?, ?, ?, ?, ?), (?, ?, ?, ?, ?, ?), (?, ?, ?, ?, ?, ?), (?, ?, ?, ?, ?, ?), (?, ?, ?, ?, ?, ?)\n"
     ]
    },
    {
     "name": "stdout",
     "output_type": "stream",
     "text": [
      "2024-07-03 19:24:29,767 INFO sqlalchemy.engine.Engine [insertmanyvalues 38/38 (unordered)] (12913, 0.76, -0.42857, -0.4, 88, 0.38095, 12914, 0.76, -0.61905, -0.55, 88, 0.57143, 12915, 0.64, -0.52381, -0.55, 88, 0.85714, 12916, 0.4, -0.7619, -0.8, 88, 0.71429, 12917, 0.64, -0.85714, -0.65, 88, 0.47619, 12918, 0.04, -0.95238, -0.95, 88, 0.28571, 12919, 0.64, -0.90476, -1.0, 88, 0.52381, 12920, 0.52, -0.95238, -1.0, 88, 0.61905, 12921, 0.64 ... 1604 parameters truncated ... 99, 0.0, 13189, 0.04, -0.71429, -1.0, 99, -0.42857, 13190, 0.04, -0.7619, -0.85, 99, -0.33333, 13191, 0.52, -0.7619, -0.9, 99, -0.33333, 13192, 0.28, -0.7619, -0.55, 99, 0.19048, 13193, 0.4, -1.0, -0.75, 99, 0.19048, 13194, 0.24, -1.0, -0.65, 99, 0.28571, 13195, 0.2, -0.85714, -0.55, 99, 0.33333, 13196, 0.6, -1.0, -0.6, 99, 0.42857)\n"
     ]
    },
    {
     "name": "stderr",
     "output_type": "stream",
     "text": [
      "[07-03 19:24:29] p38176 {C:\\Projects\\Private\\PropStar\\venv\\lib\\site-packages\\sqlalchemy\\engine\\base.py:2082} INFO - [insertmanyvalues 38/38 (unordered)] (12913, 0.76, -0.42857, -0.4, 88, 0.38095, 12914, 0.76, -0.61905, -0.55, 88, 0.57143, 12915, 0.64, -0.52381, -0.55, 88, 0.85714, 12916, 0.4, -0.7619, -0.8, 88, 0.71429, 12917, 0.64, -0.85714, -0.65, 88, 0.47619, 12918, 0.04, -0.95238, -0.95, 88, 0.28571, 12919, 0.64, -0.90476, -1.0, 88, 0.52381, 12920, 0.52, -0.95238, -1.0, 88, 0.61905, 12921, 0.64 ... 1604 parameters truncated ... 99, 0.0, 13189, 0.04, -0.71429, -1.0, 99, -0.42857, 13190, 0.04, -0.7619, -0.85, 99, -0.33333, 13191, 0.52, -0.7619, -0.9, 99, -0.33333, 13192, 0.28, -0.7619, -0.55, 99, 0.19048, 13193, 0.4, -1.0, -0.75, 99, 0.19048, 13194, 0.24, -1.0, -0.65, 99, 0.28571, 13195, 0.2, -0.85714, -0.55, 99, 0.33333, 13196, 0.6, -1.0, -0.6, 99, 0.42857)\n"
     ]
    },
    {
     "name": "stdout",
     "output_type": "stream",
     "text": [
      "2024-07-03 19:24:29,914 INFO sqlalchemy.engine.Engine ALTER TABLE indoor_user_movement.movements ALTER COLUMN id BIGINT NOT NULL\n"
     ]
    },
    {
     "name": "stderr",
     "output_type": "stream",
     "text": [
      "[07-03 19:24:29] p38176 {C:\\Projects\\Private\\PropStar\\venv\\lib\\site-packages\\sqlalchemy\\engine\\base.py:1897} INFO - ALTER TABLE indoor_user_movement.movements ALTER COLUMN id BIGINT NOT NULL\n"
     ]
    },
    {
     "name": "stdout",
     "output_type": "stream",
     "text": [
      "2024-07-03 19:24:29,919 INFO sqlalchemy.engine.Engine [generated in 0.00541s] ()\n"
     ]
    },
    {
     "name": "stderr",
     "output_type": "stream",
     "text": [
      "[07-03 19:24:29] p38176 {C:\\Projects\\Private\\PropStar\\venv\\lib\\site-packages\\sqlalchemy\\engine\\base.py:1902} INFO - [generated in 0.00541s] ()\n"
     ]
    },
    {
     "name": "stdout",
     "output_type": "stream",
     "text": [
      "2024-07-03 19:24:29,960 INFO sqlalchemy.engine.Engine ALTER TABLE indoor_user_movement.movements ADD CONSTRAINT PK_movements PRIMARY KEY (id);\n"
     ]
    },
    {
     "name": "stderr",
     "output_type": "stream",
     "text": [
      "[07-03 19:24:29] p38176 {C:\\Projects\\Private\\PropStar\\venv\\lib\\site-packages\\sqlalchemy\\engine\\base.py:1897} INFO - ALTER TABLE indoor_user_movement.movements ADD CONSTRAINT PK_movements PRIMARY KEY (id);\n"
     ]
    },
    {
     "name": "stdout",
     "output_type": "stream",
     "text": [
      "2024-07-03 19:24:29,961 INFO sqlalchemy.engine.Engine [generated in 0.00161s] ()\n"
     ]
    },
    {
     "name": "stderr",
     "output_type": "stream",
     "text": [
      "[07-03 19:24:29] p38176 {C:\\Projects\\Private\\PropStar\\venv\\lib\\site-packages\\sqlalchemy\\engine\\base.py:1902} INFO - [generated in 0.00161s] ()\n"
     ]
    },
    {
     "name": "stdout",
     "output_type": "stream",
     "text": [
      "2024-07-03 19:24:30,022 INFO sqlalchemy.engine.Engine SELECT [INFORMATION_SCHEMA].[TABLES].[TABLE_NAME] \n",
      "FROM [INFORMATION_SCHEMA].[TABLES] \n",
      "WHERE ([INFORMATION_SCHEMA].[TABLES].[TABLE_TYPE] = CAST(? AS NVARCHAR(max)) OR [INFORMATION_SCHEMA].[TABLES].[TABLE_TYPE] = CAST(? AS NVARCHAR(max))) AND [INFORMATION_SCHEMA].[TABLES].[TABLE_NAME] = CAST(? AS NVARCHAR(max)) AND [INFORMATION_SCHEMA].[TABLES].[TABLE_SCHEMA] = CAST(? AS NVARCHAR(max))\n"
     ]
    },
    {
     "name": "stderr",
     "output_type": "stream",
     "text": [
      "[07-03 19:24:30] p38176 {C:\\Projects\\Private\\PropStar\\venv\\lib\\site-packages\\sqlalchemy\\engine\\base.py:1897} INFO - SELECT [INFORMATION_SCHEMA].[TABLES].[TABLE_NAME] \n",
      "FROM [INFORMATION_SCHEMA].[TABLES] \n",
      "WHERE ([INFORMATION_SCHEMA].[TABLES].[TABLE_TYPE] = CAST(? AS NVARCHAR(max)) OR [INFORMATION_SCHEMA].[TABLES].[TABLE_TYPE] = CAST(? AS NVARCHAR(max))) AND [INFORMATION_SCHEMA].[TABLES].[TABLE_NAME] = CAST(? AS NVARCHAR(max)) AND [INFORMATION_SCHEMA].[TABLES].[TABLE_SCHEMA] = CAST(? AS NVARCHAR(max))\n"
     ]
    },
    {
     "name": "stdout",
     "output_type": "stream",
     "text": [
      "2024-07-03 19:24:30,022 INFO sqlalchemy.engine.Engine [cached since 1.176s ago] ('BASE TABLE', 'VIEW', 'dataset_groups', 'indoor_user_movement')\n"
     ]
    },
    {
     "name": "stderr",
     "output_type": "stream",
     "text": [
      "[07-03 19:24:30] p38176 {C:\\Projects\\Private\\PropStar\\venv\\lib\\site-packages\\sqlalchemy\\engine\\base.py:1902} INFO - [cached since 1.176s ago] ('BASE TABLE', 'VIEW', 'dataset_groups', 'indoor_user_movement')\n"
     ]
    },
    {
     "name": "stdout",
     "output_type": "stream",
     "text": [
      "2024-07-03 19:24:30,033 INFO sqlalchemy.engine.Engine \n",
      "CREATE TABLE indoor_user_movement.dataset_groups (\n",
      "\t[ dataset_ID] BIGINT NULL, \n",
      "\t[sequence_ID] BIGINT NULL\n",
      ")\n",
      "\n",
      "\n"
     ]
    },
    {
     "name": "stderr",
     "output_type": "stream",
     "text": [
      "[07-03 19:24:30] p38176 {C:\\Projects\\Private\\PropStar\\venv\\lib\\site-packages\\sqlalchemy\\engine\\base.py:1897} INFO - \n",
      "CREATE TABLE indoor_user_movement.dataset_groups (\n",
      "\t[ dataset_ID] BIGINT NULL, \n",
      "\t[sequence_ID] BIGINT NULL\n",
      ")\n",
      "\n",
      "\n"
     ]
    },
    {
     "name": "stdout",
     "output_type": "stream",
     "text": [
      "2024-07-03 19:24:30,033 INFO sqlalchemy.engine.Engine [no key 0.00119s] ()\n"
     ]
    },
    {
     "name": "stderr",
     "output_type": "stream",
     "text": [
      "[07-03 19:24:30] p38176 {C:\\Projects\\Private\\PropStar\\venv\\lib\\site-packages\\sqlalchemy\\engine\\base.py:1902} INFO - [no key 0.00119s] ()\n"
     ]
    },
    {
     "name": "stdout",
     "output_type": "stream",
     "text": [
      "2024-07-03 19:24:30,033 INFO sqlalchemy.engine.Engine INSERT INTO indoor_user_movement.dataset_groups ([ dataset_ID], [sequence_ID]) VALUES (?, ?), (?, ?), (?, ?), (?, ?), (?, ?), (?, ?), (?, ?), (?, ?), (?, ?), (?, ?), (?, ?), (?, ?), (?, ?), (?, ?), (?, ?), (?, ?), (?, ?), (?, ?), (?, ?), (?, ?), (?,  ... 2246 characters truncated ... , ?), (?, ?), (?, ?), (?, ?), (?, ?), (?, ?), (?, ?), (?, ?), (?, ?), (?, ?), (?, ?), (?, ?), (?, ?)\n"
     ]
    },
    {
     "name": "stderr",
     "output_type": "stream",
     "text": [
      "[07-03 19:24:30] p38176 {C:\\Projects\\Private\\PropStar\\venv\\lib\\site-packages\\sqlalchemy\\engine\\base.py:2064} INFO - INSERT INTO indoor_user_movement.dataset_groups ([ dataset_ID], [sequence_ID]) VALUES (?, ?), (?, ?), (?, ?), (?, ?), (?, ?), (?, ?), (?, ?), (?, ?), (?, ?), (?, ?), (?, ?), (?, ?), (?, ?), (?, ?), (?, ?), (?, ?), (?, ?), (?, ?), (?, ?), (?, ?), (?,  ... 2246 characters truncated ... , ?), (?, ?), (?, ?), (?, ?), (?, ?), (?, ?), (?, ?), (?, ?), (?, ?), (?, ?), (?, ?), (?, ?), (?, ?)\n"
     ]
    },
    {
     "name": "stdout",
     "output_type": "stream",
     "text": [
      "2024-07-03 19:24:30,042 INFO sqlalchemy.engine.Engine [generated in 0.00055s (insertmanyvalues) 1/1 (unordered)] (1, 1, 1, 2, 1, 3, 1, 4, 1, 5, 1, 6, 1, 7, 1, 8, 1, 9, 1, 10, 1, 11, 1, 12, 1, 13, 1, 14, 1, 15, 1, 16, 1, 17, 1, 18, 1, 19, 1, 20, 1, 21, 1, 22, 1, 23, 1, 24, 1, 25 ... 528 parameters truncated ... 3, 290, 3, 291, 3, 292, 3, 293, 3, 294, 3, 295, 3, 296, 3, 297, 3, 298, 3, 299, 3, 300, 3, 301, 3, 302, 3, 303, 3, 304, 3, 305, 3, 306, 3, 307, 3, 308, 3, 309, 3, 310, 3, 311, 3, 312, 3, 313, 3, 314)\n"
     ]
    },
    {
     "name": "stderr",
     "output_type": "stream",
     "text": [
      "[07-03 19:24:30] p38176 {C:\\Projects\\Private\\PropStar\\venv\\lib\\site-packages\\sqlalchemy\\engine\\base.py:2082} INFO - [generated in 0.00055s (insertmanyvalues) 1/1 (unordered)] (1, 1, 1, 2, 1, 3, 1, 4, 1, 5, 1, 6, 1, 7, 1, 8, 1, 9, 1, 10, 1, 11, 1, 12, 1, 13, 1, 14, 1, 15, 1, 16, 1, 17, 1, 18, 1, 19, 1, 20, 1, 21, 1, 22, 1, 23, 1, 24, 1, 25 ... 528 parameters truncated ... 3, 290, 3, 291, 3, 292, 3, 293, 3, 294, 3, 295, 3, 296, 3, 297, 3, 298, 3, 299, 3, 300, 3, 301, 3, 302, 3, 303, 3, 304, 3, 305, 3, 306, 3, 307, 3, 308, 3, 309, 3, 310, 3, 311, 3, 312, 3, 313, 3, 314)\n"
     ]
    },
    {
     "name": "stdout",
     "output_type": "stream",
     "text": [
      "2024-07-03 19:24:30,083 INFO sqlalchemy.engine.Engine ALTER TABLE indoor_user_movement.dataset_groups ALTER COLUMN sequence_ID BIGINT NOT NULL\n"
     ]
    },
    {
     "name": "stderr",
     "output_type": "stream",
     "text": [
      "[07-03 19:24:30] p38176 {C:\\Projects\\Private\\PropStar\\venv\\lib\\site-packages\\sqlalchemy\\engine\\base.py:1897} INFO - ALTER TABLE indoor_user_movement.dataset_groups ALTER COLUMN sequence_ID BIGINT NOT NULL\n"
     ]
    },
    {
     "name": "stdout",
     "output_type": "stream",
     "text": [
      "2024-07-03 19:24:30,084 INFO sqlalchemy.engine.Engine [generated in 0.00134s] ()\n"
     ]
    },
    {
     "name": "stderr",
     "output_type": "stream",
     "text": [
      "[07-03 19:24:30] p38176 {C:\\Projects\\Private\\PropStar\\venv\\lib\\site-packages\\sqlalchemy\\engine\\base.py:1902} INFO - [generated in 0.00134s] ()\n"
     ]
    },
    {
     "name": "stdout",
     "output_type": "stream",
     "text": [
      "2024-07-03 19:24:30,091 INFO sqlalchemy.engine.Engine ALTER TABLE indoor_user_movement.dataset_groups ADD CONSTRAINT PK_dataset_groups PRIMARY KEY (sequence_ID);\n"
     ]
    },
    {
     "name": "stderr",
     "output_type": "stream",
     "text": [
      "[07-03 19:24:30] p38176 {C:\\Projects\\Private\\PropStar\\venv\\lib\\site-packages\\sqlalchemy\\engine\\base.py:1897} INFO - ALTER TABLE indoor_user_movement.dataset_groups ADD CONSTRAINT PK_dataset_groups PRIMARY KEY (sequence_ID);\n"
     ]
    },
    {
     "name": "stdout",
     "output_type": "stream",
     "text": [
      "2024-07-03 19:24:30,093 INFO sqlalchemy.engine.Engine [generated in 0.00205s] ()\n"
     ]
    },
    {
     "name": "stderr",
     "output_type": "stream",
     "text": [
      "[07-03 19:24:30] p38176 {C:\\Projects\\Private\\PropStar\\venv\\lib\\site-packages\\sqlalchemy\\engine\\base.py:1902} INFO - [generated in 0.00205s] ()\n"
     ]
    },
    {
     "name": "stdout",
     "output_type": "stream",
     "text": [
      "2024-07-03 19:24:30,103 INFO sqlalchemy.engine.Engine SELECT [INFORMATION_SCHEMA].[TABLES].[TABLE_NAME] \n",
      "FROM [INFORMATION_SCHEMA].[TABLES] \n",
      "WHERE ([INFORMATION_SCHEMA].[TABLES].[TABLE_TYPE] = CAST(? AS NVARCHAR(max)) OR [INFORMATION_SCHEMA].[TABLES].[TABLE_TYPE] = CAST(? AS NVARCHAR(max))) AND [INFORMATION_SCHEMA].[TABLES].[TABLE_NAME] = CAST(? AS NVARCHAR(max)) AND [INFORMATION_SCHEMA].[TABLES].[TABLE_SCHEMA] = CAST(? AS NVARCHAR(max))\n"
     ]
    },
    {
     "name": "stderr",
     "output_type": "stream",
     "text": [
      "[07-03 19:24:30] p38176 {C:\\Projects\\Private\\PropStar\\venv\\lib\\site-packages\\sqlalchemy\\engine\\base.py:1897} INFO - SELECT [INFORMATION_SCHEMA].[TABLES].[TABLE_NAME] \n",
      "FROM [INFORMATION_SCHEMA].[TABLES] \n",
      "WHERE ([INFORMATION_SCHEMA].[TABLES].[TABLE_TYPE] = CAST(? AS NVARCHAR(max)) OR [INFORMATION_SCHEMA].[TABLES].[TABLE_TYPE] = CAST(? AS NVARCHAR(max))) AND [INFORMATION_SCHEMA].[TABLES].[TABLE_NAME] = CAST(? AS NVARCHAR(max)) AND [INFORMATION_SCHEMA].[TABLES].[TABLE_SCHEMA] = CAST(? AS NVARCHAR(max))\n"
     ]
    },
    {
     "name": "stdout",
     "output_type": "stream",
     "text": [
      "2024-07-03 19:24:30,104 INFO sqlalchemy.engine.Engine [cached since 1.249s ago] ('BASE TABLE', 'VIEW', 'paths', 'indoor_user_movement')\n"
     ]
    },
    {
     "name": "stderr",
     "output_type": "stream",
     "text": [
      "[07-03 19:24:30] p38176 {C:\\Projects\\Private\\PropStar\\venv\\lib\\site-packages\\sqlalchemy\\engine\\base.py:1902} INFO - [cached since 1.249s ago] ('BASE TABLE', 'VIEW', 'paths', 'indoor_user_movement')\n"
     ]
    },
    {
     "name": "stdout",
     "output_type": "stream",
     "text": [
      "2024-07-03 19:24:30,107 INFO sqlalchemy.engine.Engine \n",
      "CREATE TABLE indoor_user_movement.paths (\n",
      "\t[ path_ID] BIGINT NULL, \n",
      "\t[sequence_ID] BIGINT NULL\n",
      ")\n",
      "\n",
      "\n"
     ]
    },
    {
     "name": "stderr",
     "output_type": "stream",
     "text": [
      "[07-03 19:24:30] p38176 {C:\\Projects\\Private\\PropStar\\venv\\lib\\site-packages\\sqlalchemy\\engine\\base.py:1897} INFO - \n",
      "CREATE TABLE indoor_user_movement.paths (\n",
      "\t[ path_ID] BIGINT NULL, \n",
      "\t[sequence_ID] BIGINT NULL\n",
      ")\n",
      "\n",
      "\n"
     ]
    },
    {
     "name": "stdout",
     "output_type": "stream",
     "text": [
      "2024-07-03 19:24:30,108 INFO sqlalchemy.engine.Engine [no key 0.00089s] ()\n"
     ]
    },
    {
     "name": "stderr",
     "output_type": "stream",
     "text": [
      "[07-03 19:24:30] p38176 {C:\\Projects\\Private\\PropStar\\venv\\lib\\site-packages\\sqlalchemy\\engine\\base.py:1902} INFO - [no key 0.00089s] ()\n"
     ]
    },
    {
     "name": "stdout",
     "output_type": "stream",
     "text": [
      "2024-07-03 19:24:30,113 INFO sqlalchemy.engine.Engine INSERT INTO indoor_user_movement.paths ([ path_ID], [sequence_ID]) VALUES (?, ?), (?, ?), (?, ?), (?, ?), (?, ?), (?, ?), (?, ?), (?, ?), (?, ?), (?, ?), (?, ?), (?, ?), (?, ?), (?, ?), (?, ?), (?, ?), (?, ?), (?, ?), (?, ?), (?, ?), (?, ?), (?, ?),  ... 2234 characters truncated ... , ?), (?, ?), (?, ?), (?, ?), (?, ?), (?, ?), (?, ?), (?, ?), (?, ?), (?, ?), (?, ?), (?, ?), (?, ?)\n"
     ]
    },
    {
     "name": "stderr",
     "output_type": "stream",
     "text": [
      "[07-03 19:24:30] p38176 {C:\\Projects\\Private\\PropStar\\venv\\lib\\site-packages\\sqlalchemy\\engine\\base.py:2064} INFO - INSERT INTO indoor_user_movement.paths ([ path_ID], [sequence_ID]) VALUES (?, ?), (?, ?), (?, ?), (?, ?), (?, ?), (?, ?), (?, ?), (?, ?), (?, ?), (?, ?), (?, ?), (?, ?), (?, ?), (?, ?), (?, ?), (?, ?), (?, ?), (?, ?), (?, ?), (?, ?), (?, ?), (?, ?),  ... 2234 characters truncated ... , ?), (?, ?), (?, ?), (?, ?), (?, ?), (?, ?), (?, ?), (?, ?), (?, ?), (?, ?), (?, ?), (?, ?), (?, ?)\n"
     ]
    },
    {
     "name": "stdout",
     "output_type": "stream",
     "text": [
      "2024-07-03 19:24:30,115 INFO sqlalchemy.engine.Engine [generated in 0.00041s (insertmanyvalues) 1/1 (unordered)] (1, 1, 1, 2, 1, 3, 1, 4, 1, 5, 1, 6, 1, 7, 1, 8, 1, 9, 1, 10, 1, 11, 1, 12, 1, 13, 1, 14, 1, 15, 1, 16, 1, 17, 1, 18, 1, 19, 1, 20, 1, 21, 1, 22, 1, 23, 1, 24, 1, 25 ... 528 parameters truncated ... 5, 290, 5, 291, 5, 292, 5, 293, 5, 294, 5, 295, 5, 296, 5, 297, 5, 298, 5, 299, 5, 300, 5, 301, 6, 302, 6, 303, 6, 304, 6, 305, 6, 306, 6, 307, 6, 308, 6, 309, 6, 310, 6, 311, 6, 312, 6, 313, 6, 314)\n"
     ]
    },
    {
     "name": "stderr",
     "output_type": "stream",
     "text": [
      "[07-03 19:24:30] p38176 {C:\\Projects\\Private\\PropStar\\venv\\lib\\site-packages\\sqlalchemy\\engine\\base.py:2082} INFO - [generated in 0.00041s (insertmanyvalues) 1/1 (unordered)] (1, 1, 1, 2, 1, 3, 1, 4, 1, 5, 1, 6, 1, 7, 1, 8, 1, 9, 1, 10, 1, 11, 1, 12, 1, 13, 1, 14, 1, 15, 1, 16, 1, 17, 1, 18, 1, 19, 1, 20, 1, 21, 1, 22, 1, 23, 1, 24, 1, 25 ... 528 parameters truncated ... 5, 290, 5, 291, 5, 292, 5, 293, 5, 294, 5, 295, 5, 296, 5, 297, 5, 298, 5, 299, 5, 300, 5, 301, 6, 302, 6, 303, 6, 304, 6, 305, 6, 306, 6, 307, 6, 308, 6, 309, 6, 310, 6, 311, 6, 312, 6, 313, 6, 314)\n"
     ]
    },
    {
     "name": "stdout",
     "output_type": "stream",
     "text": [
      "2024-07-03 19:24:30,150 INFO sqlalchemy.engine.Engine ALTER TABLE indoor_user_movement.paths ALTER COLUMN sequence_ID BIGINT NOT NULL\n"
     ]
    },
    {
     "name": "stderr",
     "output_type": "stream",
     "text": [
      "[07-03 19:24:30] p38176 {C:\\Projects\\Private\\PropStar\\venv\\lib\\site-packages\\sqlalchemy\\engine\\base.py:1897} INFO - ALTER TABLE indoor_user_movement.paths ALTER COLUMN sequence_ID BIGINT NOT NULL\n"
     ]
    },
    {
     "name": "stdout",
     "output_type": "stream",
     "text": [
      "2024-07-03 19:24:30,151 INFO sqlalchemy.engine.Engine [generated in 0.00151s] ()\n"
     ]
    },
    {
     "name": "stderr",
     "output_type": "stream",
     "text": [
      "[07-03 19:24:30] p38176 {C:\\Projects\\Private\\PropStar\\venv\\lib\\site-packages\\sqlalchemy\\engine\\base.py:1902} INFO - [generated in 0.00151s] ()\n"
     ]
    },
    {
     "name": "stdout",
     "output_type": "stream",
     "text": [
      "2024-07-03 19:24:30,160 INFO sqlalchemy.engine.Engine ALTER TABLE indoor_user_movement.paths ADD CONSTRAINT PK_paths PRIMARY KEY (sequence_ID);\n"
     ]
    },
    {
     "name": "stderr",
     "output_type": "stream",
     "text": [
      "[07-03 19:24:30] p38176 {C:\\Projects\\Private\\PropStar\\venv\\lib\\site-packages\\sqlalchemy\\engine\\base.py:1897} INFO - ALTER TABLE indoor_user_movement.paths ADD CONSTRAINT PK_paths PRIMARY KEY (sequence_ID);\n"
     ]
    },
    {
     "name": "stdout",
     "output_type": "stream",
     "text": [
      "2024-07-03 19:24:30,161 INFO sqlalchemy.engine.Engine [generated in 0.00124s] ()\n"
     ]
    },
    {
     "name": "stderr",
     "output_type": "stream",
     "text": [
      "[07-03 19:24:30] p38176 {C:\\Projects\\Private\\PropStar\\venv\\lib\\site-packages\\sqlalchemy\\engine\\base.py:1902} INFO - [generated in 0.00124s] ()\n"
     ]
    },
    {
     "name": "stdout",
     "output_type": "stream",
     "text": [
      "2024-07-03 19:24:30,171 INFO sqlalchemy.engine.Engine ALTER TABLE indoor_user_movement.movements ADD CONSTRAINT FK_movements_target FOREIGN KEY (seq_id) REFERENCES indoor_user_movement.target(sequence_ID);\n"
     ]
    },
    {
     "name": "stderr",
     "output_type": "stream",
     "text": [
      "[07-03 19:24:30] p38176 {C:\\Projects\\Private\\PropStar\\venv\\lib\\site-packages\\sqlalchemy\\engine\\base.py:1897} INFO - ALTER TABLE indoor_user_movement.movements ADD CONSTRAINT FK_movements_target FOREIGN KEY (seq_id) REFERENCES indoor_user_movement.target(sequence_ID);\n"
     ]
    },
    {
     "name": "stdout",
     "output_type": "stream",
     "text": [
      "2024-07-03 19:24:30,173 INFO sqlalchemy.engine.Engine [generated in 0.00136s] ()\n"
     ]
    },
    {
     "name": "stderr",
     "output_type": "stream",
     "text": [
      "[07-03 19:24:30] p38176 {C:\\Projects\\Private\\PropStar\\venv\\lib\\site-packages\\sqlalchemy\\engine\\base.py:1902} INFO - [generated in 0.00136s] ()\n"
     ]
    },
    {
     "name": "stdout",
     "output_type": "stream",
     "text": [
      "2024-07-03 19:24:30,210 INFO sqlalchemy.engine.Engine ALTER TABLE indoor_user_movement.dataset_groups ADD CONSTRAINT FK_dataset_groups_target FOREIGN KEY (sequence_ID) REFERENCES indoor_user_movement.target(sequence_ID);\n"
     ]
    },
    {
     "name": "stderr",
     "output_type": "stream",
     "text": [
      "[07-03 19:24:30] p38176 {C:\\Projects\\Private\\PropStar\\venv\\lib\\site-packages\\sqlalchemy\\engine\\base.py:1897} INFO - ALTER TABLE indoor_user_movement.dataset_groups ADD CONSTRAINT FK_dataset_groups_target FOREIGN KEY (sequence_ID) REFERENCES indoor_user_movement.target(sequence_ID);\n"
     ]
    },
    {
     "name": "stdout",
     "output_type": "stream",
     "text": [
      "2024-07-03 19:24:30,211 INFO sqlalchemy.engine.Engine [generated in 0.00154s] ()\n"
     ]
    },
    {
     "name": "stderr",
     "output_type": "stream",
     "text": [
      "[07-03 19:24:30] p38176 {C:\\Projects\\Private\\PropStar\\venv\\lib\\site-packages\\sqlalchemy\\engine\\base.py:1902} INFO - [generated in 0.00154s] ()\n"
     ]
    },
    {
     "name": "stdout",
     "output_type": "stream",
     "text": [
      "2024-07-03 19:24:30,219 INFO sqlalchemy.engine.Engine ALTER TABLE indoor_user_movement.paths ADD CONSTRAINT FK_paths_target FOREIGN KEY (sequence_ID) REFERENCES indoor_user_movement.target(sequence_ID);\n"
     ]
    },
    {
     "name": "stderr",
     "output_type": "stream",
     "text": [
      "[07-03 19:24:30] p38176 {C:\\Projects\\Private\\PropStar\\venv\\lib\\site-packages\\sqlalchemy\\engine\\base.py:1897} INFO - ALTER TABLE indoor_user_movement.paths ADD CONSTRAINT FK_paths_target FOREIGN KEY (sequence_ID) REFERENCES indoor_user_movement.target(sequence_ID);\n"
     ]
    },
    {
     "name": "stdout",
     "output_type": "stream",
     "text": [
      "2024-07-03 19:24:30,221 INFO sqlalchemy.engine.Engine [generated in 0.00178s] ()\n"
     ]
    },
    {
     "name": "stderr",
     "output_type": "stream",
     "text": [
      "[07-03 19:24:30] p38176 {C:\\Projects\\Private\\PropStar\\venv\\lib\\site-packages\\sqlalchemy\\engine\\base.py:1902} INFO - [generated in 0.00178s] ()\n"
     ]
    },
    {
     "name": "stdout",
     "output_type": "stream",
     "text": [
      "2024-07-03 19:24:30,228 INFO sqlalchemy.engine.Engine ROLLBACK\n"
     ]
    },
    {
     "name": "stderr",
     "output_type": "stream",
     "text": [
      "[07-03 19:24:30] p38176 {C:\\Projects\\Private\\PropStar\\venv\\lib\\site-packages\\sqlalchemy\\engine\\base.py:1113} INFO - ROLLBACK\n"
     ]
    }
   ],
   "execution_count": 36
  },
  {
   "cell_type": "code",
   "execution_count": 26,
   "id": "de6050c9-13c8-4da6-b4c7-9c7cc0cb70b9",
   "metadata": {
    "ExecuteTime": {
     "start_time": "2024-04-08T18:33:43.962483Z"
    }
   },
   "outputs": [
    {
     "data": {
      "text/plain": [
       "id                int64\n",
       " RSS_anchor2    float64\n",
       " RSS_anchor3    float64\n",
       " RSS_anchor4    float64\n",
       "seq_id            int64\n",
       "RSS_anchor1     float64\n",
       "dtype: object"
      ]
     },
     "execution_count": 26,
     "metadata": {},
     "output_type": "execute_result"
    }
   ],
   "source": [
    "norm.entity_set['movements'].dtypes"
   ]
  },
  {
   "cell_type": "code",
   "execution_count": 27,
   "id": "642d893a-65f7-4d13-8cd6-5b9a79b071f9",
   "metadata": {
    "ExecuteTime": {
     "start_time": "2024-04-08T18:33:43.963482Z"
    }
   },
   "outputs": [
    {
     "data": {
      "text/html": [
       "<div>\n",
       "<style scoped>\n",
       "    .dataframe tbody tr th:only-of-type {\n",
       "        vertical-align: middle;\n",
       "    }\n",
       "\n",
       "    .dataframe tbody tr th {\n",
       "        vertical-align: top;\n",
       "    }\n",
       "\n",
       "    .dataframe thead th {\n",
       "        text-align: right;\n",
       "    }\n",
       "</style>\n",
       "<table border=\"1\" class=\"dataframe\">\n",
       "  <thead>\n",
       "    <tr style=\"text-align: right;\">\n",
       "      <th></th>\n",
       "      <th>class_label</th>\n",
       "      <th>sequence_ID</th>\n",
       "    </tr>\n",
       "  </thead>\n",
       "  <tbody>\n",
       "    <tr>\n",
       "      <th>0</th>\n",
       "      <td>1</td>\n",
       "      <td>1</td>\n",
       "    </tr>\n",
       "    <tr>\n",
       "      <th>1</th>\n",
       "      <td>1</td>\n",
       "      <td>2</td>\n",
       "    </tr>\n",
       "    <tr>\n",
       "      <th>2</th>\n",
       "      <td>1</td>\n",
       "      <td>3</td>\n",
       "    </tr>\n",
       "    <tr>\n",
       "      <th>3</th>\n",
       "      <td>1</td>\n",
       "      <td>4</td>\n",
       "    </tr>\n",
       "    <tr>\n",
       "      <th>4</th>\n",
       "      <td>1</td>\n",
       "      <td>5</td>\n",
       "    </tr>\n",
       "    <tr>\n",
       "      <th>...</th>\n",
       "      <td>...</td>\n",
       "      <td>...</td>\n",
       "    </tr>\n",
       "    <tr>\n",
       "      <th>309</th>\n",
       "      <td>-1</td>\n",
       "      <td>310</td>\n",
       "    </tr>\n",
       "    <tr>\n",
       "      <th>310</th>\n",
       "      <td>-1</td>\n",
       "      <td>311</td>\n",
       "    </tr>\n",
       "    <tr>\n",
       "      <th>311</th>\n",
       "      <td>-1</td>\n",
       "      <td>312</td>\n",
       "    </tr>\n",
       "    <tr>\n",
       "      <th>312</th>\n",
       "      <td>-1</td>\n",
       "      <td>313</td>\n",
       "    </tr>\n",
       "    <tr>\n",
       "      <th>313</th>\n",
       "      <td>-1</td>\n",
       "      <td>314</td>\n",
       "    </tr>\n",
       "  </tbody>\n",
       "</table>\n",
       "<p>314 rows × 2 columns</p>\n",
       "</div>"
      ],
      "text/plain": [
       "     class_label  sequence_ID\n",
       "0              1            1\n",
       "1              1            2\n",
       "2              1            3\n",
       "3              1            4\n",
       "4              1            5\n",
       "..           ...          ...\n",
       "309           -1          310\n",
       "310           -1          311\n",
       "311           -1          312\n",
       "312           -1          313\n",
       "313           -1          314\n",
       "\n",
       "[314 rows x 2 columns]"
      ]
     },
     "execution_count": 27,
     "metadata": {},
     "output_type": "execute_result"
    }
   ],
   "source": [
    "target"
   ]
  },
  {
   "cell_type": "code",
   "execution_count": null,
   "id": "681e39c9-8f1c-46f9-ada9-4fb512b18005",
   "metadata": {
    "ExecuteTime": {
     "start_time": "2024-04-08T18:33:43.964480Z"
    }
   },
   "outputs": [],
   "source": []
  }
 ],
 "metadata": {
  "kernelspec": {
   "display_name": "Python 3 (ipykernel)",
   "language": "python",
   "name": "python3"
  },
  "language_info": {
   "codemirror_mode": {
    "name": "ipython",
    "version": 3
   },
   "file_extension": ".py",
   "mimetype": "text/x-python",
   "name": "python",
   "nbconvert_exporter": "python",
   "pygments_lexer": "ipython3",
   "version": "3.9.13"
  }
 },
 "nbformat": 4,
 "nbformat_minor": 5
}
