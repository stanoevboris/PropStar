{
 "cells": [
  {
   "cell_type": "code",
   "execution_count": 1,
   "id": "affe6e05-65c3-4e27-b39f-ec18d41d93e5",
   "metadata": {},
   "outputs": [],
   "source": [
    "import sys\n",
    "# sys.path is a list of absolute path strings\n",
    "sys.path.append('/mnt/sda/boris_stanoev/PropStar/')"
   ]
  },
  {
   "cell_type": "code",
   "execution_count": 2,
   "id": "407d9963-90c8-4549-b676-840557da79c8",
   "metadata": {},
   "outputs": [],
   "source": [
    "from normalization.normalize import Normalize\n",
    "from sklearn.datasets import fetch_openml"
   ]
  },
  {
   "cell_type": "code",
   "execution_count": 3,
   "id": "acffffec-cc43-4012-991f-71aa58641342",
   "metadata": {},
   "outputs": [
    {
     "name": "stderr",
     "output_type": "stream",
     "text": [
      "/mnt/sda/boris_stanoev/PropStar/venv/lib/python3.10/site-packages/sklearn/datasets/_openml.py:303: UserWarning: Multiple active versions of the dataset matching the name telco-customer-churn exist. Versions may be fundamentally different, returning version 1.\n",
      "  warn(\n",
      "/mnt/sda/boris_stanoev/PropStar/venv/lib/python3.10/site-packages/sklearn/datasets/_openml.py:1002: FutureWarning: The default value of `parser` will change from `'liac-arff'` to `'auto'` in 1.4. You can set `parser='auto'` to silence this warning. Therefore, an `ImportError` will be raised from 1.4 if the dataset is dense and pandas is not installed. Note that the pandas parser may return different data types. See the Notes Section in fetch_openml's API doc for details.\n",
      "  warn(\n"
     ]
    }
   ],
   "source": [
    "data = fetch_openml(name='telco-customer-churn')"
   ]
  },
  {
   "cell_type": "code",
   "execution_count": 4,
   "id": "040c8e67-c3f2-4681-ae38-0c14d97fafe7",
   "metadata": {
    "scrolled": true
   },
   "outputs": [
    {
     "name": "stderr",
     "output_type": "stream",
     "text": [
      "/tmp/ipykernel_556813/1379662505.py:2: SettingWithCopyWarning: \n",
      "A value is trying to be set on a copy of a slice from a DataFrame\n",
      "\n",
      "See the caveats in the documentation: https://pandas.pydata.org/pandas-docs/stable/user_guide/indexing.html#returning-a-view-versus-a-copy\n",
      "  data.data.drop(labels=[*drop_indices], inplace=True)\n"
     ]
    }
   ],
   "source": [
    "drop_indices = data.data[data.data['TotalCharges']== ' '].index\n",
    "data.data.drop(labels=[*drop_indices], inplace=True)\n",
    "data.target.drop(labels=[*drop_indices], inplace=True)\n"
   ]
  },
  {
   "cell_type": "code",
   "execution_count": 5,
   "id": "aeb88345-6d05-4dc4-8fab-a354ed022150",
   "metadata": {},
   "outputs": [
    {
     "data": {
      "text/plain": [
       "7032"
      ]
     },
     "execution_count": 5,
     "metadata": {},
     "output_type": "execute_result"
    }
   ],
   "source": [
    "len(data.data)"
   ]
  },
  {
   "cell_type": "code",
   "execution_count": 6,
   "id": "83341872-8699-4217-a838-b3609a6b422b",
   "metadata": {},
   "outputs": [],
   "source": [
    "denormalized_table = data.data.join(data.target)"
   ]
  },
  {
   "cell_type": "markdown",
   "id": "8596cac4-3ee5-4d36-af08-aa123c207a07",
   "metadata": {},
   "source": [
    "- Customers who left within the last month – the column is called Churn\n",
    "- \n",
    "Services that each customer has signed up for – phone, multiple lines, internet, online security, online backup, device protection, tech support, and streaming TV and movie\n",
    "- \n",
    "Customer account informati:  – how long they’ve been a customer, contract, payment method, paperless billing, monthly charges, and total charg\n",
    "- s\n",
    "Demographic info about custom:s – gender, age range, and if they have partners and dependents"
   ]
  },
  {
   "cell_type": "code",
   "execution_count": 7,
   "id": "d30ff5dd-4e7d-44d2-acdd-abf41fe28381",
   "metadata": {},
   "outputs": [
    {
     "data": {
      "text/plain": [
       "array(['gender', 'SeniorCitizen', 'Partner', 'Dependents', 'tenure',\n",
       "       'PhoneService', 'MultipleLines', 'InternetService',\n",
       "       'OnlineSecurity', 'OnlineBackup', 'DeviceProtection',\n",
       "       'TechSupport', 'StreamingTV', 'StreamingMovies', 'Contract',\n",
       "       'PaperlessBilling', 'PaymentMethod', 'MonthlyCharges',\n",
       "       'TotalCharges', 'Churn'], dtype=object)"
      ]
     },
     "execution_count": 7,
     "metadata": {},
     "output_type": "execute_result"
    }
   ],
   "source": [
    "denormalized_table.columns.values"
   ]
  },
  {
   "cell_type": "code",
   "execution_count": 8,
   "id": "c8ec9f1b-641b-4c91-8b08-913fd536fa5e",
   "metadata": {},
   "outputs": [
    {
     "data": {
      "text/plain": [
       "SeniorCitizen\n",
       "0    5890\n",
       "1    1142\n",
       "Name: SeniorCitizen, dtype: int64"
      ]
     },
     "execution_count": 8,
     "metadata": {},
     "output_type": "execute_result"
    }
   ],
   "source": [
    "denormalized_table[['SeniorCitizen']].groupby(['SeniorCitizen'])['SeniorCitizen'].count()"
   ]
  },
  {
   "cell_type": "code",
   "execution_count": 9,
   "id": "b03db07d-e7e2-4662-80ed-10569e98d6c7",
   "metadata": {},
   "outputs": [],
   "source": [
    "all_columns = denormalized_table.columns.values\n",
    "demographics_columns = ['gender', 'SeniorCitizen', 'Partner', 'Dependents']\n",
    "customer_columns = ['Contract',\n",
    "       'PaperlessBilling', 'PaymentMethod', 'MonthlyCharges',\n",
    "       'TotalCharges', 'tenure', 'Churn']\n",
    "service_columns = ['PhoneService', 'MultipleLines', 'InternetService',\n",
    "       'OnlineSecurity', 'OnlineBackup', 'DeviceProtection',\n",
    "       'TechSupport', 'StreamingTV', 'StreamingMovies']\n",
    "# churn_target = ['Churn']"
   ]
  },
  {
   "cell_type": "code",
   "execution_count": 10,
   "id": "164276fc-f7c3-4412-9d05-d2d898723113",
   "metadata": {},
   "outputs": [
    {
     "name": "stdout",
     "output_type": "stream",
     "text": [
      "gender           7032\n",
      "SeniorCitizen    7032\n",
      "Partner          7032\n",
      "Dependents       7032\n",
      "dtype: int64\n",
      "gender           16\n",
      "SeniorCitizen    16\n",
      "Partner          16\n",
      "Dependents       16\n",
      "dtype: int64\n"
     ]
    }
   ],
   "source": [
    "print(denormalized_table[[*demographics_columns]].count())\n",
    "print(denormalized_table[[*demographics_columns]].drop_duplicates().count())"
   ]
  },
  {
   "cell_type": "code",
   "execution_count": 11,
   "id": "70ce874e-8737-495a-9ece-6ffb3d3a01dc",
   "metadata": {},
   "outputs": [
    {
     "name": "stdout",
     "output_type": "stream",
     "text": [
      "Contract            7032\n",
      "PaperlessBilling    7032\n",
      "PaymentMethod       7032\n",
      "MonthlyCharges      7032\n",
      "TotalCharges        7032\n",
      "tenure              7032\n",
      "Churn               7032\n",
      "dtype: int64\n",
      "Contract            6952\n",
      "PaperlessBilling    6952\n",
      "PaymentMethod       6952\n",
      "MonthlyCharges      6952\n",
      "TotalCharges        6952\n",
      "tenure              6952\n",
      "Churn               6952\n",
      "dtype: int64\n"
     ]
    }
   ],
   "source": [
    "print(denormalized_table[[*customer_columns]].count())\n",
    "print(denormalized_table[[*customer_columns]].drop_duplicates().count())"
   ]
  },
  {
   "cell_type": "code",
   "execution_count": 12,
   "id": "023dda5e-37ca-4059-a6af-f529e552071c",
   "metadata": {},
   "outputs": [
    {
     "name": "stdout",
     "output_type": "stream",
     "text": [
      "PhoneService        7032\n",
      "MultipleLines       7032\n",
      "InternetService     7032\n",
      "OnlineSecurity      7032\n",
      "OnlineBackup        7032\n",
      "DeviceProtection    7032\n",
      "TechSupport         7032\n",
      "StreamingTV         7032\n",
      "StreamingMovies     7032\n",
      "dtype: int64\n",
      "PhoneService        322\n",
      "MultipleLines       322\n",
      "InternetService     322\n",
      "OnlineSecurity      322\n",
      "OnlineBackup        322\n",
      "DeviceProtection    322\n",
      "TechSupport         322\n",
      "StreamingTV         322\n",
      "StreamingMovies     322\n",
      "dtype: int64\n"
     ]
    }
   ],
   "source": [
    "print(denormalized_table[[*service_columns]].count())\n",
    "print(denormalized_table[[*service_columns]].drop_duplicates().count())"
   ]
  },
  {
   "cell_type": "code",
   "execution_count": 13,
   "id": "8fd2f845-27d7-4087-9c2d-429581606442",
   "metadata": {},
   "outputs": [],
   "source": [
    "norm = Normalize(denormalized_table=denormalized_table, denormalized_table_name=\"original_table\")"
   ]
  },
  {
   "cell_type": "code",
   "execution_count": 14,
   "id": "61576092-ede5-483c-90ba-cd63385fd93f",
   "metadata": {},
   "outputs": [],
   "source": [
    "norm.create_entity(source_entity_name=\"original_table\", target_entity_name=\"customer\", columns=all_columns,\n",
    "                   distinct_values=True, retain_columns=['customer_id'])"
   ]
  },
  {
   "cell_type": "code",
   "execution_count": 15,
   "id": "a7aeeece-6ed2-4a03-87fd-e5289f6186d2",
   "metadata": {},
   "outputs": [],
   "source": [
    "norm.create_entity(source_entity_name=\"customer\", target_entity_name=\"demographics\", columns=demographics_columns,\n",
    "                   distinct_values=True, retain_columns=['customer_id'])"
   ]
  },
  {
   "cell_type": "code",
   "execution_count": 16,
   "id": "6a239975-9eec-46f5-a505-689dfba8fa95",
   "metadata": {},
   "outputs": [],
   "source": [
    "norm.create_entity(source_entity_name=\"customer\", target_entity_name=\"service\", columns=service_columns,\n",
    "                   distinct_values=True, retain_columns=['customer_id'])"
   ]
  },
  {
   "cell_type": "code",
   "execution_count": 17,
   "id": "88931580-dc9b-4aee-adb4-2618f1dedd43",
   "metadata": {},
   "outputs": [],
   "source": [
    "norm.create_entity(source_entity_name=\"customer\", target_entity_name=\"contract_type\", columns=['Contract'],\n",
    "                   distinct_values=True, retain_columns=['customer_id'])"
   ]
  },
  {
   "cell_type": "code",
   "execution_count": 18,
   "id": "b1ad5edb-9498-4022-8cc4-6ee0a336f601",
   "metadata": {},
   "outputs": [],
   "source": [
    "norm.create_entity(source_entity_name=\"customer\", target_entity_name=\"payment_method_type\", columns=['PaymentMethod'],\n",
    "                   distinct_values=True, retain_columns=['customer_id'])"
   ]
  },
  {
   "cell_type": "code",
   "execution_count": 19,
   "id": "4b2535c8-b32c-4c83-a10f-764cb2322deb",
   "metadata": {},
   "outputs": [],
   "source": [
    "norm.remove_entity(\"original_table\")"
   ]
  },
  {
   "cell_type": "code",
   "execution_count": 20,
   "id": "e37bd646-b0bf-4e3b-9120-856d11653f08",
   "metadata": {},
   "outputs": [
    {
     "name": "stdout",
     "output_type": "stream",
     "text": [
      "{'customer': 'customer_id', 'demographics': 'demographics_id', 'service': 'service_id', 'contract_type': 'contract_type_id', 'payment_method_type': 'payment_method_type_id'}\n",
      "\n",
      "\n",
      "{'customer': {}, 'demographics': {'customer': ('demographics_id', 'demographics_id')}, 'service': {'customer': ('service_id', 'service_id')}, 'contract_type': {'customer': ('contract_type_id', 'contract_type_id')}, 'payment_method_type': {'customer': ('payment_method_type_id', 'payment_method_type_id')}}\n",
      "\n",
      "\n",
      "dict_keys(['customer', 'demographics', 'service', 'contract_type', 'payment_method_type'])\n"
     ]
    }
   ],
   "source": [
    "print(norm.primary_keys)\n",
    "print(\"\\n\")\n",
    "print(norm.relations)\n",
    "print(\"\\n\")\n",
    "print(norm.entity_set.keys())\n"
   ]
  },
  {
   "cell_type": "code",
   "execution_count": 21,
   "id": "e142890c-50e1-47e8-bf42-33e3ac859e59",
   "metadata": {},
   "outputs": [
    {
     "name": "stdout",
     "output_type": "stream",
     "text": [
      "ALTER TABLE customer ADD CONSTRAINT PK_customer PRIMARY KEY (customer_id);\n",
      "ALTER TABLE demographics ADD CONSTRAINT PK_demographics PRIMARY KEY (demographics_id);\n",
      "ALTER TABLE service ADD CONSTRAINT PK_service PRIMARY KEY (service_id);\n",
      "ALTER TABLE contract_type ADD CONSTRAINT PK_contract_type PRIMARY KEY (contract_type_id);\n",
      "ALTER TABLE payment_method_type ADD CONSTRAINT PK_payment_method_type PRIMARY KEY (payment_method_type_id);\n",
      "ALTER TABLE customer ADD CONSTRAINT FK_customer_demographics FOREIGN KEY (demographics_id) REFERENCES demographics(demographics_id));\n",
      "ALTER TABLE customer ADD CONSTRAINT FK_customer_service FOREIGN KEY (service_id) REFERENCES service(service_id));\n",
      "ALTER TABLE customer ADD CONSTRAINT FK_customer_contract_type FOREIGN KEY (contract_type_id) REFERENCES contract_type(contract_type_id));\n",
      "ALTER TABLE customer ADD CONSTRAINT FK_customer_payment_method_type FOREIGN KEY (payment_method_type_id) REFERENCES payment_method_type(payment_method_type_id));\n"
     ]
    }
   ],
   "source": [
    "for entity in norm.entity_set.keys():\n",
    "    print(\n",
    "        f\"ALTER TABLE {entity} ADD CONSTRAINT PK_{entity} PRIMARY KEY ({norm.primary_keys[entity]});\")\n",
    "\n",
    "for parent_table in norm.relations:\n",
    "    for child_table in norm.relations[parent_table]:\n",
    "        print(f\"ALTER TABLE {child_table} ADD CONSTRAINT FK_{child_table}_{parent_table} \"\n",
    "              f\"FOREIGN KEY ({norm.relations[parent_table][child_table][1]}) \"\n",
    "              f\"REFERENCES {parent_table}({norm.relations[parent_table][child_table][0]}));\")\n"
   ]
  },
  {
   "cell_type": "code",
   "execution_count": 22,
   "id": "9e5e7266-2195-47e4-9cb6-f882b14f382e",
   "metadata": {},
   "outputs": [
    {
     "name": "stdout",
     "output_type": "stream",
     "text": [
      "2023-10-03 17:06:07,795 INFO sqlalchemy.engine.Engine SELECT CAST(SERVERPROPERTY('ProductVersion') AS VARCHAR)\n",
      "2023-10-03 17:06:07,795 INFO sqlalchemy.engine.Engine [raw sql] ()\n",
      "2023-10-03 17:06:07,796 INFO sqlalchemy.engine.Engine SELECT schema_name()\n",
      "2023-10-03 17:06:07,796 INFO sqlalchemy.engine.Engine [generated in 0.00040s] ()\n",
      "2023-10-03 17:06:07,797 INFO sqlalchemy.engine.Engine SELECT CAST('test max support' AS NVARCHAR(max))\n",
      "2023-10-03 17:06:07,798 INFO sqlalchemy.engine.Engine [generated in 0.00041s] ()\n",
      "2023-10-03 17:06:07,799 INFO sqlalchemy.engine.Engine SELECT 1 FROM fn_listextendedproperty(default, default, default, default, default, default, default)\n",
      "2023-10-03 17:06:07,799 INFO sqlalchemy.engine.Engine [generated in 0.00030s] ()\n",
      "2023-10-03 17:06:07,800 INFO sqlalchemy.engine.Engine BEGIN (implicit)\n",
      "2023-10-03 17:06:07,800 INFO sqlalchemy.engine.Engine IF (SCHEMA_ID('telco_churn_exp1') IS NOT NULL) BEGIN DROP SCHEMA [telco_churn_exp1]; END \n",
      "2023-10-03 17:06:07,800 INFO sqlalchemy.engine.Engine [generated in 0.00058s] ()\n",
      "2023-10-03 17:06:07,805 INFO sqlalchemy.engine.Engine CREATE SCHEMA [telco_churn_exp1] AUTHORIZATION [dbo]\n",
      "2023-10-03 17:06:07,805 INFO sqlalchemy.engine.Engine [generated in 0.00047s] ()\n",
      "2023-10-03 17:06:07,813 INFO sqlalchemy.engine.Engine SELECT [INFORMATION_SCHEMA].[TABLES].[TABLE_NAME] \n",
      "FROM [INFORMATION_SCHEMA].[TABLES] \n",
      "WHERE ([INFORMATION_SCHEMA].[TABLES].[TABLE_TYPE] = CAST(? AS NVARCHAR(max)) OR [INFORMATION_SCHEMA].[TABLES].[TABLE_TYPE] = CAST(? AS NVARCHAR(max))) AND [INFORMATION_SCHEMA].[TABLES].[TABLE_NAME] = CAST(? AS NVARCHAR(max)) AND [INFORMATION_SCHEMA].[TABLES].[TABLE_SCHEMA] = CAST(? AS NVARCHAR(max))\n",
      "2023-10-03 17:06:07,814 INFO sqlalchemy.engine.Engine [generated in 0.00054s] ('BASE TABLE', 'VIEW', 'customer', 'telco_churn_exp1')\n",
      "2023-10-03 17:06:07,816 INFO sqlalchemy.engine.Engine \n",
      "CREATE TABLE telco_churn_exp1.customer (\n",
      "\ttenure BIGINT NULL, \n",
      "\t[PaperlessBilling] VARCHAR(max) NULL, \n",
      "\t[MonthlyCharges] FLOAT(53) NULL, \n",
      "\t[TotalCharges] VARCHAR(max) NULL, \n",
      "\t[Churn] VARCHAR(max) NULL, \n",
      "\tcustomer_id BIGINT NULL, \n",
      "\tdemographics_id BIGINT NULL, \n",
      "\tservice_id BIGINT NULL, \n",
      "\tcontract_type_id BIGINT NULL, \n",
      "\tpayment_method_type_id BIGINT NULL\n",
      ")\n",
      "\n",
      "\n",
      "2023-10-03 17:06:07,816 INFO sqlalchemy.engine.Engine [no key 0.00031s] ()\n",
      "2023-10-03 17:06:07,853 INFO sqlalchemy.engine.Engine INSERT INTO telco_churn_exp1.customer (tenure, [PaperlessBilling], [MonthlyCharges], [TotalCharges], [Churn], customer_id, demographics_id, service_id, contract_type_id, payment_method_type_id) VALUES (?, ?, ?, ?, ?, ?, ?, ?, ?, ?), (?, ?, ?, ?, ?, ? ... 6537 characters truncated ... , ?), (?, ?, ?, ?, ?, ?, ?, ?, ?, ?), (?, ?, ?, ?, ?, ?, ?, ?, ?, ?), (?, ?, ?, ?, ?, ?, ?, ?, ?, ?)\n",
      "2023-10-03 17:06:07,854 INFO sqlalchemy.engine.Engine [generated in 0.02358s (insertmanyvalues) 1/34 (unordered)] (1, 'Yes', 29.85, '29.85', 'No', 0, 0, 0, 0, 0, 34, 'No', 56.95, '1889.5', 'No', 1, 1, 1, 1, 1, 2, 'Yes', 53.85, '108.15', 'Yes', 2, 1, 2, 0, 1, 45, 'No', 42.3, '1840.75', 'No', 3, 1, 3, 1, 2, 2, 'Yes', 70.7, '151.65', 'Yes', 4, 2, 4, 0, 0 ... 1990 parameters truncated ... 44, 'No', 68.85, '2958.95', 'No', 204, 1, 4, 0, 3, 33, 'Yes', 79.95, '2684.85', 'No', 205, 2, 99, 1, 2, 72, 'Yes', 55.45, '4179.2', 'No', 206, 4, 100, 2, 3, 1, 'No', 79.9, '79.9', 'Yes', 207, 1, 88, 0, 0, 19, 'Yes', 106.6, '1934.45', 'Yes', 208, 2, 12, 0, 0)\n",
      "2023-10-03 17:06:07,928 INFO sqlalchemy.engine.Engine INSERT INTO telco_churn_exp1.customer (tenure, [PaperlessBilling], [MonthlyCharges], [TotalCharges], [Churn], customer_id, demographics_id, service_id, contract_type_id, payment_method_type_id) VALUES (?, ?, ?, ?, ?, ?, ?, ?, ?, ?), (?, ?, ?, ?, ?, ? ... 6537 characters truncated ... , ?), (?, ?, ?, ?, ?, ?, ?, ?, ?, ?), (?, ?, ?, ?, ?, ?, ?, ?, ?, ?), (?, ?, ?, ?, ?, ?, ?, ?, ?, ?)\n",
      "2023-10-03 17:06:07,929 INFO sqlalchemy.engine.Engine [insertmanyvalues 2/34 (unordered)] (64, 'Yes', 102.45, '6654.1', 'No', 209, 5, 56, 1, 3, 2, 'Yes', 46.0, '84.5', 'Yes', 210, 1, 26, 0, 3, 1, 'No', 25.25, '25.25', 'No', 211, 2, 67, 0, 0, 61, 'No', 19.75, '1124.2', 'No', 212, 3, 10, 2, 1, 29, 'No', 20.0, '540.05', 'No', 213, 6, 10, 1, 0 ... 1990 parameters truncated ... 51, 'Yes', 87.35, '4473', 'No', 413, 1, 158, 0, 0, 48, 'Yes', 70.65, '3545.05', 'No', 414, 9, 4, 0, 2, 16, 'No', 73.25, '1195.75', 'No', 415, 6, 116, 0, 2, 70, 'Yes', 98.7, '6858.9', 'No', 416, 5, 152, 2, 2, 40, 'Yes', 24.8, '1024.7', 'No', 417, 6, 44, 2, 1)\n",
      "2023-10-03 17:06:07,935 INFO sqlalchemy.engine.Engine INSERT INTO telco_churn_exp1.customer (tenure, [PaperlessBilling], [MonthlyCharges], [TotalCharges], [Churn], customer_id, demographics_id, service_id, contract_type_id, payment_method_type_id) VALUES (?, ?, ?, ?, ?, ?, ?, ?, ?, ?), (?, ?, ?, ?, ?, ? ... 6537 characters truncated ... , ?), (?, ?, ?, ?, ?, ?, ?, ?, ?, ?), (?, ?, ?, ?, ?, ?, ?, ?, ?, ?), (?, ?, ?, ?, ?, ?, ?, ?, ?, ?)\n",
      "2023-10-03 17:06:07,936 INFO sqlalchemy.engine.Engine [insertmanyvalues 3/34 (unordered)] (22, 'No', 83.3, '1845.9', 'Yes', 418, 6, 159, 0, 0, 1, 'Yes', 75.3, '75.3', 'Yes', 419, 11, 28, 0, 2, 5, 'Yes', 24.3, '132.25', 'No', 420, 6, 44, 0, 1, 7, 'Yes', 69.85, '515.45', 'No', 421, 2, 4, 0, 2, 29, 'No', 100.55, '2830.45', 'No', 422, 3, 152, 1, 3 ... 1990 parameters truncated ... 20, 'No', 19.7, '406.95', 'No', 622, 2, 10, 2, 1, 7, 'No', 20.0, '137.6', 'Yes', 623, 2, 10, 0, 2, 25, 'Yes', 95.15, '2395.7', 'No', 624, 0, 125, 0, 0, 23, 'No', 84.25, '1968.1', 'No', 625, 5, 146, 0, 0, 66, 'No', 104.6, '6819.45', 'No', 626, 9, 11, 1, 3)\n",
      "2023-10-03 17:06:07,942 INFO sqlalchemy.engine.Engine INSERT INTO telco_churn_exp1.customer (tenure, [PaperlessBilling], [MonthlyCharges], [TotalCharges], [Churn], customer_id, demographics_id, service_id, contract_type_id, payment_method_type_id) VALUES (?, ?, ?, ?, ?, ?, ?, ?, ?, ?), (?, ?, ?, ?, ?, ? ... 6537 characters truncated ... , ?), (?, ?, ?, ?, ?, ?, ?, ?, ?, ?), (?, ?, ?, ?, ?, ?, ?, ?, ?, ?), (?, ?, ?, ?, ?, ?, ?, ?, ?, ?)\n",
      "2023-10-03 17:06:07,943 INFO sqlalchemy.engine.Engine [insertmanyvalues 4/34 (unordered)] (72, 'No', 111.65, '7943.45', 'No', 627, 11, 43, 2, 0, 49, 'No', 90.05, '4547.25', 'Yes', 628, 10, 122, 0, 3, 43, 'Yes', 110.75, '4687.9', 'Yes', 629, 13, 43, 0, 2, 46, 'No', 55.0, '2473.95', 'No', 630, 0, 129, 0, 2, 72, 'No', 89.85, '6562.9', 'No', 631, 4, 21, 2, 3 ... 1990 parameters truncated ... 37, 'Yes', 88.8, '3340.55', 'No', 831, 6, 6, 0, 0, 4, 'Yes', 78.85, '292.8', 'Yes', 832, 11, 34, 0, 0, 60, 'Yes', 93.25, '5774.55', 'No', 833, 13, 189, 0, 0, 62, 'No', 71.4, '4487.3', 'No', 834, 4, 164, 1, 3, 1, 'No', 44.4, '44.4', 'Yes', 835, 1, 26, 0, 1)\n",
      "2023-10-03 17:06:07,950 INFO sqlalchemy.engine.Engine INSERT INTO telco_churn_exp1.customer (tenure, [PaperlessBilling], [MonthlyCharges], [TotalCharges], [Churn], customer_id, demographics_id, service_id, contract_type_id, payment_method_type_id) VALUES (?, ?, ?, ?, ?, ?, ?, ?, ?, ?), (?, ?, ?, ?, ?, ? ... 6537 characters truncated ... , ?), (?, ?, ?, ?, ?, ?, ?, ?, ?, ?), (?, ?, ?, ?, ?, ?, ?, ?, ?, ?), (?, ?, ?, ?, ?, ?, ?, ?, ?, ?)\n",
      "2023-10-03 17:06:07,950 INFO sqlalchemy.engine.Engine [insertmanyvalues 5/34 (unordered)] (36, 'Yes', 79.2, '2854.95', 'No', 836, 1, 104, 0, 3, 44, 'No', 20.4, '905.55', 'No', 837, 1, 10, 2, 3, 55, 'Yes', 100.0, '5509.3', 'Yes', 838, 11, 5, 1, 0, 72, 'Yes', 105.0, '7589.8', 'No', 839, 0, 14, 2, 3, 12, 'No', 19.8, '229.6', 'Yes', 840, 6, 10, 1, 2 ... 1990 parameters truncated ... 8, 'No', 54.25, '447.75', 'No', 1040, 2, 156, 1, 2, 43, 'Yes', 99.3, '4209.95', 'No', 1041, 6, 5, 0, 2, 52, 'No', 74.0, '3877.65', 'No', 1042, 2, 242, 1, 3, 3, 'Yes', 50.25, '152.3', 'No', 1043, 1, 49, 0, 1, 29, 'Yes', 19.8, '572.2', 'No', 1044, 1, 10, 1, 1)\n",
      "2023-10-03 17:06:07,958 INFO sqlalchemy.engine.Engine INSERT INTO telco_churn_exp1.customer (tenure, [PaperlessBilling], [MonthlyCharges], [TotalCharges], [Churn], customer_id, demographics_id, service_id, contract_type_id, payment_method_type_id) VALUES (?, ?, ?, ?, ?, ?, ?, ?, ?, ?), (?, ?, ?, ?, ?, ? ... 6537 characters truncated ... , ?), (?, ?, ?, ?, ?, ?, ?, ?, ?, ?), (?, ?, ?, ?, ?, ?, ?, ?, ?, ?), (?, ?, ?, ?, ?, ?, ?, ?, ?, ?)\n",
      "2023-10-03 17:06:07,958 INFO sqlalchemy.engine.Engine [insertmanyvalues 6/34 (unordered)] (1, 'No', 19.65, '19.65', 'Yes', 1045, 2, 10, 0, 1, 12, 'Yes', 43.65, '526.95', 'Yes', 1046, 7, 243, 0, 0, 16, 'Yes', 35.5, '552.7', 'No', 1047, 6, 80, 0, 3, 40, 'Yes', 80.75, '3208.65', 'No', 1048, 2, 244, 1, 1, 5, 'No', 39.5, '210.75', 'Yes', 1049, 2, 17, 0, 0 ... 1990 parameters truncated ... 55, 'No', 88.8, '4805.3', 'No', 1249, 9, 216, 2, 3, 2, 'Yes', 30.9, '59.05', 'Yes', 1250, 2, 95, 0, 0, 72, 'Yes', 85.9, '6110.75', 'No', 1251, 6, 61, 2, 3, 45, 'No', 34.2, '1596.6', 'No', 1252, 11, 80, 1, 0, 47, 'No', 20.15, '1046.2', 'No', 1253, 2, 10, 2, 1)\n",
      "2023-10-03 17:06:07,965 INFO sqlalchemy.engine.Engine INSERT INTO telco_churn_exp1.customer (tenure, [PaperlessBilling], [MonthlyCharges], [TotalCharges], [Churn], customer_id, demographics_id, service_id, contract_type_id, payment_method_type_id) VALUES (?, ?, ?, ?, ?, ?, ?, ?, ?, ?), (?, ?, ?, ?, ?, ? ... 6537 characters truncated ... , ?), (?, ?, ?, ?, ?, ?, ?, ?, ?, ?), (?, ?, ?, ?, ?, ?, ?, ?, ?, ?), (?, ?, ?, ?, ?, ?, ?, ?, ?, ?)\n",
      "2023-10-03 17:06:07,965 INFO sqlalchemy.engine.Engine [insertmanyvalues 7/34 (unordered)] (46, 'No', 95.25, '4424.2', 'Yes', 1254, 11, 111, 1, 3, 2, 'Yes', 50.3, '92.75', 'No', 1255, 1, 29, 0, 1, 2, 'Yes', 80.15, '194.55', 'No', 1256, 0, 259, 0, 0, 12, 'Yes', 51.25, '612.1', 'No', 1257, 0, 29, 0, 0, 68, 'Yes', 89.6, '6127.6', 'Yes', 1258, 9, 122, 0, 2 ... 1990 parameters truncated ... 1, 'No', 74.6, '74.6', 'No', 1458, 4, 116, 0, 3, 12, 'Yes', 49.2, '571.15', 'No', 1459, 4, 9, 0, 0, 23, 'Yes', 73.75, '1756.6', 'No', 1460, 2, 241, 1, 1, 62, 'Yes', 92.3, '5731.45', 'No', 1461, 1, 189, 1, 2, 37, 'No', 98.8, '3475.55', 'Yes', 1462, 1, 226, 0, 2)\n",
      "2023-10-03 17:06:07,972 INFO sqlalchemy.engine.Engine INSERT INTO telco_churn_exp1.customer (tenure, [PaperlessBilling], [MonthlyCharges], [TotalCharges], [Churn], customer_id, demographics_id, service_id, contract_type_id, payment_method_type_id) VALUES (?, ?, ?, ?, ?, ?, ?, ?, ?, ?), (?, ?, ?, ?, ?, ? ... 6537 characters truncated ... , ?), (?, ?, ?, ?, ?, ?, ?, ?, ?, ?), (?, ?, ?, ?, ?, ?, ?, ?, ?, ?), (?, ?, ?, ?, ?, ?, ?, ?, ?, ?)\n",
      "2023-10-03 17:06:07,972 INFO sqlalchemy.engine.Engine [insertmanyvalues 8/34 (unordered)] (8, 'No', 19.2, '156.85', 'No', 1463, 2, 10, 0, 1, 31, 'No', 88.65, '2683.2', 'No', 1464, 5, 179, 0, 3, 13, 'Yes', 74.4, '896.75', 'Yes', 1465, 4, 72, 0, 3, 24, 'Yes', 98.75, '2407.3', 'Yes', 1466, 2, 5, 0, 0, 45, 'Yes', 95.95, '4456.65', 'No', 1467, 4, 173, 0, 2 ... 1990 parameters truncated ... 29, 'Yes', 78.9, '2384.15', 'Yes', 1667, 2, 34, 0, 0, 4, 'Yes', 80.15, '319.85', 'No', 1668, 2, 62, 0, 0, 6, 'No', 25.4, '153.3', 'No', 1669, 4, 44, 2, 1, 67, 'Yes', 105.4, '7035.6', 'No', 1670, 9, 219, 1, 3, 7, 'Yes', 45.75, '344.2', 'No', 1671, 14, 26, 0, 1)\n",
      "2023-10-03 17:06:07,978 INFO sqlalchemy.engine.Engine INSERT INTO telco_churn_exp1.customer (tenure, [PaperlessBilling], [MonthlyCharges], [TotalCharges], [Churn], customer_id, demographics_id, service_id, contract_type_id, payment_method_type_id) VALUES (?, ?, ?, ?, ?, ?, ?, ?, ?, ?), (?, ?, ?, ?, ?, ? ... 6537 characters truncated ... , ?), (?, ?, ?, ?, ?, ?, ?, ?, ?, ?), (?, ?, ?, ?, ?, ?, ?, ?, ?, ?), (?, ?, ?, ?, ?, ?, ?, ?, ?, ?)\n",
      "2023-10-03 17:06:07,979 INFO sqlalchemy.engine.Engine [insertmanyvalues 9/34 (unordered)] (56, 'Yes', 24.45, '1431.65', 'No', 1672, 4, 44, 1, 1, 72, 'No', 25.0, '1849.2', 'No', 1673, 0, 44, 2, 3, 72, 'Yes', 85.25, '6083.1', 'No', 1674, 5, 191, 2, 0, 23, 'No', 19.6, '426.65', 'No', 1675, 4, 10, 2, 3, 35, 'No', 50.15, '1655.35', 'No', 1676, 8, 160, 0, 1 ... 1990 parameters truncated ... 24, 'Yes', 70.3, '1706.45', 'No', 1876, 4, 271, 0, 3, 67, 'Yes', 60.4, '3953.7', 'No', 1877, 4, 70, 2, 2, 16, 'No', 72.65, '1194.3', 'Yes', 1878, 2, 72, 0, 0, 23, 'No', 55.8, '1327.85', 'No', 1879, 2, 114, 1, 2, 14, 'Yes', 31.1, '419.7', 'No', 1880, 1, 0, 0, 1)\n",
      "2023-10-03 17:06:07,985 INFO sqlalchemy.engine.Engine INSERT INTO telco_churn_exp1.customer (tenure, [PaperlessBilling], [MonthlyCharges], [TotalCharges], [Churn], customer_id, demographics_id, service_id, contract_type_id, payment_method_type_id) VALUES (?, ?, ?, ?, ?, ?, ?, ?, ?, ?), (?, ?, ?, ?, ?, ? ... 6537 characters truncated ... , ?), (?, ?, ?, ?, ?, ?, ?, ?, ?, ?), (?, ?, ?, ?, ?, ?, ?, ?, ?, ?), (?, ?, ?, ?, ?, ?, ?, ?, ?, ?)\n",
      "2023-10-03 17:06:07,986 INFO sqlalchemy.engine.Engine [insertmanyvalues 10/34 (unordered)] (1, 'Yes', 21.0, '21', 'Yes', 1881, 6, 10, 0, 0, 1, 'No', 45.1, '45.1', 'Yes', 1882, 11, 26, 0, 1, 4, 'Yes', 50.95, '207.35', 'No', 1883, 7, 205, 0, 3, 16, 'Yes', 69.1, '1083.7', 'No', 1884, 3, 203, 0, 0, 46, 'Yes', 43.95, '2007.85', 'No', 1885, 0, 145, 0, 0 ... 1990 parameters truncated ... 1, 'Yes', 79.95, '79.95', 'Yes', 2085, 1, 34, 0, 0, 1, 'No', 19.3, '19.3', 'Yes', 2086, 2, 10, 0, 0, 9, 'Yes', 94.05, '811.65', 'No', 2087, 1, 24, 0, 0, 2, 'No', 90.75, '174.75', 'No', 2088, 1, 297, 0, 1, 40, 'Yes', 78.85, '3126.85', 'No', 2089, 0, 174, 0, 3)\n",
      "2023-10-03 17:06:07,992 INFO sqlalchemy.engine.Engine INSERT INTO telco_churn_exp1.customer (tenure, [PaperlessBilling], [MonthlyCharges], [TotalCharges], [Churn], customer_id, demographics_id, service_id, contract_type_id, payment_method_type_id) VALUES (?, ?, ?, ?, ?, ?, ?, ?, ?, ?), (?, ?, ?, ?, ?, ? ... 6537 characters truncated ... , ?), (?, ?, ?, ?, ?, ?, ?, ?, ?, ?), (?, ?, ?, ?, ?, ?, ?, ?, ?, ?), (?, ?, ?, ?, ?, ?, ?, ?, ?, ?)\n",
      "2023-10-03 17:06:07,993 INFO sqlalchemy.engine.Engine [insertmanyvalues 11/34 (unordered)] (69, 'No', 99.5, '6841.45', 'No', 2090, 5, 5, 1, 2, 37, 'Yes', 99.2, '3754.6', 'Yes', 2091, 0, 247, 1, 0, 18, 'Yes', 80.55, '1406.65', 'No', 2092, 3, 77, 0, 3, 11, 'Yes', 70.2, '834.7', 'No', 2093, 10, 4, 0, 0, 8, 'Yes', 85.2, '627.4', 'Yes', 2094, 0, 33, 0, 3 ... 1990 parameters truncated ... 67, 'Yes', 100.9, '6733.15', 'No', 2294, 5, 37, 1, 3, 34, 'Yes', 97.7, '3410', 'No', 2295, 4, 20, 0, 2, 3, 'Yes', 69.85, '199.85', 'No', 2296, 2, 4, 0, 0, 9, 'Yes', 65.6, '593.3', 'No', 2297, 6, 227, 1, 1, 71, 'Yes', 104.65, '7288.4', 'No', 2298, 4, 236, 1, 2)\n",
      "2023-10-03 17:06:07,999 INFO sqlalchemy.engine.Engine INSERT INTO telco_churn_exp1.customer (tenure, [PaperlessBilling], [MonthlyCharges], [TotalCharges], [Churn], customer_id, demographics_id, service_id, contract_type_id, payment_method_type_id) VALUES (?, ?, ?, ?, ?, ?, ?, ?, ?, ?), (?, ?, ?, ?, ?, ? ... 6537 characters truncated ... , ?), (?, ?, ?, ?, ?, ?, ?, ?, ?, ?), (?, ?, ?, ?, ?, ?, ?, ?, ?, ?), (?, ?, ?, ?, ?, ?, ?, ?, ?, ?)\n",
      "2023-10-03 17:06:07,999 INFO sqlalchemy.engine.Engine [insertmanyvalues 12/34 (unordered)] (57, 'Yes', 90.45, '5229.8', 'No', 2299, 1, 139, 2, 3, 72, 'Yes', 63.7, '4464.8', 'No', 2300, 1, 154, 2, 2, 48, 'Yes', 104.5, '5068.05', 'No', 2301, 12, 12, 0, 0, 18, 'No', 20.1, '401.85', 'No', 2302, 1, 10, 1, 1, 43, 'Yes', 104.3, '4451.85', 'No', 2303, 4, 8, 1, 3 ... 1990 parameters truncated ... 52, 'No', 19.2, '1054.75', 'No', 2503, 4, 10, 2, 1, 25, 'Yes', 89.7, '2187.55', 'Yes', 2504, 11, 122, 0, 0, 64, 'Yes', 115.1, '7334.05', 'No', 2505, 2, 13, 2, 2, 16, 'Yes', 96.4, '1581.2', 'Yes', 2506, 11, 41, 0, 0, 1, 'Yes', 69.5, '69.5', 'Yes', 2507, 7, 4, 0, 2)\n",
      "2023-10-03 17:06:08,006 INFO sqlalchemy.engine.Engine INSERT INTO telco_churn_exp1.customer (tenure, [PaperlessBilling], [MonthlyCharges], [TotalCharges], [Churn], customer_id, demographics_id, service_id, contract_type_id, payment_method_type_id) VALUES (?, ?, ?, ?, ?, ?, ?, ?, ?, ?), (?, ?, ?, ?, ?, ? ... 6537 characters truncated ... , ?), (?, ?, ?, ?, ?, ?, ?, ?, ?, ?), (?, ?, ?, ?, ?, ?, ?, ?, ?, ?), (?, ?, ?, ?, ?, ?, ?, ?, ?, ?)\n",
      "2023-10-03 17:06:08,006 INFO sqlalchemy.engine.Engine [insertmanyvalues 13/34 (unordered)] (24, 'Yes', 99.65, '2404.85', 'No', 2508, 1, 20, 0, 2, 2, 'Yes', 91.45, '171.45', 'No', 2509, 5, 179, 0, 0, 34, 'No', 84.75, '2839.45', 'No', 2510, 6, 87, 2, 1, 36, 'Yes', 85.25, '3132.75', 'Yes', 2511, 10, 33, 0, 3, 53, 'Yes', 78.75, '3942.45', 'No', 2512, 4, 244, 1, 1 ... 1990 parameters truncated ... 21, 'No', 20.5, '402.85', 'No', 2712, 1, 10, 0, 3, 62, 'No', 19.95, '1244.8', 'No', 2713, 4, 10, 1, 2, 2, 'No', 24.5, '46.4', 'No', 2714, 2, 67, 0, 0, 27, 'No', 20.6, '581.85', 'No', 2715, 3, 10, 2, 1, 5, 'Yes', 94.85, '462.8', 'Yes', 2716, 1, 41, 0, 2)\n",
      "2023-10-03 17:06:08,012 INFO sqlalchemy.engine.Engine INSERT INTO telco_churn_exp1.customer (tenure, [PaperlessBilling], [MonthlyCharges], [TotalCharges], [Churn], customer_id, demographics_id, service_id, contract_type_id, payment_method_type_id) VALUES (?, ?, ?, ?, ?, ?, ?, ?, ?, ?), (?, ?, ?, ?, ?, ? ... 6537 characters truncated ... , ?), (?, ?, ?, ?, ?, ?, ?, ?, ?, ?), (?, ?, ?, ?, ?, ?, ?, ?, ?, ?), (?, ?, ?, ?, ?, ?, ?, ?, ?, ?)\n",
      "2023-10-03 17:06:08,013 INFO sqlalchemy.engine.Engine [insertmanyvalues 14/34 (unordered)] (25, 'No', 61.05, '1540.2', 'No', 2717, 2, 79, 1, 0, 2, 'Yes', 85.7, '169.8', 'Yes', 2718, 2, 33, 0, 0, 49, 'Yes', 106.65, '5168.1', 'No', 2719, 1, 126, 1, 2, 63, 'No', 108.25, '6780.1', 'No', 2720, 2, 52, 0, 3, 4, 'No', 20.4, '94.5', 'No', 2721, 8, 10, 0, 3 ... 1990 parameters truncated ... 68, 'Yes', 24.0, '1664.3', 'No', 2921, 4, 44, 2, 2, 12, 'No', 19.4, '198.1', 'No', 2922, 6, 10, 0, 2, 71, 'Yes', 86.1, '6045.9', 'No', 2923, 5, 87, 2, 2, 40, 'Yes', 102.65, '4108.15', 'No', 2924, 1, 11, 0, 1, 64, 'Yes', 92.85, '5980.75', 'No', 2925, 6, 173, 1, 0)\n",
      "2023-10-03 17:06:08,020 INFO sqlalchemy.engine.Engine INSERT INTO telco_churn_exp1.customer (tenure, [PaperlessBilling], [MonthlyCharges], [TotalCharges], [Churn], customer_id, demographics_id, service_id, contract_type_id, payment_method_type_id) VALUES (?, ?, ?, ?, ?, ?, ?, ?, ?, ?), (?, ?, ?, ?, ?, ? ... 6537 characters truncated ... , ?), (?, ?, ?, ?, ?, ?, ?, ?, ?, ?), (?, ?, ?, ?, ?, ?, ?, ?, ?, ?), (?, ?, ?, ?, ?, ?, ?, ?, ?, ?)\n",
      "2023-10-03 17:06:08,020 INFO sqlalchemy.engine.Engine [insertmanyvalues 15/34 (unordered)] (53, 'No', 97.75, '5043.2', 'No', 2926, 5, 246, 1, 2, 12, 'Yes', 83.8, '1029.75', 'Yes', 2927, 7, 131, 0, 1, 53, 'Yes', 54.45, '2854.55', 'Yes', 2928, 7, 280, 0, 0, 72, 'Yes', 97.95, '7114.25', 'No', 2929, 5, 182, 2, 3, 46, 'No', 19.95, '907.05', 'No', 2930, 1, 10, 2, 0 ... 1990 parameters truncated ... 1, 'No', 19.8, '19.8', 'Yes', 3130, 1, 10, 0, 1, 13, 'Yes', 72.8, '930.05', 'No', 3131, 4, 252, 0, 0, 6, 'No', 18.95, '110.15', 'No', 3132, 1, 10, 0, 1, 4, 'Yes', 76.65, '333.6', 'Yes', 3133, 2, 116, 0, 2, 5, 'Yes', 99.15, '465.05', 'Yes', 3134, 6, 148, 0, 1)\n",
      "2023-10-03 17:06:08,027 INFO sqlalchemy.engine.Engine INSERT INTO telco_churn_exp1.customer (tenure, [PaperlessBilling], [MonthlyCharges], [TotalCharges], [Churn], customer_id, demographics_id, service_id, contract_type_id, payment_method_type_id) VALUES (?, ?, ?, ?, ?, ?, ?, ?, ?, ?), (?, ?, ?, ?, ?, ? ... 6537 characters truncated ... , ?), (?, ?, ?, ?, ?, ?, ?, ?, ?, ?), (?, ?, ?, ?, ?, ?, ?, ?, ?, ?), (?, ?, ?, ?, ?, ?, ?, ?, ?, ?)\n",
      "2023-10-03 17:06:08,027 INFO sqlalchemy.engine.Engine [insertmanyvalues 16/34 (unordered)] (15, 'No', 101.75, '1669.4', 'No', 3135, 0, 267, 0, 0, 47, 'No', 75.45, '3545.1', 'No', 3136, 2, 81, 0, 3, 8, 'No', 64.1, '504.05', 'No', 3137, 2, 188, 0, 1, 17, 'Yes', 25.65, '440.2', 'No', 3138, 1, 67, 0, 1, 15, 'No', 75.1, '1151.55', 'No', 3139, 4, 81, 0, 1 ... 1990 parameters truncated ... 12, 'Yes', 85.05, '999.8', 'No', 3339, 5, 159, 0, 3, 54, 'No', 44.1, '2369.7', 'No', 3340, 2, 265, 1, 2, 68, 'No', 90.2, '6297.65', 'No', 3341, 0, 158, 2, 3, 4, 'No', 50.85, '239.55', 'Yes', 3342, 6, 160, 0, 1, 1, 'No', 59.2, '59.2', 'Yes', 3343, 8, 240, 0, 0)\n",
      "2023-10-03 17:06:08,034 INFO sqlalchemy.engine.Engine INSERT INTO telco_churn_exp1.customer (tenure, [PaperlessBilling], [MonthlyCharges], [TotalCharges], [Churn], customer_id, demographics_id, service_id, contract_type_id, payment_method_type_id) VALUES (?, ?, ?, ?, ?, ?, ?, ?, ?, ?), (?, ?, ?, ?, ?, ? ... 6537 characters truncated ... , ?), (?, ?, ?, ?, ?, ?, ?, ?, ?, ?), (?, ?, ?, ?, ?, ?, ?, ?, ?, ?), (?, ?, ?, ?, ?, ?, ?, ?, ?, ?)\n",
      "2023-10-03 17:06:08,034 INFO sqlalchemy.engine.Engine [insertmanyvalues 17/34 (unordered)] (27, 'No', 53.45, '1461.45', 'No', 3344, 1, 156, 0, 1, 21, 'Yes', 19.95, '416.4', 'No', 3345, 1, 10, 0, 1, 13, 'Yes', 83.2, '1060.6', 'Yes', 3346, 1, 197, 0, 0, 64, 'No', 74.65, '4869.35', 'No', 3347, 11, 91, 0, 3, 1, 'Yes', 54.9, '54.9', 'Yes', 3348, 2, 2, 0, 0 ... 1990 parameters truncated ... 5, 'Yes', 89.8, '502.6', 'Yes', 3548, 7, 122, 0, 0, 30, 'Yes', 90.5, '2595.85', 'No', 3549, 7, 297, 0, 3, 63, 'No', 90.45, '5825.5', 'No', 3550, 1, 122, 1, 3, 1, 'Yes', 50.75, '50.75', 'Yes', 3551, 1, 29, 0, 0, 53, 'Yes', 84.6, '4449.75', 'No', 3552, 8, 103, 1, 0)\n",
      "2023-10-03 17:06:08,040 INFO sqlalchemy.engine.Engine INSERT INTO telco_churn_exp1.customer (tenure, [PaperlessBilling], [MonthlyCharges], [TotalCharges], [Churn], customer_id, demographics_id, service_id, contract_type_id, payment_method_type_id) VALUES (?, ?, ?, ?, ?, ?, ?, ?, ?, ?), (?, ?, ?, ?, ?, ? ... 6537 characters truncated ... , ?), (?, ?, ?, ?, ?, ?, ?, ?, ?, ?), (?, ?, ?, ?, ?, ?, ?, ?, ?, ?), (?, ?, ?, ?, ?, ?, ?, ?, ?, ?)\n",
      "2023-10-03 17:06:08,041 INFO sqlalchemy.engine.Engine [insertmanyvalues 18/34 (unordered)] (14, 'Yes', 89.65, '1208.35', 'Yes', 3553, 6, 281, 0, 3, 21, 'Yes', 99.15, '1956.4', 'No', 3554, 2, 148, 0, 2, 17, 'No', 19.95, '310.6', 'No', 3555, 1, 10, 1, 1, 16, 'No', 20.5, '290.55', 'No', 3556, 4, 10, 2, 1, 35, 'Yes', 62.1, '2096.1', 'No', 3557, 2, 240, 0, 0 ... 1990 parameters truncated ... 1, 'Yes', 95.0, '95', 'Yes', 3757, 5, 235, 0, 0, 1, 'No', 25.2, '25.2', 'Yes', 3758, 2, 67, 0, 1, 52, 'Yes', 80.85, '4079.55', 'No', 3759, 13, 210, 1, 0, 41, 'Yes', 98.4, '4187.75', 'Yes', 3760, 7, 5, 0, 0, 43, 'Yes', 56.35, '2391.15', 'No', 3761, 5, 105, 1, 1)\n",
      "2023-10-03 17:06:08,047 INFO sqlalchemy.engine.Engine INSERT INTO telco_churn_exp1.customer (tenure, [PaperlessBilling], [MonthlyCharges], [TotalCharges], [Churn], customer_id, demographics_id, service_id, contract_type_id, payment_method_type_id) VALUES (?, ?, ?, ?, ?, ?, ?, ?, ?, ?), (?, ?, ?, ?, ?, ? ... 6537 characters truncated ... , ?), (?, ?, ?, ?, ?, ?, ?, ?, ?, ?), (?, ?, ?, ?, ?, ?, ?, ?, ?, ?), (?, ?, ?, ?, ?, ?, ?, ?, ?, ?)\n",
      "2023-10-03 17:06:08,048 INFO sqlalchemy.engine.Engine [insertmanyvalues 19/34 (unordered)] (47, 'No', 19.3, '890.5', 'No', 3762, 6, 10, 2, 2, 3, 'No', 50.4, '137.25', 'No', 3763, 1, 160, 0, 2, 66, 'No', 79.4, '5154.6', 'Yes', 3764, 13, 31, 2, 3, 55, 'Yes', 55.25, '3119.9', 'No', 3765, 4, 15, 2, 3, 29, 'No', 19.1, '529.5', 'No', 3766, 1, 10, 1, 1 ... 1990 parameters truncated ... 71, 'No', 24.35, '1654.6', 'No', 3966, 3, 44, 2, 1, 1, 'Yes', 24.25, '24.25', 'Yes', 3967, 1, 67, 0, 0, 72, 'No', 25.1, '1857.85', 'No', 3968, 6, 44, 2, 2, 16, 'Yes', 54.55, '825.1', 'No', 3969, 10, 2, 0, 2, 66, 'No', 96.6, '6424.25', 'No', 3970, 5, 23, 2, 1)\n",
      "2023-10-03 17:06:08,054 INFO sqlalchemy.engine.Engine INSERT INTO telco_churn_exp1.customer (tenure, [PaperlessBilling], [MonthlyCharges], [TotalCharges], [Churn], customer_id, demographics_id, service_id, contract_type_id, payment_method_type_id) VALUES (?, ?, ?, ?, ?, ?, ?, ?, ?, ?), (?, ?, ?, ?, ?, ? ... 6537 characters truncated ... , ?), (?, ?, ?, ?, ?, ?, ?, ?, ?, ?), (?, ?, ?, ?, ?, ?, ?, ?, ?, ?), (?, ?, ?, ?, ?, ?, ?, ?, ?, ?)\n",
      "2023-10-03 17:06:08,055 INFO sqlalchemy.engine.Engine [insertmanyvalues 20/34 (unordered)] (11, 'Yes', 76.5, '837.95', 'Yes', 3971, 2, 72, 0, 0, 51, 'Yes', 81.15, '4126.2', 'No', 3972, 1, 31, 1, 3, 8, 'Yes', 38.5, '330.8', 'No', 3973, 8, 303, 0, 0, 14, 'Yes', 92.9, '1337.45', 'No', 3974, 1, 132, 0, 0, 4, 'Yes', 93.5, '362.2', 'Yes', 3975, 2, 246, 0, 0 ... 1990 parameters truncated ... 23, 'No', 20.15, '405.6', 'No', 4175, 1, 10, 1, 2, 10, 'No', 19.75, '208.25', 'No', 4176, 1, 10, 0, 3, 71, 'Yes', 25.95, '1801.9', 'No', 4177, 0, 44, 2, 3, 45, 'Yes', 70.05, '3062.45', 'No', 4178, 11, 82, 0, 0, 70, 'No', 24.05, '1764.75', 'No', 4179, 6, 44, 2, 1)\n",
      "2023-10-03 17:06:08,061 INFO sqlalchemy.engine.Engine INSERT INTO telco_churn_exp1.customer (tenure, [PaperlessBilling], [MonthlyCharges], [TotalCharges], [Churn], customer_id, demographics_id, service_id, contract_type_id, payment_method_type_id) VALUES (?, ?, ?, ?, ?, ?, ?, ?, ?, ?), (?, ?, ?, ?, ?, ? ... 6537 characters truncated ... , ?), (?, ?, ?, ?, ?, ?, ?, ?, ?, ?), (?, ?, ?, ?, ?, ?, ?, ?, ?, ?), (?, ?, ?, ?, ?, ?, ?, ?, ?, ?)\n",
      "2023-10-03 17:06:08,062 INFO sqlalchemy.engine.Engine [insertmanyvalues 21/34 (unordered)] (22, 'Yes', 84.75, '1816.75', 'No', 4180, 8, 33, 0, 0, 52, 'No', 23.05, '1255.1', 'No', 4181, 6, 44, 2, 1, 55, 'Yes', 104.15, '5743.05', 'Yes', 4182, 5, 8, 1, 0, 65, 'No', 59.95, '3921.1', 'No', 4183, 2, 222, 2, 3, 72, 'No', 19.55, '1463.45', 'No', 4184, 6, 10, 2, 2 ... 1990 parameters truncated ... 39, 'Yes', 48.95, '1880.85', 'Yes', 4384, 1, 261, 0, 3, 32, 'No', 62.45, '2045.55', 'No', 4385, 6, 316, 0, 2, 24, 'Yes', 89.55, '2187.15', 'No', 4386, 1, 16, 0, 0, 6, 'Yes', 83.55, '477.55', 'Yes', 4387, 4, 159, 0, 3, 37, 'Yes', 78.9, '2976.95', 'No', 4388, 2, 31, 0, 3)\n",
      "2023-10-03 17:06:08,068 INFO sqlalchemy.engine.Engine INSERT INTO telco_churn_exp1.customer (tenure, [PaperlessBilling], [MonthlyCharges], [TotalCharges], [Churn], customer_id, demographics_id, service_id, contract_type_id, payment_method_type_id) VALUES (?, ?, ?, ?, ?, ?, ?, ?, ?, ?), (?, ?, ?, ?, ?, ? ... 6537 characters truncated ... , ?), (?, ?, ?, ?, ?, ?, ?, ?, ?, ?), (?, ?, ?, ?, ?, ?, ?, ?, ?, ?), (?, ?, ?, ?, ?, ?, ?, ?, ?, ?)\n",
      "2023-10-03 17:06:08,069 INFO sqlalchemy.engine.Engine [insertmanyvalues 22/34 (unordered)] (8, 'No', 20.35, '178.7', 'No', 4389, 3, 10, 0, 1, 72, 'Yes', 71.45, '5025.85', 'No', 4390, 6, 268, 2, 2, 71, 'No', 46.35, '3353.4', 'No', 4391, 10, 101, 2, 3, 16, 'Yes', 94.65, '1461.15', 'No', 4392, 0, 111, 0, 2, 57, 'Yes', 49.9, '2782.4', 'No', 4393, 0, 302, 0, 2 ... 1990 parameters truncated ... 65, 'No', 45.25, '2933.95', 'No', 4593, 8, 319, 2, 1, 54, 'Yes', 79.5, '4370.25', 'Yes', 4594, 11, 39, 0, 0, 7, 'No', 20.25, '144.35', 'No', 4595, 4, 10, 0, 1, 72, 'No', 64.75, '4804.75', 'No', 4596, 0, 63, 2, 2, 21, 'No', 54.6, '1125.2', 'No', 4597, 5, 105, 0, 2)\n",
      "2023-10-03 17:06:08,075 INFO sqlalchemy.engine.Engine INSERT INTO telco_churn_exp1.customer (tenure, [PaperlessBilling], [MonthlyCharges], [TotalCharges], [Churn], customer_id, demographics_id, service_id, contract_type_id, payment_method_type_id) VALUES (?, ?, ?, ?, ?, ?, ?, ?, ?, ?), (?, ?, ?, ?, ?, ? ... 6537 characters truncated ... , ?), (?, ?, ?, ?, ?, ?, ?, ?, ?, ?), (?, ?, ?, ?, ?, ?, ?, ?, ?, ?), (?, ?, ?, ?, ?, ?, ?, ?, ?, ?)\n",
      "2023-10-03 17:06:08,076 INFO sqlalchemy.engine.Engine [insertmanyvalues 23/34 (unordered)] (2, 'Yes', 20.7, '39.85', 'No', 4598, 2, 10, 0, 2, 4, 'Yes', 94.75, '422.4', 'No', 4599, 7, 24, 0, 0, 3, 'Yes', 79.65, '251.75', 'Yes', 4600, 5, 174, 0, 2, 72, 'No', 115.8, '8332.15', 'No', 4601, 5, 13, 2, 3, 6, 'Yes', 49.45, '314.6', 'No', 4602, 2, 9, 0, 0 ... 1990 parameters truncated ... 56, 'Yes', 54.05, '2959.8', 'No', 4802, 5, 128, 1, 2, 72, 'Yes', 104.9, '7559.55', 'No', 4803, 4, 12, 2, 3, 1, 'Yes', 53.95, '53.95', 'Yes', 4804, 1, 156, 0, 0, 72, 'Yes', 97.25, '7133.1', 'No', 4805, 10, 20, 1, 3, 22, 'No', 83.05, '1799.3', 'No', 4806, 1, 33, 0, 0)\n",
      "2023-10-03 17:06:08,082 INFO sqlalchemy.engine.Engine INSERT INTO telco_churn_exp1.customer (tenure, [PaperlessBilling], [MonthlyCharges], [TotalCharges], [Churn], customer_id, demographics_id, service_id, contract_type_id, payment_method_type_id) VALUES (?, ?, ?, ?, ?, ?, ?, ?, ?, ?), (?, ?, ?, ?, ?, ? ... 6537 characters truncated ... , ?), (?, ?, ?, ?, ?, ?, ?, ?, ?, ?), (?, ?, ?, ?, ?, ?, ?, ?, ?, ?), (?, ?, ?, ?, ?, ?, ?, ?, ?, ?)\n",
      "2023-10-03 17:06:08,082 INFO sqlalchemy.engine.Engine [insertmanyvalues 24/34 (unordered)] (8, 'Yes', 105.5, '829.55', 'Yes', 4807, 11, 11, 0, 0, 16, 'Yes', 81.0, '1312.15', 'Yes', 4808, 8, 34, 0, 0, 39, 'No', 41.1, '1597.05', 'No', 4809, 2, 187, 0, 2, 12, 'Yes', 45.0, '524.35', 'No', 4810, 2, 26, 0, 2, 54, 'Yes', 74.55, '4191.45', 'No', 4811, 5, 54, 2, 2 ... 1990 parameters truncated ... 6, 'No', 94.5, '575.45', 'Yes', 5011, 3, 24, 0, 1, 9, 'Yes', 101.5, '906.85', 'No', 5012, 4, 148, 0, 0, 12, 'Yes', 89.15, '1057.55', 'No', 5013, 2, 122, 0, 0, 1, 'Yes', 19.4, '19.4', 'No', 5014, 2, 10, 0, 1, 48, 'No', 29.9, '1388.75', 'No', 5015, 12, 0, 1, 2)\n",
      "2023-10-03 17:06:08,088 INFO sqlalchemy.engine.Engine INSERT INTO telco_churn_exp1.customer (tenure, [PaperlessBilling], [MonthlyCharges], [TotalCharges], [Churn], customer_id, demographics_id, service_id, contract_type_id, payment_method_type_id) VALUES (?, ?, ?, ?, ?, ?, ?, ?, ?, ?), (?, ?, ?, ?, ?, ? ... 6537 characters truncated ... , ?), (?, ?, ?, ?, ?, ?, ?, ?, ?, ?), (?, ?, ?, ?, ?, ?, ?, ?, ?, ?), (?, ?, ?, ?, ?, ?, ?, ?, ?, ?)\n",
      "2023-10-03 17:06:08,089 INFO sqlalchemy.engine.Engine [insertmanyvalues 25/34 (unordered)] (20, 'No', 78.8, '1641.3', 'No', 5016, 1, 34, 0, 0, 16, 'Yes', 85.35, '1375.15', 'Yes', 5017, 9, 33, 0, 3, 2, 'Yes', 79.65, '152.7', 'Yes', 5018, 2, 34, 0, 1, 10, 'Yes', 19.3, '185.2', 'No', 5019, 2, 10, 1, 1, 2, 'Yes', 79.6, '195.05', 'Yes', 5020, 11, 88, 0, 0 ... 1990 parameters truncated ... 65, 'Yes', 105.85, '6725.5', 'No', 5220, 9, 56, 2, 3, 55, 'Yes', 64.2, '3627.3', 'No', 5221, 1, 225, 1, 0, 20, 'Yes', 88.7, '1761.45', 'Yes', 5222, 1, 179, 0, 0, 19, 'Yes', 87.7, '1725.95', 'No', 5223, 1, 312, 1, 3, 45, 'Yes', 89.3, '4192.15', 'No', 5224, 2, 155, 0, 3)\n",
      "2023-10-03 17:06:08,095 INFO sqlalchemy.engine.Engine INSERT INTO telco_churn_exp1.customer (tenure, [PaperlessBilling], [MonthlyCharges], [TotalCharges], [Churn], customer_id, demographics_id, service_id, contract_type_id, payment_method_type_id) VALUES (?, ?, ?, ?, ?, ?, ?, ?, ?, ?), (?, ?, ?, ?, ?, ? ... 6537 characters truncated ... , ?), (?, ?, ?, ?, ?, ?, ?, ?, ?, ?), (?, ?, ?, ?, ?, ?, ?, ?, ?, ?), (?, ?, ?, ?, ?, ?, ?, ?, ?, ?)\n",
      "2023-10-03 17:06:08,095 INFO sqlalchemy.engine.Engine [insertmanyvalues 26/34 (unordered)] (70, 'Yes', 20.15, '1411.2', 'No', 5225, 6, 10, 2, 3, 2, 'Yes', 79.75, '164.5', 'Yes', 5226, 2, 34, 0, 0, 27, 'Yes', 94.55, '2724.6', 'Yes', 5227, 2, 41, 0, 1, 12, 'Yes', 20.05, '264.55', 'No', 5228, 0, 10, 2, 0, 72, 'No', 67.2, '4671.7', 'No', 5229, 3, 154, 2, 3 ... 1990 parameters truncated ... 67, 'No', 103.15, '6895.5', 'No', 5429, 4, 56, 2, 2, 1, 'Yes', 84.65, '84.65', 'Yes', 5430, 1, 89, 0, 1, 71, 'No', 95.65, '6856.95', 'No', 5431, 0, 69, 1, 1, 37, 'No', 75.1, '2658.8', 'No', 5432, 6, 54, 1, 2, 60, 'Yes', 61.35, '3766.2', 'No', 5433, 5, 19, 2, 1)\n",
      "2023-10-03 17:06:08,102 INFO sqlalchemy.engine.Engine INSERT INTO telco_churn_exp1.customer (tenure, [PaperlessBilling], [MonthlyCharges], [TotalCharges], [Churn], customer_id, demographics_id, service_id, contract_type_id, payment_method_type_id) VALUES (?, ?, ?, ?, ?, ?, ?, ?, ?, ?), (?, ?, ?, ?, ?, ? ... 6537 characters truncated ... , ?), (?, ?, ?, ?, ?, ?, ?, ?, ?, ?), (?, ?, ?, ?, ?, ?, ?, ?, ?, ?), (?, ?, ?, ?, ?, ?, ?, ?, ?, ?)\n",
      "2023-10-03 17:06:08,102 INFO sqlalchemy.engine.Engine [insertmanyvalues 27/34 (unordered)] (1, 'Yes', 69.55, '69.55', 'Yes', 5434, 9, 4, 0, 0, 6, 'No', 19.7, '129.55', 'No', 5435, 2, 10, 0, 3, 13, 'Yes', 31.05, '347.25', 'Yes', 5436, 2, 0, 0, 0, 11, 'No', 51.0, '581.7', 'No', 5437, 6, 9, 0, 2, 7, 'Yes', 51.0, '354.05', 'Yes', 5438, 1, 9, 0, 1 ... 1990 parameters truncated ... 63, 'Yes', 71.9, '4479.2', 'No', 5638, 1, 238, 2, 2, 44, 'Yes', 77.55, '3471.1', 'No', 5639, 8, 317, 1, 1, 4, 'Yes', 19.85, '63', 'No', 5640, 1, 10, 0, 0, 1, 'Yes', 70.25, '70.25', 'Yes', 5641, 2, 4, 0, 0, 37, 'Yes', 95.25, '3314.15', 'No', 5642, 6, 41, 0, 0)\n",
      "2023-10-03 17:06:08,108 INFO sqlalchemy.engine.Engine INSERT INTO telco_churn_exp1.customer (tenure, [PaperlessBilling], [MonthlyCharges], [TotalCharges], [Churn], customer_id, demographics_id, service_id, contract_type_id, payment_method_type_id) VALUES (?, ?, ?, ?, ?, ?, ?, ?, ?, ?), (?, ?, ?, ?, ?, ? ... 6537 characters truncated ... , ?), (?, ?, ?, ?, ?, ?, ?, ?, ?, ?), (?, ?, ?, ?, ?, ?, ?, ?, ?, ?), (?, ?, ?, ?, ?, ?, ?, ?, ?, ?)\n",
      "2023-10-03 17:06:08,108 INFO sqlalchemy.engine.Engine [insertmanyvalues 28/34 (unordered)] (10, 'Yes', 84.6, '865.55', 'Yes', 5643, 11, 229, 0, 3, 34, 'Yes', 25.05, '852.7', 'No', 5644, 1, 67, 0, 2, 35, 'No', 53.15, '1930.9', 'No', 5645, 5, 254, 1, 3, 4, 'No', 20.15, '91.4', 'No', 5646, 0, 10, 0, 0, 39, 'Yes', 101.25, '3949.15', 'No', 5647, 9, 226, 0, 0 ... 1990 parameters truncated ... 5, 'Yes', 25.9, '135', 'Yes', 5847, 4, 44, 0, 2, 24, 'Yes', 55.65, '1400.55', 'Yes', 5848, 1, 129, 0, 2, 1, 'Yes', 69.65, '69.65', 'Yes', 5849, 8, 4, 0, 0, 18, 'Yes', 75.4, '1380.4', 'No', 5850, 2, 81, 0, 0, 10, 'Yes', 100.6, '1060.2', 'Yes', 5851, 2, 5, 0, 0)\n",
      "2023-10-03 17:06:08,115 INFO sqlalchemy.engine.Engine INSERT INTO telco_churn_exp1.customer (tenure, [PaperlessBilling], [MonthlyCharges], [TotalCharges], [Churn], customer_id, demographics_id, service_id, contract_type_id, payment_method_type_id) VALUES (?, ?, ?, ?, ?, ?, ?, ?, ?, ?), (?, ?, ?, ?, ?, ? ... 6537 characters truncated ... , ?), (?, ?, ?, ?, ?, ?, ?, ?, ?, ?), (?, ?, ?, ?, ?, ?, ?, ?, ?, ?), (?, ?, ?, ?, ?, ?, ?, ?, ?, ?)\n",
      "2023-10-03 17:06:08,115 INFO sqlalchemy.engine.Engine [insertmanyvalues 29/34 (unordered)] (65, 'No', 71.0, '4386.2', 'No', 5852, 0, 264, 2, 2, 1, 'Yes', 86.0, '86', 'Yes', 5853, 11, 159, 0, 0, 53, 'Yes', 106.95, '5785.5', 'Yes', 5854, 2, 14, 1, 3, 3, 'No', 21.2, '52.05', 'No', 5855, 1, 10, 1, 1, 33, 'Yes', 61.05, '2018.4', 'No', 5856, 5, 19, 2, 1 ... 1990 parameters truncated ... 25, 'No', 54.1, '1373', 'No', 6056, 0, 96, 0, 0, 1, 'No', 29.7, '29.7', 'Yes', 6057, 1, 7, 0, 1, 1, 'Yes', 49.8, '49.8', 'No', 6058, 1, 9, 0, 3, 59, 'No', 101.1, '6039.9', 'Yes', 6059, 0, 20, 0, 0, 64, 'Yes', 24.4, '1548.65', 'No', 6060, 13, 44, 2, 2)\n",
      "2023-10-03 17:06:08,121 INFO sqlalchemy.engine.Engine INSERT INTO telco_churn_exp1.customer (tenure, [PaperlessBilling], [MonthlyCharges], [TotalCharges], [Churn], customer_id, demographics_id, service_id, contract_type_id, payment_method_type_id) VALUES (?, ?, ?, ?, ?, ?, ?, ?, ?, ?), (?, ?, ?, ?, ?, ? ... 6537 characters truncated ... , ?), (?, ?, ?, ?, ?, ?, ?, ?, ?, ?), (?, ?, ?, ?, ?, ?, ?, ?, ?, ?), (?, ?, ?, ?, ?, ?, ?, ?, ?, ?)\n",
      "2023-10-03 17:06:08,122 INFO sqlalchemy.engine.Engine [insertmanyvalues 30/34 (unordered)] (36, 'Yes', 95.0, '3440.25', 'No', 6061, 5, 41, 0, 2, 3, 'Yes', 50.65, '151.3', 'Yes', 6062, 2, 160, 0, 1, 61, 'Yes', 69.9, '4226.7', 'No', 6063, 5, 183, 2, 1, 26, 'Yes', 39.95, '1023.75', 'No', 6064, 3, 119, 1, 2, 1, 'Yes', 55.4, '55.4', 'Yes', 6065, 2, 53, 0, 0 ... 1990 parameters truncated ... 67, 'No', 116.2, '7752.3', 'Yes', 6265, 1, 13, 2, 3, 71, 'Yes', 93.7, '6585.35', 'Yes', 6266, 0, 41, 2, 2, 59, 'No', 79.85, '4786.1', 'No', 6267, 2, 237, 1, 3, 39, 'No', 100.0, '3835.55', 'No', 6268, 4, 5, 1, 0, 21, 'No', 19.6, '397', 'No', 6269, 3, 10, 2, 1)\n",
      "2023-10-03 17:06:08,128 INFO sqlalchemy.engine.Engine INSERT INTO telco_churn_exp1.customer (tenure, [PaperlessBilling], [MonthlyCharges], [TotalCharges], [Churn], customer_id, demographics_id, service_id, contract_type_id, payment_method_type_id) VALUES (?, ?, ?, ?, ?, ?, ?, ?, ?, ?), (?, ?, ?, ?, ?, ? ... 6537 characters truncated ... , ?), (?, ?, ?, ?, ?, ?, ?, ?, ?, ?), (?, ?, ?, ?, ?, ?, ?, ?, ?, ?), (?, ?, ?, ?, ?, ?, ?, ?, ?, ?)\n",
      "2023-10-03 17:06:08,128 INFO sqlalchemy.engine.Engine [insertmanyvalues 31/34 (unordered)] (1, 'No', 19.7, '19.7', 'Yes', 6270, 1, 10, 0, 1, 48, 'No', 20.2, '1027.25', 'No', 6271, 6, 10, 2, 2, 31, 'Yes', 50.4, '1580.1', 'No', 6272, 9, 306, 1, 3, 64, 'No', 113.35, '7222.75', 'No', 6273, 6, 13, 1, 0, 46, 'Yes', 80.0, '3769.7', 'No', 6274, 4, 39, 0, 2 ... 1990 parameters truncated ... 1, 'Yes', 82.3, '82.3', 'Yes', 6474, 2, 59, 0, 0, 21, 'No', 35.1, '770.4', 'No', 6475, 2, 151, 2, 1, 67, 'Yes', 105.7, '6816.95', 'No', 6476, 0, 11, 1, 2, 44, 'No', 56.25, '2419.55', 'No', 6477, 6, 156, 0, 2, 70, 'No', 60.35, '4138.7', 'No', 6478, 4, 120, 1, 0)\n",
      "2023-10-03 17:06:08,134 INFO sqlalchemy.engine.Engine INSERT INTO telco_churn_exp1.customer (tenure, [PaperlessBilling], [MonthlyCharges], [TotalCharges], [Churn], customer_id, demographics_id, service_id, contract_type_id, payment_method_type_id) VALUES (?, ?, ?, ?, ?, ?, ?, ?, ?, ?), (?, ?, ?, ?, ?, ? ... 6537 characters truncated ... , ?), (?, ?, ?, ?, ?, ?, ?, ?, ?, ?), (?, ?, ?, ?, ?, ?, ?, ?, ?, ?), (?, ?, ?, ?, ?, ?, ?, ?, ?, ?)\n",
      "2023-10-03 17:06:08,135 INFO sqlalchemy.engine.Engine [insertmanyvalues 32/34 (unordered)] (3, 'No', 79.25, '267.6', 'Yes', 6479, 1, 34, 0, 0, 56, 'Yes', 59.8, '3457.45', 'No', 6480, 4, 130, 2, 2, 13, 'Yes', 84.6, '1115.2', 'Yes', 6481, 2, 33, 0, 0, 58, 'Yes', 93.4, '5435.6', 'Yes', 6482, 6, 189, 0, 2, 42, 'Yes', 94.2, '4186.3', 'Yes', 6483, 6, 41, 0, 0 ... 1990 parameters truncated ... 28, 'No', 85.45, '2289.9', 'No', 6683, 4, 197, 0, 0, 68, 'Yes', 95.9, '6503.2', 'No', 6684, 7, 173, 0, 0, 13, 'No', 100.75, '1313.25', 'No', 6685, 1, 226, 0, 0, 11, 'Yes', 89.2, '990.3', 'No', 6686, 2, 179, 0, 0, 3, 'Yes', 74.1, '228', 'Yes', 6687, 0, 72, 0, 3)\n",
      "2023-10-03 17:06:08,141 INFO sqlalchemy.engine.Engine INSERT INTO telco_churn_exp1.customer (tenure, [PaperlessBilling], [MonthlyCharges], [TotalCharges], [Churn], customer_id, demographics_id, service_id, contract_type_id, payment_method_type_id) VALUES (?, ?, ?, ?, ?, ?, ?, ?, ?, ?), (?, ?, ?, ?, ?, ? ... 6537 characters truncated ... , ?), (?, ?, ?, ?, ?, ?, ?, ?, ?, ?), (?, ?, ?, ?, ?, ?, ?, ?, ?, ?), (?, ?, ?, ?, ?, ?, ?, ?, ?, ?)\n",
      "2023-10-03 17:06:08,142 INFO sqlalchemy.engine.Engine [insertmanyvalues 33/34 (unordered)] (57, 'No', 100.6, '5746.15', 'Yes', 6688, 10, 5, 0, 0, 3, 'No', 75.0, '209.1', 'Yes', 6689, 1, 72, 0, 1, 72, 'No', 25.75, '1864.2', 'No', 6690, 5, 44, 2, 3, 70, 'Yes', 84.1, '5979.7', 'No', 6691, 4, 103, 2, 0, 49, 'No', 79.3, '3902.45', 'No', 6692, 6, 273, 2, 2 ... 1990 parameters truncated ... 15, 'No', 18.8, '294.95', 'No', 6892, 5, 10, 1, 1, 56, 'Yes', 73.85, '4092.85', 'Yes', 6893, 2, 116, 0, 0, 5, 'No', 64.4, '316.9', 'No', 6894, 4, 63, 0, 3, 48, 'Yes', 55.8, '2651.2', 'No', 6895, 4, 114, 1, 3, 25, 'No', 20.05, '471.7', 'No', 6896, 8, 10, 0, 3)\n",
      "2023-10-03 17:06:08,148 INFO sqlalchemy.engine.Engine INSERT INTO telco_churn_exp1.customer (tenure, [PaperlessBilling], [MonthlyCharges], [TotalCharges], [Churn], customer_id, demographics_id, service_id, contract_type_id, payment_method_type_id) VALUES (?, ?, ?, ?, ?, ?, ?, ?, ?, ?), (?, ?, ?, ?, ?, ? ... 3465 characters truncated ... , ?), (?, ?, ?, ?, ?, ?, ?, ?, ?, ?), (?, ?, ?, ?, ?, ?, ?, ?, ?, ?), (?, ?, ?, ?, ?, ?, ?, ?, ?, ?)\n",
      "2023-10-03 17:06:08,149 INFO sqlalchemy.engine.Engine [insertmanyvalues 34/34 (unordered)] (3, 'Yes', 75.15, '216.75', 'Yes', 6897, 0, 72, 0, 3, 58, 'No', 99.15, '5720.95', 'No', 6898, 1, 37, 1, 2, 10, 'Yes', 56.75, '503.25', 'No', 6899, 1, 53, 0, 2, 1, 'Yes', 69.6, '69.6', 'Yes', 6900, 1, 4, 0, 0, 71, 'Yes', 104.15, '7365.3', 'No', 6901, 5, 126, 2, 3 ... 1030 parameters truncated ... 24, 'Yes', 84.8, '1990.5', 'No', 7005, 4, 61, 1, 1, 72, 'Yes', 103.2, '7362.9', 'No', 7006, 6, 11, 1, 3, 11, 'Yes', 29.6, '346.45', 'No', 7007, 6, 7, 0, 0, 4, 'Yes', 74.4, '306.6', 'Yes', 7008, 10, 72, 0, 1, 66, 'Yes', 105.65, '6844.5', 'No', 7009, 1, 12, 2, 2)\n",
      "2023-10-03 17:06:08,180 INFO sqlalchemy.engine.Engine ALTER TABLE telco_churn_exp1.customer ALTER COLUMN customer_id BIGINT NOT NULL\n",
      "2023-10-03 17:06:08,181 INFO sqlalchemy.engine.Engine [generated in 0.00066s] ()\n",
      "2023-10-03 17:06:08,196 INFO sqlalchemy.engine.Engine ALTER TABLE telco_churn_exp1.customer ADD CONSTRAINT PK_customer PRIMARY KEY (customer_id);\n",
      "2023-10-03 17:06:08,197 INFO sqlalchemy.engine.Engine [generated in 0.00050s] ()\n",
      "2023-10-03 17:06:08,240 INFO sqlalchemy.engine.Engine SELECT [INFORMATION_SCHEMA].[TABLES].[TABLE_NAME] \n",
      "FROM [INFORMATION_SCHEMA].[TABLES] \n",
      "WHERE ([INFORMATION_SCHEMA].[TABLES].[TABLE_TYPE] = CAST(? AS NVARCHAR(max)) OR [INFORMATION_SCHEMA].[TABLES].[TABLE_TYPE] = CAST(? AS NVARCHAR(max))) AND [INFORMATION_SCHEMA].[TABLES].[TABLE_NAME] = CAST(? AS NVARCHAR(max)) AND [INFORMATION_SCHEMA].[TABLES].[TABLE_SCHEMA] = CAST(? AS NVARCHAR(max))\n",
      "2023-10-03 17:06:08,241 INFO sqlalchemy.engine.Engine [cached since 0.4278s ago] ('BASE TABLE', 'VIEW', 'demographics', 'telco_churn_exp1')\n",
      "2023-10-03 17:06:08,243 INFO sqlalchemy.engine.Engine \n",
      "CREATE TABLE telco_churn_exp1.demographics (\n",
      "\tgender VARCHAR(max) NULL, \n",
      "\t[SeniorCitizen] BIGINT NULL, \n",
      "\t[Partner] VARCHAR(max) NULL, \n",
      "\t[Dependents] VARCHAR(max) NULL, \n",
      "\tdemographics_id BIGINT NULL\n",
      ")\n",
      "\n",
      "\n",
      "2023-10-03 17:06:08,244 INFO sqlalchemy.engine.Engine [no key 0.00048s] ()\n",
      "2023-10-03 17:06:08,249 INFO sqlalchemy.engine.Engine INSERT INTO telco_churn_exp1.demographics (gender, [SeniorCitizen], [Partner], [Dependents], demographics_id) VALUES (?, ?, ?, ?, ?), (?, ?, ?, ?, ?), (?, ?, ?, ?, ?), (?, ?, ?, ?, ?), (?, ?, ?, ?, ?), (?, ?, ?, ?, ?), (?, ?, ?, ?, ?), (?, ?, ?, ?, ?), (?, ?, ?, ?, ?), (?, ?, ?, ?, ?), (?, ?, ?, ?, ?), (?, ?, ?, ?, ?), (?, ?, ?, ?, ?), (?, ?, ?, ?, ?), (?, ?, ?, ?, ?), (?, ?, ?, ?, ?)\n",
      "2023-10-03 17:06:08,249 INFO sqlalchemy.engine.Engine [generated in 0.00019s (insertmanyvalues) 1/1 (unordered)] ('Female', 0, 'Yes', 'No', 0, 'Male', 0, 'No', 'No', 1, 'Female', 0, 'No', 'No', 2, 'Male', 0, 'No', 'Yes', 3, 'Male', 0, 'Yes', 'Yes', 4, 'Male', 0, 'Yes', 'No', 5, 'Female', 0, 'Yes', 'Yes', 6, 'Male', 1, 'No', 'No', 7, 'Female', 0, 'No', 'Yes', 8, 'Female', 1, 'Yes', 'No', 9, 'Male', 1, 'Yes', 'No', 10, 'Female', 1, 'No', 'No', 11, 'Female', 1, 'Yes', 'Yes', 12, 'Male', 1, 'Yes', 'Yes', 13, 'Male', 1, 'No', 'Yes', 14, 'Female', 1, 'No', 'Yes', 15)\n",
      "2023-10-03 17:06:08,255 INFO sqlalchemy.engine.Engine ALTER TABLE telco_churn_exp1.demographics ALTER COLUMN demographics_id BIGINT NOT NULL\n",
      "2023-10-03 17:06:08,256 INFO sqlalchemy.engine.Engine [generated in 0.00050s] ()\n",
      "2023-10-03 17:06:08,261 INFO sqlalchemy.engine.Engine ALTER TABLE telco_churn_exp1.demographics ADD CONSTRAINT PK_demographics PRIMARY KEY (demographics_id);\n",
      "2023-10-03 17:06:08,262 INFO sqlalchemy.engine.Engine [generated in 0.00051s] ()\n",
      "2023-10-03 17:06:08,270 INFO sqlalchemy.engine.Engine SELECT [INFORMATION_SCHEMA].[TABLES].[TABLE_NAME] \n",
      "FROM [INFORMATION_SCHEMA].[TABLES] \n",
      "WHERE ([INFORMATION_SCHEMA].[TABLES].[TABLE_TYPE] = CAST(? AS NVARCHAR(max)) OR [INFORMATION_SCHEMA].[TABLES].[TABLE_TYPE] = CAST(? AS NVARCHAR(max))) AND [INFORMATION_SCHEMA].[TABLES].[TABLE_NAME] = CAST(? AS NVARCHAR(max)) AND [INFORMATION_SCHEMA].[TABLES].[TABLE_SCHEMA] = CAST(? AS NVARCHAR(max))\n",
      "2023-10-03 17:06:08,270 INFO sqlalchemy.engine.Engine [cached since 0.4569s ago] ('BASE TABLE', 'VIEW', 'service', 'telco_churn_exp1')\n",
      "2023-10-03 17:06:08,276 INFO sqlalchemy.engine.Engine \n",
      "CREATE TABLE telco_churn_exp1.service (\n",
      "\t[PhoneService] VARCHAR(max) NULL, \n",
      "\t[MultipleLines] VARCHAR(max) NULL, \n",
      "\t[InternetService] VARCHAR(max) NULL, \n",
      "\t[OnlineSecurity] VARCHAR(max) NULL, \n",
      "\t[OnlineBackup] VARCHAR(max) NULL, \n",
      "\t[DeviceProtection] VARCHAR(max) NULL, \n",
      "\t[TechSupport] VARCHAR(max) NULL, \n",
      "\t[StreamingTV] VARCHAR(max) NULL, \n",
      "\t[StreamingMovies] VARCHAR(max) NULL, \n",
      "\tservice_id BIGINT NULL\n",
      ")\n",
      "\n",
      "\n",
      "2023-10-03 17:06:08,276 INFO sqlalchemy.engine.Engine [no key 0.00072s] ()\n",
      "2023-10-03 17:06:08,288 INFO sqlalchemy.engine.Engine INSERT INTO telco_churn_exp1.service ([PhoneService], [MultipleLines], [InternetService], [OnlineSecurity], [OnlineBackup], [DeviceProtection], [TechSupport], [StreamingTV], [StreamingMovies], service_id) VALUES (?, ?, ?, ?, ?, ?, ?, ?, ?, ?), (?, ?, ... 6548 characters truncated ... , ?), (?, ?, ?, ?, ?, ?, ?, ?, ?, ?), (?, ?, ?, ?, ?, ?, ?, ?, ?, ?), (?, ?, ?, ?, ?, ?, ?, ?, ?, ?)\n",
      "2023-10-03 17:06:08,289 INFO sqlalchemy.engine.Engine [generated in 0.00274s (insertmanyvalues) 1/2 (unordered)] ('No', 'No phone service', 'DSL', 'No', 'Yes', 'No', 'No', 'No', 'No', 0, 'Yes', 'No', 'DSL', 'Yes', 'No', 'Yes', 'No', 'No', 'No', 1, 'Yes', 'No', 'DSL', 'Yes', 'Yes', 'No', 'No', 'No', 'No', 2, 'No', 'No phone service', 'DSL', 'Yes', 'No', 'Yes', 'Yes', 'No', 'No', 3, 'Yes', 'No', 'Fiber optic', 'No', 'No', 'No', 'No', 'No', 'No', 4 ... 1990 parameters truncated ... 'No', 'No phone service', 'DSL', 'No', 'No', 'Yes', 'No', 'No', 'No', 204, 'No', 'No phone service', 'DSL', 'No', 'Yes', 'No', 'No', 'Yes', 'Yes', 205, 'Yes', 'No', 'DSL', 'Yes', 'No', 'No', 'Yes', 'Yes', 'No', 206, 'Yes', 'Yes', 'DSL', 'Yes', 'Yes', 'No', 'Yes', 'No', 'Yes', 207, 'Yes', 'Yes', 'DSL', 'No', 'No', 'Yes', 'No', 'Yes', 'No', 208)\n",
      "2023-10-03 17:06:08,401 INFO sqlalchemy.engine.Engine INSERT INTO telco_churn_exp1.service ([PhoneService], [MultipleLines], [InternetService], [OnlineSecurity], [OnlineBackup], [DeviceProtection], [TechSupport], [StreamingTV], [StreamingMovies], service_id) VALUES (?, ?, ?, ?, ?, ?, ?, ?, ?, ?), (?, ?, ... 3476 characters truncated ... , ?), (?, ?, ?, ?, ?, ?, ?, ?, ?, ?), (?, ?, ?, ?, ?, ?, ?, ?, ?, ?), (?, ?, ?, ?, ?, ?, ?, ?, ?, ?)\n",
      "2023-10-03 17:06:08,401 INFO sqlalchemy.engine.Engine [insertmanyvalues 2/2 (unordered)] ('Yes', 'No', 'Fiber optic', 'Yes', 'Yes', 'No', 'No', 'No', 'No', 209, 'Yes', 'Yes', 'DSL', 'No', 'Yes', 'Yes', 'No', 'Yes', 'Yes', 210, 'Yes', 'No', 'Fiber optic', 'No', 'No', 'Yes', 'Yes', 'No', 'No', 211, 'Yes', 'Yes', 'Fiber optic', 'Yes', 'No', 'No', 'Yes', 'No', 'No', 212, 'Yes', 'Yes', 'Fiber optic', 'Yes', 'No', 'No', 'No', 'Yes', 'No', 213 ... 1030 parameters truncated ... 'Yes', 'Yes', 'DSL', 'No', 'Yes', 'No', 'No', 'Yes', 'Yes', 317, 'Yes', 'No', 'Fiber optic', 'Yes', 'Yes', 'Yes', 'Yes', 'No', 'No', 318, 'No', 'No phone service', 'DSL', 'No', 'Yes', 'No', 'Yes', 'Yes', 'No', 319, 'Yes', 'No', 'Fiber optic', 'Yes', 'No', 'Yes', 'Yes', 'Yes', 'No', 320, 'No', 'No phone service', 'DSL', 'Yes', 'No', 'Yes', 'No', 'Yes', 'No', 321)\n",
      "2023-10-03 17:06:08,435 INFO sqlalchemy.engine.Engine ALTER TABLE telco_churn_exp1.service ALTER COLUMN service_id BIGINT NOT NULL\n",
      "2023-10-03 17:06:08,435 INFO sqlalchemy.engine.Engine [generated in 0.00065s] ()\n",
      "2023-10-03 17:06:08,441 INFO sqlalchemy.engine.Engine ALTER TABLE telco_churn_exp1.service ADD CONSTRAINT PK_service PRIMARY KEY (service_id);\n",
      "2023-10-03 17:06:08,441 INFO sqlalchemy.engine.Engine [generated in 0.00050s] ()\n",
      "2023-10-03 17:06:08,456 INFO sqlalchemy.engine.Engine SELECT [INFORMATION_SCHEMA].[TABLES].[TABLE_NAME] \n",
      "FROM [INFORMATION_SCHEMA].[TABLES] \n",
      "WHERE ([INFORMATION_SCHEMA].[TABLES].[TABLE_TYPE] = CAST(? AS NVARCHAR(max)) OR [INFORMATION_SCHEMA].[TABLES].[TABLE_TYPE] = CAST(? AS NVARCHAR(max))) AND [INFORMATION_SCHEMA].[TABLES].[TABLE_NAME] = CAST(? AS NVARCHAR(max)) AND [INFORMATION_SCHEMA].[TABLES].[TABLE_SCHEMA] = CAST(? AS NVARCHAR(max))\n",
      "2023-10-03 17:06:08,456 INFO sqlalchemy.engine.Engine [cached since 0.6433s ago] ('BASE TABLE', 'VIEW', 'contract_type', 'telco_churn_exp1')\n",
      "2023-10-03 17:06:08,458 INFO sqlalchemy.engine.Engine \n",
      "CREATE TABLE telco_churn_exp1.contract_type (\n",
      "\t[Contract] VARCHAR(max) NULL, \n",
      "\tcontract_type_id BIGINT NULL\n",
      ")\n",
      "\n",
      "\n",
      "2023-10-03 17:06:08,458 INFO sqlalchemy.engine.Engine [no key 0.00042s] ()\n",
      "2023-10-03 17:06:08,462 INFO sqlalchemy.engine.Engine INSERT INTO telco_churn_exp1.contract_type ([Contract], contract_type_id) VALUES (?, ?), (?, ?), (?, ?)\n",
      "2023-10-03 17:06:08,463 INFO sqlalchemy.engine.Engine [generated in 0.00011s (insertmanyvalues) 1/1 (unordered)] ('Month-to-month', 0, 'One year', 1, 'Two year', 2)\n",
      "2023-10-03 17:06:08,468 INFO sqlalchemy.engine.Engine ALTER TABLE telco_churn_exp1.contract_type ALTER COLUMN contract_type_id BIGINT NOT NULL\n",
      "2023-10-03 17:06:08,468 INFO sqlalchemy.engine.Engine [generated in 0.00051s] ()\n",
      "2023-10-03 17:06:08,474 INFO sqlalchemy.engine.Engine ALTER TABLE telco_churn_exp1.contract_type ADD CONSTRAINT PK_contract_type PRIMARY KEY (contract_type_id);\n",
      "2023-10-03 17:06:08,474 INFO sqlalchemy.engine.Engine [generated in 0.00058s] ()\n",
      "2023-10-03 17:06:08,481 INFO sqlalchemy.engine.Engine SELECT [INFORMATION_SCHEMA].[TABLES].[TABLE_NAME] \n",
      "FROM [INFORMATION_SCHEMA].[TABLES] \n",
      "WHERE ([INFORMATION_SCHEMA].[TABLES].[TABLE_TYPE] = CAST(? AS NVARCHAR(max)) OR [INFORMATION_SCHEMA].[TABLES].[TABLE_TYPE] = CAST(? AS NVARCHAR(max))) AND [INFORMATION_SCHEMA].[TABLES].[TABLE_NAME] = CAST(? AS NVARCHAR(max)) AND [INFORMATION_SCHEMA].[TABLES].[TABLE_SCHEMA] = CAST(? AS NVARCHAR(max))\n",
      "2023-10-03 17:06:08,482 INFO sqlalchemy.engine.Engine [cached since 0.6689s ago] ('BASE TABLE', 'VIEW', 'payment_method_type', 'telco_churn_exp1')\n",
      "2023-10-03 17:06:08,484 INFO sqlalchemy.engine.Engine \n",
      "CREATE TABLE telco_churn_exp1.payment_method_type (\n",
      "\t[PaymentMethod] VARCHAR(max) NULL, \n",
      "\tpayment_method_type_id BIGINT NULL\n",
      ")\n",
      "\n",
      "\n",
      "2023-10-03 17:06:08,484 INFO sqlalchemy.engine.Engine [no key 0.00047s] ()\n",
      "2023-10-03 17:06:08,490 INFO sqlalchemy.engine.Engine INSERT INTO telco_churn_exp1.payment_method_type ([PaymentMethod], payment_method_type_id) VALUES (?, ?), (?, ?), (?, ?), (?, ?)\n",
      "2023-10-03 17:06:08,491 INFO sqlalchemy.engine.Engine [generated in 0.00016s (insertmanyvalues) 1/1 (unordered)] ('Electronic check', 0, 'Mailed check', 1, 'Bank transfer (automatic)', 2, 'Credit card (automatic)', 3)\n",
      "2023-10-03 17:06:08,497 INFO sqlalchemy.engine.Engine ALTER TABLE telco_churn_exp1.payment_method_type ALTER COLUMN payment_method_type_id BIGINT NOT NULL\n",
      "2023-10-03 17:06:08,497 INFO sqlalchemy.engine.Engine [generated in 0.00052s] ()\n",
      "2023-10-03 17:06:08,502 INFO sqlalchemy.engine.Engine ALTER TABLE telco_churn_exp1.payment_method_type ADD CONSTRAINT PK_payment_method_type PRIMARY KEY (payment_method_type_id);\n",
      "2023-10-03 17:06:08,503 INFO sqlalchemy.engine.Engine [generated in 0.00046s] ()\n",
      "2023-10-03 17:06:08,509 INFO sqlalchemy.engine.Engine ALTER TABLE telco_churn_exp1.customer ADD CONSTRAINT FK_customer_demographics FOREIGN KEY (demographics_id) REFERENCES telco_churn_exp1.demographics(demographics_id);\n",
      "2023-10-03 17:06:08,510 INFO sqlalchemy.engine.Engine [generated in 0.00044s] ()\n",
      "2023-10-03 17:06:08,526 INFO sqlalchemy.engine.Engine ALTER TABLE telco_churn_exp1.customer ADD CONSTRAINT FK_customer_service FOREIGN KEY (service_id) REFERENCES telco_churn_exp1.service(service_id);\n",
      "2023-10-03 17:06:08,526 INFO sqlalchemy.engine.Engine [generated in 0.00047s] ()\n",
      "2023-10-03 17:06:08,538 INFO sqlalchemy.engine.Engine ALTER TABLE telco_churn_exp1.customer ADD CONSTRAINT FK_customer_contract_type FOREIGN KEY (contract_type_id) REFERENCES telco_churn_exp1.contract_type(contract_type_id);\n",
      "2023-10-03 17:06:08,538 INFO sqlalchemy.engine.Engine [generated in 0.00058s] ()\n",
      "2023-10-03 17:06:08,549 INFO sqlalchemy.engine.Engine ALTER TABLE telco_churn_exp1.customer ADD CONSTRAINT FK_customer_payment_method_type FOREIGN KEY (payment_method_type_id) REFERENCES telco_churn_exp1.payment_method_type(payment_method_type_id);\n",
      "2023-10-03 17:06:08,549 INFO sqlalchemy.engine.Engine [generated in 0.00040s] ()\n",
      "2023-10-03 17:06:08,560 INFO sqlalchemy.engine.Engine ROLLBACK\n"
     ]
    }
   ],
   "source": [
    "norm.persist_entity_set(database_name=\"telco_churn_exp1\")"
   ]
  },
  {
   "cell_type": "code",
   "execution_count": null,
   "id": "3e87dc96-62b7-4f2f-8935-c062cb9ad74f",
   "metadata": {},
   "outputs": [],
   "source": []
  }
 ],
 "metadata": {
  "kernelspec": {
   "display_name": "Python 3 (ipykernel)",
   "language": "python",
   "name": "python3"
  },
  "language_info": {
   "codemirror_mode": {
    "name": "ipython",
    "version": 3
   },
   "file_extension": ".py",
   "mimetype": "text/x-python",
   "name": "python",
   "nbconvert_exporter": "python",
   "pygments_lexer": "ipython3",
   "version": "3.10.12"
  }
 },
 "nbformat": 4,
 "nbformat_minor": 5
}
