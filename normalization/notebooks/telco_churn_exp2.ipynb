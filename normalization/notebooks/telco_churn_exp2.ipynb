{
 "cells": [
  {
   "cell_type": "code",
   "execution_count": 1,
   "id": "affe6e05-65c3-4e27-b39f-ec18d41d93e5",
   "metadata": {},
   "outputs": [],
   "source": [
    "import sys\n",
    "# sys.path is a list of absolute path strings\n",
    "sys.path.append('/mnt/sda/boris_stanoev/PropStar/')"
   ]
  },
  {
   "cell_type": "code",
   "execution_count": 2,
   "id": "407d9963-90c8-4549-b676-840557da79c8",
   "metadata": {},
   "outputs": [],
   "source": [
    "from normalization.normalize import Normalize\n",
    "from sklearn.datasets import fetch_openml"
   ]
  },
  {
   "cell_type": "code",
   "execution_count": 3,
   "id": "acffffec-cc43-4012-991f-71aa58641342",
   "metadata": {},
   "outputs": [
    {
     "name": "stderr",
     "output_type": "stream",
     "text": [
      "/mnt/sda/boris_stanoev/PropStar/venv/lib/python3.10/site-packages/sklearn/datasets/_openml.py:303: UserWarning: Multiple active versions of the dataset matching the name telco-customer-churn exist. Versions may be fundamentally different, returning version 1.\n",
      "  warn(\n",
      "/mnt/sda/boris_stanoev/PropStar/venv/lib/python3.10/site-packages/sklearn/datasets/_openml.py:1002: FutureWarning: The default value of `parser` will change from `'liac-arff'` to `'auto'` in 1.4. You can set `parser='auto'` to silence this warning. Therefore, an `ImportError` will be raised from 1.4 if the dataset is dense and pandas is not installed. Note that the pandas parser may return different data types. See the Notes Section in fetch_openml's API doc for details.\n",
      "  warn(\n"
     ]
    }
   ],
   "source": [
    "data = fetch_openml(name='telco-customer-churn')"
   ]
  },
  {
   "cell_type": "code",
   "execution_count": 4,
   "id": "5a7afc59-7077-4466-87c8-f42a2f247fd0",
   "metadata": {},
   "outputs": [
    {
     "name": "stderr",
     "output_type": "stream",
     "text": [
      "/tmp/ipykernel_558449/3570645737.py:2: SettingWithCopyWarning: \n",
      "A value is trying to be set on a copy of a slice from a DataFrame\n",
      "\n",
      "See the caveats in the documentation: https://pandas.pydata.org/pandas-docs/stable/user_guide/indexing.html#returning-a-view-versus-a-copy\n",
      "  data.data.drop(labels=[*drop_indices], inplace=True)\n"
     ]
    }
   ],
   "source": [
    "drop_indices = data.data[data.data['TotalCharges']== ' '].index\n",
    "data.data.drop(labels=[*drop_indices], inplace=True)\n",
    "data.target.drop(labels=[*drop_indices], inplace=True)"
   ]
  },
  {
   "cell_type": "code",
   "execution_count": 5,
   "id": "dc785c1d-c86a-4581-be66-f3e27aac9487",
   "metadata": {},
   "outputs": [],
   "source": [
    "denormalized_table = data.data.join(data.target)"
   ]
  },
  {
   "cell_type": "markdown",
   "id": "8596cac4-3ee5-4d36-af08-aa123c207a07",
   "metadata": {},
   "source": [
    "- Customers who left within the last month – the column is called Churn\n",
    "- \n",
    "Services that each customer has signed up for – phone, multiple lines, internet, online security, online backup, device protection, tech support, and streaming TV and movie\n",
    "- \n",
    "Customer account informati:  – how long they’ve been a customer, contract, payment method, paperless billing, monthly charges, and total charg\n",
    "- s\n",
    "Demographic info about custom:s – gender, age range, and if they have partners and dependents"
   ]
  },
  {
   "cell_type": "code",
   "execution_count": 6,
   "id": "d30ff5dd-4e7d-44d2-acdd-abf41fe28381",
   "metadata": {},
   "outputs": [
    {
     "data": {
      "text/plain": [
       "array(['gender', 'SeniorCitizen', 'Partner', 'Dependents', 'tenure',\n",
       "       'PhoneService', 'MultipleLines', 'InternetService',\n",
       "       'OnlineSecurity', 'OnlineBackup', 'DeviceProtection',\n",
       "       'TechSupport', 'StreamingTV', 'StreamingMovies', 'Contract',\n",
       "       'PaperlessBilling', 'PaymentMethod', 'MonthlyCharges',\n",
       "       'TotalCharges', 'Churn'], dtype=object)"
      ]
     },
     "execution_count": 6,
     "metadata": {},
     "output_type": "execute_result"
    }
   ],
   "source": [
    "denormalized_table.columns.values"
   ]
  },
  {
   "cell_type": "code",
   "execution_count": 7,
   "id": "c8ec9f1b-641b-4c91-8b08-913fd536fa5e",
   "metadata": {},
   "outputs": [
    {
     "data": {
      "text/plain": [
       "SeniorCitizen\n",
       "0    5890\n",
       "1    1142\n",
       "Name: SeniorCitizen, dtype: int64"
      ]
     },
     "execution_count": 7,
     "metadata": {},
     "output_type": "execute_result"
    }
   ],
   "source": [
    "denormalized_table[['SeniorCitizen']].groupby(['SeniorCitizen'])['SeniorCitizen'].count()"
   ]
  },
  {
   "cell_type": "code",
   "execution_count": 8,
   "id": "b03db07d-e7e2-4662-80ed-10569e98d6c7",
   "metadata": {},
   "outputs": [],
   "source": [
    "all_columns = denormalized_table.columns.values\n",
    "demographics_columns = ['gender', 'SeniorCitizen', 'Partner', 'Dependents']\n",
    "customer_columns = ['Contract',\n",
    "       'PaperlessBilling', 'PaymentMethod', 'MonthlyCharges',\n",
    "       'TotalCharges', 'tenure', 'Churn']\n",
    "service_columns = ['PhoneService', 'MultipleLines', 'InternetService',\n",
    "       'OnlineSecurity', 'OnlineBackup', 'DeviceProtection',\n",
    "       'TechSupport', 'StreamingTV', 'StreamingMovies']"
   ]
  },
  {
   "cell_type": "code",
   "execution_count": 9,
   "id": "164276fc-f7c3-4412-9d05-d2d898723113",
   "metadata": {},
   "outputs": [
    {
     "name": "stdout",
     "output_type": "stream",
     "text": [
      "gender           7032\n",
      "SeniorCitizen    7032\n",
      "Partner          7032\n",
      "Dependents       7032\n",
      "dtype: int64\n",
      "gender           16\n",
      "SeniorCitizen    16\n",
      "Partner          16\n",
      "Dependents       16\n",
      "dtype: int64\n"
     ]
    }
   ],
   "source": [
    "print(denormalized_table[[*demographics_columns]].count())\n",
    "print(denormalized_table[[*demographics_columns]].drop_duplicates().count())"
   ]
  },
  {
   "cell_type": "code",
   "execution_count": 10,
   "id": "70ce874e-8737-495a-9ece-6ffb3d3a01dc",
   "metadata": {},
   "outputs": [
    {
     "name": "stdout",
     "output_type": "stream",
     "text": [
      "Contract            7032\n",
      "PaperlessBilling    7032\n",
      "PaymentMethod       7032\n",
      "MonthlyCharges      7032\n",
      "TotalCharges        7032\n",
      "tenure              7032\n",
      "Churn               7032\n",
      "dtype: int64\n",
      "Contract            6952\n",
      "PaperlessBilling    6952\n",
      "PaymentMethod       6952\n",
      "MonthlyCharges      6952\n",
      "TotalCharges        6952\n",
      "tenure              6952\n",
      "Churn               6952\n",
      "dtype: int64\n"
     ]
    }
   ],
   "source": [
    "print(denormalized_table[[*customer_columns]].count())\n",
    "print(denormalized_table[[*customer_columns]].drop_duplicates().count())"
   ]
  },
  {
   "cell_type": "code",
   "execution_count": 11,
   "id": "023dda5e-37ca-4059-a6af-f529e552071c",
   "metadata": {},
   "outputs": [
    {
     "name": "stdout",
     "output_type": "stream",
     "text": [
      "PhoneService        7032\n",
      "MultipleLines       7032\n",
      "InternetService     7032\n",
      "OnlineSecurity      7032\n",
      "OnlineBackup        7032\n",
      "DeviceProtection    7032\n",
      "TechSupport         7032\n",
      "StreamingTV         7032\n",
      "StreamingMovies     7032\n",
      "dtype: int64\n",
      "PhoneService        322\n",
      "MultipleLines       322\n",
      "InternetService     322\n",
      "OnlineSecurity      322\n",
      "OnlineBackup        322\n",
      "DeviceProtection    322\n",
      "TechSupport         322\n",
      "StreamingTV         322\n",
      "StreamingMovies     322\n",
      "dtype: int64\n"
     ]
    }
   ],
   "source": [
    "print(denormalized_table[[*service_columns]].count())\n",
    "print(denormalized_table[[*service_columns]].drop_duplicates().count())"
   ]
  },
  {
   "cell_type": "code",
   "execution_count": 12,
   "id": "8fd2f845-27d7-4087-9c2d-429581606442",
   "metadata": {},
   "outputs": [],
   "source": [
    "norm = Normalize(denormalized_table=denormalized_table, denormalized_table_name=\"original_table\")"
   ]
  },
  {
   "cell_type": "code",
   "execution_count": 13,
   "id": "61576092-ede5-483c-90ba-cd63385fd93f",
   "metadata": {},
   "outputs": [],
   "source": [
    "norm.create_entity(source_entity_name=\"original_table\", target_entity_name=\"customer\", columns=all_columns,\n",
    "                   distinct_values=True, retain_columns=['customer_id'])\n",
    "\n",
    "norm.create_entity(source_entity_name=\"customer\", target_entity_name=\"contract_type\", columns=['Contract'],\n",
    "                   distinct_values=True, retain_columns=['customer_id'])\n",
    "\n",
    "norm.create_entity(source_entity_name=\"customer\", target_entity_name=\"payment_method_type\", columns=['PaymentMethod'],\n",
    "                   distinct_values=True, retain_columns=['customer_id'])"
   ]
  },
  {
   "cell_type": "code",
   "execution_count": 14,
   "id": "a7aeeece-6ed2-4a03-87fd-e5289f6186d2",
   "metadata": {},
   "outputs": [],
   "source": [
    "norm.create_entity(source_entity_name=\"customer\", target_entity_name=\"demographics\", columns=demographics_columns,\n",
    "                   distinct_values=True, retain_columns=['customer_id'])\n",
    "\n",
    "#create senior citizen table\n",
    "norm.create_entity(source_entity_name=\"demographics\", target_entity_name=\"senior_citizen_type\", columns=['SeniorCitizen'],\n",
    "                   distinct_values=True)\n",
    "\n",
    "#create dependents table\n",
    "norm.create_entity(source_entity_name=\"demographics\", target_entity_name=\"dependents\", columns=['Dependents'],\n",
    "                   distinct_values=True)\n"
   ]
  },
  {
   "cell_type": "code",
   "execution_count": 15,
   "id": "6a239975-9eec-46f5-a505-689dfba8fa95",
   "metadata": {},
   "outputs": [],
   "source": [
    "norm.create_entity(source_entity_name=\"customer\", target_entity_name=\"service\", columns=service_columns,\n",
    "                   distinct_values=True, retain_columns=['customer_id'])\n",
    "\n",
    "#create PhoneService table\n",
    "norm.create_entity(source_entity_name=\"service\", target_entity_name=\"phone_service_type\", columns=['PhoneService'],\n",
    "                   distinct_values=True)\n",
    "\n",
    "#create MultipleLines table\n",
    "norm.create_entity(source_entity_name=\"service\", target_entity_name=\"multiple_lines_type\", columns=['MultipleLines'],\n",
    "                   distinct_values=True)\n",
    "#create StreamingMovies table\n",
    "norm.create_entity(source_entity_name=\"service\", target_entity_name=\"streaming_movies_type\", columns=['StreamingMovies'],\n",
    "                   distinct_values=True)"
   ]
  },
  {
   "cell_type": "code",
   "execution_count": 16,
   "id": "4b2535c8-b32c-4c83-a10f-764cb2322deb",
   "metadata": {},
   "outputs": [],
   "source": [
    "norm.remove_entity(\"original_table\")"
   ]
  },
  {
   "cell_type": "code",
   "execution_count": 17,
   "id": "e37bd646-b0bf-4e3b-9120-856d11653f08",
   "metadata": {},
   "outputs": [
    {
     "name": "stdout",
     "output_type": "stream",
     "text": [
      "{'customer': 'customer_id', 'contract_type': 'contract_type_id', 'payment_method_type': 'payment_method_type_id', 'demographics': 'demographics_id', 'senior_citizen_type': 'senior_citizen_type_id', 'dependents': 'dependents_id', 'service': 'service_id', 'phone_service_type': 'phone_service_type_id', 'multiple_lines_type': 'multiple_lines_type_id', 'streaming_movies_type': 'streaming_movies_type_id'}\n",
      "\n",
      "\n",
      "{'customer': {}, 'contract_type': {'customer': ('contract_type_id', 'contract_type_id')}, 'payment_method_type': {'customer': ('payment_method_type_id', 'payment_method_type_id')}, 'demographics': {'customer': ('demographics_id', 'demographics_id')}, 'senior_citizen_type': {'demographics': ('senior_citizen_type_id', 'senior_citizen_type_id')}, 'dependents': {'demographics': ('dependents_id', 'dependents_id')}, 'service': {'customer': ('service_id', 'service_id')}, 'phone_service_type': {'service': ('phone_service_type_id', 'phone_service_type_id')}, 'multiple_lines_type': {'service': ('multiple_lines_type_id', 'multiple_lines_type_id')}, 'streaming_movies_type': {'service': ('streaming_movies_type_id', 'streaming_movies_type_id')}}\n",
      "\n",
      "\n",
      "dict_keys(['customer', 'contract_type', 'payment_method_type', 'demographics', 'senior_citizen_type', 'dependents', 'service', 'phone_service_type', 'multiple_lines_type', 'streaming_movies_type'])\n"
     ]
    }
   ],
   "source": [
    "print(norm.primary_keys)\n",
    "print(\"\\n\")\n",
    "print(norm.relations)\n",
    "print(\"\\n\")\n",
    "print(norm.entity_set.keys())\n"
   ]
  },
  {
   "cell_type": "code",
   "execution_count": 18,
   "id": "e142890c-50e1-47e8-bf42-33e3ac859e59",
   "metadata": {},
   "outputs": [
    {
     "name": "stdout",
     "output_type": "stream",
     "text": [
      "ALTER TABLE customer ADD CONSTRAINT PK_customer PRIMARY KEY (customer_id);\n",
      "ALTER TABLE contract_type ADD CONSTRAINT PK_contract_type PRIMARY KEY (contract_type_id);\n",
      "ALTER TABLE payment_method_type ADD CONSTRAINT PK_payment_method_type PRIMARY KEY (payment_method_type_id);\n",
      "ALTER TABLE demographics ADD CONSTRAINT PK_demographics PRIMARY KEY (demographics_id);\n",
      "ALTER TABLE senior_citizen_type ADD CONSTRAINT PK_senior_citizen_type PRIMARY KEY (senior_citizen_type_id);\n",
      "ALTER TABLE dependents ADD CONSTRAINT PK_dependents PRIMARY KEY (dependents_id);\n",
      "ALTER TABLE service ADD CONSTRAINT PK_service PRIMARY KEY (service_id);\n",
      "ALTER TABLE phone_service_type ADD CONSTRAINT PK_phone_service_type PRIMARY KEY (phone_service_type_id);\n",
      "ALTER TABLE multiple_lines_type ADD CONSTRAINT PK_multiple_lines_type PRIMARY KEY (multiple_lines_type_id);\n",
      "ALTER TABLE streaming_movies_type ADD CONSTRAINT PK_streaming_movies_type PRIMARY KEY (streaming_movies_type_id);\n",
      "ALTER TABLE customer ADD CONSTRAINT FK_customer_contract_type FOREIGN KEY (contract_type_id) REFERENCES contract_type(contract_type_id));\n",
      "ALTER TABLE customer ADD CONSTRAINT FK_customer_payment_method_type FOREIGN KEY (payment_method_type_id) REFERENCES payment_method_type(payment_method_type_id));\n",
      "ALTER TABLE customer ADD CONSTRAINT FK_customer_demographics FOREIGN KEY (demographics_id) REFERENCES demographics(demographics_id));\n",
      "ALTER TABLE demographics ADD CONSTRAINT FK_demographics_senior_citizen_type FOREIGN KEY (senior_citizen_type_id) REFERENCES senior_citizen_type(senior_citizen_type_id));\n",
      "ALTER TABLE demographics ADD CONSTRAINT FK_demographics_dependents FOREIGN KEY (dependents_id) REFERENCES dependents(dependents_id));\n",
      "ALTER TABLE customer ADD CONSTRAINT FK_customer_service FOREIGN KEY (service_id) REFERENCES service(service_id));\n",
      "ALTER TABLE service ADD CONSTRAINT FK_service_phone_service_type FOREIGN KEY (phone_service_type_id) REFERENCES phone_service_type(phone_service_type_id));\n",
      "ALTER TABLE service ADD CONSTRAINT FK_service_multiple_lines_type FOREIGN KEY (multiple_lines_type_id) REFERENCES multiple_lines_type(multiple_lines_type_id));\n",
      "ALTER TABLE service ADD CONSTRAINT FK_service_streaming_movies_type FOREIGN KEY (streaming_movies_type_id) REFERENCES streaming_movies_type(streaming_movies_type_id));\n"
     ]
    }
   ],
   "source": [
    "for entity in norm.entity_set.keys():\n",
    "    print(\n",
    "        f\"ALTER TABLE {entity} ADD CONSTRAINT PK_{entity} PRIMARY KEY ({norm.primary_keys[entity]});\")\n",
    "\n",
    "for parent_table in norm.relations:\n",
    "    for child_table in norm.relations[parent_table]:\n",
    "        print(f\"ALTER TABLE {child_table} ADD CONSTRAINT FK_{child_table}_{parent_table} \"\n",
    "              f\"FOREIGN KEY ({norm.relations[parent_table][child_table][1]}) \"\n",
    "              f\"REFERENCES {parent_table}({norm.relations[parent_table][child_table][0]}));\")\n"
   ]
  },
  {
   "cell_type": "code",
   "execution_count": 19,
   "id": "9e5e7266-2195-47e4-9cb6-f882b14f382e",
   "metadata": {},
   "outputs": [
    {
     "name": "stdout",
     "output_type": "stream",
     "text": [
      "2023-10-03 17:07:10,189 INFO sqlalchemy.engine.Engine SELECT CAST(SERVERPROPERTY('ProductVersion') AS VARCHAR)\n",
      "2023-10-03 17:07:10,189 INFO sqlalchemy.engine.Engine [raw sql] ()\n",
      "2023-10-03 17:07:10,191 INFO sqlalchemy.engine.Engine SELECT schema_name()\n",
      "2023-10-03 17:07:10,191 INFO sqlalchemy.engine.Engine [generated in 0.00066s] ()\n",
      "2023-10-03 17:07:10,193 INFO sqlalchemy.engine.Engine SELECT CAST('test max support' AS NVARCHAR(max))\n",
      "2023-10-03 17:07:10,193 INFO sqlalchemy.engine.Engine [generated in 0.00045s] ()\n",
      "2023-10-03 17:07:10,194 INFO sqlalchemy.engine.Engine SELECT 1 FROM fn_listextendedproperty(default, default, default, default, default, default, default)\n",
      "2023-10-03 17:07:10,195 INFO sqlalchemy.engine.Engine [generated in 0.00065s] ()\n",
      "2023-10-03 17:07:10,196 INFO sqlalchemy.engine.Engine BEGIN (implicit)\n",
      "2023-10-03 17:07:10,196 INFO sqlalchemy.engine.Engine IF (SCHEMA_ID('telco_churn_exp2') IS NOT NULL) BEGIN DROP SCHEMA [telco_churn_exp2]; END \n",
      "2023-10-03 17:07:10,197 INFO sqlalchemy.engine.Engine [generated in 0.00082s] ()\n",
      "2023-10-03 17:07:10,200 INFO sqlalchemy.engine.Engine CREATE SCHEMA [telco_churn_exp2] AUTHORIZATION [dbo]\n",
      "2023-10-03 17:07:10,201 INFO sqlalchemy.engine.Engine [generated in 0.00068s] ()\n",
      "2023-10-03 17:07:10,210 INFO sqlalchemy.engine.Engine SELECT [INFORMATION_SCHEMA].[TABLES].[TABLE_NAME] \n",
      "FROM [INFORMATION_SCHEMA].[TABLES] \n",
      "WHERE ([INFORMATION_SCHEMA].[TABLES].[TABLE_TYPE] = CAST(? AS NVARCHAR(max)) OR [INFORMATION_SCHEMA].[TABLES].[TABLE_TYPE] = CAST(? AS NVARCHAR(max))) AND [INFORMATION_SCHEMA].[TABLES].[TABLE_NAME] = CAST(? AS NVARCHAR(max)) AND [INFORMATION_SCHEMA].[TABLES].[TABLE_SCHEMA] = CAST(? AS NVARCHAR(max))\n",
      "2023-10-03 17:07:10,210 INFO sqlalchemy.engine.Engine [generated in 0.00092s] ('BASE TABLE', 'VIEW', 'customer', 'telco_churn_exp2')\n",
      "2023-10-03 17:07:10,213 INFO sqlalchemy.engine.Engine \n",
      "CREATE TABLE telco_churn_exp2.customer (\n",
      "\ttenure BIGINT NULL, \n",
      "\t[PaperlessBilling] VARCHAR(max) NULL, \n",
      "\t[MonthlyCharges] FLOAT(53) NULL, \n",
      "\t[TotalCharges] VARCHAR(max) NULL, \n",
      "\t[Churn] VARCHAR(max) NULL, \n",
      "\tcustomer_id BIGINT NULL, \n",
      "\tcontract_type_id BIGINT NULL, \n",
      "\tpayment_method_type_id BIGINT NULL, \n",
      "\tdemographics_id BIGINT NULL, \n",
      "\tservice_id BIGINT NULL\n",
      ")\n",
      "\n",
      "\n",
      "2023-10-03 17:07:10,213 INFO sqlalchemy.engine.Engine [no key 0.00044s] ()\n",
      "2023-10-03 17:07:10,253 INFO sqlalchemy.engine.Engine INSERT INTO telco_churn_exp2.customer (tenure, [PaperlessBilling], [MonthlyCharges], [TotalCharges], [Churn], customer_id, contract_type_id, payment_method_type_id, demographics_id, service_id) VALUES (?, ?, ?, ?, ?, ?, ?, ?, ?, ?), (?, ?, ?, ?, ?, ? ... 6537 characters truncated ... , ?), (?, ?, ?, ?, ?, ?, ?, ?, ?, ?), (?, ?, ?, ?, ?, ?, ?, ?, ?, ?), (?, ?, ?, ?, ?, ?, ?, ?, ?, ?)\n",
      "2023-10-03 17:07:10,254 INFO sqlalchemy.engine.Engine [generated in 0.02412s (insertmanyvalues) 1/34 (unordered)] (1, 'Yes', 29.85, '29.85', 'No', 0, 0, 0, 0, 0, 34, 'No', 56.95, '1889.5', 'No', 1, 1, 1, 1, 1, 2, 'Yes', 53.85, '108.15', 'Yes', 2, 0, 1, 1, 2, 45, 'No', 42.3, '1840.75', 'No', 3, 1, 2, 1, 3, 2, 'Yes', 70.7, '151.65', 'Yes', 4, 0, 0, 2, 4 ... 1990 parameters truncated ... 44, 'No', 68.85, '2958.95', 'No', 204, 0, 3, 1, 4, 33, 'Yes', 79.95, '2684.85', 'No', 205, 1, 2, 2, 99, 72, 'Yes', 55.45, '4179.2', 'No', 206, 2, 3, 4, 100, 1, 'No', 79.9, '79.9', 'Yes', 207, 0, 0, 1, 88, 19, 'Yes', 106.6, '1934.45', 'Yes', 208, 0, 0, 2, 12)\n",
      "2023-10-03 17:07:10,321 INFO sqlalchemy.engine.Engine INSERT INTO telco_churn_exp2.customer (tenure, [PaperlessBilling], [MonthlyCharges], [TotalCharges], [Churn], customer_id, contract_type_id, payment_method_type_id, demographics_id, service_id) VALUES (?, ?, ?, ?, ?, ?, ?, ?, ?, ?), (?, ?, ?, ?, ?, ? ... 6537 characters truncated ... , ?), (?, ?, ?, ?, ?, ?, ?, ?, ?, ?), (?, ?, ?, ?, ?, ?, ?, ?, ?, ?), (?, ?, ?, ?, ?, ?, ?, ?, ?, ?)\n",
      "2023-10-03 17:07:10,322 INFO sqlalchemy.engine.Engine [insertmanyvalues 2/34 (unordered)] (64, 'Yes', 102.45, '6654.1', 'No', 209, 1, 3, 5, 56, 2, 'Yes', 46.0, '84.5', 'Yes', 210, 0, 3, 1, 26, 1, 'No', 25.25, '25.25', 'No', 211, 0, 0, 2, 67, 61, 'No', 19.75, '1124.2', 'No', 212, 2, 1, 3, 10, 29, 'No', 20.0, '540.05', 'No', 213, 1, 0, 6, 10 ... 1990 parameters truncated ... 51, 'Yes', 87.35, '4473', 'No', 413, 0, 0, 1, 158, 48, 'Yes', 70.65, '3545.05', 'No', 414, 0, 2, 9, 4, 16, 'No', 73.25, '1195.75', 'No', 415, 0, 2, 6, 116, 70, 'Yes', 98.7, '6858.9', 'No', 416, 2, 2, 5, 152, 40, 'Yes', 24.8, '1024.7', 'No', 417, 2, 1, 6, 44)\n",
      "2023-10-03 17:07:10,327 INFO sqlalchemy.engine.Engine INSERT INTO telco_churn_exp2.customer (tenure, [PaperlessBilling], [MonthlyCharges], [TotalCharges], [Churn], customer_id, contract_type_id, payment_method_type_id, demographics_id, service_id) VALUES (?, ?, ?, ?, ?, ?, ?, ?, ?, ?), (?, ?, ?, ?, ?, ? ... 6537 characters truncated ... , ?), (?, ?, ?, ?, ?, ?, ?, ?, ?, ?), (?, ?, ?, ?, ?, ?, ?, ?, ?, ?), (?, ?, ?, ?, ?, ?, ?, ?, ?, ?)\n",
      "2023-10-03 17:07:10,328 INFO sqlalchemy.engine.Engine [insertmanyvalues 3/34 (unordered)] (22, 'No', 83.3, '1845.9', 'Yes', 418, 0, 0, 6, 159, 1, 'Yes', 75.3, '75.3', 'Yes', 419, 0, 2, 11, 28, 5, 'Yes', 24.3, '132.25', 'No', 420, 0, 1, 6, 44, 7, 'Yes', 69.85, '515.45', 'No', 421, 0, 2, 2, 4, 29, 'No', 100.55, '2830.45', 'No', 422, 1, 3, 3, 152 ... 1990 parameters truncated ... 20, 'No', 19.7, '406.95', 'No', 622, 2, 1, 2, 10, 7, 'No', 20.0, '137.6', 'Yes', 623, 0, 2, 2, 10, 25, 'Yes', 95.15, '2395.7', 'No', 624, 0, 0, 0, 125, 23, 'No', 84.25, '1968.1', 'No', 625, 0, 0, 5, 146, 66, 'No', 104.6, '6819.45', 'No', 626, 1, 3, 9, 11)\n",
      "2023-10-03 17:07:10,334 INFO sqlalchemy.engine.Engine INSERT INTO telco_churn_exp2.customer (tenure, [PaperlessBilling], [MonthlyCharges], [TotalCharges], [Churn], customer_id, contract_type_id, payment_method_type_id, demographics_id, service_id) VALUES (?, ?, ?, ?, ?, ?, ?, ?, ?, ?), (?, ?, ?, ?, ?, ? ... 6537 characters truncated ... , ?), (?, ?, ?, ?, ?, ?, ?, ?, ?, ?), (?, ?, ?, ?, ?, ?, ?, ?, ?, ?), (?, ?, ?, ?, ?, ?, ?, ?, ?, ?)\n",
      "2023-10-03 17:07:10,334 INFO sqlalchemy.engine.Engine [insertmanyvalues 4/34 (unordered)] (72, 'No', 111.65, '7943.45', 'No', 627, 2, 0, 11, 43, 49, 'No', 90.05, '4547.25', 'Yes', 628, 0, 3, 10, 122, 43, 'Yes', 110.75, '4687.9', 'Yes', 629, 0, 2, 13, 43, 46, 'No', 55.0, '2473.95', 'No', 630, 0, 2, 0, 129, 72, 'No', 89.85, '6562.9', 'No', 631, 2, 3, 4, 21 ... 1990 parameters truncated ... 37, 'Yes', 88.8, '3340.55', 'No', 831, 0, 0, 6, 6, 4, 'Yes', 78.85, '292.8', 'Yes', 832, 0, 0, 11, 34, 60, 'Yes', 93.25, '5774.55', 'No', 833, 0, 0, 13, 189, 62, 'No', 71.4, '4487.3', 'No', 834, 1, 3, 4, 164, 1, 'No', 44.4, '44.4', 'Yes', 835, 0, 1, 1, 26)\n",
      "2023-10-03 17:07:10,342 INFO sqlalchemy.engine.Engine INSERT INTO telco_churn_exp2.customer (tenure, [PaperlessBilling], [MonthlyCharges], [TotalCharges], [Churn], customer_id, contract_type_id, payment_method_type_id, demographics_id, service_id) VALUES (?, ?, ?, ?, ?, ?, ?, ?, ?, ?), (?, ?, ?, ?, ?, ? ... 6537 characters truncated ... , ?), (?, ?, ?, ?, ?, ?, ?, ?, ?, ?), (?, ?, ?, ?, ?, ?, ?, ?, ?, ?), (?, ?, ?, ?, ?, ?, ?, ?, ?, ?)\n",
      "2023-10-03 17:07:10,342 INFO sqlalchemy.engine.Engine [insertmanyvalues 5/34 (unordered)] (36, 'Yes', 79.2, '2854.95', 'No', 836, 0, 3, 1, 104, 44, 'No', 20.4, '905.55', 'No', 837, 2, 3, 1, 10, 55, 'Yes', 100.0, '5509.3', 'Yes', 838, 1, 0, 11, 5, 72, 'Yes', 105.0, '7589.8', 'No', 839, 2, 3, 0, 14, 12, 'No', 19.8, '229.6', 'Yes', 840, 1, 2, 6, 10 ... 1990 parameters truncated ... 8, 'No', 54.25, '447.75', 'No', 1040, 1, 2, 2, 156, 43, 'Yes', 99.3, '4209.95', 'No', 1041, 0, 2, 6, 5, 52, 'No', 74.0, '3877.65', 'No', 1042, 1, 3, 2, 242, 3, 'Yes', 50.25, '152.3', 'No', 1043, 0, 1, 1, 49, 29, 'Yes', 19.8, '572.2', 'No', 1044, 1, 1, 1, 10)\n",
      "2023-10-03 17:07:10,353 INFO sqlalchemy.engine.Engine INSERT INTO telco_churn_exp2.customer (tenure, [PaperlessBilling], [MonthlyCharges], [TotalCharges], [Churn], customer_id, contract_type_id, payment_method_type_id, demographics_id, service_id) VALUES (?, ?, ?, ?, ?, ?, ?, ?, ?, ?), (?, ?, ?, ?, ?, ? ... 6537 characters truncated ... , ?), (?, ?, ?, ?, ?, ?, ?, ?, ?, ?), (?, ?, ?, ?, ?, ?, ?, ?, ?, ?), (?, ?, ?, ?, ?, ?, ?, ?, ?, ?)\n",
      "2023-10-03 17:07:10,355 INFO sqlalchemy.engine.Engine [insertmanyvalues 6/34 (unordered)] (1, 'No', 19.65, '19.65', 'Yes', 1045, 0, 1, 2, 10, 12, 'Yes', 43.65, '526.95', 'Yes', 1046, 0, 0, 7, 243, 16, 'Yes', 35.5, '552.7', 'No', 1047, 0, 3, 6, 80, 40, 'Yes', 80.75, '3208.65', 'No', 1048, 1, 1, 2, 244, 5, 'No', 39.5, '210.75', 'Yes', 1049, 0, 0, 2, 17 ... 1990 parameters truncated ... 55, 'No', 88.8, '4805.3', 'No', 1249, 2, 3, 9, 216, 2, 'Yes', 30.9, '59.05', 'Yes', 1250, 0, 0, 2, 95, 72, 'Yes', 85.9, '6110.75', 'No', 1251, 2, 3, 6, 61, 45, 'No', 34.2, '1596.6', 'No', 1252, 1, 0, 11, 80, 47, 'No', 20.15, '1046.2', 'No', 1253, 2, 1, 2, 10)\n",
      "2023-10-03 17:07:10,379 INFO sqlalchemy.engine.Engine INSERT INTO telco_churn_exp2.customer (tenure, [PaperlessBilling], [MonthlyCharges], [TotalCharges], [Churn], customer_id, contract_type_id, payment_method_type_id, demographics_id, service_id) VALUES (?, ?, ?, ?, ?, ?, ?, ?, ?, ?), (?, ?, ?, ?, ?, ? ... 6537 characters truncated ... , ?), (?, ?, ?, ?, ?, ?, ?, ?, ?, ?), (?, ?, ?, ?, ?, ?, ?, ?, ?, ?), (?, ?, ?, ?, ?, ?, ?, ?, ?, ?)\n",
      "2023-10-03 17:07:10,381 INFO sqlalchemy.engine.Engine [insertmanyvalues 7/34 (unordered)] (46, 'No', 95.25, '4424.2', 'Yes', 1254, 1, 3, 11, 111, 2, 'Yes', 50.3, '92.75', 'No', 1255, 0, 1, 1, 29, 2, 'Yes', 80.15, '194.55', 'No', 1256, 0, 0, 0, 259, 12, 'Yes', 51.25, '612.1', 'No', 1257, 0, 0, 0, 29, 68, 'Yes', 89.6, '6127.6', 'Yes', 1258, 0, 2, 9, 122 ... 1990 parameters truncated ... 1, 'No', 74.6, '74.6', 'No', 1458, 0, 3, 4, 116, 12, 'Yes', 49.2, '571.15', 'No', 1459, 0, 0, 4, 9, 23, 'Yes', 73.75, '1756.6', 'No', 1460, 1, 1, 2, 241, 62, 'Yes', 92.3, '5731.45', 'No', 1461, 1, 2, 1, 189, 37, 'No', 98.8, '3475.55', 'Yes', 1462, 0, 2, 1, 226)\n",
      "2023-10-03 17:07:10,404 INFO sqlalchemy.engine.Engine INSERT INTO telco_churn_exp2.customer (tenure, [PaperlessBilling], [MonthlyCharges], [TotalCharges], [Churn], customer_id, contract_type_id, payment_method_type_id, demographics_id, service_id) VALUES (?, ?, ?, ?, ?, ?, ?, ?, ?, ?), (?, ?, ?, ?, ?, ? ... 6537 characters truncated ... , ?), (?, ?, ?, ?, ?, ?, ?, ?, ?, ?), (?, ?, ?, ?, ?, ?, ?, ?, ?, ?), (?, ?, ?, ?, ?, ?, ?, ?, ?, ?)\n",
      "2023-10-03 17:07:10,407 INFO sqlalchemy.engine.Engine [insertmanyvalues 8/34 (unordered)] (8, 'No', 19.2, '156.85', 'No', 1463, 0, 1, 2, 10, 31, 'No', 88.65, '2683.2', 'No', 1464, 0, 3, 5, 179, 13, 'Yes', 74.4, '896.75', 'Yes', 1465, 0, 3, 4, 72, 24, 'Yes', 98.75, '2407.3', 'Yes', 1466, 0, 0, 2, 5, 45, 'Yes', 95.95, '4456.65', 'No', 1467, 0, 2, 4, 173 ... 1990 parameters truncated ... 29, 'Yes', 78.9, '2384.15', 'Yes', 1667, 0, 0, 2, 34, 4, 'Yes', 80.15, '319.85', 'No', 1668, 0, 0, 2, 62, 6, 'No', 25.4, '153.3', 'No', 1669, 2, 1, 4, 44, 67, 'Yes', 105.4, '7035.6', 'No', 1670, 1, 3, 9, 219, 7, 'Yes', 45.75, '344.2', 'No', 1671, 0, 1, 14, 26)\n",
      "2023-10-03 17:07:10,431 INFO sqlalchemy.engine.Engine INSERT INTO telco_churn_exp2.customer (tenure, [PaperlessBilling], [MonthlyCharges], [TotalCharges], [Churn], customer_id, contract_type_id, payment_method_type_id, demographics_id, service_id) VALUES (?, ?, ?, ?, ?, ?, ?, ?, ?, ?), (?, ?, ?, ?, ?, ? ... 6537 characters truncated ... , ?), (?, ?, ?, ?, ?, ?, ?, ?, ?, ?), (?, ?, ?, ?, ?, ?, ?, ?, ?, ?), (?, ?, ?, ?, ?, ?, ?, ?, ?, ?)\n",
      "2023-10-03 17:07:10,433 INFO sqlalchemy.engine.Engine [insertmanyvalues 9/34 (unordered)] (56, 'Yes', 24.45, '1431.65', 'No', 1672, 1, 1, 4, 44, 72, 'No', 25.0, '1849.2', 'No', 1673, 2, 3, 0, 44, 72, 'Yes', 85.25, '6083.1', 'No', 1674, 2, 0, 5, 191, 23, 'No', 19.6, '426.65', 'No', 1675, 2, 3, 4, 10, 35, 'No', 50.15, '1655.35', 'No', 1676, 0, 1, 8, 160 ... 1990 parameters truncated ... 24, 'Yes', 70.3, '1706.45', 'No', 1876, 0, 3, 4, 271, 67, 'Yes', 60.4, '3953.7', 'No', 1877, 2, 2, 4, 70, 16, 'No', 72.65, '1194.3', 'Yes', 1878, 0, 0, 2, 72, 23, 'No', 55.8, '1327.85', 'No', 1879, 1, 2, 2, 114, 14, 'Yes', 31.1, '419.7', 'No', 1880, 0, 1, 1, 0)\n",
      "2023-10-03 17:07:10,456 INFO sqlalchemy.engine.Engine INSERT INTO telco_churn_exp2.customer (tenure, [PaperlessBilling], [MonthlyCharges], [TotalCharges], [Churn], customer_id, contract_type_id, payment_method_type_id, demographics_id, service_id) VALUES (?, ?, ?, ?, ?, ?, ?, ?, ?, ?), (?, ?, ?, ?, ?, ? ... 6537 characters truncated ... , ?), (?, ?, ?, ?, ?, ?, ?, ?, ?, ?), (?, ?, ?, ?, ?, ?, ?, ?, ?, ?), (?, ?, ?, ?, ?, ?, ?, ?, ?, ?)\n",
      "2023-10-03 17:07:10,457 INFO sqlalchemy.engine.Engine [insertmanyvalues 10/34 (unordered)] (1, 'Yes', 21.0, '21', 'Yes', 1881, 0, 0, 6, 10, 1, 'No', 45.1, '45.1', 'Yes', 1882, 0, 1, 11, 26, 4, 'Yes', 50.95, '207.35', 'No', 1883, 0, 3, 7, 205, 16, 'Yes', 69.1, '1083.7', 'No', 1884, 0, 0, 3, 203, 46, 'Yes', 43.95, '2007.85', 'No', 1885, 0, 0, 0, 145 ... 1990 parameters truncated ... 1, 'Yes', 79.95, '79.95', 'Yes', 2085, 0, 0, 1, 34, 1, 'No', 19.3, '19.3', 'Yes', 2086, 0, 0, 2, 10, 9, 'Yes', 94.05, '811.65', 'No', 2087, 0, 0, 1, 24, 2, 'No', 90.75, '174.75', 'No', 2088, 0, 1, 1, 297, 40, 'Yes', 78.85, '3126.85', 'No', 2089, 0, 3, 0, 174)\n",
      "2023-10-03 17:07:10,481 INFO sqlalchemy.engine.Engine INSERT INTO telco_churn_exp2.customer (tenure, [PaperlessBilling], [MonthlyCharges], [TotalCharges], [Churn], customer_id, contract_type_id, payment_method_type_id, demographics_id, service_id) VALUES (?, ?, ?, ?, ?, ?, ?, ?, ?, ?), (?, ?, ?, ?, ?, ? ... 6537 characters truncated ... , ?), (?, ?, ?, ?, ?, ?, ?, ?, ?, ?), (?, ?, ?, ?, ?, ?, ?, ?, ?, ?), (?, ?, ?, ?, ?, ?, ?, ?, ?, ?)\n",
      "2023-10-03 17:07:10,482 INFO sqlalchemy.engine.Engine [insertmanyvalues 11/34 (unordered)] (69, 'No', 99.5, '6841.45', 'No', 2090, 1, 2, 5, 5, 37, 'Yes', 99.2, '3754.6', 'Yes', 2091, 1, 0, 0, 247, 18, 'Yes', 80.55, '1406.65', 'No', 2092, 0, 3, 3, 77, 11, 'Yes', 70.2, '834.7', 'No', 2093, 0, 0, 10, 4, 8, 'Yes', 85.2, '627.4', 'Yes', 2094, 0, 3, 0, 33 ... 1990 parameters truncated ... 67, 'Yes', 100.9, '6733.15', 'No', 2294, 1, 3, 5, 37, 34, 'Yes', 97.7, '3410', 'No', 2295, 0, 2, 4, 20, 3, 'Yes', 69.85, '199.85', 'No', 2296, 0, 0, 2, 4, 9, 'Yes', 65.6, '593.3', 'No', 2297, 1, 1, 6, 227, 71, 'Yes', 104.65, '7288.4', 'No', 2298, 1, 2, 4, 236)\n",
      "2023-10-03 17:07:10,506 INFO sqlalchemy.engine.Engine INSERT INTO telco_churn_exp2.customer (tenure, [PaperlessBilling], [MonthlyCharges], [TotalCharges], [Churn], customer_id, contract_type_id, payment_method_type_id, demographics_id, service_id) VALUES (?, ?, ?, ?, ?, ?, ?, ?, ?, ?), (?, ?, ?, ?, ?, ? ... 6537 characters truncated ... , ?), (?, ?, ?, ?, ?, ?, ?, ?, ?, ?), (?, ?, ?, ?, ?, ?, ?, ?, ?, ?), (?, ?, ?, ?, ?, ?, ?, ?, ?, ?)\n",
      "2023-10-03 17:07:10,508 INFO sqlalchemy.engine.Engine [insertmanyvalues 12/34 (unordered)] (57, 'Yes', 90.45, '5229.8', 'No', 2299, 2, 3, 1, 139, 72, 'Yes', 63.7, '4464.8', 'No', 2300, 2, 2, 1, 154, 48, 'Yes', 104.5, '5068.05', 'No', 2301, 0, 0, 12, 12, 18, 'No', 20.1, '401.85', 'No', 2302, 1, 1, 1, 10, 43, 'Yes', 104.3, '4451.85', 'No', 2303, 1, 3, 4, 8 ... 1990 parameters truncated ... 52, 'No', 19.2, '1054.75', 'No', 2503, 2, 1, 4, 10, 25, 'Yes', 89.7, '2187.55', 'Yes', 2504, 0, 0, 11, 122, 64, 'Yes', 115.1, '7334.05', 'No', 2505, 2, 2, 2, 13, 16, 'Yes', 96.4, '1581.2', 'Yes', 2506, 0, 0, 11, 41, 1, 'Yes', 69.5, '69.5', 'Yes', 2507, 0, 2, 7, 4)\n",
      "2023-10-03 17:07:10,531 INFO sqlalchemy.engine.Engine INSERT INTO telco_churn_exp2.customer (tenure, [PaperlessBilling], [MonthlyCharges], [TotalCharges], [Churn], customer_id, contract_type_id, payment_method_type_id, demographics_id, service_id) VALUES (?, ?, ?, ?, ?, ?, ?, ?, ?, ?), (?, ?, ?, ?, ?, ? ... 6537 characters truncated ... , ?), (?, ?, ?, ?, ?, ?, ?, ?, ?, ?), (?, ?, ?, ?, ?, ?, ?, ?, ?, ?), (?, ?, ?, ?, ?, ?, ?, ?, ?, ?)\n",
      "2023-10-03 17:07:10,532 INFO sqlalchemy.engine.Engine [insertmanyvalues 13/34 (unordered)] (24, 'Yes', 99.65, '2404.85', 'No', 2508, 0, 2, 1, 20, 2, 'Yes', 91.45, '171.45', 'No', 2509, 0, 0, 5, 179, 34, 'No', 84.75, '2839.45', 'No', 2510, 2, 1, 6, 87, 36, 'Yes', 85.25, '3132.75', 'Yes', 2511, 0, 3, 10, 33, 53, 'Yes', 78.75, '3942.45', 'No', 2512, 1, 1, 4, 244 ... 1990 parameters truncated ... 21, 'No', 20.5, '402.85', 'No', 2712, 0, 3, 1, 10, 62, 'No', 19.95, '1244.8', 'No', 2713, 1, 2, 4, 10, 2, 'No', 24.5, '46.4', 'No', 2714, 0, 0, 2, 67, 27, 'No', 20.6, '581.85', 'No', 2715, 2, 1, 3, 10, 5, 'Yes', 94.85, '462.8', 'Yes', 2716, 0, 2, 1, 41)\n",
      "2023-10-03 17:07:10,553 INFO sqlalchemy.engine.Engine INSERT INTO telco_churn_exp2.customer (tenure, [PaperlessBilling], [MonthlyCharges], [TotalCharges], [Churn], customer_id, contract_type_id, payment_method_type_id, demographics_id, service_id) VALUES (?, ?, ?, ?, ?, ?, ?, ?, ?, ?), (?, ?, ?, ?, ?, ? ... 6537 characters truncated ... , ?), (?, ?, ?, ?, ?, ?, ?, ?, ?, ?), (?, ?, ?, ?, ?, ?, ?, ?, ?, ?), (?, ?, ?, ?, ?, ?, ?, ?, ?, ?)\n",
      "2023-10-03 17:07:10,554 INFO sqlalchemy.engine.Engine [insertmanyvalues 14/34 (unordered)] (25, 'No', 61.05, '1540.2', 'No', 2717, 1, 0, 2, 79, 2, 'Yes', 85.7, '169.8', 'Yes', 2718, 0, 0, 2, 33, 49, 'Yes', 106.65, '5168.1', 'No', 2719, 1, 2, 1, 126, 63, 'No', 108.25, '6780.1', 'No', 2720, 0, 3, 2, 52, 4, 'No', 20.4, '94.5', 'No', 2721, 0, 3, 8, 10 ... 1990 parameters truncated ... 68, 'Yes', 24.0, '1664.3', 'No', 2921, 2, 2, 4, 44, 12, 'No', 19.4, '198.1', 'No', 2922, 0, 2, 6, 10, 71, 'Yes', 86.1, '6045.9', 'No', 2923, 2, 2, 5, 87, 40, 'Yes', 102.65, '4108.15', 'No', 2924, 0, 1, 1, 11, 64, 'Yes', 92.85, '5980.75', 'No', 2925, 1, 0, 6, 173)\n",
      "2023-10-03 17:07:10,565 INFO sqlalchemy.engine.Engine INSERT INTO telco_churn_exp2.customer (tenure, [PaperlessBilling], [MonthlyCharges], [TotalCharges], [Churn], customer_id, contract_type_id, payment_method_type_id, demographics_id, service_id) VALUES (?, ?, ?, ?, ?, ?, ?, ?, ?, ?), (?, ?, ?, ?, ?, ? ... 6537 characters truncated ... , ?), (?, ?, ?, ?, ?, ?, ?, ?, ?, ?), (?, ?, ?, ?, ?, ?, ?, ?, ?, ?), (?, ?, ?, ?, ?, ?, ?, ?, ?, ?)\n",
      "2023-10-03 17:07:10,566 INFO sqlalchemy.engine.Engine [insertmanyvalues 15/34 (unordered)] (53, 'No', 97.75, '5043.2', 'No', 2926, 1, 2, 5, 246, 12, 'Yes', 83.8, '1029.75', 'Yes', 2927, 0, 1, 7, 131, 53, 'Yes', 54.45, '2854.55', 'Yes', 2928, 0, 0, 7, 280, 72, 'Yes', 97.95, '7114.25', 'No', 2929, 2, 3, 5, 182, 46, 'No', 19.95, '907.05', 'No', 2930, 2, 0, 1, 10 ... 1990 parameters truncated ... 1, 'No', 19.8, '19.8', 'Yes', 3130, 0, 1, 1, 10, 13, 'Yes', 72.8, '930.05', 'No', 3131, 0, 0, 4, 252, 6, 'No', 18.95, '110.15', 'No', 3132, 0, 1, 1, 10, 4, 'Yes', 76.65, '333.6', 'Yes', 3133, 0, 2, 2, 116, 5, 'Yes', 99.15, '465.05', 'Yes', 3134, 0, 1, 6, 148)\n",
      "2023-10-03 17:07:10,580 INFO sqlalchemy.engine.Engine INSERT INTO telco_churn_exp2.customer (tenure, [PaperlessBilling], [MonthlyCharges], [TotalCharges], [Churn], customer_id, contract_type_id, payment_method_type_id, demographics_id, service_id) VALUES (?, ?, ?, ?, ?, ?, ?, ?, ?, ?), (?, ?, ?, ?, ?, ? ... 6537 characters truncated ... , ?), (?, ?, ?, ?, ?, ?, ?, ?, ?, ?), (?, ?, ?, ?, ?, ?, ?, ?, ?, ?), (?, ?, ?, ?, ?, ?, ?, ?, ?, ?)\n",
      "2023-10-03 17:07:10,586 INFO sqlalchemy.engine.Engine [insertmanyvalues 16/34 (unordered)] (15, 'No', 101.75, '1669.4', 'No', 3135, 0, 0, 0, 267, 47, 'No', 75.45, '3545.1', 'No', 3136, 0, 3, 2, 81, 8, 'No', 64.1, '504.05', 'No', 3137, 0, 1, 2, 188, 17, 'Yes', 25.65, '440.2', 'No', 3138, 0, 1, 1, 67, 15, 'No', 75.1, '1151.55', 'No', 3139, 0, 1, 4, 81 ... 1990 parameters truncated ... 12, 'Yes', 85.05, '999.8', 'No', 3339, 0, 3, 5, 159, 54, 'No', 44.1, '2369.7', 'No', 3340, 1, 2, 2, 265, 68, 'No', 90.2, '6297.65', 'No', 3341, 2, 3, 0, 158, 4, 'No', 50.85, '239.55', 'Yes', 3342, 0, 1, 6, 160, 1, 'No', 59.2, '59.2', 'Yes', 3343, 0, 0, 8, 240)\n",
      "2023-10-03 17:07:10,595 INFO sqlalchemy.engine.Engine INSERT INTO telco_churn_exp2.customer (tenure, [PaperlessBilling], [MonthlyCharges], [TotalCharges], [Churn], customer_id, contract_type_id, payment_method_type_id, demographics_id, service_id) VALUES (?, ?, ?, ?, ?, ?, ?, ?, ?, ?), (?, ?, ?, ?, ?, ? ... 6537 characters truncated ... , ?), (?, ?, ?, ?, ?, ?, ?, ?, ?, ?), (?, ?, ?, ?, ?, ?, ?, ?, ?, ?), (?, ?, ?, ?, ?, ?, ?, ?, ?, ?)\n",
      "2023-10-03 17:07:10,596 INFO sqlalchemy.engine.Engine [insertmanyvalues 17/34 (unordered)] (27, 'No', 53.45, '1461.45', 'No', 3344, 0, 1, 1, 156, 21, 'Yes', 19.95, '416.4', 'No', 3345, 0, 1, 1, 10, 13, 'Yes', 83.2, '1060.6', 'Yes', 3346, 0, 0, 1, 197, 64, 'No', 74.65, '4869.35', 'No', 3347, 0, 3, 11, 91, 1, 'Yes', 54.9, '54.9', 'Yes', 3348, 0, 0, 2, 2 ... 1990 parameters truncated ... 5, 'Yes', 89.8, '502.6', 'Yes', 3548, 0, 0, 7, 122, 30, 'Yes', 90.5, '2595.85', 'No', 3549, 0, 3, 7, 297, 63, 'No', 90.45, '5825.5', 'No', 3550, 1, 3, 1, 122, 1, 'Yes', 50.75, '50.75', 'Yes', 3551, 0, 0, 1, 29, 53, 'Yes', 84.6, '4449.75', 'No', 3552, 1, 0, 8, 103)\n",
      "2023-10-03 17:07:10,604 INFO sqlalchemy.engine.Engine INSERT INTO telco_churn_exp2.customer (tenure, [PaperlessBilling], [MonthlyCharges], [TotalCharges], [Churn], customer_id, contract_type_id, payment_method_type_id, demographics_id, service_id) VALUES (?, ?, ?, ?, ?, ?, ?, ?, ?, ?), (?, ?, ?, ?, ?, ? ... 6537 characters truncated ... , ?), (?, ?, ?, ?, ?, ?, ?, ?, ?, ?), (?, ?, ?, ?, ?, ?, ?, ?, ?, ?), (?, ?, ?, ?, ?, ?, ?, ?, ?, ?)\n",
      "2023-10-03 17:07:10,604 INFO sqlalchemy.engine.Engine [insertmanyvalues 18/34 (unordered)] (14, 'Yes', 89.65, '1208.35', 'Yes', 3553, 0, 3, 6, 281, 21, 'Yes', 99.15, '1956.4', 'No', 3554, 0, 2, 2, 148, 17, 'No', 19.95, '310.6', 'No', 3555, 1, 1, 1, 10, 16, 'No', 20.5, '290.55', 'No', 3556, 2, 1, 4, 10, 35, 'Yes', 62.1, '2096.1', 'No', 3557, 0, 0, 2, 240 ... 1990 parameters truncated ... 1, 'Yes', 95.0, '95', 'Yes', 3757, 0, 0, 5, 235, 1, 'No', 25.2, '25.2', 'Yes', 3758, 0, 1, 2, 67, 52, 'Yes', 80.85, '4079.55', 'No', 3759, 1, 0, 13, 210, 41, 'Yes', 98.4, '4187.75', 'Yes', 3760, 0, 0, 7, 5, 43, 'Yes', 56.35, '2391.15', 'No', 3761, 1, 1, 5, 105)\n",
      "2023-10-03 17:07:10,611 INFO sqlalchemy.engine.Engine INSERT INTO telco_churn_exp2.customer (tenure, [PaperlessBilling], [MonthlyCharges], [TotalCharges], [Churn], customer_id, contract_type_id, payment_method_type_id, demographics_id, service_id) VALUES (?, ?, ?, ?, ?, ?, ?, ?, ?, ?), (?, ?, ?, ?, ?, ? ... 6537 characters truncated ... , ?), (?, ?, ?, ?, ?, ?, ?, ?, ?, ?), (?, ?, ?, ?, ?, ?, ?, ?, ?, ?), (?, ?, ?, ?, ?, ?, ?, ?, ?, ?)\n",
      "2023-10-03 17:07:10,611 INFO sqlalchemy.engine.Engine [insertmanyvalues 19/34 (unordered)] (47, 'No', 19.3, '890.5', 'No', 3762, 2, 2, 6, 10, 3, 'No', 50.4, '137.25', 'No', 3763, 0, 2, 1, 160, 66, 'No', 79.4, '5154.6', 'Yes', 3764, 2, 3, 13, 31, 55, 'Yes', 55.25, '3119.9', 'No', 3765, 2, 3, 4, 15, 29, 'No', 19.1, '529.5', 'No', 3766, 1, 1, 1, 10 ... 1990 parameters truncated ... 71, 'No', 24.35, '1654.6', 'No', 3966, 2, 1, 3, 44, 1, 'Yes', 24.25, '24.25', 'Yes', 3967, 0, 0, 1, 67, 72, 'No', 25.1, '1857.85', 'No', 3968, 2, 2, 6, 44, 16, 'Yes', 54.55, '825.1', 'No', 3969, 0, 2, 10, 2, 66, 'No', 96.6, '6424.25', 'No', 3970, 2, 1, 5, 23)\n",
      "2023-10-03 17:07:10,619 INFO sqlalchemy.engine.Engine INSERT INTO telco_churn_exp2.customer (tenure, [PaperlessBilling], [MonthlyCharges], [TotalCharges], [Churn], customer_id, contract_type_id, payment_method_type_id, demographics_id, service_id) VALUES (?, ?, ?, ?, ?, ?, ?, ?, ?, ?), (?, ?, ?, ?, ?, ? ... 6537 characters truncated ... , ?), (?, ?, ?, ?, ?, ?, ?, ?, ?, ?), (?, ?, ?, ?, ?, ?, ?, ?, ?, ?), (?, ?, ?, ?, ?, ?, ?, ?, ?, ?)\n",
      "2023-10-03 17:07:10,619 INFO sqlalchemy.engine.Engine [insertmanyvalues 20/34 (unordered)] (11, 'Yes', 76.5, '837.95', 'Yes', 3971, 0, 0, 2, 72, 51, 'Yes', 81.15, '4126.2', 'No', 3972, 1, 3, 1, 31, 8, 'Yes', 38.5, '330.8', 'No', 3973, 0, 0, 8, 303, 14, 'Yes', 92.9, '1337.45', 'No', 3974, 0, 0, 1, 132, 4, 'Yes', 93.5, '362.2', 'Yes', 3975, 0, 0, 2, 246 ... 1990 parameters truncated ... 23, 'No', 20.15, '405.6', 'No', 4175, 1, 2, 1, 10, 10, 'No', 19.75, '208.25', 'No', 4176, 0, 3, 1, 10, 71, 'Yes', 25.95, '1801.9', 'No', 4177, 2, 3, 0, 44, 45, 'Yes', 70.05, '3062.45', 'No', 4178, 0, 0, 11, 82, 70, 'No', 24.05, '1764.75', 'No', 4179, 2, 1, 6, 44)\n",
      "2023-10-03 17:07:10,626 INFO sqlalchemy.engine.Engine INSERT INTO telco_churn_exp2.customer (tenure, [PaperlessBilling], [MonthlyCharges], [TotalCharges], [Churn], customer_id, contract_type_id, payment_method_type_id, demographics_id, service_id) VALUES (?, ?, ?, ?, ?, ?, ?, ?, ?, ?), (?, ?, ?, ?, ?, ? ... 6537 characters truncated ... , ?), (?, ?, ?, ?, ?, ?, ?, ?, ?, ?), (?, ?, ?, ?, ?, ?, ?, ?, ?, ?), (?, ?, ?, ?, ?, ?, ?, ?, ?, ?)\n",
      "2023-10-03 17:07:10,627 INFO sqlalchemy.engine.Engine [insertmanyvalues 21/34 (unordered)] (22, 'Yes', 84.75, '1816.75', 'No', 4180, 0, 0, 8, 33, 52, 'No', 23.05, '1255.1', 'No', 4181, 2, 1, 6, 44, 55, 'Yes', 104.15, '5743.05', 'Yes', 4182, 1, 0, 5, 8, 65, 'No', 59.95, '3921.1', 'No', 4183, 2, 3, 2, 222, 72, 'No', 19.55, '1463.45', 'No', 4184, 2, 2, 6, 10 ... 1990 parameters truncated ... 39, 'Yes', 48.95, '1880.85', 'Yes', 4384, 0, 3, 1, 261, 32, 'No', 62.45, '2045.55', 'No', 4385, 0, 2, 6, 316, 24, 'Yes', 89.55, '2187.15', 'No', 4386, 0, 0, 1, 16, 6, 'Yes', 83.55, '477.55', 'Yes', 4387, 0, 3, 4, 159, 37, 'Yes', 78.9, '2976.95', 'No', 4388, 0, 3, 2, 31)\n",
      "2023-10-03 17:07:10,634 INFO sqlalchemy.engine.Engine INSERT INTO telco_churn_exp2.customer (tenure, [PaperlessBilling], [MonthlyCharges], [TotalCharges], [Churn], customer_id, contract_type_id, payment_method_type_id, demographics_id, service_id) VALUES (?, ?, ?, ?, ?, ?, ?, ?, ?, ?), (?, ?, ?, ?, ?, ? ... 6537 characters truncated ... , ?), (?, ?, ?, ?, ?, ?, ?, ?, ?, ?), (?, ?, ?, ?, ?, ?, ?, ?, ?, ?), (?, ?, ?, ?, ?, ?, ?, ?, ?, ?)\n",
      "2023-10-03 17:07:10,634 INFO sqlalchemy.engine.Engine [insertmanyvalues 22/34 (unordered)] (8, 'No', 20.35, '178.7', 'No', 4389, 0, 1, 3, 10, 72, 'Yes', 71.45, '5025.85', 'No', 4390, 2, 2, 6, 268, 71, 'No', 46.35, '3353.4', 'No', 4391, 2, 3, 10, 101, 16, 'Yes', 94.65, '1461.15', 'No', 4392, 0, 2, 0, 111, 57, 'Yes', 49.9, '2782.4', 'No', 4393, 0, 2, 0, 302 ... 1990 parameters truncated ... 65, 'No', 45.25, '2933.95', 'No', 4593, 2, 1, 8, 319, 54, 'Yes', 79.5, '4370.25', 'Yes', 4594, 0, 0, 11, 39, 7, 'No', 20.25, '144.35', 'No', 4595, 0, 1, 4, 10, 72, 'No', 64.75, '4804.75', 'No', 4596, 2, 2, 0, 63, 21, 'No', 54.6, '1125.2', 'No', 4597, 0, 2, 5, 105)\n",
      "2023-10-03 17:07:10,642 INFO sqlalchemy.engine.Engine INSERT INTO telco_churn_exp2.customer (tenure, [PaperlessBilling], [MonthlyCharges], [TotalCharges], [Churn], customer_id, contract_type_id, payment_method_type_id, demographics_id, service_id) VALUES (?, ?, ?, ?, ?, ?, ?, ?, ?, ?), (?, ?, ?, ?, ?, ? ... 6537 characters truncated ... , ?), (?, ?, ?, ?, ?, ?, ?, ?, ?, ?), (?, ?, ?, ?, ?, ?, ?, ?, ?, ?), (?, ?, ?, ?, ?, ?, ?, ?, ?, ?)\n",
      "2023-10-03 17:07:10,642 INFO sqlalchemy.engine.Engine [insertmanyvalues 23/34 (unordered)] (2, 'Yes', 20.7, '39.85', 'No', 4598, 0, 2, 2, 10, 4, 'Yes', 94.75, '422.4', 'No', 4599, 0, 0, 7, 24, 3, 'Yes', 79.65, '251.75', 'Yes', 4600, 0, 2, 5, 174, 72, 'No', 115.8, '8332.15', 'No', 4601, 2, 3, 5, 13, 6, 'Yes', 49.45, '314.6', 'No', 4602, 0, 0, 2, 9 ... 1990 parameters truncated ... 56, 'Yes', 54.05, '2959.8', 'No', 4802, 1, 2, 5, 128, 72, 'Yes', 104.9, '7559.55', 'No', 4803, 2, 3, 4, 12, 1, 'Yes', 53.95, '53.95', 'Yes', 4804, 0, 0, 1, 156, 72, 'Yes', 97.25, '7133.1', 'No', 4805, 1, 3, 10, 20, 22, 'No', 83.05, '1799.3', 'No', 4806, 0, 0, 1, 33)\n",
      "2023-10-03 17:07:10,650 INFO sqlalchemy.engine.Engine INSERT INTO telco_churn_exp2.customer (tenure, [PaperlessBilling], [MonthlyCharges], [TotalCharges], [Churn], customer_id, contract_type_id, payment_method_type_id, demographics_id, service_id) VALUES (?, ?, ?, ?, ?, ?, ?, ?, ?, ?), (?, ?, ?, ?, ?, ? ... 6537 characters truncated ... , ?), (?, ?, ?, ?, ?, ?, ?, ?, ?, ?), (?, ?, ?, ?, ?, ?, ?, ?, ?, ?), (?, ?, ?, ?, ?, ?, ?, ?, ?, ?)\n",
      "2023-10-03 17:07:10,651 INFO sqlalchemy.engine.Engine [insertmanyvalues 24/34 (unordered)] (8, 'Yes', 105.5, '829.55', 'Yes', 4807, 0, 0, 11, 11, 16, 'Yes', 81.0, '1312.15', 'Yes', 4808, 0, 0, 8, 34, 39, 'No', 41.1, '1597.05', 'No', 4809, 0, 2, 2, 187, 12, 'Yes', 45.0, '524.35', 'No', 4810, 0, 2, 2, 26, 54, 'Yes', 74.55, '4191.45', 'No', 4811, 2, 2, 5, 54 ... 1990 parameters truncated ... 6, 'No', 94.5, '575.45', 'Yes', 5011, 0, 1, 3, 24, 9, 'Yes', 101.5, '906.85', 'No', 5012, 0, 0, 4, 148, 12, 'Yes', 89.15, '1057.55', 'No', 5013, 0, 0, 2, 122, 1, 'Yes', 19.4, '19.4', 'No', 5014, 0, 1, 2, 10, 48, 'No', 29.9, '1388.75', 'No', 5015, 1, 2, 12, 0)\n",
      "2023-10-03 17:07:10,658 INFO sqlalchemy.engine.Engine INSERT INTO telco_churn_exp2.customer (tenure, [PaperlessBilling], [MonthlyCharges], [TotalCharges], [Churn], customer_id, contract_type_id, payment_method_type_id, demographics_id, service_id) VALUES (?, ?, ?, ?, ?, ?, ?, ?, ?, ?), (?, ?, ?, ?, ?, ? ... 6537 characters truncated ... , ?), (?, ?, ?, ?, ?, ?, ?, ?, ?, ?), (?, ?, ?, ?, ?, ?, ?, ?, ?, ?), (?, ?, ?, ?, ?, ?, ?, ?, ?, ?)\n",
      "2023-10-03 17:07:10,658 INFO sqlalchemy.engine.Engine [insertmanyvalues 25/34 (unordered)] (20, 'No', 78.8, '1641.3', 'No', 5016, 0, 0, 1, 34, 16, 'Yes', 85.35, '1375.15', 'Yes', 5017, 0, 3, 9, 33, 2, 'Yes', 79.65, '152.7', 'Yes', 5018, 0, 1, 2, 34, 10, 'Yes', 19.3, '185.2', 'No', 5019, 1, 1, 2, 10, 2, 'Yes', 79.6, '195.05', 'Yes', 5020, 0, 0, 11, 88 ... 1990 parameters truncated ... 65, 'Yes', 105.85, '6725.5', 'No', 5220, 2, 3, 9, 56, 55, 'Yes', 64.2, '3627.3', 'No', 5221, 1, 0, 1, 225, 20, 'Yes', 88.7, '1761.45', 'Yes', 5222, 0, 0, 1, 179, 19, 'Yes', 87.7, '1725.95', 'No', 5223, 1, 3, 1, 312, 45, 'Yes', 89.3, '4192.15', 'No', 5224, 0, 3, 2, 155)\n",
      "2023-10-03 17:07:10,666 INFO sqlalchemy.engine.Engine INSERT INTO telco_churn_exp2.customer (tenure, [PaperlessBilling], [MonthlyCharges], [TotalCharges], [Churn], customer_id, contract_type_id, payment_method_type_id, demographics_id, service_id) VALUES (?, ?, ?, ?, ?, ?, ?, ?, ?, ?), (?, ?, ?, ?, ?, ? ... 6537 characters truncated ... , ?), (?, ?, ?, ?, ?, ?, ?, ?, ?, ?), (?, ?, ?, ?, ?, ?, ?, ?, ?, ?), (?, ?, ?, ?, ?, ?, ?, ?, ?, ?)\n",
      "2023-10-03 17:07:10,666 INFO sqlalchemy.engine.Engine [insertmanyvalues 26/34 (unordered)] (70, 'Yes', 20.15, '1411.2', 'No', 5225, 2, 3, 6, 10, 2, 'Yes', 79.75, '164.5', 'Yes', 5226, 0, 0, 2, 34, 27, 'Yes', 94.55, '2724.6', 'Yes', 5227, 0, 1, 2, 41, 12, 'Yes', 20.05, '264.55', 'No', 5228, 2, 0, 0, 10, 72, 'No', 67.2, '4671.7', 'No', 5229, 2, 3, 3, 154 ... 1990 parameters truncated ... 67, 'No', 103.15, '6895.5', 'No', 5429, 2, 2, 4, 56, 1, 'Yes', 84.65, '84.65', 'Yes', 5430, 0, 1, 1, 89, 71, 'No', 95.65, '6856.95', 'No', 5431, 1, 1, 0, 69, 37, 'No', 75.1, '2658.8', 'No', 5432, 1, 2, 6, 54, 60, 'Yes', 61.35, '3766.2', 'No', 5433, 2, 1, 5, 19)\n",
      "2023-10-03 17:07:10,673 INFO sqlalchemy.engine.Engine INSERT INTO telco_churn_exp2.customer (tenure, [PaperlessBilling], [MonthlyCharges], [TotalCharges], [Churn], customer_id, contract_type_id, payment_method_type_id, demographics_id, service_id) VALUES (?, ?, ?, ?, ?, ?, ?, ?, ?, ?), (?, ?, ?, ?, ?, ? ... 6537 characters truncated ... , ?), (?, ?, ?, ?, ?, ?, ?, ?, ?, ?), (?, ?, ?, ?, ?, ?, ?, ?, ?, ?), (?, ?, ?, ?, ?, ?, ?, ?, ?, ?)\n",
      "2023-10-03 17:07:10,673 INFO sqlalchemy.engine.Engine [insertmanyvalues 27/34 (unordered)] (1, 'Yes', 69.55, '69.55', 'Yes', 5434, 0, 0, 9, 4, 6, 'No', 19.7, '129.55', 'No', 5435, 0, 3, 2, 10, 13, 'Yes', 31.05, '347.25', 'Yes', 5436, 0, 0, 2, 0, 11, 'No', 51.0, '581.7', 'No', 5437, 0, 2, 6, 9, 7, 'Yes', 51.0, '354.05', 'Yes', 5438, 0, 1, 1, 9 ... 1990 parameters truncated ... 63, 'Yes', 71.9, '4479.2', 'No', 5638, 2, 2, 1, 238, 44, 'Yes', 77.55, '3471.1', 'No', 5639, 1, 1, 8, 317, 4, 'Yes', 19.85, '63', 'No', 5640, 0, 0, 1, 10, 1, 'Yes', 70.25, '70.25', 'Yes', 5641, 0, 0, 2, 4, 37, 'Yes', 95.25, '3314.15', 'No', 5642, 0, 0, 6, 41)\n",
      "2023-10-03 17:07:10,681 INFO sqlalchemy.engine.Engine INSERT INTO telco_churn_exp2.customer (tenure, [PaperlessBilling], [MonthlyCharges], [TotalCharges], [Churn], customer_id, contract_type_id, payment_method_type_id, demographics_id, service_id) VALUES (?, ?, ?, ?, ?, ?, ?, ?, ?, ?), (?, ?, ?, ?, ?, ? ... 6537 characters truncated ... , ?), (?, ?, ?, ?, ?, ?, ?, ?, ?, ?), (?, ?, ?, ?, ?, ?, ?, ?, ?, ?), (?, ?, ?, ?, ?, ?, ?, ?, ?, ?)\n",
      "2023-10-03 17:07:10,681 INFO sqlalchemy.engine.Engine [insertmanyvalues 28/34 (unordered)] (10, 'Yes', 84.6, '865.55', 'Yes', 5643, 0, 3, 11, 229, 34, 'Yes', 25.05, '852.7', 'No', 5644, 0, 2, 1, 67, 35, 'No', 53.15, '1930.9', 'No', 5645, 1, 3, 5, 254, 4, 'No', 20.15, '91.4', 'No', 5646, 0, 0, 0, 10, 39, 'Yes', 101.25, '3949.15', 'No', 5647, 0, 0, 9, 226 ... 1990 parameters truncated ... 5, 'Yes', 25.9, '135', 'Yes', 5847, 0, 2, 4, 44, 24, 'Yes', 55.65, '1400.55', 'Yes', 5848, 0, 2, 1, 129, 1, 'Yes', 69.65, '69.65', 'Yes', 5849, 0, 0, 8, 4, 18, 'Yes', 75.4, '1380.4', 'No', 5850, 0, 0, 2, 81, 10, 'Yes', 100.6, '1060.2', 'Yes', 5851, 0, 0, 2, 5)\n",
      "2023-10-03 17:07:10,690 INFO sqlalchemy.engine.Engine INSERT INTO telco_churn_exp2.customer (tenure, [PaperlessBilling], [MonthlyCharges], [TotalCharges], [Churn], customer_id, contract_type_id, payment_method_type_id, demographics_id, service_id) VALUES (?, ?, ?, ?, ?, ?, ?, ?, ?, ?), (?, ?, ?, ?, ?, ? ... 6537 characters truncated ... , ?), (?, ?, ?, ?, ?, ?, ?, ?, ?, ?), (?, ?, ?, ?, ?, ?, ?, ?, ?, ?), (?, ?, ?, ?, ?, ?, ?, ?, ?, ?)\n",
      "2023-10-03 17:07:10,691 INFO sqlalchemy.engine.Engine [insertmanyvalues 29/34 (unordered)] (65, 'No', 71.0, '4386.2', 'No', 5852, 2, 2, 0, 264, 1, 'Yes', 86.0, '86', 'Yes', 5853, 0, 0, 11, 159, 53, 'Yes', 106.95, '5785.5', 'Yes', 5854, 1, 3, 2, 14, 3, 'No', 21.2, '52.05', 'No', 5855, 1, 1, 1, 10, 33, 'Yes', 61.05, '2018.4', 'No', 5856, 2, 1, 5, 19 ... 1990 parameters truncated ... 25, 'No', 54.1, '1373', 'No', 6056, 0, 0, 0, 96, 1, 'No', 29.7, '29.7', 'Yes', 6057, 0, 1, 1, 7, 1, 'Yes', 49.8, '49.8', 'No', 6058, 0, 3, 1, 9, 59, 'No', 101.1, '6039.9', 'Yes', 6059, 0, 0, 0, 20, 64, 'Yes', 24.4, '1548.65', 'No', 6060, 2, 2, 13, 44)\n",
      "2023-10-03 17:07:10,702 INFO sqlalchemy.engine.Engine INSERT INTO telco_churn_exp2.customer (tenure, [PaperlessBilling], [MonthlyCharges], [TotalCharges], [Churn], customer_id, contract_type_id, payment_method_type_id, demographics_id, service_id) VALUES (?, ?, ?, ?, ?, ?, ?, ?, ?, ?), (?, ?, ?, ?, ?, ? ... 6537 characters truncated ... , ?), (?, ?, ?, ?, ?, ?, ?, ?, ?, ?), (?, ?, ?, ?, ?, ?, ?, ?, ?, ?), (?, ?, ?, ?, ?, ?, ?, ?, ?, ?)\n",
      "2023-10-03 17:07:10,703 INFO sqlalchemy.engine.Engine [insertmanyvalues 30/34 (unordered)] (36, 'Yes', 95.0, '3440.25', 'No', 6061, 0, 2, 5, 41, 3, 'Yes', 50.65, '151.3', 'Yes', 6062, 0, 1, 2, 160, 61, 'Yes', 69.9, '4226.7', 'No', 6063, 2, 1, 5, 183, 26, 'Yes', 39.95, '1023.75', 'No', 6064, 1, 2, 3, 119, 1, 'Yes', 55.4, '55.4', 'Yes', 6065, 0, 0, 2, 53 ... 1990 parameters truncated ... 67, 'No', 116.2, '7752.3', 'Yes', 6265, 2, 3, 1, 13, 71, 'Yes', 93.7, '6585.35', 'Yes', 6266, 2, 2, 0, 41, 59, 'No', 79.85, '4786.1', 'No', 6267, 1, 3, 2, 237, 39, 'No', 100.0, '3835.55', 'No', 6268, 1, 0, 4, 5, 21, 'No', 19.6, '397', 'No', 6269, 2, 1, 3, 10)\n",
      "2023-10-03 17:07:10,715 INFO sqlalchemy.engine.Engine INSERT INTO telco_churn_exp2.customer (tenure, [PaperlessBilling], [MonthlyCharges], [TotalCharges], [Churn], customer_id, contract_type_id, payment_method_type_id, demographics_id, service_id) VALUES (?, ?, ?, ?, ?, ?, ?, ?, ?, ?), (?, ?, ?, ?, ?, ? ... 6537 characters truncated ... , ?), (?, ?, ?, ?, ?, ?, ?, ?, ?, ?), (?, ?, ?, ?, ?, ?, ?, ?, ?, ?), (?, ?, ?, ?, ?, ?, ?, ?, ?, ?)\n",
      "2023-10-03 17:07:10,716 INFO sqlalchemy.engine.Engine [insertmanyvalues 31/34 (unordered)] (1, 'No', 19.7, '19.7', 'Yes', 6270, 0, 1, 1, 10, 48, 'No', 20.2, '1027.25', 'No', 6271, 2, 2, 6, 10, 31, 'Yes', 50.4, '1580.1', 'No', 6272, 1, 3, 9, 306, 64, 'No', 113.35, '7222.75', 'No', 6273, 1, 0, 6, 13, 46, 'Yes', 80.0, '3769.7', 'No', 6274, 0, 2, 4, 39 ... 1990 parameters truncated ... 1, 'Yes', 82.3, '82.3', 'Yes', 6474, 0, 0, 2, 59, 21, 'No', 35.1, '770.4', 'No', 6475, 2, 1, 2, 151, 67, 'Yes', 105.7, '6816.95', 'No', 6476, 1, 2, 0, 11, 44, 'No', 56.25, '2419.55', 'No', 6477, 0, 2, 6, 156, 70, 'No', 60.35, '4138.7', 'No', 6478, 1, 0, 4, 120)\n",
      "2023-10-03 17:07:10,726 INFO sqlalchemy.engine.Engine INSERT INTO telco_churn_exp2.customer (tenure, [PaperlessBilling], [MonthlyCharges], [TotalCharges], [Churn], customer_id, contract_type_id, payment_method_type_id, demographics_id, service_id) VALUES (?, ?, ?, ?, ?, ?, ?, ?, ?, ?), (?, ?, ?, ?, ?, ? ... 6537 characters truncated ... , ?), (?, ?, ?, ?, ?, ?, ?, ?, ?, ?), (?, ?, ?, ?, ?, ?, ?, ?, ?, ?), (?, ?, ?, ?, ?, ?, ?, ?, ?, ?)\n",
      "2023-10-03 17:07:10,727 INFO sqlalchemy.engine.Engine [insertmanyvalues 32/34 (unordered)] (3, 'No', 79.25, '267.6', 'Yes', 6479, 0, 0, 1, 34, 56, 'Yes', 59.8, '3457.45', 'No', 6480, 2, 2, 4, 130, 13, 'Yes', 84.6, '1115.2', 'Yes', 6481, 0, 0, 2, 33, 58, 'Yes', 93.4, '5435.6', 'Yes', 6482, 0, 2, 6, 189, 42, 'Yes', 94.2, '4186.3', 'Yes', 6483, 0, 0, 6, 41 ... 1990 parameters truncated ... 28, 'No', 85.45, '2289.9', 'No', 6683, 0, 0, 4, 197, 68, 'Yes', 95.9, '6503.2', 'No', 6684, 0, 0, 7, 173, 13, 'No', 100.75, '1313.25', 'No', 6685, 0, 0, 1, 226, 11, 'Yes', 89.2, '990.3', 'No', 6686, 0, 0, 2, 179, 3, 'Yes', 74.1, '228', 'Yes', 6687, 0, 3, 0, 72)\n",
      "2023-10-03 17:07:10,738 INFO sqlalchemy.engine.Engine INSERT INTO telco_churn_exp2.customer (tenure, [PaperlessBilling], [MonthlyCharges], [TotalCharges], [Churn], customer_id, contract_type_id, payment_method_type_id, demographics_id, service_id) VALUES (?, ?, ?, ?, ?, ?, ?, ?, ?, ?), (?, ?, ?, ?, ?, ? ... 6537 characters truncated ... , ?), (?, ?, ?, ?, ?, ?, ?, ?, ?, ?), (?, ?, ?, ?, ?, ?, ?, ?, ?, ?), (?, ?, ?, ?, ?, ?, ?, ?, ?, ?)\n",
      "2023-10-03 17:07:10,739 INFO sqlalchemy.engine.Engine [insertmanyvalues 33/34 (unordered)] (57, 'No', 100.6, '5746.15', 'Yes', 6688, 0, 0, 10, 5, 3, 'No', 75.0, '209.1', 'Yes', 6689, 0, 1, 1, 72, 72, 'No', 25.75, '1864.2', 'No', 6690, 2, 3, 5, 44, 70, 'Yes', 84.1, '5979.7', 'No', 6691, 2, 0, 4, 103, 49, 'No', 79.3, '3902.45', 'No', 6692, 2, 2, 6, 273 ... 1990 parameters truncated ... 15, 'No', 18.8, '294.95', 'No', 6892, 1, 1, 5, 10, 56, 'Yes', 73.85, '4092.85', 'Yes', 6893, 0, 0, 2, 116, 5, 'No', 64.4, '316.9', 'No', 6894, 0, 3, 4, 63, 48, 'Yes', 55.8, '2651.2', 'No', 6895, 1, 3, 4, 114, 25, 'No', 20.05, '471.7', 'No', 6896, 0, 3, 8, 10)\n",
      "2023-10-03 17:07:10,748 INFO sqlalchemy.engine.Engine INSERT INTO telco_churn_exp2.customer (tenure, [PaperlessBilling], [MonthlyCharges], [TotalCharges], [Churn], customer_id, contract_type_id, payment_method_type_id, demographics_id, service_id) VALUES (?, ?, ?, ?, ?, ?, ?, ?, ?, ?), (?, ?, ?, ?, ?, ? ... 3465 characters truncated ... , ?), (?, ?, ?, ?, ?, ?, ?, ?, ?, ?), (?, ?, ?, ?, ?, ?, ?, ?, ?, ?), (?, ?, ?, ?, ?, ?, ?, ?, ?, ?)\n",
      "2023-10-03 17:07:10,748 INFO sqlalchemy.engine.Engine [insertmanyvalues 34/34 (unordered)] (3, 'Yes', 75.15, '216.75', 'Yes', 6897, 0, 3, 0, 72, 58, 'No', 99.15, '5720.95', 'No', 6898, 1, 2, 1, 37, 10, 'Yes', 56.75, '503.25', 'No', 6899, 0, 2, 1, 53, 1, 'Yes', 69.6, '69.6', 'Yes', 6900, 0, 0, 1, 4, 71, 'Yes', 104.15, '7365.3', 'No', 6901, 2, 3, 5, 126 ... 1030 parameters truncated ... 24, 'Yes', 84.8, '1990.5', 'No', 7005, 1, 1, 4, 61, 72, 'Yes', 103.2, '7362.9', 'No', 7006, 1, 3, 6, 11, 11, 'Yes', 29.6, '346.45', 'No', 7007, 0, 0, 6, 7, 4, 'Yes', 74.4, '306.6', 'Yes', 7008, 0, 1, 10, 72, 66, 'Yes', 105.65, '6844.5', 'No', 7009, 2, 2, 1, 12)\n",
      "2023-10-03 17:07:10,787 INFO sqlalchemy.engine.Engine ALTER TABLE telco_churn_exp2.customer ALTER COLUMN customer_id BIGINT NOT NULL\n",
      "2023-10-03 17:07:10,789 INFO sqlalchemy.engine.Engine [generated in 0.00187s] ()\n",
      "2023-10-03 17:07:10,824 INFO sqlalchemy.engine.Engine ALTER TABLE telco_churn_exp2.customer ADD CONSTRAINT PK_customer PRIMARY KEY (customer_id);\n",
      "2023-10-03 17:07:10,824 INFO sqlalchemy.engine.Engine [generated in 0.00074s] ()\n",
      "2023-10-03 17:07:10,894 INFO sqlalchemy.engine.Engine SELECT [INFORMATION_SCHEMA].[TABLES].[TABLE_NAME] \n",
      "FROM [INFORMATION_SCHEMA].[TABLES] \n",
      "WHERE ([INFORMATION_SCHEMA].[TABLES].[TABLE_TYPE] = CAST(? AS NVARCHAR(max)) OR [INFORMATION_SCHEMA].[TABLES].[TABLE_TYPE] = CAST(? AS NVARCHAR(max))) AND [INFORMATION_SCHEMA].[TABLES].[TABLE_NAME] = CAST(? AS NVARCHAR(max)) AND [INFORMATION_SCHEMA].[TABLES].[TABLE_SCHEMA] = CAST(? AS NVARCHAR(max))\n",
      "2023-10-03 17:07:10,896 INFO sqlalchemy.engine.Engine [cached since 0.6864s ago] ('BASE TABLE', 'VIEW', 'contract_type', 'telco_churn_exp2')\n",
      "2023-10-03 17:07:10,901 INFO sqlalchemy.engine.Engine \n",
      "CREATE TABLE telco_churn_exp2.contract_type (\n",
      "\t[Contract] VARCHAR(max) NULL, \n",
      "\tcontract_type_id BIGINT NULL\n",
      ")\n",
      "\n",
      "\n",
      "2023-10-03 17:07:10,903 INFO sqlalchemy.engine.Engine [no key 0.00132s] ()\n",
      "2023-10-03 17:07:10,912 INFO sqlalchemy.engine.Engine INSERT INTO telco_churn_exp2.contract_type ([Contract], contract_type_id) VALUES (?, ?), (?, ?), (?, ?)\n",
      "2023-10-03 17:07:10,913 INFO sqlalchemy.engine.Engine [generated in 0.00030s (insertmanyvalues) 1/1 (unordered)] ('Month-to-month', 0, 'One year', 1, 'Two year', 2)\n",
      "2023-10-03 17:07:10,922 INFO sqlalchemy.engine.Engine ALTER TABLE telco_churn_exp2.contract_type ALTER COLUMN contract_type_id BIGINT NOT NULL\n",
      "2023-10-03 17:07:10,923 INFO sqlalchemy.engine.Engine [generated in 0.00127s] ()\n",
      "2023-10-03 17:07:10,934 INFO sqlalchemy.engine.Engine ALTER TABLE telco_churn_exp2.contract_type ADD CONSTRAINT PK_contract_type PRIMARY KEY (contract_type_id);\n",
      "2023-10-03 17:07:10,935 INFO sqlalchemy.engine.Engine [generated in 0.00183s] ()\n",
      "2023-10-03 17:07:10,956 INFO sqlalchemy.engine.Engine SELECT [INFORMATION_SCHEMA].[TABLES].[TABLE_NAME] \n",
      "FROM [INFORMATION_SCHEMA].[TABLES] \n",
      "WHERE ([INFORMATION_SCHEMA].[TABLES].[TABLE_TYPE] = CAST(? AS NVARCHAR(max)) OR [INFORMATION_SCHEMA].[TABLES].[TABLE_TYPE] = CAST(? AS NVARCHAR(max))) AND [INFORMATION_SCHEMA].[TABLES].[TABLE_NAME] = CAST(? AS NVARCHAR(max)) AND [INFORMATION_SCHEMA].[TABLES].[TABLE_SCHEMA] = CAST(? AS NVARCHAR(max))\n",
      "2023-10-03 17:07:10,958 INFO sqlalchemy.engine.Engine [cached since 0.7481s ago] ('BASE TABLE', 'VIEW', 'payment_method_type', 'telco_churn_exp2')\n",
      "2023-10-03 17:07:10,964 INFO sqlalchemy.engine.Engine \n",
      "CREATE TABLE telco_churn_exp2.payment_method_type (\n",
      "\t[PaymentMethod] VARCHAR(max) NULL, \n",
      "\tpayment_method_type_id BIGINT NULL\n",
      ")\n",
      "\n",
      "\n",
      "2023-10-03 17:07:10,966 INFO sqlalchemy.engine.Engine [no key 0.00173s] ()\n",
      "2023-10-03 17:07:10,977 INFO sqlalchemy.engine.Engine INSERT INTO telco_churn_exp2.payment_method_type ([PaymentMethod], payment_method_type_id) VALUES (?, ?), (?, ?), (?, ?), (?, ?)\n",
      "2023-10-03 17:07:10,979 INFO sqlalchemy.engine.Engine [generated in 0.00042s (insertmanyvalues) 1/1 (unordered)] ('Electronic check', 0, 'Mailed check', 1, 'Bank transfer (automatic)', 2, 'Credit card (automatic)', 3)\n",
      "2023-10-03 17:07:10,993 INFO sqlalchemy.engine.Engine ALTER TABLE telco_churn_exp2.payment_method_type ALTER COLUMN payment_method_type_id BIGINT NOT NULL\n",
      "2023-10-03 17:07:10,994 INFO sqlalchemy.engine.Engine [generated in 0.00188s] ()\n",
      "2023-10-03 17:07:11,007 INFO sqlalchemy.engine.Engine ALTER TABLE telco_churn_exp2.payment_method_type ADD CONSTRAINT PK_payment_method_type PRIMARY KEY (payment_method_type_id);\n",
      "2023-10-03 17:07:11,008 INFO sqlalchemy.engine.Engine [generated in 0.00132s] ()\n",
      "2023-10-03 17:07:11,022 INFO sqlalchemy.engine.Engine SELECT [INFORMATION_SCHEMA].[TABLES].[TABLE_NAME] \n",
      "FROM [INFORMATION_SCHEMA].[TABLES] \n",
      "WHERE ([INFORMATION_SCHEMA].[TABLES].[TABLE_TYPE] = CAST(? AS NVARCHAR(max)) OR [INFORMATION_SCHEMA].[TABLES].[TABLE_TYPE] = CAST(? AS NVARCHAR(max))) AND [INFORMATION_SCHEMA].[TABLES].[TABLE_NAME] = CAST(? AS NVARCHAR(max)) AND [INFORMATION_SCHEMA].[TABLES].[TABLE_SCHEMA] = CAST(? AS NVARCHAR(max))\n",
      "2023-10-03 17:07:11,023 INFO sqlalchemy.engine.Engine [cached since 0.8133s ago] ('BASE TABLE', 'VIEW', 'demographics', 'telco_churn_exp2')\n",
      "2023-10-03 17:07:11,026 INFO sqlalchemy.engine.Engine \n",
      "CREATE TABLE telco_churn_exp2.demographics (\n",
      "\tgender VARCHAR(max) NULL, \n",
      "\t[Partner] VARCHAR(max) NULL, \n",
      "\tdemographics_id BIGINT NULL, \n",
      "\tsenior_citizen_type_id BIGINT NULL, \n",
      "\tdependents_id BIGINT NULL\n",
      ")\n",
      "\n",
      "\n",
      "2023-10-03 17:07:11,027 INFO sqlalchemy.engine.Engine [no key 0.00073s] ()\n",
      "2023-10-03 17:07:11,037 INFO sqlalchemy.engine.Engine INSERT INTO telco_churn_exp2.demographics (gender, [Partner], demographics_id, senior_citizen_type_id, dependents_id) VALUES (?, ?, ?, ?, ?), (?, ?, ?, ?, ?), (?, ?, ?, ?, ?), (?, ?, ?, ?, ?), (?, ?, ?, ?, ?), (?, ?, ?, ?, ?), (?, ?, ?, ?, ?), (?, ?, ?, ?, ?), (?, ?, ?, ?, ?), (?, ?, ?, ?, ?), (?, ?, ?, ?, ?), (?, ?, ?, ?, ?), (?, ?, ?, ?, ?), (?, ?, ?, ?, ?), (?, ?, ?, ?, ?), (?, ?, ?, ?, ?)\n",
      "2023-10-03 17:07:11,039 INFO sqlalchemy.engine.Engine [generated in 0.00063s (insertmanyvalues) 1/1 (unordered)] ('Female', 'Yes', 0, 0, 0, 'Male', 'No', 1, 0, 0, 'Female', 'No', 2, 0, 0, 'Male', 'No', 3, 0, 1, 'Male', 'Yes', 4, 0, 1, 'Male', 'Yes', 5, 0, 0, 'Female', 'Yes', 6, 0, 1, 'Male', 'No', 7, 1, 0, 'Female', 'No', 8, 0, 1, 'Female', 'Yes', 9, 1, 0, 'Male', 'Yes', 10, 1, 0, 'Female', 'No', 11, 1, 0, 'Female', 'Yes', 12, 1, 1, 'Male', 'Yes', 13, 1, 1, 'Male', 'No', 14, 1, 1, 'Female', 'No', 15, 1, 1)\n",
      "2023-10-03 17:07:11,058 INFO sqlalchemy.engine.Engine ALTER TABLE telco_churn_exp2.demographics ALTER COLUMN demographics_id BIGINT NOT NULL\n",
      "2023-10-03 17:07:11,059 INFO sqlalchemy.engine.Engine [generated in 0.00134s] ()\n",
      "2023-10-03 17:07:11,070 INFO sqlalchemy.engine.Engine ALTER TABLE telco_churn_exp2.demographics ADD CONSTRAINT PK_demographics PRIMARY KEY (demographics_id);\n",
      "2023-10-03 17:07:11,071 INFO sqlalchemy.engine.Engine [generated in 0.00134s] ()\n",
      "2023-10-03 17:07:11,087 INFO sqlalchemy.engine.Engine SELECT [INFORMATION_SCHEMA].[TABLES].[TABLE_NAME] \n",
      "FROM [INFORMATION_SCHEMA].[TABLES] \n",
      "WHERE ([INFORMATION_SCHEMA].[TABLES].[TABLE_TYPE] = CAST(? AS NVARCHAR(max)) OR [INFORMATION_SCHEMA].[TABLES].[TABLE_TYPE] = CAST(? AS NVARCHAR(max))) AND [INFORMATION_SCHEMA].[TABLES].[TABLE_NAME] = CAST(? AS NVARCHAR(max)) AND [INFORMATION_SCHEMA].[TABLES].[TABLE_SCHEMA] = CAST(? AS NVARCHAR(max))\n",
      "2023-10-03 17:07:11,088 INFO sqlalchemy.engine.Engine [cached since 0.8787s ago] ('BASE TABLE', 'VIEW', 'senior_citizen_type', 'telco_churn_exp2')\n",
      "2023-10-03 17:07:11,093 INFO sqlalchemy.engine.Engine \n",
      "CREATE TABLE telco_churn_exp2.senior_citizen_type (\n",
      "\t[SeniorCitizen] BIGINT NULL, \n",
      "\tsenior_citizen_type_id BIGINT NULL\n",
      ")\n",
      "\n",
      "\n",
      "2023-10-03 17:07:11,094 INFO sqlalchemy.engine.Engine [no key 0.00117s] ()\n",
      "2023-10-03 17:07:11,103 INFO sqlalchemy.engine.Engine INSERT INTO telco_churn_exp2.senior_citizen_type ([SeniorCitizen], senior_citizen_type_id) VALUES (?, ?), (?, ?)\n",
      "2023-10-03 17:07:11,104 INFO sqlalchemy.engine.Engine [generated in 0.00030s (insertmanyvalues) 1/1 (unordered)] (0, 0, 1, 1)\n",
      "2023-10-03 17:07:11,113 INFO sqlalchemy.engine.Engine ALTER TABLE telco_churn_exp2.senior_citizen_type ALTER COLUMN senior_citizen_type_id BIGINT NOT NULL\n",
      "2023-10-03 17:07:11,114 INFO sqlalchemy.engine.Engine [generated in 0.00133s] ()\n",
      "2023-10-03 17:07:11,124 INFO sqlalchemy.engine.Engine ALTER TABLE telco_churn_exp2.senior_citizen_type ADD CONSTRAINT PK_senior_citizen_type PRIMARY KEY (senior_citizen_type_id);\n",
      "2023-10-03 17:07:11,125 INFO sqlalchemy.engine.Engine [generated in 0.00122s] ()\n",
      "2023-10-03 17:07:11,141 INFO sqlalchemy.engine.Engine SELECT [INFORMATION_SCHEMA].[TABLES].[TABLE_NAME] \n",
      "FROM [INFORMATION_SCHEMA].[TABLES] \n",
      "WHERE ([INFORMATION_SCHEMA].[TABLES].[TABLE_TYPE] = CAST(? AS NVARCHAR(max)) OR [INFORMATION_SCHEMA].[TABLES].[TABLE_TYPE] = CAST(? AS NVARCHAR(max))) AND [INFORMATION_SCHEMA].[TABLES].[TABLE_NAME] = CAST(? AS NVARCHAR(max)) AND [INFORMATION_SCHEMA].[TABLES].[TABLE_SCHEMA] = CAST(? AS NVARCHAR(max))\n",
      "2023-10-03 17:07:11,142 INFO sqlalchemy.engine.Engine [cached since 0.9326s ago] ('BASE TABLE', 'VIEW', 'dependents', 'telco_churn_exp2')\n",
      "2023-10-03 17:07:11,146 INFO sqlalchemy.engine.Engine \n",
      "CREATE TABLE telco_churn_exp2.dependents (\n",
      "\t[Dependents] VARCHAR(max) NULL, \n",
      "\tdependents_id BIGINT NULL\n",
      ")\n",
      "\n",
      "\n",
      "2023-10-03 17:07:11,148 INFO sqlalchemy.engine.Engine [no key 0.00125s] ()\n",
      "2023-10-03 17:07:11,156 INFO sqlalchemy.engine.Engine INSERT INTO telco_churn_exp2.dependents ([Dependents], dependents_id) VALUES (?, ?), (?, ?)\n",
      "2023-10-03 17:07:11,158 INFO sqlalchemy.engine.Engine [generated in 0.00029s (insertmanyvalues) 1/1 (unordered)] ('No', 0, 'Yes', 1)\n",
      "2023-10-03 17:07:11,167 INFO sqlalchemy.engine.Engine ALTER TABLE telco_churn_exp2.dependents ALTER COLUMN dependents_id BIGINT NOT NULL\n",
      "2023-10-03 17:07:11,168 INFO sqlalchemy.engine.Engine [generated in 0.00132s] ()\n",
      "2023-10-03 17:07:11,178 INFO sqlalchemy.engine.Engine ALTER TABLE telco_churn_exp2.dependents ADD CONSTRAINT PK_dependents PRIMARY KEY (dependents_id);\n",
      "2023-10-03 17:07:11,180 INFO sqlalchemy.engine.Engine [generated in 0.00191s] ()\n",
      "2023-10-03 17:07:11,206 INFO sqlalchemy.engine.Engine SELECT [INFORMATION_SCHEMA].[TABLES].[TABLE_NAME] \n",
      "FROM [INFORMATION_SCHEMA].[TABLES] \n",
      "WHERE ([INFORMATION_SCHEMA].[TABLES].[TABLE_TYPE] = CAST(? AS NVARCHAR(max)) OR [INFORMATION_SCHEMA].[TABLES].[TABLE_TYPE] = CAST(? AS NVARCHAR(max))) AND [INFORMATION_SCHEMA].[TABLES].[TABLE_NAME] = CAST(? AS NVARCHAR(max)) AND [INFORMATION_SCHEMA].[TABLES].[TABLE_SCHEMA] = CAST(? AS NVARCHAR(max))\n",
      "2023-10-03 17:07:11,208 INFO sqlalchemy.engine.Engine [cached since 0.9979s ago] ('BASE TABLE', 'VIEW', 'service', 'telco_churn_exp2')\n",
      "2023-10-03 17:07:11,217 INFO sqlalchemy.engine.Engine \n",
      "CREATE TABLE telco_churn_exp2.service (\n",
      "\t[InternetService] VARCHAR(max) NULL, \n",
      "\t[OnlineSecurity] VARCHAR(max) NULL, \n",
      "\t[OnlineBackup] VARCHAR(max) NULL, \n",
      "\t[DeviceProtection] VARCHAR(max) NULL, \n",
      "\t[TechSupport] VARCHAR(max) NULL, \n",
      "\t[StreamingTV] VARCHAR(max) NULL, \n",
      "\tservice_id BIGINT NULL, \n",
      "\tphone_service_type_id BIGINT NULL, \n",
      "\tmultiple_lines_type_id BIGINT NULL, \n",
      "\tstreaming_movies_type_id BIGINT NULL\n",
      ")\n",
      "\n",
      "\n",
      "2023-10-03 17:07:11,219 INFO sqlalchemy.engine.Engine [no key 0.00177s] ()\n",
      "2023-10-03 17:07:11,235 INFO sqlalchemy.engine.Engine INSERT INTO telco_churn_exp2.service ([InternetService], [OnlineSecurity], [OnlineBackup], [DeviceProtection], [TechSupport], [StreamingTV], service_id, phone_service_type_id, multiple_lines_type_id, streaming_movies_type_id) VALUES (?, ?, ?, ?, ?, ? ... 6569 characters truncated ... , ?), (?, ?, ?, ?, ?, ?, ?, ?, ?, ?), (?, ?, ?, ?, ?, ?, ?, ?, ?, ?), (?, ?, ?, ?, ?, ?, ?, ?, ?, ?)\n",
      "2023-10-03 17:07:11,236 INFO sqlalchemy.engine.Engine [generated in 0.00269s (insertmanyvalues) 1/2 (unordered)] ('DSL', 'No', 'Yes', 'No', 'No', 'No', 0, 0, 0, 0, 'DSL', 'Yes', 'No', 'Yes', 'No', 'No', 1, 1, 1, 0, 'DSL', 'Yes', 'Yes', 'No', 'No', 'No', 2, 1, 1, 0, 'DSL', 'Yes', 'No', 'Yes', 'Yes', 'No', 3, 0, 0, 0, 'Fiber optic', 'No', 'No', 'No', 'No', 'No', 4, 1, 1, 0 ... 1990 parameters truncated ... 'DSL', 'No', 'No', 'Yes', 'No', 'No', 204, 0, 0, 0, 'DSL', 'No', 'Yes', 'No', 'No', 'Yes', 205, 0, 0, 1, 'DSL', 'Yes', 'No', 'No', 'Yes', 'Yes', 206, 1, 1, 0, 'DSL', 'Yes', 'Yes', 'No', 'Yes', 'No', 207, 1, 2, 1, 'DSL', 'No', 'No', 'Yes', 'No', 'Yes', 208, 1, 2, 0)\n",
      "2023-10-03 17:07:11,314 INFO sqlalchemy.engine.Engine INSERT INTO telco_churn_exp2.service ([InternetService], [OnlineSecurity], [OnlineBackup], [DeviceProtection], [TechSupport], [StreamingTV], service_id, phone_service_type_id, multiple_lines_type_id, streaming_movies_type_id) VALUES (?, ?, ?, ?, ?, ? ... 3497 characters truncated ... , ?), (?, ?, ?, ?, ?, ?, ?, ?, ?, ?), (?, ?, ?, ?, ?, ?, ?, ?, ?, ?), (?, ?, ?, ?, ?, ?, ?, ?, ?, ?)\n",
      "2023-10-03 17:07:11,315 INFO sqlalchemy.engine.Engine [insertmanyvalues 2/2 (unordered)] ('Fiber optic', 'Yes', 'Yes', 'No', 'No', 'No', 209, 1, 1, 0, 'DSL', 'No', 'Yes', 'Yes', 'No', 'Yes', 210, 1, 2, 1, 'Fiber optic', 'No', 'No', 'Yes', 'Yes', 'No', 211, 1, 1, 0, 'Fiber optic', 'Yes', 'No', 'No', 'Yes', 'No', 212, 1, 2, 0, 'Fiber optic', 'Yes', 'No', 'No', 'No', 'Yes', 213, 1, 2, 0 ... 1030 parameters truncated ... 'DSL', 'No', 'Yes', 'No', 'No', 'Yes', 317, 1, 2, 1, 'Fiber optic', 'Yes', 'Yes', 'Yes', 'Yes', 'No', 318, 1, 1, 0, 'DSL', 'No', 'Yes', 'No', 'Yes', 'Yes', 319, 0, 0, 0, 'Fiber optic', 'Yes', 'No', 'Yes', 'Yes', 'Yes', 320, 1, 1, 0, 'DSL', 'Yes', 'No', 'Yes', 'No', 'Yes', 321, 0, 0, 0)\n",
      "2023-10-03 17:07:11,344 INFO sqlalchemy.engine.Engine ALTER TABLE telco_churn_exp2.service ALTER COLUMN service_id BIGINT NOT NULL\n",
      "2023-10-03 17:07:11,344 INFO sqlalchemy.engine.Engine [generated in 0.00045s] ()\n",
      "2023-10-03 17:07:11,350 INFO sqlalchemy.engine.Engine ALTER TABLE telco_churn_exp2.service ADD CONSTRAINT PK_service PRIMARY KEY (service_id);\n",
      "2023-10-03 17:07:11,350 INFO sqlalchemy.engine.Engine [generated in 0.00046s] ()\n",
      "2023-10-03 17:07:11,365 INFO sqlalchemy.engine.Engine SELECT [INFORMATION_SCHEMA].[TABLES].[TABLE_NAME] \n",
      "FROM [INFORMATION_SCHEMA].[TABLES] \n",
      "WHERE ([INFORMATION_SCHEMA].[TABLES].[TABLE_TYPE] = CAST(? AS NVARCHAR(max)) OR [INFORMATION_SCHEMA].[TABLES].[TABLE_TYPE] = CAST(? AS NVARCHAR(max))) AND [INFORMATION_SCHEMA].[TABLES].[TABLE_NAME] = CAST(? AS NVARCHAR(max)) AND [INFORMATION_SCHEMA].[TABLES].[TABLE_SCHEMA] = CAST(? AS NVARCHAR(max))\n",
      "2023-10-03 17:07:11,365 INFO sqlalchemy.engine.Engine [cached since 1.156s ago] ('BASE TABLE', 'VIEW', 'phone_service_type', 'telco_churn_exp2')\n",
      "2023-10-03 17:07:11,367 INFO sqlalchemy.engine.Engine \n",
      "CREATE TABLE telco_churn_exp2.phone_service_type (\n",
      "\t[PhoneService] VARCHAR(max) NULL, \n",
      "\tphone_service_type_id BIGINT NULL\n",
      ")\n",
      "\n",
      "\n",
      "2023-10-03 17:07:11,367 INFO sqlalchemy.engine.Engine [no key 0.00028s] ()\n",
      "2023-10-03 17:07:11,371 INFO sqlalchemy.engine.Engine INSERT INTO telco_churn_exp2.phone_service_type ([PhoneService], phone_service_type_id) VALUES (?, ?), (?, ?)\n",
      "2023-10-03 17:07:11,372 INFO sqlalchemy.engine.Engine [generated in 0.00008s (insertmanyvalues) 1/1 (unordered)] ('No', 0, 'Yes', 1)\n",
      "2023-10-03 17:07:11,376 INFO sqlalchemy.engine.Engine ALTER TABLE telco_churn_exp2.phone_service_type ALTER COLUMN phone_service_type_id BIGINT NOT NULL\n",
      "2023-10-03 17:07:11,377 INFO sqlalchemy.engine.Engine [generated in 0.00047s] ()\n",
      "2023-10-03 17:07:11,382 INFO sqlalchemy.engine.Engine ALTER TABLE telco_churn_exp2.phone_service_type ADD CONSTRAINT PK_phone_service_type PRIMARY KEY (phone_service_type_id);\n",
      "2023-10-03 17:07:11,382 INFO sqlalchemy.engine.Engine [generated in 0.00030s] ()\n",
      "2023-10-03 17:07:11,388 INFO sqlalchemy.engine.Engine SELECT [INFORMATION_SCHEMA].[TABLES].[TABLE_NAME] \n",
      "FROM [INFORMATION_SCHEMA].[TABLES] \n",
      "WHERE ([INFORMATION_SCHEMA].[TABLES].[TABLE_TYPE] = CAST(? AS NVARCHAR(max)) OR [INFORMATION_SCHEMA].[TABLES].[TABLE_TYPE] = CAST(? AS NVARCHAR(max))) AND [INFORMATION_SCHEMA].[TABLES].[TABLE_NAME] = CAST(? AS NVARCHAR(max)) AND [INFORMATION_SCHEMA].[TABLES].[TABLE_SCHEMA] = CAST(? AS NVARCHAR(max))\n",
      "2023-10-03 17:07:11,388 INFO sqlalchemy.engine.Engine [cached since 1.178s ago] ('BASE TABLE', 'VIEW', 'multiple_lines_type', 'telco_churn_exp2')\n",
      "2023-10-03 17:07:11,389 INFO sqlalchemy.engine.Engine \n",
      "CREATE TABLE telco_churn_exp2.multiple_lines_type (\n",
      "\t[MultipleLines] VARCHAR(max) NULL, \n",
      "\tmultiple_lines_type_id BIGINT NULL\n",
      ")\n",
      "\n",
      "\n",
      "2023-10-03 17:07:11,390 INFO sqlalchemy.engine.Engine [no key 0.00043s] ()\n",
      "2023-10-03 17:07:11,394 INFO sqlalchemy.engine.Engine INSERT INTO telco_churn_exp2.multiple_lines_type ([MultipleLines], multiple_lines_type_id) VALUES (?, ?), (?, ?), (?, ?)\n",
      "2023-10-03 17:07:11,394 INFO sqlalchemy.engine.Engine [generated in 0.00009s (insertmanyvalues) 1/1 (unordered)] ('No phone service', 0, 'No', 1, 'Yes', 2)\n",
      "2023-10-03 17:07:11,399 INFO sqlalchemy.engine.Engine ALTER TABLE telco_churn_exp2.multiple_lines_type ALTER COLUMN multiple_lines_type_id BIGINT NOT NULL\n",
      "2023-10-03 17:07:11,399 INFO sqlalchemy.engine.Engine [generated in 0.00048s] ()\n",
      "2023-10-03 17:07:11,404 INFO sqlalchemy.engine.Engine ALTER TABLE telco_churn_exp2.multiple_lines_type ADD CONSTRAINT PK_multiple_lines_type PRIMARY KEY (multiple_lines_type_id);\n",
      "2023-10-03 17:07:11,405 INFO sqlalchemy.engine.Engine [generated in 0.00040s] ()\n",
      "2023-10-03 17:07:11,412 INFO sqlalchemy.engine.Engine SELECT [INFORMATION_SCHEMA].[TABLES].[TABLE_NAME] \n",
      "FROM [INFORMATION_SCHEMA].[TABLES] \n",
      "WHERE ([INFORMATION_SCHEMA].[TABLES].[TABLE_TYPE] = CAST(? AS NVARCHAR(max)) OR [INFORMATION_SCHEMA].[TABLES].[TABLE_TYPE] = CAST(? AS NVARCHAR(max))) AND [INFORMATION_SCHEMA].[TABLES].[TABLE_NAME] = CAST(? AS NVARCHAR(max)) AND [INFORMATION_SCHEMA].[TABLES].[TABLE_SCHEMA] = CAST(? AS NVARCHAR(max))\n",
      "2023-10-03 17:07:11,412 INFO sqlalchemy.engine.Engine [cached since 1.203s ago] ('BASE TABLE', 'VIEW', 'streaming_movies_type', 'telco_churn_exp2')\n",
      "2023-10-03 17:07:11,414 INFO sqlalchemy.engine.Engine \n",
      "CREATE TABLE telco_churn_exp2.streaming_movies_type (\n",
      "\t[StreamingMovies] VARCHAR(max) NULL, \n",
      "\tstreaming_movies_type_id BIGINT NULL\n",
      ")\n",
      "\n",
      "\n",
      "2023-10-03 17:07:11,415 INFO sqlalchemy.engine.Engine [no key 0.00046s] ()\n",
      "2023-10-03 17:07:11,420 INFO sqlalchemy.engine.Engine INSERT INTO telco_churn_exp2.streaming_movies_type ([StreamingMovies], streaming_movies_type_id) VALUES (?, ?), (?, ?), (?, ?)\n",
      "2023-10-03 17:07:11,420 INFO sqlalchemy.engine.Engine [generated in 0.00013s (insertmanyvalues) 1/1 (unordered)] ('No', 0, 'Yes', 1, 'No internet service', 2)\n",
      "2023-10-03 17:07:11,426 INFO sqlalchemy.engine.Engine ALTER TABLE telco_churn_exp2.streaming_movies_type ALTER COLUMN streaming_movies_type_id BIGINT NOT NULL\n",
      "2023-10-03 17:07:11,427 INFO sqlalchemy.engine.Engine [generated in 0.00084s] ()\n",
      "2023-10-03 17:07:11,434 INFO sqlalchemy.engine.Engine ALTER TABLE telco_churn_exp2.streaming_movies_type ADD CONSTRAINT PK_streaming_movies_type PRIMARY KEY (streaming_movies_type_id);\n",
      "2023-10-03 17:07:11,436 INFO sqlalchemy.engine.Engine [generated in 0.00179s] ()\n",
      "2023-10-03 17:07:11,452 INFO sqlalchemy.engine.Engine ALTER TABLE telco_churn_exp2.customer ADD CONSTRAINT FK_customer_contract_type FOREIGN KEY (contract_type_id) REFERENCES telco_churn_exp2.contract_type(contract_type_id);\n",
      "2023-10-03 17:07:11,454 INFO sqlalchemy.engine.Engine [generated in 0.00259s] ()\n",
      "2023-10-03 17:07:11,485 INFO sqlalchemy.engine.Engine ALTER TABLE telco_churn_exp2.customer ADD CONSTRAINT FK_customer_payment_method_type FOREIGN KEY (payment_method_type_id) REFERENCES telco_churn_exp2.payment_method_type(payment_method_type_id);\n",
      "2023-10-03 17:07:11,486 INFO sqlalchemy.engine.Engine [generated in 0.00093s] ()\n",
      "2023-10-03 17:07:11,505 INFO sqlalchemy.engine.Engine ALTER TABLE telco_churn_exp2.customer ADD CONSTRAINT FK_customer_demographics FOREIGN KEY (demographics_id) REFERENCES telco_churn_exp2.demographics(demographics_id);\n",
      "2023-10-03 17:07:11,506 INFO sqlalchemy.engine.Engine [generated in 0.00061s] ()\n",
      "2023-10-03 17:07:11,521 INFO sqlalchemy.engine.Engine ALTER TABLE telco_churn_exp2.demographics ADD CONSTRAINT FK_demographics_senior_citizen_type FOREIGN KEY (senior_citizen_type_id) REFERENCES telco_churn_exp2.senior_citizen_type(senior_citizen_type_id);\n",
      "2023-10-03 17:07:11,521 INFO sqlalchemy.engine.Engine [generated in 0.00047s] ()\n",
      "2023-10-03 17:07:11,527 INFO sqlalchemy.engine.Engine ALTER TABLE telco_churn_exp2.demographics ADD CONSTRAINT FK_demographics_dependents FOREIGN KEY (dependents_id) REFERENCES telco_churn_exp2.dependents(dependents_id);\n",
      "2023-10-03 17:07:11,528 INFO sqlalchemy.engine.Engine [generated in 0.00043s] ()\n",
      "2023-10-03 17:07:11,534 INFO sqlalchemy.engine.Engine ALTER TABLE telco_churn_exp2.customer ADD CONSTRAINT FK_customer_service FOREIGN KEY (service_id) REFERENCES telco_churn_exp2.service(service_id);\n",
      "2023-10-03 17:07:11,535 INFO sqlalchemy.engine.Engine [generated in 0.00046s] ()\n",
      "2023-10-03 17:07:11,548 INFO sqlalchemy.engine.Engine ALTER TABLE telco_churn_exp2.service ADD CONSTRAINT FK_service_phone_service_type FOREIGN KEY (phone_service_type_id) REFERENCES telco_churn_exp2.phone_service_type(phone_service_type_id);\n",
      "2023-10-03 17:07:11,548 INFO sqlalchemy.engine.Engine [generated in 0.00049s] ()\n",
      "2023-10-03 17:07:11,555 INFO sqlalchemy.engine.Engine ALTER TABLE telco_churn_exp2.service ADD CONSTRAINT FK_service_multiple_lines_type FOREIGN KEY (multiple_lines_type_id) REFERENCES telco_churn_exp2.multiple_lines_type(multiple_lines_type_id);\n",
      "2023-10-03 17:07:11,556 INFO sqlalchemy.engine.Engine [generated in 0.00043s] ()\n",
      "2023-10-03 17:07:11,566 INFO sqlalchemy.engine.Engine ALTER TABLE telco_churn_exp2.service ADD CONSTRAINT FK_service_streaming_movies_type FOREIGN KEY (streaming_movies_type_id) REFERENCES telco_churn_exp2.streaming_movies_type(streaming_movies_type_id);\n",
      "2023-10-03 17:07:11,566 INFO sqlalchemy.engine.Engine [generated in 0.00047s] ()\n",
      "2023-10-03 17:07:11,573 INFO sqlalchemy.engine.Engine ROLLBACK\n"
     ]
    }
   ],
   "source": [
    "norm.persist_entity_set(database_name=\"telco_churn_exp2\")"
   ]
  },
  {
   "cell_type": "code",
   "execution_count": null,
   "id": "3e87dc96-62b7-4f2f-8935-c062cb9ad74f",
   "metadata": {},
   "outputs": [],
   "source": []
  }
 ],
 "metadata": {
  "kernelspec": {
   "display_name": "Python 3 (ipykernel)",
   "language": "python",
   "name": "python3"
  },
  "language_info": {
   "codemirror_mode": {
    "name": "ipython",
    "version": 3
   },
   "file_extension": ".py",
   "mimetype": "text/x-python",
   "name": "python",
   "nbconvert_exporter": "python",
   "pygments_lexer": "ipython3",
   "version": "3.10.12"
  }
 },
 "nbformat": 4,
 "nbformat_minor": 5
}
